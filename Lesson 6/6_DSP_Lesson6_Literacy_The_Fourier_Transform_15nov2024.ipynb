{
 "cells": [
  {
   "cell_type": "markdown",
   "metadata": {},
   "source": [
    "#### Digital Signal Processing Courseware: An Introduction (copyright © 2024)\n",
    "## Authors: J. Christopher Edgar and Gregory A. Miller\n",
    "\n",
    "Originally written in Mathematica by J. Christopher Edgar. Conversion to Jupyter Notebook by Song Liu.\n",
    "\n",
    "The authors of this courseware are indebted to Prof. Bruce Carpenter (University of Illinois Urbana-Champaign). Bruce inspired the creation of this courseware, he consulted with the authors as this courseware was being developed, and he provided the original version of the code and text for several sections of this courseware (e.g. the section on complex numbers and the section on normal distributions). "
   ]
  },
  {
   "cell_type": "markdown",
   "metadata": {},
   "source": [
    "# <font color=red>DSP.06 The Fourier Transform</font>"
   ]
  },
  {
   "cell_type": "markdown",
   "metadata": {},
   "source": [
    "# <font color=red>LITERACY</font>"
   ]
  },
  {
   "cell_type": "markdown",
   "metadata": {},
   "source": [
    "## <font color=red>L.1) Putting it together: Epoch Length and Sampling Rate</font>"
   ]
  },
  {
   "cell_type": "markdown",
   "metadata": {},
   "source": [
    "What sampling frequency (fs) and what size epoch length do you need to examine activity as high as\n",
    "250 Hz and with a 3 Hz resolution?\n",
    "\n",
    "\n",
    "\n"
   ]
  },
  {
   "cell_type": "code",
   "execution_count": null,
   "metadata": {},
   "outputs": [],
   "source": [
    "\n"
   ]
  },
  {
   "cell_type": "markdown",
   "metadata": {},
   "source": [
    "## <font color=red>L.2 Putting it together: Epoch Length and Sampling Rate</font>"
   ]
  },
  {
   "cell_type": "markdown",
   "metadata": {},
   "source": [
    "What sampling frequency (fs) and what size epoch length do you need to examine activity as high as\n",
    "1050 Hz and with a 0.5 Hz resolution?\n",
    "\n"
   ]
  },
  {
   "cell_type": "code",
   "execution_count": null,
   "metadata": {},
   "outputs": [],
   "source": [
    "\n"
   ]
  },
  {
   "cell_type": "markdown",
   "metadata": {},
   "source": [
    "## <font color=red>L.3 Putting it together: Epoch Length and Sampling Rate</font>"
   ]
  },
  {
   "cell_type": "markdown",
   "metadata": {},
   "source": [
    "If your epoch length (T) is 5 seconds and fs = 200 Hz, how many data points are collected?\n",
    "\n",
    "What is the highest frequency we can reliably examine?\n",
    "\n",
    "Finally, what is the frequency resolution?"
   ]
  },
  {
   "cell_type": "markdown",
   "metadata": {},
   "source": [
    "It may seem counter-intuitive that increasing the sample rate doesn't improve the frequency resolution.\n",
    "What increasing the sample rate does is extend the number of harmonics, or bins, in the\n",
    "spectrum that the Fourier Transform computes. Thus, to represent a broader range of frequencies,\n",
    "one should increase the sampling rate. To improve the frequency resolution (i.e., to narrow each frequency bin), one should increase the epoch length."
   ]
  },
  {
   "cell_type": "markdown",
   "metadata": {},
   "source": [
    "## <font color=red>L.4 Stationary versus non-stationary timeseries</font>"
   ]
  },
  {
   "cell_type": "markdown",
   "metadata": {},
   "source": [
    "Draw a stationary timeseries on the left and a non-stationary timeseries on the right.\n",
    "\n",
    "\n",
    "\n",
    "\n",
    "\n",
    "\n",
    "\n",
    "\n"
   ]
  },
  {
   "cell_type": "code",
   "execution_count": null,
   "metadata": {},
   "outputs": [],
   "source": [
    "\n",
    "\n",
    "\n",
    "\n",
    "\n"
   ]
  },
  {
   "cell_type": "markdown",
   "metadata": {},
   "source": [
    "## <font color=red>L.5 Stationary versus Non-stationary Timeseries</font>"
   ]
  },
  {
   "cell_type": "markdown",
   "metadata": {},
   "source": [
    "Write a sentence or two noting why the Fourier Transform could have problems correctly estimating\n",
    "the magnitude of activity given a non-stationary timeseries. (Remember: the model will be valid in the sense that it will represent all the information in the digitized timeseries, because an Inverse Fourier Transform will faithfully recreate the timeseries. But the spectrum that the Discrete Fourier Transform will use to represent that information may not consist of the frequencies, amplitudes, and phases in the digitized timeseries. If you're asking Fourier to build a model to represent data with fidelity, it'll deliver for you. If you're asking Fourier to tell you wnat frequencies, amplitudes, and phases are in your timeseries...consider the issues that Lesson 6 has discussed.)"
   ]
  },
  {
   "cell_type": "code",
   "execution_count": null,
   "metadata": {},
   "outputs": [],
   "source": [
    "\n",
    "\n",
    "\n"
   ]
  }
 ],
 "metadata": {
  "kernelspec": {
   "display_name": "Python 3 (ipykernel)",
   "language": "python",
   "name": "python3"
  },
  "language_info": {
   "codemirror_mode": {
    "name": "ipython",
    "version": 3
   },
   "file_extension": ".py",
   "mimetype": "text/x-python",
   "name": "python",
   "nbconvert_exporter": "python",
   "pygments_lexer": "ipython3",
   "version": "3.11.5"
  }
 },
 "nbformat": 4,
 "nbformat_minor": 4
}
