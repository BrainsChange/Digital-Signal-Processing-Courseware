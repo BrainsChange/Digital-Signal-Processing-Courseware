{
 "cells": [
  {
   "cell_type": "markdown",
   "metadata": {},
   "source": [
    "#### Digital Signal Processing Courseware: An Introduction (copyright © 2024)\n",
    "## Authors: J. Christopher Edgar and Gregory A. Miller\n",
    "\n",
    "Originally written in Mathematica by J. Christopher Edgar. Conversion to Jupyter Notebook by Song Liu.\n",
    "\n",
    "The authors of this courseware are indebted to Prof. Bruce Carpenter (University of Illinois Urbana-Champaign). Bruce inspired the creation of this courseware, he consulted with the authors as this courseware was being developed, and he provided the original version of the code and text for several sections of this courseware (e.g. the section on complex numbers and the section on normal distributions). "
   ]
  },
  {
   "cell_type": "markdown",
   "metadata": {},
   "source": [
    "# <font color=red>The Fourier Transform</font>"
   ]
  },
  {
   "cell_type": "markdown",
   "metadata": {},
   "source": [
    "# <font color=red>Give it a Try</font>\n",
    "# <font color=red>Part 3</font>"
   ]
  },
  {
   "cell_type": "markdown",
   "metadata": {},
   "source": [
    "### Setup"
   ]
  },
  {
   "cell_type": "code",
   "execution_count": null,
   "metadata": {},
   "outputs": [],
   "source": [
    "# general imports\n",
    "import numpy as np\n",
    "import matplotlib.pyplot as plt\n",
    "from scipy.fft import fft, fftfreq\n",
    "import math\n",
    "\n",
    "import warnings\n",
    "warnings.filterwarnings('ignore')\n",
    "\n",
    "# Figure size and general parameters\n",
    "plt.rc(\"figure\", figsize=(8, 6))\n",
    "\n",
    "#function to create time course figure\n",
    "#one waveform\n",
    "def make_plot_1(x1,y1,type=\"b\"): \n",
    "    plt.plot(x1, y1,type)\n",
    "    plt.margins(x=0, y=0)\n",
    "    plt.axhline(y=0, color='k')\n",
    "    plt.tick_params(labelbottom = False, bottom = False)\n",
    "    \n",
    "#two overlaid waveforms with red and blue   \n",
    "def make_plot_2(x1,y1,type1,x2,y2,type2): \n",
    "    plt.plot(x1, y1, type1)\n",
    "    plt.plot(x2, y2, type2)\n",
    "    plt.margins(x=0, y=0)\n",
    "    plt.axhline(y=0, color='k')\n",
    "    plt.tick_params(labelbottom = False, bottom = False)\n",
    "    \n",
    "DURATION = 1    \n",
    "#function to create frequency domain figure\n",
    "#one waveform\n",
    "def make_plot_freq_1(x1,SAMPLE_RATE): \n",
    "    N = SAMPLE_RATE * DURATION\n",
    "    Nhalf = math.ceil(N/2)\n",
    "    yf = fft(x1)\n",
    "    xf = fftfreq(N, 1 / SAMPLE_RATE)\n",
    "    yf = yf[0:Nhalf]\n",
    "    xf = xf[0:Nhalf]\n",
    "    plt.plot(xf, np.abs(yf)) \n",
    "    \n",
    "def round_complex(x):\n",
    "    return complex(np.round(x.real,4),np.round(x.imag,4))"
   ]
  },
  {
   "cell_type": "markdown",
   "metadata": {},
   "source": [
    "## <font color=red>DSP.06.G3) Filtering Using the Forward and Inverse Fourier Transform</font>"
   ]
  },
  {
   "cell_type": "markdown",
   "metadata": {},
   "source": [
    "### <font color=red>DSP.06.G3.a) Filtering via Fourier Transforms</font>"
   ]
  },
  {
   "cell_type": "markdown",
   "metadata": {},
   "source": [
    "Lessons 3 and 4 examined filtering via the use of convolution. There are, however, many different\n",
    "filtering techniques. All, however, involve removing a portion of the recorded signal - either activity that\n",
    "is considered noise (e.g., 60 Hz activity) or some signal components, to help focus on others.\n",
    "\n",
    "Here is a filtering method based on the Discrete Fourier Transform:\n",
    "\n",
    "First, a Direct Fourier Transform (DFT) converts the original timeseries into the frequency domain."
   ]
  },
  {
   "cell_type": "markdown",
   "metadata": {},
   "source": [
    "Second, the elements of the DFT that correspond to frequencies to be eliminated are set to zero."
   ]
  },
  {
   "cell_type": "markdown",
   "metadata": {},
   "source": [
    "Third, an Inverse Fourier Transform recreates the original timeseries, minus those frequencies set to\n",
    "zero."
   ]
  },
  {
   "cell_type": "markdown",
   "metadata": {},
   "source": [
    "Give it a try. Consider the following timeseries and frequency plot."
   ]
  },
  {
   "cell_type": "code",
   "execution_count": null,
   "metadata": {},
   "outputs": [],
   "source": [
    "time = np.arange(0,1,1/40)\n",
    "timeseries = np.sin(2*np.pi * 10 * time) + np.sin(2*np.pi * 2 * time)\n",
    "\n",
    "make_plot_1(time,timeseries)\n",
    "plt.text(1,0,'1 second',fontsize=15)\n",
    "plt.show()"
   ]
  },
  {
   "cell_type": "code",
   "execution_count": null,
   "metadata": {},
   "outputs": [],
   "source": [
    "make_plot_freq_1(timeseries,40)\n",
    "\n",
    "# Adding text to the figure\n",
    "plt.text(20,0,'Hz',fontsize=15)\n",
    "plt.show()"
   ]
  },
  {
   "cell_type": "markdown",
   "metadata": {},
   "source": [
    "Peaks at 2 and 10 Hz are observed. Suppose the 2 Hz activity is regarded as unwanted noise. Can we use the procedure outlined above to\n",
    "remove 2 Hz activity?"
   ]
  },
  {
   "cell_type": "markdown",
   "metadata": {},
   "source": [
    "Answer: Sure. Here are the steps:\n",
    "\n",
    "First, a Direct Fourier Transform (DFT) converts the original timeseries into the frequency domain.\n",
    "\n",
    "Second, the elements of the DFT that correspond to frequencies to be eliminated are set to zero.\n",
    "\n",
    "Third, an Inverse Fourier Transform recreates the original time series, minus those frequencies set to\n",
    "zero."
   ]
  },
  {
   "cell_type": "markdown",
   "metadata": {},
   "source": [
    "Apply the steps one at a time.\n",
    "\n",
    "First, examine the output of the DFT and find the element corresponding to 2 Hz activity. Remember\n",
    "that the first number in the vector represents the mean (DC offset), the second number the first frequency,\n",
    "the third number the second frequency, etc... Because the epoch length is 1 second, each\n",
    "frequency bin represents activity in 1 Hz steps."
   ]
  },
  {
   "cell_type": "code",
   "execution_count": null,
   "metadata": {},
   "outputs": [],
   "source": [
    "yf = fft(timeseries)\n",
    "yf2 = []\n",
    "for xx in yf:\n",
    "   yf2.append(round_complex(xx))\n",
    "yf2"
   ]
  },
  {
   "cell_type": "code",
   "execution_count": null,
   "metadata": {},
   "outputs": [],
   "source": [
    "len(yf2)"
   ]
  },
  {
   "cell_type": "markdown",
   "metadata": {},
   "source": [
    "Next, set the elements corresponding to 2 Hz activity to zero."
   ]
  },
  {
   "cell_type": "code",
   "execution_count": null,
   "metadata": {},
   "outputs": [],
   "source": [
    "yf2[2] = 0\n",
    "yf2[38] = 0\n",
    "yf2"
   ]
  },
  {
   "cell_type": "markdown",
   "metadata": {},
   "source": [
    "Finally, apply the inverse Fourier transform to recreate the original timeseries, minus those frequencies\n",
    "for which the direct transform was set to zero."
   ]
  },
  {
   "cell_type": "code",
   "execution_count": null,
   "metadata": {},
   "outputs": [],
   "source": [
    "from scipy.fft import ifft\n",
    "\n",
    "timeseries2 = ifft(yf2)\n",
    "timeseries2"
   ]
  },
  {
   "cell_type": "markdown",
   "metadata": {},
   "source": [
    "Now plot the filtered timeseries."
   ]
  },
  {
   "cell_type": "code",
   "execution_count": null,
   "metadata": {},
   "outputs": [],
   "source": [
    "make_plot_1(time,timeseries2)\n",
    "plt.text(1,0,'1 second',fontsize=15)\n",
    "plt.show()"
   ]
  },
  {
   "cell_type": "markdown",
   "metadata": {},
   "source": [
    "And finally, compare the unfiltered and filtered timeseries."
   ]
  },
  {
   "cell_type": "code",
   "execution_count": null,
   "metadata": {},
   "outputs": [],
   "source": [
    "make_plot_2(time,timeseries,'b',time,timeseries2,'r')\n",
    "\n",
    "plt.text(1,0,'1 seccond',fontsize=15)\n",
    "plt.show()"
   ]
  },
  {
   "cell_type": "markdown",
   "metadata": {},
   "source": [
    "In red we see just a 10 Hz time series. Looks like we successfully removed 2 Hz activity."
   ]
  },
  {
   "cell_type": "markdown",
   "metadata": {},
   "source": [
    "### <font color=red>DSP.06.G3.b) Filtering via Fourier Transforms</font>"
   ]
  },
  {
   "cell_type": "markdown",
   "metadata": {},
   "source": [
    "Now you give it a try.\n",
    "\n",
    "Consider the following timeseries and the frequency plot."
   ]
  },
  {
   "cell_type": "code",
   "execution_count": null,
   "metadata": {},
   "outputs": [],
   "source": [
    "time = np.arange(0,1,1/40)\n",
    "timeseries = np.sin(2*np.pi * 3 * time) + np.sin(2*np.pi * 6 * time) + np.sin(2*np.pi * 9 * time)\n",
    "\n",
    "make_plot_1(time,timeseries)\n",
    "plt.text(1,0,'1 second',fontsize=15)\n",
    "plt.show()"
   ]
  },
  {
   "cell_type": "code",
   "execution_count": null,
   "metadata": {},
   "outputs": [],
   "source": [
    "make_plot_freq_1(timeseries,40)\n",
    "\n",
    "# Adding text to the figure\n",
    "plt.text(20,0,'Hz',fontsize=15)\n",
    "plt.show()"
   ]
  },
  {
   "cell_type": "markdown",
   "metadata": {},
   "source": [
    "Suppose we want to examine only 3 and 9 Hz activity. Use the procedure outlined above to remove the\n",
    "6 Hz 'noise' activity."
   ]
  },
  {
   "cell_type": "markdown",
   "metadata": {},
   "source": [
    "Remember, here are the three steps :\n",
    "    \n",
    "First, a Direct Fourier Transform (DFT) converts the original timeseries into the frequency domain.\n",
    "\n",
    "Second, the elements of the DFT that correspond to frequencies to be eliminated are set to zero.\n",
    "\n",
    "Third, an Inverse Fourier Transform recreates the original time series, minus those frequencies set to\n",
    "zero."
   ]
  }
 ],
 "metadata": {
  "kernelspec": {
   "display_name": "Python 3 (ipykernel)",
   "language": "python",
   "name": "python3"
  },
  "language_info": {
   "codemirror_mode": {
    "name": "ipython",
    "version": 3
   },
   "file_extension": ".py",
   "mimetype": "text/x-python",
   "name": "python",
   "nbconvert_exporter": "python",
   "pygments_lexer": "ipython3",
   "version": "3.11.4"
  }
 },
 "nbformat": 4,
 "nbformat_minor": 4
}
