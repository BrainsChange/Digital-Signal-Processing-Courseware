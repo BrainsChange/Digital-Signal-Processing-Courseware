{
 "cells": [
  {
   "cell_type": "markdown",
   "metadata": {},
   "source": [
    "#### Digital Signal Processing Courseware: An Introduction (copyright © 2024)\n",
    "## Authors: J. Christopher Edgar and Gregory A. Miller\n",
    "\n",
    "Originally written in Mathematica by J. Christopher Edgar. Conversion to Jupyter Notebook by Song Liu.\n",
    "\n",
    "The authors of this courseware are indebted to Prof. Bruce Carpenter (University of Illinois Urbana-Champaign). Bruce inspired the creation of this courseware, he consulted with the authors as this courseware was being developed, and he provided the original version of the code and text for several sections of this courseware (e.g. the section on complex numbers and the section on normal distributions). "
   ]
  },
  {
   "cell_type": "markdown",
   "metadata": {},
   "source": [
    "# <font color=red>DSP.06 The Fourier Transform</font>"
   ]
  },
  {
   "cell_type": "markdown",
   "metadata": {},
   "source": [
    "# <font color=red>BASICS</font>"
   ]
  },
  {
   "cell_type": "markdown",
   "metadata": {},
   "source": [
    "### Setup"
   ]
  },
  {
   "cell_type": "code",
   "execution_count": null,
   "metadata": {},
   "outputs": [],
   "source": [
    "# general imports\n",
    "import numpy as np\n",
    "import matplotlib.pyplot as plt\n",
    "from matplotlib import image as img\n",
    "from matplotlib import cm\n",
    "from mpl_toolkits import mplot3d\n",
    "from scipy.fft import fft, fftfreq\n",
    "from sympy import Symbol, sin, series\n",
    "from sympy import roots, solve_poly_system\n",
    "import scipy.special\n",
    "import matplotlib.patches as patches\n",
    "import math\n",
    "import cmath\n",
    "import pandas as pd\n",
    "\n",
    "import warnings\n",
    "warnings.filterwarnings('ignore')\n",
    "\n",
    "# Figure size \n",
    "plt.rc(\"figure\", figsize=(8, 6))\n",
    "\n",
    "#function to create time course figure\n",
    "#one waveform\n",
    "def make_plot_1(x1,y1,type=\"b\"): \n",
    "    plt.plot(x1, y1,type)\n",
    "    plt.margins(x=0, y=0)\n",
    "    plt.axhline(y=0, color='k')\n",
    "    plt.tick_params(labelbottom = False, bottom = False)\n",
    "    \n",
    "#two overlaid waveforms with red and blue   \n",
    "def make_plot_2(x1,y1,type1,x2,y2,type2): \n",
    "    plt.plot(x1, y1, type1)\n",
    "    plt.plot(x2, y2, type2)\n",
    "    plt.margins(x=0, y=0)\n",
    "    plt.axhline(y=0, color='k')\n",
    "    plt.tick_params(labelbottom = False, bottom = False)\n",
    "    \n",
    "#three overlaid waveforms with red, blue and green   \n",
    "def make_plot_3(x1,y1,type1,x2,y2,type2,x3,y3,type3): \n",
    "    plt.plot(x1, y1, type1)\n",
    "    plt.plot(x2, y2, type2)\n",
    "    plt.plot(x3, y3, type3)\n",
    "    plt.margins(x=0, y=0)\n",
    "    plt.axhline(y=0, color='k')\n",
    "    plt.tick_params(labelbottom = False, bottom = False)\n",
    "    \n",
    "def make_plot_3d(ax,x,y,z):    \n",
    "    ax.contour3D(x, y, z, 50, cmap=cm.coolwarm)\n",
    "    ax.set_xlabel('x')\n",
    "    ax.set_ylabel('y')\n",
    "    ax.set_zlabel('z')\n",
    "    \n",
    "def make_plot_freq_1(x1,sample_rate, duration=1): \n",
    "    N = sample_rate * duration\n",
    "    Nhalf = math.ceil(N/2)\n",
    "    yf = fft(x1)\n",
    "    xf = fftfreq(N, 1 / sample_rate)\n",
    "    yf = yf[0:Nhalf]\n",
    "    xf = xf[0:Nhalf]\n",
    "    plt.plot(xf, np.abs(yf))\n",
    "    \n",
    "#two spectrums\n",
    "def make_plot_freq_2(x1,x2,sample_rate, duration=1): \n",
    "    N = sample_rate * duration\n",
    "    Nhalf = math.ceil(N/2)\n",
    "    yf1 = fft(x1)\n",
    "    yf2 = fft(x2)\n",
    "    xf = fftfreq(N, 1 / sample_rate)\n",
    "\n",
    "    yf1 = yf1[0:Nhalf]\n",
    "    yf2 = yf2[0:Nhalf]\n",
    "    xf = xf[0:Nhalf]\n",
    "\n",
    "    plt.plot(xf, np.abs(yf1))\n",
    "    plt.plot(xf, np.abs(yf2), color = 'r')\n",
    "    \n",
    "def make_imshow(x):\n",
    "    plt.imshow(x,cmap='Greys_r')\n",
    "    plt.tick_params(labelbottom = False, bottom = False)\n",
    "    plt.tick_params(labelleft = False, left = False)\n",
    "    \n",
    "def make_imshow_color(x):\n",
    "    plt.imshow(x)\n",
    "    plt.tick_params(labelbottom = False, bottom = False)\n",
    "    plt.tick_params(labelleft = False, left = False)\n",
    "    \n",
    "def round_complex(x):\n",
    "    return complex(np.round(x.real,4),np.round(x.imag,4))\n",
    "\n",
    "unknownfreq1 = 6\n",
    "unknownmag1 = 3\n",
    "unknownphase1 =np.pi/2\n",
    "unknownfreq2 = 4\n",
    "unknownmag2 = 24\n",
    "unknownphase2 =np.pi/4\n",
    "unknownfreq3 = 5\n",
    "unknownmag3 = 31\n",
    "unknownphase3 =0\n"
   ]
  },
  {
   "cell_type": "markdown",
   "metadata": {},
   "source": [
    "In Lesson 5, we learned how to determine the frequencies (and their associated magnitudes and\n",
    "phases) composing a timeseries or a spatial image. In this Lesson, we will examine the procedure\n",
    "most commonly used to transfer data from the time or spatial domain to the frequency domain. This\n",
    "procedure, called the Fourier Transform, is one of the most important mathematical discoveries. We\n",
    "will examine how the Fourier Transform works. By the end of this lesson, you will be a sophisticated\n",
    "Fourier Transform user. You will probably find this lesson easier than the previous lesson, because here\n",
    "we only need to slightly extend what you already know. But hey, is this extension useful!"
   ]
  },
  {
   "cell_type": "markdown",
   "metadata": {},
   "source": [
    "## <font color=red>DSP.06.B1) Examining the Frequencies Composing a Timeseries</font>"
   ]
  },
  {
   "cell_type": "markdown",
   "metadata": {},
   "source": [
    "### <font color=red>DSP.06.B1.a) Using complex exponentials to determine magnitude and phase - doing it the long way</font>"
   ]
  },
  {
   "cell_type": "markdown",
   "metadata": {},
   "source": [
    "Recall the Euler Identities:\n",
    "\n",
    " $e^{i x}$ = cos[x] + $i$sin[x]\n",
    "\n",
    "and\n",
    "\n",
    " $e^{-i x}$ = cos[x] - $i$sin[x]\n",
    " \n",
    " where $i$ = $\\sqrt{-1}$ "
   ]
  },
  {
   "cell_type": "markdown",
   "metadata": {},
   "source": [
    "Use complex exponentials to determine the magnitude and phase of this timeseries."
   ]
  },
  {
   "cell_type": "code",
   "execution_count": null,
   "metadata": {},
   "outputs": [],
   "source": [
    "time = np.arange(0,1,0.001)\n",
    "timeseries = unknownmag1 * np.sin(2*np.pi * unknownfreq1 * time +unknownphase1) + \\\n",
    "            unknownmag2 * np.sin(2*np.pi * unknownfreq2 * time +unknownphase2) + \\\n",
    "            unknownmag3 * np.sin(2*np.pi * unknownfreq3 * time +unknownphase3)\n",
    "\n",
    "make_plot_1(time,timeseries)\n",
    "plt.text(1,0,'1 sec',fontsize=15)\n",
    "plt.show()"
   ]
  },
  {
   "cell_type": "code",
   "execution_count": null,
   "metadata": {},
   "outputs": [],
   "source": [
    "amp_complex = np.exp(2*np.pi * 1j * time) \n",
    "amplitude_complex = timeseries * amp_complex\n",
    "spectrum = sum(amplitude_complex)*0.001/ 0.5\n",
    "round(abs(spectrum),5)"
   ]
  },
  {
   "cell_type": "markdown",
   "metadata": {},
   "source": [
    "No 1 Hz activity.\n",
    "\n",
    "Set the frequency $w$ =2 to look for 2 Hz activity."
   ]
  },
  {
   "cell_type": "code",
   "execution_count": null,
   "metadata": {},
   "outputs": [],
   "source": [
    "amp_complex = np.exp(2*np.pi * 2j * time) \n",
    "amplitude_complex = timeseries * amp_complex\n",
    "spectrum = sum(amplitude_complex)*0.001/ 0.5\n",
    "round(abs(spectrum),5)"
   ]
  },
  {
   "cell_type": "markdown",
   "metadata": {},
   "source": [
    "No 2 Hz activity.\n",
    "\n",
    "Set $w$ = 3."
   ]
  },
  {
   "cell_type": "code",
   "execution_count": null,
   "metadata": {},
   "outputs": [],
   "source": [
    "amp_complex = np.exp(2*np.pi * 3j * time) \n",
    "amplitude_complex = timeseries * amp_complex\n",
    "spectrum = sum(amplitude_complex)*0.001/ 0.5\n",
    "round(abs(spectrum),5)"
   ]
  },
  {
   "cell_type": "markdown",
   "metadata": {},
   "source": [
    "No 3 Hz activity.\n",
    "\n",
    "Set $w$ = 4."
   ]
  },
  {
   "cell_type": "code",
   "execution_count": null,
   "metadata": {},
   "outputs": [],
   "source": [
    "amp_complex = np.exp(2*np.pi * 4j * time) \n",
    "amplitude_complex = timeseries * amp_complex\n",
    "spectrum = sum(amplitude_complex)*0.001/ 0.5\n",
    "spectrum"
   ]
  },
  {
   "cell_type": "markdown",
   "metadata": {},
   "source": [
    "There is activity at 4 Hz.\n",
    "\n",
    "Compute the magnitude and phase of 4 Hz activity."
   ]
  },
  {
   "cell_type": "code",
   "execution_count": null,
   "metadata": {},
   "outputs": [],
   "source": [
    "round(abs(spectrum),5)"
   ]
  },
  {
   "cell_type": "code",
   "execution_count": null,
   "metadata": {},
   "outputs": [],
   "source": [
    "point_x = np.real(spectrum)\n",
    "point_y = np.imag(spectrum)\n",
    "phaseradians = round(np.arctan(point_x/point_y),5)\n",
    "phasedegrees = round(phaseradians * 180 / np.pi,2)\n",
    "phasedegrees"
   ]
  },
  {
   "cell_type": "markdown",
   "metadata": {},
   "source": [
    "The output of the 'abs' function indicates the magnitude of 4 Hz activity is 24.\n",
    "The 'arctan' function indicates that the phase of 4 Hz activity is 45°.\n",
    "Keep going.\n",
    "\n",
    "Set $w$ = 5."
   ]
  },
  {
   "cell_type": "code",
   "execution_count": null,
   "metadata": {},
   "outputs": [],
   "source": [
    "amp_complex = np.exp(2*np.pi * 5j * time) \n",
    "amplitude_complex = timeseries * amp_complex\n",
    "spectrum = sum(amplitude_complex)*0.001/ 0.5\n",
    "spectrum"
   ]
  },
  {
   "cell_type": "markdown",
   "metadata": {},
   "source": [
    "There is activity at 5 Hz.\n",
    "\n",
    "Compute the magnitude and phase of the 5 Hz activity."
   ]
  },
  {
   "cell_type": "code",
   "execution_count": null,
   "metadata": {},
   "outputs": [],
   "source": [
    "round(abs(spectrum),5)"
   ]
  },
  {
   "cell_type": "code",
   "execution_count": null,
   "metadata": {},
   "outputs": [],
   "source": [
    "point_x = np.real(spectrum)\n",
    "point_y = np.imag(spectrum)\n",
    "phaseradians = round(np.arctan(point_x/point_y),5)\n",
    "phasedegrees = round(phaseradians * 180 / np.pi,2)\n",
    "phasedegrees"
   ]
  },
  {
   "cell_type": "markdown",
   "metadata": {},
   "source": [
    "The output of the 'abs' function indicates the magnitude of 5 Hz activity is 31.\n",
    "The 'arctan' function indicates that the phase of 5 Hz activity is 0°.\n",
    "\n",
    "Set $w$ = 6."
   ]
  },
  {
   "cell_type": "code",
   "execution_count": null,
   "metadata": {},
   "outputs": [],
   "source": [
    "amp_complex = np.exp(2*np.pi * 6j * time) \n",
    "amplitude_complex = timeseries * amp_complex\n",
    "spectrum = sum(amplitude_complex)*0.001/ 0.5\n",
    "round(spectrum)"
   ]
  },
  {
   "cell_type": "markdown",
   "metadata": {},
   "source": [
    "There is 6 Hz activity.\n",
    "\n",
    "Compute the magnitude and phase of the 6 Hz activity."
   ]
  },
  {
   "cell_type": "code",
   "execution_count": null,
   "metadata": {},
   "outputs": [],
   "source": [
    "round(abs(spectrum),5)"
   ]
  },
  {
   "cell_type": "code",
   "execution_count": null,
   "metadata": {},
   "outputs": [],
   "source": [
    "point_x = np.real(spectrum)\n",
    "point_y = np.imag(spectrum)\n",
    "phaseradians = round(np.arctan(point_x/point_y),5)\n",
    "phasedegrees = round(phaseradians * 180 / np.pi,2)\n",
    "phasedegrees"
   ]
  },
  {
   "cell_type": "markdown",
   "metadata": {},
   "source": [
    "The output of the 'abs' command indicates the magnitude of 6 Hz activity is 3.\n",
    "The 'arctan' command indicates that the phase of 6 Hz activity is 90°.\n",
    "\n",
    "We can stop at 6 Hz because we know from the code that this timeseries is composed of just three\n",
    "frequencies."
   ]
  },
  {
   "cell_type": "markdown",
   "metadata": {},
   "source": [
    "### <font color=red>DSP.06.B1.b) Using complex exponentials to determine magnitude and phase - doing it the long way</font>"
   ]
  },
  {
   "cell_type": "markdown",
   "metadata": {},
   "source": [
    "Here is a timeseries dataset (these data were digitized at 400 Hz, and the length of the epoch is 1\n",
    "second)."
   ]
  },
  {
   "cell_type": "code",
   "execution_count": null,
   "metadata": {},
   "outputs": [],
   "source": [
    "data = np.array([48.991378028648455, 48.390563096386465, 48.103408911379105,\n",
    "33.76228709107139, -0.9801374162297645, -22.457288912524753, -4.995630225091868,\n",
    "25.768288661355413, 36.20355681602837, 32.69058361593039, 29.6263198466567,\n",
    "12.738622534432494, -24.232999844663066, -47.54729610867588, -31.471245039598905,\n",
    "-1.5994993303738774, 8.45967261566186, 5.089196245934524, 2.6683725222686094,\n",
    "-13.111963060087422, -48.56710070811715, -70.02603664946089, -51.838480481405284,\n",
    "-19.6908203237655, -7.288217090222255, -8.345738706382626, -8.579082224972462,\n",
    "-22.385448918009907, -56.1575338507298, -76.28788336948384, -57.17326142331313,\n",
    "-24.528665264847156, -12.068242856194441, -13.496071691571695,\n",
    "-14.497361711662593, -29.420627343519158, -64.5937361873551, -86.33100210522346,\n",
    "-68.94084982090804, -38.04355436299916, -27.25615276223265, -30.187321537395036,\n",
    "-32.432612110631936, -48.260421382370936, -83.93144688803098, -105.70865246743617,\n",
    "-87.86715190173732, -56.01342133809717, -43.7708763897362, -44.774579468168824,\n",
    "-44.66547622084393, -57.77457946816883, -90.43992394804833, -109.01342133809717,\n",
    "-87.86715190173732, -52.70865246743617, -37.26239932971883, -35.26042138237096,\n",
    "-32.43261211063197, -43.18732153739505, -73.92520032054477, -91.04355436299917,\n",
    "-68.94084982090803, -33.33100210522348, -17.924688629042958, -16.420627343519158,\n",
    "-14.497361711662574, -26.496071691571693, -58.73729041450656, -77.52866526484718,\n",
    "-57.17326142331313, -23.287883369483865, -9.488486292417644, -9.385448918009917,\n",
    "-8.579082224972439, -21.345738706382605, -53.95726464853442, -72.69082032376548,\n",
    "-51.8384804814053, -17.026036649460885, -1.898053149805012, -0.11196306008741086,\n",
    "2.6683725222685757, -7.9108037540654825, -38.2093749426503, -54.59949933037389,\n",
    "-31.47124503959893, 5.452703891324104, 22.43604771364904, 25.738622534432512,\n",
    "29.6263198466567, 19.690583615930407, -10.46549074228377, -27.231711338644573,\n",
    "-4.995630225091891, 30.54271108747524, 45.68891014208236, 46.76228709107139,\n",
    "48.10340891137909, 35.39056309638647, 2.322330470336312, -17.390852524324405,\n",
    "1.9643874497834641, 34.785510349549604, 47.46823027167586, 46.41094601666506,\n",
    "46.01907174782953, 32.01890890257502, -1.8616832487282569, -21.902849363896053,\n",
    "-2.4019562470204496, 31.008094021686006, 44.67438271814678, 44.93051362557835,\n",
    "46.10372179638185, 33.83207731063105, 1.7489026552686502, -16.52278324679816,\n",
    "4.624614753986416, 39.46897456210164, 54.27774947867579, 55.31787863965021,\n",
    "56.86572402065012, 44.526441656970654, 11.919815442774237, -7.3246924924478085,\n",
    "12.426708932943637, 45.49679117378558, 58.21476129398312, 56.923628964814085,\n",
    "55.9869996216546, 41.1048320253671, 5.995338735626045, -15.614053056291343,\n",
    "2.003873391532952, 33.256883155862496, 44.54719723450923, 42.27580439470092,\n",
    "40.84681874826837, 25.981522643946608, -8.600655208355814, -29.191270430624954,\n",
    "-10.10154476231427, 23.019940166497047, 36.503437938904774, 36.665281983069704,\n",
    "37.815699589791265, 25.576691553203204, -6.432931793393035, -24.602570516788276,\n",
    "-3.3345237791560685, 31.642026208915922, 46.59048201507564, 47.77677558589566,\n",
    "49.479197628533846, 37.30752461273516, 4.8884826838602375, -14.139681310038036,\n",
    "5.866882892538079, 39.241648264699805, 52.32449673697019, 51.46840916135989,\n",
    "51.04560258424744, 36.76268142287006, 2.342007372824722, -18.48777131249198,\n",
    "-0.001458345495846336, 32.20326825253826, 44.51972364193224, 43.33663180921074,\n",
    "43.042727711655445, 29.341176538646966, -4.068954455348979, -23.501234945920984,\n",
    "-3.2898870787153847, 30.893234987371592, 45.35557381269338, 46.39183691149365,\n",
    "48.29249530098617, 36.66228113918205, 5.1057504797199424, -12.777322226544069,\n",
    "8.603652948624067, 43.516243470896484, 58.22446307202845, 58.99857276023159,\n",
    "60.124628677083656, 47.22320186235163, 13.93432659348393, -6.088530691031108,\n",
    "12.814948013702008, 44.995254867115015, 56.80914142367121, 54.6256325077892,\n",
    "52.8315404128707, 37.146071838359525, 1.3017548586137593, -20.965355254920883,\n",
    "-3.9256053931713497, 26.82478238770549, 37.67766952966369, 35.01764531449422,\n",
    "33.226985137167105, 18.000537872595043, -16.97224238208146, -38.015207638887546,\n",
    "-19.472863064548168, 12.973334125562003, 25.62256697084991, 24.763244921011925,\n",
    "24.68204793665754, 10.982873556975797, -22.727266831566894, -42.84265090495897,\n",
    "-23.763186253971483, 8.791669442909061, 21.102152813672852, 19.457637458104415,\n",
    "18.165703100326706, 2.870274939304105, -32.76408725859495, -55.05893215618299,\n",
    "-38.32923367337307, -8.200799559554465, 1.705116955411782, -2.222803788541154,\n",
    "-5.580981191600762, -22.636765994999013, -59.64782571307441, -82.87211310716553,\n",
    "-66.57782545999271, -36.36276278450489, -25.84011528825749, -28.633437432812404,\n",
    "-30.371196932694183, -45.37130468324919, -79.95843515818618, -100.4712521866426,\n",
    "-81.26906170532061, -48.04743686437044, -34.52000075806543, -34.40929033684103,\n",
    "-33.43726042310092, -46.00600167136959, -78.51164016410635, -97.34867543198101,\n",
    "-76.91439820687832, -42.92302585929681, -29.0868023787925, -29.10701449822058,\n",
    "-28.66547622084393, -42.10701449822058, -75.7558499371046, -95.92302585929677,\n",
    "-76.91439820687833, -44.348675431980965, -31.842592605794152,\n",
    "-33.00600167136962, -33.43726042310093, -47.40929033684101, -81.18904831637745,\n",
    "-101.04743686437048, -81.26906170532072, -47.47125218664258, -33.28938759987401,\n",
    "-32.37130468324922, -30.37119693269421, -41.63343743281241, -72.50916284656967,\n",
    "-89.36276278450494, -66.57782545999271, -29.87211310716568, -12.978778154762315,\n",
    "-9.636765994999058, -5.5809811916008645, -15.22280378854121, -44.9639306029004,\n",
    "-61.20079955955448, -38.329233673373174, -2.0589321561830296, 13.90496029971719,\n",
    "15.870274939304055, 18.16570310032667, 6.457637458104333, -25.566894744639285,\n",
    "-44.20833055709088, -23.763186253971533, 10.157349095040992, 23.941780726745318,\n",
    "23.982873556975754, 24.68204793665754, 11.763244921011895, -21.04648058746226,\n",
    "-40.02666587443802, -19.472863064548225, 14.984792361112445, 29.696805176230686,\n",
    "31.000537872595014, 33.22698513716708, 22.017645314494118, -8.991378028648448,\n",
    "-26.17521761229449, -3.9256053931714834, 32.03464474507901, 47.97080241692585,\n",
    "50.14607183835946, 52.83154041287066, 41.62563250778909, 10.140093865359061,\n",
    "-8.004745132884999, 12.814948013702008, 46.91146930896887, 60.603374151796054,\n",
    "60.22320186235163, 60.12462867708366, 45.998572760231504, 11.555415513716316,\n",
    "-9.483756529103516, 8.603652948624067, 40.22267777345599, 51.77479803803213,\n",
    "49.66228113918212, 48.29249530098616, 33.39183691149363, -1.3134737456187269,\n",
    "-22.106765012628383, -3.289887078715366, 29.498765054079005, 42.60009310296318,\n",
    "42.34117653864695, 43.042727711655445, 30.33663180921075, -2.14932391637994,\n",
    "-20.79673174746178, -0.0014583454958994047, 34.51222868750792, 49.01105493113683,\n",
    "49.762681422870116, 51.04560258424739, 38.46840916135988, 5.655449178658077,\n",
    "-13.758351735300199, 5.866882892538083, 38.860318689961964, 51.55753024217239,\n",
    "50.30752461273516, 49.47919762853388, 34.77677558589567, -0.0785655432365231,\n",
    "-21.357973791083996, -3.3345237791560685, 28.39742948321176, 40.236115764919134,\n",
    "38.576691553203176, 37.81569958979122, 23.665281983069725, -10.165609619407345,\n",
    "-29.980059833502956, -10.101544762314273, 23.80872956937502, 38.068392349956305,\n",
    "38.9815226439466, 40.84681874826839, 29.275804394700835, -2.1218503238029327,\n",
    "-19.74311684413749, 2.003873391532892, 37.38594694370859, 52.66438629393816,\n",
    "54.10483202536709, 55.9869996216546, 43.92362896481404, 11.54571373567099,\n",
    "-7.5032088262144345, 12.426708932943658, 45.675307507552226, 58.588863001086324,\n",
    "57.5264416569707, 56.865724020650106, 42.31787863965018, 7.608701920363714,\n",
    "-13.531025437898329, 4.6246147539865285, 36.47721675320182, 48.41795021358077,\n",
    "46.83207731063111, 46.103721796381876, 31.93051362557835, -1.9946648401653508,\n",
    "-21.991905978314, -2.4019562470204496, 31.097150636103954, 44.80736430958389,\n",
    "45.01890890257505, 46.0190717478295, 33.410946016665044, 0.7991827133635958,\n",
    "-18.214489650450446, 1.9643874497834104, 35.60914747567561])"
   ]
  },
  {
   "cell_type": "markdown",
   "metadata": {},
   "source": [
    "Plot the timeseries."
   ]
  },
  {
   "cell_type": "code",
   "execution_count": null,
   "metadata": {},
   "outputs": [],
   "source": [
    "time = np.arange(0,1, 1/400)\n",
    "\n",
    "make_plot_1(time,data)\n",
    "plt.text(1,0,'1 sec',fontsize=15)\n",
    "plt.show()"
   ]
  },
  {
   "cell_type": "markdown",
   "metadata": {},
   "source": [
    "Use the procedures outlined in Lesson 5 to examine the frequencies composing this timeseries.\n",
    "\n",
    "First, figure out the step size (data were collected at 400 Hz)."
   ]
  },
  {
   "cell_type": "code",
   "execution_count": null,
   "metadata": {},
   "outputs": [],
   "source": [
    "1/400"
   ]
  },
  {
   "cell_type": "markdown",
   "metadata": {},
   "source": [
    "A data point is collected every 0.0025 seconds.\n",
    "\n",
    "Start assessing. Start at 1 Hz"
   ]
  },
  {
   "cell_type": "code",
   "execution_count": null,
   "metadata": {},
   "outputs": [],
   "source": [
    "amp_complex = np.exp(2*np.pi * 1j * time) \n",
    "amplitude_complex = data * amp_complex\n",
    "spectrum = sum(amplitude_complex)*(1/400)/ 0.5\n",
    "round(abs(spectrum),5)"
   ]
  },
  {
   "cell_type": "markdown",
   "metadata": {},
   "source": [
    "0\n",
    "\n",
    "No activity at 1 Hz.\n",
    "\n",
    "Try 2 Hz."
   ]
  },
  {
   "cell_type": "code",
   "execution_count": null,
   "metadata": {},
   "outputs": [],
   "source": [
    "amp_complex = np.exp(2*np.pi * 2j * time) \n",
    "amplitude_complex = data * amp_complex\n",
    "spectrum = sum(amplitude_complex)*(1/400)/ 0.5\n",
    "round(abs(spectrum),5)"
   ]
  },
  {
   "cell_type": "markdown",
   "metadata": {},
   "source": [
    "There is 2 Hz activity.\n",
    "\n",
    "Try 3 Hz."
   ]
  },
  {
   "cell_type": "code",
   "execution_count": null,
   "metadata": {},
   "outputs": [],
   "source": [
    "amp_complex = np.exp(2*np.pi * 3j * time) \n",
    "amplitude_complex = data * amp_complex\n",
    "spectrum = sum(amplitude_complex)*(1/400)/ 0.5\n",
    "round(abs(spectrum),5)"
   ]
  },
  {
   "cell_type": "markdown",
   "metadata": {},
   "source": [
    "0\n",
    "\n",
    "No 3 Hz activity.\n",
    "\n",
    "Try 4 Hz."
   ]
  },
  {
   "cell_type": "code",
   "execution_count": null,
   "metadata": {},
   "outputs": [],
   "source": [
    "amp_complex = np.exp(2*np.pi * 4j * time) \n",
    "amplitude_complex = data * amp_complex\n",
    "spectrum = sum(amplitude_complex)*(1/400)/ 0.5\n",
    "round(abs(spectrum),5)"
   ]
  },
  {
   "cell_type": "markdown",
   "metadata": {},
   "source": [
    "There is 4 Hz activity.\n",
    "\n",
    "HOLD ON!!! How many frequencies do we need to assess before we stop looking?\n",
    "\n",
    "Take another look at the timeseries."
   ]
  },
  {
   "cell_type": "code",
   "execution_count": null,
   "metadata": {},
   "outputs": [],
   "source": [
    "time = np.arange(0,1, 1/400)\n",
    "\n",
    "make_plot_1(time,data)\n",
    "plt.text(1,0,'1 sec',fontsize=15)\n",
    "plt.show()"
   ]
  },
  {
   "cell_type": "markdown",
   "metadata": {},
   "source": [
    "There is high-frequency activity. Should we keep assessing until we find activity at higher frequencies?"
   ]
  },
  {
   "cell_type": "markdown",
   "metadata": {},
   "source": [
    "Answer:\n",
    "    \n",
    "Using the above plug-and-chug method to determine the frequencies composing the timeseries will work, but it's often too much work. Instead, we want to automate the process, assessing activity in 1 Hz\n",
    "steps until we get to the end. How do you know when you have reached the end?"
   ]
  },
  {
   "cell_type": "markdown",
   "metadata": {},
   "source": [
    "Answer:\n",
    "    \n",
    "Nyquist's Rule tells us that, if the data are digitized at 400 Hz, then activity up to 200 Hz is accurately\n",
    "represented in the timeseries. So, if we did this the long way, we would look for activity from 0 Hz (DC\n",
    "value, i.e. average level across the entire epoch) to 200 Hz. Because we are examining a 1-second epoch, our frequency resolution is the reciprocal\n",
    "of the epoch length. Thus, the frequency resolution is 1/1 sec = 1 Hz. As such, doing this the long way,\n",
    "we'd need to perform 201 computations. (Do you know why it’s 201 and not 200? Remember that 0 Hz\n",
    "is one of the “frequencies” - essentially representing the average value (different from zero) of the\n",
    "overall timeseries. So, in the range 0 to 200, inclusive of the endpoints, there are 201 integers.)"
   ]
  },
  {
   "cell_type": "markdown",
   "metadata": {},
   "source": [
    "Continue to the next section where we will examine a much better way to determine the frequencies\n",
    "composing a timeseries."
   ]
  },
  {
   "cell_type": "markdown",
   "metadata": {},
   "source": [
    "## <font color=red>DSP.06.B2) The Fourier Transform (FT)</font>"
   ]
  },
  {
   "cell_type": "markdown",
   "metadata": {},
   "source": [
    "### <font color=red>DSP.06.B2.a) The Fourier Transform</font>"
   ]
  },
  {
   "cell_type": "markdown",
   "metadata": {},
   "source": [
    "We previously noted that a timeseries that indicates voltage or some other magnitude parameter as a function of\n",
    "time is said to be a representation \"in the time domain\" (or distance in space; in fact, everything we say here about time in the context of the Fourier Transform applies to space as well, but we'll talk about time for simplicity). An alternative representation of the same\n",
    "information is based on the principle that any waveform that is \"stationary\" (i.e., from which long-term\n",
    "trends or changes in level have been removed and in which the frequency components do not change\n",
    "in amplitude or phase over time) may be represented as the sum of a set of sinusoidal waveforms, each\n",
    "of a different frequency and having an associated amplitude (or power) and phase. We emphasize that this applies to any waveform - not just waveforms actually composed of sinusoids.\n",
    "\n",
    "(About that term \"power\"... In generic signal-processing contexts, magnitude, amplitude, voltage, and power are often used interchangeably. In the world of electrical phenomena, voltage is a unit of amplitude, and power is proportional to the square of voltage. Fourier analysis most often produces frequency magnitude values that technically speaking are power values. No need to differentiate among all of those terms here.)\n",
    "\n",
    "This principle (the\n",
    "Fourier Theorem) is the basis of Fourier analysis, which is a method for determining a set of sinusoids - their frequencies, amplitudes, and phases - that model of the timeseries. (This model accurately represents the timeseries, in the sense that subsequently applying an Inverse Fourier Transform (IFT) will recover it. That doesn't mean that the time series actually consisted of thos frequencies, amplitudes, and phases - only that it can be fully represented with such a model.) This representation of a signal is said to be \"in the\n",
    "frequency domain\"."
   ]
  },
  {
   "cell_type": "markdown",
   "metadata": {},
   "source": [
    "By now, you should be comfortable looking at frequency spectrum plots. Spectrum plots show the\n",
    "frequency content of a timeseries and in the previous lessons were in fact obtained by applying a\n",
    "Fourier Transform to the timeseries data. (Now you know our little secret.) The Fourier Transform is\n",
    "used in acoustics when one wants to know (or at least model with sinusoids) the frequency content of a sound signal, in the neurosciences\n",
    "when one wants to know (or at least model with sinusoids) the frequency content of brain activity, and in photography when\n",
    "once wants to know (or at least model with sinusoids) the spatial frequency content of a photograph.\n",
    "\n",
    "It has many other uses across many\n",
    "fields. In fact, if you’re not careful, you could become very enamored of thinking about aspects of daily\n",
    "life in terms of frequencies and how a Fourier transform might represent something, such as cloud\n",
    "patterns, traffic backed up at a stoplight, the bumps on your tongue.... Fourier can handle them all!"
   ]
  },
  {
   "cell_type": "markdown",
   "metadata": {},
   "source": [
    "### <font color=red>DSP.06.B2.b) The Fourier Transform Equation for Continuous Functions</font>"
   ]
  },
  {
   "cell_type": "markdown",
   "metadata": {},
   "source": [
    "In Lesson 1, we saw that sine and cosine waves can be summed together to create almost any timeseries.\n",
    "In Lesson 5, we saw that we can determine the amount of activity at a specific frequency within\n",
    "a timeseries by multiplying the timeseries by sine and cosine waves of that frequency and then obtaining\n",
    "the magnitude of the sine and cosine components. We additionally saw that complex exponentials\n",
    "more elegantly determine the magnitude and phase of activity at a specific frequency in a given timeseries.\n",
    "The Fourier Transform is just this use of complex exponentials to determine activity at specific\n",
    "frequencies. However, rather than manually looking for activity one frequency at a time, the Fourier transform 'scans' the timeseries to examine activity at all possible frequencies.\n",
    "(Well, in practice “all” is a bit of an exaggeration. There are limitations on what frequencies can be\n",
    "found. We’ll discuss that after we present the ideal case.)\n",
    "\n",
    "For a continuous signal or function f(t), the Fourier Transform is often defined as\n",
    "\n",
    "$F( ω ) = \\frac{\\int_{-∞}^{∞}f(t)e^{i ω t}dt}{\\sqrt{2\\pi}}$"
   ]
  },
  {
   "cell_type": "markdown",
   "metadata": {},
   "source": [
    "where ⅈ is the imaginary unity number (i.e., the square root of -1), and ω is the range of angular frequencies associated with the\n",
    "signal (i.e., the frequency content of the signal). As ω changes, activity at each frequency is assessed.\n",
    "F(ω) is the transfer function and tells us what to multiply each frequency ω by to model activity at that\n",
    "frequency in the dataset. Because you successfully completed the earlier lessons, this formula should\n",
    "not hold any surprises.\n",
    "\n",
    "There are other common notations for the Fourier transform, and depending on the convention there may or may not be a term in front of the\n",
    "integral to scale the data. In this introduction to the Fourier Transform, we will not consider these issues. However, if you are interested, take a\n",
    "look online. We've found that different fields have different conventions about such things. \n",
    "        \n",
    "When working with time and the signal f(t), one is working in the time domain, and the variables are real. When working with angular frequency and the Fourier transform F(ω) one is working in the frequency domain and F(ω) is complex (angular frequency is the rate at which the change in rotation takes place, or the rate at which change in the sinusoidal waves occurs)."
   ]
  },
  {
   "cell_type": "markdown",
   "metadata": {},
   "source": [
    "### <font color=red>DSP.06.B2.c) The Discrete Fourier Transform (FT)</font>"
   ]
  },
  {
   "cell_type": "markdown",
   "metadata": {},
   "source": [
    "The equation $F( ω ) = \\frac{\\int_{-∞}^{∞}f(t)e^{i ω t}dt}{\\sqrt{2\\pi}}$ involves an integral (a calculus thing) and is thus appropriate with continuous data.\n",
    "However, more often than not we are working with a discrete signal, where the signal is digitized at a\n",
    "particular sampling frequency. With discrete timeseries, the above equation is modified. Here is an\n",
    "equation for the Discrete Fourier Transform (DFT):\n",
    "    \n",
    "$F[k Δf] =  \\frac{\\sum_{n=0}^{N-1}e^{i(2 \\pi k Δf) (nΔt)}}{\\sqrt{N}}$ for k = 0,1,2,..., N-1\n",
    "\n",
    "The summation sign is used here because discrete rather than continuous data are examined. But the ideas are the same.\n",
    "Also, as with the continuous form of the Fourier Transform, other definitions of the discrete Fourier transform are used in some scientific and\n",
    "technical fields:\n",
    "http://reference.wolfram.com/mathematica/tutorial/FourierTransforms.html\n",
    "    \n",
    "The relevant variables in the equation are:\n",
    "    \n",
    "N = total number of discrete samples\n",
    "\n",
    "t = total sampling time [t = total number of points/sampling frequency fs; i.e., points / (points/second) = seconds]\n",
    "\n",
    "Δf = frequency step size [Δf = 1/t; this is the set of frequencies that will be used to model the timeseries]\n",
    "\n",
    "Δt = time increment between samples [Δt = t/N in seconds]\n",
    "\n",
    "(We can also note that the sampling frequency is defined as fs = 1/Δt = N/t.)\n",
    "\n",
    "Activity is assessed at every 1/t Hz, where 1/t is defined as the fundamental frequency. Thus, if the Fourier\n",
    "Transform is applied to a 2-second epoch, the fundamental frequency is 1/2 = 0.5 Hz . As such, oscillatory\n",
    "activity is examined in 0.5 Hz steps (i.e., 0, 0.5, 1.0, 1.5, ...., Nyquist frequency). If the Fourier Transform\n",
    "is instead applied to a 10-second epoch, the fundamental frequency is 1/10 = 0.01 Hz . As such, oscillatory\n",
    "activity is examined in 0.01 Hz steps (i.e., 0, 0.01, 0.02, ...., Nyquist frequency).\n",
    "\n",
    "Note that the fundamental frequency is determined entirely by the length of the time series to be analyzed. It doesn't depend at all on the sampling frequency. The samping frequency determines how high the spectrum goes - it goes to the Nyquist frequency, which is half the sampling frequency. The length of the time series determines the width of each bin in the spectrum."
   ]
  },
  {
   "cell_type": "markdown",
   "metadata": {},
   "source": [
    "### <font color=red>DSP.06.B2.d) The Discrete Fourier Transform (FT) in action</font>"
   ]
  },
  {
   "cell_type": "markdown",
   "metadata": {},
   "source": [
    "Look at how the Discrete Fourier Transform works."
   ]
  },
  {
   "cell_type": "code",
   "execution_count": null,
   "metadata": {},
   "outputs": [],
   "source": [
    "time = np.arange(0,1,1/40)\n",
    "timeseries =  np.sin(2*np.pi * 4 * time) + 5 * np.sin(2*np.pi * 8 * time + np.pi/4)\n",
    "\n",
    "make_plot_1(time,timeseries)\n",
    "plt.text(1,0,'1 sec',fontsize=15)\n",
    "plt.show()"
   ]
  },
  {
   "cell_type": "markdown",
   "metadata": {},
   "source": [
    "This is a 1-second epoch, with 40 total points. As such, the sample rate is 40 Hz (= fs), so the Nyquist\n",
    "Frequency is 20 Hz.\n",
    "\n",
    "Recalling our definitions (N = total number of discrete samples taken, t = total sampling time to be analyzed, Δt = time\n",
    "increment between samples [Δt = t/N ], and Δf = frequency step size [Δf = 1/t ], solve for the following\n",
    "values:\n",
    "                           \n",
    "t = 40/40 = 1 (i.e., the number of points sampled in one second is equal to the total points displayed).\n",
    "                           \n",
    "Δt = t/N = 1/40 = .025 sec = 25 ms (i.e., a sample is obtained every 25 ms)\n",
    "                           \n",
    "Δf = 1/t = 1 (1 (1× 1/1 )) = 1 Hz (i.e., activity is assessed in 1 Hz steps)\n",
    "                           \n",
    "(We can also note that fs = 1/Δt = N/t = 1/0.025 = 40 (1 (1× 1/1 )) = 40 Hz.)\n",
    "                           \n",
    "Use the Discrete Fourier Transform (DFT) to produce a frequency spectrum plot.\n",
    "                           \n",
    "First, take a look at the timeseries values."
   ]
  },
  {
   "cell_type": "code",
   "execution_count": null,
   "metadata": {},
   "outputs": [],
   "source": [
    "timeseries"
   ]
  },
  {
   "cell_type": "markdown",
   "metadata": {},
   "source": [
    "Now, use the Python 'fft' function to calculate the Discrete Fourier Transform (DFT). (Pretty handy!)"
   ]
  },
  {
   "cell_type": "code",
   "execution_count": null,
   "metadata": {},
   "outputs": [],
   "source": [
    "yf = fft(timeseries)\n",
    "yf2 = []\n",
    "for xx in yf:\n",
    "   yf2.append(round_complex(xx))\n",
    "yf2"
   ]
  },
  {
   "cell_type": "markdown",
   "metadata": {},
   "source": [
    "Notice that the non-zero DFT values are complex numbers. The first value is the DC offset (i.e., the mean of the entire epoch being analyzed; here, zero, because there was no DC offset), followed by one value for each sampled frequency. This is just what we\n",
    "did in Lesson 5, except that the Python fft function 'automatically' assesses sinusoidal\n",
    "activity at all possible frequencies (well, not ALL - this is one of the limitations we hinted at above - we\n",
    "will see below just what possible frequencies are assessed).\n",
    "\n",
    "As we learned in Lesson 5, to compute the frequency spectrum, we need the magnitude of each number (the amount of activity at each frequency).\n",
    "We know that the modulus of a complex number z = x + $i$y is given by |z| = $\\sqrt{x^2 + y^2}$ .\n",
    "\n",
    "Now plot the magnitude values."
   ]
  },
  {
   "cell_type": "code",
   "execution_count": null,
   "metadata": {},
   "outputs": [],
   "source": [
    "sample_rate = 40\n",
    "duration = 1\n",
    "\n",
    "n = sample_rate * duration\n",
    "Nhalf = round(n/2)\n",
    "\n",
    "yf = fft(timeseries)\n",
    "xf = fftfreq(n, 1 / sample_rate)\n",
    "\n",
    "plt.plot(xf, np.abs(yf))\n",
    "\n",
    "# Adding text to the figure\n",
    "plt.text(20,0,'Hz',fontsize=15)\n",
    "plt.show()"
   ]
  },
  {
   "cell_type": "markdown",
   "metadata": {},
   "source": [
    "That looks a little odd. Take another look at the complex valued output of the DFT."
   ]
  },
  {
   "cell_type": "code",
   "execution_count": null,
   "metadata": {},
   "outputs": [],
   "source": [
    "yf2"
   ]
  },
  {
   "cell_type": "markdown",
   "metadata": {},
   "source": [
    "Every complex number above has both a positive and negative imaginary term. For example, after\n",
    "skipping the first complex value (the DC value), the complex number for the 4 Hz activity in the fifth\n",
    "position and fourth to last position are opposite in sign - see for yourself: -20j and 20j."
   ]
  },
  {
   "cell_type": "code",
   "execution_count": null,
   "metadata": {},
   "outputs": [],
   "source": [
    "abs(yf2[4])"
   ]
  },
  {
   "cell_type": "code",
   "execution_count": null,
   "metadata": {},
   "outputs": [],
   "source": [
    "abs(yf2[-4])"
   ]
  },
  {
   "cell_type": "markdown",
   "metadata": {},
   "source": [
    "The same value. This makes sense, because we're taking the absolute value of each complex term.\n",
    "\n",
    "Because information in the first and last half of the DFT is identical, people usually plot only one half of\n",
    "the DFT values."
   ]
  },
  {
   "cell_type": "code",
   "execution_count": null,
   "metadata": {},
   "outputs": [],
   "source": [
    "make_plot_freq_1(timeseries,40)\n",
    "\n",
    "# Adding text to the figure\n",
    "plt.text(20,0,'Hz',fontsize=15)\n",
    "plt.show()"
   ]
  },
  {
   "cell_type": "markdown",
   "metadata": {},
   "source": [
    "At this point we just need to come up with the correct x-axis values. Look the original output one more\n",
    "time"
   ]
  },
  {
   "cell_type": "code",
   "execution_count": null,
   "metadata": {},
   "outputs": [],
   "source": [
    "yf2[0:Nhalf]"
   ]
  },
  {
   "cell_type": "markdown",
   "metadata": {},
   "source": [
    "The first number represents the DC offset (the mean). The magnitude of each of the subsequent complex\n",
    "numbers represents the amount of power at a particular frequency. The frequency each value represents\n",
    "can be found by calculating the frequency increment Δf, calculated as 1/T (Δf is also called the\n",
    "frequency resolution or the fundamental frequency). In the current example, Δf = 1/1 second = 1 Hz. Thus, each complex value defines the\n",
    "relative contribution of each frequency to the signal, in 1 Hz steps (1 Hz, 2 Hz, 3 Hz, 4 Hz, ...)."
   ]
  },
  {
   "cell_type": "markdown",
   "metadata": {},
   "source": [
    "Recalling the DFT formula     \n",
    "$F[k Δf] =  \\frac{\\sum_{n=0}^{N-1}e^{i(2 \\pi k Δf) (nΔt)}}{\\sqrt{N}}$ for k = 0,1,2,..., N-1, \n",
    "we can now see:\n",
    "\n",
    "\n",
    "for k = 1, F(kΔf) is the Discrete Fourier transform at the first harmonic frequency Δf\n",
    "\n",
    "for k = 2, F(kΔf) is the Discrete Fourier transform at the second harmonic frequency 2Δf\n",
    "\n",
    "...until\n",
    "for k = 20, F(kΔf) is the Discrete Fourier transform at the 20th harmonic frequency 20Δf\n",
    "\n",
    "Now that we know Δf, we can plot the power spectrum with the correct x axis."
   ]
  },
  {
   "cell_type": "code",
   "execution_count": null,
   "metadata": {},
   "outputs": [],
   "source": [
    "make_plot_freq_1(timeseries,40)\n",
    "\n",
    "# Adding text to the figure\n",
    "plt.text(20,0,'Hz',fontsize=15)\n",
    "plt.show()"
   ]
  },
  {
   "cell_type": "markdown",
   "metadata": {},
   "source": [
    "The magnitude (on the y axis) at each point (on the x axis) indicates the importance of that frequency in\n",
    "the signal. We see a peak at 4 Hz with a magnitude value of 20 and an 8 Hz signal with an amplitude of 100.\n",
    "Look again at the original timeseries. (Reminder: this doesn't confirm that the original data consisted of 4 Hz and 8 Hz components. It just means that the original data can be successfully modeled as the sum of 4 Hz and 8 Hz sinusoids.)"
   ]
  },
  {
   "cell_type": "code",
   "execution_count": null,
   "metadata": {},
   "outputs": [],
   "source": [
    "make_plot_1(time,timeseries)\n",
    "plt.text(1,0,'1 sec',fontsize=15)\n",
    "\n",
    "plt.show()"
   ]
  },
  {
   "cell_type": "markdown",
   "metadata": {},
   "source": [
    "But in this case, our DFT does indicate what was truly in the original timeseries: activity at 4 and 8 Hz.\n",
    "\n",
    "Some confusion can come from the terminology of the Fourier Transform. In reality, the data are not\n",
    "\"transformed\". The original data remain, but new vectors are created that describe a set of sine waves. There is a power or amplitude vector, containing one such magnitude value for each harmonic,\n",
    "and a phase vector, again with one value for each harmonic. (So far, we've plotted just the magnitude vector, typically called the power or amplitude spectrum. We haven't plotted the phase spectrum, but one can do that. It shows the phase of each of the frequencies in the power spectrum.) Thus, the DFT as a computational procedure\n",
    "figures out a set of sine waves with frequency, magnitude, and phase characteristics that, when summed, describe a vector of timeseries data."
   ]
  },
  {
   "cell_type": "markdown",
   "metadata": {},
   "source": [
    "### <font color=red>DSP.06.B2.e) Another example of the DFT</font>"
   ]
  },
  {
   "cell_type": "markdown",
   "metadata": {},
   "source": [
    "Run the code."
   ]
  },
  {
   "cell_type": "code",
   "execution_count": null,
   "metadata": {},
   "outputs": [],
   "source": [
    "time = np.arange(0,1,1/50)\n",
    "timeseries = 0.5 * np.sin(2*np.pi * 2 * time) + 3 * np.sin(2*np.pi * 5 * time)\n",
    "\n",
    "make_plot_1(time,timeseries)\n",
    "plt.text(1,0,'1 sec',fontsize=15)\n",
    "\n",
    "plt.show()"
   ]
  },
  {
   "cell_type": "markdown",
   "metadata": {},
   "source": [
    "Check above to see that we are sampling at 50 Hz (= fs). The total number of points is 50 (= points) = N.\n",
    "\n",
    "Recalling our definitions (N = total number of discrete samples taken, t = total sampling time, Δt = time\n",
    "increment between samples [Δt = t/N], and Δf = frequency step size [Δf = 1/t], solve for the following\n",
    "values:\n",
    "                           \n",
    "t = 50/50 = 1 second (because the number of points sampled in one second is equal to the total number of\n",
    "points displayed)\n",
    "                           \n",
    "Δt = t/N = 1/50 = 0.02 sec = 20 ms\n",
    "                           \n",
    "Δf = 1/t = 1 (1 (1× 1/1 )) = 1 Hz (i.e., activity is assessed in 1 Hz steps)\n",
    "                           \n",
    "(We can also note that fs = 1/Δt = N/t = 1/0.02 = 50 (1 (1× 1/1 )) = 50 Hz.)\n",
    "                           \n",
    "For the DFT, grab the y values."
   ]
  },
  {
   "cell_type": "code",
   "execution_count": null,
   "metadata": {},
   "outputs": [],
   "source": [
    "timeseries"
   ]
  },
  {
   "cell_type": "markdown",
   "metadata": {},
   "source": [
    "Use the Python 'fft' function to calculate the DFT. "
   ]
  },
  {
   "cell_type": "code",
   "execution_count": null,
   "metadata": {},
   "outputs": [],
   "source": [
    "from scipy.fft import fft, fftfreq\n",
    "yf = fft(timeseries)\n",
    "yf2 = []\n",
    "for xx in yf:\n",
    "   yf2.append(round_complex(xx))\n",
    "yf2"
   ]
  },
  {
   "cell_type": "markdown",
   "metadata": {},
   "source": [
    "The DFT numbers are complex, and there is one value for each frequency. (Remember - that includes 0 Hz, which is the mean of the entire timeseries vector, often called the DC offset.)\n",
    "\n",
    "We want the magnitude for each of the above complex numbers, so calculate the modulus as described\n",
    "above."
   ]
  },
  {
   "cell_type": "code",
   "execution_count": null,
   "metadata": {},
   "outputs": [],
   "source": [
    "np.abs(yf2)"
   ]
  },
  {
   "cell_type": "markdown",
   "metadata": {},
   "source": [
    "Plot the above data."
   ]
  },
  {
   "cell_type": "code",
   "execution_count": null,
   "metadata": {},
   "outputs": [],
   "source": [
    "sample_rate = 50\n",
    "duration = 1\n",
    "\n",
    "n = sample_rate * duration\n",
    "nhalf = round(n/2)\n",
    "\n",
    "yf = fft(timeseries)\n",
    "xf = fftfreq(n, 1 / sample_rate)\n",
    "\n",
    "plt.plot(xf, np.abs(yf))\n",
    "\n",
    "# Adding text to the figure\n",
    "plt.text(26,0,'Hz',fontsize=15)\n",
    "plt.show()"
   ]
  },
  {
   "cell_type": "markdown",
   "metadata": {},
   "source": [
    "Remember, the first and second halves of the DFT output contain the same information. Throw out the\n",
    "second half of the data and plot just the first half.\n",
    "\n",
    "In a more advanced digital signal processing class, you'd learn why the Fourier output has this structure. For now, however, all we need to\n",
    "do is note that this is how the Fourier output is structured."
   ]
  },
  {
   "cell_type": "code",
   "execution_count": null,
   "metadata": {},
   "outputs": [],
   "source": [
    "make_plot_freq_1(timeseries,50)\n",
    "\n",
    "# Adding text to the figure\n",
    "plt.text(26,0,'Hz',fontsize=15)\n",
    "plt.show()"
   ]
  },
  {
   "cell_type": "markdown",
   "metadata": {},
   "source": [
    "Look the original output one more time"
   ]
  },
  {
   "cell_type": "code",
   "execution_count": null,
   "metadata": {},
   "outputs": [],
   "source": [
    "yf2[0:nhalf]"
   ]
  },
  {
   "cell_type": "markdown",
   "metadata": {},
   "source": [
    "The first complex value is the DC offset = the mean. The magnitude of each of the subsequent complex numbers\n",
    "represents the amount of power at a particular frequency. The frequency represented by each\n",
    "value is found by calculating the frequency increment Δf, calculated as 1/t ( Δf is also called the frequency\n",
    "resolution). In the current example Δf = 1/1 second = 1 Hz. Thus, each of the complex numbers\n",
    "defines the relative contribution to the signal by each discrete frequency in 1 Hz steps (i.e., 1 Hz, 2 Hz, 3\n",
    "Hz, 4 Hz, ...).\n",
    "\n",
    "Recalling the DFT formula     \n",
    "$F[k Δf] =  \\frac{\\sum_{n=0}^{N-1}e^{i(2 \\pi k Δf) (nΔt)}}{\\sqrt{N}}$ for k = 0,1,2,..., N-1, \n",
    "we can now see that\n",
    "\n",
    "for k = 1, F(kΔf) is the Discrete Fourier Transform at the first harmonic frequency Δf\n",
    "\n",
    "for k = 2. F(kΔf) is the Discrete Fourier Transform at the second harmonic frequency 2Δf\n",
    "\n",
    "...until\n",
    "for k = 25, F(kΔf) is the Discrete Fourier Transform at the 25th harmonic frequency 25Δf\n",
    "\n",
    "And now that we know Δf, we can plot the power spectrum with the correct x-axis values."
   ]
  },
  {
   "cell_type": "code",
   "execution_count": null,
   "metadata": {},
   "outputs": [],
   "source": [
    "make_plot_freq_1(timeseries,50)\n",
    "\n",
    "# Adding text to the figure\n",
    "plt.text(26,0,'Hz',fontsize=15)\n",
    "plt.show()"
   ]
  },
  {
   "cell_type": "markdown",
   "metadata": {},
   "source": [
    "A plot of the magnitude of the DFT output as a function of frequency is called the frequency spectrum.\n",
    "The amplitude at each point indicates the importance of that frequency in the signal.\n",
    "\n",
    "Note that the Fourier Transform method doesn’t care what frequencies are in the signal - how many\n",
    "different frequencies, their absolute or relative amplitude, whether the signal is voltages or temperatures\n",
    "or densities or number of scoops of ice cream... So you can start to see the generality of this\n",
    "method.\n",
    "\n",
    "In this example, there are two peaks - one at 2 Hz and one at 5 Hz. In addition, the 5 Hz activity is\n",
    "larger than the 2 Hz activity. Why?"
   ]
  },
  {
   "cell_type": "markdown",
   "metadata": {},
   "source": [
    "Answer: Look at the original output one more time."
   ]
  },
  {
   "cell_type": "code",
   "execution_count": null,
   "metadata": {},
   "outputs": [],
   "source": [
    "make_plot_1(time,timeseries)\n",
    "plt.text(1,0,'1 sec',fontsize=15)\n",
    "\n",
    "plt.show()"
   ]
  },
  {
   "cell_type": "markdown",
   "metadata": {},
   "source": [
    "If you study the plot, looking for 2 Hz variation and 5 Hz variation, you'll notice that the amplitude of the 2 Hz sine wave is 12.5 and the amplitude of the 5 Hz sine wave is 75. This\n",
    "explains why the 5 Hz peak is larger in the frequency spectrum."
   ]
  },
  {
   "cell_type": "markdown",
   "metadata": {},
   "source": [
    "## <font color=red>DSP.06.B3) Going the Opposite Way - The Inverse Fourier Transform</font>"
   ]
  },
  {
   "cell_type": "markdown",
   "metadata": {},
   "source": [
    "### <font color=red>DSP.06.B3.a) Examining the Discrete Fourier Transform results</font>"
   ]
  },
  {
   "cell_type": "markdown",
   "metadata": {},
   "source": [
    "In Lesson 1, we saw how to combine sine waves to get any timeseries (e.g., square waves, saw-tooth\n",
    "waves). In the preceding sections of the present lesson, we've seen that the DFT is an elegant way to\n",
    "determine the specific frequencies composing a stationary timeseries. Here’s an important complementary fact: Theoretically, if someone sent us DFT data, we should be able to use this information to\n",
    "recreate the original time series. We just need to sum the relevant frequencies, adjusting each frequency\n",
    "by the DFT magnitude and phase values."
   ]
  },
  {
   "cell_type": "markdown",
   "metadata": {},
   "source": [
    "Give it a try. Apply the Discrete Fourier Transform to the timeseries below."
   ]
  },
  {
   "cell_type": "code",
   "execution_count": null,
   "metadata": {},
   "outputs": [],
   "source": [
    "time = np.arange(0,1,1/250)\n",
    "timeseries = 5 * np.sin(2*np.pi * 10 * time) \n",
    "\n",
    "make_plot_1(time,timeseries)\n",
    "plt.text(1,0,'1 sec',fontsize=15)\n",
    "\n",
    "plt.show()"
   ]
  },
  {
   "cell_type": "code",
   "execution_count": null,
   "metadata": {},
   "outputs": [],
   "source": [
    "sample_rate = 250\n",
    "duration = 1\n",
    "\n",
    "n = sample_rate * duration\n",
    "nhalf = round(n/2)\n",
    "\n",
    "yf = fft(timeseries)\n",
    "xf = fftfreq(n, 1 / sample_rate)\n",
    "\n",
    "yf = yf[0:nhalf]\n",
    "xf = xf[0:nhalf]\n",
    "\n",
    "plt.plot(xf, np.abs(yf))\n",
    "\n",
    "# Adding text to the figure\n",
    "plt.text(126,0,'Hz')\n",
    "plt.show()"
   ]
  },
  {
   "cell_type": "markdown",
   "metadata": {},
   "source": [
    "Take a look at the DFT frequency and then magnitude values."
   ]
  },
  {
   "cell_type": "code",
   "execution_count": null,
   "metadata": {},
   "outputs": [],
   "source": [
    "xf"
   ]
  },
  {
   "cell_type": "code",
   "execution_count": null,
   "metadata": {},
   "outputs": [],
   "source": [
    "np.round(np.abs(yf),4)"
   ]
  },
  {
   "cell_type": "markdown",
   "metadata": {},
   "source": [
    "For each pair of values, the first value provides the frequency information, and the second value the\n",
    "magnitude information. We see that there is activity only at 10 Hz."
   ]
  },
  {
   "cell_type": "markdown",
   "metadata": {},
   "source": [
    "### <font color=red>DSP.06.B3.b) Examining the DFT results</font>"
   ]
  },
  {
   "cell_type": "markdown",
   "metadata": {},
   "source": [
    "Take a look at this timeseries."
   ]
  },
  {
   "cell_type": "code",
   "execution_count": null,
   "metadata": {},
   "outputs": [],
   "source": [
    "time = np.arange(0,1,1/250)\n",
    "timeseries = np.sin(2*np.pi * 5 * time) +  6 * np.sin(2*np.pi * 10 * time) + 4 * np.sin(2*np.pi * 15 * time)\n",
    "\n",
    "make_plot_1(time,timeseries)\n",
    "plt.text(1,0,'1 sec',fontsize=15)\n",
    "\n",
    "plt.show()"
   ]
  },
  {
   "cell_type": "code",
   "execution_count": null,
   "metadata": {},
   "outputs": [],
   "source": [
    "sample_rate = 250\n",
    "duration = 1\n",
    "\n",
    "n = sample_rate * duration\n",
    "nhalf = round(n/2)\n",
    "\n",
    "yf = fft(timeseries)\n",
    "xf = fftfreq(n, 1 / sample_rate)\n",
    "\n",
    "yf = yf[0:nhalf]\n",
    "xf = xf[0:nhalf]\n",
    "\n",
    "plt.plot(xf, np.abs(yf))\n",
    "\n",
    "# Adding text to the figure\n",
    "plt.text(126,0,'Hz')\n",
    "plt.show()"
   ]
  },
  {
   "cell_type": "markdown",
   "metadata": {},
   "source": [
    "Look at the DFT frequency and magnitude values."
   ]
  },
  {
   "cell_type": "code",
   "execution_count": null,
   "metadata": {},
   "outputs": [],
   "source": [
    "xf"
   ]
  },
  {
   "cell_type": "code",
   "execution_count": null,
   "metadata": {},
   "outputs": [],
   "source": [
    "np.round(np.abs(yf),4)"
   ]
  },
  {
   "cell_type": "markdown",
   "metadata": {},
   "source": [
    "For each pair of values, the first value provides the frequency information and the second value the\n",
    "magnitude information. We see that there is activity at 5, 10, and 15 Hz. This matches what we know\n",
    "about the function used to create this time series: f[x_] = Sin [5x×2$π$] + Sin[10x×2$π$] + Sin[15x×2$π$]."
   ]
  },
  {
   "cell_type": "markdown",
   "metadata": {},
   "source": [
    "### <font color=red>DSP.06.B3.c) Creating a timeseries from the DFT results</font>"
   ]
  },
  {
   "cell_type": "markdown",
   "metadata": {},
   "source": [
    "Here is another timeseries."
   ]
  },
  {
   "cell_type": "code",
   "execution_count": null,
   "metadata": {},
   "outputs": [],
   "source": [
    "time = np.arange(0,1, 1/250)\n",
    "timeseries = np.sin(2*np.pi * 5 * time) +  np.sin(2*np.pi * 10 * time) + np.sin(2*np.pi * 15 * time) +\\\n",
    "              np.sin(2*np.pi * 27 * time) + np.sin(2*np.pi * 58 * time)\n",
    "\n",
    "make_plot_1(time,timeseries)\n",
    "plt.text(1,0,'1 sec',fontsize=15)\n",
    "\n",
    "plt.show()"
   ]
  },
  {
   "cell_type": "code",
   "execution_count": null,
   "metadata": {},
   "outputs": [],
   "source": [
    "sample_rate = 250\n",
    "duration = 1\n",
    "\n",
    "n = sample_rate * duration\n",
    "nhalf = round(n/2)\n",
    "\n",
    "yf = fft(timeseries)\n",
    "xf = fftfreq(n, 1 / sample_rate)\n",
    "\n",
    "yf = yf[0:nhalf]\n",
    "xf = xf[0:nhalf]\n",
    "\n",
    "plt.plot(xf, np.abs(yf))\n",
    "\n",
    "# Adding text to the figure\n",
    "plt.text(126,0,'Hz')\n",
    "plt.show()"
   ]
  },
  {
   "cell_type": "markdown",
   "metadata": {},
   "source": [
    "Take a look at the DFT frequency and magnitude values."
   ]
  },
  {
   "cell_type": "code",
   "execution_count": null,
   "metadata": {},
   "outputs": [],
   "source": [
    "xf"
   ]
  },
  {
   "cell_type": "code",
   "execution_count": null,
   "metadata": {},
   "outputs": [],
   "source": [
    "np.round(np.abs(yf),4)"
   ]
  },
  {
   "cell_type": "markdown",
   "metadata": {},
   "source": [
    "This is getting complicated, but take a close look. There is activity at 5, 10, 15, 27, and 58 Hz. Let's use\n",
    "this information to recreate the timeseries (from scratch, not from the Inverse Fourier Transform) IFT."
   ]
  },
  {
   "cell_type": "markdown",
   "metadata": {},
   "source": [
    "First, create the individual sine waves."
   ]
  },
  {
   "cell_type": "code",
   "execution_count": null,
   "metadata": {},
   "outputs": [],
   "source": [
    "fiveHz = np.sin(2*np.pi * 5 * time)\n",
    "tenHz = np.sin(2*np.pi * 10 * time)\n",
    "fifteenHz = np.sin(2*np.pi * 15 * time)\n",
    "twentysevenHz = np.sin(2*np.pi * 27 * time)\n",
    "fiftyeightHz = np.sin(2*np.pi * 58 * time)"
   ]
  },
  {
   "cell_type": "markdown",
   "metadata": {},
   "source": [
    "Now plot each timeseries."
   ]
  },
  {
   "cell_type": "code",
   "execution_count": null,
   "metadata": {},
   "outputs": [],
   "source": [
    "time = np.arange(0,1, 1/250)\n",
    "\n",
    "# Plotting time vs amplitude using plot function from pyplot\n",
    "plt.plot(time, fiveHz)\n",
    "plt.plot(time, tenHz)\n",
    "plt.plot(time, fifteenHz)\n",
    "plt.plot(time, twentysevenHz)\n",
    "plt.plot(time, fiftyeightHz)\n",
    "\n",
    "plt.margins(x=0, y=0)\n",
    "plt.axhline(y=0, color='k')\n",
    "plt.tick_params(labelbottom = False, bottom = False)\n",
    "\n",
    "# Adding text to the figure\n",
    "plt.text(1,0,'1 sec')\n",
    "\n",
    "# Finally displaying the plot\n",
    "plt.show()"
   ]
  },
  {
   "cell_type": "markdown",
   "metadata": {},
   "source": [
    "The above plot shows an overlay of the five timeseries. Not very informative.\n",
    "\n",
    "Instead, add the functions together and then plot the summed result along with the original timeseries."
   ]
  },
  {
   "cell_type": "code",
   "execution_count": null,
   "metadata": {},
   "outputs": [],
   "source": [
    "time = np.arange(0,1, 1/250)\n",
    "combined = fiveHz + tenHz + fifteenHz + twentysevenHz + fiftyeightHz\n",
    "\n",
    "make_plot_1(time,combined)\n",
    "plt.text(1,0,'1 sec',fontsize=15)\n",
    "\n",
    "plt.show()"
   ]
  },
  {
   "cell_type": "code",
   "execution_count": null,
   "metadata": {},
   "outputs": [],
   "source": [
    "make_plot_1(time,timeseries)\n",
    "plt.text(1,0,'1 sec',fontsize=15)\n",
    "\n",
    "plt.show()"
   ]
  },
  {
   "cell_type": "markdown",
   "metadata": {},
   "source": [
    "As expected, they are the same. This shows that it's possible to move from the time domain to the\n",
    "frequency domain, and then back to the time domain, recreating the timeseries from the spectrum."
   ]
  },
  {
   "cell_type": "markdown",
   "metadata": {},
   "source": [
    "### <font color=red>DSP.06.B3.d) Creating a timeseries from the DFT results</font>"
   ]
  },
  {
   "cell_type": "markdown",
   "metadata": {},
   "source": [
    "Now something a little more complicated. Take a look at a plot of the timeseries (1 second, digitized at\n",
    "250 Hz) and then also the DFT magnitude values for each frequency for a new timeseries."
   ]
  },
  {
   "cell_type": "code",
   "execution_count": null,
   "metadata": {},
   "outputs": [],
   "source": [
    "tenHz = np.array([0.7071067811865475, 0.8607420270039436, 0.9602936856769431,\n",
    "0.9995065603657316, 0.9759167619387474, 0.8910065241883679, 0.7501110696304596,\n",
    "0.5620833778521306, 0.33873792024529137, 0.09410831331851431, -0.15643446504023087,\n",
    "-0.3971478906347806, -0.6129070536529764, -0.7901550123756904, -0.9177546256839811,\n",
    "-0.9876883405951378, -0.99556196460308, -0.9408807689542255, -0.8270805742745618,\n",
    "-0.6613118653236518, -0.45399049973954675, -0.21814324139654256,\n",
    "0.03141075907812829, 0.2789911060392293, 0.5090414157503713, 0.7071067811865475,\n",
    "0.8607420270039436, 0.9602936856769431, 0.9995065603657316, 0.9759167619387474,\n",
    "0.8910065241883679, 0.7501110696304596, 0.5620833778521306, 0.33873792024529137,\n",
    "0.09410831331851431, -0.15643446504023087, -0.3971478906347806, -0.6129070536529764,\n",
    "-0.7901550123756904, -0.9177546256839811, -0.9876883405951378, -0.99556196460308,\n",
    "-0.9408807689542255, -0.8270805742745618, -0.6613118653236518, -0.45399049973954675,\n",
    "-0.21814324139654256, 0.03141075907812829, 0.2789911060392293, 0.5090414157503713,\n",
    "0.7071067811865475, 0.8607420270039436, 0.9602936856769431, 0.9995065603657316,\n",
    "0.9759167619387474, 0.8910065241883679, 0.7501110696304596, 0.5620833778521306,\n",
    "0.33873792024529137, 0.09410831331851431, -0.15643446504023087, -0.3971478906347806,\n",
    "-0.6129070536529764, -0.7901550123756904, -0.9177546256839811, -0.9876883405951378,\n",
    "-0.99556196460308, -0.9408807689542255, -0.8270805742745618, -0.6613118653236518,\n",
    "-0.45399049973954675, -0.21814324139654256, 0.03141075907812829, 0.2789911060392293,\n",
    "0.5090414157503713, 0.7071067811865475, 0.8607420270039436, 0.9602936856769431,\n",
    "0.9995065603657316, 0.9759167619387474, 0.8910065241883679, 0.7501110696304596,\n",
    "0.5620833778521306, 0.33873792024529137, 0.09410831331851431, -0.15643446504023087,\n",
    "-0.3971478906347806, -0.6129070536529764, -0.7901550123756904, -0.9177546256839811,\n",
    "-0.9876883405951378, -0.99556196460308, -0.9408807689542255, -0.8270805742745618,\n",
    "-0.6613118653236518, -0.45399049973954675, -0.21814324139654256,\n",
    "0.03141075907812829, 0.2789911060392293, 0.5090414157503713, 0.7071067811865475,\n",
    "0.8607420270039436, 0.9602936856769431, 0.9995065603657316, 0.9759167619387474,\n",
    "0.8910065241883679, 0.7501110696304596, 0.5620833778521306, 0.33873792024529137,\n",
    "0.09410831331851431, -0.15643446504023087, -0.3971478906347806, -0.6129070536529764,\n",
    "-0.7901550123756904, -0.9177546256839811, -0.9876883405951378, -0.99556196460308,\n",
    "-0.9408807689542255, -0.8270805742745618, -0.6613118653236518, -0.45399049973954675,\n",
    "-0.21814324139654256, 0.03141075907812829, 0.2789911060392293, 0.5090414157503713,\n",
    "0.7071067811865475, 0.8607420270039436, 0.9602936856769431, 0.9995065603657316,\n",
    "0.9759167619387474, 0.8910065241883679, 0.7501110696304596, 0.5620833778521306,\n",
    "0.33873792024529137, 0.09410831331851431, -0.15643446504023087, -0.3971478906347806,\n",
    "-0.6129070536529764, -0.7901550123756904, -0.9177546256839811, -0.9876883405951378,\n",
    "-0.99556196460308, -0.9408807689542255, -0.8270805742745618, -0.6613118653236518,\n",
    "-0.45399049973954675, -0.21814324139654256, 0.03141075907812829, 0.2789911060392293,\n",
    "0.5090414157503713, 0.7071067811865475, 0.8607420270039436, 0.9602936856769431,\n",
    "0.9995065603657316, 0.9759167619387474, 0.8910065241883679, 0.7501110696304596,\n",
    "0.5620833778521306, 0.33873792024529137, 0.09410831331851431, -0.15643446504023087,\n",
    "-0.3971478906347806, -0.6129070536529764, -0.7901550123756904, -0.9177546256839811,\n",
    "-0.9876883405951378, -0.99556196460308, -0.9408807689542255, -0.8270805742745618,\n",
    "-0.6613118653236518, -0.45399049973954675, -0.21814324139654256,\n",
    "0.03141075907812829, 0.2789911060392293, 0.5090414157503713, 0.7071067811865475,\n",
    "0.8607420270039436, 0.9602936856769431, 0.9995065603657316, 0.9759167619387474,\n",
    "0.8910065241883679, 0.7501110696304596, 0.5620833778521306, 0.33873792024529137,\n",
    "0.09410831331851431, -0.15643446504023087, -0.3971478906347806, -0.6129070536529764,\n",
    "-0.7901550123756904, -0.9177546256839811, -0.9876883405951378, -0.99556196460308,\n",
    "-0.9408807689542255, -0.8270805742745618, -0.6613118653236518, -0.45399049973954675,\n",
    "-0.21814324139654256, 0.03141075907812829, 0.2789911060392293, 0.5090414157503713,\n",
    "0.7071067811865475, 0.8607420270039436, 0.9602936856769431, 0.9995065603657316,\n",
    "0.9759167619387474, 0.8910065241883679, 0.7501110696304596, 0.5620833778521306,\n",
    "0.33873792024529137, 0.09410831331851431, -0.15643446504023087, -0.3971478906347806,\n",
    "-0.6129070536529764, -0.7901550123756904, -0.9177546256839811, -0.9876883405951378,\n",
    "-0.99556196460308, -0.9408807689542255, -0.8270805742745618, -0.6613118653236518,\n",
    "-0.45399049973954675, -0.21814324139654256, 0.03141075907812829, 0.2789911060392293,\n",
    "0.5090414157503713, 0.7071067811865475, 0.8607420270039436, 0.9602936856769431,\n",
    "0.9995065603657316, 0.9759167619387474, 0.8910065241883679, 0.7501110696304596,\n",
    "0.5620833778521306, 0.33873792024529137, 0.09410831331851431, -0.15643446504023087,\n",
    "-0.3971478906347806, -0.6129070536529764, -0.7901550123756904, -0.9177546256839811,\n",
    "-0.9876883405951378, -0.99556196460308, -0.9408807689542255, -0.8270805742745618,\n",
    "-0.6613118653236518, -0.45399049973954675, -0.21814324139654256,\n",
    "0.03141075907812829, 0.2789911060392293, 0.5090414157503713])\n",
    "\n",
    "tenHz"
   ]
  },
  {
   "cell_type": "code",
   "execution_count": null,
   "metadata": {},
   "outputs": [],
   "source": [
    "time = np.arange(0,1, 1/250)\n",
    "make_plot_1(time,tenHz)\n",
    "plt.text(1,0,'1 sec',fontsize=15)\n",
    "\n",
    "plt.show()"
   ]
  },
  {
   "cell_type": "code",
   "execution_count": null,
   "metadata": {},
   "outputs": [],
   "source": [
    "make_plot_freq_1(tenHz,250)\n",
    "\n",
    "# Adding text to the figure\n",
    "plt.text(126,0,'Hz',fontsize=15)\n",
    "plt.show()"
   ]
  },
  {
   "cell_type": "markdown",
   "metadata": {},
   "source": [
    "The frequency spectrum plot shows a clear peak at 10 Hz. An examination of the DFT frequency and\n",
    "magnitude values confirms 10 Hz activity."
   ]
  },
  {
   "cell_type": "markdown",
   "metadata": {},
   "source": [
    "Make a 10 Hz timeseries and then overlay the original and new timeseries."
   ]
  },
  {
   "cell_type": "code",
   "execution_count": null,
   "metadata": {},
   "outputs": [],
   "source": [
    "time = np.arange(0,1, 1/250)\n",
    "data = np.sin(2*np.pi * 10 * time)\n",
    "make_plot_1(time,data)\n",
    "plt.text(1,0,'1 sec',fontsize=15)\n",
    "\n",
    "plt.show()"
   ]
  },
  {
   "cell_type": "code",
   "execution_count": null,
   "metadata": {},
   "outputs": [],
   "source": [
    "make_plot_2(time,tenHz,'b',time,data,'r')\n",
    "plt.text(1,0,'1 sec',fontsize=15)\n",
    "plt.show()  "
   ]
  },
  {
   "cell_type": "markdown",
   "metadata": {},
   "source": [
    "Not exactly the same. The two timeseries differ in phase. What went wrong?\n",
    "\n",
    "Answer:\n",
    "    \n",
    "To recreate the original timeseries, we need to know more than the frequency and magnitude values.\n",
    "Remember, a complete description of a sine wave includes information about the frequency, the\n",
    "magnitude, and the phase. So far, we've used only frequency and magnitude information. Let's look at\n",
    "the phase information and see if that helps."
   ]
  },
  {
   "cell_type": "markdown",
   "metadata": {},
   "source": [
    "We can obtain phase information from complex numbers using the Python 'arctan' function.\n",
    "Let's take a look at the DFT output on the original data."
   ]
  },
  {
   "cell_type": "code",
   "execution_count": null,
   "metadata": {},
   "outputs": [],
   "source": [
    "yf = fft(tenHz)\n",
    "yf"
   ]
  },
  {
   "cell_type": "markdown",
   "metadata": {},
   "source": [
    "We need to obtain the phase information from the complex number representing 10 Hz activity.\n",
    "\n",
    "Grab that point (the 10th point from the end) and obtain the phase information."
   ]
  },
  {
   "cell_type": "code",
   "execution_count": null,
   "metadata": {},
   "outputs": [],
   "source": [
    "point = yf[-10]\n",
    "point_x = np.real(point)\n",
    "point_y = np.imag(point)\n",
    "phaseradians = round(np.arctan(point_x/point_y),5)\n",
    "phasedegrees = round(phaseradians * 180 / np.pi,2)\n",
    "phasedegrees"
   ]
  },
  {
   "cell_type": "markdown",
   "metadata": {},
   "source": [
    "Use this information to create a 10 Hz sin wave with the above phase delay."
   ]
  },
  {
   "cell_type": "code",
   "execution_count": null,
   "metadata": {},
   "outputs": [],
   "source": [
    "time = np.arange(0,1, 1/250)\n",
    "data = np.sin(2*np.pi * 10 * time + np.pi/4)\n",
    "make_plot_1(time,data)\n",
    "plt.text(1,0,'1 sec',fontsize=15)\n",
    "\n",
    "plt.show()"
   ]
  },
  {
   "cell_type": "code",
   "execution_count": null,
   "metadata": {},
   "outputs": [],
   "source": [
    "make_plot_2(time,tenHz,'b',time,data,'r')\n",
    "plt.text(1,0,'1 sec',fontsize=15)\n",
    "plt.show() "
   ]
  },
  {
   "cell_type": "markdown",
   "metadata": {},
   "source": [
    "Looks good now."
   ]
  },
  {
   "cell_type": "markdown",
   "metadata": {},
   "source": [
    "## <font color=red>DSP.06.B4) The Inverse Fourier Transform</font>"
   ]
  },
  {
   "cell_type": "markdown",
   "metadata": {},
   "source": [
    "### <font color=red>DSP.06.B4.a) Inverse Fourier Transform</font>"
   ]
  },
  {
   "cell_type": "markdown",
   "metadata": {},
   "source": [
    "You now know how to examine the DFT output to obtain the information needed to recreate the original\n",
    "timeseries, via the IFT. Although you can easily recreate the original timeseries directly when there are only a few\n",
    "frequencies, doing so becomes difficult when there is activity at many frequencies."
   ]
  },
  {
   "cell_type": "markdown",
   "metadata": {},
   "source": [
    "Take a look at the DFT of the timeseries below."
   ]
  },
  {
   "cell_type": "code",
   "execution_count": null,
   "metadata": {},
   "outputs": [],
   "source": [
    "timeseries = 0.6 * np.sin(2*np.pi * 5 * time) +  5.6*np.sin(2*np.pi * 10 * time+np.pi/3) + np.sin(2*np.pi * 15 * time+np.pi/6) +\\\n",
    "              0.9*np.sin(2*np.pi * 27 * time) + np.sin(2*np.pi * 58 * time+np.pi/5)+\\\n",
    "            0.3 * np.sin(2*np.pi * 4 * time) +  7.6*np.sin(2*np.pi * 53 * time+np.pi/3) + np.sin(2*np.pi * 22 * time+np.pi/6) +\\\n",
    "              0.9*np.sin(2*np.pi * 43 * time) + np.sin(2*np.pi * 33 * time+np.pi/5)\n",
    "            \n",
    "make_plot_1(time,timeseries)\n",
    "plt.text(1,0,'1 sec',fontsize=15)\n",
    "\n",
    "plt.show()"
   ]
  },
  {
   "cell_type": "code",
   "execution_count": null,
   "metadata": {},
   "outputs": [],
   "source": [
    "sample_rate = 250\n",
    "duration = 1\n",
    "\n",
    "n = sample_rate * duration\n",
    "nhalf = round(n/2)\n",
    "\n",
    "yf = fft(timeseries)\n",
    "xf = fftfreq(n, 1 / sample_rate)\n",
    "\n",
    "yf = yf[0:nhalf]\n",
    "xf = xf[0:nhalf]\n",
    "\n",
    "plt.plot(xf, np.abs(yf))\n",
    "\n",
    "# Adding text to the figure\n",
    "plt.text(126,0,'Hz',fontsize=15)\n",
    "plt.show()"
   ]
  },
  {
   "cell_type": "markdown",
   "metadata": {},
   "source": [
    "Lots going on there. As demonstrated above, it would be possible to look at the DFT output (the magnitude and phase for each frequency) to reconstruct the original\n",
    "timeseries. However, there is an easier way. The DFT takes you from the time to the frequency domain.\n",
    "To move from the frequency to the time domain, we compute the Inverse Fourier Transform."
   ]
  },
  {
   "cell_type": "markdown",
   "metadata": {},
   "source": [
    "Here is the Fourier Transform\n",
    "\n",
    "$F( ω ) = \\frac{\\int_{-∞}^{∞}f(t)e^{i ω t}dt}{\\sqrt{2\\pi}}$\n",
    "\n",
    "and here is the Inverse Fourier Transform\n",
    "\n",
    "$F( t ) = \\frac{\\int_{-∞}^{∞}F(ω)e^{-i ω t}dω}{\\sqrt{2\\pi}}$\n",
    "\n",
    "where in both cases ⅈ is the imaginary unity number, and ω is the range of frequencies associated with\n",
    "the signal (i.e., the frequency content of the signal). When we calculate the forward Fourier transform, we integrate across time. The inverse integrates across the component frequencies. You can see that the two formulas are very similar. You probably noticed that the positions of ω and t are reversed.  Also, the sign of the exponent changes. Otherwise, the two formulas are basically...the same formula. This highlights the bidirectionaliy of the Fourier method. Underlying that is the intertranslatability of time-domain and frequency-domain representations of a phenomenon."
   ]
  },
  {
   "cell_type": "markdown",
   "metadata": {},
   "source": [
    "We can note the following:\n",
    "    \n",
    "A Discrete Fourier Transform converts a digitally represented signal from the time domain to the frequency\n",
    "domain.\n",
    "\n",
    "An Inverse Fourier Transform does the converse.\n",
    "\n",
    "No information is lost in either transform - each is simply a way to represent the original vector of data.\n",
    "\n",
    "You can easily calculate the Inverse Fourier Transform with Python.\n",
    "\n",
    "Here are the original data and the Fourier Transform output."
   ]
  },
  {
   "cell_type": "code",
   "execution_count": null,
   "metadata": {},
   "outputs": [],
   "source": [
    "timeseries"
   ]
  },
  {
   "cell_type": "code",
   "execution_count": null,
   "metadata": {},
   "outputs": [],
   "source": [
    "yf2 = []\n",
    "for xx in yf:\n",
    "   yf2.append(round_complex(xx))\n",
    "yf2"
   ]
  },
  {
   "cell_type": "code",
   "execution_count": null,
   "metadata": {},
   "outputs": [],
   "source": [
    "from scipy.fft import fft, ifft, fftfreq\n",
    "\n",
    "yf = fft(timeseries)\n",
    "timeseries2 = ifft(yf)\n",
    "timeseries2"
   ]
  },
  {
   "cell_type": "markdown",
   "metadata": {},
   "source": [
    "Looks the same as the original timeseries. To confirm, plot the data and then overlay the original and\n",
    "the recreated timeseries"
   ]
  },
  {
   "cell_type": "code",
   "execution_count": null,
   "metadata": {},
   "outputs": [],
   "source": [
    "make_plot_1(time,timeseries2)\n",
    "plt.text(1,0,'1 sec',fontsize=15)\n",
    "\n",
    "plt.show()"
   ]
  },
  {
   "cell_type": "code",
   "execution_count": null,
   "metadata": {},
   "outputs": [],
   "source": [
    "make_plot_1(time,timeseries)\n",
    "plt.text(1,0,'1 sec',fontsize=15)\n",
    "\n",
    "plt.show()"
   ]
  },
  {
   "cell_type": "markdown",
   "metadata": {},
   "source": [
    "Exactly the same."
   ]
  },
  {
   "cell_type": "markdown",
   "metadata": {},
   "source": [
    "## <font color=red>DSP.06.B5) The Forward and Inverse Fourier Transform - Some Thoughts</font>"
   ]
  },
  {
   "cell_type": "markdown",
   "metadata": {},
   "source": [
    "### <font color=red>DSP.06.B5.a) Time-domain and frequency-domain representations</font>"
   ]
  },
  {
   "cell_type": "markdown",
   "metadata": {},
   "source": [
    "The interchangeability (more precisely, the intertranslatability) of time-domain and frequency-domain representations of a given waveform\n",
    "bears emphasis. Consider a set of j sine waves. Given the stationarity assumption, the frequency,\n",
    "amplitude, and the phase of each sine wave are constant throughout the analyzed epoch. At any particular\n",
    "time during the epoch, the different sine waves may be at different points in their cycles. Summing\n",
    "across the set of sine waves produces a single composite waveform in which the constituents may be\n",
    "difficult to identify. One could digitize the composite waveform, describing it as a single vector of\n",
    "values arranged in time. Alternatively, one could describe it with power and phase vectors (known\n",
    "as the power and phase spectra) arranged in order by frequency. Either description--in the time\n",
    "domain or in the frequency domain--completely specifies all of the information contained in the digitized\n",
    "composite waveform. One description may be more tractable for a given set of analyses or more\n",
    "intuitively appealing for a given question, but the same information is available in the two representations."
   ]
  },
  {
   "cell_type": "markdown",
   "metadata": {},
   "source": [
    "It should be noted that the fidelity of a Fourier analysis is limited by the extent to which modeling the\n",
    "data as a sum of invariant sinusoids is appropriate to the raw data. Because Fourier-transformed data\n",
    "in the frequency domain contain exactly the information in the original time-domain waveform, the\n",
    "Fourier transform, in either direction, does not introduce distortion into the data. However, characterization\n",
    "of the data via a set of sine waves does not ensure that the original phenomena were indeed\n",
    "sinusoidal, that the original phenomenon was stationary over the epoch analyzed, or that scoring in terms of sine waves provides a high-fidelity representation of those\n",
    "phenomena. The Fourier Theorem just says that we can create a sinusoidal model of any vector of data.\n",
    "\n",
    "Quick terminology note: You may run across the term \"Fast Fourier Transform\" (FFT). It happens that, if one makes certain assumptions or adopts certain restrictions about one's data, one can derive some computational shortcuts to accomplish the DFT faster. Generally, FFT refers to suc a method for doing a DFT. A common restriction is that the length of the timeseries is a power of 2. That's one reason one sometimes sees a sampling rate of 512 or 1024; or, for say 1000 Hz sampling rate, an analysis epoch of 1.024 seconds (containing 1024 samples). Everything we've discussed here applies to those cases, but we've considered the general case - not limited e.g. to power-of-2 analysis epochs."
   ]
  }
 ],
 "metadata": {
  "kernelspec": {
   "display_name": "Python 3 (ipykernel)",
   "language": "python",
   "name": "python3"
  },
  "language_info": {
   "codemirror_mode": {
    "name": "ipython",
    "version": 3
   },
   "file_extension": ".py",
   "mimetype": "text/x-python",
   "name": "python",
   "nbconvert_exporter": "python",
   "pygments_lexer": "ipython3",
   "version": "3.11.4"
  }
 },
 "nbformat": 4,
 "nbformat_minor": 4
}
