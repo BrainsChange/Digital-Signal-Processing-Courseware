{
 "cells": [
  {
   "cell_type": "markdown",
   "id": "6d217dd6",
   "metadata": {},
   "source": [
    "#### Digital Signal Processing Courseware: An Introduction (copyright © 2024)\n",
    "## Authors: J. Christopher Edgar and Gregory A. Miller\n",
    "\n",
    "Originally written in Mathematica by J. Christopher Edgar. Conversion to Jupyter Notebook by Song Liu.\n",
    "\n",
    "The authors of this courseware are indebted to Prof. Bruce Carpenter (University of Illinois Urbana-Champaign). Bruce inspired the creation of this courseware, he consulted with the authors as this courseware was being developed, and he provided the original version of the code and text for several sections of this courseware (e.g. the section on complex numbers and the section on normal distributions). "
   ]
  },
  {
   "cell_type": "markdown",
   "id": "05592f46",
   "metadata": {},
   "source": [
    "# <font color=red>DSP.01 Frequency, Amplitude, and Phase</font>"
   ]
  },
  {
   "cell_type": "markdown",
   "id": "f4ed7011",
   "metadata": {},
   "source": [
    "# <font color=red>TUTORIAL</font>"
   ]
  },
  {
   "cell_type": "markdown",
   "id": "b40e060a",
   "metadata": {},
   "source": [
    "### Setup"
   ]
  },
  {
   "cell_type": "code",
   "execution_count": null,
   "id": "cff40168",
   "metadata": {},
   "outputs": [],
   "source": [
    "# general imports\n",
    "import numpy as np\n",
    "import matplotlib.pyplot as plt\n",
    "from matplotlib import image as img\n",
    "from matplotlib import cm\n",
    "from mpl_toolkits import mplot3d\n",
    "from scipy.fft import fft, fftfreq\n",
    "import matplotlib.patches as patches\n",
    "import math\n",
    "import cmath\n",
    "import pandas as pd\n",
    "from sympy import Symbol, sin, series\n",
    "from sympy import roots, solve_poly_system\n",
    "import scipy.special\n",
    "\n",
    "import warnings\n",
    "warnings.filterwarnings('ignore')\n",
    "\n",
    "# Figure size \n",
    "plt.rc(\"figure\", figsize=(8, 6))\n",
    "\n",
    "#function to create time course figure\n",
    "#one waveform\n",
    "def make_plot_1(x1,y1,type=\"b\",linewidth = 1): \n",
    "    plt.plot(x1, y1,type)\n",
    "    plt.margins(x=0, y=0)\n",
    "    plt.axhline(y=0, color='k')\n",
    "    plt.tick_params(labelbottom = False, bottom = False)\n",
    "    \n",
    "#two overlaid waveforms with red and blue   \n",
    "def make_plot_2(x1,y1,type1,x2,y2,type2): \n",
    "    plt.plot(x1, y1, type1)\n",
    "    plt.plot(x2, y2, type2)\n",
    "    plt.margins(x=0, y=0)\n",
    "    plt.axhline(y=0, color='k')\n",
    "    plt.tick_params(labelbottom = False, bottom = False)\n",
    "    \n",
    "#three overlaid waveforms with red, blue and green   \n",
    "def make_plot_3(x1,y1,type1,x2,y2,type2,x3,y3,type3): \n",
    "    plt.plot(x1, y1, type1)\n",
    "    plt.plot(x2, y2, type2)\n",
    "    plt.plot(x3, y3, type3)\n",
    "    plt.margins(x=0, y=0)\n",
    "    plt.axhline(y=0, color='k')\n",
    "    plt.tick_params(labelbottom = False, bottom = False)\n",
    "    \n",
    "def make_plot_3d(ax,x,y,z):    \n",
    "    ax.contour3D(x, y, z, 50, cmap=cm.coolwarm)\n",
    "    ax.set_xlabel('x')\n",
    "    ax.set_ylabel('y')\n",
    "    ax.set_zlabel('z')\n",
    "    \n",
    "def make_plot_freq_1(x1,sample_rate, duration=1): \n",
    "    N = sample_rate * duration\n",
    "    Nhalf = math.ceil(N/2)\n",
    "    yf = fft(x1)\n",
    "    xf = fftfreq(N, 1 / sample_rate)\n",
    "    yf = yf[0:Nhalf]\n",
    "    xf = xf[0:Nhalf]\n",
    "    plt.plot(xf, np.abs(yf))\n",
    "    \n",
    "#two spectrums\n",
    "def make_plot_freq_2(x1,x2,sample_rate, duration=1): \n",
    "    N = sample_rate * duration\n",
    "    Nhalf = math.ceil(N/2)\n",
    "    yf1 = fft(x1)\n",
    "    yf2 = fft(x2)\n",
    "    xf = fftfreq(N, 1 / sample_rate)\n",
    "\n",
    "    yf1 = yf1[0:Nhalf]\n",
    "    yf2 = yf2[0:Nhalf]\n",
    "    xf = xf[0:Nhalf]\n",
    "\n",
    "    plt.plot(xf, np.abs(yf1))\n",
    "    plt.plot(xf, np.abs(yf2), color = 'r')\n",
    "    \n",
    "def make_imshow(x):\n",
    "    plt.imshow(x,cmap='Greys_r')\n",
    "    plt.tick_params(labelbottom = False, bottom = False)\n",
    "    plt.tick_params(labelleft = False, left = False)\n",
    "    \n",
    "def make_imshow_color(x):\n",
    "    plt.imshow(x)\n",
    "    plt.tick_params(labelbottom = False, bottom = False)\n",
    "    plt.tick_params(labelleft = False, left = False)\n",
    "    \n",
    "def round_complex(x):\n",
    "    return complex(np.round(x.real,4),np.round(x.imag,4))"
   ]
  },
  {
   "cell_type": "markdown",
   "id": "6d7d9587",
   "metadata": {},
   "source": [
    "\n",
    "The first few Tutorial sections in this lesson introduce some mathematical facts that we'll use in later lessons to do some of the heavy lifting. If you haven't taken a lot of math classes, some parts of these sections may be difficult to understand at first. Don't worry! We'll revisit these ideas many times in later lessons. If you work through these sections and ask questions when uncertain or confused, then YOU WILL soon understand these important mathematical ideas. Keep your eyes on the prize: big payoffs later for engaging this stuff now.\n",
    "\n",
    "In the final Tutorial sections, we'll learn how to import data and image files. These later sections are easier, and by the end of this Tutorial you'll be able to import your own data and images and do interesting things to them - and understand what you're doing."
   ]
  },
  {
   "cell_type": "markdown",
   "id": "2667568a",
   "metadata": {},
   "source": [
    "## <font color=red>DSP.01.T1) Identities</font>"
   ]
  },
  {
   "cell_type": "markdown",
   "id": "aa4d0d51",
   "metadata": {},
   "source": [
    "### <font color=red>DSP.01.T1.a) Identities - Polynomial Expansions</font>"
   ]
  },
  {
   "cell_type": "markdown",
   "id": "b91f08c7",
   "metadata": {},
   "source": [
    "Sine and cosine functions are close cousins, essentially the same function except for a 90-degree (= $\\pi/2$) phase difference. In later lessons, as we examine more advanced topics, we will need to have a good understanding of several identities relating sine/cosine functions and complex exponentials. (We don't really need complex exponentials themselves for work on signal processing, but the tools already developed to work with them are valuable for working with sine/cosine functions. These tools include concepts, algorithms, and software already developed. Might as well save ourselves some work later with a little investment up front.) The similarity between sine/cosine functions and complex exponentials will be examined over the next few lessons. Eventually, once we're familiar with these identities, we'll see that, instead of using sines and cosines, we'll often prefer using complex exponentials."
   ]
  },
  {
   "cell_type": "markdown",
   "id": "eab39d37",
   "metadata": {},
   "source": [
    "Here, an expansion is an algebraic way to compute values for the 'Sin' or 'Cos' function. In other words, one can compute a good approximation of those trigonometric relationships with algebra. At some point you might have memorized the polynomial expansions of sine and cosine. If not, here they are:"
   ]
  },
  {
   "cell_type": "markdown",
   "id": "7b3fbe0d",
   "metadata": {},
   "source": [
    "$\\rightarrow$ The expansion of Sin[x] in powers of x (where x is in radians) is"
   ]
  },
  {
   "cell_type": "markdown",
   "id": "5e2ae80d",
   "metadata": {},
   "source": [
    "$X-\\frac{x^3}{3!}+\\frac{x^5}{5!} -...+\\frac{(-1)^kx^{2k+1}}{(2k+1)!}+...$"
   ]
  },
  {
   "cell_type": "markdown",
   "id": "03d750dc",
   "metadata": {},
   "source": [
    "$\\rightarrow$ The expansion of Cos[x] in powers of x is"
   ]
  },
  {
   "cell_type": "markdown",
   "id": "285708fe",
   "metadata": {},
   "source": [
    "$1-\\frac{x^2}{2!}+\\frac{x^4}{4!} -...+\\frac{(-1)^kx^{2k}}{(2k)!}+...$"
   ]
  },
  {
   "cell_type": "markdown",
   "id": "4dc37d1a",
   "metadata": {},
   "source": [
    "Notice that each term follows a simple pattern of: x = current distance along the sine or cosine function (i.e., the phase in radians); raise that x to a power 'k' for the numerator of the next term; and compute k! ('k' factorial) for the denominator.\n",
    "\n",
    "Also notice that the expansions for sine and cosine are very similar - using odd or even numbers.\n",
    "\n",
    "These polynomial expansions can be used to plot sine and cosine waves.\n",
    "\n",
    "How good is the approximation? That's up to you, because it depends on how long that equation is = how many terms you include. The more such terms you include, the more computational time it takes to compute each value, but the more accurate the approximation.\n",
    "\n",
    "Here is the polynomial expansion of Sin[x] out to the 19th order:"
   ]
  },
  {
   "cell_type": "markdown",
   "id": "bc52e004",
   "metadata": {},
   "source": [
    "$X-\\frac{x^3}{3!}+\\frac{x^5}{5!}-\\frac{x^7}{7!}+\\frac{x^9}{9!}-\\frac{x^{11}}{{11}!}+\\frac{x^{13}}{{13}!}-\\frac{x^{15}}{{15}!}+\\frac{x^{17}}{{17}!}-\\frac{x^{19}}{{19}!}$"
   ]
  },
  {
   "cell_type": "markdown",
   "id": "d1503e3f",
   "metadata": {},
   "source": [
    "Plot this polynomial. When you look over the Python code, remember that x is in radians. In the code here, we use the variable name \"rad\" as the x value, and as that value increases we march along the sine function that we're approximating."
   ]
  },
  {
   "cell_type": "code",
   "execution_count": null,
   "id": "da4cb417",
   "metadata": {},
   "outputs": [],
   "source": [
    "rad = np.arange(0,2*np.pi, 0.001)\n",
    "\n",
    "timeseries = rad - rad**3/np.math.factorial(3) + rad**5/np.math.factorial(5) - rad**7/np.math.factorial(7)+ \\\n",
    "rad**9/np.math.factorial(9)- rad**11/np.math.factorial(11) + rad**13/np.math.factorial(13)- rad**15/np.math.factorial(15)+ \\\n",
    "rad**17/np.math.factorial(17)-rad**19/np.math.factorial(19)\n",
    "\n",
    "# Plotting time vs amplitude using plot function \n",
    "make_plot_1(rad,timeseries)\n",
    "\n",
    "plt.show()"
   ]
  },
  {
   "cell_type": "markdown",
   "id": "0fdae504",
   "metadata": {},
   "source": [
    "Looks like a 1 Hz sine wave. Just to make sure, compare a plot of f[x] = Sin[x] and the polynomial expansion of Sin[x]."
   ]
  },
  {
   "cell_type": "code",
   "execution_count": null,
   "id": "7d195e9e",
   "metadata": {},
   "outputs": [],
   "source": [
    "rad = np.arange(0,2*np.pi, 0.001)\n",
    "freq = 1\n",
    "\n",
    "timeseries1 = np.sin(freq * rad)\n",
    "timeseries2 = rad - rad**3/np.math.factorial(3) + rad**5/np.math.factorial(5) - rad**7/np.math.factorial(7)+ \\\n",
    "rad**9/np.math.factorial(9)- rad**11/np.math.factorial(11) + rad**13/np.math.factorial(13)- rad**15/np.math.factorial(15)+ \\\n",
    "rad**17/np.math.factorial(17)-rad**19/np.math.factorial(19)\n",
    "\n",
    "# Plotting time vs amplitude using plot function \n",
    "make_plot_1(rad,timeseries1)\n",
    "plt.text(np.pi*2,0,'1 sec',fontsize=15)\n",
    "plt.show()\n",
    "\n",
    "make_plot_1(rad,timeseries2)\n",
    "plt.text(np.pi*2,0,'1 sec',fontsize=15)\n",
    "plt.show()"
   ]
  },
  {
   "cell_type": "markdown",
   "id": "a7760c37",
   "metadata": {},
   "source": [
    "Pretty conclusive visual evidence that Sin[x] and the polynomial expansion of Sin[x] are identical, within the resolution of this plot. For higher resolution, you could add more terms to the polynomial, but we see that 10 terms already does quite well. If you want a perfect fit, all you have to do is use an infinite number of terms (which of course would take an infinite amount of time to compute). Not doing too many terms usually isn't much of a problem, because each one you add helps less and less.\n",
    "\n",
    "Use the polynomial expansion of Sin[x] to plot a 3 Hz sine wave. (Notice where we put the \"3\" in the expansion: we multiply every term by 3, so that the result is a 3 Hz sine wave.) "
   ]
  },
  {
   "cell_type": "markdown",
   "id": "2f70b007",
   "metadata": {},
   "source": [
    "In particular, use the 'series' method to quickly derive the polynomial expansion of Sin[3x].\n",
    "\n",
    "**Note: In the below output, Python simplifies each fraction. So, for example, the second term is $\\frac{27x^3}{6}$ which reduces to the shown $\\frac{9x^3}{2}$.**"
   ]
  },
  {
   "cell_type": "code",
   "execution_count": null,
   "id": "65fb794b",
   "metadata": {},
   "outputs": [],
   "source": [
    "x = Symbol('x')\n",
    "series(sin(3*x),x,0,20) "
   ]
  },
  {
   "cell_type": "markdown",
   "id": "8c3c6205",
   "metadata": {},
   "source": [
    "Plot this polynomial function. "
   ]
  },
  {
   "cell_type": "code",
   "execution_count": null,
   "id": "48d0b45b",
   "metadata": {},
   "outputs": [],
   "source": [
    "rad = np.arange(0,2*np.pi, 0.001)\n",
    "rad3 = 3 * rad\n",
    "\n",
    "# Finding amplitude at each time\n",
    "timeseries = rad3 - rad3**3/np.math.factorial(3) + rad3**5/np.math.factorial(5) - rad3**7/np.math.factorial(7)+ \\\n",
    "rad3**9/np.math.factorial(9)- rad3**11/np.math.factorial(11) + rad3**13/np.math.factorial(13)- rad3**15/np.math.factorial(15)+ \\\n",
    "rad3**17/np.math.factorial(17)-rad3**19/np.math.factorial(19)\n",
    "\n",
    "make_plot_1(rad,timeseries)\n",
    "\n",
    "plt.show()"
   ]
  },
  {
   "cell_type": "markdown",
   "id": "606f802c",
   "metadata": {},
   "source": [
    "That doesn't look good - not like a sine wave! What went wrong?"
   ]
  },
  {
   "cell_type": "markdown",
   "id": "7fed6cfe",
   "metadata": {},
   "source": [
    "Answer: For higher frequencies, more polynomial terms are needed. Try a 35th-order polynomial expansion of Sin[x]."
   ]
  },
  {
   "cell_type": "code",
   "execution_count": null,
   "id": "db607ca0",
   "metadata": {},
   "outputs": [],
   "source": [
    "rad = np.arange(0,2*np.pi, 0.001)\n",
    "rad3 = 3 * rad\n",
    "\n",
    "f_range = np.arange(0,18) # 2*(18-1) + 1 = 35\n",
    "f_range_size = f_range.size\n",
    "f_range = f_range.reshape((f_range_size,1))\n",
    "\n",
    "# Finding amplitude at each time\n",
    "timeseries = (-1)**f_range * rad3**(2*f_range+1) / scipy.special.factorial(2*f_range+1)\n",
    "timeseries = timeseries.sum(axis = 0)\n",
    "\n",
    "make_plot_1(rad,timeseries)\n",
    "\n",
    "plt.show()"
   ]
  },
  {
   "cell_type": "markdown",
   "id": "ab290fea",
   "metadata": {},
   "source": [
    "Still not right. Try the 51st-order polynomial expansion of Sin[x]."
   ]
  },
  {
   "cell_type": "code",
   "execution_count": null,
   "id": "b7815e80",
   "metadata": {},
   "outputs": [],
   "source": [
    "rad = np.arange(0,2*np.pi, 0.001)\n",
    "rad3 = 3 * rad\n",
    "\n",
    "f_range = np.arange(0,26) # 2*(26-1) + 1 = 51\n",
    "f_range_size = f_range.size\n",
    "f_range = f_range.reshape((f_range_size,1))\n",
    "\n",
    "# Finding amplitude at each time\n",
    "timeseries = (-1)**f_range * rad3**(2*f_range+1) / scipy.special.factorial(2*f_range+1)\n",
    "timeseries = timeseries.sum(axis = 0)\n",
    "\n",
    "make_plot_1(rad,timeseries)\n",
    "\n",
    "plt.show()"
   ]
  },
  {
   "cell_type": "markdown",
   "id": "7ccefca4",
   "metadata": {},
   "source": [
    "Calculating high-order polynomial expansions is a lot of work (you would not want to do that by hand), but it gets the job done."
   ]
  },
  {
   "cell_type": "markdown",
   "id": "1a64d6af",
   "metadata": {},
   "source": [
    "### <font color=red>DSP.01.T1.b) Identities - the imaginary number ⅈ and complex numbers</font>"
   ]
  },
  {
   "cell_type": "markdown",
   "id": "f52a0d5c",
   "metadata": {},
   "source": [
    "In later sections we'll encounter complex numbers. Take a second to recall some important facts about complex numbers."
   ]
  },
  {
   "cell_type": "markdown",
   "id": "4e996307",
   "metadata": {},
   "source": [
    "The imaginary number $i$ (sometime written as upper case $I$ or as J or $j$) enters the story as a solution of\n",
    " ${x^2}+1=0$:"
   ]
  },
  {
   "cell_type": "code",
   "execution_count": null,
   "id": "03c02e83",
   "metadata": {},
   "outputs": [],
   "source": [
    "from sympy import *\n",
    "x = symbols('x')\n",
    "\n",
    "solve(x**2 + 1, x)"
   ]
  },
  {
   "cell_type": "markdown",
   "id": "8eb78c88",
   "metadata": {},
   "source": [
    "Although you can think of $i$ as the official symbol for $\\sqrt{-1}$, fields of science and engineering that work with electrical current generally use $i$ or I for current, so they typically use $j$ or J for $\\sqrt{-1}$.\n",
    "\n",
    "Once $i$=$\\sqrt{-1}$ comes in the door, then so do complex numbers. A complex number is any number of the form\n",
    "a + $i$ b\n",
    "where a and b are real numbers. Complex numbers come up as solutions of quadratic equations that have no real-number solutions:"
   ]
  },
  {
   "cell_type": "code",
   "execution_count": null,
   "id": "b7aeedea",
   "metadata": {},
   "outputs": [],
   "source": [
    "from sympy import *\n",
    "x = symbols('x')\n",
    "\n",
    "solve(x**2 + 0.5*x +1, x)"
   ]
  },
  {
   "cell_type": "markdown",
   "id": "1c5ec130",
   "metadata": {},
   "source": [
    "This tells you that the complex numbers -0.25 + 0.968246 $i$ and -0.25 - 0.968246 $i$\n",
    "solve the equation\n",
    "\n",
    "${x^2}+0.5x+1=0$ ."
   ]
  },
  {
   "cell_type": "markdown",
   "id": "8b6cfb94",
   "metadata": {},
   "source": [
    "### <font color=red>DSP.01.T1.c) Formulas for adding, subtracting, multiplying, and dividing complex numbers</font>"
   ]
  },
  {
   "cell_type": "markdown",
   "id": "d8308c7b",
   "metadata": {},
   "source": [
    "Here are the formulas for the addition, subtraction, multiplication, and division of complex numbers. Remember that something like \"a + b ⅈ\" is a single complex number (with a real part and an imaginary part), not two numbers.\n",
    "\n",
    "\n",
    "Addition:"
   ]
  },
  {
   "cell_type": "markdown",
   "id": "0834f19c",
   "metadata": {},
   "source": [
    "(a + b $i$) + (c + d $i$) = (a + c) + (b + d)$i$"
   ]
  },
  {
   "cell_type": "markdown",
   "id": "593b454f",
   "metadata": {},
   "source": [
    "Subtraction:\n",
    "\n",
    "(a + b$i$) - (c + d $i$) = (a - c) + (b - d)$i$\n",
    "\n",
    "Multiplication:\n",
    "\n",
    "(a + b $i$) (c + d$i$) = (a c - b d) + (a d + b c)$i$\n",
    "\n",
    "Division:"
   ]
  },
  {
   "cell_type": "markdown",
   "id": "3ce0e69a",
   "metadata": {},
   "source": [
    "$\\frac{a + b ⅈ}{c + d ⅈ} = \\frac{a + b ⅈ}{c + d ⅈ} \\times \\frac{c - d ⅈ}{c - d ⅈ} = \\frac {ac+b d}{c^2+d^2}+\\frac{(b c-a d)  ⅈ}{c^2+d^2}$"
   ]
  },
  {
   "cell_type": "code",
   "execution_count": null,
   "id": "586952bf",
   "metadata": {},
   "outputs": [],
   "source": [
    "from sympy import Symbol,symbols\n",
    "from sympy import *\n",
    "\n",
    "a,b,c,d = symbols('a,b,c,d',real=True)\n",
    "simplify(a+I*b+c+I*d)"
   ]
  },
  {
   "cell_type": "markdown",
   "id": "baf395ba",
   "metadata": {},
   "source": [
    "Using the above rules, calculate the following:\n",
    "(3 + 4$i$) + (5 - 2$i$)"
   ]
  },
  {
   "cell_type": "markdown",
   "id": "de600b75",
   "metadata": {},
   "source": [
    "Answer: Simple"
   ]
  },
  {
   "cell_type": "markdown",
   "id": "0714b875",
   "metadata": {},
   "source": [
    "(3 + 4$i$) + (5 - 2$i$) = 3 + 5 + 4$i$ - 2$i$ = 8 + 2$i$  "
   ]
  },
  {
   "cell_type": "markdown",
   "id": "52f723dc",
   "metadata": {},
   "source": [
    "Calculate the following:\n",
    "(3 + 4$i$) (5 - 2$i$)"
   ]
  },
  {
   "cell_type": "markdown",
   "id": "a2b5509b",
   "metadata": {},
   "source": [
    "Answer: Simple"
   ]
  },
  {
   "cell_type": "markdown",
   "id": "a39c7694",
   "metadata": {},
   "source": [
    "(3 + 4$i$) (5 - 2$i$) = 15 + 20$i$ - 6$i$ - 8 $i^2$ = 23 +14$i$\n",
    " \n",
    "(remember, $i^2=-1$)"
   ]
  },
  {
   "cell_type": "markdown",
   "id": "58467190",
   "metadata": {},
   "source": [
    "### <font color=red>DSP.01.T1.d) Identities - Euler Identities</font>"
   ]
  },
  {
   "cell_type": "markdown",
   "id": "9eecae04",
   "metadata": {},
   "source": [
    "We will see in a moment that the Euler Identities are a help to us in working with sine and cosine functions as a way to work with vectors of signals. The Euler Identities are:"
   ]
  },
  {
   "cell_type": "markdown",
   "id": "b29e7a8f",
   "metadata": {},
   "source": [
    " $e^{i x}$ = cos[x] + $i$sin[x]"
   ]
  },
  {
   "cell_type": "markdown",
   "id": "006dc025",
   "metadata": {},
   "source": [
    "and"
   ]
  },
  {
   "cell_type": "markdown",
   "id": "27254bd4",
   "metadata": {},
   "source": [
    " $e^{-i x}$ = cos[x] - $i$sin[x]"
   ]
  },
  {
   "cell_type": "markdown",
   "id": "88e2497b",
   "metadata": {},
   "source": [
    "where $i$ = $\\sqrt{-1}$ "
   ]
  },
  {
   "cell_type": "markdown",
   "id": "21f3488a",
   "metadata": {},
   "source": [
    "Look at the polynomial expansion of $e^x$ to verify this identity:\n",
    "\n",
    "The expansion of $e^x$ in powers of x is:"
   ]
  },
  {
   "cell_type": "markdown",
   "id": "b75c2a20",
   "metadata": {},
   "source": [
    " $e^x = 1+x+\\frac{x^2}{2!}+\\frac{x^3}{3!}+\\frac{x^4}{4!}+\\frac{x^5}{5!}+...\\frac{x^k}{k!}+... $"
   ]
  },
  {
   "cell_type": "markdown",
   "id": "90bf0513",
   "metadata": {},
   "source": [
    "A famous mathematician, Euler had the idea of letting x be a complex number ($i$ x). When we substitute ($i$x) for x we get:\n"
   ]
  },
  {
   "cell_type": "markdown",
   "id": "020c7a9e",
   "metadata": {},
   "source": [
    " $e^{ix} = 1+ix+\\frac{(ix)^2}{2!}+\\frac{(ix)^3}{3!}+\\frac{(ix)^4}{4!}+\\frac{(ix)^5}{5!}+...\\frac{(ix)^k}{k!}+... $"
   ]
  },
  {
   "cell_type": "markdown",
   "id": "e6d64a12",
   "metadata": {},
   "source": [
    "Recalling that $i^2=-1$ and that $i^4=1$ , we obtain:"
   ]
  },
  {
   "cell_type": "markdown",
   "id": "4b39b52f",
   "metadata": {},
   "source": [
    " $e^{ix} = 1+ix-\\frac{x^2}{2!}+\\frac{(ix)^3}{3!}+\\frac{x^4}{4!}+\\frac{(ix)^5}{5!}+...\\frac{(ix)^k}{k!}+... $"
   ]
  },
  {
   "cell_type": "markdown",
   "id": "140b8120",
   "metadata": {},
   "source": [
    "You can see that every other term is an imaginary number (has an $i$ in it). Separating the real and imaginary parts of that expansion and regrouping, we obtain:"
   ]
  },
  {
   "cell_type": "markdown",
   "id": "6957f6ff",
   "metadata": {},
   "source": [
    " $e^{ix} = (1-\\frac{x^2}{2!}+\\frac{x^4}{4!}-...) + i(x-\\frac{x^3}{3!}+\\frac{x^5}{5!}+...)$"
   ]
  },
  {
   "cell_type": "markdown",
   "id": "2f85e747",
   "metadata": {},
   "source": [
    "If you look closely, you'll see the corresponding sine and cosine expansions that we worked out earlier in this Lesson 1 Tutorial, such that:\n",
    "\n",
    "$e^{i x}$ = cos[x] + $i$ sin[x]. "
   ]
  },
  {
   "cell_type": "markdown",
   "id": "388b1291",
   "metadata": {},
   "source": [
    "Using the Euler identities, what is the value of $e^{i \\pi}$ ?"
   ]
  },
  {
   "cell_type": "markdown",
   "id": "edf5dc18",
   "metadata": {},
   "source": [
    "Answer:"
   ]
  },
  {
   "cell_type": "markdown",
   "id": "d81c5584",
   "metadata": {},
   "source": [
    "$e^{i \\pi} = cos[\\pi]$ + $i$ $sin[\\pi]$ = -1 + $i$ $\\times$ 0 = -1."
   ]
  },
  {
   "cell_type": "markdown",
   "id": "7a049e2b",
   "metadata": {},
   "source": [
    "### <font color=red>DSP.01.T1.e) Exponential Rules</font>"
   ]
  },
  {
   "cell_type": "markdown",
   "id": "aecbf269",
   "metadata": {},
   "source": [
    "The rules that govern real exponential functions also govern exponentials with complex terms. To remind you of some basic rules when exponents have a common base (no matter what the base is, but here using $e$ as the base):"
   ]
  },
  {
   "cell_type": "markdown",
   "id": "8e56c40d",
   "metadata": {},
   "source": [
    " $e^x  e^y = e^{x+y} $"
   ]
  },
  {
   "cell_type": "markdown",
   "id": "5c9837d7",
   "metadata": {},
   "source": [
    " $\\frac{1}{e^x}= e^{-x} $"
   ]
  },
  {
   "cell_type": "markdown",
   "id": "231e6b5a",
   "metadata": {},
   "source": [
    " $\\frac{e^x}{e^y} = e^{x-y}$ "
   ]
  },
  {
   "cell_type": "markdown",
   "id": "f77efd74",
   "metadata": {},
   "source": [
    "### <font color=red>DSP.01.T1.f) Euler Identities Continued</font>"
   ]
  },
  {
   "cell_type": "markdown",
   "id": "13e7bf08",
   "metadata": {},
   "source": [
    "Here are the Euler identities:"
   ]
  },
  {
   "cell_type": "markdown",
   "id": "f36e3766",
   "metadata": {},
   "source": [
    " $e^{i x}$ = cos[x] + $i$ sin[x] and"
   ]
  },
  {
   "cell_type": "markdown",
   "id": "bff8a4d2",
   "metadata": {},
   "source": [
    " $e^{-i x}$ = cos[x] - $i$ sin[x]$"
   ]
  },
  {
   "cell_type": "markdown",
   "id": "71073425",
   "metadata": {},
   "source": [
    "Use the Euler identities to derive an equation in terms of sin[x]:\n",
    "\n",
    "Hint: subtract the two identities to solve for sin[x]"
   ]
  },
  {
   "cell_type": "markdown",
   "id": "9d73d67d",
   "metadata": {},
   "source": [
    " $e^{i x}-e^{-i x} = (cos[x] + i sin[x]) - (cos[x] - i sin[x])$\n",
    " \n",
    " $e^{i x}-e^{-i x} = i sin[x] + i sin[x]$\n",
    " \n",
    " $e^{i x}-e^{-i x} = 2i sin[x]$\n",
    " \n",
    " $\\frac{e^{i x}-e^{-i x}}{2 i} = sin[x]$\n",
    " "
   ]
  },
  {
   "cell_type": "markdown",
   "id": "a470353d",
   "metadata": {},
   "source": [
    "By the same method, $cos[x] = \\frac{1}{2} (e^{i x}+e^{-i x})$ . You'll derive this identity in the Literacy Sheet. "
   ]
  },
  {
   "cell_type": "markdown",
   "id": "fbba718f",
   "metadata": {},
   "source": [
    "Try using the identity $sin[x] = \\frac{e^{i x}-e^{-i x}}{2 i}$ to plot sine waves.\n",
    "\n",
    "**Note: here and throughout most of the courseware, in the Python syntax we will write the imaginary number as '$j$'.**"
   ]
  },
  {
   "cell_type": "code",
   "execution_count": null,
   "id": "b135e82a",
   "metadata": {},
   "outputs": [],
   "source": [
    "time = np.arange(0,1,0.001) #create an array representing 1 second\n",
    "freq = 1\n",
    "timeseries = (np.exp(2*np.pi * 1j * time) - np.exp(-2*np.pi * 1j * time)) / (1j * 2); \n",
    "\n",
    "make_plot_1(time,timeseries)\n",
    "plt.text(1,0,'1 sec',fontsize=15)\n",
    "plt.show()"
   ]
  },
  {
   "cell_type": "markdown",
   "id": "bce16a5a",
   "metadata": {},
   "source": [
    "That is a really nice 1 Hz sine wave. \n",
    "\n",
    "Without using the Python syntax, the complex exponential formula looks like this: $sin[x] = \\frac{e^{i 1 x}-e^{-i 1 x}}{2 i}$. Notice the '1' values in the numerator - this is what we do to create a 1 Hz sine wave. As usual, the '1' values have no impact on the arithmetic, and we could leave out the '1' values if you do want a 1 Hz signal. But what if you want some other frequency?"
   ]
  },
  {
   "cell_type": "markdown",
   "id": "d38c8cef",
   "metadata": {},
   "source": [
    "In this equation, frequency is set by multiplying the exponential power term by the desired frequency. \n",
    "\n",
    "How would you go about creating a 4 Hz sine wave?"
   ]
  },
  {
   "cell_type": "markdown",
   "id": "9fb845e6",
   "metadata": {},
   "source": [
    "Answer: Frequency is set by multiplying the exponential power term by the desired frequency."
   ]
  },
  {
   "cell_type": "markdown",
   "id": "46c030e6",
   "metadata": {},
   "source": [
    "Here is the 4 Hz sine wave."
   ]
  },
  {
   "cell_type": "code",
   "execution_count": null,
   "id": "b7d87907",
   "metadata": {},
   "outputs": [],
   "source": [
    "time = np.arange(0,1,0.001) #create an array representing 1 second\n",
    "freq = 4\n",
    "timeseries = (np.exp(2*np.pi * freq * 1j * time) - np.exp(-2*np.pi * freq * 1j * time)) / (1j * 2)\n",
    "\n",
    "make_plot_1(time,timeseries)\n",
    "plt.text(1,0,'1 sec',fontsize=15)\n",
    "plt.show()   "
   ]
  },
  {
   "cell_type": "markdown",
   "id": "48d75fef",
   "metadata": {},
   "source": [
    "That is a really nice 4 Hz sine wave. \n",
    "\n",
    "Without using the Python syntax, the complex exponential formula looks like this: $sin[x] = \\frac{e^{i 4 x}-e^{-i 4 x}}{2 i}$. Notice the '4' values in the numerator - this is what we do to create a 4 Hz sine wave. Frequency is set by multiplying the exponential power term by the desired frequency."
   ]
  },
  {
   "cell_type": "markdown",
   "id": "34791e12",
   "metadata": {},
   "source": [
    "Here is a 15 Hz sine wave."
   ]
  },
  {
   "cell_type": "code",
   "execution_count": null,
   "id": "ebe6729c",
   "metadata": {},
   "outputs": [],
   "source": [
    "time = np.arange(0,1,0.001) #create an array representing 1 second\n",
    "freq = 15\n",
    "timeseries = (np.exp(2*np.pi * freq * 1j * time) - np.exp(-2*np.pi * freq * 1j * time)) / (1j * 2)\n",
    "\n",
    "make_plot_1(time,timeseries)\n",
    "plt.text(1,0,'1 sec',fontsize=15)\n",
    "plt.show()"
   ]
  },
  {
   "cell_type": "markdown",
   "id": "c16acb7d",
   "metadata": {},
   "source": [
    "That is a really nice 15 Hz sine wave. \n",
    "\n",
    "Without using the Python syntax, the complex exponential formula looks like this: $sin[x] = \\frac{e^{i 15 x}-e^{-i 15 x}}{2 i}$. Notice the '15' values in the numerator - this is what we do to create a 15 Hz sine wave. Frequency is set by multiplying the exponential power term by the desired frequency.\n",
    "\n",
    "That's all there is to it.  "
   ]
  },
  {
   "cell_type": "markdown",
   "id": "422c0a4c",
   "metadata": {},
   "source": [
    "### <font color=red>DSP.01.T1.g) Lots of ways to plot the same function</font>"
   ]
  },
  {
   "cell_type": "markdown",
   "id": "aa4fdfcd",
   "metadata": {},
   "source": [
    "We've looked at three different ways to plot a sine wave: using the 'sin' function $f[x] = sin[x]$, using the polynomial expansion of $sin[x]$, and using the complex exponential formula $sin[x] = \\frac{e^{i x}-e^{-i x}}{2 i}$ .\n",
    "\n",
    "Which way is best?"
   ]
  },
  {
   "cell_type": "markdown",
   "id": "9bd3005e",
   "metadata": {},
   "source": [
    "Answer: It depends. So far we've made do with f[x] = sin[x]. Later on we'll see that, to take advantage of more sophisticated signal processing techniques, we'll often use the complex exponential form. "
   ]
  },
  {
   "cell_type": "markdown",
   "id": "2209f33c",
   "metadata": {},
   "source": [
    "R. W. Hamming in his fabulously good book 'Digital Filters' (1989) notes that, although real functions are familiar, and although complex exponentials have a mysterious aura about them, it is simply necessary to get used to the fact that the complex exponentials are the real functions in a slight disguise.\n",
    "\n",
    "We saw above that the 'i' or 'I' is paired with the cosine function in the Euler Identities. It's not that the cosine function is truly, secretly about imaginary numbers. But, if we set up our equations just right, we can use complex arithmetic (with the sine value in the real position and the cosine value in the imaginary position) to do some cool stuff with sinusoidal signals very effciently."
   ]
  },
  {
   "cell_type": "markdown",
   "id": "af49ce57",
   "metadata": {},
   "source": [
    "## <font color=red>DSP.01.T2) Spatial Data</font>"
   ]
  },
  {
   "cell_type": "markdown",
   "id": "034f3f58",
   "metadata": {},
   "source": [
    "### <font color=red>DSP.01.T2.a) Identities - Spatial Series</font>"
   ]
  },
  {
   "cell_type": "markdown",
   "id": "2864588d",
   "metadata": {},
   "source": [
    "In everything we've done so far, we have talked about time. The timeseries plots we've been looking at show time on the x axis and amplitude on the y axis. But the approach we've developed is more general than that. If we instead plot space (distance, such as millimeters or miles) on the x and y axis, we can plot a spatial pattern instead of a temporal pattern.\n",
    "\n",
    "Look at this image."
   ]
  },
  {
   "cell_type": "code",
   "execution_count": null,
   "id": "e66e1c18",
   "metadata": {},
   "outputs": [],
   "source": [
    "X = np.array([\n",
    "    [255,255,255,255,255,255,255,255],\n",
    "    [0,0,0,0,0,0,0,0],\n",
    "    [255,255,255,255,255,255,255,255],\n",
    "    [0,0,0,0,0,0,0,0],\n",
    "    [255,255,255,255,255,255,255,255],\n",
    "    [0,0,0,0,0,0,0,0],\n",
    "    [255,255,255,255,255,255,255,255],\n",
    "    [0,0,0,0,0,0,0,0]\n",
    "])\n",
    "\n",
    "make_imshow(X)\n",
    "\n",
    "plt.show() "
   ]
  },
  {
   "cell_type": "markdown",
   "id": "c87bf89b",
   "metadata": {},
   "source": [
    "Think of the image above as a 2D surface - a wall or floor. We can think of the pattern on the surface as having a spatial frequency. The horizontal bars create an alternating pattern, cycling between black and white 4 times. In the vertical direction, that is a spatial frequency of 4 Hz, if we loosen up our meaning of Hz from \"cycles per second\" to \"cycles per something\" (per second, per meter, per page$...$). Now think about the horizontal direction. In that image, there is no change going from left to right, so the spatial frequency is zero: 0 \"cycles\" per any unit of distance.\n",
    "\n",
    "Take a look at this plot."
   ]
  },
  {
   "cell_type": "code",
   "execution_count": null,
   "id": "8ccad33c",
   "metadata": {},
   "outputs": [],
   "source": [
    "X = np.array([\n",
    "    [0,255,0,255,0,255,0,255,0,255],\n",
    "    [0,255,0,255,0,255,0,255,0,255],\n",
    "    [0,255,0,255,0,255,0,255,0,255],\n",
    "    [0,255,0,255,0,255,0,255,0,255],\n",
    "    [0,255,0,255,0,255,0,255,0,255],\n",
    "    [0,255,0,255,0,255,0,255,0,255],\n",
    "    [0,255,0,255,0,255,0,255,0,255],\n",
    "    [0,255,0,255,0,255,0,255,0,255],\n",
    "    [0,255,0,255,0,255,0,255,0,255],\n",
    "    [0,255,0,255,0,255,0,255,0,255]\n",
    "])\n",
    "\n",
    "make_imshow(X)\n",
    "\n",
    "plt.show() "
   ]
  },
  {
   "cell_type": "markdown",
   "id": "c66f81f2",
   "metadata": {},
   "source": [
    "Again, think of the image as a 2D surface - a wall or floor. This time, the horizontal lines alternate between black and white 5 times. That reflects a spatial frequency of 5 'Hz' in the horizontal direction = along the x axis. Now it's the y axis that has a (spatial) frequency of 0 Hz.\n",
    "\n",
    "Take a look at this plot."
   ]
  },
  {
   "cell_type": "code",
   "execution_count": null,
   "id": "cf06d05e",
   "metadata": {},
   "outputs": [],
   "source": [
    "X = np.array([\n",
    "    [255,255,255,255,255,255,255,255,255,255,255,255,255,255,255,255,255,255,255,255],\n",
    "    [0,0,0,0,0,0,0,0,0,0,0,0,0,0,0,0,0,0,0,0],\n",
    "    [255,255,255,255,255,255,255,255,255,255,255,255,255,255,255,255,255,255,255,255],\n",
    "    [0,0,0,0,0,0,0,0,0,0,0,0,0,0,0,0,0,0,0,0],\n",
    "    [255,255,255,255,255,255,255,255,255,255,255,255,255,255,255,255,255,255,255,255],\n",
    "    [0,0,0,0,0,0,0,0,0,0,0,0,0,0,0,0,0,0,0,0],\n",
    "    [255,255,255,255,255,255,255,255,255,255,255,255,255,255,255,255,255,255,255,255],\n",
    "    [0,0,0,0,0,0,0,0,0,0,0,0,0,0,0,0,0,0,0,0],\n",
    "    [255,255,255,255,255,255,255,255,255,255,255,255,255,255,255,255,255,255,255,255],\n",
    "    [0,0,0,0,0,0,0,0,0,0,0,0,0,0,0,0,0,0,0,0],\n",
    "    [255,255,255,255,255,255,255,255,255,255,255,255,255,255,255,255,255,255,255,255],\n",
    "    [0,0,0,0,0,0,0,0,0,0,0,0,0,0,0,0,0,0,0,0],\n",
    "    [255,255,255,255,255,255,255,255,255,255,255,255,255,255,255,255,255,255,255,255],\n",
    "    [0,0,0,0,0,0,0,0,0,0,0,0,0,0,0,0,0,0,0,0],\n",
    "    [255,255,255,255,255,255,255,255,255,255,255,255,255,255,255,255,255,255,255,255],\n",
    "    [0,0,0,0,0,0,0,0,0,0,0,0,0,0,0,0,0,0,0,0],\n",
    "    [255,255,255,255,255,255,255,255,255,255,255,255,255,255,255,255,255,255,255,255],\n",
    "    [0,0,0,0,0,0,0,0,0,0,0,0,0,0,0,0,0,0,0,0],\n",
    "    [255,255,255,255,255,255,255,255,255,255,255,255,255,255,255,255,255,255,255,255],\n",
    "    [0,0,0,0,0,0,0,0,0,0,0,0,0,0,0,0,0,0,0,0]\n",
    "])\n",
    "\n",
    "make_imshow(X)\n",
    "\n",
    "plt.show()  "
   ]
  },
  {
   "cell_type": "markdown",
   "id": "8c9bc564",
   "metadata": {},
   "source": [
    "The horizontal bars create an alternating pattern, cycling between black and white 10 times. In the vertical direction, that reflects is a spatial frequency of 10 'Hz'.\n",
    "\n",
    "That is all there is to it. Look around the room and see if you can identify the spatial frequency of other objects - blinds on the window, patterns in the flooring, tables in a row, lines on page, etc$...$"
   ]
  },
  {
   "cell_type": "markdown",
   "id": "6c0c4f88",
   "metadata": {},
   "source": [
    "Spatial frequency is an attribute of any object that is periodic across position in space. Whereas Hz (cycles per second) is the standard unit of measurement for a timeseries, there are different units of measurement for spatial frequency. As an example, in the study of visual perception, spatial frequency is commonly expressed as the number of cycles per degree of visual angle. "
   ]
  },
  {
   "cell_type": "markdown",
   "id": "6952d36d",
   "metadata": {},
   "source": [
    "## <font color=red>DSP.01.T3) Adding Sine Waves - another look</font>"
   ]
  },
  {
   "cell_type": "markdown",
   "id": "7aa95083",
   "metadata": {},
   "source": [
    "### <font color=red>DSP.01.T3.a) Identities - Adding timeseries together: another example</font>"
   ]
  },
  {
   "cell_type": "markdown",
   "id": "a3ace6eb",
   "metadata": {},
   "source": [
    "We'll go back to talking about 'timeseries', but keep in mind that just about everything we do in the temporal domain we could do the spatial domain.\n",
    "\n",
    "In the Basics portion of Lesson 1, we saw that, if you sum odd-numbered sine waves, you can approximate a square wave. What shape do you think you would get by summing even-numbered sine waves?"
   ]
  },
  {
   "cell_type": "markdown",
   "id": "d5e31232",
   "metadata": {},
   "source": [
    "Answer: Start by summing a few even-numbered sine waves together, scaling each individual timeseries by the frequency of the sine wave."
   ]
  },
  {
   "cell_type": "code",
   "execution_count": null,
   "id": "10c12843",
   "metadata": {},
   "outputs": [],
   "source": [
    "rad = np.arange(0,2*np.pi, 0.001)\n",
    "\n",
    "timeseries = 1/2 * np.sin(2 *rad) + 1/4 * np.sin(4 * rad) + 1/6 * np.sin(6 * rad) + \\\n",
    "1/8 * np.sin(8 * rad) + 1/10 * np.sin(10 * rad) + 1/12 * np.sin(12 * rad)\n",
    "\n",
    "make_plot_1(rad,timeseries)\n",
    "plt.show()"
   ]
  },
  {
   "cell_type": "markdown",
   "id": "b860e6bb",
   "metadata": {},
   "source": [
    "Pretty clear pattern - and very different from a sine wave OR a square wave. Go ahead and add a few more even terms together to get a prettier picture."
   ]
  },
  {
   "cell_type": "code",
   "execution_count": null,
   "id": "9078e2e8",
   "metadata": {},
   "outputs": [],
   "source": [
    "f_range = np.arange(2,1000,2)\n",
    "f_range_size = f_range.size\n",
    "f_range = f_range.reshape((f_range_size,1))\n",
    "\n",
    "time = np.arange(0,1,0.001)\n",
    "timeseries = np.sin(2*np.pi * time * f_range) / f_range\n",
    "timeseries = timeseries.sum(axis = 0)\n",
    "\n",
    "make_plot_1(time,timeseries)\n",
    "\n",
    "plt.show()             "
   ]
  },
  {
   "cell_type": "markdown",
   "id": "225edb8b",
   "metadata": {},
   "source": [
    "Folks usually call this a sawtooth function."
   ]
  },
  {
   "cell_type": "markdown",
   "id": "b0031f99",
   "metadata": {},
   "source": [
    "Here's a secret: we can build things from repeating waveforms that aren't sine waves or cosine waves. Whatever we start with are called the \"basis\" waves. Sines (and cosines) provide a lot of flexibility, with a lot of tools already worked out. But one could use different shapes, for better or worse, in a given context. So actually this isn't a secret - just a glimpse into the future if you pursue digital signal processing."
   ]
  },
  {
   "cell_type": "markdown",
   "id": "edc6ebbc",
   "metadata": {},
   "source": [
    "## <font color=red>DSP.01.T4) Working with real data</font>"
   ]
  },
  {
   "cell_type": "markdown",
   "id": "36f9c045",
   "metadata": {},
   "source": [
    "### <font color=red>DSP.01.T4.a) Loading Data Files</font>"
   ]
  },
  {
   "cell_type": "markdown",
   "id": "9bcab84e",
   "metadata": {},
   "source": [
    "Let's learn how to load data files into our workspace and how to display such data. We'll start by loading some brain data!\n",
    "\n",
    "Load a data set. To do this, run the code below: "
   ]
  },
  {
   "cell_type": "code",
   "execution_count": null,
   "id": "604e51dd",
   "metadata": {},
   "outputs": [],
   "source": [
    "import tkinter as tk\n",
    "from tkinter import filedialog\n",
    "\n",
    "root = tk.Tk()\n",
    "root.withdraw()\n",
    "\n",
    "#find and select file \"visual.txt\"\n",
    "file_path = filedialog.askopenfilename()\n",
    "visual = pd.read_csv(file_path,delimiter = \"\\t\", header=None)\n",
    "visual = visual.to_numpy().flatten()\n",
    "visual"
   ]
  },
  {
   "cell_type": "markdown",
   "id": "72aa66d9",
   "metadata": {},
   "source": [
    "There are 250 pieces of information in the imported file. The data were collected starting at -500 ms (a convention is to talk about negative time to mean an interval before some important event, such as the onset of a stimulus; so, \"-500 ms\" can mean that the timeseries began 500 ms before the stimulus event). A data value was collected once every 4 ms from via some measure of a left hemisphere visual cortex brain response. \n",
    "\n",
    "(Before we do anything, let's think a bit more about the data we're going to work with: 250 points at 4 ms per point spans 1000 ms = 1 second. Again, the start time is negative to indicate that the vector of data starts with information that occurred before some key event, which occurred at time 0. So, in this case, we have 250 points, of which 125 were collected in the half a second before the event, and the other 125 were collected in the half second after the event.)"
   ]
  },
  {
   "cell_type": "markdown",
   "id": "7f4af936",
   "metadata": {},
   "source": [
    "Go ahead and plot the data. In additon to the 'visual' data file, we need to create a variable we will use to plot the x-axis time information. This is created below with the 'timeV' variable.  "
   ]
  },
  {
   "cell_type": "code",
   "execution_count": null,
   "id": "01abcfa7",
   "metadata": {},
   "outputs": [],
   "source": [
    "timeV = np.arange(-500,500, 4)\n",
    " \n",
    "plt.plot(timeV, visual)\n",
    "\n",
    "plt.show()"
   ]
  },
  {
   "cell_type": "markdown",
   "id": "39fc4e3b",
   "metadata": {},
   "source": [
    "The y axis shows amplitude values (the strength of brain response to a visual stimulus), and the x axis shows 'time' in ms. The plt.plot function is used to plot 'time' and visual waveform. The data start at -500 ms, there are a total of 250 samples, and a sample is collected once every 4 ms. Therefore, activity was recorded from -500 ms to 496 ms."
   ]
  },
  {
   "cell_type": "markdown",
   "id": "802e3da6",
   "metadata": {},
   "source": [
    "It's sometimes useful to add labels to a plot to draw a reader's attention to specific parts of the plot. As an example, we can spruce up the above plot by indicating the latency of the two highest peaks.\n",
    "\n",
    "First, find the value and position of the two highest peaks. Here is one way to do that. "
   ]
  },
  {
   "cell_type": "code",
   "execution_count": null,
   "id": "5a4606b0",
   "metadata": {},
   "outputs": [],
   "source": [
    "maximum = visual.max()\n",
    "maximum_position = visual.argmax()\n",
    "[maximum,maximum_position]"
   ]
  },
  {
   "cell_type": "code",
   "execution_count": null,
   "id": "03bdfb82",
   "metadata": {},
   "outputs": [],
   "source": [
    "minimum = visual.min()\n",
    "minimum_position = visual.argmin()\n",
    "[minimum,minimum_position]"
   ]
  },
  {
   "cell_type": "markdown",
   "id": "33298b65",
   "metadata": {},
   "source": [
    "Use the information above to add labels to the plot. In particular, note that, from the position information, you can derive the correct time. For example, the largest positive value occurs at the 192nd point. If each point equals 4 ms, that is $192 \\times 4$ ms = 768 ms. However, before you interpret that, you may want to remove the 500 ms baseline that preceded the stimulus onset, as well as an additional 4 ms for the zero point. (To explain the latter issue: the first data point occurs at 0 ms, and the 2nd point occurs 4 ms into the vector, not $2\\times4=8$ ms into the vector.) Thus, the latency of the maximum peak is 768 - 500 - 4 = 264 ms after the onset of the stimulus. Follow the same procedure to find that the latency of the largest negative peak is: $171 \\times 4$ ms = 684 ms; 684 - 500 - 4 = 180 ms. "
   ]
  },
  {
   "cell_type": "code",
   "execution_count": null,
   "id": "a70acf3e",
   "metadata": {},
   "outputs": [],
   "source": [
    "plt.plot(timeV, visual)\n",
    "\n",
    "plt.text(timeV[maximum_position],visual[maximum_position],'max',fontsize=15)\n",
    "plt.scatter(timeV[maximum_position],visual[maximum_position],linewidth=5)\n",
    "\n",
    "plt.text(timeV[minimum_position],visual[minimum_position],'min',fontsize=15)\n",
    "plt.scatter(timeV[minimum_position],visual[minimum_position],linewidth=5)\n",
    "plt.ylim(-60,40)\n",
    "plt.show()"
   ]
  },
  {
   "cell_type": "markdown",
   "id": "e9bfb122",
   "metadata": {},
   "source": [
    "Notice that we set the y-axis amplitude values to -60 to 40 so that we can easily view the two peaks.\n",
    "\n",
    "If you're so inclined, change the thickness and color of the plotted line using the 'color' and 'linewidth' keyword arguments."
   ]
  },
  {
   "cell_type": "code",
   "execution_count": null,
   "id": "d76e88af",
   "metadata": {},
   "outputs": [],
   "source": [
    "# Plotting time vs amplitude using plot function from pyplot\n",
    "plt.plot(timeV, visual, color = \"red\", linewidth=2)\n",
    "plt.text(timeV[maximum_position],visual[maximum_position],'max',fontsize=15)\n",
    "plt.scatter(timeV[maximum_position],visual[maximum_position],linewidth=5)\n",
    "plt.text(timeV[minimum_position],visual[minimum_position],'min',fontsize=15)\n",
    "plt.scatter(timeV[minimum_position],visual[minimum_position],linewidth=5)\n",
    "plt.margins(x=0, y=0)\n",
    "plt.axhline(y=0, color='k')\n",
    "plt.ylim(-60,40)\n",
    "plt.show()"
   ]
  },
  {
   "cell_type": "markdown",
   "id": "c48c7740",
   "metadata": {},
   "source": [
    "Add a line to show when the visual stimulus was presented."
   ]
  },
  {
   "cell_type": "code",
   "execution_count": null,
   "id": "f4b7439e",
   "metadata": {},
   "outputs": [],
   "source": [
    "make_plot_1(timeV,visual, \"r\", linewidth=2)\n",
    "plt.axvline(x=0, color='k')\n",
    "\n",
    "plt.text(timeV[maximum_position],visual[maximum_position],'max',fontsize=15)\n",
    "plt.scatter(timeV[maximum_position],visual[maximum_position],linewidth=5)\n",
    "\n",
    "plt.text(timeV[minimum_position],visual[minimum_position],'min',fontsize=15)\n",
    "plt.scatter(timeV[minimum_position],visual[minimum_position],linewidth=5)\n",
    "plt.ylim(-60,40)\n",
    "plt.tick_params(labelbottom = True, bottom = True)\n",
    "plt.show()"
   ]
  },
  {
   "cell_type": "markdown",
   "id": "52bba983",
   "metadata": {},
   "source": [
    "The marker at zero indicates that there is little brain activity prior to presenting a visual stimulus, and then significant sinusodial activity following the visual stimuli. The post-stimulus activity doesn't look like a pure sine wave. Probably reflects the summation of activity at multiple frequencies - you saw in the Lesson 1 Basics how that can be done - how we (or the brain) can sum multiple sine waves to produce a single signal.\n",
    "\n",
    "Finally, to complete the plot, let's add labels (with unit information) to the x axis and y axis."
   ]
  },
  {
   "cell_type": "code",
   "execution_count": null,
   "id": "2b319877",
   "metadata": {},
   "outputs": [],
   "source": [
    "make_plot_1(timeV,visual, \"r\", linewidth=2)\n",
    "plt.axvline(x=0, color='k')\n",
    "\n",
    "plt.text(timeV[maximum_position],visual[maximum_position],'max',fontsize=15)\n",
    "plt.scatter(timeV[maximum_position],visual[maximum_position],linewidth=5)\n",
    "\n",
    "plt.text(timeV[minimum_position],visual[minimum_position],'min',fontsize=15)\n",
    "plt.scatter(timeV[minimum_position],visual[minimum_position],linewidth=5)\n",
    "plt.ylim(-60,40)\n",
    "plt.tick_params(labelbottom = True, bottom = True)\n",
    "plt.xlabel(\"Time (ms)\",fontsize=15), plt.ylabel(\"Amplitude (uV)\",fontsize=15)\n",
    "plt.show()"
   ]
  },
  {
   "cell_type": "markdown",
   "id": "01696b4c",
   "metadata": {},
   "source": [
    "Not too bad a plot for a first try."
   ]
  },
  {
   "cell_type": "markdown",
   "id": "2bc7e030",
   "metadata": {},
   "source": [
    "## <font color=red>DSP.01.T5) Working with image files</font>"
   ]
  },
  {
   "cell_type": "markdown",
   "id": "13a0280b",
   "metadata": {},
   "source": [
    "### <font color=red>DSP.01.T5.a) Loading and Displaying Image Files</font>"
   ]
  },
  {
   "cell_type": "markdown",
   "id": "5dc5e10a",
   "metadata": {},
   "source": [
    "In later lessons we will examine spatial images in more detail. Let's take a second to learn one way to read in and examine a spatial image.\n",
    "\n",
    "Let's load in a black-and-white image. To do this, run the code below: "
   ]
  },
  {
   "cell_type": "code",
   "execution_count": null,
   "id": "c778c2a3",
   "metadata": {},
   "outputs": [],
   "source": [
    "import tkinter as tk\n",
    "from tkinter import filedialog\n",
    "\n",
    "root = tk.Tk()\n",
    "root.withdraw()\n",
    "\n",
    "#find and select file \"statuesgreysmall.jpg\"\n",
    "file_path = filedialog.askopenfilename()\n",
    "image = img.imread(file_path)\n",
    "make_imshow(image)\n",
    "plt.show()  "
   ]
  },
  {
   "cell_type": "markdown",
   "id": "35c13e1b",
   "metadata": {},
   "source": [
    "This picture was taken by David Edgar in Nassau, Bahamas. The statues are made from the trunks of trees."
   ]
  },
  {
   "cell_type": "markdown",
   "id": "ac5efccb",
   "metadata": {},
   "source": [
    "The keyword argument setup 'cmap='Greys_r' tells us that this is a grayscale image. This grayscale image is stored in what is called JPEG format. (The filename for a JPEG file often ends in .jpeg or .jpg.)\n",
    "\n",
    "The image is really just a 2D matrix of numbers. Use the command below to obtain the numerical values used to represent this image (be patient, it may take a few seconds to generate the plot). "
   ]
  },
  {
   "cell_type": "code",
   "execution_count": null,
   "id": "a01b1bb6",
   "metadata": {},
   "outputs": [],
   "source": [
    "image.shape     "
   ]
  },
  {
   "cell_type": "code",
   "execution_count": null,
   "id": "6af6325d",
   "metadata": {},
   "outputs": [],
   "source": [
    "image_flattern = np.sort(image.flatten())\n",
    "plt.plot(image_flattern,'blue')\n",
    "plt.show() "
   ]
  },
  {
   "cell_type": "markdown",
   "id": "aec7101e",
   "metadata": {},
   "source": [
    "The 2D matrix 'image' contains the values used to represent the image. The Numpy method 'shape' indicates that the image is composed of a matrix containing 250*167 = 41,750 values. This matrix is 250 columns by 167 rows (notice that the width of the image (# columns) is more than the height (# rows)). The graph above shows the range of values contained in the image. As indicated on the y axis, the values range from 0 to 255. A '0' value represents pure black, a '255' value represents pure white, and the values in-between represent shades of gray. The grayscale image shown above shows a full range of grayscale values. "
   ]
  }
 ],
 "metadata": {
  "kernelspec": {
   "display_name": "Python 3 (ipykernel)",
   "language": "python",
   "name": "python3"
  },
  "language_info": {
   "codemirror_mode": {
    "name": "ipython",
    "version": 3
   },
   "file_extension": ".py",
   "mimetype": "text/x-python",
   "name": "python",
   "nbconvert_exporter": "python",
   "pygments_lexer": "ipython3",
   "version": "3.11.5"
  }
 },
 "nbformat": 4,
 "nbformat_minor": 5
}
