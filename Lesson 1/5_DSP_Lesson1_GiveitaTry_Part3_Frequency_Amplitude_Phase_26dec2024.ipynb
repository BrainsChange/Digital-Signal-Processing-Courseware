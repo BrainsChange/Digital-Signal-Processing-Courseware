{
 "cells": [
  {
   "cell_type": "markdown",
   "metadata": {},
   "source": [
    "#### Digital Signal Processing Courseware: An Introduction (copyright © 2024)\n",
    "## Authors: J. Christopher Edgar and Gregory A. Miller\n",
    "\n",
    "Originally written in Mathematica by J. Christopher Edgar. Conversion to Jupyter Notebook by Song Liu.\n",
    "\n",
    "The authors of this book are indebted to Prof. Bruce Carpenter (University of Illinois Urbana-Champaign). Bruce inspired the creation of this courseware, he consulted with the authors as this courseware was being developed, and he provided the original version of the code and text for several sections of this courseware (e.g. the section on complex numbers and the section on normal distributions). "
   ]
  },
  {
   "cell_type": "markdown",
   "metadata": {},
   "source": [
    "# <font color=red>DSP.01 Frequency, Amplitude, and Phase</font>"
   ]
  },
  {
   "cell_type": "markdown",
   "metadata": {},
   "source": [
    "# <font color=red>Give it a TRY!</font>\n",
    "# <font color=red>Part 3</font>"
   ]
  },
  {
   "cell_type": "markdown",
   "metadata": {},
   "source": [
    "### Setup"
   ]
  },
  {
   "cell_type": "code",
   "execution_count": null,
   "metadata": {},
   "outputs": [],
   "source": [
    "# general imports\n",
    "import numpy as np\n",
    "import matplotlib.pyplot as plt\n",
    "from matplotlib import image as img\n",
    "from matplotlib import cm\n",
    "from mpl_toolkits import mplot3d\n",
    "from scipy.fft import fft, fftfreq\n",
    "from sympy import Symbol, sin, series\n",
    "from sympy import roots, solve_poly_system\n",
    "import scipy.special\n",
    "import matplotlib.patches as patches\n",
    "import math\n",
    "import cmath\n",
    "import pandas as pd\n",
    "\n",
    "import warnings\n",
    "warnings.filterwarnings('ignore')\n",
    "\n",
    "# Figure size \n",
    "plt.rc(\"figure\", figsize=(8, 6))\n",
    "\n",
    "time_length = 1 # second\n",
    "sampling_interval = 0.001 # second\n",
    "\n",
    "#function to create time course figure\n",
    "#one waveform\n",
    "def make_plot_1(x1,y1,type=\"b\"): \n",
    "    plt.plot(x1, y1,type)\n",
    "    plt.margins(x=0, y=0)\n",
    "    plt.axhline(y=0, color='k')\n",
    "    plt.tick_params(labelbottom = False, bottom = False)\n",
    "    \n",
    "#two overlaid waveforms with red and blue   \n",
    "def make_plot_2(x1,y1,type1,x2,y2,type2): \n",
    "    plt.plot(x1, y1, type1)\n",
    "    plt.plot(x2, y2, type2)\n",
    "    plt.margins(x=0, y=0)\n",
    "    plt.axhline(y=0, color='k')\n",
    "    plt.tick_params(labelbottom = False, bottom = False)\n",
    "    \n",
    "#three overlaid waveforms with red, blue and green   \n",
    "def make_plot_3(x1,y1,type1,x2,y2,type2,x3,y3,type3): \n",
    "    plt.plot(x1, y1, type1)\n",
    "    plt.plot(x2, y2, type2)\n",
    "    plt.plot(x3, y3, type3)\n",
    "    plt.margins(x=0, y=0)\n",
    "    plt.axhline(y=0, color='k')\n",
    "    plt.tick_params(labelbottom = False, bottom = False)\n",
    "    \n",
    "def make_plot_3d(ax,x,y,z):    \n",
    "    ax.contour3D(x, y, z, 50, cmap=cm.coolwarm)\n",
    "    ax.set_xlabel('x')\n",
    "    ax.set_ylabel('y')\n",
    "    ax.set_zlabel('z')\n",
    "    \n",
    "def make_plot_freq_1(x1,sample_rate, duration=1): \n",
    "    N = sample_rate * duration\n",
    "    Nhalf = math.ceil(N/2)\n",
    "    yf = fft(x1)\n",
    "    xf = fftfreq(N, 1 / sample_rate)\n",
    "    yf = yf[0:Nhalf]\n",
    "    xf = xf[0:Nhalf]\n",
    "    plt.plot(xf, np.abs(yf))\n",
    "    \n",
    "#two spectrums\n",
    "def make_plot_freq_2(x1,x2,sample_rate, duration=1): \n",
    "    N = sample_rate * duration\n",
    "    Nhalf = math.ceil(N/2)\n",
    "    yf1 = fft(x1)\n",
    "    yf2 = fft(x2)\n",
    "    xf = fftfreq(N, 1 / sample_rate)\n",
    "\n",
    "    yf1 = yf1[0:Nhalf]\n",
    "    yf2 = yf2[0:Nhalf]\n",
    "    xf = xf[0:Nhalf]\n",
    "\n",
    "    plt.plot(xf, np.abs(yf1))\n",
    "    plt.plot(xf, np.abs(yf2), color = 'r')\n",
    "    \n",
    "def make_imshow(x):\n",
    "    plt.imshow(x,cmap='Greys_r')\n",
    "    plt.tick_params(labelbottom = False, bottom = False)\n",
    "    plt.tick_params(labelleft = False, left = False)\n",
    "    \n",
    "def make_imshow_color(x):\n",
    "    plt.imshow(x)\n",
    "    plt.tick_params(labelbottom = False, bottom = False)\n",
    "    plt.tick_params(labelleft = False, left = False)\n",
    "    \n",
    "def round_complex(x):\n",
    "    return complex(np.round(x.real,4),np.round(x.imag,4))\n"
   ]
  },
  {
   "cell_type": "markdown",
   "metadata": {},
   "source": [
    "## <font color=red>DSP.01.G3) Spatial Data</font>"
   ]
  },
  {
   "cell_type": "markdown",
   "metadata": {},
   "source": [
    "### <font color=red>DSP.01.G3.a) The Frequency of a Spatial Pattern</font>"
   ]
  },
  {
   "cell_type": "markdown",
   "metadata": {},
   "source": [
    "Take a look at this image."
   ]
  },
  {
   "cell_type": "code",
   "execution_count": null,
   "metadata": {},
   "outputs": [],
   "source": [
    "X = np.array([\n",
    "    [255,255,255,255,255,255,255,255,255,255,255,255],\n",
    "    [0,0,0,0,0,0,0,0,0,0,0,0],\n",
    "    [255,255,255,255,255,255,255,255,255,255,255,255],\n",
    "    [0,0,0,0,0,0,0,0,0,0,0,0],\n",
    "    [255,255,255,255,255,255,255,255,255,255,255,255],\n",
    "    [0,0,0,0,0,0,0,0,0,0,0,0],\n",
    "    [255,255,255,255,255,255,255,255,255,255,255,255],\n",
    "    [0,0,0,0,0,0,0,0,0,0,0,0],\n",
    "    [255,255,255,255,255,255,255,255,255,255,255,255],\n",
    "    [0,0,0,0,0,0,0,0,0,0,0,0],\n",
    "    [255,255,255,255,255,255,255,255,255,255,255,255],\n",
    "    [0,0,0,0,0,0,0,0,0,0,0,0]\n",
    "])\n",
    "\n",
    "make_imshow(X)\n",
    "\n",
    "plt.show() "
   ]
  },
  {
   "cell_type": "markdown",
   "metadata": {},
   "source": [
    "Fill in the blanks:    **Double click on this cell to write in your answer**\n",
    "\n",
    "Think of the image above as a 2D surface - a wall or floor. We can think of the surface as having a spatial\n",
    "frequency. How many full cycles are there? The horizontal lines alternate vertically, changing from black to white ______ times. If this image spans 1 meter vertically, in the vertical direction that is a spatial frequency of ______ cycles per meter."
   ]
  },
  {
   "cell_type": "markdown",
   "metadata": {},
   "source": [
    "Take a look at this plot."
   ]
  },
  {
   "cell_type": "code",
   "execution_count": null,
   "metadata": {},
   "outputs": [],
   "source": [
    "X = np.array([\n",
    "    [255,255,255,255,255,255,255,255,255,255,255,255,255,255,255,255],\n",
    "    [0,0,0,0,0,0,0,0,0,0,0,0,0,0,0,0],\n",
    "    [255,255,255,255,255,255,255,255,255,255,255,255,255,255,255,255],\n",
    "    [0,0,0,0,0,0,0,0,0,0,0,0,0,0,0,0],\n",
    "    [255,255,255,255,255,255,255,255,255,255,255,255,255,255,255,255],\n",
    "    [0,0,0,0,0,0,0,0,0,0,0,0,0,0,0,0],\n",
    "    [255,255,255,255,255,255,255,255,255,255,255,255,255,255,255,255],\n",
    "    [0,0,0,0,0,0,0,0,0,0,0,0,0,0,0,0],\n",
    "    [255,255,255,255,255,255,255,255,255,255,255,255,255,255,255,255],\n",
    "    [0,0,0,0,0,0,0,0,0,0,0,0,0,0,0,0],\n",
    "    [255,255,255,255,255,255,255,255,255,255,255,255,255,255,255,255],\n",
    "    [0,0,0,0,0,0,0,0,0,0,0,0,0,0,0,0],\n",
    "    [255,255,255,255,255,255,255,255,255,255,255,255,255,255,255,255],\n",
    "    [0,0,0,0,0,0,0,0,0,0,0,0,0,0,0,0],\n",
    "    [255,255,255,255,255,255,255,255,255,255,255,255,255,255,255,255],\n",
    "    [0,0,0,0,0,0,0,0,0,0,0,0,0,0,0,0]\n",
    "])\n",
    "\n",
    "make_imshow(X)\n",
    "\n",
    "plt.show()"
   ]
  },
  {
   "cell_type": "markdown",
   "metadata": {},
   "source": [
    "Fill in the blanks:  **Double click on this cell to write in your answer**\n",
    "\n",
    "Think of the image above as a 2D surface - a wall or floor. We can think of the surface as having a spatial\n",
    "frequency. The horizontal lines complete ______ full black-and-white cycles. If this image spans 1 meter vertically, in the vertical direction that is a spatial frequency of ______ cycles per meter."
   ]
  },
  {
   "cell_type": "markdown",
   "metadata": {},
   "source": [
    "Take a look at this plot."
   ]
  },
  {
   "cell_type": "code",
   "execution_count": null,
   "metadata": {
    "scrolled": true
   },
   "outputs": [],
   "source": [
    "X = np.array([    \n",
    "    [0,255,0,255],\n",
    "    [0,255,0,255],\n",
    "    [0,255,0,255],\n",
    "    [0,255,0,255]\n",
    "])\n",
    "\n",
    "make_imshow(X)\n",
    "\n",
    "plt.show()"
   ]
  },
  {
   "cell_type": "markdown",
   "metadata": {},
   "source": [
    "Fill in the blanks:   **Double click on this cell to write in your answer**\n",
    "\n",
    "Think of the image above as a 2D surface - a wall or floor. We can think of the surface as having a spatial\n",
    "frequency. The vertical lines alternate horizontally between black-and-white ______  times. If this image spans 1 meter horizontally, in the horizontal direction that is a spatial frequency of ______ cycles per meter.\n",
    "\n",
    "So you've just figured out that we can talk about frequency in space the same way we talk about it in time. That's all there is to it."
   ]
  },
  {
   "cell_type": "markdown",
   "metadata": {},
   "source": [
    "### <font color=red>DSP.01.G3.b) The Frequency of a Spatial Pattern -2D</font>"
   ]
  },
  {
   "cell_type": "markdown",
   "metadata": {},
   "source": [
    "In the previous examples, we considered only one dimension of the spatial pattern (in fact, the spatial\n",
    "frequency in the other direction was zero = no change as a function of distance = constant values, either all white or all black).\n",
    "\n",
    "Plot this function. Note that we're now using a sine wave to control brightness and that we're changing two parameters (x and y) instead of a single parameter."
   ]
  },
  {
   "cell_type": "code",
   "execution_count": null,
   "metadata": {},
   "outputs": [],
   "source": [
    "x = np.arange(0,time_length, sampling_interval)\n",
    "y = np.arange(time_length, 0, -sampling_interval)\n",
    "\n",
    "X, Y = np.meshgrid(x, y)\n",
    "Z = np.sin(2*np.pi * 2 * X) +  np.sin(2*np.pi * 5 * Y)\n",
    "\n",
    "make_imshow(Z)\n",
    "\n",
    "plt.show()"
   ]
  },
  {
   "cell_type": "markdown",
   "metadata": {},
   "source": [
    "Do you see two spatial frequencies - one in the horizontal direction and one in the vertical direction?\n",
    "What are the two spatial frequencies?"
   ]
  },
  {
   "cell_type": "markdown",
   "metadata": {},
   "source": [
    "Hint: Take a look at this plot."
   ]
  },
  {
   "cell_type": "code",
   "execution_count": null,
   "metadata": {},
   "outputs": [],
   "source": [
    "from mpl_toolkits import mplot3d\n",
    "fig = plt.figure()\n",
    "ax = plt.axes(projection='3d')\n",
    "\n",
    "x = np.arange(0,time_length, sampling_interval)\n",
    "y = np.arange(0,time_length, sampling_interval)\n",
    "X, Y = np.meshgrid(x, y)\n",
    "Z = np.sin(2*np.pi * 2 * X) +  np.sin(2*np.pi * 5 * Y)\n",
    "\n",
    "ax.contour3D(X, Y, Z, 50, cmap='binary')\n",
    "ax.set_xlabel('x')\n",
    "ax.set_ylabel('y')\n",
    "ax.set_zlabel('z');"
   ]
  },
  {
   "cell_type": "markdown",
   "metadata": {},
   "source": [
    "This is the same function, plotted in 3D. In other words, what was gray-scale brightness in the 2D plot above now controls position on the Z axis as well as brightness. Look at the spatial series from left to right (along the X axis).\n",
    "Follow the waves. How many complete periods do you count?\n",
    "\n",
    "Plot the same function, viewing the 3D plot from a different orientation."
   ]
  },
  {
   "cell_type": "code",
   "execution_count": null,
   "metadata": {},
   "outputs": [],
   "source": [
    "ax.view_init(60, 35)\n",
    "fig"
   ]
  },
  {
   "cell_type": "markdown",
   "metadata": {},
   "source": [
    "Look at the spatial series from left to right (along the Y axis). Follow the waves. How many complete periods do you count? Write your answer here. **Double click on this cell to write in your answer**\n",
    "\n",
    "Assuming the unit of distance for each axis is 1 meter, fill in the X-axis ______ and Y-axis ______ spatial\n",
    "frequencies."
   ]
  },
  {
   "cell_type": "markdown",
   "metadata": {},
   "source": [
    "### <font color=red>DSP.01.G3.c) The Frequency of a Spatial Pattern -2D</font>"
   ]
  },
  {
   "cell_type": "markdown",
   "metadata": {},
   "source": [
    "Plot the function below. Note that there are two parameters (x and y) instead of a single parameter."
   ]
  },
  {
   "cell_type": "code",
   "execution_count": null,
   "metadata": {},
   "outputs": [],
   "source": [
    "x = np.arange(0,time_length, sampling_interval)\n",
    "y = np.arange(0,time_length, sampling_interval)\n",
    "\n",
    "X, Y = np.meshgrid(x, y)\n",
    "Z = np.sin(2*np.pi * 10 * X) +  np.sin(2*np.pi * 15 * Y)\n",
    "\n",
    "make_imshow(Z)\n",
    "\n",
    "plt.show()"
   ]
  },
  {
   "cell_type": "markdown",
   "metadata": {},
   "source": [
    "Do you see two spatial frequencies - one in the horizontal direction and one in the vertical direction? If the unit of distance is 1 meter, what are the two spatial frequencies?"
   ]
  },
  {
   "cell_type": "markdown",
   "metadata": {},
   "source": [
    "Hint: Take a look at this plot."
   ]
  },
  {
   "cell_type": "code",
   "execution_count": null,
   "metadata": {},
   "outputs": [],
   "source": [
    "from mpl_toolkits import mplot3d\n",
    "fig = plt.figure()\n",
    "ax = plt.axes(projection='3d')\n",
    "\n",
    "x = np.arange(0,time_length, sampling_interval)\n",
    "y = np.arange(0,time_length, sampling_interval)\n",
    "\n",
    "X, Y = np.meshgrid(x, y)\n",
    "Z = np.sin(2*np.pi * 10 * X) +  np.sin(2*np.pi * 15 * Y)\n",
    "\n",
    "ax.contour3D(X, Y, Z, 50, cmap='binary')\n",
    "ax.set_xlabel('x')\n",
    "ax.set_ylabel('y')\n",
    "ax.set_zlabel('z');"
   ]
  },
  {
   "cell_type": "markdown",
   "metadata": {},
   "source": [
    "This is the same function, plotted in 3D. Look at the spatial series from left to right (along the X axis). Follow the waves.\n",
    "How many complete periods do you count?\n",
    "\n",
    "Plot the same function, viewing the 3D plot from a different orientation."
   ]
  },
  {
   "cell_type": "code",
   "execution_count": null,
   "metadata": {},
   "outputs": [],
   "source": [
    "ax.view_init(60, 35)\n",
    "fig"
   ]
  },
  {
   "cell_type": "markdown",
   "metadata": {},
   "source": [
    "How many complete periods do you count?\n",
    "\n",
    "Write your answer below. Assuming the unit of distance for each axis is 1 meter, fill in the X-axis ______ and Y-axis ______ spatial frequencies."
   ]
  },
  {
   "cell_type": "markdown",
   "metadata": {},
   "source": [
    "### <font color=red>DSP.01.G3.d) The Frequency of a Spatial Pattern -2D</font>"
   ]
  },
  {
   "cell_type": "markdown",
   "metadata": {},
   "source": [
    "Copy and paste below code cells from the above examples and create and plot a spatial series - 4 cycles per meter in one direction and 8 cycles per meter in the other direction. \n",
    "\n",
    "Plot the spatial series in 3D. Adjust the orientation until you clearly see both frequencies."
   ]
  },
  {
   "cell_type": "markdown",
   "metadata": {},
   "source": [
    "### <font color=red>DSP.01.G3.e) The Frequency of a Spatial Pattern -2D</font>"
   ]
  },
  {
   "cell_type": "markdown",
   "metadata": {},
   "source": [
    "Go online and search for something like 'number of cycles per degree of visual angle'.\n",
    "\n",
    "Write a few sentences about how you would define spatial frequency in a visual experiment."
   ]
  },
  {
   "cell_type": "markdown",
   "metadata": {},
   "source": [
    "**Double click on this cell to write in your answer**"
   ]
  }
 ],
 "metadata": {
  "kernelspec": {
   "display_name": "Python 3 (ipykernel)",
   "language": "python",
   "name": "python3"
  },
  "language_info": {
   "codemirror_mode": {
    "name": "ipython",
    "version": 3
   },
   "file_extension": ".py",
   "mimetype": "text/x-python",
   "name": "python",
   "nbconvert_exporter": "python",
   "pygments_lexer": "ipython3",
   "version": "3.11.4"
  }
 },
 "nbformat": 4,
 "nbformat_minor": 4
}
