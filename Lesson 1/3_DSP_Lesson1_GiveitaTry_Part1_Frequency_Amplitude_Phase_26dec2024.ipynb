{
 "cells": [
  {
   "cell_type": "markdown",
   "metadata": {},
   "source": [
    "#### Digital Signal Processing Courseware: An Introduction (copyright © 2024)\n",
    "## Authors: J. Christopher Edgar and Gregory A. Miller\n",
    "\n",
    "Originally written in Mathematica by J. Christopher Edgar. Conversion to Jupyter Notebook by Song Liu.\n",
    "\n",
    "The authors of this courseware are indebted to Prof. Bruce Carpenter (University of Illinois Urbana-Champaign). Bruce inspired the creation of this courseware, he consulted with the authors as this courseware was being developed, and he provided the original version of the code and text for several sections of this courseware (e.g. the section on complex numbers and the section on normal distributions). "
   ]
  },
  {
   "cell_type": "markdown",
   "metadata": {},
   "source": [
    "\n",
    "# <font color=red>DSP.01 Frequency, Amplitude, and Phase</font>"
   ]
  },
  {
   "cell_type": "markdown",
   "metadata": {},
   "source": [
    "# <font color=red>Give it a Try!</font>\n",
    "# <font color=red>Part 1</font>"
   ]
  },
  {
   "cell_type": "markdown",
   "metadata": {},
   "source": [
    "### Setup"
   ]
  },
  {
   "cell_type": "code",
   "execution_count": null,
   "metadata": {},
   "outputs": [],
   "source": [
    "# general imports\n",
    "import numpy as np\n",
    "import matplotlib.pyplot as plt\n",
    "from matplotlib import image as img\n",
    "from matplotlib import cm\n",
    "from mpl_toolkits import mplot3d\n",
    "from scipy.fft import fft, fftfreq\n",
    "from sympy import Symbol, sin, series\n",
    "from sympy import roots, solve_poly_system\n",
    "import scipy.special\n",
    "import matplotlib.patches as patches\n",
    "import math\n",
    "import cmath\n",
    "import pandas as pd\n",
    "\n",
    "import warnings\n",
    "warnings.filterwarnings('ignore')\n",
    "\n",
    "# Figure size \n",
    "plt.rc(\"figure\", figsize=(8, 6))\n",
    "\n",
    "#function to create time course figure\n",
    "#one waveform\n",
    "def make_plot_1(x1,y1,type=\"b\"): \n",
    "    plt.plot(x1, y1,type)\n",
    "    plt.margins(x=0, y=0)\n",
    "    plt.axhline(y=0, color='k')\n",
    "    plt.tick_params(labelbottom = False, bottom = False)\n",
    "    \n",
    "#two overlaid waveforms with red and blue   \n",
    "def make_plot_2(x1,y1,type1,x2,y2,type2): \n",
    "    plt.plot(x1, y1, type1)\n",
    "    plt.plot(x2, y2, type2)\n",
    "    plt.margins(x=0, y=0)\n",
    "    plt.axhline(y=0, color='k')\n",
    "    plt.tick_params(labelbottom = False, bottom = False)\n",
    "    \n",
    "#three overlaid waveforms with red, blue and green   \n",
    "def make_plot_3(x1,y1,type1,x2,y2,type2,x3,y3,type3): \n",
    "    plt.plot(x1, y1, type1)\n",
    "    plt.plot(x2, y2, type2)\n",
    "    plt.plot(x3, y3, type3)\n",
    "    plt.margins(x=0, y=0)\n",
    "    plt.axhline(y=0, color='k')\n",
    "    plt.tick_params(labelbottom = False, bottom = False)\n",
    "    \n",
    "def make_plot_3d(ax,x,y,z):    \n",
    "    ax.contour3D(x, y, z, 50, cmap=cm.coolwarm)\n",
    "    ax.set_xlabel('x')\n",
    "    ax.set_ylabel('y')\n",
    "    ax.set_zlabel('z')\n",
    "    \n",
    "def make_plot_freq_1(x1,sample_rate, duration=1): \n",
    "    N = sample_rate * duration\n",
    "    Nhalf = math.ceil(N/2)\n",
    "    yf = fft(x1)\n",
    "    xf = fftfreq(N, 1 / sample_rate)\n",
    "    yf = yf[0:Nhalf]\n",
    "    xf = xf[0:Nhalf]\n",
    "    plt.plot(xf, np.abs(yf))\n",
    "    \n",
    "#two spectrums\n",
    "def make_plot_freq_2(x1,x2,sample_rate, duration=1): \n",
    "    N = sample_rate * duration\n",
    "    Nhalf = math.ceil(N/2)\n",
    "    yf1 = fft(x1)\n",
    "    yf2 = fft(x2)\n",
    "    xf = fftfreq(N, 1 / sample_rate)\n",
    "\n",
    "    yf1 = yf1[0:Nhalf]\n",
    "    yf2 = yf2[0:Nhalf]\n",
    "    xf = xf[0:Nhalf]\n",
    "\n",
    "    plt.plot(xf, np.abs(yf1))\n",
    "    plt.plot(xf, np.abs(yf2), color = 'r')\n",
    "    \n",
    "def make_imshow(x):\n",
    "    plt.imshow(x,cmap='Greys_r')\n",
    "    plt.tick_params(labelbottom = False, bottom = False)\n",
    "    plt.tick_params(labelleft = False, left = False)\n",
    "    \n",
    "def make_imshow_color(x):\n",
    "    plt.imshow(x)\n",
    "    plt.tick_params(labelbottom = False, bottom = False)\n",
    "    plt.tick_params(labelleft = False, left = False)\n",
    "    \n",
    "def round_complex(x):\n",
    "    return complex(np.round(x.real,4),np.round(x.imag,4))\n"
   ]
  },
  {
   "cell_type": "markdown",
   "metadata": {},
   "source": [
    "Congrats - you finished the Lesson 1 Basic and Tutorial notebooks, and you're starting the Lesson 1 Give it a Try notebooks. That means we're going to do less hand-holding. Besides checking what you know from the Basics and Tutorial, will ask you to extend what you know to things we haven't covered already. This can sometimes mean providing a quick answer to a question, or sometimes copying a line of code from a previous cell and doing a small edit, such as changing the value of the 'freq' frequency variable, or adding a gain multiplier, or adding an extra label to a plot. Our interest isn't in whether you \"pass the quiz\" but in getting you to think about how to apply extent something you learned in the Basics and Tutorial notebooks."
   ]
  },
  {
   "cell_type": "markdown",
   "metadata": {},
   "source": [
    "## <font color=red>DSP.01.G1) Stationary Timeseries</font>"
   ]
  },
  {
   "cell_type": "markdown",
   "metadata": {},
   "source": [
    "First, a new term: \"stationary\". A sine wave is said to be stationary when its frequency, amplitude, and phase don't change, beyond the inherent oscillation in its amplitude and phase. Imagine for a moment what a sine wave would look like if we suddenly changed its amplitude, or its phase. Across the epoch of data, it would no longer be just a simple, continuous sine wave. For now, just note that what we've been talking about are \"stationary timeseries\". Of course, most real-world signals change over time, beyond just sinusoidal oscillations. There are interesting implications of that, which we'll get to in a later lesson."
   ]
  },
  {
   "cell_type": "markdown",
   "metadata": {},
   "source": [
    "### <font color=red>DSP.01.G1.a) Stationary Timeseries</font>"
   ]
  },
  {
   "cell_type": "markdown",
   "metadata": {},
   "source": [
    "Here is a simple timeseries."
   ]
  },
  {
   "cell_type": "code",
   "execution_count": null,
   "metadata": {},
   "outputs": [],
   "source": [
    "time = np.arange(0,1,0.001) #create an array representing 1 second\n",
    "freq = 3\n",
    "timeseries = np.sin(2*np.pi * freq * time) # sin(2𝜋 * 3 * time)\n",
    "\n",
    "make_plot_1(time,timeseries)\n",
    "plt.text(1,0,'1 sec',fontsize=15)\n",
    "plt.show()"
   ]
  },
  {
   "cell_type": "markdown",
   "metadata": {},
   "source": [
    "Look at the plot and fill in the blank:      **Double click on this cell to write in your answer**\n",
    "\n",
    "The graph above shows the plot of a ..... Hz sine wave. (type answer in blank)"
   ]
  },
  {
   "cell_type": "markdown",
   "metadata": {},
   "source": [
    "Here is another simple timeseries."
   ]
  },
  {
   "cell_type": "code",
   "execution_count": null,
   "metadata": {},
   "outputs": [],
   "source": [
    "time = np.arange(0,1,0.001) #create an array representing 1 second\n",
    "freq = 10\n",
    "timeseries = np.sin(2*np.pi * freq * time) # sin(2𝜋 * 10 * time)\n",
    "\n",
    "make_plot_1(time,timeseries)\n",
    "plt.text(1,0,'1 sec',fontsize=15)\n",
    "plt.show()"
   ]
  },
  {
   "cell_type": "markdown",
   "metadata": {},
   "source": [
    "Look at the plot and fill in the blank:      **Double click on this cell to write in your answer**\n",
    "    \n",
    "The graph above shows the plot of a ..... Hz sine wave. (type answer in blank)"
   ]
  },
  {
   "cell_type": "markdown",
   "metadata": {},
   "source": [
    "### <font color=red>DSP.01.G1.b) Stationary Timeseries</font>\n",
    "\n",
    "Here is some code to create a sine wave timeseries."
   ]
  },
  {
   "cell_type": "code",
   "execution_count": null,
   "metadata": {
    "scrolled": true
   },
   "outputs": [],
   "source": [
    "time = np.arange(0,1,0.001) #create an array representing 1 second\n",
    "freq = 3\n",
    "timeseries = np.sin(2*np.pi * freq * time) # sin(2𝜋 * 3 * time)\n",
    "\n",
    "make_plot_1(time,timeseries)\n",
    "plt.text(1,0,'1 sec',fontsize=15)\n",
    "plt.show()"
   ]
  },
  {
   "cell_type": "markdown",
   "metadata": {},
   "source": [
    "Modify the code to plot a 15 Hz timeseries."
   ]
  },
  {
   "cell_type": "markdown",
   "metadata": {},
   "source": [
    "### <font color=red>DSP.01.G1.c) Stationary Timeseries</font>\n",
    "\n",
    "Here is some Python code to create a sine wave timeseries."
   ]
  },
  {
   "cell_type": "code",
   "execution_count": null,
   "metadata": {},
   "outputs": [],
   "source": [
    "time = np.arange(0,1,0.001) #create an array representing 1 second\n",
    "freq = 1\n",
    "timeseries = np.sin(2*np.pi * freq * time) # sin(2𝜋 * 1 * time)\n",
    "\n",
    "make_plot_1(time,timeseries)\n",
    "plt.text(1,0,'1 sec',fontsize=15)\n",
    "plt.show()"
   ]
  },
  {
   "cell_type": "markdown",
   "metadata": {},
   "source": [
    "Modify the code to plot a 25 Hz timeseries."
   ]
  },
  {
   "cell_type": "markdown",
   "metadata": {},
   "source": [
    "### <font color=red>DSP.01.G1.d) Stationary Timeseries</font>"
   ]
  },
  {
   "cell_type": "markdown",
   "metadata": {},
   "source": [
    "Here is some code to create a 25 Hz sine wave timeseries."
   ]
  },
  {
   "cell_type": "code",
   "execution_count": null,
   "metadata": {},
   "outputs": [],
   "source": [
    "time = np.arange(0,1,0.001) #create an array representing 1 second\n",
    "freq = 25\n",
    "timeseries = np.sin(2*np.pi * freq * time) # sin(2𝜋 * 25 * time)\n",
    "\n",
    "make_plot_1(time,timeseries)\n",
    "plt.text(1,0,'1 sec',fontsize=15)\n",
    "plt.show()"
   ]
  },
  {
   "cell_type": "markdown",
   "metadata": {},
   "source": [
    "Modify the code to plot a 25 Hz timeseries with an amplitude of 5. Remember that for now we're using \"amplitude\" to refer to the difference from the midpoint (zero amplitude) of the sine wave to its positive peak. So, a sine wave with an amplitude of 5 would vary from -5 to +5. Does yours, after you edit the code?"
   ]
  },
  {
   "cell_type": "markdown",
   "metadata": {},
   "source": [
    "### <font color=red>DSP.01.G1.e) Stationary Timeseries</font>"
   ]
  },
  {
   "cell_type": "markdown",
   "metadata": {},
   "source": [
    "Here is some Python code to create a 60 Hz sine wave timeseries."
   ]
  },
  {
   "cell_type": "code",
   "execution_count": null,
   "metadata": {},
   "outputs": [],
   "source": [
    "time = np.arange(0,1,0.001) #create an array representing 1 second\n",
    "freq = 60\n",
    "timeseries = np.sin(2*np.pi * freq * time) # sin(2𝜋 * 60 * time)\n",
    "\n",
    "make_plot_1(time,timeseries)\n",
    "plt.text(1,0,'1 sec',fontsize=15)\n",
    "\n",
    "plt.show()"
   ]
  },
  {
   "cell_type": "markdown",
   "metadata": {},
   "source": [
    "In many countries, 50 Hz or 60 Hz is the frequency of the AC (alternating current) voltage available at wall sockets that powers equipment, and that frequency often appears in signals we record. So this is an important frequency to recognize and sometimes to filter out (which we'll talk about later). Modify the code to plot a 60 Hz timeseries with an amplitude of 10."
   ]
  },
  {
   "cell_type": "markdown",
   "metadata": {},
   "source": [
    "### <font color=red>DSP.01.G1.f) Stationary Timeseries</font>"
   ]
  },
  {
   "cell_type": "markdown",
   "metadata": {},
   "source": [
    "Here is some Python code to create a 10 Hz sine wave timeseries."
   ]
  },
  {
   "cell_type": "code",
   "execution_count": null,
   "metadata": {},
   "outputs": [],
   "source": [
    "time = np.arange(0,1,0.001) #create an array representing 1 second\n",
    "freq = 10\n",
    "timeseries = np.sin(2*np.pi * freq * time) # sin(2𝜋 * 10 * time)\n",
    "\n",
    "make_plot_1(time,timeseries)\n",
    "plt.text(1,0,'1 sec',fontsize=15)\n",
    "plt.show()"
   ]
  },
  {
   "cell_type": "markdown",
   "metadata": {},
   "source": [
    "Modify the code to plot a 35 Hz timeseries with an amplitude of 15."
   ]
  },
  {
   "cell_type": "markdown",
   "metadata": {},
   "source": [
    "### <font color=red>DSP.01.G1.g) Stationary Timeseries - Period</font>  "
   ]
  },
  {
   "cell_type": "markdown",
   "metadata": {},
   "source": [
    "Some of the digital signal processing methods we'll talk about later assume that your data consists of a combination of sine waves that don't change across the interval you're analyzing. (That assumption often isn't true, but don't worry about that now.) The shortest interval for which the sine function exactly repeats itself is called the period.\n",
    "\n",
    "Plot a 7 Hz timeseries that is completed in 1 second. Calculate the period in milliseconds and create a plot with a symbol showing the first complete period of the 7 Hz sine wave. \n",
    "\n",
    "**To solve this problem, copy and paste below this cell the relevant code from the Lesson 1 Basics section, then edit the code to show your answer.**"
   ]
  },
  {
   "cell_type": "markdown",
   "metadata": {},
   "source": [
    "### <font color=red>DSP.01.G1.h) Stationary Timeseries - Period</font>"
   ]
  },
  {
   "cell_type": "markdown",
   "metadata": {},
   "source": [
    "A 7 Hz time series has 7 cycles per second, but it can have any number of cycles total, depending on\n",
    "how many seconds the time series lasts for. (In fact, the basic concept of a sine wave has it continuing infinitely, both\n",
    "ahead in time and backwards in time. But we don't have to go there...) Now plot a 7 Hz timeseries over\n",
    "a 2 second interval. Calculate the period in milliseconds and create a plot with a symbol showing the\n",
    "first complete period of the 7 Hz sine wave.\n",
    "\n",
    "**To solve this problem, copy and paste below this cell the relevant code from the Lesson 1 Basics section, then edit the code to show your answer.**"
   ]
  },
  {
   "cell_type": "markdown",
   "metadata": {},
   "source": [
    "### <font color=red>DSP.01.G1.i) Stationary Timeseries</font>"
   ]
  },
  {
   "cell_type": "markdown",
   "metadata": {},
   "source": [
    "Now plot a 2 Hz timeseries that lasts 1.5 seconds.\n",
    "\n",
    "**To solve this problem, copy and paste below this cell the relevant code from the Lesson 1 Basics section, then edit the code to show your answer.**"
   ]
  },
  {
   "cell_type": "markdown",
   "metadata": {},
   "source": [
    "### <font color=red>DSP.01.G1.j) Stationary Timeseries - Gain</font>"
   ]
  },
  {
   "cell_type": "markdown",
   "metadata": {},
   "source": [
    "In common use, the term 'gain' indicates an increase in magnitude.\n",
    "                         \n",
    "Here is a 5 Hz sine wave."
   ]
  },
  {
   "cell_type": "code",
   "execution_count": null,
   "metadata": {},
   "outputs": [],
   "source": [
    "time = np.arange(0,1,0.001) #create an array representing 1 second\n",
    "freq = 5\n",
    "timeseries = np.sin(2*np.pi * freq * time) # sin(2𝜋 * 5 * time)\n",
    "\n",
    "make_plot_1(time,timeseries)\n",
    "plt.text(1,0,'1 sec',fontsize=15)\n",
    "plt.show()"
   ]
  },
  {
   "cell_type": "markdown",
   "metadata": {},
   "source": [
    "Create a 5 Hz timeseries with a sixfold increase in gain. Overlay the original and the amplified plot and comment on what you see.\n",
    "\n",
    "**To solve this problem, copy and paste below this cell the relevant code from the Lesson 1 Basics section, then edit the code to show your answer.**"
   ]
  },
  {
   "cell_type": "markdown",
   "metadata": {},
   "source": [
    "### <font color=red>DSP.01.G1.k) Stationary Timeseries - Gain</font>\n",
    "\n",
    "Here is a 5 Hz sine wave of amplitude = 8 units."
   ]
  },
  {
   "cell_type": "code",
   "execution_count": null,
   "metadata": {},
   "outputs": [],
   "source": [
    "time = np.arange(0,1,0.001) #create an array representing 1 second\n",
    "freq = 5\n",
    "gain = 8\n",
    "timeseries = gain * np.sin(2*np.pi * freq * time) # 8 * sin(2𝜋 * 5 * time)\n",
    "\n",
    "make_plot_1(time,timeseries)\n",
    "plt.text(1,0,'1 sec',fontsize=15)\n",
    "plt.show()"
   ]
  },
  {
   "cell_type": "markdown",
   "metadata": {},
   "source": [
    "To be precise, 'gain' is a ratio describing the effect of a signal-processing step on the amplitude of a signal: the ratio of the output amplitude divided by the input amplitude. If the ratio is a positive value, but less than 1.0, the effect is to decrease the signal. So, in everyday usage 'gain' is a ratio larger than 1.0 (the output is larger than the input), 'gain' can also refer to a decrease in magnitude. ('gain' can even be less than 0.0, but we won't deal with that here.) \n",
    "\n",
    "Create a 5 Hz timeseries with a 1/4 gain decrease (that is, create a new timeseries that is three-fourths\n",
    "of the original). Overlay the original and the modified plot and comment on what you see.\n",
    "\n",
    "**To solve this problem, copy and paste below this cell the relevant code from the Lesson 1 Basics section, then edit the code to show your answer.**"
   ]
  },
  {
   "cell_type": "markdown",
   "metadata": {},
   "source": [
    "**Double click on this cell to write your observations.**"
   ]
  },
  {
   "cell_type": "markdown",
   "metadata": {},
   "source": [
    "### <font color=red>DSP.01.G1.l) Stationary Timeseries - Phase</font>\n",
    "\n",
    "Most of the timeseries we have been looking at start at 0 (time t0) and continue for however long we\n",
    "decide, changing moment to moment. But at any given moment one can ask what the phase is. That is,\n",
    "at what point in its cycle is it?\n",
    "\n",
    "Here is a sine wave plotted with a dot at a particular point."
   ]
  },
  {
   "cell_type": "code",
   "execution_count": null,
   "metadata": {},
   "outputs": [],
   "source": [
    "time = np.arange(0,1,0.001) #create an array representing 1 second\n",
    "freq = 2\n",
    "timeseries = np.sin(2*np.pi * freq * time) # sin(2𝜋 * 2 * time)\n",
    "\n",
    "make_plot_1(time,timeseries)\n",
    "\n",
    "plt.text(1,0,'1 sec',fontsize=15)\n",
    "plt.scatter(0.25,0,linewidth=5)\n",
    "\n",
    "plt.show()"
   ]
  },
  {
   "cell_type": "markdown",
   "metadata": {},
   "source": [
    "Without doing any calculations, the phase at the dot is ..... radians. (type answer in blank) \n",
    "\n",
    "**Double click on this cell to write in your answer**"
   ]
  },
  {
   "cell_type": "code",
   "execution_count": null,
   "metadata": {},
   "outputs": [],
   "source": [
    "time = np.arange(0,1,0.001) #create an array representing 1 second\n",
    "freq = 2\n",
    "timeseries = np.sin(2*np.pi * freq * time) # sin(2𝜋 * 2 * time)\n",
    "\n",
    "make_plot_1(time,timeseries)\n",
    "\n",
    "plt.text(1,0,'1 sec',fontsize=15)\n",
    "plt.scatter(0.125,1,linewidth=5)\n",
    "\n",
    "plt.show()"
   ]
  },
  {
   "cell_type": "markdown",
   "metadata": {},
   "source": [
    "Without doing any calculations, the phase at the dot is ..... radians. (type in answer here)\n",
    "\n",
    " **Double click on this cell to write in your answer**"
   ]
  },
  {
   "cell_type": "code",
   "execution_count": null,
   "metadata": {},
   "outputs": [],
   "source": [
    "time = np.arange(0,1,0.001) #create an array representing 1 second\n",
    "freq = 2\n",
    "timeseries = np.sin(2*np.pi * freq * time) # sin(2𝜋 * 2 * time)\n",
    "\n",
    "make_plot_1(time,timeseries)\n",
    "\n",
    "plt.text(1,0,'1 sec',fontsize=15)\n",
    "plt.scatter(0.5,0,linewidth=5)\n",
    "\n",
    "plt.show()"
   ]
  },
  {
   "cell_type": "markdown",
   "metadata": {},
   "source": [
    "Without doing any calculations, the phase at the dot is ..... radians. (type answer in blank)\n",
    "\n",
    " **Double click on this cell to write in your answer**"
   ]
  },
  {
   "cell_type": "code",
   "execution_count": null,
   "metadata": {},
   "outputs": [],
   "source": [
    "time = np.arange(0,1,0.001) #create an array representing 1 second\n",
    "freq = 2\n",
    "timeseries = np.sin(2*np.pi * freq * time) # sin(2𝜋 * 2 * time)\n",
    "\n",
    "make_plot_1(time,timeseries)\n",
    "\n",
    "plt.text(1,0,'1 sec',fontsize=15)\n",
    "plt.scatter(0.625,1,linewidth=5)\n",
    "\n",
    "plt.show()"
   ]
  },
  {
   "cell_type": "markdown",
   "metadata": {},
   "source": [
    "Without doing any calculations, the phase at the dot is ..... radians. (type in answer here)\n",
    "\n",
    " **Double click on this cell to write in your answer**\n",
    "\n",
    "Looking at the code in the last few code cells, you can see that they differed only in the first argument in the 'plt.scatter' function call, for example the 0.625 in 'plt.scatter(0.625,1,linewidth=5)'. By checking how that argument differed in the last few plots, can you see why the dot was plotted where it was each time?"
   ]
  },
  {
   "cell_type": "markdown",
   "metadata": {},
   "source": [
    "### <font color=red>DSP.01.G1.m) Stationary Timeseries - Phase</font>"
   ]
  },
  {
   "cell_type": "markdown",
   "metadata": {},
   "source": [
    "There are two common conventions for quantifying the phase of a sine wave: degrees and radians.\n",
    "Degrees and radians are always interchangeable. One complete cycle of a sine wave can be characterized\n",
    "as taking 360 degrees or as taking 2π radians. At the beginning of a cycle (where the amplitude is 0.0, and the sine wave is going positive), the sine wave is said to\n",
    "be at 0 degrees or at 0 radians. Halfway through a cycle, a sine wave is at 180 degrees or at π radians.\n",
    "After one full cycle, it is at 360 degrees or at 2π radians, which (because we're going around a circle, just writing out our position on the circle as it changes over time, in order to create the sine wave) is the same as 0 degrees or 0 radians.\n",
    "\n",
    "Here is a 9 Hz timeseries."
   ]
  },
  {
   "cell_type": "code",
   "execution_count": null,
   "metadata": {},
   "outputs": [],
   "source": [
    "time = np.arange(0,1,0.001) #create an array representing 1 second\n",
    "freq = 9\n",
    "timeseries = np.sin(2*np.pi * freq * time) # sin(2𝜋 * 9 * time)\n",
    "\n",
    "make_plot_1(time,timeseries)\n",
    "\n",
    "plt.text(1,0,'1 sec',fontsize=15)\n",
    "\n",
    "plt.show()"
   ]
  },
  {
   "cell_type": "markdown",
   "metadata": {},
   "source": [
    "Shift the timeseries 90 degrees."
   ]
  },
  {
   "cell_type": "markdown",
   "metadata": {},
   "source": [
    "### <font color=red>DSP.01.G1.n) Stationary Timeseries - Phase</font>\n",
    "\n",
    "Here is a 5 Hz timeseries."
   ]
  },
  {
   "cell_type": "code",
   "execution_count": null,
   "metadata": {
    "scrolled": true
   },
   "outputs": [],
   "source": [
    "time = np.arange(0,1,0.001) #create an array representing 1 second\n",
    "freq = 5\n",
    "timeseries = np.sin(2*np.pi * freq * time) # sin(2𝜋 * 5 * time)\n",
    "\n",
    "make_plot_1(time,timeseries)\n",
    "\n",
    "plt.text(1,0,'1 sec',fontsize=15)\n",
    "\n",
    "plt.show()"
   ]
  },
  {
   "cell_type": "markdown",
   "metadata": {},
   "source": [
    "Shift the above timeseries 124 degrees."
   ]
  }
 ],
 "metadata": {
  "kernelspec": {
   "display_name": "Python 3 (ipykernel)",
   "language": "python",
   "name": "python3"
  },
  "language_info": {
   "codemirror_mode": {
    "name": "ipython",
    "version": 3
   },
   "file_extension": ".py",
   "mimetype": "text/x-python",
   "name": "python",
   "nbconvert_exporter": "python",
   "pygments_lexer": "ipython3",
   "version": "3.11.4"
  }
 },
 "nbformat": 4,
 "nbformat_minor": 4
}
