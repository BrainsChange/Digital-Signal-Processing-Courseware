{
 "cells": [
  {
   "cell_type": "code",
   "execution_count": null,
   "metadata": {},
   "outputs": [],
   "source": []
  },
  {
   "cell_type": "markdown",
   "metadata": {},
   "source": [
    "Digital Signal Processing Courseware: An Introduction (copyright © 2024)\n",
    "## Authors: J. Christopher Edgar and Gregory A. Miller\n",
    "\n",
    "Originally written in Mathematica by J. Christopher Edgar. Conversion to Jupyter Notebook by Song Liu.\n",
    "\n",
    "The authors of this courseware are indebted to Prof. Bruce Carpenter (University of Illinois Urbana-Champaign). Bruce inspired the creation of this courseware, he consulted with the authors as this courseware was being developed, and he provided the original version of the code and text for several sections of this courseware (e.g. the section on complex numbers and the section on normal distributions). "
   ]
  },
  {
   "cell_type": "markdown",
   "metadata": {},
   "source": [
    "# <font color=red>DSP.03 Convolution and Filtering - Time Domain</font>"
   ]
  },
  {
   "cell_type": "markdown",
   "metadata": {},
   "source": [
    "# <font color=red>Give it a Try!</font>\n",
    "# <font color=red>Part 3</font>"
   ]
  },
  {
   "cell_type": "markdown",
   "metadata": {},
   "source": [
    "### Setup"
   ]
  },
  {
   "cell_type": "code",
   "execution_count": 1,
   "metadata": {},
   "outputs": [],
   "source": [
    "# general imports\n",
    "import numpy as np\n",
    "import matplotlib.pyplot as plt\n",
    "from matplotlib import image as img\n",
    "from matplotlib import cm\n",
    "from mpl_toolkits import mplot3d\n",
    "from scipy.fft import fft, fftfreq\n",
    "import matplotlib.patches as patches\n",
    "import math\n",
    "import cmath\n",
    "import pandas as pd\n",
    "from sympy import Symbol, sin, series\n",
    "from sympy import roots, solve_poly_system\n",
    "import scipy.special\n",
    "\n",
    "import warnings\n",
    "warnings.filterwarnings('ignore')\n",
    "\n",
    "# Figure size \n",
    "plt.rc(\"figure\", figsize=(8, 6))\n",
    "\n",
    "#function to create time course figure\n",
    "#one waveform\n",
    "def make_plot_1(x1,y1,type=\"b\",linewidth = 1): \n",
    "    plt.plot(x1, y1,type)\n",
    "    plt.margins(x=0, y=0)\n",
    "    plt.axhline(y=0, color='k')\n",
    "    plt.tick_params(labelbottom = False, bottom = False)\n",
    "    \n",
    "#two overlaid waveforms with red and blue   \n",
    "def make_plot_2(x1,y1,type1,x2,y2,type2): \n",
    "    plt.plot(x1, y1, type1)\n",
    "    plt.plot(x2, y2, type2)\n",
    "    plt.margins(x=0, y=0)\n",
    "    plt.axhline(y=0, color='k')\n",
    "    plt.tick_params(labelbottom = False, bottom = False)\n",
    "    \n",
    "#three overlaid waveforms with red, blue and green   \n",
    "def make_plot_3(x1,y1,type1,x2,y2,type2,x3,y3,type3): \n",
    "    plt.plot(x1, y1, type1)\n",
    "    plt.plot(x2, y2, type2)\n",
    "    plt.plot(x3, y3, type3)\n",
    "    plt.margins(x=0, y=0)\n",
    "    plt.axhline(y=0, color='k')\n",
    "    plt.tick_params(labelbottom = False, bottom = False)\n",
    "    \n",
    "def make_plot_3d(ax,x,y,z):    \n",
    "    ax.contour3D(x, y, z, 50, cmap=cm.coolwarm)\n",
    "    ax.set_xlabel('x')\n",
    "    ax.set_ylabel('y')\n",
    "    ax.set_zlabel('z')\n",
    "    \n",
    "def make_plot_freq_1(x1,sample_rate, duration=1): \n",
    "    N = sample_rate * duration\n",
    "    Nhalf = math.ceil(N/2)\n",
    "    yf = fft(x1)\n",
    "    xf = fftfreq(N, 1 / sample_rate)\n",
    "    yf = yf[0:Nhalf]\n",
    "    xf = xf[0:Nhalf]\n",
    "    plt.plot(xf, np.abs(yf))\n",
    "    \n",
    "#two spectrums\n",
    "def make_plot_freq_2(x1,x2,sample_rate, duration=1): \n",
    "    N = sample_rate * duration\n",
    "    Nhalf = math.ceil(N/2)\n",
    "    yf1 = fft(x1)\n",
    "    yf2 = fft(x2)\n",
    "    xf = fftfreq(N, 1 / sample_rate)\n",
    "\n",
    "    yf1 = yf1[0:Nhalf]\n",
    "    yf2 = yf2[0:Nhalf]\n",
    "    xf = xf[0:Nhalf]\n",
    "\n",
    "    plt.plot(xf, np.abs(yf1))\n",
    "    plt.plot(xf, np.abs(yf2), color = 'r')\n",
    "    \n",
    "def make_imshow(x):\n",
    "    plt.imshow(x,cmap='Greys_r')\n",
    "    plt.tick_params(labelbottom = False, bottom = False)\n",
    "    plt.tick_params(labelleft = False, left = False)\n",
    "    \n",
    "def make_imshow_color(x):\n",
    "    plt.imshow(x)\n",
    "    plt.tick_params(labelbottom = False, bottom = False)\n",
    "    plt.tick_params(labelleft = False, left = False)\n",
    "    \n",
    "def round_complex(x):\n",
    "    return complex(np.round(x.real,4),np.round(x.imag,4))"
   ]
  },
  {
   "cell_type": "markdown",
   "metadata": {},
   "source": [
    "## <font color=red>DSP.03.G3) More on Global Warming</font>"
   ]
  },
  {
   "cell_type": "markdown",
   "metadata": {},
   "source": [
    "### <font color=red>DSP.03.G3.a) Global temperatures from CE 200 to CE 1980</font>"
   ]
  },
  {
   "cell_type": "markdown",
   "metadata": {},
   "source": [
    "Mann, M.E. and P.D. Jones, 2003, 2,000 Year Hemispheric Multi-proxy Temperature Reconstructions, IGBP PAGES/World Data Center for Paleoclimatology, Data Contribution Series #2003-051. NOAA/NGDC Paleoclimatology Program, Boulder CO, USA. ftp://ftp.ncdc.noaa.gov/pub/data/paleo/contributions_by_author/mann2003b/mann2003b.txt\n",
    "\n",
    "Is the global temperature increasing?\n",
    "\n",
    "In the Basics we looked as global temperature from 1880 to 2005. Let's now look at data from a study\n",
    "published by Michael Mann and Philip D. Jones (2003). They noted that, although studies examining\n",
    "temperature changes over the last several hundred years are of interest, findings from these studies are\n",
    "limited, because the changes we have recently observed may be normal temperature fluctuations when\n",
    "considered against a longer timeline. Mann and\n",
    "Jones (2003) used a variety of methods to reconstruct Northern Hemisphere mean surface temperature\n",
    "over the past two millennia. Temperature measurements from long ago are based on what Mann\n",
    "and Jones called high-resolution 'proxy' temperature data. 'Proxy' temperature measures are obtained\n",
    "by estimating temperatures across the last 2000 years from samples obtained from lake sediment, ice\n",
    "core, and tree-ring records. For example, tree-ring temperature reconstructions were obtained for\n",
    "western North American regions from ultra-long-lived trees from CE 200 and ice core oxygen isotope\n",
    "records from west Greenland that date back to CE 553. If you are interested in the specific methods and\n",
    "a full discussion of their findings, check out the paper. For present purposes, we just care that it's a very long timeseries.\n",
    "\n",
    "Load and plot the needed data.\n",
    "\n",
    "Use the below command, loading in the file 'JonesandMann2003.txt':"
   ]
  },
  {
   "cell_type": "code",
   "execution_count": 2,
   "metadata": {},
   "outputs": [
    {
     "data": {
      "text/plain": [
       "array([-0.235, -0.217, -0.2  , ...,  0.027,  0.054,  0.08 ])"
      ]
     },
     "execution_count": 2,
     "metadata": {},
     "output_type": "execute_result"
    }
   ],
   "source": [
    "import tkinter as tk\n",
    "from tkinter import filedialog\n",
    "\n",
    "root = tk.Tk()\n",
    "root.withdraw()\n",
    "\n",
    "#find and select file \"JonesandMann2003.txt\"\n",
    "file_path = filedialog.askopenfilename()\n",
    "JonesandMann = pd.read_csv(file_path,delimiter = \"\\t\")\n",
    "JonesandMann = JonesandMann.to_numpy().flatten()\n",
    "JonesandMann"
   ]
  },
  {
   "cell_type": "markdown",
   "metadata": {},
   "source": [
    "This is a list of the year a temperature measurement was obtained, followed by the temperature measurements. There are 1781 pairs of data points: all the years, then the temperature for those years.\n"
   ]
  },
  {
   "cell_type": "markdown",
   "metadata": {},
   "source": [
    "For analyses, only the temperature data are needed. The year information can be removed, leaving only the temperature\n",
    "measures."
   ]
  },
  {
   "cell_type": "markdown",
   "metadata": {},
   "source": [
    "Plot the temperature data and set the x axis so it is correct."
   ]
  },
  {
   "cell_type": "markdown",
   "metadata": {},
   "source": [
    "### <font color=red>DSP.03.G3.b) Global temperatures from CE 200 to CE 1980 - a better looking plot</font>"
   ]
  },
  {
   "cell_type": "markdown",
   "metadata": {},
   "source": [
    "Mann and Jones (2003) noted that the proxy data are best interpreted in terms of annual conditions.\n",
    "Mann and Jones (2003) noted that the broad period from approximately CE 800 to CE 1400 was moderately\n",
    "warmer than multi-century periods both preceding and following it. This warmth, however, is dwarfed\n",
    "by late 20th century warmth, which is observed to be unprecedented at least as far back as CE 200. The\n",
    "coldest periods are the 6th, 15th, 17th, and 19th centuries.\n",
    "\n",
    "The graph you created above was not shown in the original publication. The graph shown in their\n",
    "original publication was smoother, because they filtered the data to remove some of the year-to-year\n",
    "fluctuation. Use the moving-average technique to smooth the data yourself.\n",
    "\n",
    "Overlay the original timeseries and the filtered timeseries. Comment on what you see (you can go the extra step of\n",
    "making adjustments to the filtered timeseries so that x and y axis values are correctly aligned, given that the filter we've talked about can't handle the very first and last data points)."
   ]
  }
 ],
 "metadata": {
  "kernelspec": {
   "display_name": "Python 3 (ipykernel)",
   "language": "python",
   "name": "python3"
  },
  "language_info": {
   "codemirror_mode": {
    "name": "ipython",
    "version": 3
   },
   "file_extension": ".py",
   "mimetype": "text/x-python",
   "name": "python",
   "nbconvert_exporter": "python",
   "pygments_lexer": "ipython3",
   "version": "3.11.5"
  }
 },
 "nbformat": 4,
 "nbformat_minor": 4
}
