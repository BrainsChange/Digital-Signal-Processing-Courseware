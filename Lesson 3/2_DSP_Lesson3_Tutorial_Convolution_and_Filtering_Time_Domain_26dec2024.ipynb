{
 "cells": [
  {
   "cell_type": "markdown",
   "metadata": {},
   "source": [
    "#### Digital Signal Processing Courseware: An Introduction (copyright © 2024)\n",
    "## Authors: J. Christopher Edgar and Gregory A. Miller\n",
    "\n",
    "Originally written in Mathematica by J. Christopher Edgar. Conversion to Jupyter Notebook by Song Liu.\n",
    "\n",
    "The authors of this courseware are indebted to Prof. Bruce Carpenter (University of Illinois Urbana-Champaign). Bruce inspired the creation of this courseware, he consulted with the authors as this courseware was being developed, and he provided the original version of the code and text for several sections of this courseware (e.g. the section on complex numbers and the section on normal distributions). "
   ]
  },
  {
   "cell_type": "markdown",
   "metadata": {},
   "source": [
    "# <font color=red>DSP.03 Convolution and Filtering -Time Domain</font>"
   ]
  },
  {
   "cell_type": "markdown",
   "metadata": {},
   "source": [
    "# <font color=red>TUTORIAL</font>"
   ]
  },
  {
   "cell_type": "markdown",
   "metadata": {},
   "source": [
    "### Setup"
   ]
  },
  {
   "cell_type": "code",
   "execution_count": null,
   "metadata": {},
   "outputs": [],
   "source": [
    "# general imports\n",
    "import numpy as np\n",
    "import matplotlib.pyplot as plt\n",
    "from matplotlib import image as img\n",
    "from matplotlib import cm\n",
    "from mpl_toolkits import mplot3d\n",
    "from scipy.fft import fft, fftfreq\n",
    "import matplotlib.patches as patches\n",
    "import math\n",
    "import cmath\n",
    "import pandas as pd\n",
    "from sympy import Symbol, sin, series\n",
    "from sympy import roots, solve_poly_system\n",
    "import scipy.special\n",
    "\n",
    "import warnings\n",
    "warnings.filterwarnings('ignore')\n",
    "\n",
    "# Figure size \n",
    "plt.rc(\"figure\", figsize=(8, 6))\n",
    "\n",
    "#function to create time course figure\n",
    "#one waveform\n",
    "def make_plot_1(x1,y1,type=\"b\",linewidth = 1): \n",
    "    plt.plot(x1, y1,type)\n",
    "    plt.margins(x=0, y=0)\n",
    "    plt.axhline(y=0, color='k')\n",
    "    plt.tick_params(labelbottom = False, bottom = False)\n",
    "    \n",
    "#two overlaid waveforms with red and blue   \n",
    "def make_plot_2(x1,y1,type1,x2,y2,type2): \n",
    "    plt.plot(x1, y1, type1)\n",
    "    plt.plot(x2, y2, type2)\n",
    "    plt.margins(x=0, y=0)\n",
    "    plt.axhline(y=0, color='k')\n",
    "    plt.tick_params(labelbottom = False, bottom = False)\n",
    "    \n",
    "#three overlaid waveforms with red, blue and green   \n",
    "def make_plot_3(x1,y1,type1,x2,y2,type2,x3,y3,type3): \n",
    "    plt.plot(x1, y1, type1)\n",
    "    plt.plot(x2, y2, type2)\n",
    "    plt.plot(x3, y3, type3)\n",
    "    plt.margins(x=0, y=0)\n",
    "    plt.axhline(y=0, color='k')\n",
    "    plt.tick_params(labelbottom = False, bottom = False)\n",
    "    \n",
    "def make_plot_3d(ax,x,y,z):    \n",
    "    ax.contour3D(x, y, z, 50, cmap=cm.coolwarm)\n",
    "    ax.set_xlabel('x')\n",
    "    ax.set_ylabel('y')\n",
    "    ax.set_zlabel('z')\n",
    "    \n",
    "def make_plot_freq_1(x1,sample_rate, duration=1): \n",
    "    N = sample_rate * duration\n",
    "    Nhalf = math.ceil(N/2)\n",
    "    yf = fft(x1)\n",
    "    xf = fftfreq(N, 1 / sample_rate)\n",
    "    yf = yf[0:Nhalf]\n",
    "    xf = xf[0:Nhalf]\n",
    "    plt.plot(xf, np.abs(yf))\n",
    "    \n",
    "#two spectrums\n",
    "def make_plot_freq_2(x1,x2,sample_rate, duration=1): \n",
    "    N = sample_rate * duration\n",
    "    Nhalf = math.ceil(N/2)\n",
    "    yf1 = fft(x1)\n",
    "    yf2 = fft(x2)\n",
    "    xf = fftfreq(N, 1 / sample_rate)\n",
    "\n",
    "    yf1 = yf1[0:Nhalf]\n",
    "    yf2 = yf2[0:Nhalf]\n",
    "    xf = xf[0:Nhalf]\n",
    "\n",
    "    plt.plot(xf, np.abs(yf1))\n",
    "    plt.plot(xf, np.abs(yf2), color = 'r')\n",
    "    \n",
    "def make_imshow(x):\n",
    "    plt.imshow(x,cmap='Greys_r')\n",
    "    plt.tick_params(labelbottom = False, bottom = False)\n",
    "    plt.tick_params(labelleft = False, left = False)\n",
    "    \n",
    "def make_imshow_color(x):\n",
    "    plt.imshow(x)\n",
    "    plt.tick_params(labelbottom = False, bottom = False)\n",
    "    plt.tick_params(labelleft = False, left = False)\n",
    "    \n",
    "def round_complex(x):\n",
    "    return complex(np.round(x.real,4),np.round(x.imag,4))"
   ]
  },
  {
   "cell_type": "markdown",
   "metadata": {},
   "source": [
    "## <font color=red>DSP.03.T1) Gain Functions</font>"
   ]
  },
  {
   "cell_type": "markdown",
   "metadata": {},
   "source": [
    "### <font color=red>DSP.03.T1.a) What frequencies are removed?</font>"
   ]
  },
  {
   "cell_type": "markdown",
   "metadata": {},
   "source": [
    "Here is a timeseries."
   ]
  },
  {
   "cell_type": "code",
   "execution_count": null,
   "metadata": {},
   "outputs": [],
   "source": [
    "time = np.arange(0,1,1/300)\n",
    "freq1 = 8\n",
    "freq2 = 60\n",
    "freq3 = 100\n",
    "timeseries = np.sin(2*np.pi * freq1 * time) + np.sin(2*np.pi * freq2 * time)+ np.sin(2*np.pi * freq3 * time)\n",
    "\n",
    "make_plot_1(time,timeseries,'r')\n",
    "plt.text(1,0,'1 sec',fontsize=15)\n",
    "plt.show()"
   ]
  },
  {
   "cell_type": "markdown",
   "metadata": {},
   "source": [
    "Create a five-point moving-average kernel and compute a filtered timeseries by convolving the filter\n",
    "with the unfiltered timeseries."
   ]
  },
  {
   "cell_type": "code",
   "execution_count": null,
   "metadata": {},
   "outputs": [],
   "source": [
    "from scipy import signal\n",
    "\n",
    "kernel = 1/5 * np.ones(5) #this looks like { 1/5 , 1/5 , 1/5 , 1/5 , 1/5}\n",
    "newydata = signal.convolve(timeseries,kernel,mode='same')\n",
    "\n",
    "\n",
    "make_plot_1(time,newydata)\n",
    "plt.text(1,0,'1 sec',fontsize=15)\n",
    "plt.show()"
   ]
  },
  {
   "cell_type": "markdown",
   "metadata": {},
   "source": [
    "Remember that, because we cannot apply the kernel at the beginning and end of the timeseries, we are shifting the filtered timeseries so that\n",
    "the points in the filtered timeseries match the points in the unfiltered timeseries.\n",
    "\n",
    "Look at the difference between the original unfiltered timeseries and the filtered timeseries in the time\n",
    "domain."
   ]
  },
  {
   "cell_type": "code",
   "execution_count": null,
   "metadata": {},
   "outputs": [],
   "source": [
    "make_plot_2(time,timeseries,'r', time, newydata,'k')\n",
    "plt.text(1,0,'1 sec',fontsize=15)\n",
    "plt.show()"
   ]
  },
  {
   "cell_type": "markdown",
   "metadata": {},
   "source": [
    "They look different.\n",
    "\n",
    "Compare the unfiltered and filtered timeseries in the frequency domain."
   ]
  },
  {
   "cell_type": "code",
   "execution_count": null,
   "metadata": {},
   "outputs": [],
   "source": [
    "make_plot_freq_2(timeseries,newydata,300)\n",
    "\n",
    "# Adding text to the figure\n",
    "plt.text(151,0,'Hz',fontsize=15)\n",
    "plt.show()"
   ]
  },
  {
   "cell_type": "markdown",
   "metadata": {},
   "source": [
    "Some 100 Hz activity is still present. 60 Hz activity is completely removed. You can notice that this filter\n",
    "is neither a high-pass nor, very successfully, a low-pass filter. At least for these 3 original signals, this is a very precise filter, completely removing just the 60 Hz signal.\n",
    "\n",
    "100 Hz activity completes 100 full cycles in 300 points. As 300/100 = 3, a kernel of size three (or a multiple of\n",
    "three) is needed to cover an integer number of 100 Hz cycles. Because the kernel of size five does not\n",
    "cover an integer number of 100 Hz cycles, not all 100 Hz activity is removed.\n",
    "\n",
    "60 Hz activity completes 60 full cycles in 300 points, and one full cycle in 300/60 = 5 points. A kernel of size\n",
    "five covers one complete 60 Hz cycle. Thus, all 60 Hz activity is removed.\n",
    "\n",
    "Aside from 60 Hz activity, when digitizing at 300 Hz what other frequencies does a moving average\n",
    "kernel of size five completely remove?"
   ]
  },
  {
   "cell_type": "markdown",
   "metadata": {},
   "source": [
    "Answer:\n",
    "\n",
    "When digitizing at 300 Hz, a kernel of size five removes frequencies that complete an integer number of\n",
    "cycles over five points.\n",
    "\n",
    "Calculate 300/120 = 2.5 to find that 120 Hz activity completes two full cycles over five points. If 120 Hz\n",
    "activity exists in the timeseries, it is completely removed.\n",
    "\n",
    "Calculate 300/60 = 5 to find that 60 Hz activity completes one full cycle over five points. Thus, 60 Hz activity\n",
    "is completely removed.\n",
    "\n",
    "Because no frequency below 60 Hz completes a full cycle in five points, activity at lower frequencies is\n",
    "only partially removed.\n",
    "\n",
    "Thus, when digitizing at 300 Hz, a kernel of size five completely removes 60 and 120 Hz activity."
   ]
  },
  {
   "cell_type": "markdown",
   "metadata": {},
   "source": [
    "### <font color=red>DSP.03.T1.b) What frequencies are removed?</font>"
   ]
  },
  {
   "cell_type": "markdown",
   "metadata": {},
   "source": [
    "Here is the same timeseries, this time digitized at 500 Hz."
   ]
  },
  {
   "cell_type": "code",
   "execution_count": null,
   "metadata": {},
   "outputs": [],
   "source": [
    "time = np.arange(0,1,1/500)\n",
    "freq1 = 8\n",
    "freq2 = 60\n",
    "freq3 = 100\n",
    "timeseries = np.sin(2*np.pi * freq1 * time) + np.sin(2*np.pi * freq2 * time)+ np.sin(2*np.pi * freq3 * time)\n",
    "\n",
    "make_plot_1(time,timeseries,'r')\n",
    "plt.text(1,0,'1 sec',fontsize=15)\n",
    "plt.show()"
   ]
  },
  {
   "cell_type": "markdown",
   "metadata": {},
   "source": [
    "Create a five-point moving-average kernel and compute a filtered timeseries by convolving the filter\n",
    "with the unfiltered timeseries."
   ]
  },
  {
   "cell_type": "code",
   "execution_count": null,
   "metadata": {},
   "outputs": [],
   "source": [
    "from scipy import signal\n",
    "\n",
    "kernel = 1/5 * np.ones(5)\n",
    "newydata = signal.convolve(timeseries,kernel,mode='same')\n",
    "\n",
    "make_plot_1(time,newydata)\n",
    "plt.text(1,0,'1 sec',fontsize=15)\n",
    "plt.show()"
   ]
  },
  {
   "cell_type": "markdown",
   "metadata": {},
   "source": [
    "Look at the difference between the original unfiltered timeseries and the filtered timeseries in the time\n",
    "domain."
   ]
  },
  {
   "cell_type": "code",
   "execution_count": null,
   "metadata": {},
   "outputs": [],
   "source": [
    "make_plot_2(time,timeseries,'r', time, newydata,'k')\n",
    "plt.text(1,0,'1 sec',fontsize=15)\n",
    "plt.show()"
   ]
  },
  {
   "cell_type": "markdown",
   "metadata": {},
   "source": [
    "They look different.\n",
    "\n",
    "Compare the unfiltered and filtered timeseries in the frequency domain."
   ]
  },
  {
   "cell_type": "code",
   "execution_count": null,
   "metadata": {},
   "outputs": [],
   "source": [
    "make_plot_freq_2(timeseries,newydata,500)\n",
    "\n",
    "# Adding text to the figure\n",
    "plt.text(251,0,'Hz',fontsize=15)\n",
    "plt.show()"
   ]
  },
  {
   "cell_type": "markdown",
   "metadata": {},
   "source": [
    "Some 60 Hz activity is still present. 100 Hz activity is completely removed.\n",
    "\n",
    "100 Hz activity completes 100 full cycles in 500 points, and one full cycle in 500/100 = 5 points. As a kernel of\n",
    "size 5 covers one complete 100 Hz cycle, all 100 Hz activity is removed.\n",
    "\n",
    "60 Hz activity completes 60 full cycles in 500 points, and one full cycle in 500/60 = 8.33 points. A kernel of\n",
    "size 5 does not cover an integer number of 60 Hz cycles. Thus, 60 Hz activity is not completely removed.\n",
    "\n",
    "Aside from 100 Hz activity, what other frequencies does a moving average kernel of size 5 completely remove?"
   ]
  },
  {
   "cell_type": "markdown",
   "metadata": {},
   "source": [
    "Answer:\n",
    "    \n",
    "When digitizing at 500 Hz, a kernel of size five removes frequencies that complete an integer number of\n",
    "cycles over five points.\n",
    "\n",
    "Calculate 500/200 = 2.5 to find that 200 Hz activity completes two full cycles over five points and thus 200 Hz\n",
    "activity is completely removed.\n",
    "\n",
    "Calculate 500/100 = 5 to find that 100 Hz activity completes one full cycle over five points and thus 100 Hz\n",
    "activity is completely removed.\n",
    "\n",
    "Because no frequency below 100 Hz completes a full cycle in five points, activity at lower frequencies is\n",
    "not completely removed.\n",
    "\n",
    "Thus, when digitizing at 500 Hz, a kernel of size five completely removes 100 and 200 Hz activity.\n",
    "In the examples above, we determined the frequencies where all activity is completely removed when\n",
    "digitizing at a particular sampling rate and applying a moving average kernel of a particular size. After\n",
    "filtering, at some frequencies activity was completely removed. At other frequencies residual activity\n",
    "remained."
   ]
  },
  {
   "cell_type": "markdown",
   "metadata": {},
   "source": [
    "Take another look at the spectrum plot."
   ]
  },
  {
   "cell_type": "code",
   "execution_count": null,
   "metadata": {},
   "outputs": [],
   "source": [
    "make_plot_freq_2(timeseries,newydata,300)\n",
    "\n",
    "# Adding text to the figure\n",
    "plt.text(151,0,'Hz',fontsize=15)\n",
    "plt.show()"
   ]
  },
  {
   "cell_type": "markdown",
   "metadata": {},
   "source": [
    "Although the spectrum plots show that activity at 60 Hz is reduced but not eliminated, the amount of\n",
    "activity removed at 60 Hz is unclear.\n",
    "\n",
    "In the following section we will see how complex exponentials can provide more detailed information\n",
    "about a given filter, allowing us to find the percentage of activity removed at each frequency."
   ]
  },
  {
   "cell_type": "markdown",
   "metadata": {},
   "source": [
    "### <font color=red>DSP.03.T1.c) Gain Values</font>"
   ]
  },
  {
   "cell_type": "markdown",
   "metadata": {},
   "source": [
    "In Chapter 1 we noted that sometimes complex exponentials provide insight into specific signal processing\n",
    "techniques.\n",
    "\n",
    "Here is one of those instances.\n",
    "\n",
    "Recall Euler's identities:\n",
    "\n",
    "$e^{i x} = cos[x] + $i$sin[x]$  and\n",
    " \n",
    "$e^{-i x} = cos[x] - $i$ sin[x]$\n",
    "  \n",
    "We are going to use complex exponentials to determine the amount of activity removed at specific\n",
    "frequencies when using a moving-average filter.\n",
    "\n",
    "Consider the following example -\n",
    "\n",
    "When using a 5-point moving-average filter the kernel is expressed as { 1/5 , 1/5 , 1/5 , 1/5 , 1/5 } or 1/5 {1, 1, 1, 1, 1}\n",
    "and the kernel was convolved with a set of 5 unfiltered datapoints. Point to these datapoints in time\n",
    "as t = -2, -1, 0, 1, 2.\n",
    "\n",
    "Now, using ω as the symbol for frequency, replace the 1's in the kernel with the complex exponential term $e^{iωt}$ to get\n",
    "1/5 {$e^{iωt}$, $e^{iωt}$, $e^{iωt}$, $e^{iωt}$, $e^{iωt}$} . Next, add in the time values t = -2, -1, 0, 1, 2 to get\n",
    "1/5 {$e^{-iω2}$, $e^{-iω1}$, $e^{iω0}$, $e^{iω1}$, $e^{iω2}$} .\n",
    "\n",
    "Define this as:\n",
    "\n",
    "H(ω) =  1/5 {$e^{-iω2}$, $e^{-iω1}$, $e^{iω0}$, $e^{iω1}$, $e^{iω2}$} .\n",
    "\n",
    "Apply Euler's identities (shown above) and note that the negative and positive complex exponential\n",
    "terms have the same coefficient to obtain:\n",
    "\n",
    "H(ω) = 1/5 (1 + 2 Cos[ω] + 2 Cos[2 ω]) .\n",
    "\n",
    "H(ω) is called the transfer function - each input frequency’s amplitude is transferred to the output\n",
    "frequency’s amplitude by multiplying by H(ω).\n",
    "\n",
    "If you are in the know, then you will know that the term we derived above  1/5 {$e^{-iω2}$, $e^{-iω1}$, $e^{iω0}$, $e^{iω1}$, $e^{iω2}$} is called the eigenfunction, and that for\n",
    "a given frequency, H(ω) computes what is called the eigenvalue for the frequency ω."
   ]
  },
  {
   "cell_type": "markdown",
   "metadata": {},
   "source": [
    "### <font color=red>DSP.03.T1.d) Transfer Functions</font>"
   ]
  },
  {
   "cell_type": "markdown",
   "metadata": {},
   "source": [
    "Let's see how transfer functions work.\n",
    "\n",
    "Here is a timeseries examined above."
   ]
  },
  {
   "cell_type": "code",
   "execution_count": null,
   "metadata": {},
   "outputs": [],
   "source": [
    "time = np.arange(0,1,1/300)\n",
    "freq1 = 8\n",
    "freq2 = 60\n",
    "freq3 = 100\n",
    "timeseries = np.sin(2*np.pi * freq1 * time) + np.sin(2*np.pi * freq2 * time)+ np.sin(2*np.pi * freq3 * time)\n",
    "\n",
    "make_plot_1(time,timeseries,'r')\n",
    "plt.text(1,0,'1 sec',fontsize=15)\n",
    "plt.show()"
   ]
  },
  {
   "cell_type": "markdown",
   "metadata": {},
   "source": [
    "When digitizing at 300 Hz, a kernel of size 5 completely removes 60 and 120 Hz activity (see above if\n",
    "you need a reminder of why this is the case).\n",
    "\n",
    "Create the filtered timeseries."
   ]
  },
  {
   "cell_type": "code",
   "execution_count": null,
   "metadata": {},
   "outputs": [],
   "source": [
    "from scipy import signal\n",
    "\n",
    "kernel = 1/5 * np.ones(5)\n",
    "newydata = signal.convolve(timeseries,kernel,mode='same')\n",
    "\n",
    "make_plot_1(time,newydata)\n",
    "plt.text(1,0,'1 sec',fontsize=15)\n",
    "plt.show()"
   ]
  },
  {
   "cell_type": "markdown",
   "metadata": {},
   "source": [
    "Compare the power spectrum of the first and second plot."
   ]
  },
  {
   "cell_type": "code",
   "execution_count": null,
   "metadata": {},
   "outputs": [],
   "source": [
    "make_plot_freq_2(timeseries,newydata,300)\n",
    "\n",
    "# Adding text to the figure\n",
    "plt.text(151,0,'Hz',fontsize=15)\n",
    "plt.show()"
   ]
  },
  {
   "cell_type": "markdown",
   "metadata": {},
   "source": [
    "60 Hz activity is completely removed. There is some residual 100 Hz activity.\n",
    "\n",
    "Create the same filtered timeseries using the transfer function H(ω) instead of the moving average\n",
    "kernel.\n",
    "\n",
    "As computed above, for a 5-point moving-average filter, H(ω) = 1/5 (1 + 2 Cos[ω] + 2 Cos[2 ω]).\n",
    "\n",
    "For each input frequency, calculate H(ω) in terms of angular frequency. (What is angular frequency? You may recall from Lesson 1 that a sine wave unfolding over time is essentially the same as counterclockwise rotation on an X-Y plane, with 0 degrees (= radians) being when the position is on the positive x-axis. So, angular frequency is the rate which the angle is changing.)"
   ]
  },
  {
   "cell_type": "code",
   "execution_count": null,
   "metadata": {},
   "outputs": [],
   "source": [
    "def f(omega):\n",
    "    result = 1/5 * (1 + 2 * np.cos(omega) + 2 * np.cos(2 * omega))\n",
    "    return result\n",
    "\n",
    "round(f(8 * 2 * np.pi /300),6)  #for the first frequency we included in the timeseries"
   ]
  },
  {
   "cell_type": "code",
   "execution_count": null,
   "metadata": {},
   "outputs": [],
   "source": [
    "round(f(60 * 2 * np.pi /300),6)  #for the second frequency we included in the timeseries"
   ]
  },
  {
   "cell_type": "code",
   "execution_count": null,
   "metadata": {},
   "outputs": [],
   "source": [
    "round(f(100 * 2 * np.pi /300),6)  #for the third frequency we included in the timeseries"
   ]
  },
  {
   "cell_type": "markdown",
   "metadata": {},
   "source": [
    "If needed, go back to Chapter 1 Basics to review how to convert from degrees to radians. \n",
    "\n",
    "The calculations above provide the transfer function value (or eigenvalue) for each frequency, where each input frequency’s amplitude is transferred to the output frequency’s amplitude by multiplying by H(ω)."
   ]
  },
  {
   "cell_type": "markdown",
   "metadata": {},
   "source": [
    "Check it out. Create a filtered timeseries by multiplying each frequency by the calculated eigenvalue. In\n",
    "particular, to obtain the filtered timeseries, multiply 8 Hz activity by 0.972, 60 Hz activity by 0, and 100\n",
    "Hz activity by -0.2."
   ]
  },
  {
   "cell_type": "code",
   "execution_count": null,
   "metadata": {},
   "outputs": [],
   "source": [
    "time = np.arange(0,1,1/300)\n",
    "freq1 = 8\n",
    "freq2 = 60\n",
    "freq3 = 100\n",
    "newydata2 = 0.97 * np.sin(2*np.pi * freq1 * time) + 0 * np.sin(2*np.pi * freq2 * time) - 0.2* np.sin(2*np.pi * freq3 * time)\n",
    "\n",
    "make_plot_1(time,newydata2,'r')\n",
    "plt.text(1,0,'1 sec',fontsize=15)\n",
    "plt.show()"
   ]
  },
  {
   "cell_type": "markdown",
   "metadata": {},
   "source": [
    "Compare the filtered timeseries using the moving average method (plot 1) and the transfer function\n",
    "method (plot 2)."
   ]
  },
  {
   "cell_type": "code",
   "execution_count": null,
   "metadata": {},
   "outputs": [],
   "source": [
    "make_plot_1(time,newydata,'b')\n",
    "plt.text(1,0,'1 sec',fontsize=15)\n",
    "plt.show()\n",
    "\n",
    "make_plot_1(time,newydata2,'r')\n",
    "plt.text(1,0,'1 sec',fontsize=15)\n",
    "plt.show()"
   ]
  },
  {
   "cell_type": "markdown",
   "metadata": {},
   "source": [
    "They look identical. In fact, they have to - the two methods are just different ways of looking at the\n",
    "same process. Which method do you prefer? In a moment, we'll see an advantage of the transfer function method. "
   ]
  },
  {
   "cell_type": "markdown",
   "metadata": {},
   "source": [
    "### <font color=red>DSP.03.T1.e) Gain Functions</font>"
   ]
  },
  {
   "cell_type": "markdown",
   "metadata": {},
   "source": [
    "Stay with the 5-point moving-average filter calculated above.\n",
    "\n",
    "H(ω) = 1/5 (1 + 2 Cos[ω] + 2 Cos[2 ω])\n",
    "\n",
    "Plot this as a function in terms of ω = frequency. How much of a given frequency gets through the filter? "
   ]
  },
  {
   "cell_type": "code",
   "execution_count": null,
   "metadata": {},
   "outputs": [],
   "source": [
    "omega = np.arange(0,np.pi,0.01)\n",
    "freq = omega / (2*np.pi)\n",
    "\n",
    "freqseries = 1/5 * (1 + 2 * np.cos(omega) + 2 * np.cos(2*omega))\n",
    "\n",
    "plt.plot(freq, freqseries)\n",
    "plt.margins(x=0, y=0)\n",
    "plt.axhline(y=0, color='k')\n",
    "plt.text(0.51,0,'Hz(normalized)',fontsize=15)\n",
    "\n",
    "plt.show()"
   ]
  },
  {
   "cell_type": "markdown",
   "metadata": {},
   "source": [
    "This is commonly referred to as a gain plot. Frequency is shown on the x axis and gain on the y axis.\n",
    "\n",
    "What is gain?"
   ]
  },
  {
   "cell_type": "markdown",
   "metadata": {},
   "source": [
    "Gain is the amount of activity removed or added to a signal. Strictly speaking, it is the ratio of output to\n",
    "input. The plot above provides gain values for frequencies from 0 to the Nyquist Frequency.\n",
    "\n",
    "For a given frequency, a gain value of 1 tells us that no activity is added or removed at that frequency. A gain value of 0 tells us that all\n",
    "activity is removed at that frequency.\n",
    "\n",
    "In the plot above, the two frequencies where the gain is zero are 0.2 and 0.4 Hz.\n",
    "\n",
    "Here is how to apply the above gain function plot to the two examples above:\n",
    "    \n",
    "When digitizing at 300 Hz the gain is zero at 60 Hz (300 × 0.2) and 120 Hz (300 × 0.4).\n",
    "\n",
    "When digitizing at 500 Hz the gain is zero at 100 Hz (500 × 0.2) and 200 Hz (500 × 0.4).\n",
    "\n",
    "These were the values computed in the examples above."
   ]
  },
  {
   "cell_type": "markdown",
   "metadata": {},
   "source": [
    "### <font color=red>DSP.03.T1.f) More on Gain Functions</font>"
   ]
  },
  {
   "cell_type": "markdown",
   "metadata": {},
   "source": [
    "What other information can a gain plot provide?"
   ]
  },
  {
   "cell_type": "markdown",
   "metadata": {},
   "source": [
    "Answer: Take another look."
   ]
  },
  {
   "cell_type": "code",
   "execution_count": null,
   "metadata": {},
   "outputs": [],
   "source": [
    "plt.plot(freq, freqseries)\n",
    "plt.margins(x=0, y=0)\n",
    "plt.axhline(y=0, color='k')\n",
    "plt.text(0.51,0,'Hz(normalized)',fontsize=15)\n",
    "\n",
    "plt.show()"
   ]
  },
  {
   "cell_type": "markdown",
   "metadata": {},
   "source": [
    "A gain value of 1 at 0 Hz means that the DC offset (the average level) is unchanged.\n",
    "\n",
    "Gain values decrease but remain positive until 0.2 Hz. Gain values are negative from 0.2 to 0.4 Hz, and\n",
    "then positive.\n",
    "\n",
    "The gain function plot tells you a whole lot about how a filter behaves."
   ]
  },
  {
   "cell_type": "markdown",
   "metadata": {},
   "source": [
    "### <font color=red>DSP.03.T1.g) Negative gain values</font>"
   ]
  },
  {
   "cell_type": "markdown",
   "metadata": {},
   "source": [
    "Did you catch all of what was just said?\n",
    "\n",
    "Take another look at the plot and text."
   ]
  },
  {
   "cell_type": "code",
   "execution_count": null,
   "metadata": {},
   "outputs": [],
   "source": [
    "plt.plot(freq, freqseries)\n",
    "plt.margins(x=0, y=0)\n",
    "plt.axhline(y=0, color='k')\n",
    "plt.text(0.51,0,'Hz(normalized)',fontsize=15)\n",
    "\n",
    "plt.show()"
   ]
  },
  {
   "cell_type": "markdown",
   "metadata": {},
   "source": [
    "A gain value of 1 at 0 Hz means that the DC offset is unchanged.\n",
    "\n",
    "Gain values decrease but remain positive until 0.2 Hz. Gain values are negative from 0.2 to 0.4 Hz, and\n",
    "then positive.\n",
    "\n",
    "By the way...what does a negative gain value mean?\n",
    "\n",
    "To get perspective on the effect of a negative gain value, take a look at an unfiltered 10 Hz wave and a\n",
    "filtered 10 Hz wave using a -0.2 transfer function value."
   ]
  },
  {
   "cell_type": "code",
   "execution_count": null,
   "metadata": {},
   "outputs": [],
   "source": [
    "time = np.arange(0,1,1/300)\n",
    "timeseries1 = np.sin(2*np.pi * 10 * time) \n",
    "timeseries2 = -0.2 * np.sin(2*np.pi * 10 * time)\n",
    "\n",
    "make_plot_2(time,timeseries1,'r', time, timeseries2,'b')\n",
    "plt.text(1,0,'1 sec',fontsize=15)\n",
    "plt.show()"
   ]
  },
  {
   "cell_type": "markdown",
   "metadata": {},
   "source": [
    "What differences do you notice between the unfiltered and filtered 10 Hz signal?"
   ]
  },
  {
   "cell_type": "markdown",
   "metadata": {},
   "source": [
    "Answer:\n",
    "    \n",
    "Two things stand out.\n",
    "\n",
    "First, the filtered 10 Hz signal is reduced by 80% because the Sin[10x] signal was multiplied by -0.2.\n",
    "\n",
    "Second, the filtered 10 Hz signal is 180 degrees out of phase (i.e., inverted) compared to the unfiltered\n",
    "signal, because the Sin[10x] signal was multiplied by a negative value."
   ]
  },
  {
   "cell_type": "markdown",
   "metadata": {},
   "source": [
    "Look at the gain function again."
   ]
  },
  {
   "cell_type": "code",
   "execution_count": null,
   "metadata": {},
   "outputs": [],
   "source": [
    "plt.plot(freq, freqseries)\n",
    "plt.margins(x=0, y=0)\n",
    "plt.axhline(y=0, color='k')\n",
    "plt.text(0.51,0,'Hz(normalized)',fontsize=15)\n",
    "\n",
    "plt.show()"
   ]
  },
  {
   "cell_type": "markdown",
   "metadata": {},
   "source": [
    "The gain plot above tells us that when digitizing at 300 Hz frequencies between 60 and 120 Hz (0.2 to\n",
    "0.4) will be attenuated and will be 180 degrees out of phase compared to the frequencies in the original\n",
    "timeseries. If we are concerned with preserving the phase of frequencies from the unfiltered timeseries,\n",
    "this is a problem."
   ]
  },
  {
   "cell_type": "markdown",
   "metadata": {},
   "source": [
    "## <font color=red>DSP.03.T2) Computing the gain function - more details</font>"
   ]
  },
  {
   "cell_type": "markdown",
   "metadata": {},
   "source": [
    "### <font color=red>DSP.03.T2.a) Cutoff or Corner Frequency</font>"
   ]
  },
  {
   "cell_type": "markdown",
   "metadata": {},
   "source": [
    "In common use, the term gain indicates an increase in magnitude, but more generally it refers to any\n",
    "ratio of output to input. Gain may be greater than, equal to, or less than 1.0.\n",
    "\n",
    "Equipment called an amplifier generally has the capacity to create an output signal with characteristics matching the input signal except for having a higher magnitude. For example, if it's a sound amplifier, it's not supposed to change the balance of frequencies - it should make all of them louder to the same degree. An attenuator should make all frequencies quieter to the same degree.\n",
    "\n",
    "If the circuitry - or the digital (mathematical) equivalent - increases or decreases the intensity of some frequencies more than others, we don't normally call it an amplifier. We call it a filter. Usually, we confine \"filter\" to mean something that selectively attenuates certain frequencies or ranges of frequencies. Often in audio equipment, there's a circuit that boosts all frequencies (within the range of the circuit) and one or more other circuits that selectively attenuates certain frequencies or ranges.\n",
    "\n",
    "Desirable filters normally have a frequency-dependent gain ranging from 0.0 to 1.0. The relationship\n",
    "between frequency and gain for a particular filter is typically plotted as the gain function, with frequency\n",
    "on the x axis and signal magnitude on the y axis represented in amplitude (voltage) or power\n",
    "(roughly the square of voltage).\n",
    "\n",
    "The gain function of a filter can be viewed divided into the pass band, the transition band, and the stop band.\n",
    "\n",
    "A specific frequency within the transition band may be cited as the \"cutoff\" or \"corner\" frequency, fc, of the filter.\n",
    "\n",
    "The definition of fc varies across authors. In the electrical engineering literature, fc is defined fairly\n",
    "consistently as the half-power frequency--that frequency within the transition band where the gain\n",
    "(ratio of output power to input power) is 0.5.\n",
    "\n",
    "However, some sources treat fc as the half-amplitude frequency, which is not the half-power frequency. It's the frequency within the transition band where the gain\n",
    "(ratio of output amplitude to input amptidue) is 0.5."
   ]
  },
  {
   "cell_type": "markdown",
   "metadata": {},
   "source": [
    "### <font color=red>DSP.03.T2.b) Decibels (dB) and fc</font>"
   ]
  },
  {
   "cell_type": "markdown",
   "metadata": {},
   "source": [
    "Look at the 5-point moving-average gain function plot again. "
   ]
  },
  {
   "cell_type": "code",
   "execution_count": null,
   "metadata": {},
   "outputs": [],
   "source": [
    "plt.plot(freq, freqseries)\n",
    "plt.margins(x=0, y=0)\n",
    "plt.axhline(y=0, color='k')\n",
    "plt.text(0.51,0,'Hz(normalized)',fontsize=15)\n",
    "\n",
    "plt.show()"
   ]
  },
  {
   "cell_type": "markdown",
   "metadata": {},
   "source": [
    "The x axis represents frequency, and the y axis represents gain (gain = transfer function values).\n",
    "\n",
    "Here is a gain plot defining the y axis in log units. (Note: sometimes the x axis is also plotted on a log scale, which can have its advantages. We're not doing that yet. For now, we'll use a log scale just for the y axis.)"
   ]
  },
  {
   "cell_type": "code",
   "execution_count": null,
   "metadata": {},
   "outputs": [],
   "source": [
    "omega = np.arange(0,np.pi,0.01)\n",
    "freq = omega / (2*np.pi)\n",
    "\n",
    "freqseries = np.abs(1/5 * (1 + 2 * np.cos(omega) + 2 * np.cos(2*omega)))\n",
    "freqseries = 20 * np.log10(freqseries)\n",
    "\n",
    "plt.plot(freq, freqseries)\n",
    "plt.margins(x=0, y=0)\n",
    "plt.axhline(y=0, color='k')\n",
    "plt.text(0.51,0,'Hz(normalized)',fontsize=15)\n",
    "plt.text(0,0,'dB',fontsize=15)\n",
    "\n",
    "plt.show()"
   ]
  },
  {
   "cell_type": "markdown",
   "metadata": {},
   "source": [
    "The y axis is measured in terms of decibels (dBs). The decibel (dB) is an expression of the relationship\n",
    "between an output quantity and an input quantity (i.e., filtered/unfiltered ). When the reference is 1 (as in this\n",
    "example) this is simply filtered (1 (1× 1/1 )) . Characterization of the cutoff frequency of a filter in terms of\n",
    "decibels (dB) involves a log function of the gain, with negative values meaning a gain less than 1.0.\n",
    "\n",
    "You might notice that the highest value on the y axis is now 0, no longer 1. That's because the log of 1 is 0.\n",
    "\n",
    "The above plot shows that more high-frequency than low-frequency activity is removed (more negative\n",
    "dB values indicate that more activity is removed).\n",
    "\n",
    "Notice the two sharp downward spikes at 0.2 and 0.4. What does that indicate?"
   ]
  },
  {
   "cell_type": "markdown",
   "metadata": {},
   "source": [
    "Answer:\n",
    "    \n",
    "Recall that, with the 5-point moving-average filter, all activity is removed at frequencies of 0.2 and\n",
    "0.4. The log of 0 is undefined, and so the function goes a little crazy, thus the sharp spikes at these\n",
    "values.\n",
    "\n",
    "Because a decibel is a ratio, a decibel is considered to be a dimensionless quantity, a quantity without any physical units and thus a pure\n",
    "number. The bel is too large for common use, so the decibel (dB), equal to 0.1 bel (B), is more commonly used."
   ]
  },
  {
   "cell_type": "markdown",
   "metadata": {},
   "source": [
    "### <font color=red>DSP.03.T2.c) Gain - power and amplitude plots.</font>"
   ]
  },
  {
   "cell_type": "markdown",
   "metadata": {},
   "source": [
    "In the plots above the y axis is measured in terms of decibels.\n",
    "\n",
    "There are actually two ways the log plots are presented."
   ]
  },
  {
   "cell_type": "markdown",
   "metadata": {},
   "source": [
    "In this plot, gain is expressed in terms of amplitude."
   ]
  },
  {
   "cell_type": "code",
   "execution_count": null,
   "metadata": {},
   "outputs": [],
   "source": [
    "omega = np.arange(0,np.pi,0.01)\n",
    "freq = omega / (2*np.pi)\n",
    "\n",
    "freqseries = np.abs(1/5 * (1 + 2 * np.cos(omega) + 2 * np.cos(2*omega)))\n",
    "freqseries = 20 * np.log10(freqseries)\n",
    "\n",
    "plt.plot(freq, freqseries)\n",
    "plt.margins(x=0, y=0)\n",
    "plt.axhline(y=0, color='k')\n",
    "plt.text(0.51,0,'Hz(normalized)',fontsize=15)\n",
    "plt.text(0,0,'Amplitude',fontsize=15)\n",
    "\n",
    "plt.show()"
   ]
  },
  {
   "cell_type": "markdown",
   "metadata": {},
   "source": [
    "In this plot, gain is expressed in terms of power."
   ]
  },
  {
   "cell_type": "code",
   "execution_count": null,
   "metadata": {},
   "outputs": [],
   "source": [
    "omega = np.arange(0,np.pi,0.01)\n",
    "freq = omega / (2*np.pi)\n",
    "\n",
    "freqseries = np.abs(1/5 * (1 + 2 * np.cos(omega) + 2 * np.cos(2*omega)))\n",
    "freqseries = 10 * np.log10(freqseries)\n",
    "\n",
    "plt.plot(freq, freqseries)\n",
    "plt.margins(x=0, y=0)\n",
    "plt.axhline(y=0, color='k')\n",
    "plt.text(0.51,0,'Hz(normalized)',fontsize=15)\n",
    "plt.text(0,0,'Power',fontsize=15)\n",
    "\n",
    "plt.show()"
   ]
  },
  {
   "cell_type": "markdown",
   "metadata": {},
   "source": [
    "Characterization of the cutoff frequency of a filter in terms of decibels (dB) involves a log function of the\n",
    "gain, with different but parallel equations for power and amplitude and with negative values meaning a\n",
    "gain less than 1.0.\n",
    "\n",
    "The half-power frequency fc is often referred to as the frequency at which the gain is \"3 dB down\". Here\n",
    "is the calculation (with P = power): in dB, a gain of (Pout/Pin) = 0.5 power is 10 log10 (Pout/Pin) = 10 log10\n",
    "(0.5) = -3 dB.\n",
    "\n",
    "At the half-amplitude frequency, output is \"6 dB down\". Here is the calculation (with V = voltage, a common measure of amplitude): a gain of (Vout / Vin) =\n",
    "0.5 amplitude is 20 log10 (Vout / Vin) = 20 log10 (.5) = -6 dB.\n",
    "\n",
    "Remember that the half-power frequency and the half-amplitude frequency are not the\n",
    "same frequency, because power and amplitude are different values. That is, the frequency at which the\n",
    "filter will reduce the power by half is not the frequency at which it will reduce the amplitude by half.\n",
    "This is sometimes a source of confusion. Generally, the half-amplitude frequency will be further from\n",
    "the center of the passband than is the half-power frequency. A characterization of a filter in terms of\n",
    "the frequency at which output is cut in half is ambiguous unless it is made clear whether this is half of\n",
    "the power or half of the amplitude.\n",
    "\n",
    "This isn't about a difference in the filter - only in how it's described, when we state its cutoff frequency, fc, or when we plot its gain function."
   ]
  },
  {
   "cell_type": "markdown",
   "metadata": {},
   "source": [
    "A quick aside: we've just been using electrical power and electrical voltage to talk about gain. We were drawing from Ohm's Law:\n",
    "\n",
    "Voltage = current * resistance (Ohms Law)\n",
    "\n",
    "Power (in watts) = voltage * current\n",
    "\n",
    "Therefore, power = voltage * voltage / resistance.\n",
    "\n",
    "Thus, power is proportional to the square of voltage. Commonly in treatments of these relationships, resistance is implicitly set to 1.0, and\n",
    "power is said to be the square of voltage."
   ]
  }
 ],
 "metadata": {
  "kernelspec": {
   "display_name": "Python 3 (ipykernel)",
   "language": "python",
   "name": "python3"
  },
  "language_info": {
   "codemirror_mode": {
    "name": "ipython",
    "version": 3
   },
   "file_extension": ".py",
   "mimetype": "text/x-python",
   "name": "python",
   "nbconvert_exporter": "python",
   "pygments_lexer": "ipython3",
   "version": "3.11.4"
  }
 },
 "nbformat": 4,
 "nbformat_minor": 4
}
