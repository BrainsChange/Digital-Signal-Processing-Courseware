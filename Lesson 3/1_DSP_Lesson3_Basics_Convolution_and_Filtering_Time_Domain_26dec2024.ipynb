{
 "cells": [
  {
   "cell_type": "markdown",
   "metadata": {},
   "source": [
    "#### Digital Signal Processing Courseware: An Introduction (copyright © 2024)\n",
    "## Authors: J. Christopher Edgar and Gregory A. Miller\n",
    "\n",
    "Originally written in Mathematica by J. Christopher Edgar. Conversion to Jupyter Notebook by Song Liu.\n",
    "\n",
    "The authors of this courseware are indebted to Prof. Bruce Carpenter (University of Illinois Urbana-Champaign). Bruce inspired the creation of this courseware, he consulted with the authors as this courseware was being developed, and he provided the original version of the code and text for several sections of this courseware (e.g. the section on complex numbers and the section on normal distributions). "
   ]
  },
  {
   "cell_type": "markdown",
   "metadata": {},
   "source": [
    "# <font color=red>DSP.03 Convolution and Filtering -Time Domain</font>\n",
    "# <font color=red>BASICS</font>"
   ]
  },
  {
   "cell_type": "markdown",
   "metadata": {},
   "source": [
    "### Setup"
   ]
  },
  {
   "cell_type": "code",
   "execution_count": null,
   "metadata": {},
   "outputs": [],
   "source": [
    "# general imports\n",
    "import numpy as np\n",
    "import matplotlib.pyplot as plt\n",
    "from matplotlib import image as img\n",
    "from matplotlib import cm\n",
    "from mpl_toolkits import mplot3d\n",
    "from scipy.fft import fft, fftfreq\n",
    "import matplotlib.patches as patches\n",
    "import math\n",
    "import cmath\n",
    "import pandas as pd\n",
    "from sympy import Symbol, sin, series\n",
    "from sympy import roots, solve_poly_system\n",
    "import scipy.special\n",
    "\n",
    "import warnings\n",
    "warnings.filterwarnings('ignore')\n",
    "\n",
    "# Figure size \n",
    "plt.rc(\"figure\", figsize=(8, 6))\n",
    "\n",
    "#function to create time course figure\n",
    "#one waveform\n",
    "def make_plot_1(x1,y1,type=\"b\",linewidth = 1): \n",
    "    plt.plot(x1, y1,type)\n",
    "    plt.margins(x=0, y=0)\n",
    "    plt.axhline(y=0, color='k')\n",
    "    plt.tick_params(labelbottom = False, bottom = False)\n",
    "    \n",
    "#two overlaid waveforms with red and blue   \n",
    "def make_plot_2(x1,y1,type1,x2,y2,type2): \n",
    "    plt.plot(x1, y1, type1)\n",
    "    plt.plot(x2, y2, type2)\n",
    "    plt.margins(x=0, y=0)\n",
    "    plt.axhline(y=0, color='k')\n",
    "    plt.tick_params(labelbottom = False, bottom = False)\n",
    "    \n",
    "#three overlaid waveforms with red, blue and green   \n",
    "def make_plot_3(x1,y1,type1,x2,y2,type2,x3,y3,type3): \n",
    "    plt.plot(x1, y1, type1)\n",
    "    plt.plot(x2, y2, type2)\n",
    "    plt.plot(x3, y3, type3)\n",
    "    plt.margins(x=0, y=0)\n",
    "    plt.axhline(y=0, color='k')\n",
    "    plt.tick_params(labelbottom = False, bottom = False)\n",
    "    \n",
    "def make_plot_3d(ax,x,y,z):    \n",
    "    ax.contour3D(x, y, z, 50, cmap=cm.coolwarm)\n",
    "    ax.set_xlabel('x')\n",
    "    ax.set_ylabel('y')\n",
    "    ax.set_zlabel('z')\n",
    "    \n",
    "def make_plot_freq_1(x1,sample_rate, duration=1): \n",
    "    N = sample_rate * duration\n",
    "    Nhalf = math.ceil(N/2)\n",
    "    yf = fft(x1)\n",
    "    xf = fftfreq(N, 1 / sample_rate)\n",
    "    yf = yf[0:Nhalf]\n",
    "    xf = xf[0:Nhalf]\n",
    "    plt.plot(xf, np.abs(yf))\n",
    "    \n",
    "#two spectrums\n",
    "def make_plot_freq_2(x1,x2,sample_rate, duration=1): \n",
    "    N = sample_rate * duration\n",
    "    Nhalf = math.ceil(N/2)\n",
    "    yf1 = fft(x1)\n",
    "    yf2 = fft(x2)\n",
    "    xf = fftfreq(N, 1 / sample_rate)\n",
    "\n",
    "    yf1 = yf1[0:Nhalf]\n",
    "    yf2 = yf2[0:Nhalf]\n",
    "    xf = xf[0:Nhalf]\n",
    "\n",
    "    plt.plot(xf, np.abs(yf1))\n",
    "    plt.plot(xf, np.abs(yf2), color = 'r')\n",
    "    \n",
    "def make_imshow(x):\n",
    "    plt.imshow(x,cmap='Greys_r')\n",
    "    plt.tick_params(labelbottom = False, bottom = False)\n",
    "    plt.tick_params(labelleft = False, left = False)\n",
    "    \n",
    "def make_imshow_color(x):\n",
    "    plt.imshow(x)\n",
    "    plt.tick_params(labelbottom = False, bottom = False)\n",
    "    plt.tick_params(labelleft = False, left = False)\n",
    "    \n",
    "def round_complex(x):\n",
    "    return complex(np.round(x.real,4),np.round(x.imag,4))"
   ]
  },
  {
   "cell_type": "markdown",
   "metadata": {},
   "source": [
    "In this lesson, we'll investigate a digital signal processing technique commonly applied to timeseries\n",
    "data. In particular, we'll explore digital filtering via the application of a mathematical procedure\n",
    "called convolution.\n",
    "\n",
    "By the end of Lesson 3, you'll understand basic digital filtering techniques as well as many filtering\n",
    "terms (e.g., high-pass filter, transition band). You'll also know enough to create some simple digital\n",
    "filters of your own. And you'll recognize that digital filters are pervasive in science and in daily life."
   ]
  },
  {
   "cell_type": "markdown",
   "metadata": {},
   "source": [
    "## <font color=red>DSP.03.B1) Different ways to compute the mean of a timeseries</font>\n",
    "### <font color=red>DSP.03.B1.a) One way to compute the mean</font>"
   ]
  },
  {
   "cell_type": "markdown",
   "metadata": {},
   "source": [
    "Take a look at this 7 Hz wave digitized at 100 Hz."
   ]
  },
  {
   "cell_type": "code",
   "execution_count": null,
   "metadata": {},
   "outputs": [],
   "source": [
    "time = np.arange(0,1,0.01) #collecting 100 samples in a 1 second period\n",
    "freq = 7\n",
    "timeseries = np.sin(2*np.pi * freq * time) # sin(2𝜋 * 7 * time)\n",
    "\n",
    "make_plot_1(time,timeseries)\n",
    "plt.text(1,0,'1 sec',fontsize=15)\n",
    "plt.show()"
   ]
  },
  {
   "cell_type": "markdown",
   "metadata": {},
   "source": [
    "Although the plot shows a relatively smooth, continuous line from 0 to 2π, recall that the apparent\n",
    "smoothness observed in the plot is created by joining equally spaced sample points (100 points in this\n",
    "example). The 'make_plot' command interpolates the pixels that occur between the actual data points\n",
    "to produce a nice looking image.\n",
    "\n",
    "The values of the points plotted above can be obtained using the following Python code. First look at the individual y-axis datapoints and then find the length of the dataset."
   ]
  },
  {
   "cell_type": "code",
   "execution_count": null,
   "metadata": {},
   "outputs": [],
   "source": [
    "timeseries = np.round(timeseries,3)\n",
    "timeseries"
   ]
  },
  {
   "cell_type": "code",
   "execution_count": null,
   "metadata": {},
   "outputs": [],
   "source": [
    "len(timeseries)"
   ]
  },
  {
   "cell_type": "markdown",
   "metadata": {},
   "source": [
    "Examine the y-axis values. Skipping the first point (time 0), notice that the second and last values are\n",
    "the same, the third and second to last values are the same (except a different sign), and so on...\n",
    "\n",
    "Use this Python command to add the values."
   ]
  },
  {
   "cell_type": "code",
   "execution_count": null,
   "metadata": {},
   "outputs": [],
   "source": [
    "round(np.sum(timeseries),10)"
   ]
  },
  {
   "cell_type": "markdown",
   "metadata": {},
   "source": [
    "The sum is zero. Is this correct?"
   ]
  },
  {
   "cell_type": "markdown",
   "metadata": {},
   "source": [
    "Answer:\n",
    "    \n",
    "Sure is. The 7 Hz timeseries is symmetric about 0.\n",
    "\n",
    "Look at the plot again."
   ]
  },
  {
   "cell_type": "code",
   "execution_count": null,
   "metadata": {},
   "outputs": [],
   "source": [
    "make_plot_1(time,timeseries)\n",
    "plt.text(1,0,'1 sec',fontsize=15)\n",
    "plt.show()"
   ]
  },
  {
   "cell_type": "markdown",
   "metadata": {},
   "source": [
    "The area (under the curve) above the x axis is equal to the area (above the curve) below the x axis. As a result, the total area from 0 to 1\n",
    "second is zero.\n",
    "\n",
    "Compute the mean of the 7 Hz sine wave."
   ]
  },
  {
   "cell_type": "code",
   "execution_count": null,
   "metadata": {},
   "outputs": [],
   "source": [
    "round(np.mean(timeseries),10)"
   ]
  },
  {
   "cell_type": "markdown",
   "metadata": {},
   "source": [
    "The mean is 0. We knew this would be the case, since the sum was zero."
   ]
  },
  {
   "cell_type": "markdown",
   "metadata": {},
   "source": [
    "### <font color=red>DSP.03.B1.b) Computing the mean using a kernel</font>"
   ]
  },
  {
   "cell_type": "markdown",
   "metadata": {},
   "source": [
    "In the example above, we computed the mean by summing each value and then dividing by the total\n",
    "number of points. We can achieve the same result by multiplying each individual point by the reciprocal\n",
    "of the length of the timeseries and then adding the values.\n",
    "\n",
    "Give this a try. Create a vector of 100 values, with all values being the reciprocal of the length of the timeseries."
   ]
  },
  {
   "cell_type": "code",
   "execution_count": null,
   "metadata": {},
   "outputs": [],
   "source": [
    "kernel = np.ones(100) * 0.01\n",
    "kernel"
   ]
  },
  {
   "cell_type": "markdown",
   "metadata": {},
   "source": [
    "Multiply this new kernel vector and the original timeseries. That is, compute the product of the first value in\n",
    "each vector; compute the product of the second value in each; etc."
   ]
  },
  {
   "cell_type": "code",
   "execution_count": null,
   "metadata": {},
   "outputs": [],
   "source": [
    "product1 = kernel * timeseries\n",
    "product1"
   ]
  },
  {
   "cell_type": "markdown",
   "metadata": {},
   "source": [
    "Examine the values. Skipping the first point (time 0), notice that the second and last values are the\n",
    "same, the third and second to last values are the same (except a different sign), and so on... This is the same\n",
    "pattern observed in the original timeseries. This had to be the case, because each value is simply scaled\n",
    "to 1/100th of its original value.\n",
    "\n",
    "Use this python command to compute the mean."
   ]
  },
  {
   "cell_type": "code",
   "execution_count": null,
   "metadata": {},
   "outputs": [],
   "source": [
    "round(np.mean(product1),10)"
   ]
  },
  {
   "cell_type": "markdown",
   "metadata": {},
   "source": [
    "The mean is zero. Is this correct?"
   ]
  },
  {
   "cell_type": "markdown",
   "metadata": {},
   "source": [
    "Answer:\n",
    "    \n",
    "Sure is! Each value in the timeseries was multiplied by 1/100 and then we summed the values. This is, of\n",
    "course, the same as summing the original values and then dividing by the total number of points.\n",
    "\n",
    "In this example, each timeseries value was simply scaled to 1/100th of its original value. Because the\n",
    "timeseries is symmetric about 0, the mean had to be 0, no matter how we scaled it."
   ]
  },
  {
   "cell_type": "markdown",
   "metadata": {},
   "source": [
    "### <font color=red>DSP.03.B1.c) Computing the mean using a kernel</font>"
   ]
  },
  {
   "cell_type": "markdown",
   "metadata": {},
   "source": [
    "Instead of multiplying by a constant, let's try adding a constant. Check out this modification - a constant\n",
    "of 5 is added to each value in the 7 Hz timeseries."
   ]
  },
  {
   "cell_type": "code",
   "execution_count": null,
   "metadata": {},
   "outputs": [],
   "source": [
    "time = np.arange(0,1,0.01) # collecting 100 samples in a 1 second period\n",
    "freq = 7\n",
    "timeseries = np.sin(2*np.pi * freq * time) + 5 # sin(2𝜋 * 7 * time) + 5\n",
    "\n",
    "make_plot_1(time,timeseries)\n",
    "plt.ylim((4,6))\n",
    "plt.text(1,5,'1 sec',fontsize=15)\n",
    "plt.show()"
   ]
  },
  {
   "cell_type": "markdown",
   "metadata": {},
   "source": [
    "Find the length of the dataset and look at the y-axis values."
   ]
  },
  {
   "cell_type": "code",
   "execution_count": null,
   "metadata": {},
   "outputs": [],
   "source": [
    "len(timeseries)"
   ]
  },
  {
   "cell_type": "markdown",
   "metadata": {},
   "source": [
    "There are 100 values (only the amplitude values (y axis) are shown). Notice that the values are symmetric\n",
    "about 5.\n",
    "\n",
    "Create a vector of 100 values with all 100 values the reciprocal of the length of the timeseries (this time\n",
    "don't display the 100 values)."
   ]
  },
  {
   "cell_type": "code",
   "execution_count": null,
   "metadata": {},
   "outputs": [],
   "source": [
    "kernel = np.ones(100) * 0.01"
   ]
  },
  {
   "cell_type": "markdown",
   "metadata": {},
   "source": [
    "Last time, corresponding datapoints in each vector were multiplied and the products summed. This\n",
    "calculated the mean of the original timeseries. Perform these two mathematical operations using a\n",
    "single command."
   ]
  },
  {
   "cell_type": "code",
   "execution_count": null,
   "metadata": {},
   "outputs": [],
   "source": [
    "round(np.inner(timeseries, kernel))"
   ]
  },
  {
   "cell_type": "markdown",
   "metadata": {},
   "source": [
    "This strongly suggests that the mean value is 5. Is this correct?"
   ]
  },
  {
   "cell_type": "markdown",
   "metadata": {},
   "source": [
    "Answer:\n",
    "    \n",
    "Sure is. A constant value (5) was added to the original timeseries. As a result, the 7 Hz sine wave is now\n",
    "symmetric about 5, not about zero."
   ]
  },
  {
   "cell_type": "markdown",
   "metadata": {},
   "source": [
    "Look at the plot."
   ]
  },
  {
   "cell_type": "code",
   "execution_count": null,
   "metadata": {},
   "outputs": [],
   "source": [
    "make_plot_1(time,timeseries)\n",
    "plt.ylim((4,6))\n",
    "plt.text(1,5,'1 sec',fontsize=15)\n",
    "plt.axhline(y=5, color='g', linewidth = 4)\n",
    "\n",
    "plt.show()"
   ]
  },
  {
   "cell_type": "markdown",
   "metadata": {},
   "source": [
    "The green horizontal line intersects the y axis at 5. This 7 Hz activity oscillates symmetrically above and\n",
    "below 5. As a result, the mean value is 5."
   ]
  },
  {
   "cell_type": "markdown",
   "metadata": {},
   "source": [
    "Calculate the mean the more straightforward way."
   ]
  },
  {
   "cell_type": "code",
   "execution_count": null,
   "metadata": {},
   "outputs": [],
   "source": [
    "round(np.mean(timeseries),10)"
   ]
  },
  {
   "cell_type": "markdown",
   "metadata": {},
   "source": [
    "### <font color=red>DSP.03.B1.d) Computing the mean using a kernel and finding the DC offset</font>"
   ]
  },
  {
   "cell_type": "markdown",
   "metadata": {},
   "source": [
    "Check out another example. Add a constant of 33."
   ]
  },
  {
   "cell_type": "code",
   "execution_count": null,
   "metadata": {},
   "outputs": [],
   "source": [
    "time = np.arange(0,1,0.01)  # collecting 100 samples in a 1 second period\n",
    "freq = 7\n",
    "timeseries = np.sin(2*np.pi * freq * time) + 33 # sin(2𝜋 * 7 * time) + 33\n",
    "\n",
    "make_plot_1(time,timeseries)\n",
    "plt.ylim((32,34))\n",
    "plt.text(1,33,'1 sec',fontsize=15)\n",
    "plt.show()"
   ]
  },
  {
   "cell_type": "markdown",
   "metadata": {},
   "source": [
    "Find the length of the dataset and look at the y-axis amplitude values."
   ]
  },
  {
   "cell_type": "code",
   "execution_count": null,
   "metadata": {},
   "outputs": [],
   "source": [
    "len(timeseries)"
   ]
  },
  {
   "cell_type": "code",
   "execution_count": null,
   "metadata": {},
   "outputs": [],
   "source": [
    "timeseries"
   ]
  },
  {
   "cell_type": "markdown",
   "metadata": {},
   "source": [
    "There are 100 values.\n",
    "\n",
    "Create a vector of 100 values with all 100 values being the reciprocal of the length of the timeseries."
   ]
  },
  {
   "cell_type": "code",
   "execution_count": null,
   "metadata": {},
   "outputs": [],
   "source": [
    "kernel = np.ones(100) * 0.01"
   ]
  },
  {
   "cell_type": "markdown",
   "metadata": {},
   "source": [
    "Multiply corresponding values in the data and the kernel and then compute the sum."
   ]
  },
  {
   "cell_type": "code",
   "execution_count": null,
   "metadata": {},
   "outputs": [],
   "source": [
    "round(np.inner(timeseries, kernel))"
   ]
  },
  {
   "cell_type": "markdown",
   "metadata": {},
   "source": [
    "This indicates that the mean value is 33. Is that correct?"
   ]
  },
  {
   "cell_type": "markdown",
   "metadata": {},
   "source": [
    "Answer:\n",
    "    \n",
    "Sure is! A constant value was added to the original timeseries. As a result, the 7 Hz sine wave is symmetric\n",
    "about the constant value of 33."
   ]
  },
  {
   "cell_type": "markdown",
   "metadata": {},
   "source": [
    "Look at the plot again."
   ]
  },
  {
   "cell_type": "code",
   "execution_count": null,
   "metadata": {},
   "outputs": [],
   "source": [
    "make_plot_1(time,timeseries)\n",
    "plt.ylim((32,34))\n",
    "plt.text(1,33,'1 sec',fontsize=15)\n",
    "plt.axhline(y=33, color='m', linewidth = 4)\n",
    "plt.show()"
   ]
  },
  {
   "cell_type": "markdown",
   "metadata": {},
   "source": [
    "The magenta line intersects the y axis at 33. So this 7 Hz activity oscillates symmetrically above and\n",
    "below 33."
   ]
  },
  {
   "cell_type": "markdown",
   "metadata": {},
   "source": [
    "Calculate the mean."
   ]
  },
  {
   "cell_type": "code",
   "execution_count": null,
   "metadata": {},
   "outputs": [],
   "source": [
    "round(np.mean(timeseries),10)"
   ]
  },
  {
   "cell_type": "markdown",
   "metadata": {},
   "source": [
    "Yup - checks out. The mean value is 33.\n",
    "\n",
    "This mean value is often referred to as the DC value. In the above examples, the DC is a constant, and\n",
    "the DC offset is an offsetting of a signal from zero.\n",
    "\n",
    "If the mean amplitude is zero, we say that there is no DC offset.\n",
    "If the mean amplitude is non-zero, we say that there is a DC offset."
   ]
  },
  {
   "cell_type": "markdown",
   "metadata": {},
   "source": [
    "The term \"DC\" comes from \"Direct Current\" in electricity and refers to a constant current through a constant resistance at a constant voltage (not a voltage\n",
    "that fluctuates sinusoidally - that is AC = alternating current). The batteries in a flashlight provide a constant voltage (until they wear out) across a constant resistance (the lightbulb) to provide a constant current through the lightbulb.\n",
    "\n",
    "We added a constant value of 5 or 33. This is sometimes called an \"offset\" or a \"DC offset\". The DC\n",
    "offset can be removed by subtracting the mean amplitude from each sample point (as long as the DC\n",
    "offset is constant across time, which it should be, to be truly DC).\n",
    "\n",
    "Check it out."
   ]
  },
  {
   "cell_type": "code",
   "execution_count": null,
   "metadata": {},
   "outputs": [],
   "source": [
    "round(np.mean(timeseries - 33),10)"
   ]
  },
  {
   "cell_type": "markdown",
   "metadata": {},
   "source": [
    "Zero. The DC offset was successfully removed. Subtracting the mean value of a timeseries (i.e., subtracting the DC offset) leaves the AC (fluctuating) portion of the signal, if any. So, subtracting the mean is a way to separate the DC and AC portions of a signal."
   ]
  },
  {
   "cell_type": "markdown",
   "metadata": {},
   "source": [
    "## <font color=red>DSP.03.B2) Moving averages</font>"
   ]
  },
  {
   "cell_type": "markdown",
   "metadata": {},
   "source": [
    "### <font color=red>DSP.03.B2.a) Creating a kernel</font>"
   ]
  },
  {
   "cell_type": "markdown",
   "metadata": {},
   "source": [
    "We saw above that one way to compute the mean is to multiply all datapoints in the timeseries by\n",
    "the reciprocal of the length of the timeseries and then sum the products. In this section, we will examine\n",
    "a standard signal processing technique that requires only a slight modification of that procedure."
   ]
  },
  {
   "cell_type": "markdown",
   "metadata": {},
   "source": [
    "Look at this timeseries, which contains a 2 Hz signal and a 60 Hz signal, digitized at 300 Hz."
   ]
  },
  {
   "cell_type": "code",
   "execution_count": null,
   "metadata": {},
   "outputs": [],
   "source": [
    "time = np.arange(0,1,1/300)\n",
    "timeseries = np.sin(2*np.pi * 2 * time) + np.sin(2*np.pi * 60 * time)\n",
    "\n",
    "make_plot_1(time,timeseries)\n",
    "plt.text(1,0,'1 sec',fontsize=15)\n",
    "plt.show()"
   ]
  },
  {
   "cell_type": "markdown",
   "metadata": {},
   "source": [
    "What if, instead of multiplying and summing all datapoints to compute the average from 0 to 1 second,\n",
    "an average value was obtained for shorter sections of the timeseries?\n",
    "\n",
    "How about calculating the mean for just a few contiguous points?"
   ]
  },
  {
   "cell_type": "markdown",
   "metadata": {},
   "source": [
    "Imagine placing a box of size 10 over the first 10 values."
   ]
  },
  {
   "cell_type": "code",
   "execution_count": null,
   "metadata": {},
   "outputs": [],
   "source": [
    "fig = plt.figure()\n",
    "ax = fig.add_subplot()\n",
    "\n",
    "# Create a Rectangle patch\n",
    "rect = patches.Rectangle((0, -.8), 0.03322, 2.2, linewidth=1, edgecolor='r', facecolor='r')\n",
    "\n",
    "# Add the patch to the Axes\n",
    "ax.add_patch(rect)\n",
    "\n",
    "# Plotting time vs amplitude \n",
    "make_plot_1(time,timeseries)\n",
    "plt.text(1,0,'1 sec',fontsize=15)\n",
    "plt.show()"
   ]
  },
  {
   "cell_type": "markdown",
   "metadata": {},
   "source": [
    "The mean value of the datapoints enclosed by the red box is calculated by starting with a vector of\n",
    "10 values { 1/10 , 1/10 , 1/10 , 1/10 , 1/10 , 1/10 , 1/10 , 1/10 , 1/10 , 1/10 } . Call this vector a \"kernel\".\n",
    "If we multiply each value in the kernel by the first 10 points in the timeseries, and if we then sum these\n",
    "values, this computes the mean of those first 10 points.\n",
    "\n",
    "We can use a mathematical procedure to quickly accomplish this - simply compute what is called the\n",
    "'dot product' of (a) the kernel and (b) the first 10 timeseries datapoints. The dot product multiplies corresponding\n",
    "points in the two vectors and then sums the products.\n",
    "\n",
    "This is accomplished using the Python command 'Dot'."
   ]
  },
  {
   "cell_type": "code",
   "execution_count": null,
   "metadata": {},
   "outputs": [],
   "source": [
    "firstpoint = timeseries[:10]\n",
    "kernel = 0.1 * np.ones(10)\n",
    "round(np.dot(firstpoint,kernel),6)"
   ]
  },
  {
   "cell_type": "markdown",
   "metadata": {},
   "source": [
    "A new value of 0.186028 is obtained. This is the mean value of the first 10 points.\n",
    "\n",
    "We just tried that using the first 10 points. But we could do the same trick elsewhere in the data. Let's\n",
    "move the box (i.e., the kernel) one point to the right. (The move won't be visually obvious unless there's high screen resolution.)"
   ]
  },
  {
   "cell_type": "code",
   "execution_count": null,
   "metadata": {},
   "outputs": [],
   "source": [
    "fig = plt.figure()\n",
    "ax = fig.add_subplot()\n",
    "\n",
    "# Create a Rectangle patch\n",
    "rect = patches.Rectangle((0, -0.8),0.03322, 2.2, linewidth=1, edgecolor='g', facecolor='g')\n",
    "\n",
    "# Add the patch to the Axes\n",
    "ax.add_patch(rect)\n",
    "\n",
    "# Plotting time vs amplitude \n",
    "make_plot_1(time,timeseries)\n",
    "plt.text(1,0,'1 sec',fontsize=15)\n",
    "plt.show()"
   ]
  },
  {
   "cell_type": "markdown",
   "metadata": {},
   "source": [
    "The mean value of the datapoints enclosed by the second box is calculated by multiplying the vector of\n",
    "10 values  { 1/10 , 1/10 , 1/10 , 1/10 , 1/10 , 1/10 , 1/10 , 1/10 , 1/10 , 1/10 } with the second set of 10 datapoints in the original\n",
    "timeseries and then summing those values.\n",
    "\n",
    "To calculate the mean, simply take the dot product of the kernel (i.e, the vector of ten 0.01 values) and the\n",
    "2nd to 11th datapoints in the original timeseries."
   ]
  },
  {
   "cell_type": "code",
   "execution_count": null,
   "metadata": {},
   "outputs": [],
   "source": [
    "secondpoint = timeseries[1:11]\n",
    "kernel = 0.1 * np.ones(10)\n",
    "round(np.dot(secondpoint,kernel),6)"
   ]
  },
  {
   "cell_type": "markdown",
   "metadata": {},
   "source": [
    "This provides a mean of 0.226702. Note that we did not change the kernel. We just applied it to a\n",
    "slightly different set of data points. Note also that the resulting value is a little bigger than the 0.186028 we got the first time, again because we applied it to a slightly different set of data points.\n",
    "\n",
    "Get a third result - the dot product of the kernel (i.e, the vector of 10 values) and the third 10 data points\n",
    "in the original timeseries."
   ]
  },
  {
   "cell_type": "code",
   "execution_count": null,
   "metadata": {},
   "outputs": [],
   "source": [
    "thirdpoint = timeseries[2:12]\n",
    "kernel = 0.1 * np.ones(10)\n",
    "round(np.dot(thirdpoint,kernel),6)"
   ]
  },
  {
   "cell_type": "markdown",
   "metadata": {},
   "source": [
    "This provides a mean of 0.266978.\n",
    "\n",
    "We could continue this way, gradually moving through the timeseries, until we calculate a final point - the dot product of the kernel (i.e, the same\n",
    "vector of 10 values) and the last 10 datapoints in the original timeseries. "
   ]
  },
  {
   "cell_type": "code",
   "execution_count": null,
   "metadata": {},
   "outputs": [],
   "source": [
    "fig = plt.figure()\n",
    "ax = fig.add_subplot()\n",
    "\n",
    "# Create a Rectangle patch\n",
    "rect = patches.Rectangle((0.966774, -1.4), 0.03322, 2.2, linewidth=1, edgecolor='g', facecolor='g')\n",
    "\n",
    "# Add the patch to the Axes\n",
    "ax.add_patch(rect)\n",
    "\n",
    "# Plotting time vs amplitude \n",
    "make_plot_1(time,timeseries)\n",
    "plt.text(1,0,'1 sec',fontsize=15)\n",
    "plt.show()"
   ]
  },
  {
   "cell_type": "markdown",
   "metadata": {},
   "source": [
    "Calculate the final point."
   ]
  },
  {
   "cell_type": "code",
   "execution_count": null,
   "metadata": {},
   "outputs": [],
   "source": [
    "thirdpoint = timeseries[290:300]\n",
    "kernel = 0.1 * np.ones(10)\n",
    "round(np.dot(thirdpoint,kernel),6)"
   ]
  },
  {
   "cell_type": "markdown",
   "metadata": {},
   "source": [
    "This provides a final mean of -0.226702.\n",
    "\n",
    "Let's take a break for a moment and take stock of something: we have several different numbers\n",
    "characterizing our example."
   ]
  },
  {
   "cell_type": "markdown",
   "metadata": {},
   "source": [
    "a) We have one second of a 2 Hz sine wave.\n",
    "\n",
    "b) We have one second of a 60 Hz sine wave.\n",
    "\n",
    "c) We're sampling the time series that is the sum of those two at 300 Hz, so we have 300 data points.\n",
    "\n",
    "d) We're grabbing a subset of those 300 samples - just 10 at a time.\n",
    "\n",
    "e) We're choosing where in the 300 data points we start grabbing the 10 points.\n",
    "\n",
    "f) We compute the dot product, producing a single number that represents the average of those 10\n",
    "points.\n",
    "\n",
    "Think about it: we could change any of these numbers, and we'd have a different example. But the\n",
    "approach would be the same - we'd end up with an average of a subset of our data. OK, back to work."
   ]
  },
  {
   "cell_type": "markdown",
   "metadata": {},
   "source": [
    "Use the code below to move the kernel across the timeseries, one datapoint at a time, calculating the\n",
    "mean at each location. We'll end up with almost as many average values as we have raw data points.\n",
    "(Things get a little problematic at each end of the timeseries, but don't bother about that for now, either in your thinking or in the next plot.) In fact, we can assemble all\n",
    "those averages into a new vector."
   ]
  },
  {
   "cell_type": "markdown",
   "metadata": {},
   "source": [
    " The set of new values (think of it as a new timeseries) is plotted below."
   ]
  },
  {
   "cell_type": "code",
   "execution_count": null,
   "metadata": {},
   "outputs": [],
   "source": [
    "kernel = 0.1 * np.ones(10)\n",
    "newydata = np.zeros(300)\n",
    "for point in range(0,290):\n",
    "    newydata[point] = np.dot(kernel,timeseries[point:point + 10])\n",
    "newydata[290:300] = 0\n",
    "\n",
    "# Plotting time vs amplitude \n",
    "make_plot_1(time,newydata)\n",
    "plt.text(1,0,'1 sec',fontsize=15)\n",
    "plt.show()"
   ]
  },
  {
   "cell_type": "markdown",
   "metadata": {},
   "source": [
    "This is the new timeseries created by calculating the dot product of the kernel and successive sets of 10\n",
    "datapoints in the original timeseries.\n",
    "\n",
    "Is there a difference between the original timeseries and the new timeseries?"
   ]
  },
  {
   "cell_type": "markdown",
   "metadata": {},
   "source": [
    "Answer: Take a look."
   ]
  },
  {
   "cell_type": "code",
   "execution_count": null,
   "metadata": {},
   "outputs": [],
   "source": [
    "make_plot_2(time,timeseries,'blue', time, newydata,'red')\n",
    "plt.text(1,0,'1 sec',fontsize=15)\n",
    "plt.show()"
   ]
  },
  {
   "cell_type": "markdown",
   "metadata": {},
   "source": [
    "The new timeseries is shown in red. It looks like 60 Hz activity has been removed.\n",
    "\n",
    "Compare the powerspectrum of the two timeseries."
   ]
  },
  {
   "cell_type": "code",
   "execution_count": null,
   "metadata": {},
   "outputs": [],
   "source": [
    "make_plot_freq_1(timeseries,300)\n",
    "\n",
    "# Adding text to the figure\n",
    "plt.text(151,0,'Hz',fontsize=15)\n",
    "plt.show()"
   ]
  },
  {
   "cell_type": "code",
   "execution_count": null,
   "metadata": {},
   "outputs": [],
   "source": [
    "make_plot_freq_1(newydata,300)\n",
    "\n",
    "# Adding text to the figure\n",
    "plt.text(151,0,'Hz',fontsize=15)\n",
    "plt.show()"
   ]
  },
  {
   "cell_type": "markdown",
   "metadata": {},
   "source": [
    "In the second power spectrum, 2 Hz activity is retained, and 60 Hz activity is completely attenuated.\n",
    "What is going on? "
   ]
  },
  {
   "cell_type": "markdown",
   "metadata": {},
   "source": [
    "Answer:\n",
    "    \n",
    "We can think of what we did as one way to apply a digital filter.\n",
    "\n",
    "The term \"digital\" filter is used for a wide range of techniques that may only have in common the fact\n",
    "that they are mathematical procedures that are applied to discrete numeric representations of discrete\n",
    "or continuous waveforms in order to selectively augment or more commonly to attenuate certain\n",
    "frequencies. (If the original signal was discrete, we can work with the original series of values. If the original signal was continuous, we had to digitize it before we could do our arithmetic.)\n",
    "\n",
    "For our purposes, a filter is an entity that augments or attenuates certain frequencies. A digital filter accomplishes that via\n",
    "arithmetic. The alternative is an analog filter, which accomplishes it with circuitry."
   ]
  },
  {
   "cell_type": "markdown",
   "metadata": {},
   "source": [
    "### <font color=red>DSP.03.B2.b) Creating a different kernel</font>"
   ]
  },
  {
   "cell_type": "markdown",
   "metadata": {},
   "source": [
    "Look at another example.\n",
    "\n",
    "Stay with the timeseries above. However, in this case we're going to multiply each point in the original\n",
    "timeseries by a vector of 3 values, instead of a vector of 10 values."
   ]
  },
  {
   "cell_type": "code",
   "execution_count": null,
   "metadata": {},
   "outputs": [],
   "source": [
    "time = np.arange(0,1,1/300)\n",
    "timeseries = np.sin(2*np.pi * 2 * time) + np.sin(2*np.pi * 60 * time)\n",
    "\n",
    "make_plot_1(time,timeseries,'b')\n",
    "plt.text(1,0,'1 sec',fontsize=15)\n",
    "plt.show()"
   ]
  },
  {
   "cell_type": "markdown",
   "metadata": {},
   "source": [
    "Use the code below to move a kernel of size 3 across the timeseries, one datapoint at a time, calculating\n",
    "the mean at each location. The set of new values (think of it as a new timeseries) is plotted below. (Again, don't bother about happens at the very beginning and end of the new timeseries.)"
   ]
  },
  {
   "cell_type": "code",
   "execution_count": null,
   "metadata": {},
   "outputs": [],
   "source": [
    "kernel = 1/3 * np.ones(3)\n",
    "newydata = np.zeros(300)\n",
    "for point in range(0,297):\n",
    "    newydata[point] = np.dot(kernel,timeseries[point:point + 3])\n",
    "newydata[297:300] = 0\n",
    "\n",
    "make_plot_1(time,newydata, 'r')\n",
    "plt.text(1,0,'1 sec',fontsize=15)\n",
    "plt.show()"
   ]
  },
  {
   "cell_type": "markdown",
   "metadata": {},
   "source": [
    "Is there a difference between the original timeseries and the timeseries created by multiplying the\n",
    "original timeseries by the kernel of size 3?"
   ]
  },
  {
   "cell_type": "markdown",
   "metadata": {},
   "source": [
    "Answer: Take a look."
   ]
  },
  {
   "cell_type": "code",
   "execution_count": null,
   "metadata": {},
   "outputs": [],
   "source": [
    "make_plot_2(time,timeseries,'blue', time, newydata,'red')\n",
    "plt.text(1,0,'1 sec',fontsize=15)\n",
    "plt.show()"
   ]
  },
  {
   "cell_type": "markdown",
   "metadata": {},
   "source": [
    "The new timeseries is shown in blue. 60 Hz activity is attenuated, but this time it is not completely\n",
    "removed.\n",
    "\n",
    "Compare the powerspectrum of the two timeseries."
   ]
  },
  {
   "cell_type": "code",
   "execution_count": null,
   "metadata": {},
   "outputs": [],
   "source": [
    "make_plot_freq_1(timeseries,300)\n",
    "\n",
    "# Adding text to the figure\n",
    "plt.text(151,0,'Hz',fontsize=15)\n",
    "plt.show()"
   ]
  },
  {
   "cell_type": "code",
   "execution_count": null,
   "metadata": {},
   "outputs": [],
   "source": [
    "make_plot_freq_1(newydata,300)\n",
    "\n",
    "# Adding text to the figure\n",
    "plt.text(151,0,'Hz',fontsize=15)\n",
    "plt.show()"
   ]
  },
  {
   "cell_type": "markdown",
   "metadata": {},
   "source": [
    "60 Hz activity is attenuated but not completely removed.\n",
    "\n",
    "What is going on?"
   ]
  },
  {
   "cell_type": "markdown",
   "metadata": {},
   "source": [
    "Answer: This requires an extended explanation. No room to do that here. More later. For now, please continue to Section B.3."
   ]
  },
  {
   "cell_type": "markdown",
   "metadata": {},
   "source": [
    "## <font color=red>DSP.03.B3) Convolving and Filtering</font>"
   ]
  },
  {
   "cell_type": "markdown",
   "metadata": {},
   "source": [
    "### <font color=red>DSP.03.B3.a) Removing activity at a specific frequency</font>"
   ]
  },
  {
   "cell_type": "markdown",
   "metadata": {},
   "source": [
    "Continuing from Section B.2.b, it's possible you might be asking yourself, 'What happened to the 60 Hz\n",
    "activity?'. In the first example, 60 Hz activity was completely removed. In the second example, 60 Hz\n",
    "activity was attenuated (attenuated means decreased) but not completely removed."
   ]
  },
  {
   "cell_type": "markdown",
   "metadata": {},
   "source": [
    "Plot the function from B.2.b and then overlay a 2 Hz timeseries."
   ]
  },
  {
   "cell_type": "code",
   "execution_count": null,
   "metadata": {},
   "outputs": [],
   "source": [
    "time = np.arange(0,1,1/300)\n",
    "timeseries1 = np.sin(2*np.pi * 2 * time) + np.sin(2*np.pi * 60 * time)\n",
    "timeseries2 = np.sin(2*np.pi * 2 * time)\n",
    "\n",
    "make_plot_2(time,timeseries1,'b', time, timeseries2,'k')\n",
    "plt.text(1,0,'1 sec',fontsize=15)\n",
    "plt.show()"
   ]
  },
  {
   "cell_type": "markdown",
   "metadata": {},
   "source": [
    "The combined 60 Hz and 2 Hz timeseries (shown in blue) appears to be symmetric about the 2 Hz sine\n",
    "wave (shown in black).\n",
    "\n",
    "Use the dot product command to calculate the mean of the first 5 points in the original data (blue), and\n",
    "then plot this new point at the x-axis location of the 3rd point, which is at the position of the middle of\n",
    "the first 5 points."
   ]
  },
  {
   "cell_type": "code",
   "execution_count": null,
   "metadata": {},
   "outputs": [],
   "source": [
    "firstpoint = timeseries1[:5]\n",
    "kernel = 1/5 * np.ones(5) #this looks like { 1/5 , 1/5 , 1/5 , 1/5 , 1/5 }\n",
    "round(np.dot(firstpoint,kernel),6)"
   ]
  },
  {
   "cell_type": "code",
   "execution_count": null,
   "metadata": {},
   "outputs": [],
   "source": [
    "make_plot_2(time,timeseries1,'b', time, timeseries2,'k')\n",
    "plt.scatter(time[2],0.083531,c =\"green\",s=100)\n",
    "plt.text(1,0,'1 sec',fontsize=15)\n",
    "plt.show()"
   ]
  },
  {
   "cell_type": "markdown",
   "metadata": {},
   "source": [
    "The mean value of the first 5 points falls on the 2 Hz waveform.\n",
    "\n",
    "Calculate the mean of the second group of 5 points and place this new value on the plot."
   ]
  },
  {
   "cell_type": "code",
   "execution_count": null,
   "metadata": {},
   "outputs": [],
   "source": [
    "secondpoint = timeseries1[1:6]\n",
    "kernel = 1/5 * np.ones(5) #this looks like { 1/5 , 1/5 , 1/5 , 1/5 , 1/5}\n",
    "round(np.dot(secondpoint,kernel),6)"
   ]
  },
  {
   "cell_type": "code",
   "execution_count": null,
   "metadata": {},
   "outputs": [],
   "source": [
    "make_plot_2(time,timeseries1,'b', time, timeseries2,'k')\n",
    "plt.scatter(time[2],0.083531,c =\"green\",s=100)\n",
    "plt.scatter(time[3],0.125113,c =\"red\",s=100)\n",
    "plt.text(1,0,'1 sec',fontsize=15)\n",
    "plt.show()"
   ]
  },
  {
   "cell_type": "markdown",
   "metadata": {},
   "source": [
    "The mean value of the second 5 points falls on the 2 Hz waveform, displaced slightly up from and to the right of the first mean we plotted.\n",
    "\n",
    "Calculate the mean for a group of 5 points somewhere in the middle of the timeseries and place this\n",
    "new value on the plot."
   ]
  },
  {
   "cell_type": "code",
   "execution_count": null,
   "metadata": {},
   "outputs": [],
   "source": [
    "midpoint = timeseries1[119:124]\n",
    "kernel = 1/5 * np.ones(5)\n",
    "round(np.dot(midpoint,kernel),6)"
   ]
  },
  {
   "cell_type": "code",
   "execution_count": null,
   "metadata": {},
   "outputs": [],
   "source": [
    "make_plot_2(time,timeseries1,'b', time, timeseries2,'k')\n",
    "plt.scatter(time[2],0.083531,c =\"green\",s=100)\n",
    "plt.scatter(time[3],0.125113,c =\"red\",s=100)\n",
    "plt.scatter(time[121],-0.935638,c =\"magenta\",s=100)\n",
    "plt.text(1,0,'1 sec',fontsize=15)\n",
    "plt.show()"
   ]
  },
  {
   "cell_type": "markdown",
   "metadata": {},
   "source": [
    "This point falls on the 2 Hz waveform.\n",
    "\n",
    "This is evidence that, when five points are averaged, the value will always fall on the 2 Hz waveform.\n",
    "\n",
    "Try it for a random point."
   ]
  },
  {
   "cell_type": "code",
   "execution_count": null,
   "metadata": {},
   "outputs": [],
   "source": [
    "randomnum = np.random.randint(2,297,size=1)\n",
    "randomnum = randomnum[0]\n",
    "randompoint = timeseries1[randomnum-2:randomnum+3]\n",
    "kernel = 1/5 * np.ones(5)\n",
    "ycoordinate = round(np.dot(randompoint,kernel),6)\n",
    "\n",
    "make_plot_2(time,timeseries1,'b', time, timeseries2,'k')\n",
    "plt.scatter(time[randomnum],ycoordinate,c =\"magenta\",s=100)\n",
    "plt.text(1,0,'1 sec',fontsize=15)\n",
    "plt.show()"
   ]
  },
  {
   "cell_type": "markdown",
   "metadata": {},
   "source": [
    "Run the above cell several times to see that the dot always falls right on the 2 Hz line.\n",
    "\n",
    "Here is a question - will a kernel of any size place the dot on the 2 Hz line (and therefore always remove\n",
    "60 Hz activity)?"
   ]
  },
  {
   "cell_type": "markdown",
   "metadata": {},
   "source": [
    "Answer:\n",
    "    \n",
    "If the kernel covers a full cycle of 60 Hz activity (and as long as there is nothing other than the 2 Hz and 60 Hz we're playing with), then we are guaranteed\n",
    "that the mean value will always fall on the 2 Hz line and thus remove all 60 Hz activity.\n",
    "\n",
    "How come that works?\n",
    "\n",
    "The 60 Hz sine wave above completes 60 full cycles in 300 points.\n",
    "\n",
    "As 300/60 = 5, a kernel of size 5 covers one complete period of a 60 Hz sine wave. So, the average of any 5 consecutive points will always average out the 60 Hz portion of the combined signal, because (as we found earlier) a single sine-wave cycle has a mean of zero.\n",
    "\n",
    "Because the 60 Hz activity 'rides' on the 2 Hz sine wave, oscillating symmetrically above and below the\n",
    "2 Hz line, the mean of 60 Hz activity for a complete period always falls on the 2 Hz line.\n",
    "\n",
    "So, our 5-point kernel successfully filters out 60 Hz activity. For that to work, the length of our kernel depends on our sample rate. We'll expore that next."
   ]
  },
  {
   "cell_type": "markdown",
   "metadata": {},
   "source": [
    "### <font color=red>DSP.03.B3.b) Removing activity at a specific frequency - more details</font>"
   ]
  },
  {
   "cell_type": "markdown",
   "metadata": {},
   "source": [
    "Continuing with the previous example, instead of a kernel of length 5, what happens when a kernel of length 3 is applied (i.e., covering\n",
    "slightly less than a one full cycle of 60 Hz activity)?"
   ]
  },
  {
   "cell_type": "markdown",
   "metadata": {},
   "source": [
    "Create the time series."
   ]
  },
  {
   "cell_type": "code",
   "execution_count": null,
   "metadata": {},
   "outputs": [],
   "source": [
    "time = np.arange(0,1,1/300)\n",
    "timeseries = np.sin(2*np.pi * 2 * time) + np.sin(2*np.pi * 60 * time)\n",
    "\n",
    "make_plot_1(time,timeseries,'b')\n",
    "plt.text(1,0,'1 sec',fontsize=15)\n",
    "plt.show()"
   ]
  },
  {
   "cell_type": "markdown",
   "metadata": {},
   "source": [
    "Apply a kernel of length 3."
   ]
  },
  {
   "cell_type": "code",
   "execution_count": null,
   "metadata": {},
   "outputs": [],
   "source": [
    "kernel = 1/3 * np.ones(3)\n",
    "newydata = np.zeros(300)\n",
    "for point in range(0,297):\n",
    "    newydata[point] = np.dot(kernel,timeseries[point:point + 3])\n",
    "newydata[297:300] = 0\n",
    "\n",
    "make_plot_1(time,newydata, 'r')\n",
    "plt.text(1,0,'1 sec',fontsize=15)\n",
    "plt.show()"
   ]
  },
  {
   "cell_type": "markdown",
   "metadata": {},
   "source": [
    "Is there a difference between the original timeseries and the new timeseries?"
   ]
  },
  {
   "cell_type": "markdown",
   "metadata": {},
   "source": [
    "Answer: Take a look."
   ]
  },
  {
   "cell_type": "code",
   "execution_count": null,
   "metadata": {},
   "outputs": [],
   "source": [
    "make_plot_2(time,timeseries,'b', time, newydata,'r')\n",
    "plt.text(1,0,'1 sec',fontsize=15)\n",
    "plt.show()"
   ]
  },
  {
   "cell_type": "markdown",
   "metadata": {},
   "source": [
    "60 Hz activity is attenuated, but not completely removed.\n",
    "\n",
    "Compare the power spectrum of the old and new timeseries."
   ]
  },
  {
   "cell_type": "code",
   "execution_count": null,
   "metadata": {},
   "outputs": [],
   "source": [
    "make_plot_freq_1(timeseries,300)\n",
    "\n",
    "# Adding text to the figure\n",
    "plt.text(151,0,'Hz',fontsize=15)\n",
    "plt.show()"
   ]
  },
  {
   "cell_type": "code",
   "execution_count": null,
   "metadata": {},
   "outputs": [],
   "source": [
    "make_plot_freq_1(newydata,300)\n",
    "\n",
    "# Adding text to the figure\n",
    "plt.text(151,0,'Hz',fontsize=15)\n",
    "plt.show()"
   ]
  },
  {
   "cell_type": "markdown",
   "metadata": {},
   "source": [
    "The power spectra look different. 60 Hz activity has been reduced but not completely removed.\n",
    "\n",
    "There are 300 points in the unfiltered timeseries. The 60 Hz sine wave completes 60 full cycles in 300\n",
    "points. As 300/60 = 5, a kernel of 5 points is needed to cover a full cycle of 60 Hz activity.\n",
    "\n",
    "A kernel of 3 points does not cover one complete 60 Hz cycle. As a result, when using a kernel of size 3,\n",
    "not all 60 Hz activity is removed. Think about it: the mean of 3 points, not covering a full cycle, won't be zero. What it'll be depends on where in the cycle the 3 points land.\n",
    "\n",
    "Just to check, see if a kernel of size 4 works. Create the unfiltered time series."
   ]
  },
  {
   "cell_type": "code",
   "execution_count": null,
   "metadata": {},
   "outputs": [],
   "source": [
    "time = np.arange(0,1,1/300)\n",
    "freq1 = 2\n",
    "freq2 = 60\n",
    "timeseries = np.sin(2*np.pi * freq1 * time) + np.sin(2*np.pi * freq2 * time)\n",
    "\n",
    "make_plot_1(time,timeseries,'b')\n",
    "plt.text(1,0,'1 sec',fontsize=15)\n",
    "plt.show()"
   ]
  },
  {
   "cell_type": "markdown",
   "metadata": {},
   "source": [
    "Apply a kernel of length 4."
   ]
  },
  {
   "cell_type": "code",
   "execution_count": null,
   "metadata": {},
   "outputs": [],
   "source": [
    "kernel = 1/4 * np.ones(4) #this looks like {1/4 , 1/4 , 1/4 , 1/4 }\n",
    "newydata = np.zeros(300)\n",
    "for point in range(0,296):\n",
    "    newydata[point] = np.dot(kernel,timeseries[point:point + 4])\n",
    "newydata[296:300] = 0\n",
    "\n",
    "make_plot_1(time,newydata, 'r')\n",
    "plt.text(1,0,'1 sec',fontsize=15)\n",
    "plt.show()"
   ]
  },
  {
   "cell_type": "markdown",
   "metadata": {},
   "source": [
    "60 Hz activity is reduced but still present.\n",
    "\n",
    "Again, that is because a kernel of size 4 does not completely span one full period of 60 Hz activity.\n",
    "Remember when we took a break in section B.2.a and listed the various numbers that defined the\n",
    "example we were using? We said that we could change any of those. It turns out that the values we\n",
    "select for those numbers have an impact on how our filter behaves."
   ]
  },
  {
   "cell_type": "markdown",
   "metadata": {},
   "source": [
    "### <font color=red>DSP.03.B3.c) Filtering outcomes depend on the relationship between the kernel size and the sampling rate</font>"
   ]
  },
  {
   "cell_type": "markdown",
   "metadata": {},
   "source": [
    "Look at this timeseries, which has 5 Hz asnd 80 Hz components."
   ]
  },
  {
   "cell_type": "code",
   "execution_count": null,
   "metadata": {},
   "outputs": [],
   "source": [
    "time = np.arange(0,1,1/300)\n",
    "timeseries = np.sin(2*np.pi * 5 * time) + np.sin(2*np.pi * 80 * time)\n",
    "\n",
    "make_plot_1(time,timeseries,'b')\n",
    "plt.text(1,0,'1 sec',fontsize=15)\n",
    "plt.show()"
   ]
  },
  {
   "cell_type": "markdown",
   "metadata": {},
   "source": [
    "Create a kernel that contains 6 values and calculate the dot product between the kernel and each\n",
    "datapoint in the original unfiltered timeseries."
   ]
  },
  {
   "cell_type": "code",
   "execution_count": null,
   "metadata": {},
   "outputs": [],
   "source": [
    "kernel = 1/6 * np.ones(6) #this looks like {1/6 , 1/6 , 1/6 , 1/6 , 1/6, 1/6}\n",
    "newydata = np.zeros(300)\n",
    "for point in range(0,294):\n",
    "    newydata[point] = np.dot(kernel,timeseries[point:point + 6])\n",
    "newydata[294:300] = 0\n",
    "\n",
    "make_plot_1(time,newydata, 'r')\n",
    "plt.text(1,0,'1 sec',fontsize=15)\n",
    "plt.show()"
   ]
  },
  {
   "cell_type": "markdown",
   "metadata": {},
   "source": [
    "Is there a difference between the unfiltered timeseries (i.e., original timeseries) and the filtered timeseries\n",
    "(created by calculating the dot product between the kernel and each datapoint in the original\n",
    "timeseries)?"
   ]
  },
  {
   "cell_type": "markdown",
   "metadata": {},
   "source": [
    "Answer: Take a look."
   ]
  },
  {
   "cell_type": "code",
   "execution_count": null,
   "metadata": {},
   "outputs": [],
   "source": [
    "make_plot_2(time,timeseries,'b', time, newydata,'r')\n",
    "plt.text(1,0,'1 sec',fontsize=15)\n",
    "plt.show()"
   ]
  },
  {
   "cell_type": "markdown",
   "metadata": {},
   "source": [
    "They look different. Most, but not all, of the 80 Hz activity has been removed.\n",
    "\n",
    "Compare the power spectrum of the old and new timeseries."
   ]
  },
  {
   "cell_type": "code",
   "execution_count": null,
   "metadata": {},
   "outputs": [],
   "source": [
    "make_plot_freq_1(timeseries,300)\n",
    "\n",
    "# Adding text to the figure\n",
    "plt.text(151,0,'Hz',fontsize=15)\n",
    "plt.show()"
   ]
  },
  {
   "cell_type": "code",
   "execution_count": null,
   "metadata": {},
   "outputs": [],
   "source": [
    "make_plot_freq_1(newydata,300)\n",
    "\n",
    "# Adding text to the figure\n",
    "plt.text(151,0,'Hz',fontsize=15)\n",
    "plt.show()"
   ]
  },
  {
   "cell_type": "markdown",
   "metadata": {},
   "source": [
    "80 Hz activity is still present.\n",
    "\n",
    "The 80 Hz sine wave completes 80 full cycles over a 1 second = 300 point interval.\n",
    "As 300/80 = 3.75, a kernel of at least 4 points is needed to cover one full cycle of 80 Hz activity.\n",
    "Above, a kernel of 6 points was used. Isn't a kernel of size 6 sufficient to cover one full cycle of 80 Hz\n",
    "activity? What's going on?"
   ]
  },
  {
   "cell_type": "markdown",
   "metadata": {},
   "source": [
    "Answer:\n",
    "    \n",
    "When sampling at 300 Hz, one complete period of 80 Hz activity does not end at an integer value. A\n",
    "kernel of size 6 does not span an integer number of cycles. In other words, our kernel is not grabbing\n",
    "exactly 1 cycle, or exactly 2 cycles, or any other number of complete cycles. We have a partial cycle left\n",
    "in there. As a result, 80 Hz activity over the 6 point kernel does not sum to zero, and residual 80 Hz\n",
    "activity remains. "
   ]
  },
  {
   "cell_type": "markdown",
   "metadata": {},
   "source": [
    "### <font color=red>DSP.03.B3.d) Real success depends on the relationship between the kernel size and the sampling rate</font>"
   ]
  },
  {
   "cell_type": "markdown",
   "metadata": {},
   "source": [
    "Continue with the last example."
   ]
  },
  {
   "cell_type": "code",
   "execution_count": null,
   "metadata": {},
   "outputs": [],
   "source": [
    "time = np.arange(0,1,1/300)\n",
    "timeseries = np.sin(2*np.pi * 5 * time) + np.sin(2*np.pi * 80 * time)\n",
    "\n",
    "make_plot_1(time,timeseries,'b')\n",
    "plt.text(1,0,'1 sec',fontsize=15)\n",
    "plt.show()"
   ]
  },
  {
   "cell_type": "markdown",
   "metadata": {},
   "source": [
    "A kernel of size 6 does not cover an integer number of 80 Hz cycles. What size kernel does cover an\n",
    "integer number of 80 Hz cycles when sampling at 300 Hz?"
   ]
  },
  {
   "cell_type": "markdown",
   "metadata": {},
   "source": [
    "Do some calculations. When sampling an 80 Hz signal at 300 Hz, a sample is available every\n",
    "3.75 points (300/80). Here are some other values."
   ]
  },
  {
   "cell_type": "code",
   "execution_count": null,
   "metadata": {},
   "outputs": [],
   "source": [
    "3.75 * 2"
   ]
  },
  {
   "cell_type": "code",
   "execution_count": null,
   "metadata": {},
   "outputs": [],
   "source": [
    "3.75 * 3"
   ]
  },
  {
   "cell_type": "code",
   "execution_count": null,
   "metadata": {},
   "outputs": [],
   "source": [
    "3.75 * 4"
   ]
  },
  {
   "cell_type": "code",
   "execution_count": null,
   "metadata": {},
   "outputs": [],
   "source": [
    "3.75 * 5"
   ]
  },
  {
   "cell_type": "code",
   "execution_count": null,
   "metadata": {},
   "outputs": [],
   "source": [
    "3.75 * 6"
   ]
  },
  {
   "cell_type": "markdown",
   "metadata": {},
   "source": [
    "The above calculations show that when digitizing at 300 Hz an integer number of 80 Hz cycles occurs at\n",
    "15 points (and at 2 x 15 points, 3 x 15 points, etc.). Create a kernel of 15 values and calculate the dot product between the kernel and each\n",
    "datapoint in the unfiltered timeseries."
   ]
  },
  {
   "cell_type": "code",
   "execution_count": null,
   "metadata": {},
   "outputs": [],
   "source": [
    "kernel = 1/15 * np.ones(15) #this looks like {1/15,1/15,1/15,1/15,1/15,1/15,1/15,1/15,1/15,1/15,1/15,1/15,1/15,1/15,1/15}\n",
    "newydata = np.zeros(300)\n",
    "for point in range(0,285):\n",
    "    newydata[point] = np.dot(kernel,timeseries[point:point + 15])\n",
    "newydata[285:300] = 0\n",
    "\n",
    "make_plot_1(time,newydata, 'r')\n",
    "plt.text(1,0,'1 sec',fontsize=15)\n",
    "plt.show()"
   ]
  },
  {
   "cell_type": "code",
   "execution_count": null,
   "metadata": {},
   "outputs": [],
   "source": [
    "make_plot_2(time,timeseries,'b', time, newydata,'r')\n",
    "plt.text(1,0,'1 sec',fontsize=15)\n",
    "plt.show()"
   ]
  },
  {
   "cell_type": "markdown",
   "metadata": {},
   "source": [
    "Is there a difference between the unfiltered timeseries (i.e., original timeseries) and the filtered\n",
    "timeseries?"
   ]
  },
  {
   "cell_type": "markdown",
   "metadata": {},
   "source": [
    "Answer: Take a look."
   ]
  },
  {
   "cell_type": "markdown",
   "metadata": {},
   "source": [
    "It looks like all 80 Hz activity has been removed.\n",
    "\n",
    "Compare the power spectrum of the old and new timeseries."
   ]
  },
  {
   "cell_type": "code",
   "execution_count": null,
   "metadata": {},
   "outputs": [],
   "source": [
    "make_plot_freq_1(timeseries,300)\n",
    "\n",
    "# Adding text to the figure\n",
    "plt.text(151,0,'Hz',fontsize=15)\n",
    "plt.show()"
   ]
  },
  {
   "cell_type": "code",
   "execution_count": null,
   "metadata": {},
   "outputs": [],
   "source": [
    "make_plot_freq_1(newydata,300)\n",
    "\n",
    "# Adding text to the figure\n",
    "plt.text(151,0,'Hz',fontsize=15)\n",
    "plt.show()"
   ]
  },
  {
   "cell_type": "markdown",
   "metadata": {},
   "source": [
    "No 80 Hz activity! Because the kernel covered an integer number of 80 Hz cycles 80 Hz activity is averaged\n",
    "out. (You'll notice that there's a bit of ripple in ther power spectrum. Don't bother about that now. More to come....)"
   ]
  },
  {
   "cell_type": "markdown",
   "metadata": {},
   "source": [
    "### <font color=red>DSP.03.B3.e) Filtering success depends on the relationship between the kernel size and the sampling rate</font>"
   ]
  },
  {
   "cell_type": "markdown",
   "metadata": {},
   "source": [
    "Look at this slightly more complicated example.\n",
    "\n",
    "The timeseries below is the sum of 5 Hz, 70 Hz, and 100 Hz activity."
   ]
  },
  {
   "cell_type": "code",
   "execution_count": null,
   "metadata": {},
   "outputs": [],
   "source": [
    "time = np.arange(0,1,1/300)\n",
    "freq1 = 5\n",
    "freq2 = 70\n",
    "freq3 = 100\n",
    "timeseries = np.sin(2*np.pi * freq1 * time) + np.sin(2*np.pi * freq2 * time)+ np.sin(2*np.pi * freq3 * time)\n",
    "\n",
    "make_plot_1(time,timeseries,'b')\n",
    "plt.text(1,0,'1 sec',fontsize=15)\n",
    "plt.show()"
   ]
  },
  {
   "cell_type": "markdown",
   "metadata": {},
   "source": [
    "Create a kernel that contains 6 values, and multiply each datapoint in the unfiltered data by these 6\n",
    "points."
   ]
  },
  {
   "cell_type": "code",
   "execution_count": null,
   "metadata": {},
   "outputs": [],
   "source": [
    "kernel = 1/6 * np.ones(6) #this looks like {1/6,1/6,1/6,1/6,1/6,1/6}\n",
    "newydata = np.zeros(300)\n",
    "for point in range(0,294):\n",
    "    newydata[point] = np.dot(kernel,timeseries[point:point + 6])\n",
    "newydata[294:300] = 0\n",
    "\n",
    "make_plot_1(time,newydata, 'r')\n",
    "plt.text(1,0,'1 sec',fontsize=15)\n",
    "plt.show()"
   ]
  },
  {
   "cell_type": "markdown",
   "metadata": {},
   "source": [
    "Is there a difference between the unfiltered timeseries (i.e., original timeseries) and the filtered\n",
    "timeseries?"
   ]
  },
  {
   "cell_type": "markdown",
   "metadata": {},
   "source": [
    "Answer: Take a look."
   ]
  },
  {
   "cell_type": "code",
   "execution_count": null,
   "metadata": {},
   "outputs": [],
   "source": [
    "make_plot_2(time,timeseries,'b', time, newydata,'r')\n",
    "plt.text(1,0,'1 sec',fontsize=15)\n",
    "plt.show()"
   ]
  },
  {
   "cell_type": "markdown",
   "metadata": {},
   "source": [
    "They look different. Most, but not all, of the 70 Hz activity seems to have been removed.\n",
    "\n",
    "Compare the power spectrum of the old and new timeseries."
   ]
  },
  {
   "cell_type": "code",
   "execution_count": null,
   "metadata": {},
   "outputs": [],
   "source": [
    "make_plot_freq_1(timeseries,300)\n",
    "\n",
    "# Adding text to the figure\n",
    "plt.text(151,0,'Hz',fontsize=15)\n",
    "plt.show()"
   ]
  },
  {
   "cell_type": "code",
   "execution_count": null,
   "metadata": {},
   "outputs": [],
   "source": [
    "make_plot_freq_1(newydata,300)\n",
    "\n",
    "# Adding text to the figure\n",
    "plt.text(151,0,'Hz',fontsize=15)\n",
    "plt.show()"
   ]
  },
  {
   "cell_type": "markdown",
   "metadata": {},
   "source": [
    "Although 70 Hz activity is still present, 100 Hz activity seems to have been completely removed.\n",
    "\n",
    "The 100 Hz sine wave completes 100 full periods in 300 points. As 300/100 = 3, we need a kernel of 3 (or a\n",
    "multiple of three) to cover an integer number of 100 Hz cycles, in order to filter it out.\n",
    "\n",
    "Because the kernel of size 6 covers an integer number of 100 Hz cycles (two full cycles), almost all 100\n",
    "Hz activity is removed.\n",
    "\n",
    "The 70 Hz sine wave completes 70 full cycles in 300 points, and one full cycle in 300/70 = 4.28571 points. We\n",
    "used a kernel of size 6. A kernel of size 6 does not cover an integer number of 70 Hz cycles, and thus not\n",
    "all 70 Hz activity is removed.\n",
    "\n",
    "What kernel size would do a good job of removing 70 Hz activity?"
   ]
  },
  {
   "cell_type": "markdown",
   "metadata": {},
   "source": [
    "Answer:\n",
    "    \n",
    "The goal is to cover an integer number of 70 Hz cycles when digitizing at 300 Hz. Here are some\n",
    "numbers."
   ]
  },
  {
   "cell_type": "code",
   "execution_count": null,
   "metadata": {},
   "outputs": [],
   "source": [
    "4.28571 * 2"
   ]
  },
  {
   "cell_type": "code",
   "execution_count": null,
   "metadata": {},
   "outputs": [],
   "source": [
    "4.28571 * 3"
   ]
  },
  {
   "cell_type": "code",
   "execution_count": null,
   "metadata": {},
   "outputs": [],
   "source": [
    "4.28571 * 4"
   ]
  },
  {
   "cell_type": "code",
   "execution_count": null,
   "metadata": {},
   "outputs": [],
   "source": [
    "4.28571 * 5"
   ]
  },
  {
   "cell_type": "code",
   "execution_count": null,
   "metadata": {},
   "outputs": [],
   "source": [
    "4.28571 * 6"
   ]
  },
  {
   "cell_type": "code",
   "execution_count": null,
   "metadata": {},
   "outputs": [],
   "source": [
    "4.28571 * 7"
   ]
  },
  {
   "cell_type": "code",
   "execution_count": null,
   "metadata": {},
   "outputs": [],
   "source": [
    "4.28571 * 8"
   ]
  },
  {
   "cell_type": "markdown",
   "metadata": {},
   "source": [
    "When digitizing at 300 Hz, within rounding error, a kernel of size 30 would cover an integer number of 70 Hz cycles.\n",
    "\n",
    "Let's check that out."
   ]
  },
  {
   "cell_type": "code",
   "execution_count": null,
   "metadata": {},
   "outputs": [],
   "source": [
    "time = np.arange(0,1,1/300)\n",
    "freq1 = 5\n",
    "freq2 = 70\n",
    "freq3 = 100\n",
    "timeseries = np.sin(2*np.pi * freq1 * time) + np.sin(2*np.pi * freq2 * time)+ np.sin(2*np.pi * freq3 * time)\n",
    "\n",
    "make_plot_1(time,timeseries,'b')\n",
    "plt.text(1,0,'1 sec',fontsize=15)\n",
    "plt.show()"
   ]
  },
  {
   "cell_type": "markdown",
   "metadata": {},
   "source": [
    "Create a kernel of 30 values, and multiply each datapoint in the unfiltered data by these 30 points."
   ]
  },
  {
   "cell_type": "code",
   "execution_count": null,
   "metadata": {},
   "outputs": [],
   "source": [
    "kernel = 1/30 * np.ones(30)\n",
    "newydata = np.zeros(300)\n",
    "for point in range(0,270):\n",
    "    newydata[point] = np.dot(kernel,timeseries[point:point + 30])\n",
    "newydata[270:300] = 0\n",
    "\n",
    "make_plot_1(time,newydata, 'r')\n",
    "plt.text(1,0,'1 sec',fontsize=15)\n",
    "plt.show()"
   ]
  },
  {
   "cell_type": "markdown",
   "metadata": {},
   "source": [
    "Compared the unfiltered and the filtered timeseries."
   ]
  },
  {
   "cell_type": "code",
   "execution_count": null,
   "metadata": {},
   "outputs": [],
   "source": [
    "make_plot_2(time,timeseries,'b', time, newydata,'r')\n",
    "plt.text(1,0,'1 sec',fontsize=15)\n",
    "plt.show()"
   ]
  },
  {
   "cell_type": "markdown",
   "metadata": {},
   "source": [
    "You might have noticed in that plot that the red line in this latest plot is shifted to the left relative to the blue line. It\n",
    "happened because we plotted the start of the red and blue lines both at the first point in the timeseries,\n",
    "but in fact, with an 30-weight filter, we can’t filter the first 15 points. So to be more precise we should\n",
    "shift the blue line to start 15 points later than the red line.\n",
    "\n",
    "Here is one way to do that."
   ]
  },
  {
   "cell_type": "code",
   "execution_count": null,
   "metadata": {},
   "outputs": [],
   "source": [
    "newydata2 = np.zeros(300)\n",
    "newydata2[15:285] = newydata[:270]\n",
    "\n",
    "make_plot_2(time,timeseries,'b', time, newydata2,'r')\n",
    "plt.text(1,0,'1 sec',fontsize=15)\n",
    "plt.show()"
   ]
  },
  {
   "cell_type": "markdown",
   "metadata": {},
   "source": [
    "Ignoring the start and end, now the black line tracks the 5 Hz activity in the red line quite well. \n",
    "\n",
    "Compare the power spectrum of the old and new timeseries."
   ]
  },
  {
   "cell_type": "code",
   "execution_count": null,
   "metadata": {},
   "outputs": [],
   "source": [
    "make_plot_freq_1(timeseries,300)\n",
    "\n",
    "# Adding text to the figure\n",
    "plt.text(151,0,'Hz',fontsize=15)\n",
    "plt.show()"
   ]
  },
  {
   "cell_type": "code",
   "execution_count": null,
   "metadata": {},
   "outputs": [],
   "source": [
    "make_plot_freq_1(newydata2,300)\n",
    "\n",
    "# Adding text to the figure\n",
    "plt.text(151,0,'Hz',fontsize=15)\n",
    "plt.show()"
   ]
  },
  {
   "cell_type": "markdown",
   "metadata": {},
   "source": [
    "Looks like 70 Hz activity and 100 Hz activity were removed. (Again, for now, ignore the ripple. It's important, but not yet.) We had good reason to suspect 70 Hz activity would\n",
    "be removed. Why was 100 Hz activity also removed?"
   ]
  },
  {
   "cell_type": "markdown",
   "metadata": {},
   "source": [
    "Answer:\n",
    "    \n",
    "A kernel of size 30 was applied. As 300/100 = 3, we need a kernel of 3 (or a multiple of three) to cover an\n",
    "integer number of 100 Hz cycles. A kernel of size 30 covers an integer number of 100 Hz cycles and thus\n",
    "removed 100 Hz activity.\n",
    "\n",
    "So, given a sampling rate of 300 Hz, a kernel size of 30 was a good choice for filtering out both 70 Hz activity and 100 Hz activity. You can imagine that designing effective digital filters can depend on having a good idea of what signals are in the timeseries you want to filter."
   ]
  },
  {
   "cell_type": "markdown",
   "metadata": {},
   "source": [
    "### <font color=red>DSP.03.B3.f) High-pass filters, low-pass filters, and filter gain</font>"
   ]
  },
  {
   "cell_type": "markdown",
   "metadata": {},
   "source": [
    "Look at this timeseries, with 4 constituent frequencies sampled (digitized) at 300 Hz."
   ]
  },
  {
   "cell_type": "code",
   "execution_count": null,
   "metadata": {},
   "outputs": [],
   "source": [
    "time = np.arange(0,1,1/300)\n",
    "freq1 = 5\n",
    "freq2 = 25\n",
    "freq3 = 40\n",
    "freq4 = 80\n",
    "timeseries = np.sin(2*np.pi * freq1 * time) + np.sin(2*np.pi * freq2 * time)+ \\\n",
    "            np.sin(2*np.pi * freq3 * time) + np.sin(2*np.pi * freq4 * time)\n",
    "\n",
    "make_plot_1(time,timeseries,'b')\n",
    "plt.text(1,0,'1 sec',fontsize=15)\n",
    "plt.show()"
   ]
  },
  {
   "cell_type": "markdown",
   "metadata": {},
   "source": [
    "To filter the data, create a kernel of 6 equally weighted values and multiply each datapoint in the\n",
    "unfiltered data by this kernel. (So far, all the weights have been the same in any of the kernels we've created. They don't have to be same, which will open up rich possibilities for us. But for now we're sticking with equal-weight filters, each weight being the reciprocal of the length of the filter.)"
   ]
  },
  {
   "cell_type": "code",
   "execution_count": null,
   "metadata": {},
   "outputs": [],
   "source": [
    "kernel = 1/6 * np.ones(6)\n",
    "newydata = np.zeros(300)\n",
    "for point in range(0,294):\n",
    "    newydata[point] = np.dot(kernel,timeseries[point:point + 6])\n",
    "newydata[294:300] = 0\n",
    "\n",
    "make_plot_1(time,newydata, 'r')\n",
    "plt.text(1,0,'1 sec',fontsize=15)\n",
    "plt.show()"
   ]
  },
  {
   "cell_type": "markdown",
   "metadata": {},
   "source": [
    "Is there a difference between the original unfiltered timeseries and the filtered timeseries (created by\n",
    "calculating the dot product between the kernel and each datapoint in the original timeseries)?"
   ]
  },
  {
   "cell_type": "markdown",
   "metadata": {},
   "source": [
    "Answer: Take a look."
   ]
  },
  {
   "cell_type": "code",
   "execution_count": null,
   "metadata": {},
   "outputs": [],
   "source": [
    "make_plot_2(time,timeseries,'b', time, newydata,'r')\n",
    "plt.text(1,0,'1 sec',fontsize=15)\n",
    "plt.show()"
   ]
  },
  {
   "cell_type": "markdown",
   "metadata": {},
   "source": [
    "They look different. Low-frequency information seems to have been retained and some high-frequency\n",
    "activity removed.\n",
    "\n",
    "Let’s again correct the plot so that the unfiltered and filtered timeseries line up more accurately. With\n",
    "an 6-weight filter, we can’t filter the first 3 points. So to be more precise we should shift the black line to\n",
    "start 4 points later than the red line. "
   ]
  },
  {
   "cell_type": "code",
   "execution_count": null,
   "metadata": {},
   "outputs": [],
   "source": [
    "newydata2 = np.zeros(300)\n",
    "newydata2[3:298] = newydata[:295]\n",
    "\n",
    "make_plot_2(time,timeseries,'b', time, newydata2,'r')\n",
    "plt.text(1,0,'1 sec',fontsize=15)\n",
    "plt.show()"
   ]
  },
  {
   "cell_type": "markdown",
   "metadata": {},
   "source": [
    "In the remaining examples, we’ll use the above proceedure to align the unfiltered and filtered timeseries.\n",
    "\n",
    "Compare the power spectrum of the old and new timeseries."
   ]
  },
  {
   "cell_type": "code",
   "execution_count": null,
   "metadata": {},
   "outputs": [],
   "source": [
    "make_plot_freq_2(timeseries,newydata2,300)\n",
    "\n",
    "# Adding text to the figure\n",
    "plt.text(151,0,'Hz',fontsize=15)\n",
    "plt.show()"
   ]
  },
  {
   "cell_type": "markdown",
   "metadata": {},
   "source": [
    "80 Hz, 40 Hz, and 20 Hz signals have been attenuated (shown in red). The greatest attenuation was for 80\n",
    "Hz activity, then 40 Hz, and then 20 Hz. Almost all of the 5 Hz signal survived.\n",
    "\n",
    "We can think of what we did as one way to apply a digital filter. The most commonly considered filters are high-pass and low-pass, which selectively attenuate low-frequency and high-frequency\n",
    "components, respectively. That's true of electronic analog filters (applied before we digitize) and mathematical digital filters (applied after we digitize).\n",
    "\n",
    "In the examples above, high-frequency activity was attenuated. Thus, we say that a low-pass filter was\n",
    "applied, selectively attenuating high-frequency activity. A high-pass filter would do the opposite -\n",
    "selectively attenuating low-frequency activity."
   ]
  },
  {
   "cell_type": "markdown",
   "metadata": {},
   "source": [
    "### <font color=red>DSP.03.B3.g) Implementing Digital Filters</font>"
   ]
  },
  {
   "cell_type": "markdown",
   "metadata": {},
   "source": [
    "Look at another timeseries."
   ]
  },
  {
   "cell_type": "code",
   "execution_count": null,
   "metadata": {},
   "outputs": [],
   "source": [
    "time = np.arange(0,1,1/300)\n",
    "freq1 = 2\n",
    "freq2 = 12\n",
    "freq3 = 16\n",
    "freq4 = 33\n",
    "freq5 = 43\n",
    "freq6 = 75\n",
    "timeseries = np.sin(2*np.pi * freq1 * time) + np.sin(2*np.pi * freq2 * time)+ np.sin(2*np.pi * freq3 * time) \\\n",
    "            + np.sin(2*np.pi * freq4 * time)+ np.sin(2*np.pi * freq5 * time)+ np.sin(2*np.pi * freq6 * time)\n",
    "\n",
    "make_plot_1(time,timeseries,'b')\n",
    "plt.text(1,0,'1 sec',fontsize=15)\n",
    "plt.show()"
   ]
  },
  {
   "cell_type": "markdown",
   "metadata": {},
   "source": [
    "To filter the data, create a kernel of 10 equally weighted values and multiply each datapoint in the\n",
    "unfiltered data by this kernel."
   ]
  },
  {
   "cell_type": "code",
   "execution_count": null,
   "metadata": {},
   "outputs": [],
   "source": [
    "kernel = 1/10 * np.ones(10)\n",
    "newydata = np.zeros(300)\n",
    "for point in range(0,290):\n",
    "    newydata[point] = np.dot(kernel,timeseries[point:point + 10])\n",
    "newydata2 = np.zeros(300)\n",
    "newydata2[5:295] = newydata[:290]\n",
    "\n",
    "make_plot_1(time,newydata2, 'r')\n",
    "plt.text(1,0,'1 sec',fontsize=15)\n",
    "plt.show()"
   ]
  },
  {
   "cell_type": "markdown",
   "metadata": {},
   "source": [
    "Take a look at the difference between the original timeseries and the filtered timeseries. "
   ]
  },
  {
   "cell_type": "code",
   "execution_count": null,
   "metadata": {},
   "outputs": [],
   "source": [
    "make_plot_2(time,timeseries,'b', time, newydata2,'r')\n",
    "plt.text(1,0,'1 sec',fontsize=15)\n",
    "plt.show()"
   ]
  },
  {
   "cell_type": "markdown",
   "metadata": {},
   "source": [
    "Low-frequency information seems to have been retained and some high-frequency activity removed.\n",
    "\n",
    "Compare the power spectrum of the old and new timeseries."
   ]
  },
  {
   "cell_type": "code",
   "execution_count": null,
   "metadata": {},
   "outputs": [],
   "source": [
    "make_plot_freq_2(timeseries,newydata2,300)\n",
    "\n",
    "# Adding text to the figure\n",
    "plt.text(151,0,'Hz',fontsize=15)\n",
    "plt.show()"
   ]
  },
  {
   "cell_type": "markdown",
   "metadata": {},
   "source": [
    "The filtered power spectrum is shown in red.\n",
    "\n",
    "What type of filter was applied?"
   ]
  },
  {
   "cell_type": "markdown",
   "metadata": {},
   "source": [
    "Answer:\n",
    "    \n",
    "The kernel applied to the original timeseries attenuated high-frequency activity. Thus, we applied a\n",
    "low-pass filter.\n",
    "\n",
    "Using the terms \"low-pass\" and \"high-pass\" correctly can be confusing. Try this trick. When you apply a filter to remove high-frequency\n",
    "activity, you are saying that you 'passed' frequencies below a certain frequency. Thus, you applied a low-pass filter, passing frequencies lower\n",
    "than the cutoff frequency. Alternatively, when applying a filter to remove low-frequency activity, you are saying that you 'passed' frequencies\n",
    "above some frequency. Therefore, you applied a high-pass filter, passing frequencies higher than a particular frequency.\n",
    "\n",
    "Think of this on a\n",
    "music sound system that has separate bass and treble controls. The bass control works like a high-pass filter (reducing low frequencies if you turn it down), and the treble control works like a low-pass\n",
    "filter (reducing high frequencies if you turn it down). If you \"turn up the treble\", what is probably going on inside the box is that you're raising the low-pass filter's cutoff frequency, fc.\n",
    "\n",
    "Sometimes you run across the terms \"high\" and \"low\" to refer to filters. Those are ambiguous: \"high\" can refer to what the filter is passing or what it's removing. Better to use the longer terms \"high-pass\" and \"low-pass\", to avoid ambiguity."
   ]
  },
  {
   "cell_type": "markdown",
   "metadata": {},
   "source": [
    "## <font color=red>DSP.03.B4) Convolving and Filters - Part II</font>"
   ]
  },
  {
   "cell_type": "markdown",
   "metadata": {},
   "source": [
    "### <font color=red>DSP.03.B4.a) Convolving (just a big word for multiplying and adding)</font>"
   ]
  },
  {
   "cell_type": "markdown",
   "metadata": {},
   "source": [
    "In a common type of digital filter, each filtered output point is defined as a weighted or unweighted\n",
    "average of some number of input data points. A filter is called “unweighted” when all the weights are\n",
    "the same, such as 1/5, and “weighted” when the weights differ, which we’ll get to later. This sounds a\n",
    "little odd, because all types of filters use weights, so are “weighted”. Implicitly, “weighted” means “weighted\n",
    "differently\", and \"unweighted\" means \"weighted equally\".\n",
    "\n",
    "Let vector K (the kernel) consist of 2j+1 weights (subscripted -j to +j) that will be used to compute\n",
    "output vector Filteredt (filtered timeseries) from input vector Unfilteredt (unfiltered timeseries). Typically,\n",
    "Filteredt and Unfilteredt are the same length (Filteredt may be a bit shorter, as some filters are\n",
    "not applicable near the ends of the time series), and the kernel K is much shorter than Filteredt and Unfilteredt.\n",
    "\n",
    "As shown in the\n",
    "examples above, the sample period (distance in time between the points in Unfilteredt), the number of\n",
    "weights, and the values of those weights affect the behavior of the filter. 2j+1 input data points (a\n",
    "portion of vector Unfilteredt) will be included in the computation of each filtered output point (to be\n",
    "stored in vector Filteredt).\n",
    "\n",
    "Here we'll introduce a new verb, but it does something we already know:\n",
    "Each value in Filteredt is computed by \"convolving\" the 2j+1 weights in the kernel K with 2j+1 values in\n",
    "Unfilteredt. Convolution is the sum of the cross-products of (a) the kernel weights and (b) the corresponding\n",
    "Unfilteredt values (i.e., the dot product):\n",
    "    \n",
    "Filteredt = $\\sum\\limits_{i=-j}^{j}$ Ki Unfilteredt + i                                    \n",
    "\n",
    "That was a lot of text. One take-home point is that, to calculate Filteredt, we simply take the dot product of\n",
    "the (short) kernel and the unfiltered timeseries as we slide the kernel along the unfiltered timeseries. Take a look."
   ]
  },
  {
   "cell_type": "code",
   "execution_count": null,
   "metadata": {},
   "outputs": [],
   "source": [
    "time = np.arange(0,1,1/250)\n",
    "freq1 = 2\n",
    "freq2 = 12\n",
    "freq3 = 16\n",
    "freq4 = 33\n",
    "freq5 = 38\n",
    "freq6 = 40\n",
    "freq7 = 43\n",
    "freq8 = 75\n",
    "\n",
    "timeseries = np.sin(2*np.pi * freq1 * time) + np.sin(2*np.pi * freq2 * time)+ np.sin(2*np.pi * freq3 * time) \\\n",
    "            + np.sin(2*np.pi * freq4 * time)+ np.sin(2*np.pi * freq5 * time)+ np.sin(2*np.pi * freq6 * time)\\\n",
    "            + np.sin(2*np.pi * freq7 * time)+ np.sin(2*np.pi * freq8 * time)\n",
    "\n",
    "make_plot_1(time,timeseries)\n",
    "plt.text(1,0,'1 sec',fontsize=15)\n",
    "plt.show()"
   ]
  },
  {
   "cell_type": "markdown",
   "metadata": {},
   "source": [
    "In the previous sections we used the Python 'Dot' function and a 'For' loop to calculate the dot\n",
    "product between the kernel and the original timeseries at each point. This process is called convolution.\n",
    "But we can make this a bit easier - enough of the hard work! Let's can make our lives easier - the Python Scipy.signal\n",
    "'convolve' function accomplishes all the above procedures with a single line of code. "
   ]
  },
  {
   "cell_type": "code",
   "execution_count": null,
   "metadata": {},
   "outputs": [],
   "source": [
    "from scipy import signal\n",
    "\n",
    "kernel = 1/2 * np.ones(3)\n",
    "newydata = signal.convolve(timeseries,kernel,mode='same')\n",
    "\n",
    "make_plot_1(time,newydata, 'r')\n",
    "plt.text(1,0,'1 sec',fontsize=15)\n",
    "plt.show()"
   ]
  },
  {
   "cell_type": "markdown",
   "metadata": {},
   "source": [
    "In forming subsets of input data points to combine with a kernel, there is always an issue of what to do at the ends of the original timeseries. To get output that is as long as the original vector of data, in Python the syntax \"mode='same'\" is used, with the output data the same size as the input data.   \n",
    "         \n",
    "Look at the unfiltered and filtered timeseries."
   ]
  },
  {
   "cell_type": "code",
   "execution_count": null,
   "metadata": {},
   "outputs": [],
   "source": [
    "make_plot_2(time,timeseries,'b', time, newydata,'r')\n",
    "plt.text(1,0,'1 sec',fontsize=15)\n",
    "plt.show()"
   ]
  },
  {
   "cell_type": "markdown",
   "metadata": {},
   "source": [
    "Not much of a difference. Most low- and high-frequency information has been retained\n",
    "\n",
    "Compare their powerspectrum."
   ]
  },
  {
   "cell_type": "code",
   "execution_count": null,
   "metadata": {},
   "outputs": [],
   "source": [
    "make_plot_freq_2(timeseries,newydata,250)\n",
    "\n",
    "# Adding text to the figure\n",
    "plt.text(125,0,'Hz',fontsize=15)\n",
    "plt.show()"
   ]
  },
  {
   "cell_type": "markdown",
   "metadata": {},
   "source": [
    "High-frequency activity is only very minimally attenuated with this particular low-pass filter.\n",
    "Why wasn't much activity removed?"
   ]
  },
  {
   "cell_type": "markdown",
   "metadata": {},
   "source": [
    "Answer:\n",
    "    \n",
    "Here are the frequencies composing the above timeseries: 2 Hz, 12 Hz, 16 Hz, 33 Hz, 38 Hz, 40 Hz, 43 Hz,\n",
    "and 75 Hz.\n",
    "\n",
    "We sampled at 250 Hz. Divide 250 by each frequency to determine how many points are in 1 full period of each frequency."
   ]
  },
  {
   "cell_type": "code",
   "execution_count": null,
   "metadata": {},
   "outputs": [],
   "source": [
    "250/2"
   ]
  },
  {
   "cell_type": "code",
   "execution_count": null,
   "metadata": {},
   "outputs": [],
   "source": [
    "250/12"
   ]
  },
  {
   "cell_type": "code",
   "execution_count": null,
   "metadata": {},
   "outputs": [],
   "source": [
    "250/16"
   ]
  },
  {
   "cell_type": "code",
   "execution_count": null,
   "metadata": {},
   "outputs": [],
   "source": [
    "250/33"
   ]
  },
  {
   "cell_type": "code",
   "execution_count": null,
   "metadata": {},
   "outputs": [],
   "source": [
    "250/38"
   ]
  },
  {
   "cell_type": "code",
   "execution_count": null,
   "metadata": {},
   "outputs": [],
   "source": [
    "250/40"
   ]
  },
  {
   "cell_type": "code",
   "execution_count": null,
   "metadata": {},
   "outputs": [],
   "source": [
    "250/43"
   ]
  },
  {
   "cell_type": "code",
   "execution_count": null,
   "metadata": {},
   "outputs": [],
   "source": [
    "250/75"
   ]
  },
  {
   "cell_type": "markdown",
   "metadata": {},
   "source": [
    "The above is the number of points needed to cover one full cycle of each frequency. A kernel of size 3\n",
    "does not completely cover a full cycle of any of the frequencies that compose the timeseries. As a\n",
    "result, little activity at any of these frequencies is removed."
   ]
  },
  {
   "cell_type": "markdown",
   "metadata": {},
   "source": [
    "### <font color=red>DSP.03.B4.b) Convolving (just a big word for multiplying and adding)</font>"
   ]
  },
  {
   "cell_type": "markdown",
   "metadata": {},
   "source": [
    "Let's review some of the text at the beginning of the Section B4.a text again. \n",
    "\n",
    "Let vector K (the kernel) consist of 2j+1 weights (subscripted -j to +j) that will be used to compute\n",
    "output vector Filteredt (filtered timeseries) from input vector Unfilteredt (unfiltered timeseries). Typically,\n",
    "Filteredt and Unfilteredt are the same length (Filteredt may be a bit shorter, as some filters are not applicable near the ends of the time series), and the kernel K is much shorter.\n",
    "\n",
    "As shown above, the\n",
    "sample period (distance in time between the points in Unfilteredt), the number of weights, and the\n",
    "values of those weights affect the gain function of the filter. 2j+1 input data points (a portion of vector\n",
    "Unfilteredt) will be included in the computation of each filtered output point (to be stored in vector\n",
    "Filteredt). Each value in Filteredt is computed by convolving the 2j+1 weights in the kernel K with 2j+1\n",
    "values in Unfilteredt. Convolution is the sum of the cross-products of the kernel weights and corresponding\n",
    "Unfilteredt values (i.e., the dot product):\n",
    "    \n",
    "Filteredt = $\\sum\\limits_{i=-j}^{j}$ Ki Unfilteredt + i   \n",
    "    \n",
    "Let's consider a way to improve the performance of our filters.\n",
    "\n",
    "Once again, the kernel consists of 2j+1 weights, but let's loosen things up a bit.\n",
    "\n",
    "Notice that nothing in the text above says the kernel weights have to be the same.\n",
    "\n",
    "Notice that nothing in the text above says the kernel weights have to be the reciprocal of the length of\n",
    "the timeseries.\n",
    "\n",
    "The kernels examined thus far are kernels used to create what is commonly called a moving-average\n",
    "filter, because they compute a simple average, due to all the weights in the kernel being the same = 1 ÷ # weights. Another common name for that filter is \"boxcar\", because if you plot the weights they'd form a rectangle.\n",
    "\n",
    "Other kernels are possible! The weights don't have to all be the same, and there are many ways to\n",
    "generate the weights that make up the kernel. If you're interested in this topic, you might take a more\n",
    "advanced digital signal processing class on filter design. (Two accessible introductions are: (a) Cook, E.W., III, & Miller, G.A. (1992). Digital filtering: Background and tutorial for psychophysiologists. Psychophysiology, 29, 350-367. (b)\n",
    "Edgar, J.C., Stewart, J.L., & Miller, G.A. (2005). Digital filtering in EEG/ERP research. In T.C. Handy (Ed.), Event-related potentials: A handbook (pp. 85-113). Cambridge, MA: MIT Press. "
   ]
  },
  {
   "cell_type": "markdown",
   "metadata": {},
   "source": [
    "### <font color=red>DSP.03.B4.c) Some extra information</font>"
   ]
  },
  {
   "cell_type": "markdown",
   "metadata": {},
   "source": [
    "Here again is the filtering formula applied above.\n",
    "\n",
    "Filteredt = $\\sum\\limits_{i=-j}^{j}$ Ki Unfilteredt + i                 \n",
    "\n",
    "If you are 'in the know', then you will know that this type of filter is called a nonrecursive filter or a\n",
    "Finite Impulse Response filter (FIR filter). A filter is a FIR filter when only the original data values are\n",
    "used to compute the output values contained in Filteredt. (One could use filtered values for some of the points to which one applies weights in computer the filtered value for another point. FIR filters don't do that.)\n",
    "\n",
    "Nonrecurive or finite impulse response filters (FIR filters) occur in many different fields.\n",
    "In each field, this type of filter is sometimes given a different name. Here are some of the more common names you might encounter:\n",
    "\n",
    "Nonrecursive filter\n",
    "\n",
    "Finite impulse response filter\n",
    "\n",
    "FIR filter\n",
    "\n",
    "Transversal filter\n",
    "\n",
    "Tapped delay line filter\n",
    "\n",
    "Moving average filter"
   ]
  }
 ],
 "metadata": {
  "kernelspec": {
   "display_name": "Python 3 (ipykernel)",
   "language": "python",
   "name": "python3"
  },
  "language_info": {
   "codemirror_mode": {
    "name": "ipython",
    "version": 3
   },
   "file_extension": ".py",
   "mimetype": "text/x-python",
   "name": "python",
   "nbconvert_exporter": "python",
   "pygments_lexer": "ipython3",
   "version": "3.11.4"
  }
 },
 "nbformat": 4,
 "nbformat_minor": 4
}
