{
 "cells": [
  {
   "cell_type": "markdown",
   "metadata": {},
   "source": [
    "#### Digital Signal Processing Courseware: An Introduction (copyright © 2024)\n",
    "## Authors: J. Christopher Edgar and Gregory A. Miller\n",
    "\n",
    "Originally written in Mathematica by J. Christopher Edgar. Conversion to Jupyter Notebook by Song Liu.\n",
    "\n",
    "The authors of this courseware are indebted to Prof. Bruce Carpenter (University of Illinois Urbana-Champaign). Bruce inspired the creation of this courseware, he consulted with the authors as this courseware was being developed, and he provided the original version of the code and text for several sections of this courseware (e.g. the section on complex numbers and the section on normal distributions). "
   ]
  },
  {
   "cell_type": "markdown",
   "metadata": {},
   "source": [
    "# <font color=red>DSP.03 Convolution and Filtering - Time Domain</font>"
   ]
  },
  {
   "cell_type": "markdown",
   "metadata": {},
   "source": [
    "# <font color=red>Give it a Try!</font>\n",
    "# <font color=red>Part 2</font>"
   ]
  },
  {
   "cell_type": "markdown",
   "metadata": {},
   "source": [
    "### Setup"
   ]
  },
  {
   "cell_type": "code",
   "execution_count": null,
   "metadata": {},
   "outputs": [],
   "source": [
    "# general imports\n",
    "import numpy as np\n",
    "import matplotlib.pyplot as plt\n",
    "from matplotlib import image as img\n",
    "from matplotlib import cm\n",
    "from mpl_toolkits import mplot3d\n",
    "from scipy.fft import fft, fftfreq\n",
    "import matplotlib.patches as patches\n",
    "import math\n",
    "import cmath\n",
    "import pandas as pd\n",
    "from sympy import Symbol, sin, series\n",
    "from sympy import roots, solve_poly_system\n",
    "import scipy.special\n",
    "\n",
    "import warnings\n",
    "warnings.filterwarnings('ignore')\n",
    "\n",
    "# Figure size \n",
    "plt.rc(\"figure\", figsize=(8, 6))\n",
    "\n",
    "#function to create time course figure\n",
    "#one waveform\n",
    "def make_plot_1(x1,y1,type=\"b\",linewidth = 1): \n",
    "    plt.plot(x1, y1,type)\n",
    "    plt.margins(x=0, y=0)\n",
    "    plt.axhline(y=0, color='k')\n",
    "    plt.tick_params(labelbottom = False, bottom = False)\n",
    "    \n",
    "#two overlaid waveforms with red and blue   \n",
    "def make_plot_2(x1,y1,type1,x2,y2,type2): \n",
    "    plt.plot(x1, y1, type1)\n",
    "    plt.plot(x2, y2, type2)\n",
    "    plt.margins(x=0, y=0)\n",
    "    plt.axhline(y=0, color='k')\n",
    "    plt.tick_params(labelbottom = False, bottom = False)\n",
    "    \n",
    "#three overlaid waveforms with red, blue and green   \n",
    "def make_plot_3(x1,y1,type1,x2,y2,type2,x3,y3,type3): \n",
    "    plt.plot(x1, y1, type1)\n",
    "    plt.plot(x2, y2, type2)\n",
    "    plt.plot(x3, y3, type3)\n",
    "    plt.margins(x=0, y=0)\n",
    "    plt.axhline(y=0, color='k')\n",
    "    plt.tick_params(labelbottom = False, bottom = False)\n",
    "    \n",
    "def make_plot_3d(ax,x,y,z):    \n",
    "    ax.contour3D(x, y, z, 50, cmap=cm.coolwarm)\n",
    "    ax.set_xlabel('x')\n",
    "    ax.set_ylabel('y')\n",
    "    ax.set_zlabel('z')\n",
    "    \n",
    "def make_plot_freq_1(x1,sample_rate, duration=1): \n",
    "    N = sample_rate * duration\n",
    "    Nhalf = math.ceil(N/2)\n",
    "    yf = fft(x1)\n",
    "    xf = fftfreq(N, 1 / sample_rate)\n",
    "    yf = yf[0:Nhalf]\n",
    "    xf = xf[0:Nhalf]\n",
    "    plt.plot(xf, np.abs(yf))\n",
    "    \n",
    "#two spectrums\n",
    "def make_plot_freq_2(x1,x2,sample_rate, duration=1): \n",
    "    N = sample_rate * duration\n",
    "    Nhalf = math.ceil(N/2)\n",
    "    yf1 = fft(x1)\n",
    "    yf2 = fft(x2)\n",
    "    xf = fftfreq(N, 1 / sample_rate)\n",
    "\n",
    "    yf1 = yf1[0:Nhalf]\n",
    "    yf2 = yf2[0:Nhalf]\n",
    "    xf = xf[0:Nhalf]\n",
    "\n",
    "    plt.plot(xf, np.abs(yf1))\n",
    "    plt.plot(xf, np.abs(yf2), color = 'r')\n",
    "    \n",
    "def make_imshow(x):\n",
    "    plt.imshow(x,cmap='Greys_r')\n",
    "    plt.tick_params(labelbottom = False, bottom = False)\n",
    "    plt.tick_params(labelleft = False, left = False)\n",
    "    \n",
    "def make_imshow_color(x):\n",
    "    plt.imshow(x)\n",
    "    plt.tick_params(labelbottom = False, bottom = False)\n",
    "    plt.tick_params(labelleft = False, left = False)\n",
    "    \n",
    "def round_complex(x):\n",
    "    return complex(np.round(x.real,4),np.round(x.imag,4))"
   ]
  },
  {
   "cell_type": "markdown",
   "metadata": {},
   "source": [
    "## <font color=red>DSP.03.G2) Convolving a Timeseries</font>"
   ]
  },
  {
   "cell_type": "markdown",
   "metadata": {},
   "source": [
    "### <font color=red>DSP.03.G2.a) Convolving (moving-average method)</font>"
   ]
  },
  {
   "cell_type": "markdown",
   "metadata": {},
   "source": [
    "Here's a timeseries consisting of what we'll consider to be 7 Hz signal and 60 Hz noise. (Most countries in the Western Hemisphere use 60 Hz electricity, most other countries use 50 Hz. So, 50 or 60 Hz activity often appears in signals we want to process. Whether 50 or 60 or any other frequency should be treated as signal or noise depends on the context and the purpose of the signal processing.)"
   ]
  },
  {
   "cell_type": "code",
   "execution_count": null,
   "metadata": {},
   "outputs": [],
   "source": [
    "time = np.arange(0,1,1/300)\n",
    "timeseries = np.sin(2*np.pi * 7 * time) + np.sin(2*np.pi * 60 * time)\n",
    "\n",
    "make_plot_1(time,timeseries)\n",
    "plt.text(1,0,'1 sec',fontsize=15)\n",
    "plt.show()"
   ]
  },
  {
   "cell_type": "markdown",
   "metadata": {},
   "source": [
    "Use the moving-average convolution technique to remove 60 Hz activity. (Reminder/hint: think about how many samples you need to span exactly the length of one 60 Hz cycle.) Make sure you overlay the unfiltered and filtered timeseries to show that 60 Hz activity was removed, and write a sentence that\n",
    "details how you decided what size kernel to use."
   ]
  },
  {
   "cell_type": "markdown",
   "metadata": {},
   "source": [
    "### <font color=red>DSP.03.G2.b) Convolving (moving-average method)</font>"
   ]
  },
  {
   "cell_type": "markdown",
   "metadata": {},
   "source": [
    "Here is the same timeseries as above, just digitized at a different sampling rate."
   ]
  },
  {
   "cell_type": "code",
   "execution_count": null,
   "metadata": {},
   "outputs": [],
   "source": [
    "time = np.arange(0,1,1/200)\n",
    "freq1 = 7\n",
    "freq2 = 60\n",
    "timeseries = np.sin(2*np.pi * 7 * time) + np.sin(2*np.pi * 60 * time)\n",
    "\n",
    "make_plot_1(time,timeseries)\n",
    "plt.text(1,0,'1 sec',fontsize=15)\n",
    "plt.show()"
   ]
  },
  {
   "cell_type": "markdown",
   "metadata": {},
   "source": [
    "Use the moving-average convolution technique to remove 60 Hz activity. (Reminder/hint: does the change in sampling rate change the number of samples you need to span exactly one 60 Hz cycle?) Make sure you overlay the\n",
    "unfiltered and filtered timeseries to show that 60 Hz activity was removed, and write a sentence that\n",
    "details how you decided what size kernel to use."
   ]
  },
  {
   "cell_type": "markdown",
   "metadata": {},
   "source": [
    "### <font color=red>DSP.03.G2.c) Convolving (moving-average method)</font>"
   ]
  },
  {
   "cell_type": "markdown",
   "metadata": {},
   "source": [
    "Here is a new timeseries."
   ]
  },
  {
   "cell_type": "code",
   "execution_count": null,
   "metadata": {},
   "outputs": [],
   "source": [
    "time = np.arange(0,1,1/200)\n",
    "freq1 = 8\n",
    "freq2 = 40\n",
    "freq3 = 50\n",
    "timeseries = np.sin(2*np.pi * freq1 * time) + np.sin(2*np.pi * freq2 * time) + np.sin(2*np.pi * freq3 * time)\n",
    "\n",
    "make_plot_1(time,timeseries)\n",
    "plt.text(1,0,'1 sec',fontsize=15)\n",
    "plt.show()"
   ]
  },
  {
   "cell_type": "markdown",
   "metadata": {},
   "source": [
    "Use the moving-average convolution technique to remove as much 40 Hz activity as possible. Overlay\n",
    "the unfiltered and filtered timeseries and write a sentence that details how you decided to set the\n",
    "length of the kernel to optimally remove 40 Hz activity.\n",
    "\n",
    "Finally, compare the powerspectrum of the unfiltered and filtered timeseries and write a sentence commenting\n",
    "on the amount of 40 Hz versus 50 Hz activity removed. "
   ]
  },
  {
   "cell_type": "markdown",
   "metadata": {},
   "source": [
    "### <font color=red>DSP.03.G2.d) High- versus low-pass filters</font>"
   ]
  },
  {
   "cell_type": "markdown",
   "metadata": {},
   "source": [
    "Look at this timeseries."
   ]
  },
  {
   "cell_type": "code",
   "execution_count": null,
   "metadata": {},
   "outputs": [],
   "source": [
    "time = np.arange(0,1,1/180)\n",
    "freq1 = 4\n",
    "freq2 = 30\n",
    "freq3 = 70\n",
    "timeseries = np.sin(2*np.pi * freq1 * time) + np.sin(2*np.pi * freq2 * time) + np.sin(2*np.pi * freq3 * time)\n",
    "\n",
    "make_plot_1(time,timeseries)\n",
    "plt.text(1,0,'1 sec',fontsize=15)\n",
    "plt.show()"
   ]
  },
  {
   "cell_type": "markdown",
   "metadata": {},
   "source": [
    "Use the moving-average convolution technique to remove as much 30 Hz activity as possible. Overlay\n",
    "the unfiltered and filtered timeseries and write a sentence that details how you decided to set the\n",
    "length of the kernel to optimally remove 30 Hz activity.\n",
    "\n",
    "Finally, compare the power spectrum of the unfiltered and filtered timeseries and write a sentence commenting\n",
    "on the amount of 30 Hz versus 70 Hz activity removed."
   ]
  },
  {
   "cell_type": "markdown",
   "metadata": {},
   "source": [
    "### <font color=red>DSP.03.G2.e) Convolving (moving-average method)</font>"
   ]
  },
  {
   "cell_type": "markdown",
   "metadata": {},
   "source": [
    "Look at this timeseries."
   ]
  },
  {
   "cell_type": "code",
   "execution_count": null,
   "metadata": {},
   "outputs": [],
   "source": [
    "time = np.arange(0,1,1/300)\n",
    "freq1 = 2\n",
    "freq2 = 14\n",
    "freq3 = 18\n",
    "freq4 = 30\n",
    "freq5 = 32\n",
    "freq6 = 45\n",
    "freq7 = 55\n",
    "freq8 = 120\n",
    "\n",
    "timeseries = np.sin(2*np.pi * freq1 * time) + np.sin(2*np.pi * freq2 * time) + np.sin(2*np.pi * freq3 * time) \\\n",
    "          + np.sin(2*np.pi * freq4 * time) + np.sin(2*np.pi * freq5 * time) + np.sin(2*np.pi * freq6 * time) \\\n",
    "          + np.sin(2*np.pi * freq7 * time) + np.sin(2*np.pi * freq8 * time) \n",
    "\n",
    "make_plot_1(time,timeseries)\n",
    "plt.text(1,0,'1 sec',fontsize=15)\n",
    "plt.show()"
   ]
  },
  {
   "cell_type": "markdown",
   "metadata": {},
   "source": [
    "Convolve the timeseries with a moving average kernel of size two."
   ]
  },
  {
   "cell_type": "code",
   "execution_count": null,
   "metadata": {},
   "outputs": [],
   "source": [
    "from scipy import signal\n",
    "\n",
    "kernel = 1/2 * np.ones(2)\n",
    "newydata = signal.convolve(timeseries,kernel,mode='same')\n",
    "\n",
    "make_plot_1(time,newydata)\n",
    "plt.text(1,0,'1 sec',fontsize=15)\n",
    "plt.show()"
   ]
  },
  {
   "cell_type": "markdown",
   "metadata": {},
   "source": [
    "Plot and compare the powerspectrum of the unfiltered and filtered timeseries.\n",
    "\n",
    "What type of filter was applied? (Hint: you have a 50/50 chance of guessing the correct term, but we hope you don't have to guess.)"
   ]
  },
  {
   "cell_type": "markdown",
   "metadata": {},
   "source": [
    "### <font color=red>DSP.03.G2.f) High- versus low-pass filters</font>"
   ]
  },
  {
   "cell_type": "markdown",
   "metadata": {},
   "source": [
    "Look at this timeseries."
   ]
  },
  {
   "cell_type": "code",
   "execution_count": null,
   "metadata": {},
   "outputs": [],
   "source": [
    "time = np.arange(0,1,1/400)\n",
    "freq1 = 2\n",
    "freq2 = 14\n",
    "freq3 = 108\n",
    "freq4 = 120\n",
    "freq5 = 150\n",
    "freq6 = 172\n",
    "freq7 = 180\n",
    "freq8 = 195\n",
    "\n",
    "timeseries = np.sin(2*np.pi * freq1 * time) + np.sin(2*np.pi * freq2 * time) + np.sin(2*np.pi * freq3 * time) \\\n",
    "          + np.sin(2*np.pi * freq4 * time) + np.sin(2*np.pi * freq5 * time) + np.sin(2*np.pi * freq6 * time) \\\n",
    "          + np.sin(2*np.pi * freq7 * time) + np.sin(2*np.pi * freq8 * time) \n",
    "\n",
    "make_plot_1(time,timeseries)\n",
    "plt.text(1,0,'1 sec',fontsize=15)\n",
    "plt.show()"
   ]
  },
  {
   "cell_type": "markdown",
   "metadata": {},
   "source": [
    "Convolve the timeseries with a moving-average kernel of size four."
   ]
  },
  {
   "cell_type": "code",
   "execution_count": null,
   "metadata": {},
   "outputs": [],
   "source": [
    "from scipy import signal\n",
    "\n",
    "kernel = 1/4 * np.ones(4)\n",
    "newydata = signal.convolve(timeseries,kernel,mode='same')\n",
    "\n",
    "make_plot_1(time,newydata)\n",
    "plt.text(1,0,'1 sec',fontsize=15)\n",
    "plt.show()"
   ]
  },
  {
   "cell_type": "markdown",
   "metadata": {},
   "source": [
    "Plot and compare the powerspectrum of the unfiltered and filtered timeseries. What type of filter was applied?"
   ]
  },
  {
   "cell_type": "markdown",
   "metadata": {},
   "source": [
    "### <font color=red>DSP.03.G2.g) Convolving (just a big word for multiplying and then adding the products)</font>"
   ]
  },
  {
   "cell_type": "markdown",
   "metadata": {},
   "source": [
    "The text below describes how to design a nonrecursive filter (a.k.a. a Finite Impulse Response (FIR)\n",
    "filter).\n",
    "\n",
    "Let vector K (the kernel) consist of 2j+1 weights (subscripted -j to +j) that will be used to compute\n",
    "output vector Filteredt (filtered timeseries) from input vector Unfilteredt (unfiltered timeseries).\n",
    "\n",
    "Reminder: With the subscripts ranging from -j to +j, you'll use the same number of original data points on each side of the data point being filtered, plus the point being filtered, to compute a weighted sum of the 2j+1 data points. For example, for a 5-weight filter, the 5 weights in the kernel will be applied to 5 data points at a time, centered on the point being filtered. j will have the values -2, -1, 0, 1, and 2. The value produced by the convolution of the 5-weight kernel and those 5 data points will be the filtered version of the data point being filtered. You'll move that kernel along the vector of original data points (Unfilteredt) to create the vector of filtered data points (Filteredt).\n",
    "\n",
    "In the type of filter we're discussing, the weights in the kernel are symmetrical: the weight at -j and the weight at +j are the same, the weight at -2j and the weight at +2j are the same, etc. That's not a requirement of convolution, but it accomplishes some nice things in terms of filter design. (Filter design means selecting weights based on the desired impact on the timeseries being filtered.) One can design a filter with asymmetrical weights and/or apply the weights to an asymmetrical number of data points before and after the data point being filtered, but we're not discussing those or other options in filter design.\n",
    "\n",
    "More reminders, and repeating ourselves a bit: Typically,\n",
    "Filteredt and Unfilteredt are the same length (Filteredt may be a bit shorter, as some filters are\n",
    "not applicable near the ends of the time series), and the kernel K is much shorter. As shown above, the\n",
    "sample period (distance in time between the points in Unfilteredt), the number of weights, and the\n",
    "values of those weights affect the gain function of the filter. 2j+1 input data points (a portion of vector\n",
    "Unfilteredt) will be included in the computation of each filtered output point (to be stored in vector\n",
    "Filteredt). Each value in Filteredt is computed by convolving the 2j+1 weights in the kernel K with 2j+1\n",
    "values in Unfilteredt. Convolution is the sum of the cross-products of the kernel weights and corresponding\n",
    "Unfilteredt values (i.e., the dot product):\n",
    "    \n",
    "Filteredt = $\\sum\\limits_{i=-j}^{j}$ Ki Unfilteredt + i\n",
    "\n",
    "This is the type of filter we applied for the moving average filters. The variable 'K' is the kernel width\n",
    "(e.g., 5 values, or 11 values, or 3007 values, or whatever you choose) that is applied.\n",
    "\n",
    "In the moving-average filters we’ve discussed so far, all the values comprising the vector ‘K’ (the\n",
    "weights) were the same. Do all values comprising the vector 'K' have to be the same?"
   ]
  },
  {
   "cell_type": "markdown",
   "metadata": {},
   "source": [
    "### <font color=red>DSP.03.G2.h) Convolving (just a big word for multiplying and then adding the products)</font>"
   ]
  },
  {
   "cell_type": "markdown",
   "metadata": {},
   "source": [
    "The text below describes how to design a nonrecursive filter (a.k.a. a Finite Impulse Response (FIR)\n",
    "filter).\n",
    "\n",
    "Let vector K (the kernel) consist of 2j+1 weights (subscripted -j to +j) that will be used to compute\n",
    "output vector Filteredt (filtered timeseries) from input vector Unfilteredt (unfiltered timeseries). Typically,\n",
    "Filteredt and Unfilteredt are the same length (Filteredt may be a bit shorter, as some filters are\n",
    "not applicable near the ends of the time series), and the kernel K is much shorter. As shown above, the\n",
    "sample period (distance in time between the points in Unfilteredt), the number of weights, and the\n",
    "values of those weights affect the gain function of the filter. 2j+1 input data points (a portion of vector\n",
    "Unfilteredt) will be included in the computation of each filtered output point (to be stored in vector\n",
    "Filteredt). Each value in Filteredt is computed by convolving the 2j+1 weights in the kernel K with 2j+1\n",
    "values in Unfilteredt. Convolution is the sum of the cross-products of the kernel weights and corresponding Unfilteredt values (i.e., the dot product):\n",
    "\n",
    "Filteredt = $\\sum\\limits_{i=-j}^{j}$ Ki Unfilteredt + i\n",
    "\n",
    "The text above says that, \"Typically, Filteredt and Unfilteredt are the same length (Filteredt may\n",
    "be a bit shorter, as some filters are not applicable near the ends of the timeseries)...\". Write a sentence or two describing why Filteredt may be a bit shorter than Unfilteredt. In particular, why do we often\n",
    "run into problems near the ends of the timeseries? (There are solutions to those problems, not perfect solutions, beyond the scope of what we're discussing here.)"
   ]
  },
  {
   "cell_type": "markdown",
   "metadata": {},
   "source": [
    "### <font color=red>DSP.03.G2.i) Convolving (just a big word for multiplying and then adding the products)</font>"
   ]
  },
  {
   "cell_type": "markdown",
   "metadata": {},
   "source": [
    "In the text above, it is noted that the kernel consists of 2j+1 weights.\n",
    "\n",
    "Notice that nothing in the text says the kernel weights have to be the same (though they are for the moving-average filter).\n",
    "\n",
    "Notice that nothing in the text says the kernel weights have to be the reciprocal of the length of the\n",
    "timeseries (though they are for the moving-average filter).\n",
    "\n",
    "Look at the timeseries examined above."
   ]
  },
  {
   "cell_type": "code",
   "execution_count": null,
   "metadata": {},
   "outputs": [],
   "source": [
    "time = np.arange(0,1,1/300)\n",
    "freq1 = 2\n",
    "freq2 = 12\n",
    "freq3 = 16\n",
    "freq4 = 33\n",
    "freq5 = 38\n",
    "freq6 = 40\n",
    "freq7 = 43\n",
    "freq8 = 75\n",
    "\n",
    "timeseries = np.sin(2*np.pi * freq1 * time) + np.sin(2*np.pi * freq2 * time) + np.sin(2*np.pi * freq3 * time) \\\n",
    "          + np.sin(2*np.pi * freq4 * time) + np.sin(2*np.pi * freq5 * time) + np.sin(2*np.pi * freq6 * time) \\\n",
    "          + np.sin(2*np.pi * freq7 * time) + np.sin(2*np.pi * freq8 * time)  \n",
    "\n",
    "make_plot_1(time,timeseries)\n",
    "plt.text(1,0,'1 sec',fontsize=15)\n",
    "plt.show()"
   ]
  },
  {
   "cell_type": "markdown",
   "metadata": {},
   "source": [
    "Create your very own kernel with unequal weights and use this kernel to filter the timeseries.\n",
    "Overlay the power spectrum and comment on the effect of your filter. (Feel free to try any pattern of weights you'd like - symmetrical, or rising linearly, or consisting of a sine wave, or whatever - but then try to understand why your custom filter did what it did.)"
   ]
  }
 ],
 "metadata": {
  "kernelspec": {
   "display_name": "Python 3 (ipykernel)",
   "language": "python",
   "name": "python3"
  },
  "language_info": {
   "codemirror_mode": {
    "name": "ipython",
    "version": 3
   },
   "file_extension": ".py",
   "mimetype": "text/x-python",
   "name": "python",
   "nbconvert_exporter": "python",
   "pygments_lexer": "ipython3",
   "version": "3.11.4"
  }
 },
 "nbformat": 4,
 "nbformat_minor": 4
}
