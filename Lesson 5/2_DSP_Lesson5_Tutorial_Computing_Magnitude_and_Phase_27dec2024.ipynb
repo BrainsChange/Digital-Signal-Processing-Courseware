{
 "cells": [
  {
   "cell_type": "markdown",
   "metadata": {},
   "source": [
    "#### Digital Signal Processing Courseware: An Introduction (copyright © 2024)\n",
    "## Authors: J. Christopher Edgar and Gregory A. Miller\n",
    "\n",
    "Originally written in Mathematica by J. Christopher Edgar. Conversion to Jupyter Notebook by Song Liu.\n",
    "\n",
    "The authors of this courseware are indebted to Prof. Bruce Carpenter (University of Illinois Urbana-Champaign). Bruce inspired the creation of this courseware, he consulted with the authors as this courseware was being developed, and he provided the original version of the code and text for several sections of this courseware (e.g. the section on complex numbers and the section on normal distributions). "
   ]
  },
  {
   "cell_type": "markdown",
   "metadata": {},
   "source": [
    "# <font color=red>DSP.05 Computing Magnitude and Phase</font>"
   ]
  },
  {
   "cell_type": "markdown",
   "metadata": {},
   "source": [
    "# <font color=red>TUTORIALS</font>"
   ]
  },
  {
   "cell_type": "markdown",
   "metadata": {},
   "source": [
    "### Setup"
   ]
  },
  {
   "cell_type": "code",
   "execution_count": null,
   "metadata": {},
   "outputs": [],
   "source": [
    "# general imports\n",
    "import numpy as np\n",
    "import matplotlib.pyplot as plt\n",
    "from matplotlib import image as img\n",
    "from matplotlib import cm\n",
    "from mpl_toolkits import mplot3d\n",
    "from scipy.fft import fft, fftfreq\n",
    "import matplotlib.patches as patches\n",
    "import math\n",
    "import cmath\n",
    "import pandas as pd\n",
    "\n",
    "import warnings\n",
    "warnings.filterwarnings('ignore')\n",
    "\n",
    "# Figure size and general parameters\n",
    "plt.rc(\"figure\", figsize=(8, 6))\n",
    "\n",
    "#function to create time course figure\n",
    "#one waveform\n",
    "def make_plot_1(x1,y1,type=\"b\"): \n",
    "    plt.plot(x1, y1,type)\n",
    "    plt.margins(x=0, y=0)\n",
    "    plt.axhline(y=0, color='k')\n",
    "    plt.tick_params(labelbottom = False, bottom = False)\n",
    "    \n",
    "#two overlaid waveforms with red and blue   \n",
    "def make_plot_2(x1,y1,type1,x2,y2,type2): \n",
    "    plt.plot(x1, y1, type1)\n",
    "    plt.plot(x2, y2, type2)\n",
    "    plt.margins(x=0, y=0)\n",
    "    plt.axhline(y=0, color='k')\n",
    "    plt.tick_params(labelbottom = False, bottom = False)\n",
    "    \n",
    "#three overlaid waveforms with red, blue, and green   \n",
    "def make_plot_3(x1,y1,type1,x2,y2,type2,x3,y3,type3): \n",
    "    plt.plot(x1, y1, type1)\n",
    "    plt.plot(x2, y2, type2)\n",
    "    plt.plot(x3, y3, type3)\n",
    "    plt.margins(x=0, y=0)\n",
    "    plt.axhline(y=0, color='k')\n",
    "    plt.tick_params(labelbottom = False, bottom = False)\n",
    "    \n",
    "def make_plot_3d(ax,x,y,z):    \n",
    "    ax.contour3D(x, y, z, 50, cmap=cm.coolwarm)\n",
    "    ax.set_xlabel('x')\n",
    "    ax.set_ylabel('y')\n",
    "    ax.set_zlabel('z')\n",
    "    \n",
    "def make_plot_freq_1(x1,sample_rate, duration=1): \n",
    "    N = sample_rate * duration\n",
    "    Nhalf = math.ceil(N/2)\n",
    "    yf = fft(x1)\n",
    "    xf = fftfreq(N, 1 / sample_rate)\n",
    "    yf = yf[0:Nhalf]\n",
    "    xf = xf[0:Nhalf]\n",
    "    plt.plot(xf, np.abs(yf))\n",
    "    \n",
    "#two spectrums\n",
    "def make_plot_freq_2(x1,x2,sample_rate, duration=1): \n",
    "    N = sample_rate * duration\n",
    "    Nhalf = math.ceil(N/2)\n",
    "    yf1 = fft(x1)\n",
    "    yf2 = fft(x2)\n",
    "    xf = fftfreq(N, 1 / sample_rate)\n",
    "\n",
    "    yf1 = yf1[0:Nhalf]\n",
    "    yf2 = yf2[0:Nhalf]\n",
    "    xf = xf[0:Nhalf]\n",
    "\n",
    "    plt.plot(xf, np.abs(yf1))\n",
    "    plt.plot(xf, np.abs(yf2), color = 'r')\n",
    "    \n",
    "def make_imshow(x):\n",
    "    plt.imshow(x,cmap='Greys_r')\n",
    "    plt.tick_params(labelbottom = False, bottom = False)\n",
    "    plt.tick_params(labelleft = False, left = False)\n",
    "    \n",
    "def make_imshow_color(x):\n",
    "    plt.imshow(x)\n",
    "    plt.tick_params(labelbottom = False, bottom = False)\n",
    "    plt.tick_params(labelleft = False, left = False)\n",
    "    \n",
    "def round_complex(x):\n",
    "    return complex(np.round(x.real,4),np.round(x.imag,4))\n",
    " \n",
    "\n",
    "unknownfreq1 = 3\n",
    "unknownmag1 = 5\n",
    "unknownphase1 =np.pi/4\n",
    "unknownfreq2 = 2\n",
    "unknownmag2 = 3\n",
    "unknownphase2 =np.pi/2\n",
    "unknownfreq3 = 4\n",
    "unknownmag3 = 8\n",
    "unknownphase3 =np.pi/6\n",
    "unknownfreq4 = 5\n",
    "unknownmag4 = 4\n",
    "unknownphase4 = 2*np.pi "
   ]
  },
  {
   "cell_type": "markdown",
   "metadata": {},
   "source": [
    "## <font color=red>DSP.05.T1) Spatial Patterns: Multiplying Sine Waves of the Same Frequency but Different Phase</font>"
   ]
  },
  {
   "cell_type": "markdown",
   "metadata": {},
   "source": [
    "### <font color=red>DSP.05.T1.a) Multiplying Sine Waves to Create a Spatial Series</font>"
   ]
  },
  {
   "cell_type": "markdown",
   "metadata": {},
   "source": [
    "Create a spatial pattern with a 10-cycle frequency on one axis and a 5-cycle frequency on the other\n",
    "axis."
   ]
  },
  {
   "cell_type": "code",
   "execution_count": null,
   "metadata": {},
   "outputs": [],
   "source": [
    "x = np.arange(0,1, 0.001)\n",
    "y = np.arange(0,1, 0.001)\n",
    "X, Y = np.meshgrid(x, y)\n",
    "Z = np.sin(2*np.pi * 10 * X) + np.sin(2*np.pi * 5 * Y)\n",
    "\n",
    "fig = plt.figure()\n",
    "ax = plt.axes(projection='3d')\n",
    "make_plot_3d(ax,X,Y,Z)"
   ]
  },
  {
   "cell_type": "markdown",
   "metadata": {},
   "source": [
    "Count 10 peaks in one direction and 5 peaks in the other direction.\n",
    "\n",
    "Stop and think a moment: we just switched from talking about cycles in time to cycles in space. Did you\n",
    "notice that our code didn’t change (except the plotting)? We can use the same type of sine and plotting functions, whether\n",
    "we’re talking about time or distance. How can we tell them apart? Only in what we call them. In the\n",
    "Lesson 5 Basics we SAID we were talking about time. But we COULD have said we were talking about a\n",
    "single dimension in SPACE - and nothing would’ve changed. We’re using the same arithmetic and\n",
    "sometimes even the same plots. Sometimes we think of them as representing patterns in time, sometimes\n",
    "patterns in space. Same tools. Very general tools! OK, back to work - here we’re working with 2\n",
    "functions at a time, in 2D space, and the amplitude varies in the third dimension, so we’re thinking in\n",
    "3D space...\n",
    "\n",
    "Here is the same spatial pattern from a different angle - a view with the x axis facing us."
   ]
  },
  {
   "cell_type": "code",
   "execution_count": null,
   "metadata": {},
   "outputs": [],
   "source": [
    "ax.view_init(0, 90)\n",
    "fig"
   ]
  },
  {
   "cell_type": "markdown",
   "metadata": {},
   "source": [
    "A clear 10 Hz spatial pattern in the x direction. Note that the spatial pattern oscillates above and below\n",
    "the zero line."
   ]
  },
  {
   "cell_type": "markdown",
   "metadata": {},
   "source": [
    "Here is the same spatial pattern from a different angle - a view with the y axis facing us."
   ]
  },
  {
   "cell_type": "code",
   "execution_count": null,
   "metadata": {},
   "outputs": [],
   "source": [
    "ax.view_init(0, 180)\n",
    "fig"
   ]
  },
  {
   "cell_type": "markdown",
   "metadata": {},
   "source": [
    "A clear 5 Hz spatial pattern in the y direction. Note that the spatial pattern oscillates above and below\n",
    "the zero line.\n",
    "\n",
    "If you look closely at this latest (third) plot and the one before it, you’ll notice that this one shows 5\n",
    "cycles along the width and 10 along the depth. The one before shows the opposite - 10 across the\n",
    "width, 5 across the depth. That’s because we’re looking at the same thing, just from different perspectives.\n",
    "\n",
    "We know what happens when two sine-wave timeseries of the same frequency are multiplied. Look at\n",
    "what happens in the spatial domain.\n",
    "\n",
    "Because this is a 2D spatial pattern, we need to multiply both sine-wave functions: multiple the 10 cycle\n",
    "pattern with a 10 Hz sine wave, and multiply the 5 cycle pattern with a 5 cycle sine wave."
   ]
  },
  {
   "cell_type": "code",
   "execution_count": null,
   "metadata": {},
   "outputs": [],
   "source": [
    "x = np.arange(0,1, 0.001)\n",
    "y = np.arange(0,1, 0.001)\n",
    "X, Y = np.meshgrid(x, y)\n",
    "Z = np.sin(2*np.pi * 10 * X) * np.sin(2*np.pi * 10 * X) + np.sin(2*np.pi * 5 * Y) * np.sin(2*np.pi * 5 * Y)\n",
    "\n",
    "fig = plt.figure()\n",
    "ax = plt.axes(projection='3d')\n",
    "make_plot_3d(ax,X,Y,Z)"
   ]
  },
  {
   "cell_type": "markdown",
   "metadata": {},
   "source": [
    "What is this?\n",
    "\n",
    "Here is the same spatial pattern from a different angle - the x axis is facing us."
   ]
  },
  {
   "cell_type": "code",
   "execution_count": null,
   "metadata": {},
   "outputs": [],
   "source": [
    "ax.view_init(0, 90)\n",
    "fig"
   ]
  },
  {
   "cell_type": "markdown",
   "metadata": {},
   "source": [
    "If you care to count, there are 20 peaks, and all activity is above the x axis. Like a timeseries, a spatial\n",
    "pattern of a single frequency multiplied by itself moves all activity above the x axis, because all the\n",
    "values, including the negative values, are squared."
   ]
  },
  {
   "cell_type": "markdown",
   "metadata": {},
   "source": [
    "Here is the same spatial pattern from a different angle - the y axis is facing us."
   ]
  },
  {
   "cell_type": "code",
   "execution_count": null,
   "metadata": {},
   "outputs": [],
   "source": [
    "ax.view_init(0, 180)\n",
    "fig"
   ]
  },
  {
   "cell_type": "markdown",
   "metadata": {},
   "source": [
    "If you care to count, you will find 10 peaks, and all activity is above the y axis. Like a timeseries, a\n",
    "spatial pattern of a single frequency multiplied by itself moves all activity above the y axis.\n",
    "\n",
    "Integrate to calculate the magnitude of the pattern in the x direction."
   ]
  },
  {
   "cell_type": "code",
   "execution_count": null,
   "metadata": {},
   "outputs": [],
   "source": [
    "x = np.arange(0,1, 0.001)\n",
    "a = round(sum(np.sin(2*np.pi * 10 * x) * np.sin(2*np.pi * 10 * x))*0.001,3) / 0.5\n",
    "a"
   ]
  },
  {
   "cell_type": "markdown",
   "metadata": {},
   "source": [
    "A magnitude of 1.\n",
    "\n",
    "Integrate to calculate the magnitude of the pattern in the y direction."
   ]
  },
  {
   "cell_type": "code",
   "execution_count": null,
   "metadata": {},
   "outputs": [],
   "source": [
    "y = np.arange(0,1, 0.001)\n",
    "b = round(sum(np.sin(2*np.pi * 5 * y) * np.sin(2*np.pi * 5 * y))*0.001,3) / 0.5\n",
    "b"
   ]
  },
  {
   "cell_type": "markdown",
   "metadata": {},
   "source": [
    "A magnitude of 1.\n",
    "\n",
    "Are these magnitude measures correct?"
   ]
  },
  {
   "cell_type": "markdown",
   "metadata": {},
   "source": [
    "Answer: Take a look at the plots again."
   ]
  },
  {
   "cell_type": "code",
   "execution_count": null,
   "metadata": {},
   "outputs": [],
   "source": [
    "ax.view_init(0, 90)\n",
    "fig"
   ]
  },
  {
   "cell_type": "code",
   "execution_count": null,
   "metadata": {},
   "outputs": [],
   "source": [
    "ax.view_init(0, 180)\n",
    "fig"
   ]
  },
  {
   "cell_type": "markdown",
   "metadata": {},
   "source": [
    "Hmmm...the plots suggest that the 10 Hz and 5 Hz spatial patterns oscillate +/- 2 units around the x and\n",
    "y axis. This is because, to create the spatial pattern, we added 10 cycle and 5 cycle activity, both with\n",
    "gain = 1. To obtain the final magnitude value, simply add the individual amplitudes: 1 + 1 = 2. So yes, the magnitude values we computed are correct."
   ]
  },
  {
   "cell_type": "markdown",
   "metadata": {},
   "source": [
    "### <font color=red>DSP.05.T1.b) Multiplying Sine Waves to Create a Spatial Series</font>"
   ]
  },
  {
   "cell_type": "markdown",
   "metadata": {},
   "source": [
    "Create a spatial pattern with a 15-cycle frequency on one axis and a 6-cycle frequency on the other\n",
    "axis.\n",
    "\n",
    "Set the gain of 15-cycle activity to 15 and the gain of 6-cycle activity to 10."
   ]
  },
  {
   "cell_type": "code",
   "execution_count": null,
   "metadata": {},
   "outputs": [],
   "source": [
    "x = np.arange(0,1, 0.001)\n",
    "y = np.arange(0,1, 0.001)\n",
    "X, Y = np.meshgrid(x, y)\n",
    "Z = 15 * np.sin(2*np.pi * 15 * X)  + 10 * np.sin(2*np.pi * 6 * Y) \n",
    "\n",
    "fig = plt.figure()\n",
    "ax = plt.axes(projection='3d')\n",
    "make_plot_3d(ax,X,Y,Z)"
   ]
  },
  {
   "cell_type": "markdown",
   "metadata": {},
   "source": [
    "Count 15 peaks in one direction and 6 peaks in the other direction.\n",
    "\n",
    "Here is the same spatial pattern from a different angle - the x axis is facing us."
   ]
  },
  {
   "cell_type": "code",
   "execution_count": null,
   "metadata": {},
   "outputs": [],
   "source": [
    "ax.view_init(0, 90)\n",
    "fig"
   ]
  },
  {
   "cell_type": "markdown",
   "metadata": {},
   "source": [
    "A clear 15 cycle spatial pattern in the x direction. Note that the spatial pattern oscillates above and\n",
    "below the zero line.\n",
    "\n",
    "Here is the same spatial pattern from a different angle - the y axis is facing us."
   ]
  },
  {
   "cell_type": "code",
   "execution_count": null,
   "metadata": {},
   "outputs": [],
   "source": [
    "ax.view_init(0, 180)\n",
    "fig"
   ]
  },
  {
   "cell_type": "markdown",
   "metadata": {},
   "source": [
    "A clear 6 Hz spatial pattern in the y direction. Note that the spatial pattern oscillates above and below\n",
    "the zero line.\n",
    "\n",
    "We know what happens when we multiply two sine-wave timeseries of the same frequency. Take a look\n",
    "at what happens in the spatial domain.\n",
    "\n",
    "Because this is a 2D spatial pattern, we need to multiply the 15 cycle pattern with a 15 cycle sine wave\n",
    "and the 6 cycle pattern with a 6 cycle sine wave."
   ]
  },
  {
   "cell_type": "code",
   "execution_count": null,
   "metadata": {},
   "outputs": [],
   "source": [
    "x = np.arange(0,1, 0.001)\n",
    "y = np.arange(0,1, 0.001)\n",
    "X, Y = np.meshgrid(x, y)\n",
    "Z = 15*np.sin(2*np.pi * 15 * X) * np.sin(2*np.pi * 15 * X) +  10*np.sin(2*np.pi * 6 * Y) * np.sin(2*np.pi * 6 * Y)\n",
    "\n",
    "fig = plt.figure()\n",
    "ax = plt.axes(projection='3d')\n",
    "make_plot_3d(ax,X,Y,Z)"
   ]
  },
  {
   "cell_type": "markdown",
   "metadata": {},
   "source": [
    "What is this?\n",
    "\n",
    "Here is the same spatial pattern from a different angle - the x axis is facing us."
   ]
  },
  {
   "cell_type": "code",
   "execution_count": null,
   "metadata": {},
   "outputs": [],
   "source": [
    "ax.view_init(0, 90)\n",
    "fig"
   ]
  },
  {
   "cell_type": "markdown",
   "metadata": {},
   "source": [
    "If you care to count, you will find 30 peaks, and all activity is above the x axis. This is what we should\n",
    "have anticipated.\n",
    "\n",
    "Like a timeseries, a spatial pattern of a single frequency multiplied by itself moves all activity above the\n",
    "x axis.\n",
    "\n",
    "Here is the same spatial pattern from a different angle - the y axis is facing us."
   ]
  },
  {
   "cell_type": "code",
   "execution_count": null,
   "metadata": {},
   "outputs": [],
   "source": [
    "ax.view_init(0, 180)\n",
    "fig"
   ]
  },
  {
   "cell_type": "markdown",
   "metadata": {},
   "source": [
    "If you care to count, you will find 12 peaks, and all activity is above the y axis. This is what we should\n",
    "have anticipated.\n",
    "\n",
    "Like a timeseries, a spatial pattern of a single frequency multiplied by itself moves all activity above the\n",
    "y axis.\n",
    "\n",
    "Integrate to calculate the magnitude of the pattern in the x direction."
   ]
  },
  {
   "cell_type": "code",
   "execution_count": null,
   "metadata": {},
   "outputs": [],
   "source": [
    "x = np.arange(0,1,0.001)\n",
    "a = round(sum(15*np.sin(2*np.pi * 15 * x) * np.sin(2*np.pi * 15 * x))*0.001,3) / 0.5\n",
    "a"
   ]
  },
  {
   "cell_type": "markdown",
   "metadata": {},
   "source": [
    "A magnitude value of 15.\n",
    "\n",
    "Integrate to calculate the magnitude of the pattern in the y direction."
   ]
  },
  {
   "cell_type": "code",
   "execution_count": null,
   "metadata": {},
   "outputs": [],
   "source": [
    "y = np.arange(0,1,0.001)\n",
    "b = round(sum(10*np.sin(2*np.pi * 6 * y) * np.sin(2*np.pi * 6 * y))*0.001,3) / 0.5\n",
    "b"
   ]
  },
  {
   "cell_type": "markdown",
   "metadata": {},
   "source": [
    "A magnitude value of 10.\n",
    "\n",
    "Take a look at the plots again."
   ]
  },
  {
   "cell_type": "code",
   "execution_count": null,
   "metadata": {},
   "outputs": [],
   "source": [
    "ax.view_init(0, 90)\n",
    "fig"
   ]
  },
  {
   "cell_type": "code",
   "execution_count": null,
   "metadata": {},
   "outputs": [],
   "source": [
    "ax.view_init(0, 180)\n",
    "fig"
   ]
  },
  {
   "cell_type": "markdown",
   "metadata": {},
   "source": [
    "The plots suggest that the 10 cycle and 5 cycle spatial patterns oscillate +/- 25 units around the x and y\n",
    "axis.\n",
    "\n",
    "To create the spatial pattern we added 15 cycle activity with a gain of 15, and 6 cycle activity with a gain\n",
    "of 10. To obtain the magnitude of the spatial pattern, simply add the individual amplitudes: 15 + 10 = 25."
   ]
  },
  {
   "cell_type": "markdown",
   "metadata": {},
   "source": [
    "### <font color=red>DSP.05.T1.c) Obtaining the Magnitude of Activity in a Spatial Pattern with a Phase Offset - the Problem</font>"
   ]
  },
  {
   "cell_type": "markdown",
   "metadata": {},
   "source": [
    "Return to the first spatial pattern, but this time add a 45-degree phase shift in the x direction and a 60-degree phase shift in the y direction.\n",
    "\n",
    "Create the plot where activity in each direction is multiplied by the same frequency without a phase\n",
    "offset."
   ]
  },
  {
   "cell_type": "code",
   "execution_count": null,
   "metadata": {},
   "outputs": [],
   "source": [
    "x = np.arange(0,1, 0.001)\n",
    "y = np.arange(0,1, 0.001)\n",
    "X, Y = np.meshgrid(x, y)\n",
    "Z = np.sin(2*np.pi * 10 * X + np.pi/4) * np.sin(2*np.pi * 10 * X) + np.sin(2*np.pi * 5 * Y + np.pi/3) * np.sin(2*np.pi * 5 * Y)\n",
    "\n",
    "fig = plt.figure()\n",
    "ax = plt.axes(projection='3d')\n",
    "make_plot_3d(ax,X,Y,Z)"
   ]
  },
  {
   "cell_type": "markdown",
   "metadata": {},
   "source": [
    "Notice the negative values on the z axis. In other words, there's now activity below the x-y plane."
   ]
  },
  {
   "cell_type": "code",
   "execution_count": null,
   "metadata": {},
   "outputs": [],
   "source": [
    "ax.view_init(0, 90)\n",
    "fig"
   ]
  },
  {
   "cell_type": "markdown",
   "metadata": {},
   "source": [
    "Calculate the magnitude of activity in each direction.\n",
    "\n",
    "Here is the calculation in the x direction."
   ]
  },
  {
   "cell_type": "code",
   "execution_count": null,
   "metadata": {},
   "outputs": [],
   "source": [
    "x = np.arange(0,1,0.001)\n",
    "a = round(sum(np.sin(2*np.pi * 10 * x + np.pi/4) * np.sin(2*np.pi * 10 * x))*0.001,4) / 0.5\n",
    "a"
   ]
  },
  {
   "cell_type": "markdown",
   "metadata": {},
   "source": [
    "Not quite the known value of 1.\n",
    "\n",
    "Here is the calculation in the y direction."
   ]
  },
  {
   "cell_type": "code",
   "execution_count": null,
   "metadata": {},
   "outputs": [],
   "source": [
    "y = np.arange(0,1,0.001)\n",
    "b = round(sum(np.sin(2*np.pi * 5 * y + np.pi/3) * np.sin(2*np.pi * 5 * y))*0.001,4) / 0.5\n",
    "b"
   ]
  },
  {
   "cell_type": "markdown",
   "metadata": {},
   "source": [
    "Not quite the known value of 1.\n",
    "\n",
    "This is exactly as expected. Why? Just as with a timeseries, in a spatial pattern multiplying two sine\n",
    "waves of the same frequency but with different phases does not provide an accurate measure of the\n",
    "magnitude of activity."
   ]
  },
  {
   "cell_type": "markdown",
   "metadata": {},
   "source": [
    "### <font color=red>DSP.05.T1.d) Obtaining the Magnitude of Activity in a Spatial Pattern with a Phase Offset - the Solution</font>"
   ]
  },
  {
   "cell_type": "markdown",
   "metadata": {},
   "source": [
    "Given the similarities between a timeseries and a spatial pattern, obtaining the magnitude of activity in\n",
    "the x and y directions is straightforward.\n",
    "\n",
    "Stay with the last spatial pattern but increase the gain in the x direction to 5, and the gain in the y\n",
    "direction to 9."
   ]
  },
  {
   "cell_type": "code",
   "execution_count": null,
   "metadata": {},
   "outputs": [],
   "source": [
    "x = np.arange(0,1, 0.001)\n",
    "y = np.arange(0,1, 0.001)\n",
    "X, Y = np.meshgrid(x, y)\n",
    "Z = 5*np.sin(2*np.pi * 10 * X + np.pi/4) * np.sin(2*np.pi * 10 * X) + 9* np.sin(2*np.pi * 5 * Y + np.pi/3) * np.sin(2*np.pi * 5 * Y)\n",
    "\n",
    "fig = plt.figure()\n",
    "ax = plt.axes(projection='3d')\n",
    "make_plot_3d(ax,X,Y,Z)"
   ]
  },
  {
   "cell_type": "markdown",
   "metadata": {},
   "source": [
    "Note the change in the z axis values in the plot above and in the plot below."
   ]
  },
  {
   "cell_type": "code",
   "execution_count": null,
   "metadata": {},
   "outputs": [],
   "source": [
    "ax.view_init(0, 90)\n",
    "fig"
   ]
  },
  {
   "cell_type": "markdown",
   "metadata": {},
   "source": [
    "Calculate the magnitude value associated with the sine wave in each direction.\n",
    "\n",
    "As with a timeseries example, we could go through the steps to show that, if we multiply the 10-cycle\n",
    "and 5-cycle sine waves by a sine and cosine function, then calculate the magnitude value for the sine\n",
    "and cosine component, and then calculate $\\sqrt{sin^2 + cos^2}$ , the magnitude of activity at each frequency is\n",
    "obtained.\n",
    "\n",
    "Alternatively, as with a timeseries, we could go through the steps to show that, if we multiply the 10-cycle and 5-cycle sine waves by the sine and cosine complex exponential identities, we could follow the same\n",
    "procedures to obtain the magnitude of activity at each frequency.\n",
    "\n",
    "If that is what you really want, do that. Otherwise, take the shortcut - multiply each spatial frequency\n",
    "by the complex exponential term $e^{j ω x 2 π}$.\n",
    "\n",
    "Obtain the measure of the magnitude of activity in the x direction (set ω = 10)."
   ]
  },
  {
   "cell_type": "code",
   "execution_count": null,
   "metadata": {},
   "outputs": [],
   "source": [
    "x = np.arange(0,1,0.001)\n",
    "a = round(sum(5*np.sin(2*np.pi * 10 * x + np.pi/4) * np.exp(2*np.pi * 10j * x) )*0.001,4) / 0.5\n",
    "a"
   ]
  },
  {
   "cell_type": "markdown",
   "metadata": {},
   "source": [
    "Now calculate the modulus."
   ]
  },
  {
   "cell_type": "code",
   "execution_count": null,
   "metadata": {},
   "outputs": [],
   "source": [
    "round(abs(a),2)"
   ]
  },
  {
   "cell_type": "markdown",
   "metadata": {},
   "source": [
    "Checks out - this is the x direction magnitude value.\n",
    "\n",
    "Here is the calculation of the magnitude of activity in the y direction (set ω = 5)."
   ]
  },
  {
   "cell_type": "code",
   "execution_count": null,
   "metadata": {},
   "outputs": [],
   "source": [
    "y = np.arange(0,1,0.001)\n",
    "b = round(sum(9*np.sin(2*np.pi * 5 * x + np.pi/3) * np.exp(2*np.pi * 5j * x) )*0.001,4) / 0.5\n",
    "b"
   ]
  },
  {
   "cell_type": "code",
   "execution_count": null,
   "metadata": {},
   "outputs": [],
   "source": [
    "round(abs(b),2)"
   ]
  },
  {
   "cell_type": "markdown",
   "metadata": {},
   "source": [
    "Checks out - this is the y direction magnitude value. That is all there is to it."
   ]
  },
  {
   "cell_type": "markdown",
   "metadata": {},
   "source": [
    "## <font color=red>DSP.05.T2) Obtaining the Magnitude of a 2D Spatial Pattern That Contains Two Sine Waves in Each Direction</font>"
   ]
  },
  {
   "cell_type": "markdown",
   "metadata": {},
   "source": [
    "### <font color=red>DSP.05.T2.a) Probing Spatial Data</font>"
   ]
  },
  {
   "cell_type": "markdown",
   "metadata": {},
   "source": [
    "The examples above indicate that, by multiplying a spatial pattern with the complex exponential term\n",
    "$e^{j ω x 2 π}$, the magnitude of activity at that frequency is obtained. It stands to reason that, if we encountered\n",
    "a spatial pattern of unknown frequency(ies), we could apply procedures outlined in the Basics to\n",
    "determine the unknown frequency(ies)."
   ]
  },
  {
   "cell_type": "markdown",
   "metadata": {},
   "source": [
    "Here is a spatial pattern composed of two unknown sine waves (in both the x and y directions). Using\n",
    "the same strategy used with frequencies in the time domain, find the frequencies (and associated\n",
    "magnitudes and phases)."
   ]
  },
  {
   "cell_type": "code",
   "execution_count": null,
   "metadata": {},
   "outputs": [],
   "source": [
    "x = np.arange(0,1, 0.001)\n",
    "y = np.arange(0,1, 0.001)\n",
    "X, Y = np.meshgrid(x, y)\n",
    "\n",
    "Z = unknownmag1*np.sin(2*np.pi * unknownfreq1 * X +unknownphase1) + \\\n",
    "unknownmag2*np.sin(2*np.pi * unknownfreq2 * X +unknownphase2) +  \\\n",
    "unknownmag3* np.sin(2*np.pi * unknownfreq3 * Y + unknownphase3) + \\\n",
    "unknownmag4*np.sin(2*np.pi * unknownfreq4 * Y + unknownphase4)\n",
    "\n",
    "fig = plt.figure()\n",
    "ax = plt.axes(projection='3d')\n",
    "make_plot_3d(ax,X,Y,Z)"
   ]
  },
  {
   "cell_type": "markdown",
   "metadata": {},
   "source": [
    "Feel free to modify the angle of the view.\n",
    "\n",
    "It's just a matter of plugging and chugging to find the unknown frequencies and associated magnitude\n",
    "and phase values. Let’s do it:\n",
    "\n",
    "First, assess activity in the x direction. Start at the beginning, examining the first term in the x-axis - is\n",
    "there 1-cycle activity?"
   ]
  },
  {
   "cell_type": "code",
   "execution_count": null,
   "metadata": {},
   "outputs": [],
   "source": [
    "x = np.arange(0,1, 0.001)\n",
    "a = round(sum(unknownmag1*np.sin(2*np.pi * unknownfreq1 * x + unknownphase1) * np.exp(2*np.pi * 1j * x) )*0.001,4) / 0.5\n",
    "a"
   ]
  },
  {
   "cell_type": "markdown",
   "metadata": {},
   "source": [
    "No.\n",
    "\n",
    "How about 2-cycle activity?"
   ]
  },
  {
   "cell_type": "code",
   "execution_count": null,
   "metadata": {},
   "outputs": [],
   "source": [
    "x = np.arange(0,1, 0.001)\n",
    "a = round(sum(unknownmag1*np.sin(2*np.pi * unknownfreq1 * x + unknownphase1) * np.exp(2*np.pi * 2j * x) )*0.001,4) / 0.5\n",
    "a"
   ]
  },
  {
   "cell_type": "markdown",
   "metadata": {},
   "source": [
    "No.\n",
    "\n",
    "How about 3-cycle activity?"
   ]
  },
  {
   "cell_type": "code",
   "execution_count": null,
   "metadata": {},
   "outputs": [],
   "source": [
    "x = np.arange(0,1, 0.001)\n",
    "a = round(sum(unknownmag1*np.sin(2*np.pi * unknownfreq1 * x + unknownphase1) * np.exp(2*np.pi * 3j * x) )*0.001,4) / 0.5\n",
    "a"
   ]
  },
  {
   "cell_type": "markdown",
   "metadata": {},
   "source": [
    "A hit!\n",
    "\n",
    "Calculate the magnitude and phase."
   ]
  },
  {
   "cell_type": "code",
   "execution_count": null,
   "metadata": {},
   "outputs": [],
   "source": [
    "round(abs(a),2)"
   ]
  },
  {
   "cell_type": "code",
   "execution_count": null,
   "metadata": {},
   "outputs": [],
   "source": [
    "phaseradians = round(np.arctan(np.real(a)/np.imag(a)),5)\n",
    "phasedegrees = round(phaseradians * 180 / np.pi,2)\n",
    "phasedegrees"
   ]
  },
  {
   "cell_type": "markdown",
   "metadata": {},
   "source": [
    "So far, so good. Keep moving, there is additional activity.\n",
    "\n",
    "Take the second term in the x direction. Again, start at the beginning - is there 1-cycle activity?"
   ]
  },
  {
   "cell_type": "code",
   "execution_count": null,
   "metadata": {},
   "outputs": [],
   "source": [
    "x = np.arange(0,1, 0.001)\n",
    "a = round(sum(unknownmag2*np.sin(2*np.pi * unknownfreq2 * x + unknownphase2) * np.exp(2*np.pi * 1j * x) )*0.001,4) / 0.5\n",
    "a"
   ]
  },
  {
   "cell_type": "markdown",
   "metadata": {},
   "source": [
    "No.\n",
    "\n",
    "How about 2-cycle activity?"
   ]
  },
  {
   "cell_type": "code",
   "execution_count": null,
   "metadata": {},
   "outputs": [],
   "source": [
    "x = np.arange(0,1, 0.001)\n",
    "a = round(sum(unknownmag2*np.sin(2*np.pi * unknownfreq2 * x + unknownphase2) * np.exp(2*np.pi * 2j * x) )*0.001,4) / 0.5\n",
    "a"
   ]
  },
  {
   "cell_type": "markdown",
   "metadata": {},
   "source": [
    "Bulls-eye.\n",
    "\n",
    "Calculate the magnitude and phase of the 2-cycle-per-meter activity."
   ]
  },
  {
   "cell_type": "code",
   "execution_count": null,
   "metadata": {},
   "outputs": [],
   "source": [
    "round(abs(a),2)"
   ]
  },
  {
   "cell_type": "code",
   "execution_count": null,
   "metadata": {},
   "outputs": [],
   "source": [
    "phaseradians = round(np.arctan(np.real(a)/np.imag(a)),5)\n",
    "phasedegrees = round(phaseradians * 180 / np.pi,2)\n",
    "phasedegrees"
   ]
  },
  {
   "cell_type": "markdown",
   "metadata": {},
   "source": [
    "Take stock.\n",
    "\n",
    "1st frequency = a 3-cycle sine wave with a gain of 5 and a phase offset of 45°.\n",
    "\n",
    "2nd frequency = a 2-cycle sine wave with a gain of 3 and a phase offset of 90°."
   ]
  },
  {
   "cell_type": "markdown",
   "metadata": {},
   "source": [
    "OK. Keep going. Let’s tackle the y direction.\n",
    "\n",
    "Compute the same measures for activity in the y direction. Start at the beginning with the first term in\n",
    "the y direction - is there 1-cycle activity?"
   ]
  },
  {
   "cell_type": "code",
   "execution_count": null,
   "metadata": {},
   "outputs": [],
   "source": [
    "x = np.arange(0,1, 0.001)\n",
    "a = round(sum(unknownmag3*np.sin(2*np.pi * unknownfreq3 * x + unknownphase3) * np.exp(2*np.pi * 1j * x) )*0.001,4) / 0.5\n",
    "a"
   ]
  },
  {
   "cell_type": "markdown",
   "metadata": {},
   "source": [
    "No.\n",
    "\n",
    "How about 2-cycle activity?"
   ]
  },
  {
   "cell_type": "code",
   "execution_count": null,
   "metadata": {},
   "outputs": [],
   "source": [
    "x = np.arange(0,1, 0.001)\n",
    "a = round(sum(unknownmag3*np.sin(2*np.pi * unknownfreq3 * x + unknownphase3) * np.exp(2*np.pi * 2j * x) )*0.001,4) / 0.5\n",
    "a"
   ]
  },
  {
   "cell_type": "markdown",
   "metadata": {},
   "source": [
    "No.\n",
    "\n",
    "How about 3-cycle activity? "
   ]
  },
  {
   "cell_type": "code",
   "execution_count": null,
   "metadata": {},
   "outputs": [],
   "source": [
    "x = np.arange(0,1, 0.001)\n",
    "a = round(sum(unknownmag3*np.sin(2*np.pi * unknownfreq3 * x + unknownphase3) * np.exp(2*np.pi * 3j * x) )*0.001,4) / 0.5\n",
    "a"
   ]
  },
  {
   "cell_type": "markdown",
   "metadata": {},
   "source": [
    "No.\n",
    "\n",
    "How about 4-cycle activity?"
   ]
  },
  {
   "cell_type": "code",
   "execution_count": null,
   "metadata": {},
   "outputs": [],
   "source": [
    "x = np.arange(0,1, 0.001)\n",
    "a = round(sum(unknownmag3*np.sin(2*np.pi * unknownfreq3 * x + unknownphase3) * np.exp(2*np.pi * 4j * x) )*0.001,4) / 0.5\n",
    "a"
   ]
  },
  {
   "cell_type": "markdown",
   "metadata": {},
   "source": [
    "A hit - splendific!\n",
    "\n",
    "Calculate the magnitude and phase of the 4-cycle-per-meter activity."
   ]
  },
  {
   "cell_type": "code",
   "execution_count": null,
   "metadata": {},
   "outputs": [],
   "source": [
    "round(abs(a),2)"
   ]
  },
  {
   "cell_type": "code",
   "execution_count": null,
   "metadata": {},
   "outputs": [],
   "source": [
    "phaseradians = round(np.arctan(np.real(a)/np.imag(a)),5)\n",
    "phasedegrees = round(phaseradians * 180 / np.pi,2)\n",
    "phasedegrees"
   ]
  },
  {
   "cell_type": "markdown",
   "metadata": {},
   "source": [
    "Keep moving, there is additional activity. Take the second term in the y direction.\n",
    "\n",
    "Start at the beginning - is there 1-cycle activity?"
   ]
  },
  {
   "cell_type": "code",
   "execution_count": null,
   "metadata": {},
   "outputs": [],
   "source": [
    "x = np.arange(0,1, 0.001)\n",
    "a = round(sum(unknownmag4*np.sin(2*np.pi * unknownfreq4 * x + unknownphase4) * np.exp(2*np.pi * 1j * x) )*0.001,4) / 0.5\n",
    "a"
   ]
  },
  {
   "cell_type": "markdown",
   "metadata": {},
   "source": [
    "No.\n",
    "\n",
    "How about 2-cycle activity?"
   ]
  },
  {
   "cell_type": "code",
   "execution_count": null,
   "metadata": {},
   "outputs": [],
   "source": [
    "x = np.arange(0,1, 0.001)\n",
    "a = round(sum(unknownmag4*np.sin(2*np.pi * unknownfreq4 * x + unknownphase4) * np.exp(2*np.pi * 2j * x) )*0.001,4) / 0.5\n",
    "a"
   ]
  },
  {
   "cell_type": "markdown",
   "metadata": {},
   "source": [
    "No.\n",
    "\n",
    "How about 3-cycle activity?"
   ]
  },
  {
   "cell_type": "code",
   "execution_count": null,
   "metadata": {},
   "outputs": [],
   "source": [
    "x = np.arange(0,1, 0.001)\n",
    "a = round(sum(unknownmag4*np.sin(2*np.pi * unknownfreq4 * x + unknownphase4) * np.exp(2*np.pi * 3j * x) )*0.001,4) / 0.5\n",
    "a"
   ]
  },
  {
   "cell_type": "markdown",
   "metadata": {},
   "source": [
    "No.\n",
    "\n",
    "How about 4-cycle activity?"
   ]
  },
  {
   "cell_type": "code",
   "execution_count": null,
   "metadata": {},
   "outputs": [],
   "source": [
    "x = np.arange(0,1, 0.001)\n",
    "a = round(sum(unknownmag4*np.sin(2*np.pi * unknownfreq4 * x + unknownphase4) * np.exp(2*np.pi * 4j * x) )*0.001,4) / 0.5\n",
    "a"
   ]
  },
  {
   "cell_type": "markdown",
   "metadata": {},
   "source": [
    "No.\n",
    "\n",
    "How about 5-cycle activity?"
   ]
  },
  {
   "cell_type": "code",
   "execution_count": null,
   "metadata": {},
   "outputs": [],
   "source": [
    "x = np.arange(0,1, 0.001)\n",
    "a = round(sum(unknownmag4*np.sin(2*np.pi * unknownfreq4 * x + unknownphase4) * np.exp(2*np.pi * 5j * x) )*0.001,4) / 0.5\n",
    "a"
   ]
  },
  {
   "cell_type": "markdown",
   "metadata": {},
   "source": [
    "Got it!\n",
    "\n",
    "Calculate the magnitude and phase of 5-cycle-per-meter activity."
   ]
  },
  {
   "cell_type": "code",
   "execution_count": null,
   "metadata": {},
   "outputs": [],
   "source": [
    "round(abs(a),2)"
   ]
  },
  {
   "cell_type": "code",
   "execution_count": null,
   "metadata": {},
   "outputs": [],
   "source": [
    "phaseradians = round(np.arctan(np.real(a)/np.imag(a)),5)\n",
    "phasedegrees = round(phaseradians * 180 / np.pi,2)\n",
    "phasedegrees"
   ]
  },
  {
   "cell_type": "markdown",
   "metadata": {},
   "source": [
    "#### Take stock.\n",
    "\n",
    "In the x direction, the following measures were calculated.\n",
    "\n",
    "1st frequency = a 3-cycle sine wave with a gain of 5 and a phase offset of 45°.\n",
    "\n",
    "2nd frequency = a 2-cycle sine wave with a gain of 3 and a phase offset of 90°.\n",
    "\n",
    "In the y direction, the following measures were calculated.\n",
    "\n",
    "1st frequency = a 4-cycle sine wave with a gain of 8 and a phase offset of 30°.\n",
    "\n",
    "2nd frequency = a 5-cycle sine wave with a gain of 4 and a phase offset of 0 = 360°.\n",
    "\n",
    "Use this information to create your own plot and then compare this spatial pattern of the original\n",
    "spatial pattern."
   ]
  },
  {
   "cell_type": "markdown",
   "metadata": {},
   "source": [
    "It's a drag/hassle/lot of trouble doing this manually, but it gets the job done.\n",
    "\n",
    "Reward yourself for a job well done and take a two-minute break before continuing -\n",
    "\n",
    "Get up and walk around, take a drink of water, stretch you shoulders, neck, wrist, and fingers. Stretch\n",
    "the muscles in your face - close your eyes and hold them tightly shut for 10 seconds. Open your eyes\n",
    "and then do it one more time."
   ]
  },
  {
   "cell_type": "markdown",
   "metadata": {},
   "source": [
    "## <font color=red>DSP.05.T3) Digitized Timeseries - Computing magnitude and phase from discrete timeseries</font>"
   ]
  },
  {
   "cell_type": "markdown",
   "metadata": {},
   "source": [
    "### <font color=red>DSP.05.T3.a) Obtaining Magnitude and Phase Measures from a Digitized (i.e., discrete, not continuous) Timeseries</font>"
   ]
  },
  {
   "cell_type": "markdown",
   "metadata": {},
   "source": [
    "The examples above involved functions that we conceived of as continuous. More often than not, however, we're working\n",
    "with a digitized signal (i.e., activity sampled across time or space). With a digitized timeseries, the above\n",
    "procedures are slightly modified. Sometimes it matters a lot whether you’re working with a continuous\n",
    "or discrete function, but here it’s not a big deal.\n",
    "\n",
    "Create a 10 Hz timeseries, 1 second in length, digitized at 4096 Hz. (4096 may seem like an arbitrary choice, but it's 2 to the 12th power, and sometimes having a sampling rate that's a power of 2, and a total number of samples that's a multiple of a power of 2, is helpful.)"
   ]
  },
  {
   "cell_type": "code",
   "execution_count": null,
   "metadata": {},
   "outputs": [],
   "source": [
    "time = np.arange(0,1, 1/4096)\n",
    "freq = 10\n",
    "timeseries = 3 * np.sin(2*np.pi * freq * time)\n",
    "\n",
    "make_plot_1(time,timeseries)\n",
    "plt.text(1,0,'1 sec',fontsize=15)\n",
    "plt.show()"
   ]
  },
  {
   "cell_type": "markdown",
   "metadata": {},
   "source": [
    "The timeseries is represented with 4096 datapoints over a 1-second period. As a result, the 10 Hz timeseries\n",
    "completes 10 full cycles over 4096 samples.\n",
    "\n",
    "Calculate how often a datapoint is collected."
   ]
  },
  {
   "cell_type": "code",
   "execution_count": null,
   "metadata": {},
   "outputs": [],
   "source": [
    "1/4096"
   ]
  },
  {
   "cell_type": "markdown",
   "metadata": {},
   "source": [
    "A datapoint is collected every 0.000244141 seconds = 0.244141 milliseconds. Note that this has nothing to do with the signal\n",
    "being digitized. It depends only on how often we sample. Don’t confuse the frequency of the signal\n",
    "with the frequency of the sampling we do of that signal. The Nyquist rule tells us that we should think about the relationship between those 2 frequencies - a crucial issue. But the 2 frequencies are completely different things. 4096 Hz sampling may or may not be sufficient to avoid aliasing. That depends on the relationship between the frequency of your sampling and the frequencies in the signal you're sampling, as we discussed earlier.\n",
    "\n",
    "As with a continuous timeseries, plot the magnitude of the complex values obtained by (3 Sin[10 x 2 π]) $e^{i 10 x 2 π}$ as a function of x.\n",
    "\n",
    "The way to plot the 1-second period is highlighted in red."
   ]
  },
  {
   "cell_type": "code",
   "execution_count": null,
   "metadata": {},
   "outputs": [],
   "source": [
    "time = np.arange(0,1, 1/4096)\n",
    "freq = 10\n",
    "amplitude = 3 * np.sin(2*np.pi * freq * time)\n",
    "complex_amplitude = np.exp(2*np.pi * 10j * time)\n",
    "timeseries = abs(amplitude * complex_amplitude)\n",
    "\n",
    "make_plot_1(time,timeseries,'r')\n",
    "plt.text(1,0,'1 sec',fontsize=15)\n",
    "plt.show()"
   ]
  },
  {
   "cell_type": "markdown",
   "metadata": {},
   "source": [
    "Looks just like the plot obtained by multiplying two 10 Hz sine waves (obtaining 20 peaks, all activity\n",
    "above the x axis).\n",
    "\n",
    "As with a continuous function, calculate the magnitude value across a 1-second interval. Because this is\n",
    "a discrete dataset, the interval is defined in points. So, instead of using an integral (suitable for a continuous function), we calculate the dot product (i.e., summation is used). Also, note that, instead of dividing by 4096 points, the denominator\n",
    "is 1/2 the total number of points. (That has to do with the arithmetic of spectra, not a concern here.)"
   ]
  },
  {
   "cell_type": "code",
   "execution_count": null,
   "metadata": {},
   "outputs": [],
   "source": [
    "x = np.arange(0,1, 1/4096)\n",
    "spectrum = round(sum(amplitude * complex_amplitude)*1/4096,4) / 0.5\n",
    "spectrum"
   ]
  },
  {
   "cell_type": "markdown",
   "metadata": {},
   "source": [
    "Once here, no changes are needed to compute the magnitude and phase - just use the 'abs' and the 'arcTan' functions, as we did for a continuous timeseries."
   ]
  },
  {
   "cell_type": "code",
   "execution_count": null,
   "metadata": {},
   "outputs": [],
   "source": [
    "round(abs(spectrum),2)"
   ]
  },
  {
   "cell_type": "code",
   "execution_count": null,
   "metadata": {},
   "outputs": [],
   "source": [
    "phaseradians = round(np.arctan(np.real(spectrum)/np.imag(spectrum)),5)\n",
    "phasedegrees = round(phaseradians * 180 / np.pi,2)\n",
    "phasedegrees"
   ]
  },
  {
   "cell_type": "markdown",
   "metadata": {},
   "source": [
    "The 'abs' function tells us that the magnitude of 10 Hz activity is 3 .\n",
    "\n",
    "The 'arcTan' function tells us that the phase of 10 Hz activity is 0° ."
   ]
  },
  {
   "cell_type": "markdown",
   "metadata": {},
   "source": [
    "### <font color=red>DSP.05.T3.b) Obtaining Magnitude and Phase Measures from a Digitized (i.e., discrete, not continuous) Timeseries</font>"
   ]
  },
  {
   "cell_type": "markdown",
   "metadata": {},
   "source": [
    "Here is another example.\n",
    "\n",
    "Create a 15 Hz timeseries, with gain of 20, 1 second in length, digitized at 3000 Hz."
   ]
  },
  {
   "cell_type": "code",
   "execution_count": null,
   "metadata": {},
   "outputs": [],
   "source": [
    "time = np.arange(0,1, 1/3000)\n",
    "freq = 15\n",
    "timeseries = 20 * np.sin(2*np.pi * freq * time)\n",
    "\n",
    "make_plot_1(time,timeseries)\n",
    "plt.text(1,0,'1 sec = 3000 points',fontsize=15)\n",
    "plt.show()"
   ]
  },
  {
   "cell_type": "markdown",
   "metadata": {},
   "source": [
    "The timeseries is represented with 3000 datapoints over a 1-second period. As a result, the timeseries\n",
    "completes 15 full cycles across the 3000 datapoints. Of course, it would complete 15 cycles in 1 second no matter how\n",
    "often we sampled it, since it’s a 15 Hz signal. But because we sampled it with 3000 points in 1 second,\n",
    "it’s 15 cycles over 3000 datapoints.\n",
    "\n",
    "Calculate how often a datapoint is collected."
   ]
  },
  {
   "cell_type": "code",
   "execution_count": null,
   "metadata": {},
   "outputs": [],
   "source": [
    "1/3000"
   ]
  },
  {
   "cell_type": "markdown",
   "metadata": {},
   "source": [
    "A datapoint is collected every 0.00033333 seconds.\n",
    "\n",
    "As with a continuous timeseries, plot the magnitude of the complex values obtained by (20 Sin[15 x 2 π]) $e^{i 15 x 2 π}$ as a function of x over 1 second."
   ]
  },
  {
   "cell_type": "code",
   "execution_count": null,
   "metadata": {},
   "outputs": [],
   "source": [
    "time = np.arange(0,1, 1/3000)\n",
    "freq = 15\n",
    "amplitude = 20 * np.sin(2*np.pi * freq * time)\n",
    "complex_amplitude = np.exp(2*np.pi * 15j * time)\n",
    "timeseries = abs(amplitude * complex_amplitude)\n",
    "\n",
    "make_plot_1(time,timeseries,'r')\n",
    "plt.text(1,0,'1 sec = 3000 points',fontsize=15)\n",
    "plt.show()"
   ]
  },
  {
   "cell_type": "markdown",
   "metadata": {},
   "source": [
    "Looks just like the plot obtained by multiplying two 15 Hz sine waves: 30 peaks, all activity\n",
    "above the x axis. (Reminder: the positive and negative halves of each sine-wave cycle reach a peak amplitude of +20 or -20, and the magnitude as treated here is +20 either way. In effect, the negative halves get flipped up, so 15 cycles provides 30 positive peaks in the magnitude plot.)\n",
    "\n",
    "Calculate the magnitude value across a 1-second interval. Because this is a discrete dataset, the 1-second interval is defined in points. So, instead of using an integral, the dot product (i.e., summation) is\n",
    "applied. Note that, instead of dividing by 3000, the denominator is 1/2 the total number of points."
   ]
  },
  {
   "cell_type": "code",
   "execution_count": null,
   "metadata": {},
   "outputs": [],
   "source": [
    "x = np.arange(0,1, 1/3000)\n",
    "spectrum = round(sum(amplitude * complex_amplitude)*1/3000,4) / 0.5\n",
    "spectrum"
   ]
  },
  {
   "cell_type": "markdown",
   "metadata": {},
   "source": [
    "Once we are here, no changes are needed to compute the magnitude and phase."
   ]
  },
  {
   "cell_type": "code",
   "execution_count": null,
   "metadata": {},
   "outputs": [],
   "source": [
    "round(abs(spectrum),2)"
   ]
  },
  {
   "cell_type": "code",
   "execution_count": null,
   "metadata": {},
   "outputs": [],
   "source": [
    "phaseradians = round(np.arctan(np.real(spectrum)/np.imag(spectrum)),5)\n",
    "phasedegrees = round(phaseradians * 180 / np.pi,2)\n",
    "phasedegrees"
   ]
  },
  {
   "cell_type": "markdown",
   "metadata": {},
   "source": [
    "The 'abs' function tells us that the magnitude of 15 Hz activity is 20 .\n",
    "\n",
    "The 'arcTan' function tells us that the phase of 15 Hz activity is 0°."
   ]
  },
  {
   "cell_type": "markdown",
   "metadata": {},
   "source": [
    "### <font color=red>DSP.05.T3.c) Obtaining Magnitude and Phase Measures from a Digitized (i.e., discrete, not continuous) Timeseries</font>"
   ]
  },
  {
   "cell_type": "markdown",
   "metadata": {},
   "source": [
    "Look at a slightly more complicated example.\n",
    "\n",
    "Create a 200 Hz timeseries, with gain of 10, 1 second in length, digitized at 250 Hz."
   ]
  },
  {
   "cell_type": "code",
   "execution_count": null,
   "metadata": {},
   "outputs": [],
   "source": [
    "time = np.arange(0,1, 1/250)\n",
    "freq = 200\n",
    "timeseries = 10 * np.sin(2*np.pi * freq * time)\n",
    "\n",
    "make_plot_1(time,timeseries)\n",
    "plt.text(1,0,'1 sec = 3000 points',fontsize=15)\n",
    "plt.show()"
   ]
  },
  {
   "cell_type": "markdown",
   "metadata": {},
   "source": [
    "The timeseries is represented with 250 datapoints over a 1-second period.\n",
    "\n",
    "Calculate how often a datapoint is collected."
   ]
  },
  {
   "cell_type": "code",
   "execution_count": null,
   "metadata": {},
   "outputs": [],
   "source": [
    "1/250"
   ]
  },
  {
   "cell_type": "markdown",
   "metadata": {},
   "source": [
    "A datapoint is collected every 0.004 seconds.\n",
    "\n",
    "As with a continuous timeseries, plot the magnitude of the complex values obtained by (10 Sin[200 x 2 π]) $e^{i 200 x 2 π}$ as a function of x."
   ]
  },
  {
   "cell_type": "code",
   "execution_count": null,
   "metadata": {},
   "outputs": [],
   "source": [
    "time = np.arange(0,1, 1/250)\n",
    "freq = 200\n",
    "amplitude = 10 * np.sin(2*np.pi * freq * time)\n",
    "complex_amplitude = np.exp(2*np.pi * 200j * time)\n",
    "timeseries = abs(amplitude * complex_amplitude)\n",
    "\n",
    "make_plot_1(time,timeseries,'r')\n",
    "plt.text(1,0,'1 sec',fontsize=15)\n",
    "plt.show()"
   ]
  },
  {
   "cell_type": "markdown",
   "metadata": {},
   "source": [
    "Calculate the magnitude and phase values. (Of note, the above plot looks odd. Something seems wrong - see below.)"
   ]
  },
  {
   "cell_type": "code",
   "execution_count": null,
   "metadata": {},
   "outputs": [],
   "source": [
    "x = np.arange(0,1, 1/250)\n",
    "spectrum = round(sum(amplitude * complex_amplitude)*1/250,4) / 0.5\n",
    "abs(spectrum)"
   ]
  },
  {
   "cell_type": "markdown",
   "metadata": {},
   "source": [
    "The output of the 'abs' function tells us that the magnitude of 200 Hz activity is 10.\n",
    "\n",
    "It seems like everything checks out, but did you notice a problem?"
   ]
  },
  {
   "cell_type": "markdown",
   "metadata": {},
   "source": [
    "Answer: The 200 Hz signal was sampled at 250 Hz. That is below the Nyquist sampling rate! We covered Nyquist\n",
    "in Chapter 2.\n",
    "\n",
    "Plot the frequency spectrum of the digitized signal."
   ]
  },
  {
   "cell_type": "code",
   "execution_count": null,
   "metadata": {},
   "outputs": [],
   "source": [
    "make_plot_freq_1(amplitude,250)\n",
    "\n",
    "plt.text(125,0,'Hz',fontsize=15)\n",
    "plt.show()"
   ]
  },
  {
   "cell_type": "markdown",
   "metadata": {},
   "source": [
    "A peak at 50 Hz. Why? Why not at 200 Hz? Because the Nyquist Frequency (defined as half the sampling rate, so 125 Hz in this case) is not at least twice\n",
    "as fast as the fastest frequency in the signal (200 Hz). Why does the 200 Hz signal alias to 50 Hz?\n",
    "Because 50 and 200 are equidistant from the Nyquist frequency of 125 Hz. Sometimes we say that a\n",
    "signal “folds over the Nyquist Frequency” when it aliases."
   ]
  },
  {
   "cell_type": "markdown",
   "metadata": {},
   "source": [
    "## <font color=red>DSP.05.T4) Digitized Timeseries - Computing Magnitude and Phase from a Discrete Timeseries with Noise</font>"
   ]
  },
  {
   "cell_type": "markdown",
   "metadata": {},
   "source": [
    "### <font color=red>DSP.05.T4.a) Obtaining Magnitude and Phase Measures from a Digitized Timeseries with Noise</font>"
   ]
  },
  {
   "cell_type": "markdown",
   "metadata": {},
   "source": [
    "Create a 40 Hz timeseries, with gain of 1, 1 second in length, digitized at 500 Hz."
   ]
  },
  {
   "cell_type": "code",
   "execution_count": null,
   "metadata": {},
   "outputs": [],
   "source": [
    "time = np.arange(0,1, 1/500)\n",
    "freq = 40\n",
    "timeseries = 1 * np.sin(2*np.pi * freq * time)\n",
    "make_plot_1(time,timeseries)\n",
    "plt.text(1,0,'1 sec = 500 points',fontsize=15)\n",
    "plt.show()"
   ]
  },
  {
   "cell_type": "markdown",
   "metadata": {},
   "source": [
    "In this example, over a 1-second\n",
    "interval a sample is collected every 0.002 seconds. Now create the same 40 Hz timeseries, but with random noise added. (Throughout the remainder of this section, we will create noise distributions with a mean value of 0 and a standard deviation of the distribution (the spread of width of the distribution) of 0.5. If you need a refresher, see Lesson 4 Basics for an extended discussion of random noise distributions.)"
   ]
  },
  {
   "cell_type": "code",
   "execution_count": null,
   "metadata": {},
   "outputs": [],
   "source": [
    "time = np.arange(0,1, 1/500)\n",
    "freq = 40\n",
    "noise = np.random.normal(0,0.5,len(time))\n",
    "timeseries = 1 * np.sin(2*np.pi * freq * time) + noise\n",
    "make_plot_1(time,timeseries)\n",
    "plt.text(1,0,'1 sec',fontsize=15)\n",
    "plt.show()"
   ]
  },
  {
   "cell_type": "markdown",
   "metadata": {},
   "source": [
    "Although 40 Hz activity is visible, the 40 Hz signal is distorted, because of the noise we added.\n",
    "Plot the magnitude of the complex values obtained by Sin[40 x 2 π] $e^{i 40 x 2 π}$  as a function of x."
   ]
  },
  {
   "cell_type": "code",
   "execution_count": null,
   "metadata": {},
   "outputs": [],
   "source": [
    "time = np.arange(0,1, 1/500)\n",
    "freq = 40\n",
    "noise = np.random.normal(0,.05,len(time))\n",
    "amplitude = 1 * np.sin(2*np.pi * freq * time) + noise\n",
    "complex_amplitude = np.exp(2*np.pi * 40j * time)\n",
    "timeseries = abs(amplitude * complex_amplitude)\n",
    "\n",
    "make_plot_1(time,timeseries,'r')\n",
    "plt.text(1,0,'1 sec',fontsize=15)\n",
    "plt.show()"
   ]
  },
  {
   "cell_type": "markdown",
   "metadata": {},
   "source": [
    "Looks somewhat similar to a plot obtained by multiplying two 40 Hz sine waves, in that there are 80 peaks with all\n",
    "activity above the x axis). Note that the plot runs from 0 to 500 points, because we digitized at 500 Hz.\n",
    "\n",
    "Calculate the magnitude and phase of 40 Hz activity."
   ]
  },
  {
   "cell_type": "code",
   "execution_count": null,
   "metadata": {},
   "outputs": [],
   "source": [
    "spectrum = round(sum(amplitude * complex_amplitude)*1/500,4) / 0.5\n",
    "abs(spectrum)"
   ]
  },
  {
   "cell_type": "code",
   "execution_count": null,
   "metadata": {},
   "outputs": [],
   "source": [
    "phaseradians = round(np.arctan(np.real(spectrum)/np.imag(spectrum)),5)\n",
    "phasedegrees = round(phaseradians * 180 / np.pi,2)\n",
    "phasedegrees"
   ]
  },
  {
   "cell_type": "markdown",
   "metadata": {},
   "source": [
    "This looks promising. Even though there was noise, the magnitude of 40 Hz (a gain of 1) was correctly identified."
   ]
  },
  {
   "cell_type": "markdown",
   "metadata": {},
   "source": [
    "### <font color=red>DSP.05.T4.b) Obtaining Magnitude and Phase Measures from a Digitized Timeseries with Noise</font>"
   ]
  },
  {
   "cell_type": "markdown",
   "metadata": {},
   "source": [
    "Create the same 40 Hz timeseries but this time with a gain of 0.5 (over a 1-second interval, a sample is collected every 0.002 seconds = 1/500)."
   ]
  },
  {
   "cell_type": "code",
   "execution_count": null,
   "metadata": {},
   "outputs": [],
   "source": [
    "time = np.arange(0,1, 1/500)\n",
    "freq = 40\n",
    "timeseries = 0.5 * np.sin(2*np.pi * freq * time)\n",
    "make_plot_1(time,timeseries)\n",
    "plt.text(1,0,'1 sec',fontsize=15)\n",
    "plt.show()"
   ]
  },
  {
   "cell_type": "markdown",
   "metadata": {},
   "source": [
    "The signal strength is decreased by half.\n",
    "\n",
    "Add random noise with the same amplitude as before to this decreased 40 Hz signal (again, over a 1-second interval, a sample is collected every 0.002 seconds = 1/500).\n",
    "\n",
    "Decreasing the gain by half decreases the signal-to-noise ratio (smaller signal, same noise)."
   ]
  },
  {
   "cell_type": "code",
   "execution_count": null,
   "metadata": {},
   "outputs": [],
   "source": [
    "time = np.arange(0,1, 1/500)\n",
    "freq = 40\n",
    "noise = np.random.normal(0,0.5,len(time))\n",
    "timeseries = 0.5 * np.sin(2*np.pi * freq * time) + noise\n",
    "make_plot_1(time,timeseries)\n",
    "plt.text(1,0,'1 sec',fontsize=15)\n",
    "plt.show()"
   ]
  },
  {
   "cell_type": "markdown",
   "metadata": {},
   "source": [
    "40 Hz activity is clearly present, but harder difficult to detect.\n",
    "\n",
    "As with a continuous timeseries, plot the magnitude of the complex values obtained by (0.5 Sin[40 x 2 π]) $e^{j40 x 2 π}$ as a function of x.\n",
    "\n",
    "Note the range of x values used to correctly plot this discrete timeseries."
   ]
  },
  {
   "cell_type": "code",
   "execution_count": null,
   "metadata": {},
   "outputs": [],
   "source": [
    "time = np.arange(0,1, 1/500)\n",
    "freq = 40\n",
    "noise = np.random.normal(0,0.5,len(time))\n",
    "amplitude = 0.5 * np.sin(2*np.pi * freq * time) + noise\n",
    "complex_amplitude = np.exp(2*np.pi * 40j * time)\n",
    "timeseries = abs(amplitude * complex_amplitude)\n",
    "make_plot_1(time,timeseries,'r')\n",
    "plt.text(1,0,'1 sec = 500 points',fontsize=15)\n",
    "plt.show()"
   ]
  },
  {
   "cell_type": "markdown",
   "metadata": {},
   "source": [
    "Looks somewhat similar to a plot obtained by multiplying two 40 Hz sine waves (obtaining 80 peaks with all activity above the x axis). Note that the plot runs from 0 to 500.\n",
    "\n",
    "Calculate the magnitude and phase of 40 Hz activity."
   ]
  },
  {
   "cell_type": "code",
   "execution_count": null,
   "metadata": {},
   "outputs": [],
   "source": [
    "x = np.arange(0,1, 1/500)\n",
    "spectrum = round(sum(amplitude * complex_amplitude)*1/500,4) / 0.5\n",
    "abs(spectrum)"
   ]
  },
  {
   "cell_type": "code",
   "execution_count": null,
   "metadata": {},
   "outputs": [],
   "source": [
    "phaseradians = round(np.arctan(np.real(spectrum)/np.imag(spectrum)),5)\n",
    "phasedegrees = round(phaseradians * 180 / np.pi,2)\n",
    "phasedegrees"
   ]
  },
  {
   "cell_type": "markdown",
   "metadata": {},
   "source": [
    "The output of the 'abs' function tells us that the magnitude of 40 Hz activity is approximately 0.5.\n",
    "Looks promising - despite a decreased signal-to-noise ratio, it is still possible to recover close to the correct\n",
    "magnitude value of the 40 Hz signal."
   ]
  },
  {
   "cell_type": "markdown",
   "metadata": {},
   "source": [
    "### <font color=red>DSP.05.T4.c) Obtaining Magnitude and Phase Measures from a Digitized Timeseries with Noise</font>"
   ]
  },
  {
   "cell_type": "markdown",
   "metadata": {},
   "source": [
    "Create a 40 Hz timeseries but with a gain of 0.1."
   ]
  },
  {
   "cell_type": "code",
   "execution_count": null,
   "metadata": {},
   "outputs": [],
   "source": [
    "time = np.arange(0,1, 1/500)\n",
    "freq = 40\n",
    "timeseries = 0.1 * np.sin(2*np.pi * freq * time)\n",
    "make_plot_1(time,timeseries)\n",
    "plt.text(1,0,'1 sec',fontsize=15)\n",
    "plt.show()"
   ]
  },
  {
   "cell_type": "markdown",
   "metadata": {},
   "source": [
    "Compared to when the gain was 1, the signal strength is decreased 90%.\n",
    "\n",
    "Add the same random noise to the 40 Hz signal (over a 1-second interval, a sample is collected every 0.002 seconds = 1/500).\n",
    "\n",
    "Decreasing the gain by 90% decreases the signal-to-noise ratio even more."
   ]
  },
  {
   "cell_type": "code",
   "execution_count": null,
   "metadata": {},
   "outputs": [],
   "source": [
    "time = np.arange(0,1, 1/500)\n",
    "freq = 40\n",
    "noise = np.random.normal(0,0.5,len(time))\n",
    "timeseries = 0.1 * np.sin(2*np.pi * freq * time) + noise\n",
    "make_plot_1(time,timeseries)\n",
    "plt.text(1,0,'1 sec',fontsize=15)\n",
    "plt.show()"
   ]
  },
  {
   "cell_type": "markdown",
   "metadata": {},
   "source": [
    "Is 40 Hz activity still visible?\n",
    "Plot the magnitude of the complex values obtained by (0.1 Sin[40 x 2 π]) $e^{j40 x 2 π}$ as a function of x."
   ]
  },
  {
   "cell_type": "code",
   "execution_count": null,
   "metadata": {},
   "outputs": [],
   "source": [
    "time = np.arange(0,1, 1/500)\n",
    "freq = 40\n",
    "noise = np.random.normal(0,0.5,len(time))\n",
    "amplitude = 0.1 * np.sin(2*np.pi * freq * time) + noise\n",
    "complex_amplitude = np.exp(2*np.pi * 40j * time)\n",
    "timeseries =abs(amplitude * complex_amplitude)\n",
    "make_plot_1(time,timeseries,'r')\n",
    "plt.text(1,0,'1 sec = 500 points',fontsize=15)\n",
    "plt.show()"
   ]
  },
  {
   "cell_type": "markdown",
   "metadata": {},
   "source": [
    "Calculate the magnitude and phase of 40 Hz activity."
   ]
  },
  {
   "cell_type": "code",
   "execution_count": null,
   "metadata": {},
   "outputs": [],
   "source": [
    "x = np.arange(0,1, 1/500)\n",
    "spectrum = round(sum(amplitude * complex_amplitude)*1/500,4) / 0.5\n",
    "abs(spectrum)"
   ]
  },
  {
   "cell_type": "code",
   "execution_count": null,
   "metadata": {},
   "outputs": [],
   "source": [
    "phaseradians = round(np.arctan(np.real(spectrum)/np.imag(spectrum)),5)\n",
    "phasedegrees = round(phaseradians * 180 / np.pi,2)\n",
    "phasedegrees"
   ]
  },
  {
   "cell_type": "markdown",
   "metadata": {},
   "source": [
    "The output of the 'abs' function tells us that the magnitude of 40 Hz activity is approximately 0.1. If you run the above few cells several times, so that different random noise is added each time, you'll find that just how close to 0.1 it is will vary, because it will depend on the exact random noise that was added. But despite the much smaller signal, it looks like it is possible to recover close to the correct magnitude value of the 40 Hz signal.\n",
    "\n",
    "In the next section, we will continue to concentrate on examining the effect of noise on the amplitude measure. In particular, we will examine how we can quantitatively assess whether our magnitude estimate is correct. (In the 'Give it a try' sections, we will look at the effect of noise on the phase measure. For the moment, briefly look at the phase calculations. In all of the examples there is no phase offset, so the phase measures should all be zero. But, most of the time, the phase is not zero. In later sections we will find out why.) "
   ]
  },
  {
   "cell_type": "markdown",
   "metadata": {},
   "source": [
    "### <font color=red>DSP.05.T4.d) Obtaining Magnitude and Phase Measures from a Digitized Timeseries with Noise</font>"
   ]
  },
  {
   "cell_type": "markdown",
   "metadata": {},
   "source": [
    "One last time. Create the same 40 Hz timeseries, this time with a really low gain of 0.01."
   ]
  },
  {
   "cell_type": "code",
   "execution_count": null,
   "metadata": {},
   "outputs": [],
   "source": [
    "time = np.arange(0,1, 1/500)\n",
    "freq = 40\n",
    "timeseries = 0.01 * np.sin(2*np.pi * freq * time)\n",
    "make_plot_1(time,timeseries)\n",
    "plt.text(1,0,'1 sec',fontsize=15)\n",
    "plt.show()"
   ]
  },
  {
   "cell_type": "markdown",
   "metadata": {},
   "source": [
    "Compared to when the gain was 1, signal strength is decreased 99%.\n",
    "\n",
    "Add the same random noise to this greatly reduced 40 Hz signal (over a 1 second interval a sample is collected every 0.002 seconds = 1/500).\n",
    "\n",
    "Decreasing the gain by 99% significantly decreases the signal-to-noise ratio."
   ]
  },
  {
   "cell_type": "code",
   "execution_count": null,
   "metadata": {},
   "outputs": [],
   "source": [
    "time = np.arange(0,1, 1/500)\n",
    "freq = 40\n",
    "noise = np.random.normal(0,0.5,len(time))\n",
    "timeseries = 0.01 * np.sin(2*np.pi * freq * time) + noise\n",
    "make_plot_1(time,timeseries)\n",
    "plt.text(1,0,'1 sec',fontsize=15)\n",
    "plt.show()"
   ]
  },
  {
   "cell_type": "markdown",
   "metadata": {},
   "source": [
    "Plot the absolute value of the complex values obtained by (0.01 Sin[40 x 2 π]) $e^{j40 x 2 π}$ as a function of x."
   ]
  },
  {
   "cell_type": "code",
   "execution_count": null,
   "metadata": {},
   "outputs": [],
   "source": [
    "time = np.arange(0,1, 1/500)\n",
    "freq = 40\n",
    "noise = np.random.normal(0,1,len(time))\n",
    "amplitude = 0.01 * np.sin(2*np.pi * freq * time)+noise\n",
    "complex_amplitude = np.exp(2*np.pi * 40j * time)\n",
    "timeseries =abs(amplitude * complex_amplitude)\n",
    "make_plot_1(time,timeseries,'r')\n",
    "plt.text(1,0,'1 sec = 500 points',fontsize=15)\n",
    "plt.show()"
   ]
  },
  {
   "cell_type": "markdown",
   "metadata": {},
   "source": [
    "Calculate the magnitude and phase of 40 Hz activity."
   ]
  },
  {
   "cell_type": "code",
   "execution_count": null,
   "metadata": {},
   "outputs": [],
   "source": [
    "x = np.arange(0,1, 1/500)\n",
    "spectrum = round(sum(amplitude * complex_amplitude)*1/500,4) / 0.5\n",
    "abs(spectrum)"
   ]
  },
  {
   "cell_type": "code",
   "execution_count": null,
   "metadata": {},
   "outputs": [],
   "source": [
    "phaseradians = round(np.arctan(np.real(spectrum)/np.imag(spectrum)),5)\n",
    "phasedegrees = round(phaseradians * 180 / np.pi,2)\n",
    "phasedegrees"
   ]
  },
  {
   "cell_type": "markdown",
   "metadata": {},
   "source": [
    "The output of the 'abs' fuction probably looks somewhat close to 0.01, but is it reliable? (Again, how close it is will vary with the random noise added. If you run the code a few times, you'll get different values, but they'll average close to 0.01 if you run enough of them. The lower the signal-to-noise ratio, the more times you'll typically need to run the code to get a good approximation. This is analogous to needing a bigger sample size to detect a smaller effect in statistical inference.)"
   ]
  },
  {
   "cell_type": "markdown",
   "metadata": {},
   "source": [
    "Answer: One way to examine this issue is to examine the magnitude of activity computed at other frequencies.\n",
    "We know that multiplying a noiseless 40 Hz signal with a sine wave of another frequency produces a magnitude value of zero. However, when random noise is added to the 40 Hz signal, because such noise contains activity at all frequencies, the magnitude value at other frequencies will be nonzero. So, some activity that's approximately 40 Hz is included in the noise."
   ]
  },
  {
   "cell_type": "markdown",
   "metadata": {},
   "source": [
    "Create a new 40 Hz timeseries with a gain of 0.01 plus noise. "
   ]
  },
  {
   "cell_type": "code",
   "execution_count": null,
   "metadata": {},
   "outputs": [],
   "source": [
    "time = np.arange(0,1, 1/500)\n",
    "freq = 40\n",
    "noise = np.random.normal(0,0.5,len(time))\n",
    "amplitude = 0.01 * np.sin(2*np.pi * freq * time)+noise\n",
    "complex_amplitude = np.exp(2*np.pi * 40j * time)\n",
    "timeseries =abs(amplitude * complex_amplitude)\n",
    "make_plot_1(time,timeseries,'r')\n",
    "plt.text(1,0,'1 sec = 500 points',fontsize=15)\n",
    "plt.show()"
   ]
  },
  {
   "cell_type": "markdown",
   "metadata": {},
   "source": [
    "Calculate the magnitude and phase of 40 Hz activity."
   ]
  },
  {
   "cell_type": "code",
   "execution_count": null,
   "metadata": {},
   "outputs": [],
   "source": [
    "x = np.arange(0,1, 1/500)\n",
    "spectrum = round(sum(amplitude * complex_amplitude)*1/500,4) / 0.5\n",
    "abs(spectrum)"
   ]
  },
  {
   "cell_type": "code",
   "execution_count": null,
   "metadata": {},
   "outputs": [],
   "source": [
    "phaseradians = round(np.arctan(np.real(spectrum)/np.imag(spectrum)),5)\n",
    "phasedegrees = round(phaseradians * 180 / np.pi,2)\n",
    "phasedegrees"
   ]
  },
  {
   "cell_type": "markdown",
   "metadata": {},
   "source": [
    "Keep in mind the above 40 Hz magnitude value.\n",
    "\n",
    "Although the time series does not contain 25 Hz activity, set ω = 25 and plot the magnitude of the complex values obtained by (0.01 Sin[40 x 2 π])  $e^{i25 x 2 π}$ as a function of x."
   ]
  },
  {
   "cell_type": "code",
   "execution_count": null,
   "metadata": {},
   "outputs": [],
   "source": [
    "x = np.arange(0,1, 1/500)\n",
    "complex_amplitude = np.exp(2*np.pi * 25j * time)\n",
    "spectrum = round(sum(amplitude * complex_amplitude)*1/500,4) / 0.5\n",
    "abs(spectrum)"
   ]
  },
  {
   "cell_type": "code",
   "execution_count": null,
   "metadata": {},
   "outputs": [],
   "source": [
    "phaseradians = round(np.arctan(np.real(spectrum)/np.imag(spectrum)),5)\n",
    "phasedegrees = round(phaseradians * 180 / np.pi,2)\n",
    "phasedegrees"
   ]
  },
  {
   "cell_type": "markdown",
   "metadata": {},
   "source": [
    "The magnitude of 25 Hz activity is probably approximately the value obtained for 40 Hz activity (this\n",
    "could vary, depending on the noise distribution you computed, since the code generates random numbers).\n",
    "\n",
    "Check a few other frequencies. \n",
    "\n",
    "Here is 10 Hz."
   ]
  },
  {
   "cell_type": "code",
   "execution_count": null,
   "metadata": {},
   "outputs": [],
   "source": [
    "x = np.arange(0,1, 1/500)\n",
    "complex_amplitude = np.exp(2*np.pi * 10j * time)\n",
    "spectrum = round(sum(amplitude * complex_amplitude)*1/500,4) / 0.5\n",
    "abs(spectrum)"
   ]
  },
  {
   "cell_type": "code",
   "execution_count": null,
   "metadata": {},
   "outputs": [],
   "source": [
    "phaseradians = round(np.arctan(np.real(spectrum)/np.imag(spectrum)),5)\n",
    "phasedegrees = round(phaseradians * 180 / np.pi,2)\n",
    "phasedegrees"
   ]
  },
  {
   "cell_type": "markdown",
   "metadata": {},
   "source": [
    "Here is 38 Hz."
   ]
  },
  {
   "cell_type": "code",
   "execution_count": null,
   "metadata": {},
   "outputs": [],
   "source": [
    "x = np.arange(0,1, 1/500)\n",
    "complex_amplitude = np.exp(2*np.pi * 38j * time)\n",
    "spectrum = round(sum(amplitude * complex_amplitude)*1/500,4) / 0.5\n",
    "abs(spectrum)"
   ]
  },
  {
   "cell_type": "code",
   "execution_count": null,
   "metadata": {},
   "outputs": [],
   "source": [
    "phaseradians = round(np.arctan(np.real(spectrum)/np.imag(spectrum)),5)\n",
    "phasedegrees = round(phaseradians * 180 / np.pi,2)\n",
    "phasedegrees"
   ]
  },
  {
   "cell_type": "markdown",
   "metadata": {},
   "source": [
    "The magnitude values estimated for 10 and 38 Hz are similar to what we got for 40 Hz. This is evidence that\n",
    "the 40 Hz magnitude measure is largely a measure of the background noise."
   ]
  },
  {
   "cell_type": "markdown",
   "metadata": {},
   "source": [
    "### <font color=red>DSP.05.T4.e) Judging Real Activity from Background Noise</font>"
   ]
  },
  {
   "cell_type": "markdown",
   "metadata": {},
   "source": [
    "Create the same 40 Hz timeseries with the gain set at 0.5."
   ]
  },
  {
   "cell_type": "code",
   "execution_count": null,
   "metadata": {},
   "outputs": [],
   "source": [
    "time = np.arange(0,1, 1/500)\n",
    "freq = 40\n",
    "timeseries =0.5 * np.sin(2*np.pi * freq * time)\n",
    "make_plot_1(time,timeseries)\n",
    "plt.text(1,0,'1 sec',fontsize=15)\n",
    "plt.show()"
   ]
  },
  {
   "cell_type": "markdown",
   "metadata": {},
   "source": [
    "With a gain of 0.5, the signal strength is decreased by half.\n",
    "\n",
    "Add random noise to the 40 Hz signal (over a 1-second interval a sample is collected every 0.002 seconds = 1/500)."
   ]
  },
  {
   "cell_type": "code",
   "execution_count": null,
   "metadata": {},
   "outputs": [],
   "source": [
    "time = np.arange(0,1, 1/500)\n",
    "freq = 40\n",
    "noise = np.random.normal(0,0.5, len(time))\n",
    "timeseries =0.5 * np.sin(2*np.pi * freq * time) + noise\n",
    "make_plot_1(time,timeseries)\n",
    "plt.text(1,0,'1 sec',fontsize=15)\n",
    "plt.show()"
   ]
  },
  {
   "cell_type": "markdown",
   "metadata": {},
   "source": [
    "Calculate the magnitude of 40 Hz activity."
   ]
  },
  {
   "cell_type": "code",
   "execution_count": null,
   "metadata": {},
   "outputs": [],
   "source": [
    "x = np.arange(0,1, 1/500)\n",
    "complex_amplitude = np.exp(2*np.pi * 40j * time)\n",
    "spectrum = round(sum(timeseries * complex_amplitude)*1/500,4) / 0.5\n",
    "abs(spectrum)"
   ]
  },
  {
   "cell_type": "code",
   "execution_count": null,
   "metadata": {},
   "outputs": [],
   "source": [
    "phaseradians = round(np.arctan(np.real(spectrum)/np.imag(spectrum)),5)\n",
    "phasedegrees = round(phaseradians * 180 / np.pi,2)\n",
    "phasedegrees"
   ]
  },
  {
   "cell_type": "markdown",
   "metadata": {},
   "source": [
    "The magnitude of 40 Hz activity is approximately 0.5. This is the correct value. \n",
    "\n",
    "See whether this is different than the magnitude values estimated at all other frequencies.\n",
    "\n",
    "Obtain and plot the magnitude estimate for all other frequencies."
   ]
  },
  {
   "cell_type": "code",
   "execution_count": null,
   "metadata": {},
   "outputs": [],
   "source": [
    "make_plot_freq_1(timeseries,500)\n",
    "\n",
    "plt.text(252,0,'Hz',fontsize=15)\n",
    "plt.show()"
   ]
  },
  {
   "cell_type": "markdown",
   "metadata": {},
   "source": [
    "The plot shows magnitude values from 0 to 250 Hz (we sampled at 500 Hz, so we plot only to the\n",
    "Nyquist Frequency = 250 Hz). Rerun the code below several times to see how the values change with\n",
    "each new sample of random noise."
   ]
  },
  {
   "cell_type": "code",
   "execution_count": null,
   "metadata": {},
   "outputs": [],
   "source": [
    "time = np.arange(0,1, 1/500)\n",
    "freq = 40\n",
    "noise = np.random.normal(0,0.5, len(time))\n",
    "timeseries =0.5 * np.sin(2*np.pi * freq * time) + noise\n",
    "\n",
    "\n",
    "make_plot_freq_1(timeseries,500)\n",
    "\n",
    "plt.text(252,0,'Hz',fontsize=15)\n",
    "plt.show()"
   ]
  },
  {
   "cell_type": "markdown",
   "metadata": {},
   "source": [
    "There is always a 40 Hz spike, and the measure of 40 Hz activity is distinctly different from all other\n",
    "magnitude measures. This is fairly strong qualitative evidence that our estimate of 40 Hz activity is a\n",
    "true measure of 40 Hz activity. "
   ]
  },
  {
   "cell_type": "markdown",
   "metadata": {},
   "source": [
    "### <font color=red>DSP.05.T4.f) Judging Real Activity from Background Noise</font>"
   ]
  },
  {
   "cell_type": "markdown",
   "metadata": {},
   "source": [
    "Create the same 40 Hz timeseries with a gain of 0.01. Remember, this was the gain setting for which it was not clear if our estimate was correct."
   ]
  },
  {
   "cell_type": "code",
   "execution_count": null,
   "metadata": {},
   "outputs": [],
   "source": [
    "time = np.arange(0,1, 1/500)\n",
    "freq = 40\n",
    "timeseries = 0.01 * np.sin(2*np.pi * freq * time)\n",
    "make_plot_1(time,timeseries)\n",
    "plt.text(1,0,'1 sec',fontsize=15)\n",
    "plt.show()"
   ]
  },
  {
   "cell_type": "markdown",
   "metadata": {},
   "source": [
    "The signal strength is decreased by 99%.\n",
    "\n",
    "Add random noise."
   ]
  },
  {
   "cell_type": "code",
   "execution_count": null,
   "metadata": {},
   "outputs": [],
   "source": [
    "time = np.arange(0,1, 1/500)\n",
    "freq = 40\n",
    "noise = np.random.normal(0,0.5,len(time))\n",
    "timeseries =0.01 * np.sin(2*np.pi * freq * time) + noise\n",
    "make_plot_1(time,timeseries)\n",
    "plt.text(1,0,'1 sec',fontsize=15)\n",
    "plt.show()"
   ]
  },
  {
   "cell_type": "markdown",
   "metadata": {},
   "source": [
    "Calculate the magnitude of 40 Hz activity."
   ]
  },
  {
   "cell_type": "code",
   "execution_count": null,
   "metadata": {},
   "outputs": [],
   "source": [
    "x = np.arange(0,1, 1/500)\n",
    "complex_amplitude = np.exp(2*np.pi * 40j * time)\n",
    "spectrum = round(sum(timeseries * complex_amplitude)*1/500,4) / 0.5\n",
    "abs(spectrum)"
   ]
  },
  {
   "cell_type": "code",
   "execution_count": null,
   "metadata": {},
   "outputs": [],
   "source": [
    "phaseradians = round(np.arctan(np.real(spectrum)/np.imag(spectrum)),5)\n",
    "phasedegrees = round(phaseradians * 180 / np.pi,2)\n",
    "phasedegrees"
   ]
  },
  {
   "cell_type": "markdown",
   "metadata": {},
   "source": [
    "The magnitude is probably close to the correct value (depending on the random noise added in a given run of the code), but is it a measure of the true 40 Hz signal?\n",
    "\n",
    "Obtain an estimate of the magnitude value for all other frequencies."
   ]
  },
  {
   "cell_type": "code",
   "execution_count": null,
   "metadata": {},
   "outputs": [],
   "source": [
    "make_plot_freq_1(timeseries,500)\n",
    "\n",
    "plt.text(252,0,'Hz',fontsize=15)\n",
    "plt.show()"
   ]
  },
  {
   "cell_type": "markdown",
   "metadata": {},
   "source": [
    "The plot shows magnitude values from 0 to 250 Hz (the sampling rate is 500 Hz, so we plot only to the\n",
    "Nyquist Frequency = 250 Hz). Rerun the code below to see how the magnitude values change with each\n",
    "new sample of random noise. Each time you run the code there are several dominate spikes and the\n",
    "dominate spikes move for each new sample."
   ]
  },
  {
   "cell_type": "code",
   "execution_count": null,
   "metadata": {},
   "outputs": [],
   "source": [
    "time = np.arange(0,1, 1/500)\n",
    "freq = 40\n",
    "noise = np.random.normal(0,0.5, len(time))\n",
    "timeseries =0.01 * np.sin(2*np.pi * freq * time) + noise\n",
    "\n",
    "\n",
    "make_plot_freq_1(timeseries,500)\n",
    "\n",
    "plt.text(252,0,'Hz',fontsize=15)\n",
    "plt.show()"
   ]
  },
  {
   "cell_type": "markdown",
   "metadata": {},
   "source": [
    " The 40 Hz magnitude measure is not distinctly different from magnitude measures at other frequencies.\n",
    "This is fairly strong evidence that our estimate of 40 Hz activity is not reliable - it is largely a measure\n",
    "of background noise.\n",
    "\n",
    "Change the gain value of the 40 Hz sine wave and rerun the code. \n",
    "\n",
    "At what gain value do you think it is possible to differentiate 40 Hz activity from background noise?"
   ]
  },
  {
   "cell_type": "markdown",
   "metadata": {},
   "source": [
    "### <font color=red>DSP.05.T4.g) Judging Real Activity from Background Noise</font>"
   ]
  },
  {
   "cell_type": "markdown",
   "metadata": {},
   "source": [
    "Create the same 40 Hz timeseries with the gain of 0.0001. (We’re really stacking the deck against\n",
    "ourselves!)"
   ]
  },
  {
   "cell_type": "code",
   "execution_count": null,
   "metadata": {},
   "outputs": [],
   "source": [
    "time = np.arange(0,1, 1/500)\n",
    "freq = 40\n",
    "timeseries = 0.0001 * np.sin(2*np.pi * freq * time)\n",
    "make_plot_1(time,timeseries)\n",
    "plt.text(1,0,'1 sec',fontsize=15)\n",
    "plt.show()"
   ]
  },
  {
   "cell_type": "markdown",
   "metadata": {},
   "source": [
    "So far, even that very, very small signal looks very good. But it's just a single frequency, without noise. The very clean sinusoidal pattern is evident no matter how small the signal is. Next, add random noise to the 40 Hz signal (over a 1-second interval, a sample is collected every 0.002 seconds = 1/500)."
   ]
  },
  {
   "cell_type": "code",
   "execution_count": null,
   "metadata": {},
   "outputs": [],
   "source": [
    "time = np.arange(0,1, 1/500)\n",
    "freq = 40\n",
    "noise = np.random.normal(0,0.5,len(time))\n",
    "timeseries =0.0001 * np.sin(2*np.pi * freq * time) + noise\n",
    "make_plot_1(time,timeseries)\n",
    "plt.text(1,0,'1 sec',fontsize=15)\n",
    "plt.show() "
   ]
  },
  {
   "cell_type": "markdown",
   "metadata": {},
   "source": [
    "Calculate the magnitude of 40 Hz activity."
   ]
  },
  {
   "cell_type": "code",
   "execution_count": null,
   "metadata": {},
   "outputs": [],
   "source": [
    "x =np.arange(0,1, 1/500)\n",
    "complex_amplitude = np.exp(2*np.pi * 40j * time)\n",
    "spectrum = round(sum(timeseries * complex_amplitude)*1/500,4) / 0.5\n",
    "abs(spectrum)"
   ]
  },
  {
   "cell_type": "code",
   "execution_count": null,
   "metadata": {},
   "outputs": [],
   "source": [
    "phaseradians = round(np.arctan(np.real(spectrum)/np.imag(spectrum)),5)\n",
    "phasedegrees = round(phaseradians * 180 / np.pi,2)\n",
    "phasedegrees"
   ]
  },
  {
   "cell_type": "markdown",
   "metadata": {},
   "source": [
    "The output of the 'abs' function tells us that the magnitude of 40 Hz activity is somewhat close to the correct value. \n",
    "\n",
    "Obtain a magnitude estimate for all other frequencies."
   ]
  },
  {
   "cell_type": "code",
   "execution_count": null,
   "metadata": {},
   "outputs": [],
   "source": [
    "make_plot_freq_1(timeseries,500)\n",
    "\n",
    "plt.text(252,0,'Hz',fontsize=15)\n",
    "plt.show()"
   ]
  },
  {
   "cell_type": "markdown",
   "metadata": {},
   "source": [
    "The plot shows magnitude values from 0 to 250 Hz (the sampling rate is 500 Hz, so we plot only to the\n",
    "Nyquist Frequency = 250 Hz). Rerun the code below to see how the magnitude values change with each\n",
    "new sample of random noise. Each time you run the code there are several dominate spikes, and the\n",
    "dominate spikes move for each new sample. "
   ]
  },
  {
   "cell_type": "code",
   "execution_count": null,
   "metadata": {},
   "outputs": [],
   "source": [
    "time = np.arange(0,1, 1/500)\n",
    "freq = 40\n",
    "noise = np.random.normal(0,0.5, len(time))\n",
    "timeseries = 0.0001 * np.sin(2*np.pi * freq * time) + noise\n",
    "\n",
    "\n",
    "make_plot_freq_1(timeseries,500)\n",
    "\n",
    "plt.text(252,0,'Hz',fontsize=15)\n",
    "plt.show()"
   ]
  },
  {
   "cell_type": "markdown",
   "metadata": {},
   "source": [
    "In this example, the measure of activity at 40 Hz is similar to what is observed at other frequencies. This is moderately strong qualitative evidence that our estimate of 40 Hz activity is reliable. Is there a way to more formally assess whether the 40 Hz magnitude measure is significantly different from magnitude measures of background activity?"
   ]
  },
  {
   "cell_type": "markdown",
   "metadata": {},
   "source": [
    "Answer: There are several options.\n",
    "\n",
    "One possibility is to obtain obtain several samples of the phenomena of interest, obtaining measures of the mean and variance of the magnitude measures (across samples), and then across samples examine where in this distribution the 40 Hz magnitude values fall. If the 40 Hz estimates fall at the tails of the distribution (in particular where magnitude values are large and so on the right side of the distribution), it is likely that the 40 Hz measure validly differs from the background measures.\n",
    "\n",
    "Using the same gain, obtain the magnitude values from 0 to 250 Hz."
   ]
  },
  {
   "cell_type": "code",
   "execution_count": null,
   "metadata": {},
   "outputs": [],
   "source": [
    "make_plot_freq_1(timeseries,500)\n",
    "\n",
    "plt.text(252,0,'Hz',fontsize=15)\n",
    "plt.show()"
   ]
  },
  {
   "cell_type": "markdown",
   "metadata": {},
   "source": [
    "To compute a mean and variance, select several magnitude values between 0 and 250 Hz (say 50 different frequencies) to obtain a sample of the magnitude values. From this sample, calculate the mean. Repeat this process for many difference signal + noise samples, each time selecting a new set of 50 magnitude values and then computing the mean.\n",
    "\n",
    "Here is how to accomplish the above. Below are the magnitude values from 0 to 250 Hz."
   ]
  },
  {
   "cell_type": "code",
   "execution_count": null,
   "metadata": {},
   "outputs": [],
   "source": [
    "N = 500\n",
    "Nhalf = math.ceil(N/2)\n",
    "yf = fft(timeseries)    \n",
    "yf = yf[0:Nhalf]\n",
    "allmagnitude = np.abs(yf)\n",
    "allmagnitude"
   ]
  },
  {
   "cell_type": "markdown",
   "metadata": {},
   "source": [
    "Randomly select 50 of the above magnitude values and calculate the mean. \n",
    "\n",
    "Repeat this process 1000 times, thus creating 1000 unique 40 Hz times series with a gain of 0.0001 plus noise, and each time randomly selecting 50 magnitude values and computing the mean."
   ]
  },
  {
   "cell_type": "code",
   "execution_count": null,
   "metadata": {},
   "outputs": [],
   "source": [
    "magnitudemeans = np.zeros(1000)\n",
    "for x in range(0,999):\n",
    "    magnitudemeans[x] = np.mean(np.random.choice(allmagnitude, 50, replace=False))"
   ]
  },
  {
   "cell_type": "markdown",
   "metadata": {},
   "source": [
    "Here are some of the 1000 mean values."
   ]
  },
  {
   "cell_type": "code",
   "execution_count": null,
   "metadata": {},
   "outputs": [],
   "source": [
    "np.random.choice(magnitudemeans, 5, replace=False)"
   ]
  },
  {
   "cell_type": "markdown",
   "metadata": {},
   "source": [
    "Calculate the mean and standard deviation for this distribution."
   ]
  },
  {
   "cell_type": "code",
   "execution_count": null,
   "metadata": {},
   "outputs": [],
   "source": [
    "distmean = np.mean(magnitudemeans)\n",
    "distmean"
   ]
  },
  {
   "cell_type": "code",
   "execution_count": null,
   "metadata": {},
   "outputs": [],
   "source": [
    "distdev = np.std(magnitudemeans)\n",
    "distdev"
   ]
  },
  {
   "cell_type": "markdown",
   "metadata": {},
   "source": [
    "Use the 'noise' magnitude mean and standard deviation values to plot a normal distribution."
   ]
  },
  {
   "cell_type": "code",
   "execution_count": null,
   "metadata": {},
   "outputs": [],
   "source": [
    "from scipy.stats import norm\n",
    "\n",
    "#x-axis ranges from 10 and 30 with .01 steps\n",
    "x = np.arange(0, 30, 0.01)\n",
    "\n",
    "#define normal distributions\n",
    "plt.plot(x, norm.pdf(x, distmean, distdev))\n"
   ]
  },
  {
   "cell_type": "markdown",
   "metadata": {},
   "source": [
    "We want to determine whether we are accurately estimating the magnitude of 40 Hz activity. \n",
    "Obtain 1000 estimates of the magnitude of 40 Hz activity. "
   ]
  },
  {
   "cell_type": "code",
   "execution_count": null,
   "metadata": {},
   "outputs": [],
   "source": [
    "time = np.arange(0,1, 1/500)\n",
    "freq = 40\n",
    "N = 500\n",
    "Nhalf = math.ceil(N/2)\n",
    "\n",
    "fortyActivities = np.zeros(1000)\n",
    "for x in range(0,1000): \n",
    "    noise = np.random.normal(0,0.5,len(time))\n",
    "    timeseries = 0.0001 * np.sin(2*np.pi * freq * time) + noise\n",
    "    yf = fft(timeseries)    \n",
    "    yf = yf[0:Nhalf]\n",
    "    allmagnitude = np.abs(yf)\n",
    "    fortyActivities[x] = allmagnitude[40]   \n"
   ]
  },
  {
   "cell_type": "markdown",
   "metadata": {},
   "source": [
    "Compute the 40 Hz magnitude mean and standard deviation values."
   ]
  },
  {
   "cell_type": "code",
   "execution_count": null,
   "metadata": {},
   "outputs": [],
   "source": [
    "fourtymean = np.mean(fortyActivities)\n",
    "fourtymean"
   ]
  },
  {
   "cell_type": "code",
   "execution_count": null,
   "metadata": {},
   "outputs": [],
   "source": [
    "fourtystd = np.std(fortyActivities)\n",
    "fourtystd"
   ]
  },
  {
   "cell_type": "markdown",
   "metadata": {},
   "source": [
    "Place these points on the normal distrubtion plot we created above."
   ]
  },
  {
   "cell_type": "code",
   "execution_count": null,
   "metadata": {},
   "outputs": [],
   "source": [
    "from scipy.stats import norm\n",
    "\n",
    "#x-axis ranges from 10 and 30 with .01 steps\n",
    "x = np.arange(0, 30, 0.01)\n",
    "y = np.arange(0, 40, 0.01)\n",
    "\n",
    "#define normal distributions\n",
    "plt.plot(x, norm.pdf(x, distmean, distdev))\n",
    "plt.plot(y, norm.pdf(y, fourtymean, fourtystd),'r')\n",
    "plt.scatter(fortyActivities, np.zeros(1000), c =\"g\")"
   ]
  },
  {
   "cell_type": "markdown",
   "metadata": {},
   "source": [
    "The above plot shows two normal distribution curves. (Remember that a the normal distribution describes a symmetrical plot of data around its mean value, where the width of the curve is defined by the standard deviation.)\n",
    "\n",
    "The red line shows the distribution of 40 Hz magnitude values. The green dots show the 1000 magnitude estimates of 40 Hz activity. For most of the 40 Hz estimates, the 40 Hz measure falls at the center of the noise distribution (demonstrated by the peak of the red line). This is somewhat strong quantitative evidence that the 40 Hz magnitude measure is not different from the other magnitude measures (i.e., likely noise).\n",
    "\n",
    "Outside the scope of this courseware, but if you have some knowledge of statistics, then you know we can use the noise and 40 Hz mean and standard deviation values to compute a t-test to quantify the similarity of the noise and 40 Hz magnitude distributions. "
   ]
  },
  {
   "cell_type": "markdown",
   "metadata": {},
   "source": [
    "### <font color=red>DSP.05.T4.h) Judging Real Activity from Background Noise</font>"
   ]
  },
  {
   "cell_type": "markdown",
   "metadata": {},
   "source": [
    "Create the same 40 Hz timeseries with a gain of 0.10. (Here we have a much better chance of correctly estimating the magnitude of 40 Hz activity.)"
   ]
  },
  {
   "cell_type": "code",
   "execution_count": null,
   "metadata": {},
   "outputs": [],
   "source": [
    "time = np.arange(0,1, 1/500)\n",
    "freq = 40\n",
    "timeseries =0.10 * np.sin(2*np.pi * freq * time)\n",
    "make_plot_1(time,timeseries)\n",
    "plt.text(1,0,'1 sec',fontsize=15)\n",
    "plt.show()"
   ]
  },
  {
   "cell_type": "markdown",
   "metadata": {},
   "source": [
    "Add random noise to the 40 Hz signal (over a 1-second interval a sample is collected every 0.002 seconds\n",
    "= 1/500)."
   ]
  },
  {
   "cell_type": "code",
   "execution_count": null,
   "metadata": {},
   "outputs": [],
   "source": [
    "time = np.arange(0,1, 1/500)\n",
    "freq = 40\n",
    "noise = np.random.normal(0,0.5,len(time))\n",
    "timeseries =0.10 * np.sin(2*np.pi * freq * time) + noise\n",
    "make_plot_1(time,timeseries)\n",
    "plt.text(1,0,'1 sec',fontsize=15)\n",
    "plt.show() "
   ]
  },
  {
   "cell_type": "markdown",
   "metadata": {},
   "source": [
    "Calculate the magnitude of 40 Hz activity."
   ]
  },
  {
   "cell_type": "code",
   "execution_count": null,
   "metadata": {},
   "outputs": [],
   "source": [
    "x = np.arange(0,1, 1/500)\n",
    "complex_amplitude = np.exp(2*np.pi * 40j * time)\n",
    "spectrum = round(sum(timeseries * complex_amplitude)*1/500,4) / 0.5\n",
    "abs(spectrum)"
   ]
  },
  {
   "cell_type": "code",
   "execution_count": null,
   "metadata": {},
   "outputs": [],
   "source": [
    "phaseradians = round(np.arctan(np.real(spectrum)/np.imag(spectrum)),5)\n",
    "phasedegrees = round(phaseradians * 180 / np.pi,2)\n",
    "phasedegrees"
   ]
  },
  {
   "cell_type": "markdown",
   "metadata": {},
   "source": [
    "Obtain magnitude measures for all other frequencies."
   ]
  },
  {
   "cell_type": "code",
   "execution_count": null,
   "metadata": {},
   "outputs": [],
   "source": [
    "make_plot_freq_1(timeseries,500)\n",
    "\n",
    "plt.text(252,0,'Hz',fontsize=15)\n",
    "plt.show()"
   ]
  },
  {
   "cell_type": "markdown",
   "metadata": {},
   "source": [
    "The plot shows magnitude values from 0 to 250 Hz (the sampling rate is 500 Hz, so we plot only to the\n",
    "Nyquist Frequency = 250 Hz). Rerun the code below to see how the magnitude values change with each\n",
    "new sample of random noise. Each time you run the code, there are several dominate spikes, and the\n",
    "dominate spikes move for each new sample. "
   ]
  },
  {
   "cell_type": "code",
   "execution_count": null,
   "metadata": {},
   "outputs": [],
   "source": [
    "time = np.arange(0,1, 1/500)\n",
    "freq = 40\n",
    "noise = np.random.normal(0,0.5, len(time))\n",
    "timeseries = 0.10 * np.sin(2*np.pi * freq * time) + noise\n",
    "\n",
    "\n",
    "make_plot_freq_1(timeseries,500)\n",
    "\n",
    "plt.text(252,0,'Hz',fontsize=15)\n",
    "plt.show()"
   ]
  },
  {
   "cell_type": "markdown",
   "metadata": {},
   "source": [
    "Is there a way to quantitatively examine whether the 40 Hz magnitude measure is significantly different\n",
    "from the background magnitude measures?"
   ]
  },
  {
   "cell_type": "markdown",
   "metadata": {},
   "source": [
    "Answer: Again, one possibility is to obtain measures of the mean and variance of the magnitude measures and\n",
    "then examine where in this distribution the 40 Hz magnitude measure falls. If the 40 Hz estimate falls at\n",
    "the tails of the distribution it is likely that the 40 Hz measure differs significantly from the background\n",
    "measures.\n",
    "\n",
    "Using the same gain, obtain the magnitude values from 0 to 250 Hz."
   ]
  },
  {
   "cell_type": "code",
   "execution_count": null,
   "metadata": {},
   "outputs": [],
   "source": [
    "make_plot_freq_1(timeseries,500)\n",
    "\n",
    "plt.text(252,0,'Hz',fontsize=15)\n",
    "plt.show()"
   ]
  },
  {
   "cell_type": "markdown",
   "metadata": {},
   "source": [
    "Randomly select 50 of the above magnitude values and calculate the mean. \n",
    "\n",
    "Repeat this process 1000 times, thus creating 1000 unique 40 Hz times series with a gain of 0.10 plus noise, and each time randomly selecting 50 magnitude values and computing the mean."
   ]
  },
  {
   "cell_type": "code",
   "execution_count": null,
   "metadata": {},
   "outputs": [],
   "source": [
    "magnitudemeans = np.zeros(1000)\n",
    "for x in range(0,999):\n",
    "    magnitudemeans[x] = np.mean(np.random.choice(allmagnitude, 50, replace=False))"
   ]
  },
  {
   "cell_type": "markdown",
   "metadata": {},
   "source": [
    "Here are some of the 1000 mean values."
   ]
  },
  {
   "cell_type": "code",
   "execution_count": null,
   "metadata": {},
   "outputs": [],
   "source": [
    "np.random.choice(magnitudemeans, 5, replace=False)"
   ]
  },
  {
   "cell_type": "markdown",
   "metadata": {},
   "source": [
    "Calculate the mean and standard deviation of this distribution."
   ]
  },
  {
   "cell_type": "code",
   "execution_count": null,
   "metadata": {},
   "outputs": [],
   "source": [
    "distmean = np.mean(magnitudemeans)\n",
    "distmean"
   ]
  },
  {
   "cell_type": "code",
   "execution_count": null,
   "metadata": {},
   "outputs": [],
   "source": [
    "distdev = np.std(magnitudemeans)\n",
    "distdev"
   ]
  },
  {
   "cell_type": "markdown",
   "metadata": {},
   "source": [
    "Use the above magnitude values to create a normal distribution."
   ]
  },
  {
   "cell_type": "code",
   "execution_count": null,
   "metadata": {},
   "outputs": [],
   "source": [
    "from scipy.stats import norm\n",
    "\n",
    "#x-axis ranges from 10 and 30 with .01 steps\n",
    "x = np.arange(0, 30, 0.01)\n",
    "\n",
    "#define normal distributions\n",
    "plt.plot(x, norm.pdf(x, distmean, distdev))"
   ]
  },
  {
   "cell_type": "markdown",
   "metadata": {},
   "source": [
    "We want to determine if we are accurately estimating the magnitude of 40 Hz activity. \n",
    "Obtain 1000 estimates of the magnitude of 40 Hz activity. "
   ]
  },
  {
   "cell_type": "code",
   "execution_count": null,
   "metadata": {},
   "outputs": [],
   "source": [
    "time = np.arange(0,1, 1/500)\n",
    "freq = 40\n",
    "N = 500\n",
    "Nhalf = math.ceil(N/2)\n",
    "\n",
    "fortyActivities = np.zeros(1000)\n",
    "for x in range(0,1000): \n",
    "    noise = np.random.normal(0,0.5,len(time))\n",
    "    timeseries = 0.10 * np.sin(2*np.pi * freq * time) + noise\n",
    "    yf = fft(timeseries)    \n",
    "    yf = yf[0:Nhalf]\n",
    "    allmagnitude = np.abs(yf)\n",
    "    fortyActivities[x] = allmagnitude[40]   \n"
   ]
  },
  {
   "cell_type": "markdown",
   "metadata": {},
   "source": [
    "Compute the mean and standard deviation."
   ]
  },
  {
   "cell_type": "code",
   "execution_count": null,
   "metadata": {},
   "outputs": [],
   "source": [
    "fourtymean = np.mean(fortyActivities)\n",
    "fourtymean"
   ]
  },
  {
   "cell_type": "code",
   "execution_count": null,
   "metadata": {},
   "outputs": [],
   "source": [
    "fourtystd = np.std(fortyActivities)\n",
    "fourtystd"
   ]
  },
  {
   "cell_type": "markdown",
   "metadata": {},
   "source": [
    "Place these points on the normal distrubtion plot we created above."
   ]
  },
  {
   "cell_type": "code",
   "execution_count": null,
   "metadata": {},
   "outputs": [],
   "source": [
    "from scipy.stats import norm\n",
    "\n",
    "#x-axis ranges from 10 and 30 with .01 steps\n",
    "x = np.arange(0, 30, 0.01)\n",
    "y = np.arange(0, 40, 0.01)\n",
    "\n",
    "#define normal distributions\n",
    "plt.plot(x, norm.pdf(x, distmean, distdev))\n",
    "plt.plot(y, norm.pdf(y, fourtymean, fourtystd),'r')\n",
    "plt.scatter(fortyActivities, np.zeros(1000), c =\"g\")"
   ]
  },
  {
   "cell_type": "markdown",
   "metadata": {},
   "source": [
    "For most of the estimates, the 40 Hz measure falls at the high end of the noise distribution. This is somewhat strong quantitative evidence that the 40 Hz magnitude measure is different from the other magnitude measures (i.e., likely not noise). "
   ]
  }
 ],
 "metadata": {
  "kernelspec": {
   "display_name": "Python 3 (ipykernel)",
   "language": "python",
   "name": "python3"
  },
  "language_info": {
   "codemirror_mode": {
    "name": "ipython",
    "version": 3
   },
   "file_extension": ".py",
   "mimetype": "text/x-python",
   "name": "python",
   "nbconvert_exporter": "python",
   "pygments_lexer": "ipython3",
   "version": "3.11.4"
  }
 },
 "nbformat": 4,
 "nbformat_minor": 4
}
