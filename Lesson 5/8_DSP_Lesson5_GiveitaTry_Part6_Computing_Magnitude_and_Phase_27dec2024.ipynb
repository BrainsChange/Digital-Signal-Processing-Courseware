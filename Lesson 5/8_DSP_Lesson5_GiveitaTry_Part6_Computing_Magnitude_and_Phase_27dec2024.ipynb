{
 "cells": [
  {
   "cell_type": "markdown",
   "metadata": {},
   "source": [
    "#### Digital Signal Processing Courseware: An Introduction (copyright © 2024)\n",
    "## Authors: J. Christopher Edgar and Gregory A. Miller\n",
    "\n",
    "Originally written in Mathematica by J. Christopher Edgar. Conversion to Jupyter Notebook by Song Liu.\n",
    "\n",
    "The authors of this courseware are indebted to Prof. Bruce Carpenter (University of Illinois Urbana-Champaign). Bruce inspired the creation of this courseware, he consulted with the authors as this courseware was being developed, and he provided the original version of the code and text for several sections of this courseware (e.g. the section on complex numbers and the section on normal distributions). "
   ]
  },
  {
   "cell_type": "markdown",
   "metadata": {},
   "source": [
    "# <font color=red>DSP.05 Computing Magnitude and Phase</font>"
   ]
  },
  {
   "cell_type": "markdown",
   "metadata": {},
   "source": [
    "# <font color=red>Give it a Try!</font>\n",
    "# <font color=red>Part 6</font>"
   ]
  },
  {
   "cell_type": "markdown",
   "metadata": {},
   "source": [
    "### Setup"
   ]
  },
  {
   "cell_type": "code",
   "execution_count": null,
   "metadata": {},
   "outputs": [],
   "source": [
    "# general imports\n",
    "import numpy as np\n",
    "import matplotlib.pyplot as plt\n",
    "from matplotlib import image as img\n",
    "from matplotlib import cm\n",
    "from mpl_toolkits import mplot3d\n",
    "from scipy.fft import fft, fftfreq\n",
    "import matplotlib.patches as patches\n",
    "import math\n",
    "import cmath\n",
    "import pandas as pd\n",
    "\n",
    "import warnings\n",
    "warnings.filterwarnings('ignore')\n",
    "\n",
    "# Figure size and general parameters\n",
    "plt.rc(\"figure\", figsize=(8, 6))\n",
    "\n",
    "#function to create time course figure\n",
    "#one waveform\n",
    "def make_plot_1(x1,y1,type=\"b\"): \n",
    "    plt.plot(x1, y1,type)\n",
    "    plt.margins(x=0, y=0)\n",
    "    plt.axhline(y=0, color='k')\n",
    "    plt.tick_params(labelbottom = False, bottom = False)\n",
    "    \n",
    "#two overlaid waveforms with red and blue   \n",
    "def make_plot_2(x1,y1,type1,x2,y2,type2): \n",
    "    plt.plot(x1, y1, type1)\n",
    "    plt.plot(x2, y2, type2)\n",
    "    plt.margins(x=0, y=0)\n",
    "    plt.axhline(y=0, color='k')\n",
    "    plt.tick_params(labelbottom = False, bottom = False)\n",
    "    \n",
    "#three overlaid waveforms with red, blue and green   \n",
    "def make_plot_3(x1,y1,type1,x2,y2,type2,x3,y3,type3): \n",
    "    plt.plot(x1, y1, type1)\n",
    "    plt.plot(x2, y2, type2)\n",
    "    plt.plot(x3, y3, type3)\n",
    "    plt.margins(x=0, y=0)\n",
    "    plt.axhline(y=0, color='k')\n",
    "    plt.tick_params(labelbottom = False, bottom = False)\n",
    "    \n",
    "def make_plot_3d(ax,x,y,z):    \n",
    "    ax.contour3D(x, y, z, 50, cmap=cm.coolwarm)\n",
    "    ax.set_xlabel('x')\n",
    "    ax.set_ylabel('y')\n",
    "    ax.set_zlabel('z')\n",
    "    \n",
    "def make_plot_freq_1(x1,sample_rate, duration=1): \n",
    "    N = sample_rate * duration\n",
    "    Nhalf = math.ceil(N/2)\n",
    "    yf = fft(x1)\n",
    "    xf = fftfreq(N, 1 / sample_rate)\n",
    "    yf = yf[0:Nhalf]\n",
    "    xf = xf[0:Nhalf]\n",
    "    plt.plot(xf, np.abs(yf))\n",
    "    \n",
    "#two spectrums\n",
    "def make_plot_freq_2(x1,x2,sample_rate, duration=1): \n",
    "    N = sample_rate * duration\n",
    "    Nhalf = math.ceil(N/2)\n",
    "    yf1 = fft(x1)\n",
    "    yf2 = fft(x2)\n",
    "    xf = fftfreq(N, 1 / sample_rate)\n",
    "\n",
    "    yf1 = yf1[0:Nhalf]\n",
    "    yf2 = yf2[0:Nhalf]\n",
    "    xf = xf[0:Nhalf]\n",
    "\n",
    "    plt.plot(xf, np.abs(yf1))\n",
    "    plt.plot(xf, np.abs(yf2), color = 'r')\n",
    "    \n",
    "def make_imshow(x):\n",
    "    plt.imshow(x,cmap='Greys_r')\n",
    "    plt.tick_params(labelbottom = False, bottom = False)\n",
    "    plt.tick_params(labelleft = False, left = False)\n",
    "    \n",
    "def make_imshow_color(x):\n",
    "    plt.imshow(x)\n",
    "    plt.tick_params(labelbottom = False, bottom = False)\n",
    "    plt.tick_params(labelleft = False, left = False)\n",
    "    \n",
    "def round_complex(x):\n",
    "    return complex(np.round(x.real,4),np.round(x.imag,4))"
   ]
  },
  {
   "cell_type": "markdown",
   "metadata": {},
   "source": [
    "## <font color=red>DSP.05.G6) Digitized Timeseries - Computing Phase from Discrete Timeseries with Noise</font>"
   ]
  },
  {
   "cell_type": "markdown",
   "metadata": {},
   "source": [
    "### <font color=red>DSP.05.G6.a) Obtaining Phase Measures from Digitized Timeseries with Noise</font>"
   ]
  },
  {
   "cell_type": "markdown",
   "metadata": {},
   "source": [
    "The Lesson 5 Tutorial section examined the reliability of magnitude measures when noise was added to a timeseries. This section will briefly examine the reliability of phase measures when noise is added to a timeseries.\n",
    "\n",
    "Create a 40 Hz timeseries (with gain of 2 and a 45° phase offset) with noise, 1 second in length, digitized\n",
    "at 500 Hz (over a 1-second interval, a sample is collected every 0.002 seconds = 1/500). (Throughout this section, we will create noise distributions with a mean value of 0 and a standard deviation of the distribution (the spread of width of the distribution) of 0.5. If you need a refresher, see Lesson 4 Basics for an extended discussion of random noise distributions.)"
   ]
  },
  {
   "cell_type": "code",
   "execution_count": null,
   "metadata": {},
   "outputs": [],
   "source": [
    "time = np.arange(0,1,1/500)\n",
    "freq = 40\n",
    "noise = np.random.normal(0,0.5,len(time))\n",
    "timeseries = 2 * np.sin(2*np.pi * freq * time + np.pi/4)+noise \n",
    "\n",
    "make_plot_1(time,timeseries)\n",
    "plt.text(1,0,'1 sec',fontsize=15)\n",
    "plt.show()"
   ]
  },
  {
   "cell_type": "markdown",
   "metadata": {},
   "source": [
    "Although 40 Hz activity is visible, the 40 Hz signal is distorted.\n",
    "\n",
    "Plot the absolute value of 2 *Sin[40 x 2$π$ + $π$/4 ] $e^{i 40 x 2 π}$ as a function of x. "
   ]
  },
  {
   "cell_type": "code",
   "execution_count": null,
   "metadata": {
    "scrolled": true
   },
   "outputs": [],
   "source": [
    "complex_amplitude = np.exp(2*np.pi * 40j * time)\n",
    "timeseries2 = abs(timeseries * complex_amplitude)\n",
    "\n",
    "make_plot_1(time,timeseries2,'r')\n",
    "plt.text(1,0,'1 sec',fontsize=15)\n",
    "plt.show()"
   ]
  },
  {
   "cell_type": "markdown",
   "metadata": {},
   "source": [
    "Looks generally similar to a plot obtained by multiplying two 40 Hz sine waves (obtaining 80 peaks with all\n",
    "activity above the x axis). The plot runs from 0 to 500 points.\n",
    "\n",
    "Calculate the magnitude and phase of 40 Hz activity."
   ]
  },
  {
   "cell_type": "code",
   "execution_count": null,
   "metadata": {},
   "outputs": [],
   "source": [
    "spectrum = round(sum(timeseries * complex_amplitude)*1/500,4) / 0.5\n",
    "spectrum"
   ]
  },
  {
   "cell_type": "code",
   "execution_count": null,
   "metadata": {},
   "outputs": [],
   "source": [
    "abs(spectrum)"
   ]
  },
  {
   "cell_type": "code",
   "execution_count": null,
   "metadata": {},
   "outputs": [],
   "source": [
    "phaseradians = round(np.arctan(np.real(spectrum)/np.imag(spectrum)),5)\n",
    "phasedegrees = round(phaseradians * 180 / np.pi,2)\n",
    "abs(phasedegrees)"
   ]
  },
  {
   "cell_type": "markdown",
   "metadata": {},
   "source": [
    "This looks promising. Even with the noise, the magnitude of 40 Hz (a gain of 2) was correctly identified (approximately - varies a bit depending on the exact set of random noise values added). What about\n",
    "the above complex term gives away the fact that the 40 Hz phase (45 degrees) was correctly modeled?"
   ]
  },
  {
   "cell_type": "markdown",
   "metadata": {},
   "source": [
    "### <font color=red>DSP.05.G6.b) Obtaining Phase Measures from Digitized Timeseries with Noise</font>"
   ]
  },
  {
   "cell_type": "markdown",
   "metadata": {},
   "source": [
    "Create the same 40 Hz timeseries but this time with a gain of 1. Decreasing the gain by half decreases\n",
    "the signal-to-noise ratio."
   ]
  },
  {
   "cell_type": "code",
   "execution_count": null,
   "metadata": {},
   "outputs": [],
   "source": [
    "time = np.arange(0,1,1/500)\n",
    "freq = 40\n",
    "noise = np.random.normal(0,0.5,len(time))\n",
    "timeseries = 1 * np.sin(2*np.pi * freq * time + np.pi/4)+noise \n",
    "\n",
    "make_plot_1(time,timeseries)\n",
    "plt.text(1,0,'1 sec',fontsize=15)\n",
    "plt.show()"
   ]
  },
  {
   "cell_type": "markdown",
   "metadata": {},
   "source": [
    "40 Hz activity is clearly present, but slightly difficult to observe and perhaps to detect.\n",
    "\n",
    "Plot the absolute value of (1 Sin[40 x 2$π$ + $π$/4 ]) $e^{i 40 x 2 π}$ as a function of x."
   ]
  },
  {
   "cell_type": "code",
   "execution_count": null,
   "metadata": {},
   "outputs": [],
   "source": [
    "complex_amplitude = np.exp(2*np.pi * 40j * time)\n",
    "timeseries2 = abs(timeseries * complex_amplitude)\n",
    "\n",
    "make_plot_1(time,timeseries2,'r')\n",
    "plt.text(1,0,'1 sec',fontsize=15)\n",
    "plt.show()"
   ]
  },
  {
   "cell_type": "markdown",
   "metadata": {},
   "source": [
    "Looks similar to a plot obtained by multiplying two 40 Hz sine waves (obtaining 80 peaks with all\n",
    "activity above the x-axis). The plot runs from 0 to 500 points.\n",
    "\n",
    "Calculate the magnitude and phase of 40 Hz activity."
   ]
  },
  {
   "cell_type": "code",
   "execution_count": null,
   "metadata": {},
   "outputs": [],
   "source": [
    "spectrum = round(sum(timeseries * complex_amplitude)*1/500,4) / 0.5\n",
    "spectrum"
   ]
  },
  {
   "cell_type": "code",
   "execution_count": null,
   "metadata": {},
   "outputs": [],
   "source": [
    "abs(spectrum)"
   ]
  },
  {
   "cell_type": "code",
   "execution_count": null,
   "metadata": {},
   "outputs": [],
   "source": [
    "phaseradians = round(np.arctan(np.real(spectrum)/np.imag(spectrum)),5)\n",
    "phasedegrees = round(phaseradians * 180 / np.pi,2)\n",
    "abs(phasedegrees)"
   ]
  },
  {
   "cell_type": "markdown",
   "metadata": {},
   "source": [
    "The output of the 'abs' function tells us that the magnitude of 40 Hz activity is approximately ______ .\n",
    "(fill in blank)\n",
    "\n",
    "The output of the 'arctan' function tells us that the phase of 40 Hz activity is approximately ______ .\n",
    "(fill in blank)"
   ]
  },
  {
   "cell_type": "markdown",
   "metadata": {},
   "source": [
    "What about the above complex term gives away the fact that the 40 Hz phase was more or less correctly modeled?"
   ]
  },
  {
   "cell_type": "markdown",
   "metadata": {},
   "source": [
    "### <font color=red>DSP.05.G6.c) Obtaining Phase Measures from Digitized Timeseries with Noise</font>"
   ]
  },
  {
   "cell_type": "markdown",
   "metadata": {},
   "source": [
    "Create a 40 Hz timeseries but with a gain of 0.1. Decreasing the gain by another 90% decreases the signal-to-noise\n",
    "ratio."
   ]
  },
  {
   "cell_type": "code",
   "execution_count": null,
   "metadata": {},
   "outputs": [],
   "source": [
    "time = np.arange(0,1,1/500)\n",
    "freq = 40\n",
    "noise = np.random.normal(0,0.5,len(time))\n",
    "timeseries = 0.1 * np.sin(2*np.pi * freq * time + np.pi/4)+noise  \n",
    "\n",
    "make_plot_1(time,timeseries)\n",
    "plt.text(1,0,'1 sec',fontsize=15)\n",
    "plt.show()"
   ]
  },
  {
   "cell_type": "markdown",
   "metadata": {},
   "source": [
    "This time, the 40 Hz activity that we know is in there is not clearly visible.\n",
    "Plot the absolute value of (0.1 Sin[40 x 2$π$ + $π$/4 ]) $e^{i 40 x 2 π}$ as a function of x."
   ]
  },
  {
   "cell_type": "code",
   "execution_count": null,
   "metadata": {},
   "outputs": [],
   "source": [
    "complex_amplitude = np.exp(2*np.pi * 40j * time)\n",
    "timeseries2 = abs(timeseries * complex_amplitude)\n",
    "\n",
    "make_plot_1(time,timeseries2,'r')\n",
    "plt.text(1,0,'1 sec',fontsize=15)\n",
    "plt.show()"
   ]
  },
  {
   "cell_type": "markdown",
   "metadata": {},
   "source": [
    "Calculate the magnitude and phase of 40 Hz activity."
   ]
  },
  {
   "cell_type": "code",
   "execution_count": null,
   "metadata": {},
   "outputs": [],
   "source": [
    "spectrum = round(sum(timeseries * complex_amplitude)*1/500,4) / 0.5\n",
    "spectrum"
   ]
  },
  {
   "cell_type": "code",
   "execution_count": null,
   "metadata": {},
   "outputs": [],
   "source": [
    "abs(spectrum)"
   ]
  },
  {
   "cell_type": "code",
   "execution_count": null,
   "metadata": {},
   "outputs": [],
   "source": [
    "phaseradians = round(np.arctan(np.real(spectrum)/np.imag(spectrum)),5)\n",
    "phasedegrees = round(phaseradians * 180 / np.pi,2)\n",
    "abs(phasedegrees)"
   ]
  },
  {
   "cell_type": "markdown",
   "metadata": {},
   "source": [
    "Rerun the above code a few times and examine how the magnitude and phase values change as the noise\n",
    "sample changes.\n",
    "\n",
    "What about the above complex term gives away the fact that the 40 Hz phase was not always correctly\n",
    "modeled?\n",
    "\n",
    "In addition, does the magnitude measure seem to be more accurately modeled than the phase\n",
    "measure?"
   ]
  },
  {
   "cell_type": "markdown",
   "metadata": {},
   "source": [
    "### <font color=red>DSP.05.G6.d) Obtaining Phase Measures from Digitized Timeseries with Noise</font>"
   ]
  },
  {
   "cell_type": "markdown",
   "metadata": {},
   "source": [
    "Create the same 40 Hz timeseries but this time with gain of 0.01, significantly decreasing the signal-to-noise ratio."
   ]
  },
  {
   "cell_type": "code",
   "execution_count": null,
   "metadata": {},
   "outputs": [],
   "source": [
    "time = np.arange(0,1,1/500)\n",
    "freq = 40\n",
    "noise = np.random.normal(0,0.5,len(time))\n",
    "timeseries = 0.01 * np.sin(2 * np.pi * freq * time + np.pi/4)+noise  \n",
    "\n",
    "make_plot_1(time,timeseries)\n",
    "plt.text(1,0,'1 sec',fontsize=15)\n",
    "plt.show()"
   ]
  },
  {
   "cell_type": "markdown",
   "metadata": {},
   "source": [
    "Calculate the magnitude and phase of 40 Hz activity."
   ]
  },
  {
   "cell_type": "code",
   "execution_count": null,
   "metadata": {},
   "outputs": [],
   "source": [
    "spectrum = round(sum(timeseries * complex_amplitude)*1/500,4) / 0.5\n",
    "spectrum"
   ]
  },
  {
   "cell_type": "code",
   "execution_count": null,
   "metadata": {},
   "outputs": [],
   "source": [
    "abs(spectrum)"
   ]
  },
  {
   "cell_type": "code",
   "execution_count": null,
   "metadata": {},
   "outputs": [],
   "source": [
    "phaseradians = round(np.arctan(np.real(spectrum)/np.imag(spectrum)),5)\n",
    "phasedegrees = round(phaseradians * 180 / np.pi,2)\n",
    "abs(phasedegrees)"
   ]
  },
  {
   "cell_type": "markdown",
   "metadata": {},
   "source": [
    "Rerun the above code a few times and look at how the magnitude and phase values change. \n",
    "\n",
    "What about the above complex term gives away the fact that the 40 Hz phase was not always correctly\n",
    "modeled?\n",
    "\n",
    "In addition, does the magnitude measure seem to be more accurately modeled than the phase\n",
    "measure?"
   ]
  },
  {
   "cell_type": "markdown",
   "metadata": {},
   "source": [
    "### <font color=red>DSP.05.G6.e) Judging Real Activity from Background Noise</font>"
   ]
  },
  {
   "cell_type": "markdown",
   "metadata": {},
   "source": [
    "Create a power spectrum plot for a 40 Hz signal with a gain value of 1, a 45 degree phase offset, and with noise."
   ]
  },
  {
   "cell_type": "code",
   "execution_count": null,
   "metadata": {},
   "outputs": [],
   "source": [
    "time = np.arange(0,1,1/500)\n",
    "freq = 40\n",
    "noise = np.random.normal(0,0.5,len(time))\n",
    "timeseries = 1 * np.sin(2*np.pi * freq * time + np.pi/4) + noise \n",
    "make_plot_freq_1(timeseries,500)\n",
    "\n",
    "plt.text(252,0,'Hz',fontsize=15)\n",
    "plt.show()"
   ]
  },
  {
   "cell_type": "markdown",
   "metadata": {},
   "source": [
    "The above plot shows magnitude values on the x axis from 0 to 250 Hz (we sampled at 500 Hz, so we plot only\n",
    "to the Nyquist Frequency = 250 Hz).\n",
    "\n",
    "Note that there is a 40 Hz spike and that the measure of 40 Hz activity is distinctly different from all other magnitude measures. This is fairly strong qualitative evidence that our estimate of 40 Hz activity is not simply noise.\n",
    "\n",
    "In the Lesson 5 Tutorial section, code to quantitatively assess the accuracy of our 40 Hz magnitude value was developed. We only need to make a slight modification to that Tutorial code to examine the accuracy of our 40 Hz phase measure. "
   ]
  },
  {
   "cell_type": "markdown",
   "metadata": {},
   "source": [
    "Run the below code to create a plot of phase values from 0 to 250 Hz. "
   ]
  },
  {
   "cell_type": "code",
   "execution_count": null,
   "metadata": {},
   "outputs": [],
   "source": [
    "time = np.arange(0,1,1/500)\n",
    "freq = 40\n",
    "noise = np.random.normal(0,0.5,len(time))\n",
    "\n",
    "timeseries = 1 * np.sin(2*np.pi * freq * time + np.pi/4) + noise\n",
    "sample_rate = 500\n",
    "duration = 1\n",
    "\n",
    "n = sample_rate * duration\n",
    "nhalf = round(n/2)\n",
    "\n",
    "yf = fft(timeseries)\n",
    "xf = fftfreq(n, 1 / sample_rate)\n",
    "\n",
    "yf = yf[0:nhalf]\n",
    "xf = xf[0:nhalf]\n",
    "\n",
    "phaseradians = np.arctan(np.real(yf)/np.imag(yf))\n",
    "phasedegrees = phaseradians * 180 / np.pi\n",
    "\n",
    "plt.plot(xf, phasedegrees)\n",
    "\n",
    "# Adding text to the figure\n",
    "plt.text(265,0,'Hz',fontsize=15)\n",
    "plt.show()"
   ]
  },
  {
   "cell_type": "markdown",
   "metadata": {},
   "source": [
    "The plot shows estimated phase values on the x axis from 0 to 250 Hz (we sampled at 500 Hz, so we plot\n",
    "only to the Nyquist Frequency = 250 Hz). The phase estimate is shown on the y axis, ranging from -90\n",
    "to +90 degrees (the range of phase values is +/- 90 degrees rather than +/-180 degres, as the range of arctan(x) is -$π$/2 to $π$/2). Run the code below several times to see how the phase values change with each new sample of random noise. "
   ]
  },
  {
   "cell_type": "code",
   "execution_count": null,
   "metadata": {},
   "outputs": [],
   "source": [
    "time = np.arange(0,1,1/500)\n",
    "freq = 40\n",
    "noise = np.random.normal(0,0.5,len(time))\n",
    "\n",
    "timeseries = 1 * np.sin(2*np.pi * freq * time + np.pi/4) + noise\n",
    "sample_rate = 500\n",
    "duration = 1\n",
    "\n",
    "n = sample_rate * duration\n",
    "nhalf = round(n/2)\n",
    "\n",
    "yf = fft(timeseries)\n",
    "xf = fftfreq(n, 1 / sample_rate)\n",
    "\n",
    "yf = yf[0:nhalf]\n",
    "xf = xf[0:nhalf]\n",
    "\n",
    "phaseradians = np.arctan(np.real(yf)/np.imag(yf))\n",
    "phasedegrees = phaseradians * 180 / np.pi\n",
    "\n",
    "plt.plot(xf, phasedegrees)\n",
    "\n",
    "# Adding text to the figure\n",
    "plt.text(265,0,'Hz',fontsize=15)\n",
    "plt.show()"
   ]
  },
  {
   "cell_type": "markdown",
   "metadata": {},
   "source": [
    "A feature of the above phase plot is of note. In particular, at most frequencies there is a non-zero phase value. \n",
    "\n",
    "Here is your question - why are there non-zero phase measures at the other frequencies?\n",
    "\n",
    "**Big Hint**\n",
    "\n",
    "Look at the complex values calculated at frequencies where there is no activity.\n",
    "\n",
    "Here is an estimate of the magnitude and phase of 35 Hz activity."
   ]
  },
  {
   "cell_type": "code",
   "execution_count": null,
   "metadata": {},
   "outputs": [],
   "source": [
    "complex_amplitude = np.exp(2*np.pi * 35j * time)\n",
    "spectrum = round(sum(timeseries * complex_amplitude)*1/500,4) / 0.5\n",
    "spectrum"
   ]
  },
  {
   "cell_type": "code",
   "execution_count": null,
   "metadata": {},
   "outputs": [],
   "source": [
    "abs(spectrum)"
   ]
  },
  {
   "cell_type": "code",
   "execution_count": null,
   "metadata": {},
   "outputs": [],
   "source": [
    "phaseradians = round(np.arctan(np.real(spectrum)/np.imag(spectrum)),5)\n",
    "phasedegrees = round(phaseradians * 180 / np.pi,2)\n",
    "abs(phasedegrees)"
   ]
  },
  {
   "cell_type": "markdown",
   "metadata": {},
   "source": [
    "When we compute the magnitude of 35 Hz activity, we sum the square of the real and imaginary terms. If the real and imaginary terms are near zero, the square of these terms will also be near zero. \n",
    "\n",
    "What about the complex term calculated at frequencies where there is no activity tells you that you will\n",
    "often obtain a non-zero phase measure at these frequencies? Think about what terms go into the arctan function. (If you want, examine activity at other frequencies to see that the phase measure is usually non-zero.)"
   ]
  },
  {
   "cell_type": "markdown",
   "metadata": {},
   "source": [
    "### <font color=red>DSP.05.G6.f) Judging Real Activity from Background Noise: Continued </font>"
   ]
  },
  {
   "cell_type": "markdown",
   "metadata": {},
   "source": [
    "Create a power spectrum plot for a 40 Hz signal with a gain value of 1.5, a 45 degree phase offset, and noise."
   ]
  },
  {
   "cell_type": "code",
   "execution_count": null,
   "metadata": {},
   "outputs": [],
   "source": [
    "time = np.arange(0,1,1/500)\n",
    "freq = 40\n",
    "noise = np.random.normal(0,0.5,len(time))\n",
    "\n",
    "timeseries = 1.5 * np.sin(2*np.pi * freq * time + np.pi/4) + noise\n",
    "sample_rate = 500\n",
    "duration = 1\n",
    "\n",
    "n = sample_rate * duration\n",
    "nhalf = round(n/2)\n",
    "\n",
    "yf = fft(timeseries)\n",
    "xf = fftfreq(n, 1 / sample_rate)\n",
    "\n",
    "yf = yf[0:nhalf]\n",
    "xf = xf[0:nhalf]\n",
    "\n",
    "phaseradians = np.arctan(np.real(yf)/np.imag(yf))\n",
    "phasedegrees = phaseradians * 180 / np.pi\n",
    "\n",
    "plt.plot(xf, phasedegrees)\n",
    "\n",
    "# Adding text to the figure\n",
    "plt.text(265,0,'Hz',fontsize=15)\n",
    "plt.show()"
   ]
  },
  {
   "cell_type": "markdown",
   "metadata": {},
   "source": [
    "Compute the 40 Hz magnitude and phase values. "
   ]
  },
  {
   "cell_type": "code",
   "execution_count": null,
   "metadata": {},
   "outputs": [],
   "source": [
    "complex_amplitude = np.exp(2*np.pi * 40j * time)\n",
    "spectrum = round(sum(timeseries * complex_amplitude)*1/500,4) / 0.5\n",
    "spectrum"
   ]
  },
  {
   "cell_type": "code",
   "execution_count": null,
   "metadata": {},
   "outputs": [],
   "source": [
    "abs(spectrum)"
   ]
  },
  {
   "cell_type": "code",
   "execution_count": null,
   "metadata": {},
   "outputs": [],
   "source": [
    "phaseradians = round(np.arctan(np.real(spectrum)/np.imag(spectrum)),5)\n",
    "phasedegrees = round(phaseradians * 180 / np.pi,2)\n",
    "phasedegrees"
   ]
  },
  {
   "cell_type": "markdown",
   "metadata": {},
   "source": [
    "Rerun the above code a few times. The phase measure is always approximately 45°. Thus, it looks like the phase\n",
    "measures is in fact correctly measured."
   ]
  },
  {
   "cell_type": "markdown",
   "metadata": {},
   "source": [
    "Similar to what was done in the Tutorial section, to quantatively assess the accuarcy of our 40 Hz phase estimate let's obtain several samples of the phenomena of interest, obtaining measures of the mean and variance of the phase measures (across samples), and then across samples examine where in this distribution the 40 Hz phase values fall. If the 40 Hz phase distribution differs from the phase estimates across frequencies, then it is likely that the 40 Hz phase measure validly differs from the background phase measures.\n",
    "\n",
    "Using the same gain, for a single 40 Hz + noise time series obtain the phase values from 0 to 250 Hz."
   ]
  },
  {
   "cell_type": "code",
   "execution_count": null,
   "metadata": {},
   "outputs": [],
   "source": [
    "time = np.arange(0,1,1/500)\n",
    "freq = 40\n",
    "noise = np.random.normal(0,0.5,len(time))\n",
    "\n",
    "timeseries = 1.5 * np.sin(2*np.pi * freq * time + np.pi/4) + noise\n",
    "sample_rate = 500\n",
    "duration = 1\n",
    "\n",
    "n = sample_rate * duration\n",
    "nhalf = round(n/2)\n",
    "\n",
    "yf = fft(timeseries)\n",
    "xf = fftfreq(n, 1 / sample_rate)\n",
    "\n",
    "yf = yf[0:nhalf]\n",
    "xf = xf[0:nhalf]\n",
    "\n",
    "phaseradians = np.arctan(np.real(yf)/np.imag(yf))\n",
    "phasedegrees = phaseradians * 180 / np.pi\n",
    "\n",
    "phasedegrees"
   ]
  },
  {
   "cell_type": "markdown",
   "metadata": {},
   "source": [
    "To compute a mean and variance, select several phase values between 0 and 250 Hz (say 50 different frequencies) to obtain a sample of the phase values. From this sample, calculate the mean. Repeat this process for many difference signal + noise samples, each time selecting a new set of 50 phase values and then computing the mean.\n",
    "\n",
    "Here is how to accomplish the above. Below we computue phase values from 0 to 250 Hz for 1000 time series."
   ]
  },
  {
   "cell_type": "code",
   "execution_count": null,
   "metadata": {},
   "outputs": [],
   "source": [
    "phasemeans = np.zeros(1000)\n",
    "for x in range(0,999):\n",
    "    phasemeans[x] = np.mean(np.random.choice(phasedegrees, 50, replace=False))"
   ]
  },
  {
   "cell_type": "markdown",
   "metadata": {},
   "source": [
    "Calculate the mean and standard deviation for this distribution."
   ]
  },
  {
   "cell_type": "code",
   "execution_count": null,
   "metadata": {},
   "outputs": [],
   "source": [
    "distmean = np.mean(phasemeans)\n",
    "distmean"
   ]
  },
  {
   "cell_type": "code",
   "execution_count": null,
   "metadata": {},
   "outputs": [],
   "source": [
    "distdev = np.std(phasemeans)\n",
    "distdev"
   ]
  },
  {
   "cell_type": "markdown",
   "metadata": {},
   "source": [
    "Use the magnatide mean and standard deviation values to plot a normal distribution."
   ]
  },
  {
   "cell_type": "code",
   "execution_count": null,
   "metadata": {},
   "outputs": [],
   "source": [
    "from scipy.stats import norm\n",
    "\n",
    "#x-axis ranges from 10 and 30 with .01 steps\n",
    "x = np.arange(-90, 90, 0.01)\n",
    "\n",
    "#define normal distributions\n",
    "plt.plot(x, norm.pdf(x, distmean, distdev))\n"
   ]
  },
  {
   "cell_type": "markdown",
   "metadata": {},
   "source": [
    "We want to determine whether we are accurately estimating the phase of 40 Hz activity. \n",
    "\n",
    "Obtain 1000 estimates of the 40 Hz phase. "
   ]
  },
  {
   "cell_type": "code",
   "execution_count": null,
   "metadata": {},
   "outputs": [],
   "source": [
    "time = np.arange(0,1, 1/500)\n",
    "freq = 40\n",
    "N = 500\n",
    "Nhalf = math.ceil(N/2)\n",
    "sample_rate = 500\n",
    "duration = 1\n",
    "n = sample_rate * duration\n",
    "nhalf = round(n/2)\n",
    "\n",
    "fortyActivities = np.zeros(100)\n",
    "for x in range(0,100): \n",
    "    noise = np.random.normal(0,0.5,len(time))\n",
    "    timeseries = 1*np.sin(2*np.pi * freq * time + np.pi/4)+noise \n",
    "    yf = fft(timeseries)\n",
    "    xf = fftfreq(n, 1 / sample_rate)\n",
    "    yf = yf[0:nhalf]\n",
    "    xf = xf[0:nhalf]\n",
    "    phaseradians = np.arctan(np.real(yf)/np.imag(yf))\n",
    "    phasedegrees = phaseradians * 180 / np.pi\n",
    "    fortyActivities[x] = phasedegrees[40] "
   ]
  },
  {
   "cell_type": "code",
   "execution_count": null,
   "metadata": {},
   "outputs": [],
   "source": [
    "abs(fortyActivities)"
   ]
  },
  {
   "cell_type": "markdown",
   "metadata": {},
   "source": [
    "Compute the 40 Hz phase mean and standard deviation values."
   ]
  },
  {
   "cell_type": "code",
   "execution_count": null,
   "metadata": {},
   "outputs": [],
   "source": [
    "fourtymean = np.mean(abs(fortyActivities))\n",
    "fourtymean"
   ]
  },
  {
   "cell_type": "code",
   "execution_count": null,
   "metadata": {},
   "outputs": [],
   "source": [
    "fourtystd = np.std(abs(fortyActivities))\n",
    "fourtystd"
   ]
  },
  {
   "cell_type": "markdown",
   "metadata": {},
   "source": [
    "Place 40 Hz phase distribution on the normal distrubtion plot we created above."
   ]
  },
  {
   "cell_type": "code",
   "execution_count": null,
   "metadata": {},
   "outputs": [],
   "source": [
    "from scipy.stats import norm\n",
    "\n",
    "\n",
    "x = np.arange(-90, 90, 0.01)\n",
    "y = np.arange(35, 55, 0.01)\n",
    "\n",
    "#define normal distributions\n",
    "plt.plot(x, norm.pdf(x, distmean, distdev))\n",
    "plt.plot(y, norm.pdf(y, fourtymean, fourtystd),'r')"
   ]
  },
  {
   "cell_type": "markdown",
   "metadata": {},
   "source": [
    "The red line shows the distribution of 40 Hz phase values. This is somewhat strong quantitative evidence that the 40 Hz pjhase measure is different from the other phase measures (i.e., likely noise).\n",
    "\n",
    "Outside the scope of this courseware, but if you have some knowledge of statistics, then you will know that we can use the noise and 40 Hz mean and standard deviation values to compute a t-test to quantify the similarity of the noise and 40 Hz distributions. "
   ]
  },
  {
   "cell_type": "markdown",
   "metadata": {},
   "source": [
    "No more work here. We're done! "
   ]
  }
 ],
 "metadata": {
  "kernelspec": {
   "display_name": "Python 3 (ipykernel)",
   "language": "python",
   "name": "python3"
  },
  "language_info": {
   "codemirror_mode": {
    "name": "ipython",
    "version": 3
   },
   "file_extension": ".py",
   "mimetype": "text/x-python",
   "name": "python",
   "nbconvert_exporter": "python",
   "pygments_lexer": "ipython3",
   "version": "3.11.4"
  }
 },
 "nbformat": 4,
 "nbformat_minor": 4
}
