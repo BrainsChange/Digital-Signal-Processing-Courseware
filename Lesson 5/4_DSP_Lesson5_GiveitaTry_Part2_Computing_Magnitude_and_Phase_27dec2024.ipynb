{
 "cells": [
  {
   "cell_type": "markdown",
   "metadata": {},
   "source": [
    "#### Digital Signal Processing Courseware: An Introduction (copyright © 2024)\n",
    "## Authors: J. Christopher Edgar and Gregory A. Miller\n",
    "\n",
    "Originally written in Mathematica by J. Christopher Edgar. Conversion to Jupyter Notebook by Song Liu.\n",
    "\n",
    "The authors of this courseware are indebted to Prof. Bruce Carpenter (University of Illinois Urbana-Champaign). Bruce inspired the creation of this courseware, he consulted with the authors as this courseware was being developed, and he provided the original version of the code and text for several sections of this courseware (e.g. the section on complex numbers and the section on normal distributions). "
   ]
  },
  {
   "cell_type": "markdown",
   "metadata": {},
   "source": [
    "# <font color=red>DSP.05 Computing Magnitude and Phase</font>"
   ]
  },
  {
   "cell_type": "markdown",
   "metadata": {},
   "source": [
    "# <font color=red>Give it a Try!</font>\n",
    "# <font color=red>Part 2</font>"
   ]
  },
  {
   "cell_type": "markdown",
   "metadata": {},
   "source": [
    "### Setup"
   ]
  },
  {
   "cell_type": "code",
   "execution_count": null,
   "metadata": {},
   "outputs": [],
   "source": [
    "# general imports\n",
    "import numpy as np\n",
    "import matplotlib.pyplot as plt\n",
    "from matplotlib import image as img\n",
    "from matplotlib import cm\n",
    "from mpl_toolkits import mplot3d\n",
    "from scipy.fft import fft, fftfreq\n",
    "import matplotlib.patches as patches\n",
    "import math\n",
    "import cmath\n",
    "import pandas as pd\n",
    "\n",
    "import warnings\n",
    "warnings.filterwarnings('ignore')\n",
    "\n",
    "# Figure size and general parameters\n",
    "plt.rc(\"figure\", figsize=(8, 6))\n",
    "\n",
    "#function to create time course figure\n",
    "#one waveform\n",
    "def make_plot_1(x1,y1,type=\"b\"): \n",
    "    plt.plot(x1, y1,type)\n",
    "    plt.margins(x=0, y=0)\n",
    "    plt.axhline(y=0, color='k')\n",
    "    plt.tick_params(labelbottom = False, bottom = False)\n",
    "    \n",
    "#two overlaid waveforms with red and blue   \n",
    "def make_plot_2(x1,y1,type1,x2,y2,type2): \n",
    "    plt.plot(x1, y1, type1)\n",
    "    plt.plot(x2, y2, type2)\n",
    "    plt.margins(x=0, y=0)\n",
    "    plt.axhline(y=0, color='k')\n",
    "    plt.tick_params(labelbottom = False, bottom = False)\n",
    "    \n",
    "#three overlaid waveforms with red, blue and green   \n",
    "def make_plot_3(x1,y1,type1,x2,y2,type2,x3,y3,type3): \n",
    "    plt.plot(x1, y1, type1)\n",
    "    plt.plot(x2, y2, type2)\n",
    "    plt.plot(x3, y3, type3)\n",
    "    plt.margins(x=0, y=0)\n",
    "    plt.axhline(y=0, color='k')\n",
    "    plt.tick_params(labelbottom = False, bottom = False)\n",
    "    \n",
    "def make_plot_3d(ax,x,y,z):    \n",
    "    ax.contour3D(x, y, z, 50, cmap=cm.coolwarm)\n",
    "    ax.set_xlabel('x')\n",
    "    ax.set_ylabel('y')\n",
    "    ax.set_zlabel('z')\n",
    "    \n",
    "def make_plot_freq_1(x1,sample_rate, duration=1): \n",
    "    N = sample_rate * duration\n",
    "    Nhalf = math.ceil(N/2)\n",
    "    yf = fft(x1)\n",
    "    xf = fftfreq(N, 1 / sample_rate)\n",
    "    yf = yf[0:Nhalf]\n",
    "    xf = xf[0:Nhalf]\n",
    "    plt.plot(xf, np.abs(yf))\n",
    "    \n",
    "#two spectrums\n",
    "def make_plot_freq_2(x1,x2,sample_rate, duration=1): \n",
    "    N = sample_rate * duration\n",
    "    Nhalf = math.ceil(N/2)\n",
    "    yf1 = fft(x1)\n",
    "    yf2 = fft(x2)\n",
    "    xf = fftfreq(N, 1 / sample_rate)\n",
    "\n",
    "    yf1 = yf1[0:Nhalf]\n",
    "    yf2 = yf2[0:Nhalf]\n",
    "    xf = xf[0:Nhalf]\n",
    "\n",
    "    plt.plot(xf, np.abs(yf1))\n",
    "    plt.plot(xf, np.abs(yf2), color = 'r')\n",
    "    \n",
    "def make_imshow(x):\n",
    "    plt.imshow(x,cmap='Greys_r')\n",
    "    plt.tick_params(labelbottom = False, bottom = False)\n",
    "    plt.tick_params(labelleft = False, left = False)\n",
    "    \n",
    "def make_imshow_color(x):\n",
    "    plt.imshow(x)\n",
    "    plt.tick_params(labelbottom = False, bottom = False)\n",
    "    plt.tick_params(labelleft = False, left = False)\n",
    "    \n",
    "def round_complex(x):\n",
    "    return complex(np.round(x.real,4),np.round(x.imag,4))\n",
    "\n",
    "unknownmagnitude6 = 10\n",
    "unknownfrequency6 = 3\n",
    "unknownmagnitude7 = 13\n",
    "unknownfrequency7 = 4\n",
    "unknownmagnitude8 = 20\n",
    "unknownfrequency8 = 2\n",
    "unknownmagnitude9 = 50\n",
    "unknownfrequency9 = 5\n",
    "unknownmagnitude10 = 32\n",
    "unknownfrequency10 = 3\n",
    "unknownmagnitude11 = 42\n",
    "unknownfrequency11 = 4\n",
    "unknownmagnitude12 = 100\n",
    "unknownfrequency12 = 4\n",
    "unknownphase12 =np.pi/2\n",
    "unknownmagnitude13 = 42\n",
    "unknownfrequency13 = 5\n",
    "unknownphase13 =np.pi/3\n",
    "unknownmagnitude14 = 85\n",
    "unknownfrequency14 = 2\n",
    "unknownphase14 =np.pi/6\n",
    "unknownmagnitude15 = 25\n",
    "unknownfrequency15 = 4\n",
    "unknownphase15 = 2 *np.pi\n"
   ]
  },
  {
   "cell_type": "markdown",
   "metadata": {},
   "source": [
    "## <font color=red>DSP.05.G2) Obtaining the Magnitude of a Timeseries that Contains Two Sine Waves</font>"
   ]
  },
  {
   "cell_type": "markdown",
   "metadata": {},
   "source": [
    "### <font color=red>DSP.05.G2.a) Probing a Timeseries of Unknown Frequencies</font>"
   ]
  },
  {
   "cell_type": "markdown",
   "metadata": {},
   "source": [
    "Take a timeseries that is the sum of two unknown integer sine waves and use sine and cosine functions to find\n",
    "the frequencies (and associated magnitudes) composing the timeseries. Create a plot comparing the\n",
    "original and the estimated waveforms to document that your calculations are correct."
   ]
  },
  {
   "cell_type": "code",
   "execution_count": null,
   "metadata": {},
   "outputs": [],
   "source": [
    "time = np.arange(0,1,0.001)\n",
    "timeseries = (unknownmagnitude6 * np.sin(2*np.pi * unknownfrequency6 * time ) +\\\n",
    "              unknownmagnitude7 * np.sin(2*np.pi * unknownfrequency7 * time )) \n",
    "\n",
    "make_plot_1(time,timeseries)\n",
    "plt.text(1,0,'1 sec',fontsize=15)\n",
    "plt.show()"
   ]
  },
  {
   "cell_type": "markdown",
   "metadata": {},
   "source": [
    "### <font color=red>DSP.05.G2.b) Probing a Timeseries of Unknown Frequencies</font>"
   ]
  },
  {
   "cell_type": "markdown",
   "metadata": {},
   "source": [
    "Take a timeseries that is the sum of two unknown integer sine waves and use sine and cosine functions\n",
    "to find the frequencies (and associated magnitudes) composing the timeseries.\n",
    "\n",
    "Create a plot comparing the original and the estimated waveforms to show that your calculations are\n",
    "correct."
   ]
  },
  {
   "cell_type": "code",
   "execution_count": null,
   "metadata": {},
   "outputs": [],
   "source": [
    "time = np.arange(0,1,0.001)\n",
    "timeseries = (unknownmagnitude8 * np.sin(2*np.pi * unknownfrequency8 * time ) + \\\n",
    "              unknownmagnitude9 * np.sin(2*np.pi * unknownfrequency9 * time )) \n",
    "\n",
    "make_plot_1(time,timeseries)\n",
    "plt.text(1,0,'1 sec',fontsize=15)\n",
    "plt.show()"
   ]
  },
  {
   "cell_type": "markdown",
   "metadata": {},
   "source": [
    "### <font color=red>DSP.05.G2.c) A Variation on a Theme</font>"
   ]
  },
  {
   "cell_type": "markdown",
   "metadata": {},
   "source": [
    "Stay with the above example. Repeat the procedures above using sine and cosine functions expressed\n",
    "as complex exponentials.\n",
    "\n",
    "Since you already know the frequencies composing the timeseries, you don't need to show calculations\n",
    "at frequencies of no interest."
   ]
  },
  {
   "cell_type": "code",
   "execution_count": null,
   "metadata": {},
   "outputs": [],
   "source": [
    "time = np.arange(0,1,0.001)\n",
    "timeseries = (unknownmagnitude8 * np.sin(2*np.pi * unknownfrequency8 * time ) + \\\n",
    "              unknownmagnitude9 * np.sin(2*np.pi * unknownfrequency9 * time )) \n",
    "\n",
    "make_plot_1(time,timeseries)\n",
    "plt.text(1,0,'1 sec',fontsize=15)\n",
    "plt.show()"
   ]
  },
  {
   "cell_type": "markdown",
   "metadata": {},
   "source": [
    "To get you started, here is the timeseries multiplied by a 1 Hz sine wave expressed as a complex\n",
    "exponential."
   ]
  },
  {
   "cell_type": "code",
   "execution_count": null,
   "metadata": {},
   "outputs": [],
   "source": [
    "time = np.arange(0,1,0.001)\n",
    "timeseries = (unknownmagnitude8 * np.sin(2*np.pi * unknownfrequency8 * time ) + \\\n",
    "              unknownmagnitude9 * np.sin(2*np.pi * unknownfrequency9 * time )) \n",
    "amp_complex = (np.exp(2*np.pi * 1j * time) - np.exp(-2*np.pi * 1j * time)) / (2j)\n",
    "timeseries = timeseries * amp_complex \n",
    "\n",
    "make_plot_1(time,timeseries)\n",
    "plt.text(1,0,'1 sec',fontsize=15)\n",
    "plt.show()"
   ]
  },
  {
   "cell_type": "markdown",
   "metadata": {},
   "source": [
    "### <font color=red>DSP.05.G2.d) Taking Advantage of Some Nice Properties of Complex Exponentials</font>"
   ]
  },
  {
   "cell_type": "markdown",
   "metadata": {},
   "source": [
    "Stay with the example above. This time, instead of using the complex exponential sine and cosine\n",
    "identities, plug in $e^{i ω x}$, where ω is the frequency of interest."
   ]
  },
  {
   "cell_type": "code",
   "execution_count": null,
   "metadata": {},
   "outputs": [],
   "source": [
    "time = np.arange(0,1,0.001)\n",
    "timeseries = (unknownmagnitude8 * np.sin(2*np.pi * unknownfrequency8 * time ) + \\\n",
    "              unknownmagnitude9 * np.sin(2*np.pi * unknownfrequency9 * time )) \n",
    "\n",
    "make_plot_1(time,timeseries)\n",
    "plt.text(1,0,'1 sec',fontsize=15)\n",
    "plt.show()"
   ]
  },
  {
   "cell_type": "markdown",
   "metadata": {},
   "source": [
    "If you need guidance, take a look at the Chapter 5 Basics (DSP.05.B3.f)."
   ]
  },
  {
   "cell_type": "markdown",
   "metadata": {},
   "source": [
    "### <font color=red>DSP.05.G2.e) Taking Advantage of Some Nice Properties of Complex Exponentials</font>"
   ]
  },
  {
   "cell_type": "markdown",
   "metadata": {},
   "source": [
    "Here is new timeseries composed of two frequencies. Instead of using the complex exponential sine\n",
    "and cosine identities, plug in $e^{i ω x}$, where ω is the frequency of interest to obtain a measure of the\n",
    "frequencies (and their associated magnitude).\n",
    "\n",
    "For each frequency, create a plot showing the magnitude of the complex values as a function of time.\n",
    "At each frequency at which activity is observed, calculate the magnitude value."
   ]
  },
  {
   "cell_type": "code",
   "execution_count": null,
   "metadata": {},
   "outputs": [],
   "source": [
    "time = np.arange(0,1,0.001)\n",
    "timeseries = (unknownmagnitude10 * np.sin(2*np.pi *unknownfrequency10 * time ) + \\\n",
    "              unknownmagnitude11 * np.sin(2*np.pi *unknownfrequency11 * time )) \n",
    "\n",
    "make_plot_1(time,timeseries)\n",
    "plt.text(1,0,'1 sec',fontsize=15)\n",
    "plt.show()"
   ]
  },
  {
   "cell_type": "markdown",
   "metadata": {},
   "source": [
    "### <font color=red>DSP.05.G2.f) Taking Advantage of Some Nice Properties of Complex Exponentials</font>"
   ]
  },
  {
   "cell_type": "markdown",
   "metadata": {},
   "source": [
    "Here is a new timeseries composed of two frequencies. Each frequency has a phase offset.\n",
    "\n",
    "Use a method of your choice to obtain a measure of the frequencies composing the timeseries and the\n",
    "associated magnitude and phase values."
   ]
  },
  {
   "cell_type": "code",
   "execution_count": null,
   "metadata": {},
   "outputs": [],
   "source": [
    "time = np.arange(0,1,0.001)\n",
    "timeseries = (unknownmagnitude12 * np.sin(2*np.pi * unknownfrequency12 * time + unknownphase12) + \\\n",
    "              unknownmagnitude13 * np.sin(2*np.pi * unknownfrequency13 * time + unknownphase13)) \n",
    "\n",
    "make_plot_1(time,timeseries)\n",
    "plt.text(1,0,'1 sec',fontsize=15)\n",
    "plt.show()"
   ]
  },
  {
   "cell_type": "markdown",
   "metadata": {},
   "source": [
    "### <font color=red>DSP.05.G2.g) Taking Advantage of Some Nice Properties of Complex Exponentials</font>"
   ]
  },
  {
   "cell_type": "markdown",
   "metadata": {},
   "source": [
    "Here is a new timeseries composed of two frequencies. Use a method of your choice to obtain a measure\n",
    "of the frequencies composing the timeseries and the associated magnitude and phase values."
   ]
  },
  {
   "cell_type": "code",
   "execution_count": null,
   "metadata": {},
   "outputs": [],
   "source": [
    "time = np.arange(0,1,0.001)\n",
    "timeseries = (unknownmagnitude14 * np.sin(2*np.pi * unknownfrequency14 * time + unknownphase14) + \\\n",
    "              unknownmagnitude15 * np.sin(2*np.pi * unknownfrequency15 * time + unknownphase15)) \n",
    "\n",
    "make_plot_1(time,timeseries)\n",
    "plt.text(1,0,'1 sec',fontsize=15)\n",
    "plt.show()"
   ]
  },
  {
   "cell_type": "code",
   "execution_count": null,
   "metadata": {},
   "outputs": [],
   "source": []
  }
 ],
 "metadata": {
  "kernelspec": {
   "display_name": "Python 3 (ipykernel)",
   "language": "python",
   "name": "python3"
  },
  "language_info": {
   "codemirror_mode": {
    "name": "ipython",
    "version": 3
   },
   "file_extension": ".py",
   "mimetype": "text/x-python",
   "name": "python",
   "nbconvert_exporter": "python",
   "pygments_lexer": "ipython3",
   "version": "3.11.4"
  }
 },
 "nbformat": 4,
 "nbformat_minor": 4
}
