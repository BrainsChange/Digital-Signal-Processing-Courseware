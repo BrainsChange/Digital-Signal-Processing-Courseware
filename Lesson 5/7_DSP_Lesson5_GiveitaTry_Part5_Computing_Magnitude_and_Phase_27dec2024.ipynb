{
 "cells": [
  {
   "cell_type": "markdown",
   "metadata": {},
   "source": [
    "#### Digital Signal Processing Courseware: An Introduction (copyright © 2024)\n",
    "## Authors: J. Christopher Edgar and Gregory A. Miller\n",
    "\n",
    "Originally written in Mathematica by J. Christopher Edgar. Conversion to Jupyter Notebook by Song Liu.\n",
    "\n",
    "The authors of this courseware are indebted to Prof. Bruce Carpenter (University of Illinois Urbana-Champaign). Bruce inspired the creation of this courseware, he consulted with the authors as this courseware was being developed, and he provided the original version of the code and text for several sections of this courseware (e.g. the section on complex numbers and the section on normal distributions). "
   ]
  },
  {
   "cell_type": "markdown",
   "metadata": {},
   "source": [
    "# <font color=red>DSP.05 Computing Magnitude and Phase</font>"
   ]
  },
  {
   "cell_type": "markdown",
   "metadata": {},
   "source": [
    "# <font color=red>Give it a Try!</font>\n",
    "# <font color=red>Part 5</font>"
   ]
  },
  {
   "cell_type": "markdown",
   "metadata": {},
   "source": [
    "### Setup"
   ]
  },
  {
   "cell_type": "code",
   "execution_count": null,
   "metadata": {},
   "outputs": [],
   "source": [
    "# general imports\n",
    "import numpy as np\n",
    "import matplotlib.pyplot as plt\n",
    "from matplotlib import image as img\n",
    "from matplotlib import cm\n",
    "from mpl_toolkits import mplot3d\n",
    "from scipy.fft import fft, fftfreq\n",
    "import matplotlib.patches as patches\n",
    "import math\n",
    "import cmath\n",
    "import pandas as pd\n",
    "\n",
    "import warnings\n",
    "warnings.filterwarnings('ignore')\n",
    "\n",
    "# Figure size and general parameters\n",
    "plt.rc(\"figure\", figsize=(8, 6))\n",
    "\n",
    "#function to create time course figure\n",
    "#one waveform\n",
    "def make_plot_1(x1,y1,type=\"b\"): \n",
    "    plt.plot(x1, y1,type)\n",
    "    plt.margins(x=0, y=0)\n",
    "    plt.axhline(y=0, color='k')\n",
    "    plt.tick_params(labelbottom = False, bottom = False)\n",
    "    \n",
    "#two overlaid waveforms with red and blue   \n",
    "def make_plot_2(x1,y1,type1,x2,y2,type2): \n",
    "    plt.plot(x1, y1, type1)\n",
    "    plt.plot(x2, y2, type2)\n",
    "    plt.margins(x=0, y=0)\n",
    "    plt.axhline(y=0, color='k')\n",
    "    plt.tick_params(labelbottom = False, bottom = False)\n",
    "    \n",
    "#three overlaid waveforms with red, blue and green   \n",
    "def make_plot_3(x1,y1,type1,x2,y2,type2,x3,y3,type3): \n",
    "    plt.plot(x1, y1, type1)\n",
    "    plt.plot(x2, y2, type2)\n",
    "    plt.plot(x3, y3, type3)\n",
    "    plt.margins(x=0, y=0)\n",
    "    plt.axhline(y=0, color='k')\n",
    "    plt.tick_params(labelbottom = False, bottom = False)\n",
    "    \n",
    "def make_plot_3d(ax,x,y,z):    \n",
    "    ax.contour3D(x, y, z, 50, cmap=cm.coolwarm)\n",
    "    ax.set_xlabel('x')\n",
    "    ax.set_ylabel('y')\n",
    "    ax.set_zlabel('z')\n",
    "    \n",
    "def make_plot_freq_1(x1,sample_rate, duration=1): \n",
    "    N = sample_rate * duration\n",
    "    Nhalf = math.ceil(N/2)\n",
    "    yf = fft(x1)\n",
    "    xf = fftfreq(N, 1 / sample_rate)\n",
    "    yf = yf[0:Nhalf]\n",
    "    xf = xf[0:Nhalf]\n",
    "    plt.plot(xf, np.abs(yf))\n",
    "    \n",
    "#two spectrums\n",
    "def make_plot_freq_2(x1,x2,sample_rate, duration=1): \n",
    "    N = sample_rate * duration\n",
    "    Nhalf = math.ceil(N/2)\n",
    "    yf1 = fft(x1)\n",
    "    yf2 = fft(x2)\n",
    "    xf = fftfreq(N, 1 / sample_rate)\n",
    "\n",
    "    yf1 = yf1[0:Nhalf]\n",
    "    yf2 = yf2[0:Nhalf]\n",
    "    xf = xf[0:Nhalf]\n",
    "\n",
    "    plt.plot(xf, np.abs(yf1))\n",
    "    plt.plot(xf, np.abs(yf2), color = 'r')\n",
    "    \n",
    "def make_imshow(x):\n",
    "    plt.imshow(x,cmap='Greys_r')\n",
    "    plt.tick_params(labelbottom = False, bottom = False)\n",
    "    plt.tick_params(labelleft = False, left = False)\n",
    "    \n",
    "def make_imshow_color(x):\n",
    "    plt.imshow(x)\n",
    "    plt.tick_params(labelbottom = False, bottom = False)\n",
    "    plt.tick_params(labelleft = False, left = False)\n",
    "    \n",
    "def round_complex(x):\n",
    "    return complex(np.round(x.real,4),np.round(x.imag,4))\n",
    "\n",
    "unknownmagnitude28 = 2\n",
    "unknownfrequency28 = 3\n",
    "unknownphase28 =np.pi/4\n",
    "unknownmagnitude29 = .02\n",
    "unknownfrequency29 = 4\n",
    "unknownphase29 =np.pi/2\n"
   ]
  },
  {
   "cell_type": "markdown",
   "metadata": {},
   "source": [
    "## <font color=red>DSP.05.G5) Digitized Timeseries - Computing Magnitude from Discrete Timeseries with Noise</font>"
   ]
  },
  {
   "cell_type": "markdown",
   "metadata": {},
   "source": [
    "### <font color=red>DSP.05.G5.a) Obtaining Magnitude Measures from a Digitized Timeseries with Noise</font>"
   ]
  },
  {
   "cell_type": "markdown",
   "metadata": {},
   "source": [
    "Create a 30 Hz timeseries 1 second in length (gain of 2) with random noise (over a 1-second interval, a\n",
    "sample is collected every 0.0025 seconds = 1/400). "
   ]
  },
  {
   "cell_type": "code",
   "execution_count": null,
   "metadata": {},
   "outputs": [],
   "source": [
    "time = np.arange(0,1,1/400)\n",
    "freq = 30\n",
    "noise = np.random.normal(0,0.5,len(time))\n",
    "timeseries = 2*np.sin(2*np.pi * freq * time) + noise\n",
    "\n",
    "make_plot_1(time,timeseries)\n",
    "plt.text(1,0,'1 sec',fontsize=15)\n",
    "plt.show()"
   ]
  },
  {
   "cell_type": "markdown",
   "metadata": {},
   "source": [
    "The underlying 30 Hz activity is slightly distorted.\n",
    "\n",
    "Plot the absolute values of the complex terms obtained by (2 Sin[30 x 2$π$]) $e^{i 30 x 2 π}$ as a function of x."
   ]
  },
  {
   "cell_type": "code",
   "execution_count": null,
   "metadata": {},
   "outputs": [],
   "source": [
    "time = np.arange(0,1,1/400)\n",
    "freq = 30\n",
    "noise = np.random.normal(0,0.5,len(time))\n",
    "amplitude = 2*np.sin(2*np.pi * freq * time) + noise\n",
    "complex_amplitude = np.exp(2*np.pi * 30j * time)\n",
    "timeseries = abs(amplitude * complex_amplitude)\n",
    "\n",
    "make_plot_1(time,timeseries,'r')\n",
    "plt.text(1,0,'1 sec',fontsize=15)\n",
    "plt.show()"
   ]
  },
  {
   "cell_type": "markdown",
   "metadata": {},
   "source": [
    "Now use complex exponentials to calculate the magnitude of 30 Hz activity. Comment on why it was\n",
    "very likely that, even though the signal was contaminated with noise, it is probably possible to obtain a\n",
    "reliable estimate of the magnitude of 30 Hz activity."
   ]
  },
  {
   "cell_type": "markdown",
   "metadata": {},
   "source": [
    "### <font color=red>DSP.05.G5.b) Obtaining Magnitude Measures from a Digitized Timeseries with Noise</font>"
   ]
  },
  {
   "cell_type": "markdown",
   "metadata": {},
   "source": [
    "Create the same 30 Hz timeseries, but this time with a gain of 1 (decreasing signal strength by 50% from the previous example)."
   ]
  },
  {
   "cell_type": "code",
   "execution_count": null,
   "metadata": {},
   "outputs": [],
   "source": [
    "time = np.arange(0,1,1/400)\n",
    "freq = 30\n",
    "noise = np.random.normal(0,0.5,len(time))\n",
    "amplitude = 1*np.sin(2*np.pi * freq * time) + noise\n",
    "complex_amplitude = np.exp(2*np.pi * 30j * time)\n",
    "timeseries = abs(amplitude * complex_amplitude)\n",
    "\n",
    "make_plot_1(time,timeseries,'b')\n",
    "plt.text(1,0,'1 sec',fontsize=15)\n",
    "plt.show()"
   ]
  },
  {
   "cell_type": "markdown",
   "metadata": {},
   "source": [
    "The underlying 30 Hz activity is slightly more distorted. That's understandable: we cut the signal size in half and didn't change the noise, so the signal-to-noise ratio (SNR) is worse. \n",
    "\n",
    "Use complex exponentials to calculate the magnitude of 30 Hz activity. Comment on why it is likely that, even though the signal was contaminated with noise, it is probably possible to obtain a reliable estimate of the magnitude of 30 Hz activity."
   ]
  },
  {
   "cell_type": "markdown",
   "metadata": {},
   "source": [
    "### <font color=red>DSP.05.G5.c) Obtaining Magnitude Measures from a Digitized Timeseries with Noise</font>"
   ]
  },
  {
   "cell_type": "markdown",
   "metadata": {},
   "source": [
    "Create the same 30 Hz timeseries but this time with a gain of 0.1 (decreasing signal strength by 90% from the previous example)."
   ]
  },
  {
   "cell_type": "code",
   "execution_count": null,
   "metadata": {},
   "outputs": [],
   "source": [
    "time = np.arange(0,1,1/400)\n",
    "freq = 30\n",
    "noise = np.random.normal(0,0.5,len(time))\n",
    "amplitude = 0.1*np.sin(2*np.pi * freq * time) + noise\n",
    "complex_amplitude = np.exp(2*np.pi * 30j * time)\n",
    "timeseries = abs(amplitude * complex_amplitude)\n",
    "\n",
    "make_plot_1(time,timeseries,'b')\n",
    "plt.text(1,0,'1 sec',fontsize=15)\n",
    "plt.show()"
   ]
  },
  {
   "cell_type": "markdown",
   "metadata": {},
   "source": [
    "The underlying 30 Hz activity is distorted.\n",
    "\n",
    "Use complex exponentials to calculate the magnitude of 30 Hz activity. Do you think the magnitude\n",
    "value obtained is reliable, or is the magnitude value largely a measure of noise? Don't do any calculations,\n",
    "but discuss how you might determine whether the magnitude estimate is reliable."
   ]
  },
  {
   "cell_type": "markdown",
   "metadata": {},
   "source": [
    "### <font color=red>DSP.05.G5.d) Obtaining Magnitude Measures from a Digitized Timeseries with Noise</font>"
   ]
  },
  {
   "cell_type": "markdown",
   "metadata": {},
   "source": [
    "Create the same 30 Hz timeseries but this time with a gain of 0.01 (decreasing signal strength by 90% from the previous example, by 99% from the example before that, and by 99.5% from the first example)."
   ]
  },
  {
   "cell_type": "code",
   "execution_count": null,
   "metadata": {},
   "outputs": [],
   "source": [
    "time = np.arange(0,1,1/400)\n",
    "freq = 30\n",
    "noise = np.random.normal(0,0.5,len(time))\n",
    "amplitude = 0.01*np.sin(2*np.pi * freq * time) + noise\n",
    "complex_amplitude = np.exp(2*np.pi * 30j * time)\n",
    "timeseries = abs(amplitude * complex_amplitude)\n",
    "\n",
    "make_plot_1(time,timeseries,'b')\n",
    "plt.text(1,0,'1 sec',fontsize=15)\n",
    "plt.show()"
   ]
  },
  {
   "cell_type": "markdown",
   "metadata": {},
   "source": [
    "The underlying 30 Hz activity is very distorted.\n",
    "\n",
    "Use complex exponentials to calculate the magnitude of 30 Hz activity. Use the method applied in the\n",
    "Lesson 5 Tutorial section to determine whether the 30 Hz magnitude measure is reliable (i.e., calculate a normal\n",
    "distribution plot and examine where the 30 Hz magnitude measure falls on the distribution)."
   ]
  },
  {
   "cell_type": "markdown",
   "metadata": {},
   "source": [
    "### <font color=red>DSP.05.G5.e) Obtaining Magnitude Measures from a Digitized Timeseries with Noise</font>"
   ]
  },
  {
   "cell_type": "markdown",
   "metadata": {},
   "source": [
    "Show your stuff.\n",
    "\n",
    "Below is a timeseries created from two frequencies (frequency, magnitude, and phase unknown) and\n",
    "random noise. The sampling rate is 300 Hz (1/300 = 0.00333).\n",
    "\n",
    "Find the frequencies that compose the timeseries and their associated phases and magnitudes. Use the method applied in the\n",
    "Lesson 5 Tutorial section to determine whether the magnitude estimates are reliable."
   ]
  },
  {
   "cell_type": "code",
   "execution_count": null,
   "metadata": {},
   "outputs": [],
   "source": [
    "time = np.arange(0,1,1/300)\n",
    "freq = 30\n",
    "noise = np.random.normal(0,0.5,len(time))\n",
    "timeseries = (unknownmagnitude28 * np.sin(2*np.pi * unknownfrequency28 * time + unknownphase28) + \\\n",
    "             unknownmagnitude29 * np.sin(2*np.pi *unknownfrequency29 * time + unknownphase29)) + noise \n",
    "\n",
    "make_plot_1(time,timeseries)\n",
    "plt.text(1,0,'1 sec',fontsize=15)\n",
    "plt.show()"
   ]
  },
  {
   "cell_type": "code",
   "execution_count": null,
   "metadata": {},
   "outputs": [],
   "source": []
  }
 ],
 "metadata": {
  "kernelspec": {
   "display_name": "Python 3 (ipykernel)",
   "language": "python",
   "name": "python3"
  },
  "language_info": {
   "codemirror_mode": {
    "name": "ipython",
    "version": 3
   },
   "file_extension": ".py",
   "mimetype": "text/x-python",
   "name": "python",
   "nbconvert_exporter": "python",
   "pygments_lexer": "ipython3",
   "version": "3.11.4"
  }
 },
 "nbformat": 4,
 "nbformat_minor": 4
}
