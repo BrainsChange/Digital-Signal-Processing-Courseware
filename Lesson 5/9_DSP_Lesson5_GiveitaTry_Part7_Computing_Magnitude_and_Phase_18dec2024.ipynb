{
 "cells": [
  {
   "cell_type": "markdown",
   "metadata": {},
   "source": [
    "#### Digital Signal Processing Courseware: An Introduction (copyright © 2024)\n",
    "## Authors: J. Christopher Edgar and Gregory A. Miller\n",
    "\n",
    "Originally written in Mathematica by J. Christopher Edgar. Conversion to Jupyter Notebook by Song Liu.\n",
    "\n",
    "The authors of this courseware are indebted to Prof. Bruce Carpenter (University of Illinois Urbana-Champaign). Bruce inspired the creation of this courseware, he consulted with the authors as this courseware was being developed, and he provided the original version of the code and text for several sections of this courseware (e.g. the section on complex numbers and the section on normal distributions). "
   ]
  },
  {
   "cell_type": "markdown",
   "metadata": {},
   "source": [
    "# <font color=red>DSP.05 Computing Magnitude and Phase</font>"
   ]
  },
  {
   "cell_type": "markdown",
   "metadata": {},
   "source": [
    "# <font color=red>Give it a Try</font>\n",
    "# <font color=red>Part 7</font>"
   ]
  },
  {
   "cell_type": "markdown",
   "metadata": {},
   "source": [
    "### Setup"
   ]
  },
  {
   "cell_type": "code",
   "execution_count": 1,
   "metadata": {},
   "outputs": [],
   "source": [
    "# general imports\n",
    "import numpy as np\n",
    "import matplotlib.pyplot as plt\n",
    "from matplotlib import image as img\n",
    "from matplotlib import cm\n",
    "from mpl_toolkits import mplot3d\n",
    "from scipy.fft import fft, fftfreq\n",
    "import matplotlib.patches as patches\n",
    "import math\n",
    "import cmath\n",
    "import pandas as pd\n",
    "\n",
    "import warnings\n",
    "warnings.filterwarnings('ignore')\n",
    "\n",
    "# Figure size and general parameters\n",
    "plt.rc(\"figure\", figsize=(8, 6))\n",
    "\n",
    "#function to create time course figure\n",
    "#one waveform\n",
    "def make_plot_1(x1,y1,type=\"b\"): \n",
    "    plt.plot(x1, y1,type)\n",
    "    plt.margins(x=0, y=0)\n",
    "    plt.axhline(y=0, color='k')\n",
    "    plt.tick_params(labelbottom = False, bottom = False)\n",
    "    \n",
    "#two overlaid waveforms with red and blue   \n",
    "def make_plot_2(x1,y1,type1,x2,y2,type2): \n",
    "    plt.plot(x1, y1, type1)\n",
    "    plt.plot(x2, y2, type2)\n",
    "    plt.margins(x=0, y=0)\n",
    "    plt.axhline(y=0, color='k')\n",
    "    plt.tick_params(labelbottom = False, bottom = False)\n",
    "    \n",
    "#three overlaid waveforms with red, blue and green   \n",
    "def make_plot_3(x1,y1,type1,x2,y2,type2,x3,y3,type3): \n",
    "    plt.plot(x1, y1, type1)\n",
    "    plt.plot(x2, y2, type2)\n",
    "    plt.plot(x3, y3, type3)\n",
    "    plt.margins(x=0, y=0)\n",
    "    plt.axhline(y=0, color='k')\n",
    "    plt.tick_params(labelbottom = False, bottom = False)\n",
    "    \n",
    "def make_plot_3d(ax,x,y,z):    \n",
    "    ax.contour3D(x, y, z, 50, cmap=cm.coolwarm)\n",
    "    ax.set_xlabel('x')\n",
    "    ax.set_ylabel('y')\n",
    "    ax.set_zlabel('z')\n",
    "    \n",
    "def make_plot_freq_1(x1,sample_rate, duration=1): \n",
    "    N = sample_rate * duration\n",
    "    Nhalf = math.ceil(N/2)\n",
    "    yf = fft(x1)\n",
    "    xf = fftfreq(N, 1 / sample_rate)\n",
    "    yf = yf[0:Nhalf]\n",
    "    xf = xf[0:Nhalf]\n",
    "    plt.plot(xf, np.abs(yf))\n",
    "    \n",
    "#two spectrums\n",
    "def make_plot_freq_2(x1,x2,sample_rate, duration=1): \n",
    "    N = sample_rate * duration\n",
    "    Nhalf = math.ceil(N/2)\n",
    "    yf1 = fft(x1)\n",
    "    yf2 = fft(x2)\n",
    "    xf = fftfreq(N, 1 / sample_rate)\n",
    "\n",
    "    yf1 = yf1[0:Nhalf]\n",
    "    yf2 = yf2[0:Nhalf]\n",
    "    xf = xf[0:Nhalf]\n",
    "\n",
    "    plt.plot(xf, np.abs(yf1))\n",
    "    plt.plot(xf, np.abs(yf2), color = 'r')\n",
    "    \n",
    "def make_imshow(x):\n",
    "    plt.imshow(x,cmap='Greys_r')\n",
    "    plt.tick_params(labelbottom = False, bottom = False)\n",
    "    plt.tick_params(labelleft = False, left = False)\n",
    "    \n",
    "def make_imshow_color(x):\n",
    "    plt.imshow(x)\n",
    "    plt.tick_params(labelbottom = False, bottom = False)\n",
    "    plt.tick_params(labelleft = False, left = False)\n",
    "    \n",
    "def round_complex(x):\n",
    "    return complex(np.round(x.real,4),np.round(x.imag,4))"
   ]
  },
  {
   "cell_type": "markdown",
   "metadata": {},
   "source": [
    "## <font color=red>DSP.05.G7) Noticing Some Details about the Examples Provided in This and Previous Lessons</font>"
   ]
  },
  {
   "cell_type": "markdown",
   "metadata": {},
   "source": [
    "### <font color=red>DSP.05.G7.a) Complex Exponentials Create a Complex World</font>"
   ]
  },
  {
   "cell_type": "markdown",
   "metadata": {},
   "source": [
    "Multiply this timeseries by $e^{iω x 2 π}$ and compute the magnitude and phase of 15 Hz activity (the frequency\n",
    "of the sine wave is 15 Hz, so set ω = 15)."
   ]
  },
  {
   "cell_type": "code",
   "execution_count": 2,
   "metadata": {},
   "outputs": [
    {
     "data": {
      "text/plain": [
       "(1.5+2.598j)"
      ]
     },
     "execution_count": 2,
     "metadata": {},
     "output_type": "execute_result"
    }
   ],
   "source": [
    "time = np.arange(0,1,0.001)\n",
    "timeseries = 3*np.sin(2*np.pi * 15 * time + np.pi/6) \n",
    "complex_amplitude = np.exp(2*np.pi * 15j * time)\n",
    "spectrum = round(sum(timeseries * complex_amplitude)*0.001,4) / 0.5\n",
    "spectrum"
   ]
  },
  {
   "cell_type": "code",
   "execution_count": 3,
   "metadata": {},
   "outputs": [
    {
     "data": {
      "text/plain": [
       "3.0"
      ]
     },
     "execution_count": 3,
     "metadata": {},
     "output_type": "execute_result"
    }
   ],
   "source": [
    "round(abs(spectrum),3)"
   ]
  },
  {
   "cell_type": "code",
   "execution_count": 4,
   "metadata": {},
   "outputs": [
    {
     "data": {
      "text/plain": [
       "30.0"
      ]
     },
     "execution_count": 4,
     "metadata": {},
     "output_type": "execute_result"
    }
   ],
   "source": [
    "phaseradians = round(np.arctan(np.real(spectrum)/np.imag(spectrum)),5)\n",
    "phasedegrees = round(phaseradians * 180 / np.pi,2)\n",
    "phasedegrees"
   ]
  },
  {
   "cell_type": "markdown",
   "metadata": {},
   "source": [
    "The output of the 'abs' function tells us that the magnitude of 15 Hz activity is 3.\n",
    "\n",
    "The 'arctan' command tells us that the phase of 15 Hz activity is 30°.\n",
    "\n",
    "Now, replace the sine wave with a cosine wave and repeat the above calculations."
   ]
  },
  {
   "cell_type": "code",
   "execution_count": 5,
   "metadata": {},
   "outputs": [
    {
     "data": {
      "text/plain": [
       "(2.598-1.5j)"
      ]
     },
     "execution_count": 5,
     "metadata": {},
     "output_type": "execute_result"
    }
   ],
   "source": [
    "time = np.arange(0,1,0.001)\n",
    "timeseries = 3*np.cos(2*np.pi * 15 * time + np.pi/6) \n",
    "complex_amplitude = np.exp(2*np.pi * 15j * time)\n",
    "spectrum = round(sum(timeseries * complex_amplitude)*0.001,4) / 0.5\n",
    "spectrum"
   ]
  },
  {
   "cell_type": "code",
   "execution_count": 6,
   "metadata": {},
   "outputs": [
    {
     "data": {
      "text/plain": [
       "3.0"
      ]
     },
     "execution_count": 6,
     "metadata": {},
     "output_type": "execute_result"
    }
   ],
   "source": [
    "round(abs(spectrum),3)"
   ]
  },
  {
   "cell_type": "code",
   "execution_count": 7,
   "metadata": {},
   "outputs": [
    {
     "data": {
      "text/plain": [
       "-60.0"
      ]
     },
     "execution_count": 7,
     "metadata": {},
     "output_type": "execute_result"
    }
   ],
   "source": [
    "phaseradians = round(np.arctan(np.real(spectrum)/np.imag(spectrum)),5)\n",
    "phasedegrees = round(phaseradians * 180 / np.pi,2)\n",
    "phasedegrees"
   ]
  },
  {
   "cell_type": "markdown",
   "metadata": {},
   "source": [
    "Although the magnitude value is correct, the phase value here seems incorrect. This is because the\n",
    "phase here is described in terms of a sine wave. A sine wave is 90 degrees ‘out of phase’ with a cosine\n",
    "wave. (30 and -60 are 90 degrees apart.) So in fact the two phase values are both correct - they just differ in what they are the phase of\n",
    "(sine wave vs. cosine wave). The phase value above tells us that to model the above cosine wave we would\n",
    "need to create a sine wave with a phase offset of 120 or -60 degrees."
   ]
  },
  {
   "cell_type": "markdown",
   "metadata": {},
   "source": [
    "### <font color=red>DSP.05.G7.b) Complex Exponentials Create a Complex World</font>"
   ]
  },
  {
   "cell_type": "markdown",
   "metadata": {},
   "source": [
    "This time, use a sine wave but replace +$i$ with -$i$."
   ]
  },
  {
   "cell_type": "code",
   "execution_count": 8,
   "metadata": {},
   "outputs": [
    {
     "data": {
      "text/plain": [
       "(1.5-2.598j)"
      ]
     },
     "execution_count": 8,
     "metadata": {},
     "output_type": "execute_result"
    }
   ],
   "source": [
    "time = np.arange(0,1,0.001)\n",
    "timeseries = 3*np.sin(2*np.pi * 15 * time + np.pi/6) \n",
    "complex_amplitude = np.exp(-2*np.pi * 15j * time)\n",
    "spectrum = round(sum(timeseries * complex_amplitude)*0.001,4) / 0.5\n",
    "spectrum"
   ]
  },
  {
   "cell_type": "code",
   "execution_count": 9,
   "metadata": {},
   "outputs": [
    {
     "data": {
      "text/plain": [
       "3.0"
      ]
     },
     "execution_count": 9,
     "metadata": {},
     "output_type": "execute_result"
    }
   ],
   "source": [
    "round(abs(spectrum),3)"
   ]
  },
  {
   "cell_type": "code",
   "execution_count": 10,
   "metadata": {},
   "outputs": [
    {
     "data": {
      "text/plain": [
       "-30.0"
      ]
     },
     "execution_count": 10,
     "metadata": {},
     "output_type": "execute_result"
    }
   ],
   "source": [
    "phaseradians = round(np.arctan(np.real(spectrum)/np.imag(spectrum)),5)\n",
    "phasedegrees = round(phaseradians * 180 / np.pi,2)\n",
    "phasedegrees"
   ]
  },
  {
   "cell_type": "markdown",
   "metadata": {},
   "source": [
    "Although the magnitude value is correct, the phase value seems incorrect. In this case, when using a\n",
    "negative complex exponential, to obtain the phase value in the above function, we need to compute\n",
    "the phase as -ArcTan (Real/Imaginary). [#Miller The rest of this comment was here already, in the 25nov2024 version: Is \"-ArcTan\" here correct? Comparing code cells, the next code cell below isn't \"-np.arctan(np.real)\". The minus is on the first argument in the arctan function, not on the result of the function call. Ditto the location of the minus in \"ArcTan[- Cosinepart/Sinepart]\" in the next text cell. But maybe I'm misunderstanding something.]"
   ]
  },
  {
   "cell_type": "markdown",
   "metadata": {},
   "source": [
    "Why?\n",
    "Remember the Euler Identities:\n",
    "$e^{i x} = cos[x] + $i$ sin[x]$\n",
    "and\n",
    "$e^{-i x} = cos[x] - $i$ sin[x]$\n",
    "\n",
    "Take a look at this trigonometric identity: A Cos x - B Sin x = $\\sqrt{A^{2} + B^{2}} Sin (x - ArcTan (B/A))$ .\n",
    "    \n",
    "This tells us that our sinepart and cosinepart values can be expressed in terms of a sine wave with a\n",
    "magnitude ($\\sqrt{A^{2} + B^{2}}$ ) with a phase offset of ArcTan (B/-A). [#Miller There's a \"-A\" right before this comment, but in the formula earlier in this text box there's no minus on the \"A\". Note also the minus in the equation in the next sentence of this text box.] Thus, the phase of the above timeseries is\n",
    "computed as ArcTan[- Cosinepart/Sinepart] . The computed phase value is the phase you would add to a cosine\n",
    "wave to get the correct phase offset."
   ]
  },
  {
   "cell_type": "code",
   "execution_count": 11,
   "metadata": {},
   "outputs": [
    {
     "data": {
      "text/plain": [
       "30.0"
      ]
     },
     "execution_count": 11,
     "metadata": {},
     "output_type": "execute_result"
    }
   ],
   "source": [
    "phaseradians = round(np.arctan(-np.real(spectrum)/np.imag(spectrum)),5)\n",
    "phasedegrees = round(phaseradians * 180 / np.pi,2)\n",
    "phasedegrees"
   ]
  },
  {
   "cell_type": "markdown",
   "metadata": {},
   "source": [
    "Depending on the input function (sine or cosine) and whether a +$i$ or a -$i$ is in the complex exponential\n",
    "term, sometimes ‘modifications’ are needed to obtain the correct phase value. Examining this in detail\n",
    "would take us too far afield, and it requires more background in complex variables. For the moment,\n",
    "simply note that sometimes modifications are needed. In the examples below, describe why the computed\n",
    "phase is different from the phase value in the function."
   ]
  },
  {
   "cell_type": "markdown",
   "metadata": {},
   "source": [
    "### <font color=red>DSP.05.G7.c) Complex Exponentials Create a Complex World</font>"
   ]
  },
  {
   "cell_type": "markdown",
   "metadata": {},
   "source": [
    "Multiply this timeseries by $e^{i ω x 2 π}$ and plot the magnitude values (the frequency of the sine wave is 15\n",
    "Hz, so set ω = 15)."
   ]
  },
  {
   "cell_type": "code",
   "execution_count": 12,
   "metadata": {},
   "outputs": [
    {
     "data": {
      "text/plain": [
       "(2.598+1.5j)"
      ]
     },
     "execution_count": 12,
     "metadata": {},
     "output_type": "execute_result"
    }
   ],
   "source": [
    "time = np.arange(0,1,0.001)\n",
    "timeseries =  3*np.sin(2*np.pi * 15 * time + np.pi/3)\n",
    "complex_amplitude = np.exp(2*np.pi * 15j * time)\n",
    "spectrum = round(sum(timeseries * complex_amplitude)*0.001,4) / 0.5\n",
    "spectrum"
   ]
  },
  {
   "cell_type": "code",
   "execution_count": 13,
   "metadata": {},
   "outputs": [
    {
     "data": {
      "text/plain": [
       "3.0"
      ]
     },
     "execution_count": 13,
     "metadata": {},
     "output_type": "execute_result"
    }
   ],
   "source": [
    "round(abs(spectrum),3)"
   ]
  },
  {
   "cell_type": "code",
   "execution_count": 14,
   "metadata": {},
   "outputs": [
    {
     "data": {
      "text/plain": [
       "60.0"
      ]
     },
     "execution_count": 14,
     "metadata": {},
     "output_type": "execute_result"
    }
   ],
   "source": [
    "phaseradians = round(np.arctan(np.real(spectrum)/np.imag(spectrum)),5)\n",
    "phasedegrees = round(phaseradians * 180 / np.pi,2)\n",
    "phasedegrees"
   ]
  },
  {
   "cell_type": "markdown",
   "metadata": {},
   "source": [
    "The output of the 'abs' function tells us that the magnitude of 15 Hz activity is 5. The 'arctan' function\n",
    "tells us that the phase of 15 Hz activity is 60°. Looks good.\n",
    "\n",
    "Replace sine with cosine."
   ]
  },
  {
   "cell_type": "code",
   "execution_count": 15,
   "metadata": {},
   "outputs": [
    {
     "data": {
      "text/plain": [
       "(1.5-2.598j)"
      ]
     },
     "execution_count": 15,
     "metadata": {},
     "output_type": "execute_result"
    }
   ],
   "source": [
    "time = np.arange(0,1,0.001)\n",
    "timeseries = 3*np.cos(2*np.pi * 15 * time + np.pi/3)\n",
    "complex_amplitude =np.exp(2*np.pi * 15j * time)\n",
    "spectrum = round(sum(timeseries * complex_amplitude)*0.001,4) / 0.5\n",
    "spectrum"
   ]
  },
  {
   "cell_type": "code",
   "execution_count": 16,
   "metadata": {},
   "outputs": [
    {
     "data": {
      "text/plain": [
       "3.0"
      ]
     },
     "execution_count": 16,
     "metadata": {},
     "output_type": "execute_result"
    }
   ],
   "source": [
    "round(abs(spectrum),3)"
   ]
  },
  {
   "cell_type": "code",
   "execution_count": 17,
   "metadata": {},
   "outputs": [
    {
     "data": {
      "text/plain": [
       "-30.0"
      ]
     },
     "execution_count": 17,
     "metadata": {},
     "output_type": "execute_result"
    }
   ],
   "source": [
    "phaseradians = round(np.arctan(np.real(spectrum)/np.imag(spectrum)),5)\n",
    "phasedegrees = round(phaseradians * 180 / np.pi,2)\n",
    "phasedegrees"
   ]
  },
  {
   "cell_type": "markdown",
   "metadata": {},
   "source": [
    "Although the magnitude value is correct, the phase value seems incorrect. Why?"
   ]
  },
  {
   "cell_type": "markdown",
   "metadata": {},
   "source": [
    "### <font color=red>DSP.05.G7.d) Complex Exponentials Create a Complex World</font>"
   ]
  },
  {
   "cell_type": "markdown",
   "metadata": {},
   "source": [
    "This time, use a sine wave but replace +$i$ with -$i$."
   ]
  },
  {
   "cell_type": "code",
   "execution_count": 18,
   "metadata": {},
   "outputs": [
    {
     "data": {
      "text/plain": [
       "(2.598-1.5j)"
      ]
     },
     "execution_count": 18,
     "metadata": {},
     "output_type": "execute_result"
    }
   ],
   "source": [
    "time = np.arange(0,1,0.001)\n",
    "timeseries = 3*np.sin(2*np.pi * 15 * time + np.pi/3) \n",
    "complex_amplitude =np.exp(-2*np.pi * 15j * time)\n",
    "spectrum = round(sum(timeseries * complex_amplitude)*0.001,4) / 0.5\n",
    "spectrum"
   ]
  },
  {
   "cell_type": "code",
   "execution_count": 19,
   "metadata": {},
   "outputs": [
    {
     "data": {
      "text/plain": [
       "3.0"
      ]
     },
     "execution_count": 19,
     "metadata": {},
     "output_type": "execute_result"
    }
   ],
   "source": [
    "round(abs(spectrum),3)"
   ]
  },
  {
   "cell_type": "code",
   "execution_count": 20,
   "metadata": {},
   "outputs": [
    {
     "data": {
      "text/plain": [
       "-60.0"
      ]
     },
     "execution_count": 20,
     "metadata": {},
     "output_type": "execute_result"
    }
   ],
   "source": [
    "phaseradians = round(np.arctan(np.real(spectrum)/np.imag(spectrum)),5)\n",
    "phasedegrees = round(phaseradians * 180 / np.pi,2)\n",
    "phasedegrees"
   ]
  },
  {
   "cell_type": "markdown",
   "metadata": {},
   "source": [
    "Although the magnitude value is correct, the phase value seems incorrect. Why?"
   ]
  },
  {
   "cell_type": "code",
   "execution_count": null,
   "metadata": {},
   "outputs": [],
   "source": []
  }
 ],
 "metadata": {
  "kernelspec": {
   "display_name": "Python 3 (ipykernel)",
   "language": "python",
   "name": "python3"
  },
  "language_info": {
   "codemirror_mode": {
    "name": "ipython",
    "version": 3
   },
   "file_extension": ".py",
   "mimetype": "text/x-python",
   "name": "python",
   "nbconvert_exporter": "python",
   "pygments_lexer": "ipython3",
   "version": "3.11.4"
  }
 },
 "nbformat": 4,
 "nbformat_minor": 4
}
