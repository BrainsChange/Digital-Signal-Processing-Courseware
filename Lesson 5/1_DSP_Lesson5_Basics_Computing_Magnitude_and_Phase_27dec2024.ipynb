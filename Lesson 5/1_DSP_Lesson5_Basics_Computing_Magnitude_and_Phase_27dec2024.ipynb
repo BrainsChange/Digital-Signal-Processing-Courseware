{
 "cells": [
  {
   "cell_type": "markdown",
   "metadata": {},
   "source": [
    "#### Digital Signal Processing Courseware: An Introduction (copyright © 2024)\n",
    "## Authors: J. Christopher Edgar and Gregory A. Miller\n",
    "\n",
    "Originally written in Mathematica by J. Christopher Edgar. Conversion to Jupyter Notebook by Song Liu.\n",
    "\n",
    "The authors of this courseware are indebted to Prof. Bruce Carpenter (University of Illinois Urbana-Champaign). Bruce inspired the creation of this courseware, he consulted with the authors as this courseware was being developed, and he provided the original version of the code and text for several sections of this courseware (e.g. the section on complex numbers and the section on normal distributions)."
   ]
  },
  {
   "cell_type": "markdown",
   "metadata": {},
   "source": [
    "# <font color=red>DSP.05 Computing Magnitude and Phase </font>"
   ]
  },
  {
   "cell_type": "markdown",
   "metadata": {},
   "source": [
    "# <font color=red>BASICS</font>"
   ]
  },
  {
   "cell_type": "markdown",
   "metadata": {},
   "source": [
    "### Setup"
   ]
  },
  {
   "cell_type": "code",
   "execution_count": null,
   "metadata": {},
   "outputs": [],
   "source": [
    "# general imports\n",
    "import numpy as np\n",
    "import matplotlib.pyplot as plt\n",
    "from matplotlib import image as img\n",
    "from matplotlib import cm\n",
    "from mpl_toolkits import mplot3d\n",
    "from scipy.fft import fft, fftfreq\n",
    "from sympy import Symbol, sin, series\n",
    "from sympy import roots, solve_poly_system\n",
    "import scipy.special\n",
    "import matplotlib.patches as patches\n",
    "import math\n",
    "import cmath\n",
    "import pandas as pd\n",
    "\n",
    "import warnings\n",
    "warnings.filterwarnings('ignore')\n",
    "\n",
    "# Figure size \n",
    "plt.rc(\"figure\", figsize=(8, 6))\n",
    "\n",
    "#function to create time course figure\n",
    "#one waveform\n",
    "def make_plot_1(x1,y1,type=\"b\"): \n",
    "    plt.plot(x1, y1,type)\n",
    "    plt.margins(x=0, y=0)\n",
    "    plt.axhline(y=0, color='k')\n",
    "    plt.tick_params(labelbottom = False, bottom = False)\n",
    "    \n",
    "#two overlaid waveforms with red and blue   \n",
    "def make_plot_2(x1,y1,type1,x2,y2,type2): \n",
    "    plt.plot(x1, y1, type1)\n",
    "    plt.plot(x2, y2, type2)\n",
    "    plt.margins(x=0, y=0)\n",
    "    plt.axhline(y=0, color='k')\n",
    "    plt.tick_params(labelbottom = False, bottom = False)\n",
    "    \n",
    "#three overlaid waveforms with red, blue and green   \n",
    "def make_plot_3(x1,y1,type1,x2,y2,type2,x3,y3,type3): \n",
    "    plt.plot(x1, y1, type1)\n",
    "    plt.plot(x2, y2, type2)\n",
    "    plt.plot(x3, y3, type3)\n",
    "    plt.margins(x=0, y=0)\n",
    "    plt.axhline(y=0, color='k')\n",
    "    plt.tick_params(labelbottom = False, bottom = False)\n",
    "    \n",
    "def make_plot_3d(ax,x,y,z):    \n",
    "    ax.contour3D(x, y, z, 50, cmap=cm.coolwarm)\n",
    "    ax.set_xlabel('x')\n",
    "    ax.set_ylabel('y')\n",
    "    ax.set_zlabel('z')\n",
    "    \n",
    "def make_plot_freq_1(x1,sample_rate, duration=1): \n",
    "    N = sample_rate * duration\n",
    "    Nhalf = math.ceil(N/2)\n",
    "    yf = fft(x1)\n",
    "    xf = fftfreq(N, 1 / sample_rate)\n",
    "    yf = yf[0:Nhalf]\n",
    "    xf = xf[0:Nhalf]\n",
    "    plt.plot(xf, np.abs(yf))\n",
    "    \n",
    "#two spectrums\n",
    "def make_plot_freq_2(x1,x2,sample_rate, duration=1): \n",
    "    N = sample_rate * duration\n",
    "    Nhalf = math.ceil(N/2)\n",
    "    yf1 = fft(x1)\n",
    "    yf2 = fft(x2)\n",
    "    xf = fftfreq(N, 1 / sample_rate)\n",
    "\n",
    "    yf1 = yf1[0:Nhalf]\n",
    "    yf2 = yf2[0:Nhalf]\n",
    "    xf = xf[0:Nhalf]\n",
    "\n",
    "    plt.plot(xf, np.abs(yf1))\n",
    "    plt.plot(xf, np.abs(yf2), color = 'r')\n",
    "    \n",
    "def make_imshow(x):\n",
    "    plt.imshow(x,cmap='Greys_r')\n",
    "    plt.tick_params(labelbottom = False, bottom = False)\n",
    "    plt.tick_params(labelleft = False, left = False)\n",
    "    \n",
    "def make_imshow_color(x):\n",
    "    plt.imshow(x)\n",
    "    plt.tick_params(labelbottom = False, bottom = False)\n",
    "    plt.tick_params(labelleft = False, left = False)\n",
    "    \n",
    "def round_complex(x):\n",
    "    return complex(np.round(x.real,4),np.round(x.imag,4))\n",
    "\n",
    "#unknown magnitudes, frequencies and phases\n",
    "unknownfreq1 = 3\n",
    "unknownmag1 = 5\n",
    "unknownphase1 = np.pi/4\n",
    " \n",
    "unknownfreq2 = 2\n",
    "unknownmag2 =5\n",
    "unknownphase2 = np.pi/2\n",
    " \n",
    "unknownfreq3= 4\n",
    "unknownmag3 = 8\n",
    "unknownphase3 = 0"
   ]
  },
  {
   "cell_type": "markdown",
   "metadata": {},
   "source": [
    "## <font color=red>DSP.05.B1) Multiplying Waves of the Same Frequency but Different Phase</font>"
   ]
  },
  {
   "cell_type": "markdown",
   "metadata": {},
   "source": [
    "### <font color=red>DSP.05.B1.a) A Short Review - Waves of the Same Frequency</font>"
   ]
  },
  {
   "cell_type": "markdown",
   "metadata": {},
   "source": [
    "Run the code to multiply two 8 Hz sine waves. The 2 waveforms being multiplied have the same frequency and phase but are different magnitudes: the first is 5 times larger than the second. "
   ]
  },
  {
   "cell_type": "code",
   "execution_count": null,
   "metadata": {},
   "outputs": [],
   "source": [
    "time = np.arange(0,1,0.001) #create an array representing 1 second\n",
    "freq = 8\n",
    "\n",
    "timeseries = 5 * np.sin(2*np.pi * freq * time) * np.sin(2*np.pi * freq * time) # (5 * sin(2𝜋 * 8 * time)) * sin(2𝜋 * 8 * time)\n",
    "\n",
    "make_plot_1(time,timeseries)\n",
    "plt.text(1,0,'1 sec',fontsize=15)\n",
    "plt.show()"
   ]
  },
  {
   "cell_type": "markdown",
   "metadata": {},
   "source": [
    "As you already know: because the two multiplied sine waves are the same frequency and are in phase, the mean is nonzero. \n",
    "    \n",
    "Integrate the timeseries over the 1 second interval and then divide by 0.5 seconds to calculate\n",
    "the magnitude of 8 Hz activity (dividing by 1 second would calculate mean activity). This is one way to quantify how much energy there is in the waveform. (If you haven't had or don't remember calculus, in this context \"integrate\" means compute the area under the curve relative to the zero line.)"
   ]
  },
  {
   "cell_type": "code",
   "execution_count": null,
   "metadata": {},
   "outputs": [],
   "source": [
    "from scipy.integrate import quad\n",
    "\n",
    "def integrand(x):\n",
    "    return 5 * np.sin(2*np.pi * freq * x) * np.sin(2*np.pi * freq * x)\n",
    "\n",
    "quad(integrand, 0, 1)[0] / 0.5"
   ]
  },
  {
   "cell_type": "markdown",
   "metadata": {},
   "source": [
    "As shown in the above code, the 8 Hz sine wave was multiplied by 5.\n",
    "\n",
    "Take a look at the individual waveforms to see what is happening."
   ]
  },
  {
   "cell_type": "code",
   "execution_count": null,
   "metadata": {},
   "outputs": [],
   "source": [
    "time = np.arange(0,1,0.001)\n",
    "freq = 8\n",
    "\n",
    "B = 5 * np.sin(2*np.pi * freq * time) #The 8 Hz sine wave with a gain of 5 \n",
    "R = np.sin(2*np.pi * freq * time) #The 8 Hz sine wave with a gain of 1 (i.e., no change from default)\n",
    "G = 5 * np.sin(2*np.pi * freq * time) * np.sin(2*np.pi * freq * time) #8 Hz sine wave with a gain of 5 X a 8 Hz sine wave\n",
    "\n",
    "make_plot_3(time,B,\"blue\",time,R,\"red\",time,G,\"green\")\n",
    "plt.text(1,0,'1 sec',fontsize=15)\n",
    "plt.show()"
   ]
  },
  {
   "cell_type": "markdown",
   "metadata": {},
   "source": [
    "The product is shown in green. To obtain the green waveform, the two sine waves were multiplied,\n",
    "sample-by-sample, across time. For example, at $π$/2 (90°), the max of one sine wave was multiplied by\n",
    "the max of the second sine wave (5 × 1 = 5). This computed the maximum peak in the green waveform.\n",
    "All multiplied values range between a low of 0 and a high of 5. Note that, because the sine waves\n",
    "were always in phase, when one was negative the other was negative, so the product was never negative."
   ]
  },
  {
   "cell_type": "markdown",
   "metadata": {},
   "source": [
    "### <font color=red>DSP.05.B1.b) Multiplying Sine Waves of the Same Frequency but Different Phase</font>"
   ]
  },
  {
   "cell_type": "markdown",
   "metadata": {},
   "source": [
    "Stay with the example above, but this time add a 45 degree phase shift  to the first sine wave. Recall that a 45 degree phase shift is $π$/4 radians, which is 1/8 of a cycle, since one complete cycle is 2$π$ radians."
   ]
  },
  {
   "cell_type": "code",
   "execution_count": null,
   "metadata": {},
   "outputs": [],
   "source": [
    "time = np.arange(0,1,0.001)\n",
    "freq = 8\n",
    "\n",
    "timeseries = 5 * np.sin(2*np.pi * freq * time + np.pi/4) * np.sin(2*np.pi * freq * time)\n",
    "\n",
    "make_plot_1(time,timeseries)\n",
    "plt.text(1,0,'1 sec',fontsize=15)\n",
    "plt.show()"
   ]
  },
  {
   "cell_type": "markdown",
   "metadata": {},
   "source": [
    "Integrate the timeseries over the 1 second interval and then divide by 0.5 seconds to calculate\n",
    "the magnitude of 8 Hz activity (dividing by 1 second would calculate mean activity).  "
   ]
  },
  {
   "cell_type": "code",
   "execution_count": null,
   "metadata": {},
   "outputs": [],
   "source": [
    "from scipy.integrate import quad\n",
    "\n",
    "def integrand(x):\n",
    "    return 5 * np.sin(2*np.pi * freq * x + np.pi/4) * np.sin(2*np.pi * freq * x)\n",
    "\n",
    "quad(integrand, 0, 1)[0] / 0.5"
   ]
  },
  {
   "cell_type": "markdown",
   "metadata": {},
   "source": [
    "Although the magnitude value is still non-zero, it doesn't match the magnitude value we got when there was no phase difference: 5 (no phase\n",
    "shift) versus 3.54 (phase shift).\n",
    "    \n",
    "What is going on?"
   ]
  },
  {
   "cell_type": "markdown",
   "metadata": {},
   "source": [
    "Answer: Take a look at the individual waveforms."
   ]
  },
  {
   "cell_type": "code",
   "execution_count": null,
   "metadata": {},
   "outputs": [],
   "source": [
    "time = np.arange(0,1,0.001)\n",
    "freq = 8\n",
    "\n",
    "B = 5 * np.sin(2*np.pi * freq * time+ np.pi/4) #The 8 Hz sine wave with a 45 degree phase shift and a gain of 5\n",
    "R = np.sin(2*np.pi * freq * time) #8 Hz sine wave with no gain or phase shift\n",
    "G = 5 * np.sin(2*np.pi * freq * time+ np.pi/4) * np.sin(2*np.pi * freq * time) #8 Hz sine wave with a 45 degree phase shift and a gain of 5 X a 8 Hz sine wave\n",
    "\n",
    "make_plot_3(time,B,\"blue\",time,R,\"red\",time,G,\"green\")\n",
    "plt.text(1,0,'1 sec',fontsize=15)\n",
    "plt.show()"
   ]
  },
  {
   "cell_type": "markdown",
   "metadata": {},
   "source": [
    "The blue and red waves are the two constituent signals. The wave resulting from their multiplication (green) is similar to that obtained for the non-shifted sine wave, except that it's shifted\n",
    "down a small amount. As a result, the magnitude and mean values when the original sine wave is\n",
    "phase-shifted compared to the 'probe' (the second signal) are less than the magnitude and mean values when the\n",
    "original and 'probe' waves are in phase. As a result, the correct magnitude value (5 in this example)\n",
    "is not calculated.\n",
    "\n",
    "To obtain the correct magnitude value, one possibility is to change the phase of the 'probe' sine wave,\n",
    "iteratively searching through lots of different phase values to identify phase that produces the largest magnitude value.\n",
    "\n",
    "We happen to know that the phase shift of the first signal is 45 degrees. Modify the code so the 'probe' sine wave (still with\n",
    "unity gain) has the same 45 degree phase shift."
   ]
  },
  {
   "cell_type": "code",
   "execution_count": null,
   "metadata": {},
   "outputs": [],
   "source": [
    "time = np.arange(0,1,0.001)\n",
    "freq = 8\n",
    "\n",
    "timeseries = 5 * np.sin(2*np.pi * freq * time + np.pi/4) * np.sin(2*np.pi * freq * time+ np.pi/4)\n",
    "\n",
    "make_plot_1(time,timeseries)\n",
    "plt.text(1,0,'1 sec',fontsize=15)\n",
    "plt.show()"
   ]
  },
  {
   "cell_type": "markdown",
   "metadata": {},
   "source": [
    "Calculate the magnitude."
   ]
  },
  {
   "cell_type": "code",
   "execution_count": null,
   "metadata": {},
   "outputs": [],
   "source": [
    "from scipy.integrate import quad\n",
    "\n",
    "def integrand(x):\n",
    "    return 5 * np.sin(2*np.pi * freq * x + np.pi/4) * np.sin(2*np.pi * freq * x+ np.pi/4)\n",
    "\n",
    "round(quad(integrand, 0, 1)[0] / 0.5)"
   ]
  },
  {
   "cell_type": "markdown",
   "metadata": {},
   "source": [
    "That works. The magnitude value is now correctly calculated."
   ]
  },
  {
   "cell_type": "markdown",
   "metadata": {},
   "source": [
    "### <font color=red>DSP.05.B1.c) An Alternative to Changing the Phase</font>"
   ]
  },
  {
   "cell_type": "markdown",
   "metadata": {},
   "source": [
    "Here is the product of an 8 Hz timeseries with a phase shift and a 'probe' sine wave with unity gain and no phase shift."
   ]
  },
  {
   "cell_type": "code",
   "execution_count": null,
   "metadata": {},
   "outputs": [],
   "source": [
    "time = np.arange(0,1,0.001)\n",
    "freq = 8\n",
    "\n",
    "timeseries = 5 * np.sin(2*np.pi * freq * time + np.pi/4) * np.sin(2*np.pi * freq * time)\n",
    "\n",
    "make_plot_1(time,timeseries)\n",
    "plt.text(1,0,'1 sec',fontsize=15)\n",
    "plt.show()"
   ]
  },
  {
   "cell_type": "markdown",
   "metadata": {},
   "source": [
    "Lately we've been talking just about sine waves, but earlier we discussed modeling signals as a combination of sine and cosine waves. You'll recall that we can think of a cosine wave as a sine wave shifted by $π$/2 radians (90°). Treating sine waves and cosine waves as separate building blocks will simplify something we want to do shortly. First, we'll calculate the magnitude of the sine part of a waveform. (In a moment, we'll refer to the sine part of the signal as 'a'.)"
   ]
  },
  {
   "cell_type": "code",
   "execution_count": null,
   "metadata": {},
   "outputs": [],
   "source": [
    "from scipy.integrate import quad\n",
    "\n",
    "def integrand(x):\n",
    "    return 5 * np.sin(2*np.pi * freq * x + np.pi/4) * np.sin(2*np.pi * freq * x)\n",
    "\n",
    "a = quad(integrand, 0, 1)[0] / 0.5\n",
    "a"
   ]
  },
  {
   "cell_type": "markdown",
   "metadata": {},
   "source": [
    "Because of the phase shift, this magnitude value is not the magnitude value in the original sine wave.\n",
    "Instead of iteratively changing the phase of the second sine wave until the largest value is obtained, is\n",
    "there a simpler method?"
   ]
  },
  {
   "cell_type": "markdown",
   "metadata": {},
   "source": [
    "Answer:\n",
    "    \n",
    "Recall this trigonometric identity, based on the Pythagorean Theorem:  $sin^2\\theta + cos^2\\theta = 1$ .\n",
    "\n",
    "This trigonometric identity indicates that our taking a second measurement with a 'probe' cosine wave will provide the remaining magnitude information. So, in the next code cell, instead of mulitplying the original sine wave signal by a 'probe' sine wave, we'll multiply the original sive wave signal by a 'probe' cosine wave."
   ]
  },
  {
   "cell_type": "code",
   "execution_count": null,
   "metadata": {},
   "outputs": [],
   "source": [
    "time = np.arange(0,1,0.001)\n",
    "freq = 8\n",
    "\n",
    "timeseries = 5 * np.sin(2*np.pi * freq * time + np.pi/4) * np.cos(2*np.pi * freq * time)\n",
    "\n",
    "make_plot_1(time,timeseries)\n",
    "plt.text(1,0,'1 sec',fontsize=15)\n",
    "plt.show()"
   ]
  },
  {
   "cell_type": "markdown",
   "metadata": {},
   "source": [
    "Calculate the magnitude of the cosine part (in a moment we'll refer to the cosine part as 'b')."
   ]
  },
  {
   "cell_type": "code",
   "execution_count": null,
   "metadata": {},
   "outputs": [],
   "source": [
    "from scipy.integrate import quad\n",
    "\n",
    "def integrand(x):\n",
    "    return 5 * np.sin(2*np.pi * freq * x + np.pi/4) * np.cos(2*np.pi * freq * x)\n",
    "\n",
    "b = quad(integrand, 0, 1)[0] / 0.5\n",
    "b"
   ]
  },
  {
   "cell_type": "markdown",
   "metadata": {},
   "source": [
    "To calculate the magnitude of 8 Hz activity, recall the Pythagorean formula $a^2 + b^2 = c^2$ .\n",
    "\n",
    "To solve for c, calculate $\\sqrt{a^2 + b^2}  (= \\sqrt{sin^2 θ + cos^2 θ })$."
   ]
  },
  {
   "cell_type": "code",
   "execution_count": null,
   "metadata": {},
   "outputs": [],
   "source": [
    "round(np.sqrt(a**2 + b**2))"
   ]
  },
  {
   "cell_type": "markdown",
   "metadata": {},
   "source": [
    "As expected, the magnitude value is 5. So, now we have a way to recover the full magnitude. The trick is to use separate sine and cosine building blocks to handle the possibility of a phase difference between the original waveforms. This strategy gives us the full magnitude right away, instead of our having to try lots of phase shifts to find the maximum."
   ]
  },
  {
   "cell_type": "markdown",
   "metadata": {},
   "source": [
    "### <font color=red>DSP.05.B1.d) An Alternative to Changing the Phase - a Second Example</font>"
   ]
  },
  {
   "cell_type": "markdown",
   "metadata": {},
   "source": [
    "Here is an example with a sine wave signal with a phase offset of $π$/2 radians (90°), multiplied with our original 'probe\" sine wave."
   ]
  },
  {
   "cell_type": "code",
   "execution_count": null,
   "metadata": {},
   "outputs": [],
   "source": [
    "time = np.arange(0,1,0.001)\n",
    "freq = 8\n",
    "\n",
    "timeseries = 5 * np.sin(2*np.pi * freq * time + np.pi/2) * np.sin(2*np.pi * freq * time)\n",
    "\n",
    "make_plot_1(time,timeseries)\n",
    "plt.text(1,0,'1 sec',fontsize=15)\n",
    "plt.show()"
   ]
  },
  {
   "cell_type": "markdown",
   "metadata": {},
   "source": [
    "Calculate the magnitude."
   ]
  },
  {
   "cell_type": "code",
   "execution_count": null,
   "metadata": {},
   "outputs": [],
   "source": [
    "from scipy.integrate import quad\n",
    "\n",
    "def integrand(x):\n",
    "    return 5 * np.sin(2*np.pi * freq * x + np.pi/2) * np.sin(2*np.pi * freq * x)\n",
    "\n",
    "a = quad(integrand, 0, 1)[0] / 0.5\n",
    "round(a,5)"
   ]
  },
  {
   "cell_type": "markdown",
   "metadata": {},
   "source": [
    "The magnitude value is zero. What happened to all the energy in the original sine wave signal? What is going on?\n",
    "\n",
    "Answer:\n",
    "    \n",
    "Take a look at the individual waveforms."
   ]
  },
  {
   "cell_type": "code",
   "execution_count": null,
   "metadata": {},
   "outputs": [],
   "source": [
    "time = np.arange(0,1,0.001)\n",
    "freq = 8\n",
    "\n",
    "B = 5 * np.sin(2*np.pi * freq * time+ np.pi/2) #8 Hz sine wave with a 90 degree phase shift and a gain of 5\n",
    "R = np.sin(2*np.pi * freq * time) #8 Hz sine wave with no gain or phase shift\n",
    "G = 5 * np.sin(2*np.pi * freq * time+ np.pi/2) * np.sin(2*np.pi * freq * time) #8 Hz sine wave with a 90 degree phase shift and a gain of 5 X a \n",
    "\n",
    "\n",
    "make_plot_3(time,B,\"blue\",time,R,\"red\",time,G,\"green\")\n",
    "plt.text(1,0,'1 sec',fontsize=15)\n",
    "plt.show()\n"
   ]
  },
  {
   "cell_type": "markdown",
   "metadata": {},
   "source": [
    "Because of a phase shift of $π$/2 radians (90°) in the original (blue) sine wave signal, the green timeseries resulting from the multiplication with the 'probe' is centered symmetrically about the x axis. (A 180-degree phase shift would flip the sine wave but would still be centered symmetrically about the x axis.) As a result, the mean value is zero: because activity oscillates symmetrically above and\n",
    "below the x axis, the magnitude value is zero.\n",
    "\n",
    "Instead of iteratively changing the phase in the second 'probe' sine wave until the largest magnitude\n",
    "value is obtained, can you think of a more elegant method?"
   ]
  },
  {
   "cell_type": "markdown",
   "metadata": {},
   "source": [
    "Answer:\n",
    "    \n",
    "Recall this trigonometric identity: $sin^2 θ + cos^2 θ = 1$ .\n",
    "    \n",
    "This trigonometric identity indicates that, if we take a second measurement with a 'probe' cosine wave,\n",
    "the remaining 8 Hz activity will be measured. In particular, because the sine and cosine functions are\n",
    "complementary, in the present case, where multiplying by the Sin[8x] timeseries didn't 'pick up' any activity, multiplying by Cos[8x] 'picks up' the total magnitude value. What helps this work is that\n",
    "sine and cosine functions at the same frequency and phase are uncorrelated. That means that the\n",
    "cosine function is in a great position to align with activity that is uncorrelated with the sine function. (Viewed in a statistical framework, they're positioned to correlated with, and represent, distinct sources of variance.)\n",
    "\n",
    "Take a measurement of the magnitude with a 'probe' cosine wave."
   ]
  },
  {
   "cell_type": "code",
   "execution_count": null,
   "metadata": {},
   "outputs": [],
   "source": [
    "time = np.arange(0,1,0.001)\n",
    "freq = 8\n",
    "\n",
    "timeseries = 5 * np.sin(2*np.pi * freq * time + np.pi/2) * np.cos(2*np.pi * freq * time)\n",
    "\n",
    "make_plot_1(time,timeseries)\n",
    "plt.text(1,0,'1 sec',fontsize=15)\n",
    "plt.show()"
   ]
  },
  {
   "cell_type": "markdown",
   "metadata": {},
   "source": [
    "Calculate the magnitude of the cosine part."
   ]
  },
  {
   "cell_type": "code",
   "execution_count": null,
   "metadata": {},
   "outputs": [],
   "source": [
    "from scipy.integrate import quad\n",
    "\n",
    "def integrand(x):\n",
    "    return 5 * np.sin(2*np.pi * freq * x + np.pi/2) * np.cos(2*np.pi * freq * x)\n",
    "\n",
    "b = quad(integrand, 0, 1)[0] / 0.5\n",
    "round(b,5)"
   ]
  },
  {
   "cell_type": "markdown",
   "metadata": {},
   "source": [
    "A magnitude value of 5. Just what we expected."
   ]
  },
  {
   "cell_type": "markdown",
   "metadata": {},
   "source": [
    "### <font color=red>DSP.05.B1.e) An Alternative</font>"
   ]
  },
  {
   "cell_type": "markdown",
   "metadata": {},
   "source": [
    "Obtain a measure of the magnitude of the original timeseries using 'probe' sine and then cosine\n",
    "components."
   ]
  },
  {
   "cell_type": "code",
   "execution_count": null,
   "metadata": {},
   "outputs": [],
   "source": [
    "time = np.arange(0,1,0.001)\n",
    "freq = 8\n",
    "\n",
    "timeseries = 5 * np.sin(2*np.pi * freq * time + np.pi/3) * np.sin(2*np.pi * freq * time)\n",
    "\n",
    "make_plot_1(time,timeseries)\n",
    "plt.text(1,0,'1 sec',fontsize=15)\n",
    "plt.show()"
   ]
  },
  {
   "cell_type": "markdown",
   "metadata": {},
   "source": [
    "Calculate the magnitude of the sine component. "
   ]
  },
  {
   "cell_type": "code",
   "execution_count": null,
   "metadata": {},
   "outputs": [],
   "source": [
    "from scipy.integrate import quad\n",
    "\n",
    "def integrand(x):\n",
    "    return 5 * np.sin(2*np.pi * freq * x + np.pi/3) * np.sin(2*np.pi * freq * x)\n",
    "\n",
    "a = quad(integrand, 0, 1)[0] / 0.5\n",
    "round(a,5)"
   ]
  },
  {
   "cell_type": "markdown",
   "metadata": {},
   "source": [
    "Calculate the magnitude of the cosine component."
   ]
  },
  {
   "cell_type": "code",
   "execution_count": null,
   "metadata": {},
   "outputs": [],
   "source": [
    "time = np.arange(0,1,0.001)\n",
    "freq = 8\n",
    "\n",
    "timeseries = 5 * np.sin(2*np.pi * freq * time + np.pi/3) * np.cos(2*np.pi * freq * time)\n",
    "\n",
    "make_plot_1(time,timeseries)\n",
    "plt.text(1,0,'1 sec',fontsize=15)\n",
    "plt.show()"
   ]
  },
  {
   "cell_type": "code",
   "execution_count": null,
   "metadata": {},
   "outputs": [],
   "source": [
    "from scipy.integrate import quad\n",
    "\n",
    "def integrand(x):\n",
    "    return 5 * np.sin(2*np.pi * freq * x + np.pi/3) * np.cos(2*np.pi * freq * x)\n",
    "\n",
    "b = quad(integrand, 0, 1)[0] / 0.5\n",
    "round(b,5)"
   ]
  },
  {
   "cell_type": "markdown",
   "metadata": {},
   "source": [
    "To obtain the needed magnitude value, turn once again to the formula $a^2 + b^2 = c^2$ .\n",
    "To solve for c, calculate $\\sqrt{a^2 +b^2} = \\sqrt{sin^2 θ + cos^2 θ })$."
   ]
  },
  {
   "cell_type": "code",
   "execution_count": null,
   "metadata": {},
   "outputs": [],
   "source": [
    "round(np.sqrt(a**2 + b**2))"
   ]
  },
  {
   "cell_type": "markdown",
   "metadata": {},
   "source": [
    "Checks out.\n",
    "\n",
    "Here is a question...\n",
    "\n",
    "Is it possible to work backwards - to calculate the phase using the above sinepart and cosinepart\n",
    "measures?"
   ]
  },
  {
   "cell_type": "markdown",
   "metadata": {},
   "source": [
    "Answer: Look at this plot. (Recall some trigonometry terms: First, the value of the sine of an angle is the length of the opposite side of a triangle divided by the length of the hypoteneuse. Second, the value of the cosine of an angle is the length of the adjacent side of a triangle divided by the length of the hypoteneuse. Third, the tangent of an angle is the length of the opposite side of a triangle divided by the length of the adjacent side. Fourth, to compute what's called the arctan, you want to determine the angle that creates a given tangent value - you could call that angle the arc that produces a given tangent value.) "
   ]
  },
  {
   "cell_type": "code",
   "execution_count": null,
   "metadata": {},
   "outputs": [],
   "source": [
    "plt.quiver(0, 0, 4.33, 2.5, angles='xy', scale_units='xy', scale=1, color = 'b')\n",
    "plt.xlim(0, 4.33)\n",
    "plt.ylim(0, 2.5)\n",
    "plt.text(4.33 - 0.4, 2.5 + 0.15,'point1 = 4.33 + 2.5',fontsize=15)\n",
    "plt.text(4.5,0,'Cosine',fontsize=15)\n",
    "plt.text(0,2.51,'Sine',fontsize=15)\n",
    "plt.text(1.6,0.05,'CosinePart = 4.33',fontsize=15)\n",
    "plt.text(4.4,1.2,'SinePart = 2.5',fontsize=15)\n",
    "plt.text(4.1,2.2,'$\\phi$',fontsize=25,color='r')\n",
    "plt.show()"
   ]
  },
  {
   "cell_type": "markdown",
   "metadata": {},
   "source": [
    "The arrow shows a vector created from the sinepart and cosinepart values - defined as {cosinepart,\n",
    "sinepart}, providing the x length and the y length. This is Pythagoras at work.\n",
    "\n",
    "Take a look at this trigonometric identity: A Cos x + B Sin x = $\\sqrt{A^2 + B^2} Sin (x + ArcTan \\frac{A}{B} )$ .\n",
    "    \n",
    "This tells us that our sinepart and cosinepart values can be expressed in terms of a sine wave with a magnitude ($\\sqrt{A^2 + B^2}$ ) and with a phase offset of ArcTan (A/B). This phase value corresponds to the angle ϕ in the above plot. Thus, computing the phase of the above timeseries is the same as computing\n",
    "the angle ϕ that this vector forms with respect to the y axis, computed as ArcTan[ Cosinepart/Sinepart ] .The computed phase value is the phase you would add to a sine wave to get the correct phase offset.\n",
    "\n",
    "So, to answer our questions above: yes, it's possible to work backwards - to calculate the phase using the sinepart and cosinepart\n",
    "measures.\n",
    "\n",
    "Calculate ArcTan[ Cosinepart/Sinepart ] ."
   ]
  },
  {
   "cell_type": "code",
   "execution_count": null,
   "metadata": {},
   "outputs": [],
   "source": [
    "phaseradians = round(np.arctan(b/a),4)\n",
    "phaseradians"
   ]
  },
  {
   "cell_type": "markdown",
   "metadata": {},
   "source": [
    "The phase is 1.0472 radians.\n",
    "\n",
    "Don't like radians? Convert to degrees."
   ]
  },
  {
   "cell_type": "code",
   "execution_count": null,
   "metadata": {},
   "outputs": [],
   "source": [
    "phasedegrees = round(phaseradians * 180 / np.pi,2)\n",
    "phasedegrees"
   ]
  },
  {
   "cell_type": "markdown",
   "metadata": {},
   "source": [
    "The original timeseries is 5 * Sin[5 x 2$π$ + $π$/3 ] . Yup - a 60° phase shift. (Let's check this: 60° is 1/6th of 360°. 360° is 2$π$. 1/6th of 2$π$ is 2$π$/6 = $π$/3. So, our putting \"+ $π$/3\" in the Sin command shifts the sine wave by 360°/6 = 60°.) "
   ]
  },
  {
   "cell_type": "markdown",
   "metadata": {},
   "source": [
    "### <font color=red>DSP.05.B1.f) An Alternative to Calculating the Phase - a Final Example</font>"
   ]
  },
  {
   "cell_type": "markdown",
   "metadata": {},
   "source": [
    "Obtain a measure of the phase of the original timeseries using 'probe' sine and then cosine components."
   ]
  },
  {
   "cell_type": "code",
   "execution_count": null,
   "metadata": {},
   "outputs": [],
   "source": [
    "time = np.arange(0,1,0.001)\n",
    "freq = 8\n",
    "\n",
    "timeseries = 5 * np.sin(2*np.pi * freq * time + np.pi/6) * np.sin(2*np.pi * freq * time)\n",
    "\n",
    "make_plot_1(time,timeseries)\n",
    "plt.text(1,0,'1 sec',fontsize=15)\n",
    "plt.show()"
   ]
  },
  {
   "cell_type": "markdown",
   "metadata": {},
   "source": [
    "Calculate the magnitude of the sine component."
   ]
  },
  {
   "cell_type": "code",
   "execution_count": null,
   "metadata": {},
   "outputs": [],
   "source": [
    "from scipy.integrate import quad\n",
    "\n",
    "def integrand(x):\n",
    "    return 5 * np.sin(2*np.pi * freq * x + np.pi/6) * np.sin(2*np.pi * freq * x)\n",
    "\n",
    "a = quad(integrand, 0, 1)[0] / 0.5\n",
    "round(a,5)"
   ]
  },
  {
   "cell_type": "markdown",
   "metadata": {},
   "source": [
    "Calculate the magnitude of the cosine component. "
   ]
  },
  {
   "cell_type": "code",
   "execution_count": null,
   "metadata": {},
   "outputs": [],
   "source": [
    "time = np.arange(0,1,0.001)\n",
    "freq = 8\n",
    "\n",
    "timeseries = 5 * np.sin(2*np.pi * freq * time + np.pi/6) * np.cos(2*np.pi * freq * time)\n",
    "\n",
    "make_plot_1(time,timeseries)\n",
    "plt.text(1,0,'1 sec',fontsize=15)\n",
    "plt.show()"
   ]
  },
  {
   "cell_type": "code",
   "execution_count": null,
   "metadata": {},
   "outputs": [],
   "source": [
    "from scipy.integrate import quad\n",
    "\n",
    "def integrand(x):\n",
    "    return 5 * np.sin(2*np.pi * freq * x + np.pi/6) * np.cos(2*np.pi * freq * x)\n",
    "\n",
    "b = quad(integrand, 0, 1)[0] / 0.5\n",
    "round(b,5)"
   ]
  },
  {
   "cell_type": "markdown",
   "metadata": {},
   "source": [
    "To obtain the needed magnitude value, turn once again to the formula $a^2 + b^2 = c^2$ .\n",
    "To solve for c, calculate $\\sqrt{a^2 +b^2} = \\sqrt{sin^2 θ + cos^2 θ })$."
   ]
  },
  {
   "cell_type": "code",
   "execution_count": null,
   "metadata": {},
   "outputs": [],
   "source": [
    "round(np.sqrt(a**2 + b**2))"
   ]
  },
  {
   "cell_type": "markdown",
   "metadata": {},
   "source": [
    "To obtain the phase value, calculate the phase as ArcTan[ Cosinepart/Sinepart ] ."
   ]
  },
  {
   "cell_type": "code",
   "execution_count": null,
   "metadata": {},
   "outputs": [],
   "source": [
    "phaseradians = round(np.arctan(b/a),5)\n",
    "phaseradians"
   ]
  },
  {
   "cell_type": "markdown",
   "metadata": {},
   "source": [
    "The phase is 0.524 radians. (The above python 'round' command is used to round a number to a specified number of decimal places. Throughout this courseware, the final value differs depending on numerical precision desired.)\n",
    "\n",
    "Don't like radians? Convert to degrees."
   ]
  },
  {
   "cell_type": "code",
   "execution_count": null,
   "metadata": {},
   "outputs": [],
   "source": [
    "phasedegrees = round(phaseradians * 180 / np.pi)\n",
    "phasedegrees"
   ]
  },
  {
   "cell_type": "markdown",
   "metadata": {},
   "source": [
    "Yup - checks out."
   ]
  },
  {
   "cell_type": "markdown",
   "metadata": {},
   "source": [
    "## <font color=red>DSP.05.B2) Obtaining the Magnitude and Phase of a Timeseries Containing Two Sine Waves</font>"
   ]
  },
  {
   "cell_type": "markdown",
   "metadata": {},
   "source": [
    "### <font color=red>DSP.05.B2.a) Probing a Timeseries</font>"
   ]
  },
  {
   "cell_type": "markdown",
   "metadata": {},
   "source": [
    "The examples in B.1 indicate that, by multiplying a timeseries with a sine 'probe' and then a cosine 'probe' of a given\n",
    "frequency, magnitude and phase measures of activity in the original timeseries at the 'probe' frequency\n",
    "are obtained. It stands to reason that, if we encountered a timeseries of unknown frequency(ies), the\n",
    "procedures outlined above could be used to determine the unknown frequency(ies) and their associated magnitude\n",
    "and phase values. Consider: if the unknown frequency(ies) aren’t what we probe with, we’ll turn up\n",
    "zero magnitude. If we probe with a frequency that’s present in the unknown signal, we’ll identify\n",
    "that frequency and its phase. Give it a try."
   ]
  },
  {
   "cell_type": "markdown",
   "metadata": {},
   "source": [
    "Start with an example where we know the answer - a 3 Hz sine wave (amplitude = 8 units and phase\n",
    "shift = 45 degrees). Assume the frequency is unknown, and start by multiplying the observed sine wave\n",
    "timeseries by a 1 Hz 'probe' sine function."
   ]
  },
  {
   "cell_type": "code",
   "execution_count": null,
   "metadata": {},
   "outputs": [],
   "source": [
    "time = np.arange(0,1,0.001)\n",
    "freq = 3\n",
    "\n",
    "timeseries = 8 * np.sin(2*np.pi * freq * time + np.pi/4) * np.sin(2*np.pi * 1 * time)\n",
    "\n",
    "make_plot_1(time,timeseries)\n",
    "plt.text(1,0,'1 sec',fontsize=15)\n",
    "plt.show()"
   ]
  },
  {
   "cell_type": "markdown",
   "metadata": {},
   "source": [
    "The plot shows the product of the 3 Hz sine wave and 1 Hz sine wave. In terms of magnitude, the waveform appears to be\n",
    "symmetric about the x axis.\n",
    "\n",
    "Calculate the 1 Hz sine magnitude component."
   ]
  },
  {
   "cell_type": "code",
   "execution_count": null,
   "metadata": {},
   "outputs": [],
   "source": [
    "from scipy.integrate import quad\n",
    "\n",
    "def integrand(x):\n",
    "    return 8 * np.sin(2*np.pi * freq * x + np.pi/4) * np.sin(2*np.pi * 1 * x)\n",
    "\n",
    "a = quad(integrand, 0, 1)[0] / 0.5\n",
    "round(a,5)"
   ]
  },
  {
   "cell_type": "markdown",
   "metadata": {},
   "source": [
    "The magnitude is zero, because the waveform is symmetric about the x axis. Now multiply the timeseries by a 1 Hz 'probe' cosine function."
   ]
  },
  {
   "cell_type": "code",
   "execution_count": null,
   "metadata": {},
   "outputs": [],
   "source": [
    "time = np.arange(0,1,0.001)\n",
    "freq = 3\n",
    "\n",
    "timeseries = 8 * np.sin(2*np.pi * freq * time + np.pi/4) * np.cos(2*np.pi * 1 * time)\n",
    "\n",
    "make_plot_1(time,timeseries)\n",
    "plt.text(1,0,'1 sec',fontsize=15)\n",
    "plt.show()"
   ]
  },
  {
   "cell_type": "markdown",
   "metadata": {},
   "source": [
    "The plot shows the product of the 3 Hz sine wave and 1 Hz cosine wave. In terms fo magnitude, the waveform appears to be\n",
    "symmetric about the x axis.\n",
    "\n",
    "Calculate the cosine magnitude component."
   ]
  },
  {
   "cell_type": "code",
   "execution_count": null,
   "metadata": {},
   "outputs": [],
   "source": [
    "from scipy.integrate import quad\n",
    "\n",
    "def integrand(x):\n",
    "    return 8 * np.sin(2*np.pi * freq * x + np.pi/4) * np.cos(2*np.pi * 1 * x)\n",
    "\n",
    "b = quad(integrand, 0, 1)[0] / 0.5\n",
    "round(b,5)"
   ]
  },
  {
   "cell_type": "markdown",
   "metadata": {},
   "source": [
    "Calculate the total magnitude of 1 Hz activity using $\\sqrt{(sin^2 θ + cos^2 θ)}$ ."
   ]
  },
  {
   "cell_type": "code",
   "execution_count": null,
   "metadata": {},
   "outputs": [],
   "source": [
    "round(np.sqrt(a**2 + b**2))"
   ]
  },
  {
   "cell_type": "markdown",
   "metadata": {},
   "source": [
    "In summary, both our sine 'probe' and our cosine 'probe' turned up nothing. So, there must be no activity at 1 Hz in the original signal.\n",
    "\n",
    "Try 2 Hz probes."
   ]
  },
  {
   "cell_type": "code",
   "execution_count": null,
   "metadata": {},
   "outputs": [],
   "source": [
    "time = np.arange(0,1,0.001)\n",
    "freq = 3\n",
    "\n",
    "timeseries = 8 * np.sin(2*np.pi * freq * time + np.pi/4) * np.sin(2*np.pi * 2 * time)\n",
    "\n",
    "make_plot_1(time,timeseries)\n",
    "plt.text(1,0,'1 sec',fontsize=15)\n",
    "plt.show()"
   ]
  },
  {
   "cell_type": "markdown",
   "metadata": {},
   "source": [
    "The plot shows the product of the 3 Hz sine wave and a 'probe' 2 Hz sine wave. The waveform appears to be\n",
    "symmetric about the x axis.\n",
    "\n",
    "Calculate the sine component."
   ]
  },
  {
   "cell_type": "code",
   "execution_count": null,
   "metadata": {},
   "outputs": [],
   "source": [
    "from scipy.integrate import quad\n",
    "\n",
    "def integrand(x):\n",
    "    return  8 * np.sin(2*np.pi * freq * x + np.pi/4) * np.sin(2*np.pi * 2 * x)\n",
    "\n",
    "a = quad(integrand, 0, 1)[0] / 0.5\n",
    "round(a,5)"
   ]
  },
  {
   "cell_type": "markdown",
   "metadata": {},
   "source": [
    "Now multiply the timeseries by a 'probe' cosine 2 Hz function."
   ]
  },
  {
   "cell_type": "code",
   "execution_count": null,
   "metadata": {},
   "outputs": [],
   "source": [
    "time = np.arange(0,1,0.001)\n",
    "freq = 3\n",
    "\n",
    "timeseries =  8 * np.sin(2*np.pi * freq * time + np.pi/4) * np.cos(2*np.pi * 2 * time)\n",
    "\n",
    "make_plot_1(time,timeseries)\n",
    "plt.text(1,0,'1 sec',fontsize=15)\n",
    "plt.show()"
   ]
  },
  {
   "cell_type": "markdown",
   "metadata": {},
   "source": [
    "The plot shows the product of the 3 Hz sine wave and a 'probe' 2 Hz cosine wave. The waveform appears to be\n",
    "symmetric about the x axis.\n",
    "\n",
    "Calculate the cosine magnitude component."
   ]
  },
  {
   "cell_type": "code",
   "execution_count": null,
   "metadata": {},
   "outputs": [],
   "source": [
    "from scipy.integrate import quad\n",
    "\n",
    "def integrand(x):\n",
    "    return  8 * np.sin(2*np.pi * freq * x + np.pi/4) * np.cos(2*np.pi * 2 * x)\n",
    "\n",
    "b = quad(integrand, 0, 1)[0] / 0.5\n",
    "round(b,5)"
   ]
  },
  {
   "cell_type": "markdown",
   "metadata": {},
   "source": [
    "Calculate the total magnitude of 2 Hz activity using $\\sqrt{(sin^2 θ + cos^2 θ)}$ ."
   ]
  },
  {
   "cell_type": "code",
   "execution_count": null,
   "metadata": {},
   "outputs": [],
   "source": [
    "round(np.sqrt(a**2 + b**2))"
   ]
  },
  {
   "cell_type": "markdown",
   "metadata": {},
   "source": [
    "No activity at 2 Hz.\n",
    "\n",
    "Try 3 Hz."
   ]
  },
  {
   "cell_type": "code",
   "execution_count": null,
   "metadata": {},
   "outputs": [],
   "source": [
    "time = np.arange(0,1,0.001)\n",
    "freq = 3\n",
    "\n",
    "timeseries =  8 * np.sin(2*np.pi * freq * time + np.pi/4) * np.sin(2*np.pi * 3 * time)\n",
    "\n",
    "make_plot_1(time,timeseries)\n",
    "plt.text(1,0,'1 sec',fontsize=15)\n",
    "plt.show()"
   ]
  },
  {
   "cell_type": "markdown",
   "metadata": {},
   "source": [
    "The plot shows the product of the 3 Hz sine wave and a 'probe' 3 Hz sine wave.The waveform is clearly not\n",
    "symmetric about the x axis.\n",
    "\n",
    "Calculate the sine component."
   ]
  },
  {
   "cell_type": "code",
   "execution_count": null,
   "metadata": {},
   "outputs": [],
   "source": [
    "from scipy.integrate import quad\n",
    "\n",
    "def integrand(x):\n",
    "    return   8 * np.sin(2*np.pi * freq * x + np.pi/4) * np.sin(2*np.pi * 3 * x)\n",
    "\n",
    "a = quad(integrand, 0, 1)[0] / 0.5\n",
    "round(a,5)"
   ]
  },
  {
   "cell_type": "markdown",
   "metadata": {},
   "source": [
    "Now multiply the timeseries by a 'probe' cosine 3 Hz function."
   ]
  },
  {
   "cell_type": "code",
   "execution_count": null,
   "metadata": {},
   "outputs": [],
   "source": [
    "time = np.arange(0,1,0.001)\n",
    "freq = 3\n",
    "\n",
    "timeseries =  8 * np.sin(2*np.pi * freq * time + np.pi/4) * np.cos(2*np.pi * 3 * time)\n",
    "\n",
    "make_plot_1(time,timeseries)\n",
    "plt.text(1,0,'1 sec',fontsize=15)\n",
    "plt.show()"
   ]
  },
  {
   "cell_type": "markdown",
   "metadata": {},
   "source": [
    "The plot shows the product of the 3 Hz sine wave and the 'probe' 3 Hz cosine wave. The waveform is clearly not\n",
    "symmetric about the x axis.\n",
    "\n",
    "Calculate the cosine component."
   ]
  },
  {
   "cell_type": "code",
   "execution_count": null,
   "metadata": {},
   "outputs": [],
   "source": [
    "from scipy.integrate import quad\n",
    "\n",
    "def integrand(x):\n",
    "    return   8 * np.sin(2*np.pi * freq * x + np.pi/4) * np.cos(2*np.pi * 3 * x)\n",
    "\n",
    "b = quad(integrand, 0, 1)[0] / 0.5\n",
    "round(b,5)"
   ]
  },
  {
   "cell_type": "markdown",
   "metadata": {},
   "source": [
    "Calculate the total magnitude of 3 Hz activity using $\\sqrt{(sin^2 θ + cos^2 θ)}$ ."
   ]
  },
  {
   "cell_type": "code",
   "execution_count": null,
   "metadata": {},
   "outputs": [],
   "source": [
    "round(np.sqrt(a**2 + b**2))"
   ]
  },
  {
   "cell_type": "markdown",
   "metadata": {},
   "source": [
    "We've struck gold - 8 units of activity at 3 Hz!\n",
    "\n",
    "Now calculate the phase as ArcTan[ Cosinepart/Sinepart ] ."
   ]
  },
  {
   "cell_type": "code",
   "execution_count": null,
   "metadata": {},
   "outputs": [],
   "source": [
    "phaseradians = round(np.arctan(b/a),6)\n",
    "phaseradians"
   ]
  },
  {
   "cell_type": "markdown",
   "metadata": {},
   "source": [
    "The phase is 0.785398 radians.\n",
    "\n",
    "Don't like radians? Convert to degrees."
   ]
  },
  {
   "cell_type": "code",
   "execution_count": null,
   "metadata": {},
   "outputs": [],
   "source": [
    "phasedegrees = round(phaseradians * 180 / np.pi,1)\n",
    "phasedegrees"
   ]
  },
  {
   "cell_type": "markdown",
   "metadata": {},
   "source": [
    "We could continue the search, but we already know there is no activity above 3 Hz, so take a rest."
   ]
  },
  {
   "cell_type": "markdown",
   "metadata": {},
   "source": [
    "### <font color=red>DSP.05.B2.b) Probing a Timeseries with Two Frequencies</font>"
   ]
  },
  {
   "cell_type": "markdown",
   "metadata": {},
   "source": [
    "Take a timeseries that is the sum of two integer-frequency signals and use the above methods to find the frequencies (and their associated magnitudes) composing the timeseries. We will start with a timeseries with no phase offsets. \n",
    "\n",
    "Start by multiplying the observed timeseries by a 1 Hz 'probe' sine wave."
   ]
  },
  {
   "cell_type": "code",
   "execution_count": null,
   "metadata": {},
   "outputs": [],
   "source": [
    "time = np.arange(0,1,0.001)\n",
    "freq = 3\n",
    "magnitude1 = 5\n",
    "magnitude2 = 5\n",
    "freq1 = 2\n",
    "freq2 = 3\n",
    "\n",
    "timeseries =  (magnitude1 * np.sin(2*np.pi * freq1 * time ) + \n",
    "             magnitude2 * np.sin(2*np.pi * freq2 * time )) * np.sin(2*np.pi * 1 * time)\n",
    "\n",
    "make_plot_1(time,timeseries)\n",
    "plt.text(1,0,'1 sec',fontsize=15)\n",
    "plt.show()"
   ]
  },
  {
   "cell_type": "markdown",
   "metadata": {},
   "source": [
    "Calculate the sine part."
   ]
  },
  {
   "cell_type": "code",
   "execution_count": null,
   "metadata": {},
   "outputs": [],
   "source": [
    "from scipy.integrate import quad\n",
    "\n",
    "def integrand(x):\n",
    "    return  (magnitude1 * np.sin(2*np.pi * freq1 * x ) + \n",
    "             magnitude2 * np.sin(2*np.pi * freq2 * x )) * np.sin(2*np.pi * 1 * x)\n",
    "\n",
    "a = quad(integrand, 0, 1)[0] / 0.5\n",
    "round(a,5)"
   ]
  },
  {
   "cell_type": "markdown",
   "metadata": {},
   "source": [
    "Now multiply the timeseries by a 1 Hz 'probe' cosine wave."
   ]
  },
  {
   "cell_type": "code",
   "execution_count": null,
   "metadata": {},
   "outputs": [],
   "source": [
    "time = np.arange(0,1,0.001)\n",
    "freq = 3\n",
    "magnitude1 =5\n",
    "magnitude2 =5\n",
    "freq1 = 2\n",
    "freq2 = 3\n",
    "\n",
    "timeseries = (magnitude1 * np.sin(2*np.pi * freq1 * time ) + \n",
    "              magnitude2 * np.sin(2*np.pi * freq2 * time )) * np.cos(2*np.pi * 1 * time)\n",
    "\n",
    "make_plot_1(time,timeseries)\n",
    "plt.text(1,0,'1 sec',fontsize=15)\n",
    "plt.show()"
   ]
  },
  {
   "cell_type": "markdown",
   "metadata": {},
   "source": [
    "Calculate the cosine part."
   ]
  },
  {
   "cell_type": "code",
   "execution_count": null,
   "metadata": {},
   "outputs": [],
   "source": [
    "from scipy.integrate import quad\n",
    "\n",
    "def integrand(x):\n",
    "    return  (magnitude1 * np.sin(2*np.pi * freq1 * x ) + \n",
    "             magnitude2 * np.sin(2*np.pi * freq2 * x )) * np.cos(2*np.pi * 1 * x)\n",
    "\n",
    "b = quad(integrand, 0, 1)[0] / 0.5\n",
    "round(b,5)"
   ]
  },
  {
   "cell_type": "markdown",
   "metadata": {},
   "source": [
    "Calculate the total magnitude of 1 Hz activity using $\\sqrt{(sin^2 θ + cos^2 θ)}$ ."
   ]
  },
  {
   "cell_type": "code",
   "execution_count": null,
   "metadata": {},
   "outputs": [],
   "source": [
    "round(np.sqrt(a**2 + b**2))"
   ]
  },
  {
   "cell_type": "markdown",
   "metadata": {},
   "source": [
    "So, we've shown that there's no activity at 1 Hz.\n",
    "\n",
    "Try 2 Hz."
   ]
  },
  {
   "cell_type": "code",
   "execution_count": null,
   "metadata": {},
   "outputs": [],
   "source": [
    "time = np.arange(0,1,0.001)\n",
    "\n",
    "timeseries = (magnitude1 * np.sin(2*np.pi * freq1 * time ) + \n",
    "             magnitude2 * np.sin(2*np.pi * freq2 * time )) * np.sin(2*np.pi * 2 * time)\n",
    "\n",
    "make_plot_1(time,timeseries)\n",
    "plt.text(1,0,'1 sec',fontsize=15)\n",
    "plt.show()"
   ]
  },
  {
   "cell_type": "markdown",
   "metadata": {},
   "source": [
    "Calculate the sine part."
   ]
  },
  {
   "cell_type": "code",
   "execution_count": null,
   "metadata": {},
   "outputs": [],
   "source": [
    "from scipy.integrate import quad\n",
    "\n",
    "def integrand(x):\n",
    "    return  (magnitude1 * np.sin(2*np.pi * freq1 * x ) + \n",
    "             magnitude2 * np.sin(2*np.pi * freq2 * x )) * np.sin(2*np.pi * 2 * x)\n",
    "\n",
    "a = quad(integrand, 0, 1)[0] / 0.5\n",
    "round(a,5)"
   ]
  },
  {
   "cell_type": "markdown",
   "metadata": {},
   "source": [
    "Now multiply the timeseries by a 2 Hz 'probe' cosine wave."
   ]
  },
  {
   "cell_type": "code",
   "execution_count": null,
   "metadata": {},
   "outputs": [],
   "source": [
    "time = np.arange(0,1,0.001)\n",
    "\n",
    "timeseries = (magnitude1 * np.sin(2*np.pi * freq1 * time ) + \n",
    "              magnitude2 * np.sin(2*np.pi * freq2 * time )) * np.cos(2*np.pi * 2 * time)\n",
    "\n",
    "make_plot_1(time,timeseries)\n",
    "plt.text(1,0,'1 sec',fontsize=15)\n",
    "plt.show()"
   ]
  },
  {
   "cell_type": "markdown",
   "metadata": {},
   "source": [
    "Calculate the cosine part."
   ]
  },
  {
   "cell_type": "code",
   "execution_count": null,
   "metadata": {},
   "outputs": [],
   "source": [
    "from scipy.integrate import quad\n",
    "\n",
    "def integrand(x):\n",
    "    return  (magnitude1 * np.sin(2*np.pi * freq1 * x ) + \n",
    "             magnitude2 * np.sin(2*np.pi * freq2 * x )) * np.cos(2*np.pi * 2 * x)\n",
    "\n",
    "b = quad(integrand, 0, 1)[0] / 0.5\n",
    "round(b,5)"
   ]
  },
  {
   "cell_type": "markdown",
   "metadata": {},
   "source": [
    "Calculate the total magnitude of 2 Hz activity using $\\sqrt{(sin^2 θ + cos^2 θ)}$ ."
   ]
  },
  {
   "cell_type": "code",
   "execution_count": null,
   "metadata": {},
   "outputs": [],
   "source": [
    "round(np.sqrt(a**2 + b**2))"
   ]
  },
  {
   "cell_type": "markdown",
   "metadata": {},
   "source": [
    "There is activity at 2 Hz.\n",
    "\n",
    "Try 3 Hz."
   ]
  },
  {
   "cell_type": "code",
   "execution_count": null,
   "metadata": {},
   "outputs": [],
   "source": [
    "time = np.arange(0,1,0.001)\n",
    "\n",
    "timeseries = (magnitude1 * np.sin(2*np.pi * freq1 * time ) + \n",
    "             magnitude2 * np.sin(2*np.pi * freq2 * time )) * np.sin(2*np.pi * 3 * time)\n",
    "\n",
    "make_plot_1(time,timeseries)\n",
    "plt.text(1,0,'1 sec',fontsize=15)\n",
    "plt.show()"
   ]
  },
  {
   "cell_type": "markdown",
   "metadata": {},
   "source": [
    "Calculate the sine part."
   ]
  },
  {
   "cell_type": "code",
   "execution_count": null,
   "metadata": {},
   "outputs": [],
   "source": [
    "from scipy.integrate import quad\n",
    "\n",
    "def integrand(x):\n",
    "    return  (magnitude1 * np.sin(2*np.pi * freq1 * x ) + \n",
    "             magnitude2 * np.sin(2*np.pi * freq2 * x )) * np.sin(2*np.pi * 3 * x)\n",
    "\n",
    "a = quad(integrand, 0, 1)[0] / 0.5\n",
    "round(a,5)"
   ]
  },
  {
   "cell_type": "markdown",
   "metadata": {},
   "source": [
    "Now multiply the timeseries by a 3 Hz 'probe' cosine wave."
   ]
  },
  {
   "cell_type": "code",
   "execution_count": null,
   "metadata": {},
   "outputs": [],
   "source": [
    "time = np.arange(0,1,0.001)\n",
    "freq = 3\n",
    "magnitude1 =5\n",
    "magnitude2 =5\n",
    "freq1 = 2\n",
    "freq2 = 3\n",
    "\n",
    "timeseries = (magnitude1 * np.sin(2*np.pi * freq1 * time ) + \n",
    "             magnitude2 * np.sin(2*np.pi * freq2 * time )) * np.cos(2*np.pi * 3 * time)\n",
    "\n",
    "make_plot_1(time,timeseries)\n",
    "plt.text(1,0,'1 sec',fontsize=15)\n",
    "plt.show()"
   ]
  },
  {
   "cell_type": "markdown",
   "metadata": {},
   "source": [
    "Calculate the cosine part."
   ]
  },
  {
   "cell_type": "code",
   "execution_count": null,
   "metadata": {},
   "outputs": [],
   "source": [
    "from scipy.integrate import quad\n",
    "\n",
    "def integrand(x):\n",
    "    return  (magnitude1 * np.sin(2*np.pi * freq1 * x ) + \n",
    "             magnitude2 * np.sin(2*np.pi * freq2 * x )) * np.cos(2*np.pi * 3 * x)\n",
    "\n",
    "b = quad(integrand, 0, 1)[0] / 0.5\n",
    "round(b,5)"
   ]
  },
  {
   "cell_type": "markdown",
   "metadata": {},
   "source": [
    "Calculate the total magnitude of 3 Hz activity using $\\sqrt{(sin^2 θ + cos^2 θ)}$ ."
   ]
  },
  {
   "cell_type": "code",
   "execution_count": null,
   "metadata": {},
   "outputs": [],
   "source": [
    "round(np.sqrt(a**2 + b**2))"
   ]
  },
  {
   "cell_type": "markdown",
   "metadata": {},
   "source": [
    "There is activity at 3 Hz.\n",
    "\n",
    "Before going further, create a timeseries using the information already obtained and see how this\n",
    "timeseries compares to the original timeseries with unknown values.\n",
    "\n",
    "Here is the original timeseries."
   ]
  },
  {
   "cell_type": "code",
   "execution_count": null,
   "metadata": {},
   "outputs": [],
   "source": [
    "time = np.arange(0,1,0.001)\n",
    "\n",
    "timeseries = magnitude1 * np.sin(2*np.pi * freq1 * time) + magnitude2 * np.sin(2*np.pi * freq2 * time)\n",
    "\n",
    "make_plot_1(time,timeseries)\n",
    "plt.text(1,0,'1 sec',fontsize=15)\n",
    "plt.show()"
   ]
  },
  {
   "cell_type": "markdown",
   "metadata": {},
   "source": [
    "Below is the timeseries created by summing a 2 Hz sine wave with magnitude 5, and a 3 Hz sine wave\n",
    "with magnitude 5, with those values coming from the analysis we did. This plot shows the original and estimated timeseries together. (And remember, in this example we know there is no phase offset.)"
   ]
  },
  {
   "cell_type": "code",
   "execution_count": null,
   "metadata": {},
   "outputs": [],
   "source": [
    "time = np.arange(0,1,0.001)\n",
    "timeseries =5 * np.sin(2*np.pi * 2 * time) +5 * np.sin(2*np.pi * 3 * time)\n",
    "\n",
    "make_plot_1(time,timeseries)\n",
    "plt.text(1,0,'1 sec',fontsize=15)\n",
    "plt.show()"
   ]
  },
  {
   "cell_type": "markdown",
   "metadata": {},
   "source": [
    "Don't see two waveforms? That is because the two waveforms are exactly the same - sharing ink all the\n",
    "way. The frequencies composing the original timeseries were correctly estimated."
   ]
  },
  {
   "cell_type": "markdown",
   "metadata": {},
   "source": [
    "## <font color=red>DSP.05.B3) Obtaining the Magnitude and Phase of a Timeseries Containing Two Sine Waves Using Complex Exponentials</font>"
   ]
  },
  {
   "cell_type": "markdown",
   "metadata": {},
   "source": [
    "### <font color=red>DSP.05.B3.a) A Variation on a Theme</font>"
   ]
  },
  {
   "cell_type": "markdown",
   "metadata": {},
   "source": [
    "In previous sections, a procedure was outlined to determine the frequency(ies) composing a timeseries\n",
    "(as well as the associated magnitude and phase values). Below, we'll see that we can do the same more\n",
    "easily if we use complex exponentials.\n",
    "\n",
    "Recall Euler's identities:\n",
    "\n",
    "\n",
    " $e^{i x} = cos[x] + i sin[x]$\n",
    " \n",
    " $e^{-i x} = cos[x] - i sin[x]$\n",
    "\n",
    "Using the Euler identities, sine and cosine functions can be expressed as complex exponentials (see\n",
    "Lesson 2):\n",
    "\n",
    " $sin[x] = \\frac{e^{i x}-e^{-i x}}{2 i}$\n",
    " \n",
    " $cos[x] = \\frac{e^{i x}+e^{-i x}}{2}$"
   ]
  },
  {
   "cell_type": "markdown",
   "metadata": {},
   "source": [
    "Repeat the procedures outlined above using sine and cosine functions expressed as complex exponentials.\n",
    "Go back to one of the previous examples - a 3 Hz sine wave (amplitude = 8 units, phase shift = 45\n",
    "degrees).\n",
    "\n",
    "Instead of starting at 1 Hz, skip the uninteresting steps and multiply the observed timeseries with a sine\n",
    "wave expressed as a complex exponential term (the exponential term is raised to a power of 3 to model\n",
    "3 Hz activity, via the \"3j\" in the code, with j representing the square root of -1)."
   ]
  },
  {
   "cell_type": "code",
   "execution_count": null,
   "metadata": {},
   "outputs": [],
   "source": [
    "time = np.arange(0,1,0.001)\n",
    "freq = 3\n",
    "amp_sin = (np.exp(2*np.pi * 3j * time) - np.exp(-2*np.pi * 3j * time)) / (1j * 2)\n",
    "timeseries =  8 * np.sin(2*np.pi * freq * time + np.pi/4 ) * amp_sin\n",
    "\n",
    "make_plot_1(time,timeseries)\n",
    "plt.text(1,0,'1 sec',fontsize=15)\n",
    "plt.show()"
   ]
  },
  {
   "cell_type": "markdown",
   "metadata": {},
   "source": [
    "Calculate the sine part."
   ]
  },
  {
   "cell_type": "code",
   "execution_count": null,
   "metadata": {},
   "outputs": [],
   "source": [
    "from scipy.integrate import quad\n",
    "\n",
    "def integrand(x):\n",
    "    return  8 * np.sin(2*np.pi * freq * x + np.pi/4 ) * (np.exp(2*np.pi * 3j * x) - np.exp(-2*np.pi * 3j * x)) / (1j * 2)\n",
    "\n",
    "a = quad(integrand, 0, 1)[0] / 0.5\n",
    "round(a,5)"
   ]
  },
  {
   "cell_type": "markdown",
   "metadata": {},
   "source": [
    "Now multiply the observed timeseries with a cosine wave expressed as a complex exponential term."
   ]
  },
  {
   "cell_type": "code",
   "execution_count": null,
   "metadata": {},
   "outputs": [],
   "source": [
    "time = np.arange(0,1,0.001)\n",
    "freq = 3\n",
    "amp_sin = (np.exp(2*np.pi * 3j * time) + np.exp(-2*np.pi * 3j * time)) / 2\n",
    "timeseries =  8 * np.sin(2*np.pi * freq * time + np.pi/4 ) * amp_sin\n",
    "\n",
    "make_plot_1(time,timeseries)\n",
    "plt.text(1,0,'1 sec',fontsize=15)\n",
    "plt.show()"
   ]
  },
  {
   "cell_type": "markdown",
   "metadata": {},
   "source": [
    "Calculate the cosine part."
   ]
  },
  {
   "cell_type": "code",
   "execution_count": null,
   "metadata": {},
   "outputs": [],
   "source": [
    "from scipy.integrate import quad\n",
    "\n",
    "def integrand(x):\n",
    "    return  8 * np.sin(2*np.pi * freq * x + np.pi/4 ) * (np.exp(2*np.pi * 3j * x) + np.exp(-2*np.pi * 3j * x)) / 2\n",
    "\n",
    "b = quad(integrand, 0, 1)[0] / 0.5\n",
    "round(b,5)"
   ]
  },
  {
   "cell_type": "markdown",
   "metadata": {},
   "source": [
    "Calculate the total magnitude of 3 Hz activity using $\\sqrt{(sin^2 θ + cos^2 θ)}$ ."
   ]
  },
  {
   "cell_type": "code",
   "execution_count": null,
   "metadata": {},
   "outputs": [],
   "source": [
    "round(np.sqrt(a**2 + b**2))"
   ]
  },
  {
   "cell_type": "markdown",
   "metadata": {},
   "source": [
    "8 units of activity at 3 Hz. As expected, complex exponentials provided the same results as the sine and\n",
    "cosine functions.\n",
    "\n",
    "Did this have to be the case?"
   ]
  },
  {
   "cell_type": "markdown",
   "metadata": {},
   "source": [
    "Answer: Yes! Although the above complex exponential functions might seem odd or less intuitive, they are simply the sine and\n",
    "cosine functions in disguise."
   ]
  },
  {
   "cell_type": "markdown",
   "metadata": {},
   "source": [
    "## <font color=red>DSP.05.B3.b) Taking Advantage of Some Nice Properties of Complex Exponentials</font>"
   ]
  },
  {
   "cell_type": "markdown",
   "metadata": {},
   "source": [
    "Although using the sine and cosine complex exponential identities to probe the original timeseries for\n",
    "activity at a specific frequency is pretty cool, there is a chance you might think that the use of complex\n",
    "exponentials instead of the familiar sine and cosine functions is only of academic interest.\n",
    "\n",
    "If so, think again!\n",
    "\n",
    "Check this out. Instead of using the complex exponential sine and cosine identities, plug in $e^ {i ω x}$ where\n",
    "ω is the frequency of interest.\n",
    "\n",
    "Stay with the same example above and set $w$ = 3."
   ]
  },
  {
   "cell_type": "code",
   "execution_count": null,
   "metadata": {},
   "outputs": [],
   "source": [
    "time = np.arange(0,1,0.001)\n",
    "freq = 3\n",
    "amp_complex = np.exp(2*np.pi * 3j * time) \n",
    "timeseries = 16 * np.sin(2*np.pi * freq * time + np.pi/4) * amp_complex"
   ]
  },
  {
   "cell_type": "markdown",
   "metadata": {},
   "source": [
    "Before we create a plot, look at the product of 16 Sin[3 x + $π$/4 ] and $e^{i 3 x}$as a function of x for a few values."
   ]
  },
  {
   "cell_type": "code",
   "execution_count": null,
   "metadata": {},
   "outputs": [],
   "source": [
    "timeseries[0:9]"
   ]
  },
  {
   "cell_type": "markdown",
   "metadata": {},
   "source": [
    "Each value is a complex number.\n",
    "\n",
    "Quick, recall this Euler identity: $e^{i x} = cos[x] + i sin[x]$.\n",
    "    \n",
    "Euler's identity tells us that the real part of the complex number provides information about the cosine\n",
    "component and that the imaginary part of the complex number provides information about the sine component."
   ]
  },
  {
   "cell_type": "markdown",
   "metadata": {},
   "source": [
    "Pay attention - here is a key concept!\n",
    "\n",
    "Check this out. Take any number from the above output. In particular, randomly select the second complex number."
   ]
  },
  {
   "cell_type": "code",
   "execution_count": null,
   "metadata": {},
   "outputs": [],
   "source": [
    "z = 11.52289702+0.21722722j\n",
    "point_x = np.real(z)\n",
    "point_y = np.imag(z)\n",
    "\n",
    "plt.quiver(0, 0, point_x, point_y, angles='xy', scale_units='xy', scale=1, color = 'b')\n",
    "plt.xlim(0, point_x)\n",
    "plt.ylim(0, point_y)\n",
    "plt.text(point_x, point_y,'11.52+0.22j',fontsize=15)\n",
    "plt.text(point_x,0,'Real',fontsize=15)\n",
    "plt.text(0,point_y,'Imaginary',fontsize=15)\n",
    "plt.text(point_x-2.5, 0.2,'abs[z]',fontsize=15)\n",
    "plt.text(10.8,0.19,'$\\phi$',fontsize=25,color='r')\n",
    "plt.show()"
   ]
  },
  {
   "cell_type": "markdown",
   "metadata": {},
   "source": [
    "In Lesson 2, we saw that the Pythagorean theorem shows us how to calculate the length of this vector\n",
    "(for a complex number, this is often called the modulus)."
   ]
  },
  {
   "cell_type": "code",
   "execution_count": null,
   "metadata": {},
   "outputs": [],
   "source": [
    "length = round(np.sqrt(point_x**2 + point_y**2),5)\n",
    "length"
   ]
  },
  {
   "cell_type": "markdown",
   "metadata": {},
   "source": [
    "This is the same as calculating the dot product."
   ]
  },
  {
   "cell_type": "code",
   "execution_count": null,
   "metadata": {},
   "outputs": [],
   "source": [
    "X = [point_x, point_y];\n",
    "length = round(np.sqrt(np.dot(X,X)),5)\n",
    "length"
   ]
  },
  {
   "cell_type": "markdown",
   "metadata": {},
   "source": [
    "And compare with the Python 'abs' function. (Note that the computed 11.52494 magnitude value is similar to but not the same as the first term (11.52289702) in the complex number. This is becuase the magnitude value depends on both values in the complex number. In this examlple, 11.52494 and 11.52289702 are very similar as most of the activity is in the 'real' term.)  "
   ]
  },
  {
   "cell_type": "code",
   "execution_count": null,
   "metadata": {},
   "outputs": [],
   "source": [
    "round(abs(z),5)"
   ]
  },
  {
   "cell_type": "markdown",
   "metadata": {},
   "source": [
    "The above is the length of the vector (the modulus) for the random complex value we selected. \n",
    "\n",
    "Keeping this in mind, create a plot of the magnitude of the complex values obtained by\n",
    "$(16 * Sin[3 x 2π + π/4 ]) e^{i 3 x 2π}$ as a function of x via plotting the absolute value of each complex value."
   ]
  },
  {
   "cell_type": "code",
   "execution_count": null,
   "metadata": {},
   "outputs": [],
   "source": [
    "time = np.arange(0,1,0.001)\n",
    "freq = 3\n",
    "amp_complex = np.exp(2*np.pi * 3j * time) \n",
    "timeseries_complex = 16 * np.sin(2*np.pi * freq * time + np.pi/4 ) * amp_complex\n",
    "timeseries = abs(timeseries_complex)\n",
    "\n",
    "make_plot_1(time,timeseries)\n",
    "plt.text(1,0,'1 sec',fontsize=15)\n",
    "plt.show()"
   ]
  },
  {
   "cell_type": "markdown",
   "metadata": {},
   "source": [
    "Look familiar? It should look just like the plot obtained by multiplying two 3 Hz sine waves (obtaining 6\n",
    "peaks, all activity above the x axis). This is what the magnitude of the product 16 Sin[3 x 2π + $π$/4 ] and\n",
    "$e^{i 3 x 2 $π$}$ calculates.\n",
    "\n",
    "Integrate combined[x] and divide by 0.5 seconds to calculate the magnitude of 3 Hz activity."
   ]
  },
  {
   "cell_type": "code",
   "execution_count": null,
   "metadata": {},
   "outputs": [],
   "source": [
    "spectrum = sum(timeseries_complex)*0.001/ 0.5\n",
    "spectrum"
   ]
  },
  {
   "cell_type": "markdown",
   "metadata": {},
   "source": [
    "Again, a complex number! This complex number reflects the amount of 3 Hz activty measured by the sine and cosine compnents.  \n",
    "\n",
    "Here is Euler's identity: $e^{i x} = cos[x] + i sin[x]$.\n",
    "\n",
    "Euler's identity tells us that the real part of the complex number provides information about the cosine\n",
    "component and that the imaginary part of the complex number provides information about the sine component.\n",
    "\n",
    "As we saw above, there is not much to computing the magnitude - just use the abs function."
   ]
  },
  {
   "cell_type": "code",
   "execution_count": null,
   "metadata": {},
   "outputs": [],
   "source": [
    "round(abs(spectrum),5)"
   ]
  },
  {
   "cell_type": "markdown",
   "metadata": {},
   "source": [
    "The 'abs' function tells us that the magnitude of 3 Hz activity is 16.\n",
    "\n",
    "It checks out."
   ]
  },
  {
   "cell_type": "markdown",
   "metadata": {},
   "source": [
    "## <font color=red>DSP.05.B3.c) Taking Advantage of Some Nice Properties of Complex Exponentials</font>"
   ]
  },
  {
   "cell_type": "markdown",
   "metadata": {},
   "source": [
    "Look at another example. Set the gain to 20, the frequency to 8 Hz, and the phase offset to 60°.\n",
    "\n",
    "Since the frequency is 8 Hz, set the frequency value (freq) $w$ = 8."
   ]
  },
  {
   "cell_type": "code",
   "execution_count": null,
   "metadata": {},
   "outputs": [],
   "source": [
    "time = np.arange(0,1,0.001)\n",
    "freq = 8\n",
    "amp_complex = np.exp(2*np.pi * 8j * time)\n",
    "timeseries = 20 * np.sin(2*np.pi * freq * time + np.pi/3 ) * amp_complex"
   ]
  },
  {
   "cell_type": "markdown",
   "metadata": {},
   "source": [
    "Before we create a plot, look at the product of 20 Sin[8 x + $π$/3 ] and $e^{i 8 x}$as a function of x for a few values."
   ]
  },
  {
   "cell_type": "code",
   "execution_count": null,
   "metadata": {},
   "outputs": [],
   "source": [
    "timeseries[0:9]"
   ]
  },
  {
   "cell_type": "markdown",
   "metadata": {},
   "source": [
    "Each value is a complex number.\n",
    "\n",
    "Quick, recall Euler's identity: $e^{i x} = cos[x] + i sin[x]$.\n",
    "\n",
    "Euler's identity tells us that the real part of the complex number provides information about the cosine\n",
    "component and that the imaginary part of the complex number provides information about the sine component."
   ]
  },
  {
   "cell_type": "markdown",
   "metadata": {},
   "source": [
    "Pay attention! Here is where everything falls into place.\n",
    "\n",
    "Take one of the complex numbers calculated above."
   ]
  },
  {
   "cell_type": "code",
   "execution_count": null,
   "metadata": {},
   "outputs": [],
   "source": [
    "z = 17.77859117+0.89440286j\n",
    "point_x = np.real(z)\n",
    "point_y = np.imag(z)\n",
    "\n",
    "plt.quiver(0, 0, point_x, point_y, angles='xy', scale_units='xy', scale=1, color = 'b')\n",
    "plt.xlim(0, point_x)\n",
    "plt.ylim(0, point_y)\n",
    "plt.text(point_x, point_y,'17.77859117+0.89440286j',fontsize=15)\n",
    "plt.text(point_x,0,'Real',fontsize=15)\n",
    "plt.text(0,point_y,'Imaginary',fontsize=15)\n",
    "plt.text(point_x-4, 0.8,'abs[z]',fontsize=15)\n",
    "plt.text(17,0.8,'$\\phi$',fontsize=25,color='r')\n",
    "plt.show()"
   ]
  },
  {
   "cell_type": "markdown",
   "metadata": {},
   "source": [
    "Apply the Pythagorean theorem to calculate the modulus."
   ]
  },
  {
   "cell_type": "code",
   "execution_count": null,
   "metadata": {},
   "outputs": [],
   "source": [
    "length = round(np.sqrt(point_x**2 + point_y**2),5)\n",
    "length"
   ]
  },
  {
   "cell_type": "markdown",
   "metadata": {},
   "source": [
    "This is the same as calculating the dot product."
   ]
  },
  {
   "cell_type": "code",
   "execution_count": null,
   "metadata": {},
   "outputs": [],
   "source": [
    "X = [point_x, point_y];\n",
    "length = round(np.sqrt(np.dot(X,X)),5)\n",
    "length"
   ]
  },
  {
   "cell_type": "markdown",
   "metadata": {},
   "source": [
    "Compare using the Python 'abs' function."
   ]
  },
  {
   "cell_type": "code",
   "execution_count": null,
   "metadata": {},
   "outputs": [],
   "source": [
    "round(abs(z),5)"
   ]
  },
  {
   "cell_type": "markdown",
   "metadata": {},
   "source": [
    "Keep this in mind and create a plot of the magnitude of the complex values obtained by\n",
    "$(20 * Sin[8 x 2π + π/3 ]) e^{i 8 x 2π}$ as a function of x via plotting the absolute value of each complex value. (Here again the computed magnitude value is similar to but not the same as the first term in the complex number. This is becuase the magnitude value depends on both values in the complex number.)  "
   ]
  },
  {
   "cell_type": "code",
   "execution_count": null,
   "metadata": {},
   "outputs": [],
   "source": [
    "time = np.arange(0,1,0.001)\n",
    "freq = 8\n",
    "amp_complex = np.exp(2*np.pi * 8j * time) \n",
    "timeseries_complex = 20 * np.sin(2*np.pi * freq * time + np.pi/3 ) * amp_complex\n",
    "timeseries = abs(timeseries_complex)\n",
    "\n",
    "make_plot_1(time,timeseries)\n",
    "plt.text(1,0,'1 sec',fontsize=15)\n",
    "plt.show()"
   ]
  },
  {
   "cell_type": "markdown",
   "metadata": {},
   "source": [
    "Look familiar? It looks just like the plot obtained by multiplying two 8 Hz sine waves (obtaining 16\n",
    "peaks, all activity above the x axis). This is, in fact, what the magnitude of the product 20 * Sin[8 x 2 $π$ + $π$/3 ]\n",
    "and $e^{i 8 x 2π}$ plots."
   ]
  },
  {
   "cell_type": "markdown",
   "metadata": {},
   "source": [
    "Just like before, integrate across combined[x] and divide by 0.5 seconds to compute the magnitude."
   ]
  },
  {
   "cell_type": "code",
   "execution_count": null,
   "metadata": {},
   "outputs": [],
   "source": [
    "spectrum = sum(timeseries_complex)*0.001/ 0.5\n",
    "spectrum"
   ]
  },
  {
   "cell_type": "markdown",
   "metadata": {},
   "source": [
    "Do not let this complex term bother you.\n",
    "\n",
    "Here is Euler's identity: $e^{i x} = cos[x] + i sin[x]$.\n",
    "\n",
    "Euler's identity tells us that the real part of the complex number provides information about the cosine\n",
    "component and that the imaginary part of the complex number provides information about the sine component.\n",
    "\n",
    "As we saw above, there is not much to computing the magnitude. Just use the abs function."
   ]
  },
  {
   "cell_type": "code",
   "execution_count": null,
   "metadata": {},
   "outputs": [],
   "source": [
    "round(abs(spectrum),5)"
   ]
  },
  {
   "cell_type": "markdown",
   "metadata": {},
   "source": [
    "The output of the 'Abs' command tells us that the magnitude of 8 Hz activity is 20."
   ]
  },
  {
   "cell_type": "markdown",
   "metadata": {},
   "source": [
    "## <font color=red>DSP.05.B3.d) Taking Advantage of Some Nice Properties of Complex Exponentials</font>"
   ]
  },
  {
   "cell_type": "markdown",
   "metadata": {},
   "source": [
    "Stay with the example above. \n",
    "\n",
    "Computing the magnitude was easy. Is it also possible to obtain phase information?"
   ]
  },
  {
   "cell_type": "markdown",
   "metadata": {},
   "source": [
    "Answer:\n",
    "    \n",
    "Computing the phase is no sweat.\n",
    "\n",
    "Take the complex number computed above: 17.3205 + 10$i$. (Yes, fewer decimal places than above, just to keep it simple here.)\n",
    "    \n",
    "Here is a plot of that complex vector."
   ]
  },
  {
   "cell_type": "code",
   "execution_count": null,
   "metadata": {},
   "outputs": [],
   "source": [
    "z = 17.3205+10j\n",
    "point_x = np.real(z)\n",
    "point_y = np.imag(z)\n",
    "\n",
    "plt.quiver(0, 0, point_x, point_y, angles='xy', scale_units='xy', scale=1, color = 'b')\n",
    "plt.xlim(0, point_x)\n",
    "plt.ylim(0, point_y)\n",
    "plt.text(point_x, point_y,'17.3205+10j',fontsize=15)\n",
    "plt.text(point_x,0,'Real',fontsize=15)\n",
    "plt.text(0,point_y,'Imaginary',fontsize=15)\n",
    "plt.text(point_x-4, 9,'abs[z]',fontsize=15)\n",
    "plt.text(point_x/2,0,'CosinePart=17.3',fontsize=15)\n",
    "plt.text(0,point_y/2,'SinePart=10.0',fontsize=15)\n",
    "plt.text(16.5,9,'$\\phi$',fontsize=25,color='r')\n",
    "plt.show()"
   ]
  },
  {
   "cell_type": "markdown",
   "metadata": {},
   "source": [
    "The arrow shows a vector created from the sinepart and cosinepart values - defined as {cosinepart,\n",
    "sinepart}.\n",
    "\n",
    "Take a look at this trigonometric identity: $A Cos x + B Sin x = \\sqrt{A^2 + B^2} Sin (x + \\frac{ArcTan A}{B})$ .\n",
    "    \n",
    "This tells us that our sinepart and cosinepart values can be expressed in terms of a sine wave with a\n",
    "magnitude ($\\sqrt{A^2 + B^2}$ ) with a phase offset of ArcTan (A/B). This phase value corresponds to the angle ϕ\n",
    "in the above plot. Thus, computing the phase of the above timeseries is the same as computing the\n",
    "angle ϕ that this vector forms with respect to the x axis, computed as ArcTan[ Cosinepart/Sinepart ]. The computed phase value is the phase you would add to a sine wave to get the correct phase offset.\n",
    "\n",
    "Calculate ArcTan[ Cosinepart/Sinepart ] ."
   ]
  },
  {
   "cell_type": "code",
   "execution_count": null,
   "metadata": {},
   "outputs": [],
   "source": [
    "phaseradians = round(np.arctan(point_x/point_y),5)\n",
    "phaseradians"
   ]
  },
  {
   "cell_type": "markdown",
   "metadata": {},
   "source": [
    "The phase is 1.0472 radians.\n",
    "\n",
    "Don't like radians? Convert to degrees."
   ]
  },
  {
   "cell_type": "code",
   "execution_count": null,
   "metadata": {},
   "outputs": [],
   "source": [
    "phasedegrees = round(phaseradians * 180 / np.pi,2)\n",
    "phasedegrees"
   ]
  },
  {
   "cell_type": "markdown",
   "metadata": {},
   "source": [
    "The original timeseries is 20 Sin[8 x 2π + π/3 ]\n",
    "\n",
    "Yup - a 60° phase shift. (Recall that 2π is 360 degrees, so π/3 is 60 degrees.)"
   ]
  },
  {
   "cell_type": "markdown",
   "metadata": {},
   "source": [
    "## <font color=red>DSP.05.B3.e) Taking Advantage of Some Nice Properties of Complex Exponentials</font>"
   ]
  },
  {
   "cell_type": "markdown",
   "metadata": {},
   "source": [
    "Create a timeseries. Set the gain to 15, the frequency to 10 Hz, and the phase offset to 45°.\n",
    "\n",
    "Multiply the timeseries by $e^{i 10 x 2π}$ and plot the magnitude values (the frequency is 10 Hz, so set the frequency (freq) ω = 10)."
   ]
  },
  {
   "cell_type": "code",
   "execution_count": null,
   "metadata": {},
   "outputs": [],
   "source": [
    "time = np.arange(0,1,0.001)\n",
    "freq = 10\n",
    "amp_complex = np.exp(2*np.pi * 10j * time) \n",
    "timeseries_complex = 15 * np.sin(2*np.pi * freq * time + np.pi/4 ) * amp_complex\n",
    "timeseries = abs(timeseries_complex)\n",
    "\n",
    "make_plot_1(time,timeseries)\n",
    "plt.text(1,0,'1 sec',fontsize=15)\n",
    "plt.show()"
   ]
  },
  {
   "cell_type": "markdown",
   "metadata": {},
   "source": [
    "Calculate the magnitude and phase values. (As above, to compute the magnitude, we divide by 0.5 because dividing by 1 second would calculate mean activity, and here we want the magnitude.)"
   ]
  },
  {
   "cell_type": "code",
   "execution_count": null,
   "metadata": {},
   "outputs": [],
   "source": [
    "spectrum = sum(timeseries_complex)*0.001/ 0.5\n",
    "spectrum"
   ]
  },
  {
   "cell_type": "code",
   "execution_count": null,
   "metadata": {},
   "outputs": [],
   "source": [
    "round(abs(spectrum),5)"
   ]
  },
  {
   "cell_type": "code",
   "execution_count": null,
   "metadata": {},
   "outputs": [],
   "source": [
    "point_x = np.real(spectrum)\n",
    "point_y = np.imag(spectrum)\n",
    "phaseradians = round(np.arctan(point_x/point_y),5)\n",
    "phaseradians"
   ]
  },
  {
   "cell_type": "code",
   "execution_count": null,
   "metadata": {},
   "outputs": [],
   "source": [
    "phasedegrees = round(phaseradians * 180 / np.pi,2)\n",
    "phasedegrees"
   ]
  },
  {
   "cell_type": "markdown",
   "metadata": {},
   "source": [
    "The magnitude of 10 Hz activity is 15. The phase of 10 Hz activity is 45°.\n",
    "\n",
    "Look above to see that, with a 45° phase, the activity is evenly split between the real and imaginary part (both = 10.606). This is consistent with the fact\n",
    "that the vector created by plotting the complex number plots halfway between the x and y axes.\n",
    "\n",
    "Pretty simple really."
   ]
  },
  {
   "cell_type": "markdown",
   "metadata": {},
   "source": [
    "## <font color=red>DSP.05.B3.f) Taking Advantage of Some Nice Properties of Complex Exponentials</font>"
   ]
  },
  {
   "cell_type": "markdown",
   "metadata": {},
   "source": [
    "Create a timeseries, setting the gain to 3, the frequency to 15 Hz, and the phase offset to 30°.\n",
    "\n",
    "Multiply the timeseries by $e^{i 15 x 2π}$ and plot the magnitude values (the frequency is 15 Hz, so set $w$ = 15)."
   ]
  },
  {
   "cell_type": "code",
   "execution_count": null,
   "metadata": {},
   "outputs": [],
   "source": [
    "time = np.arange(0,1,0.001)\n",
    "freq = 15\n",
    "amp_complex = np.exp(2*np.pi * 15j * time) \n",
    "timeseries_complex = 3 * np.sin(2*np.pi * freq * time + np.pi/6 ) * amp_complex\n",
    "timeseries = abs(timeseries_complex)\n",
    "\n",
    "make_plot_1(time,timeseries)\n",
    "plt.text(1,0,'1 sec',fontsize=15)\n",
    "plt.show()"
   ]
  },
  {
   "cell_type": "markdown",
   "metadata": {},
   "source": [
    "Compute the magnitude and phase of 15 Hz activity."
   ]
  },
  {
   "cell_type": "code",
   "execution_count": null,
   "metadata": {},
   "outputs": [],
   "source": [
    "spectrum = sum(timeseries_complex)*0.001/ 0.5\n",
    "spectrum"
   ]
  },
  {
   "cell_type": "code",
   "execution_count": null,
   "metadata": {},
   "outputs": [],
   "source": [
    "round(abs(spectrum),5)"
   ]
  },
  {
   "cell_type": "code",
   "execution_count": null,
   "metadata": {},
   "outputs": [],
   "source": [
    "point_x = np.real(spectrum)\n",
    "point_y = np.imag(spectrum)\n",
    "phaseradians = round(np.arctan(point_x/point_y),5)\n",
    "phaseradians"
   ]
  },
  {
   "cell_type": "code",
   "execution_count": null,
   "metadata": {},
   "outputs": [],
   "source": [
    "phasedegrees = round(phaseradians * 180 / np.pi,2)\n",
    "phasedegrees"
   ]
  },
  {
   "cell_type": "markdown",
   "metadata": {},
   "source": [
    "The output of the 'abs' function tells us that the magnitude of 15 Hz activity is 3.\n",
    "\n",
    "The 'abs' function tells us that the phase of 15 Hz activity is 30°.\n",
    "\n",
    "Here is a question. To compute the magnitude and phase, why did we use $e^{i 15 x}$ instead of $e^{-i 15 x}$ ?"
   ]
  },
  {
   "cell_type": "markdown",
   "metadata": {},
   "source": [
    "Answer:\n",
    "    \n",
    "It doesn't matter. They provide the same magnitude and phase information.\n",
    "\n",
    "MAGNITUDE:\n",
    "    \n",
    "$e^{i x}$ provides a complex number aCos + $i$ bSin.\n",
    "\n",
    "$e^{-i x}$ provides a complex number aCos - $i$ bSin.\n",
    "\n",
    "Because the real and imaginary terms are squared, when calculating magnitude the sign of the ⅈbSin\n",
    "term does not matter."
   ]
  },
  {
   "cell_type": "markdown",
   "metadata": {},
   "source": [
    "PHASE:\n",
    "    \n",
    "$e^{i x}$ provides a complex number aCos + $i$bSin.\n",
    "\n",
    "$e^{-i x}$ provides a complex number aCos - $i$bSin.\n",
    "\n",
    "As previously noted, for $e^{ix}$ the phase is calculated as ArcTan[ Cosinepart/Sinepart ]. When using  $e^{-ix}$, our trigonometric identity is now: $A Cos x - B Sin x = \\sqrt{A^2 + (-B)^2} Sin (x - ArcTan\\frac{A}{B} )$.\n",
    "    \n",
    "Thus, to compute the correct phase offset value when using $e^{-ix}$, simply compute ArcTan-[ Cosinepart/Sinepart]. You would use the computed phase value to adjust a sine wave to get the correct phase offset.\n",
    "\n",
    "??Edgar - ask Song\n",
    "\n",
    "\n",
    "We will examine this issue again in the Chapter 5 GiveItaTry."
   ]
  },
  {
   "cell_type": "markdown",
   "metadata": {},
   "source": [
    "## <font color=red>DSP.05.B4) A Closer Look at Using Complex Exponentials to Compute Magnitude and Phase</font>"
   ]
  },
  {
   "cell_type": "markdown",
   "metadata": {},
   "source": [
    "### <font color=red>DSP.05.B4.a) Using Complex Exponentials to Determine Magnitude and Phase</font>"
   ]
  },
  {
   "cell_type": "markdown",
   "metadata": {},
   "source": [
    "Run the below code."
   ]
  },
  {
   "cell_type": "code",
   "execution_count": null,
   "metadata": {},
   "outputs": [],
   "source": [
    "time = np.arange(0,1,0.001)\n",
    "amp_complex = np.exp(2*np.pi * 1j * time) \n",
    "timeseries = unknownmag1 * np.sin(2*np.pi * unknownfreq1 * time + unknownphase1) * amp_complex\n",
    "\n",
    "make_plot_1(time,timeseries)\n",
    "plt.text(1,0,'1 sec',fontsize=15)\n",
    "plt.show()"
   ]
  },
  {
   "cell_type": "markdown",
   "metadata": {},
   "source": [
    "Start with a timeseries composed of a single frequency of unknown magnitude and phase.\n",
    "\n",
    "Multiply the timeseries with $e^{i ω x 2π}$ starting at $w$ =1, and then calculate the magnitude of 1 Hz activity."
   ]
  },
  {
   "cell_type": "code",
   "execution_count": null,
   "metadata": {},
   "outputs": [],
   "source": [
    "spectrum = sum(timeseries)*0.001/ 0.5\n",
    "round(spectrum,5)"
   ]
  },
  {
   "cell_type": "markdown",
   "metadata": {},
   "source": [
    "The value is 0. This tells us there is no 1 Hz activity.\n",
    "\n",
    "Set $w$ = 2."
   ]
  },
  {
   "cell_type": "code",
   "execution_count": null,
   "metadata": {},
   "outputs": [],
   "source": [
    "amp_complex = np.exp(2*np.pi * 2j * time) \n",
    "timeseries = unknownmag1 * np.sin(2*np.pi * unknownfreq1 * time + unknownphase1) * amp_complex\n",
    "spectrum = sum(timeseries)*0.001/ 0.5\n",
    "round(spectrum,5)"
   ]
  },
  {
   "cell_type": "markdown",
   "metadata": {},
   "source": [
    "The value is 0. This tells us there is no 2 Hz activity.\n",
    "\n",
    "Set $w$ = 3."
   ]
  },
  {
   "cell_type": "code",
   "execution_count": null,
   "metadata": {},
   "outputs": [],
   "source": [
    "amp_complex = np.exp(2*np.pi * 3j * time) \n",
    "timeseries = unknownmag1 * np.sin(2*np.pi * unknownfreq1 * time + unknownphase1) * amp_complex\n",
    "spectrum = sum(timeseries)*0.001/ 0.5\n",
    "round(spectrum,5)"
   ]
  },
  {
   "cell_type": "markdown",
   "metadata": {},
   "source": [
    "There is activity at 3 Hz. Compute the magnitude of the 3 Hz activity."
   ]
  },
  {
   "cell_type": "code",
   "execution_count": null,
   "metadata": {},
   "outputs": [],
   "source": [
    "round(abs(spectrum),5)"
   ]
  },
  {
   "cell_type": "markdown",
   "metadata": {},
   "source": [
    "Compute the phase of the 3 Hz activity."
   ]
  },
  {
   "cell_type": "code",
   "execution_count": null,
   "metadata": {},
   "outputs": [],
   "source": [
    "point_x = np.real(spectrum)\n",
    "point_y = np.imag(spectrum)\n",
    "phaseradians = round(np.arctan(point_x/point_y),5)\n",
    "phaseradians"
   ]
  },
  {
   "cell_type": "code",
   "execution_count": null,
   "metadata": {},
   "outputs": [],
   "source": [
    "phasedegrees = round(phaseradians * 180 / np.pi,2)\n",
    "phasedegrees"
   ]
  },
  {
   "cell_type": "markdown",
   "metadata": {},
   "source": [
    "The magnitude of 3 Hz activity is 5. The phase of 3 Hz activity is 45°. Look above to see that, with a 45°\n",
    "phase, the activity is evenly split between the real and imaginary part (both = 3.53553). This is consistent with the fact\n",
    "that the vector created by plotting the complex number plots halfway between the x and y axes.\n",
    "\n",
    "Take a look."
   ]
  },
  {
   "cell_type": "code",
   "execution_count": null,
   "metadata": {},
   "outputs": [],
   "source": [
    "z = 3.53553+3.53553j\n",
    "point_x = np.real(z)\n",
    "point_y = np.imag(z)\n",
    "\n",
    "plt.quiver(0, 0, point_x, point_y, angles='xy', scale_units='xy', scale=1, color = 'b')\n",
    "plt.xlim(0, point_x)\n",
    "plt.ylim(0, point_y)\n",
    "plt.text(point_x, point_y,'z=3.53553+3.53553j',fontsize=15)\n",
    "plt.text(point_x,0,'Real',fontsize=15)\n",
    "plt.text(0,point_y,'Imaginary',fontsize=15)\n",
    "plt.text(point_x-2, 2.0,'abs[z]',fontsize=15)\n",
    "plt.text(3.3,3.1,'$\\phi$',fontsize=25,color='r')\n",
    "plt.show()"
   ]
  },
  {
   "cell_type": "markdown",
   "metadata": {},
   "source": [
    "### <font color=red>DSP.05.B4.b) Using Complex Exponentials to Determine Magnitude and Phase</font>"
   ]
  },
  {
   "cell_type": "markdown",
   "metadata": {},
   "source": [
    "Here is a timeseries composed of a single frequency of unknown magnitude and phase.\n",
    "\n",
    "Multiply the timeseries with $e^{i ω x 2π}$ starting at $w$ =1 and then calculate the average value."
   ]
  },
  {
   "cell_type": "code",
   "execution_count": null,
   "metadata": {},
   "outputs": [],
   "source": [
    "time = np.arange(0,1,0.001)\n",
    "amp_complex = np.exp(2*np.pi * 1j * time) \n",
    "timeseries = unknownmag2 * np.sin(2*np.pi * unknownfreq2 * time + unknownphase2) * amp_complex\n",
    "\n",
    "spectrum = sum(timeseries)*0.001/ 0.5\n",
    "round(spectrum,5)"
   ]
  },
  {
   "cell_type": "markdown",
   "metadata": {},
   "source": [
    "The value is 0. This tells us there is no 1 Hz activity.\n",
    "\n",
    "Set $w$ =2."
   ]
  },
  {
   "cell_type": "code",
   "execution_count": null,
   "metadata": {},
   "outputs": [],
   "source": [
    "amp_complex = np.exp(2*np.pi * 2j * time) \n",
    "timeseries = unknownmag2 * np.sin(2*np.pi * unknownfreq2 * time + unknownphase2) * amp_complex\n",
    "spectrum = sum(timeseries)*0.001/ 0.5\n",
    "round(spectrum,5)"
   ]
  },
  {
   "cell_type": "markdown",
   "metadata": {},
   "source": [
    "Looks like there is activity at 2 Hz, but there is no imaginary term. What is going on?"
   ]
  },
  {
   "cell_type": "markdown",
   "metadata": {},
   "source": [
    "Answer: Take a look. Compute the magnitude and phase of 2 Hz activity."
   ]
  },
  {
   "cell_type": "code",
   "execution_count": null,
   "metadata": {},
   "outputs": [],
   "source": [
    "round(abs(spectrum),5)"
   ]
  },
  {
   "cell_type": "code",
   "execution_count": null,
   "metadata": {},
   "outputs": [],
   "source": [
    "point_x = np.real(spectrum)\n",
    "point_y = np.imag(spectrum)\n",
    "phaseradians = round(np.arctan(point_x/point_y),5)\n",
    "phaseradians"
   ]
  },
  {
   "cell_type": "code",
   "execution_count": null,
   "metadata": {},
   "outputs": [],
   "source": [
    "phasedegrees = round(phaseradians * 180 / np.pi,2)\n",
    "phasedegrees"
   ]
  },
  {
   "cell_type": "markdown",
   "metadata": {},
   "source": [
    "The magnitude of 2 Hz activity is 5. The phase of 2 Hz activity is 90°.\n",
    "\n",
    "Take a look at Euler's identity: $e^{i x} = cos[x] + i sin[x]$.\n",
    "\n",
    "The complex term above indicates that none of the 2 Hz activity is captured by the sine component.\n",
    "This must mean that all 2 Hz activity is modeled by the cosine component. In turn, that must mean that the\n",
    "complex vector plots directly along the x axis. (Remember: the cosine component provides the x-axis coordinate, and the sine component provides the y-axis coordinate.)\n",
    "\n",
    "Take a look (expand the plot if needed)."
   ]
  },
  {
   "cell_type": "code",
   "execution_count": null,
   "metadata": {},
   "outputs": [],
   "source": [
    "z = 5+0j\n",
    "point_x = np.real(z)\n",
    "point_y = np.imag(z)\n",
    "\n",
    "plt.quiver(0, 0, point_x, point_y, angles='xy', scale_units='xy', scale=1, color = 'b')\n",
    "plt.xlim(0, point_x)\n",
    "plt.ylim(0, point_y)\n",
    "plt.text(4, 0.001,'z=5+0j',fontsize=15)\n",
    "plt.text(point_x,0.001,'Real',fontsize=15)\n",
    "plt.text(0,0.04,'Imaginary',fontsize=15)\n",
    "plt.text(2, 0.001,'CosinePart',fontsize=15)\n",
    "plt.show()"
   ]
  },
  {
   "cell_type": "markdown",
   "metadata": {},
   "source": [
    "Yup - with a 90° phase offset, all activity is picked up by the cosine component. (Recall that phase offset is relative to the y axis, so a 90° phase offset means that we've tilted 90° clockwise from the y axis, putting us right on the x axis.)"
   ]
  },
  {
   "cell_type": "markdown",
   "metadata": {},
   "source": [
    "### <font color=red>DSP.05.B4.c) Using Complex Exponentials to Determine Magnitude and Phase</font>"
   ]
  },
  {
   "cell_type": "markdown",
   "metadata": {},
   "source": [
    "Here is a timeseries composed of a single frequency of unknown magnitude and phase.\n",
    "\n",
    "Multiply the timeseries with $e^{i ω x 2π}$ starting at $w$ =1 and then calculate the average value."
   ]
  },
  {
   "cell_type": "code",
   "execution_count": null,
   "metadata": {},
   "outputs": [],
   "source": [
    "time = np.arange(0,1,0.001)\n",
    "\n",
    "amp_complex = np.exp(2*np.pi * 1j * time) \n",
    "timeseries = unknownmag3 * np.sin(2*np.pi * unknownfreq3 * time + unknownphase3) * amp_complex\n",
    "\n",
    "spectrum = sum(timeseries)*0.001/ 0.5\n",
    "round(spectrum,5)"
   ]
  },
  {
   "cell_type": "markdown",
   "metadata": {},
   "source": [
    "The value is 0. This tells us there is no 1 Hz activity.\n",
    "\n",
    "Set $w$ =2."
   ]
  },
  {
   "cell_type": "code",
   "execution_count": null,
   "metadata": {},
   "outputs": [],
   "source": [
    "time = np.arange(0,1,0.001)\n",
    "\n",
    "amp_complex = np.exp(2*np.pi * 2j * time) \n",
    "timeseries = unknownmag3 * np.sin(2*np.pi * unknownfreq3 * time + unknownphase3) * amp_complex\n",
    "\n",
    "spectrum = sum(timeseries)*0.001/ 0.5\n",
    "round(spectrum,5)"
   ]
  },
  {
   "cell_type": "markdown",
   "metadata": {},
   "source": [
    "The value is 0. This tells us there is no 2 Hz activity.\n",
    "\n",
    "Set $w$ = 3."
   ]
  },
  {
   "cell_type": "code",
   "execution_count": null,
   "metadata": {},
   "outputs": [],
   "source": [
    "time = np.arange(0,1,0.001)\n",
    "\n",
    "amp_complex = np.exp(2*np.pi * 3j * time) \n",
    "timeseries = unknownmag3 * np.sin(2*np.pi * unknownfreq3 * time + unknownphase3) * amp_complex\n",
    "\n",
    "spectrum = sum(timeseries)*0.001/ 0.5\n",
    "round(spectrum,5)"
   ]
  },
  {
   "cell_type": "markdown",
   "metadata": {},
   "source": [
    "The value is 0. This tells us there is no 3 Hz activity.\n",
    "\n",
    "Set $w$ = 4."
   ]
  },
  {
   "cell_type": "code",
   "execution_count": null,
   "metadata": {},
   "outputs": [],
   "source": [
    "time = np.arange(0,1,0.001)\n",
    "\n",
    "amp_complex = np.exp(2*np.pi * 4j * time) \n",
    "timeseries = unknownmag3 * np.sin(2*np.pi * unknownfreq3 * time + unknownphase3) * amp_complex\n",
    "\n",
    "spectrum = sum(timeseries)*0.001/ 0.5\n",
    "round(spectrum,5)"
   ]
  },
  {
   "cell_type": "markdown",
   "metadata": {},
   "source": [
    "There is activity at 4 Hz, but the value of the real term is zero. What is going on?"
   ]
  },
  {
   "cell_type": "markdown",
   "metadata": {},
   "source": [
    "Answer: Take a look. Compute the magnitude and phase of the 4 Hz activity."
   ]
  },
  {
   "cell_type": "code",
   "execution_count": null,
   "metadata": {},
   "outputs": [],
   "source": [
    "round(abs(spectrum),5)"
   ]
  },
  {
   "cell_type": "code",
   "execution_count": null,
   "metadata": {},
   "outputs": [],
   "source": [
    "point_x = np.real(spectrum)\n",
    "point_y = np.imag(spectrum)\n",
    "phaseradians = round(np.arctan(point_x/point_y),5)\n",
    "phaseradians"
   ]
  },
  {
   "cell_type": "code",
   "execution_count": null,
   "metadata": {},
   "outputs": [],
   "source": [
    "phasedegrees = round(phaseradians * 180 / np.pi,2)\n",
    "phasedegrees"
   ]
  },
  {
   "cell_type": "markdown",
   "metadata": {},
   "source": [
    "The magnitude of 4 Hz activity is 8. The phase of 3 Hz activity is 0 (= 360 degrees = 2π).\n",
    "\n",
    "Take a look at Euler's identity: $e^{i x} = cos[x] + i sin[x]$.\n",
    "\n",
    "The complex term computed above indicates that none of the 4 Hz activity is assessed by the cosine\n",
    "component. This must mean that all 4 Hz activity in the timeseries is modeled by the sine component.\n",
    "In turn, this must mean that the complex vector plots directly on the y axis. That should mean that the phase shift is 0°, right? Let's check that."
   ]
  },
  {
   "cell_type": "code",
   "execution_count": null,
   "metadata": {},
   "outputs": [],
   "source": [
    "z = 0+8j\n",
    "point_x = np.real(z)\n",
    "point_y = np.imag(z)\n",
    "\n",
    "plt.quiver(0, 0, point_x, point_y, angles='xy', scale_units='xy', scale=1, color = 'b')\n",
    "plt.xlim(0, point_x)\n",
    "plt.ylim(0, point_y)\n",
    "plt.text(0.001,7,'z=0+8j',fontsize=15)\n",
    "plt.text(0.04,0.1,'Real',fontsize=15)\n",
    "plt.text(-0.02,7.5,'Imaginary',fontsize=15)\n",
    "plt.text(0.001, 4,'SinePart',fontsize=15)\n",
    "plt.show()"
   ]
  },
  {
   "cell_type": "markdown",
   "metadata": {},
   "source": [
    "Yup - with a 0° phase offset (in other words, no phase offset), all activity is picked up by the sine component. If we plotted the timeseries, we'd see that the sine-wave signal starts at 0 amplitude. Feel free to write code to show that."
   ]
  },
  {
   "cell_type": "markdown",
   "metadata": {},
   "source": [
    "## <font color=red>DSP.05.B5) Eigenstuff</font>"
   ]
  },
  {
   "cell_type": "markdown",
   "metadata": {},
   "source": [
    "### <font color=red>DSP.05.B5.a) Sine and Cosine: Eigenvalues and Eigenfunctions</font>"
   ]
  },
  {
   "cell_type": "markdown",
   "metadata": {},
   "source": [
    "Show how the magnitude of the timeseries 13 * Sin[4 x 2π + π/4 ] is computed using 'probe' sine and cosine\n",
    "components. (The only frequency of interest is 4 Hz, so use just 4 Hz sine and cosine 'probes'.)"
   ]
  },
  {
   "cell_type": "code",
   "execution_count": null,
   "metadata": {},
   "outputs": [],
   "source": [
    "time = np.arange(0,1,0.001)\n",
    "freq = 4\n",
    "timeseries = 13 * np.sin(2*np.pi * freq * time + np.pi/4) * np.sin(2*np.pi * freq * time)\n",
    "\n",
    "make_plot_1(time,timeseries)\n",
    "plt.text(1,0,'1 sec',fontsize=15)\n",
    "plt.show()"
   ]
  },
  {
   "cell_type": "markdown",
   "metadata": {},
   "source": [
    "Calculate the magnitude of the sine component."
   ]
  },
  {
   "cell_type": "code",
   "execution_count": null,
   "metadata": {},
   "outputs": [],
   "source": [
    "from scipy.integrate import quad\n",
    "\n",
    "def integrand(x):\n",
    "    return  13 * np.sin(2*np.pi * freq * x + np.pi/4) * np.sin(2*np.pi * freq * x)\n",
    "\n",
    "a = quad(integrand, 0, 1)[0] / 0.5\n",
    "round(a,5)"
   ]
  },
  {
   "cell_type": "markdown",
   "metadata": {},
   "source": [
    "Calculate the magnitude of the cosine component."
   ]
  },
  {
   "cell_type": "code",
   "execution_count": null,
   "metadata": {},
   "outputs": [],
   "source": [
    "from scipy.integrate import quad\n",
    "\n",
    "def integrand(x):\n",
    "    return  13 * np.sin(2*np.pi * freq * x + np.pi/4) * np.cos(2*np.pi * freq * x)\n",
    "\n",
    "b = quad(integrand, 0, 1)[0] / 0.5\n",
    "round(b,5)"
   ]
  },
  {
   "cell_type": "markdown",
   "metadata": {},
   "source": [
    "Calculate the total magnitude."
   ]
  },
  {
   "cell_type": "code",
   "execution_count": null,
   "metadata": {},
   "outputs": [],
   "source": [
    "round(np.sqrt(a**2 + b**2),5)"
   ]
  },
  {
   "cell_type": "markdown",
   "metadata": {},
   "source": [
    "No problem.\n",
    "\n",
    "Calculate the phase."
   ]
  },
  {
   "cell_type": "code",
   "execution_count": null,
   "metadata": {},
   "outputs": [],
   "source": [
    "phaseradians = round(np.arctan(a/b),5)\n",
    "phaseradians"
   ]
  },
  {
   "cell_type": "code",
   "execution_count": null,
   "metadata": {},
   "outputs": [],
   "source": [
    "phasedegrees = round(phaseradians * 180 / np.pi,2)\n",
    "phasedegrees"
   ]
  },
  {
   "cell_type": "markdown",
   "metadata": {},
   "source": [
    "The magnitude and phase values tell us the modifications to Sin[4x×2π] that are needed to accurately\n",
    "model 4 Hz activity in the original timeseries.\n",
    "\n",
    "Specifically, multiply Sin[4x×2π] by 13 and then add a 45° phase offset: 13 Sin[4 x 2π + π/4 ] .\n",
    "\n",
    "If you are in the know, then you know that the Sin[4x] term is called the eigenfunction (or eigenvector)\n",
    "and that the sinepart and cosinepart are the eigenvalue. Multiplying the eigenfunction by the magnitude\n",
    "value computed from the eigenvalue is the transform needed to model the 4 Hz energy present in the\n",
    "original timeseries. Adding a phase offset computed from the eigenvalue is the transform needed to\n",
    "correctly place the peaks and troughs of 4 Hz activity.\n",
    "\n",
    "In sum, the eigenfunction and eigenvalue tell us how to transform Sin[x] to model 4 Hz activity in the\n",
    "original timeseries."
   ]
  },
  {
   "cell_type": "markdown",
   "metadata": {},
   "source": [
    "### <font color=red>DSP.05.B5.b) How Do You Pronounce the Words \"eigenvector\" and \"eigenvalue\"?</font>"
   ]
  },
  {
   "cell_type": "markdown",
   "metadata": {},
   "source": [
    "How do you pronounce the words \"eigenvector\" and \"eigenvalue\"?"
   ]
  },
  {
   "cell_type": "markdown",
   "metadata": {},
   "source": [
    "Answer:\n",
    "    \n",
    "The words \"eigenvector\" and \"eigenvalue\" are adapted words. \"Eigen\" comes from German, \"vector\"\n",
    "and \"value\" come from English. You pronounce \"eigen\" as if it were German and you pronounce\n",
    "\"vector\" and \"value\" as usual.\n",
    "\n",
    "In English, \"Eigen\" is pronounced \"EYE - gen\" with a hard g as in \"garden\" or \"geezer,\" not the soft g as in \"general\" or\n",
    "\"genetics.\"\n",
    "\n",
    "The German (and Dutch) word \"eigen\" corresponds to the English word \"own.\""
   ]
  },
  {
   "cell_type": "markdown",
   "metadata": {},
   "source": [
    "### <font color=red>DSP.05.B5.c) Sine and Cosine: Invariance Under Translation</font>"
   ]
  },
  {
   "cell_type": "markdown",
   "metadata": {},
   "source": [
    "Using sine and cosine functions, the magnitude of activity at a particular frequency can be obtained\n",
    "regardless of the phase offset.\n",
    "\n",
    "When sine waves are used to create the timeseries, and when there is no phase offset, then the sine component\n",
    "captures all activity within a given frequency."
   ]
  },
  {
   "cell_type": "code",
   "execution_count": null,
   "metadata": {},
   "outputs": [],
   "source": [
    "time = np.arange(0,1,0.001)\n",
    "freq = 20\n",
    "timeseries = 12 * np.sin(2*np.pi * freq * time) * np.sin(2*np.pi * freq * time)\n",
    "\n",
    "make_plot_1(time,timeseries)\n",
    "plt.text(1,0,'1 sec',fontsize=15)\n",
    "plt.show()"
   ]
  },
  {
   "cell_type": "markdown",
   "metadata": {},
   "source": [
    "Because the two sine waves that are multiplied have the same frequency and phase, the mean is non-zero.\n",
    "Integrate combined[x] and divide by 0.5 seconds to calculate the peak magnitude of 12 Hz activity\n",
    "(dividing by 1 second would calculate mean activity)."
   ]
  },
  {
   "cell_type": "code",
   "execution_count": null,
   "metadata": {},
   "outputs": [],
   "source": [
    "from scipy.integrate import quad\n",
    "\n",
    "def integrand(x):\n",
    "    return  12 * np.sin(2*np.pi * freq * x) * np.sin(2*np.pi * freq * x)\n",
    "\n",
    "a = quad(integrand, 0, 1)[0] / 0.5\n",
    "round(a,5)"
   ]
  },
  {
   "cell_type": "markdown",
   "metadata": {},
   "source": [
    "With a 90° phase offset, or an odd integer multiple of that, activity would be picked up by cosine[x] instead of sin[x].)\n",
    "With some other phase offset that's not a multiple of 90, sine and cosine measures are both needed to obtain the total energy measure. "
   ]
  },
  {
   "cell_type": "code",
   "execution_count": null,
   "metadata": {},
   "outputs": [],
   "source": [
    "time = np.arange(0,1,0.001)\n",
    "freq = 25\n",
    "timeseries = 5 * np.sin(2*np.pi * freq * time + np.pi/6) * np.sin(2*np.pi * freq * time)\n",
    "\n",
    "make_plot_1(time,timeseries)\n",
    "plt.text(1,0,'1 sec',fontsize=15)\n",
    "plt.show()"
   ]
  },
  {
   "cell_type": "markdown",
   "metadata": {},
   "source": [
    "Calculate the magnitude of the sine component."
   ]
  },
  {
   "cell_type": "code",
   "execution_count": null,
   "metadata": {},
   "outputs": [],
   "source": [
    "from scipy.integrate import quad\n",
    "\n",
    "def integrand(x):\n",
    "    return  5 * np.sin(2*np.pi * freq * x + np.pi/6) * np.sin(2*np.pi * freq * x)\n",
    "\n",
    "a = quad(integrand, 0, 1)[0] / 0.5\n",
    "round(a,5)"
   ]
  },
  {
   "cell_type": "markdown",
   "metadata": {},
   "source": [
    "Calculate the magnitude of the cosine component."
   ]
  },
  {
   "cell_type": "code",
   "execution_count": null,
   "metadata": {},
   "outputs": [],
   "source": [
    "from scipy.integrate import quad\n",
    "\n",
    "def integrand(x):\n",
    "    return  5 * np.sin(2*np.pi * freq * x + np.pi/6) * np.cos(2*np.pi * freq * x)\n",
    "\n",
    "b = quad(integrand, 0, 1)[0] / 0.5\n",
    "round(b,5)"
   ]
  },
  {
   "cell_type": "markdown",
   "metadata": {},
   "source": [
    "To obtain the magnitude value calculate $\\sqrt{sinepart^2 + cosinepart^2} = \\sqrt{sin^2 θ + cos^2 θ })$."
   ]
  },
  {
   "cell_type": "code",
   "execution_count": null,
   "metadata": {},
   "outputs": [],
   "source": [
    "round(np.sqrt(a**2 + b**2),5)"
   ]
  },
  {
   "cell_type": "markdown",
   "metadata": {},
   "source": [
    "The ability to use sine and cosine functions to obtain a measure of total energy at a given frequency, no\n",
    "matter what the phase offset, is formally know as 'Invariance Under Translation'. Invariance under\n",
    "translation simply means that sine and cosine functions are robust to any change in the starting point (in other words, the starting phase of the entire timeseries)\n",
    "when computing the magnitude value."
   ]
  },
  {
   "cell_type": "markdown",
   "metadata": {},
   "source": [
    "### <font color=red>DSP.05.B5.d) Complex Exponentials: Eigenvalues and Eigenfunctions</font>"
   ]
  },
  {
   "cell_type": "markdown",
   "metadata": {},
   "source": [
    "    \n",
    "Show how the magnitude of the timeseries 13 Sin[4 x 2$π$ + $π$/3 ] is computed using a complex exponential\n",
    "term. (The only frequency of interest is 4 Hz, so set $w$ = 4.)"
   ]
  },
  {
   "cell_type": "code",
   "execution_count": null,
   "metadata": {},
   "outputs": [],
   "source": [
    "time = np.arange(0,1,0.001)\n",
    "amp_complex = np.exp(2*np.pi * 4j * time) \n",
    "timeseries_complex = 13 * np.sin(2*np.pi * 4 * time + np.pi/3) * amp_complex\n",
    "timeseries = abs(timeseries_complex)\n",
    "\n",
    "make_plot_1(time,timeseries)\n",
    "plt.text(1,0,'1 sec',fontsize=15)\n",
    "plt.show()"
   ]
  },
  {
   "cell_type": "markdown",
   "metadata": {},
   "source": [
    "Calculate the magnitude and phase values."
   ]
  },
  {
   "cell_type": "code",
   "execution_count": null,
   "metadata": {},
   "outputs": [],
   "source": [
    "spectrum = sum(timeseries_complex)*0.001/ 0.5\n",
    "round(spectrum,5)"
   ]
  },
  {
   "cell_type": "code",
   "execution_count": null,
   "metadata": {},
   "outputs": [],
   "source": [
    "round(abs(spectrum),5)"
   ]
  },
  {
   "cell_type": "code",
   "execution_count": null,
   "metadata": {},
   "outputs": [],
   "source": [
    "point_x = np.real(spectrum)\n",
    "point_y = np.imag(spectrum)\n",
    "phaseradians = round(np.arctan(point_x/point_y),5)\n",
    "phaseradians"
   ]
  },
  {
   "cell_type": "code",
   "execution_count": null,
   "metadata": {},
   "outputs": [],
   "source": [
    "phasedegrees = round(phaseradians * 180 / np.pi,2)\n",
    "phasedegrees"
   ]
  },
  {
   "cell_type": "markdown",
   "metadata": {},
   "source": [
    "The magnitude of 4 Hz activity is 13. The phase of 4 Hz activity is 60°. These are of course the same\n",
    "values obtained using the sine and cosine functions. Recall what you learned above. What are the\n",
    "complex exponential equivalents of the sine and cosine eigenfunctions and eigenvalues?"
   ]
  },
  {
   "cell_type": "markdown",
   "metadata": {},
   "source": [
    "Answer:\n",
    "    \n",
    "Take a timeseries u(t + h), where if h = 0 the timeseries is not shifted and if h ≠ 0 the timeseries is shifted. (So, h represents phase.)\n",
    "\n",
    "Using complex exponentials to model u(t + h) provides $e^{iω (t+h)} = e^{i ω h} e^{i ω t} = λ(ω) u(t)$ where λ(ω) is the\n",
    "eigenvalue $λ(ω) =  e^ {i ω h}$ .\n",
    "\n",
    "Thus, $e^{i ω t}$ is the eigenfunction.\n",
    "\n",
    "The eigenvalue λ(ω) = $ e^{i ω h}$ contains the magnitude and phase information, calculated using Abs and\n",
    "ArcTan. Thus, the eigenfunction $e^{i ω t}$ simply tells us what frequency is being modeled."
   ]
  },
  {
   "cell_type": "markdown",
   "metadata": {},
   "source": [
    "### <font color=red>DSP.05.B5.e) Eigenvalues and Eigenfunctions - Linear Independence</font>"
   ]
  },
  {
   "cell_type": "markdown",
   "metadata": {},
   "source": [
    "Just a little extra information.\n",
    "\n",
    "The sine and cosine eigenvectors (and their associated complex exponential equivalents) can be shown\n",
    "to be linearly independent. Linear independence simply means that each eigenvector provides unique\n",
    "information about the timeseries. Thus, for each timeseries, each $e^{jiπt}$ term provides unique information\n",
    "(not redundant information).\n",
    "\n",
    "R.W. Hamming (Digital Filtering: Third Edition, 1989) describes linear independence this way: \"...we can say\n",
    "that the eigenfunctions do not \"feel\" the presence of each other; each minds its own business regardless\n",
    "of how much there may or may not be of the other eigenfunctions.\"\n",
    "If a given timeseries is decomposed into a unique set of sine/cosine eigenvectors, how many eigenvectors\n",
    "are needed to completely represent the timeseries?"
   ]
  },
  {
   "cell_type": "markdown",
   "metadata": {},
   "source": [
    "Answer:\n",
    "    \n",
    "As is often the case, it all goes back to the Nyquist-Shannon sampling theorem:\n",
    "    \n",
    "The Nyquist-Shannon sampling theorem states that, for a timeseries to represent a continuous waveform\n",
    "adequately, the sample rate (fs in samples per second) must be more than twice the fastest frequency\n",
    "present in the original waveform. This requirement follows from the fact that only if samples are\n",
    "obtained at least twice per cycle can a discrete timeseries accurately represent the frequency of a sine\n",
    "wave. This axiom is referred to as Nyquist's Rule, and one-half the sampling frequency is referred to as\n",
    "the Nyquist Frequency, which is the fastest frequency that the sampling frequency can represent\n",
    "without distortion.\n",
    "\n",
    "That the Nyquist Frequency is the fastest frequency that can be represented without distortion necessarily\n",
    "sets the limit on the number of eigenvectors needed to completely represent the timeseries.\n",
    "Although this sets the limit, it does not tell us how many eigenvectors are needed to accurately represent\n",
    "the timeseries. This somewhat thorny issue will be examined in the Lesson 6."
   ]
  }
 ],
 "metadata": {
  "kernelspec": {
   "display_name": "Python 3 (ipykernel)",
   "language": "python",
   "name": "python3"
  },
  "language_info": {
   "codemirror_mode": {
    "name": "ipython",
    "version": 3
   },
   "file_extension": ".py",
   "mimetype": "text/x-python",
   "name": "python",
   "nbconvert_exporter": "python",
   "pygments_lexer": "ipython3",
   "version": "3.11.4"
  }
 },
 "nbformat": 4,
 "nbformat_minor": 4
}
