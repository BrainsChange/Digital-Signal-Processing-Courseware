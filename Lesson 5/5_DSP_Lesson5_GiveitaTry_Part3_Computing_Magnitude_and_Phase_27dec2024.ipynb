{
 "cells": [
  {
   "cell_type": "markdown",
   "metadata": {},
   "source": [
    "#### Digital Signal Processing Courseware: An Introduction (copyright © 2024)\n",
    "## Authors: J. Christopher Edgar and Gregory A. Miller\n",
    "\n",
    "Originally written in Mathematica by J. Christopher Edgar. Conversion to Jupyter Notebook by Song Liu.\n",
    "\n",
    "The authors of this courseware are indebted to Prof. Bruce Carpenter (University of Illinois Urbana-Champaign). Bruce inspired the creation of this courseware, he consulted with the authors as this courseware was being developed, and he provided the original version of the code and text for several sections of this courseware (e.g. the section on complex numbers and the section on normal distributions). "
   ]
  },
  {
   "cell_type": "markdown",
   "metadata": {},
   "source": [
    "# <font color=red>DSDP.05 Computing Magnitude and Phase</font>"
   ]
  },
  {
   "cell_type": "markdown",
   "metadata": {},
   "source": [
    "# <font color=red>Give it a Try!</font>\n",
    "# <font color=red>Part 3</font>"
   ]
  },
  {
   "cell_type": "markdown",
   "metadata": {},
   "source": [
    "### Setup"
   ]
  },
  {
   "cell_type": "code",
   "execution_count": null,
   "metadata": {},
   "outputs": [],
   "source": [
    "# general imports\n",
    "import numpy as np\n",
    "import matplotlib.pyplot as plt\n",
    "from matplotlib import image as img\n",
    "from matplotlib import cm\n",
    "from mpl_toolkits import mplot3d\n",
    "from scipy.fft import fft, fftfreq\n",
    "import matplotlib.patches as patches\n",
    "import math\n",
    "import cmath\n",
    "import pandas as pd\n",
    "\n",
    "import warnings\n",
    "warnings.filterwarnings('ignore')\n",
    "\n",
    "# Figure size and general parameters\n",
    "plt.rc(\"figure\", figsize=(8, 6))\n",
    "\n",
    "#function to create time course figure\n",
    "#one waveform\n",
    "def make_plot_1(x1,y1,type=\"b\"): \n",
    "    plt.plot(x1, y1,type)\n",
    "    plt.margins(x=0, y=0)\n",
    "    plt.axhline(y=0, color='k')\n",
    "    plt.tick_params(labelbottom = False, bottom = False)\n",
    "    \n",
    "#two overlaid waveforms with red and blue   \n",
    "def make_plot_2(x1,y1,type1,x2,y2,type2): \n",
    "    plt.plot(x1, y1, type1)\n",
    "    plt.plot(x2, y2, type2)\n",
    "    plt.margins(x=0, y=0)\n",
    "    plt.axhline(y=0, color='k')\n",
    "    plt.tick_params(labelbottom = False, bottom = False)\n",
    "    \n",
    "#three overlaid waveforms with red, blue and green   \n",
    "def make_plot_3(x1,y1,type1,x2,y2,type2,x3,y3,type3): \n",
    "    plt.plot(x1, y1, type1)\n",
    "    plt.plot(x2, y2, type2)\n",
    "    plt.plot(x3, y3, type3)\n",
    "    plt.margins(x=0, y=0)\n",
    "    plt.axhline(y=0, color='k')\n",
    "    plt.tick_params(labelbottom = False, bottom = False)\n",
    "    \n",
    "def make_plot_3d(ax,x,y,z):    \n",
    "    ax.contour3D(x, y, z, 50, cmap=cm.coolwarm)\n",
    "    ax.set_xlabel('x')\n",
    "    ax.set_ylabel('y')\n",
    "    ax.set_zlabel('z')\n",
    "    \n",
    "def make_plot_freq_1(x1,sample_rate, duration=1): \n",
    "    N = sample_rate * duration\n",
    "    Nhalf = math.ceil(N/2)\n",
    "    yf = fft(x1)\n",
    "    xf = fftfreq(N, 1 / sample_rate)\n",
    "    yf = yf[0:Nhalf]\n",
    "    xf = xf[0:Nhalf]\n",
    "    plt.plot(xf, np.abs(yf))\n",
    "    \n",
    "#two spectrums\n",
    "def make_plot_freq_2(x1,x2,sample_rate, duration=1): \n",
    "    N = sample_rate * duration\n",
    "    Nhalf = math.ceil(N/2)\n",
    "    yf1 = fft(x1)\n",
    "    yf2 = fft(x2)\n",
    "    xf = fftfreq(N, 1 / sample_rate)\n",
    "\n",
    "    yf1 = yf1[0:Nhalf]\n",
    "    yf2 = yf2[0:Nhalf]\n",
    "    xf = xf[0:Nhalf]\n",
    "\n",
    "    plt.plot(xf, np.abs(yf1))\n",
    "    plt.plot(xf, np.abs(yf2), color = 'r')\n",
    "    \n",
    "def make_imshow(x):\n",
    "    plt.imshow(x,cmap='Greys_r')\n",
    "    plt.tick_params(labelbottom = False, bottom = False)\n",
    "    plt.tick_params(labelleft = False, left = False)\n",
    "    \n",
    "def make_imshow_color(x):\n",
    "    plt.imshow(x)\n",
    "    plt.tick_params(labelbottom = False, bottom = False)\n",
    "    plt.tick_params(labelleft = False, left = False)\n",
    "    \n",
    "def round_complex(x):\n",
    "    return complex(np.round(x.real,4),np.round(x.imag,4))\n",
    "\n",
    "unknownmagnitude16 = 14\n",
    "unknownfrequency16 = 2\n",
    "unknownphase16 =np.pi/4\n",
    "unknownmagnitude17 = 10\n",
    "unknownfrequency17 = 4\n",
    "unknownphase17 = 0\n",
    "unknownmagnitude18 = 8\n",
    "unknownfrequency18 = 3\n",
    "unknownphase18 =np.pi/6\n",
    "unknownmagnitude19 = 5\n",
    "unknownfrequency19 = 1\n",
    "unknownphase19 =np.pi/2\n",
    "unknownmagnitude20 = 7\n",
    "unknownfrequency20 = 1\n",
    "unknownphase20 =np.pi/2\n",
    "unknownmagnitude21 = 10\n",
    "unknownfrequency21 = 2\n",
    "unknownphase21 = 0\n",
    "unknownmagnitude22 = 8\n",
    "unknownfrequency22 = 3\n",
    "unknownphase22 =np.pi/5\n",
    "unknownmagnitude23 = 5\n",
    "unknownfrequency23 = 4\n",
    "unknownphase23 =np.pi/2\n"
   ]
  },
  {
   "cell_type": "markdown",
   "metadata": {},
   "source": [
    "## <font color=red>DSP.05.G3) Spatial Patterns: Multiplying Sine Waves of the Same Frequency but Different Phase</font>"
   ]
  },
  {
   "cell_type": "markdown",
   "metadata": {},
   "source": [
    "### <font color=red>DSP.05.G3.a) Multiplying Sine Waves to Create a Spatial Series</font>"
   ]
  },
  {
   "cell_type": "markdown",
   "metadata": {},
   "source": [
    "Here is a spatial pattern with a 15-cycle-per-meter frequency in one direction and a 3-cycle-per-meter\n",
    "frequency in the other direction."
   ]
  },
  {
   "cell_type": "code",
   "execution_count": null,
   "metadata": {},
   "outputs": [],
   "source": [
    "x = np.arange(0,1, 0.001)\n",
    "y = np.arange(0,1, 0.001)\n",
    "X, Y = np.meshgrid(x, y)\n",
    "Z = 30 * np.sin(2*np.pi * 15 * X) +  20 * np.sin(2*np.pi * 3 * Y)\n",
    "\n",
    "fig = plt.figure()\n",
    "ax = plt.axes(projection='3d')\n",
    "make_plot_3d(ax,X,Y,Z)"
   ]
  },
  {
   "cell_type": "markdown",
   "metadata": {},
   "source": [
    "Count 15 peaks in one direction and 3 peaks in the other direction.\n",
    "\n",
    "Here is the same spatial pattern from a different angle - a view with the x axis facing us."
   ]
  },
  {
   "cell_type": "code",
   "execution_count": null,
   "metadata": {},
   "outputs": [],
   "source": [
    "ax.view_init(0, 90)\n",
    "fig"
   ]
  },
  {
   "cell_type": "markdown",
   "metadata": {},
   "source": [
    "There’s a 15-cycle-per-meter spatial pattern in the x direction. Note that the spatial pattern oscillates\n",
    "above and below the zero line.\n",
    "\n",
    "Here is the same spatial pattern from a different angle - a view with the y axis facing us."
   ]
  },
  {
   "cell_type": "code",
   "execution_count": null,
   "metadata": {},
   "outputs": [],
   "source": [
    "ax.view_init(0, 180)\n",
    "fig"
   ]
  },
  {
   "cell_type": "markdown",
   "metadata": {},
   "source": [
    "A clear 3-cycle-per-meter spatial pattern in the y direction. Note that the spatial pattern oscillates\n",
    "above and below the zero line.\n",
    "\n",
    "We know what happens when we multiply two sine-wave timeseries of the same frequency. Take a look\n",
    "at what happens in the spatial domain.\n",
    "\n",
    "In contrast to the 1D temporal patterns we worked with earlier, this is a 2D spatial pattern. So, we need to multiply the 15-cycle-per-meter pattern with a 15-cycle-per-\n",
    "meter sine wave and the 3-cycle-per-meter pattern with a 3-cycle-per-meter sine wave."
   ]
  },
  {
   "cell_type": "code",
   "execution_count": null,
   "metadata": {},
   "outputs": [],
   "source": [
    "x = np.arange(0,1, 0.001)\n",
    "y = np.arange(0,1, 0.001)\n",
    "X, Y = np.meshgrid(x, y)\n",
    "Z = 30 * np.sin(2*np.pi * 15 * X) * np.sin(2*np.pi * 15 * X) +  20*np.sin(2*np.pi * 3 * Y) * np.sin(2*np.pi * 3 * Y)\n",
    "\n",
    "fig = plt.figure()\n",
    "ax = plt.axes(projection='3d')\n",
    "make_plot_3d(ax,X,Y,Z)"
   ]
  },
  {
   "cell_type": "markdown",
   "metadata": {},
   "source": [
    "What is this?\n",
    "\n",
    "Here is the same spatial pattern from a different angle - a view with the x axis facing us."
   ]
  },
  {
   "cell_type": "code",
   "execution_count": null,
   "metadata": {},
   "outputs": [],
   "source": [
    "ax.view_init(0, 90)\n",
    "fig"
   ]
  },
  {
   "cell_type": "markdown",
   "metadata": {},
   "source": [
    "All activity is above the zero line. Why? Also...although the magnitude values are provided in the functions\n",
    "above, multiply each frequency by a sine wave of the same frequency and calculate the magnitude\n",
    "of activity in each direction. [#Miller Are the magnitudes correct? The squared peaks look about the same as the unsquared peaks. OTOH, the gain multiplier is applied just once. So I think things are correct: 20 x 1 x 1. If I've got this right, is that worth spelling out here?]"
   ]
  },
  {
   "cell_type": "markdown",
   "metadata": {},
   "source": [
    "### <font color=red>DSP.05.G3.b) Probing a Spatial Pattern</font>"
   ]
  },
  {
   "cell_type": "markdown",
   "metadata": {},
   "source": [
    "Here is a spatial pattern composed of two unknown sine waves (in both the x and y directions). Find the\n",
    "frequencies (and their associated magnitude and phase values) using a method of your choice. Create a\n",
    "plot comparing the original and the estimated spatial pattern to document that your calculations were\n",
    "correct."
   ]
  },
  {
   "cell_type": "code",
   "execution_count": null,
   "metadata": {},
   "outputs": [],
   "source": [
    "x = np.arange(0,1, 0.001)\n",
    "y = np.arange(0,1, 0.001)\n",
    "X, Y = np.meshgrid(x, y)\n",
    "Z = unknownmagnitude16 * np.sin(2*np.pi * unknownfrequency16 * X+unknownphase16) +\\\n",
    "unknownmagnitude17 * np.sin(2*np.pi * unknownfrequency17 * X)+\\\n",
    "unknownmagnitude18 * np.sin(2*np.pi * unknownfrequency18 * Y+\\\n",
    "unknownphase18)+unknownmagnitude19 * np.sin(2*np.pi * unknownfrequency19 * Y+unknownphase19)\n",
    "\n",
    "fig = plt.figure()\n",
    "ax = plt.axes(projection='3d')\n",
    "make_plot_3d(ax,X,Y,Z)"
   ]
  },
  {
   "cell_type": "markdown",
   "metadata": {},
   "source": [
    "### <font color=red>DSP.05.G3.c) Probing a Spatial Pattern</font>"
   ]
  },
  {
   "cell_type": "markdown",
   "metadata": {},
   "source": [
    "Here is a spatial pattern composed of two unknown sine waves (in both the x and y directions). Find the\n",
    "frequencies (and their associated magnitudes and phase values) using a method of your choice. Create a\n",
    "plot comparing the original and the estimated spatial pattern to document that your calculations were\n",
    "correct."
   ]
  },
  {
   "cell_type": "code",
   "execution_count": null,
   "metadata": {},
   "outputs": [],
   "source": [
    "x = np.arange(0,1, 0.001)\n",
    "y = np.arange(0,1, 0.001)\n",
    "X, Y = np.meshgrid(x, y)\n",
    "Z = unknownmagnitude20 * np.sin(2*np.pi * unknownfrequency20 * X+unknownphase20) +\\\n",
    "unknownmagnitude21 * np.sin(2*np.pi * unknownfrequency21 * X)+\\\n",
    "unknownmagnitude22 * np.sin(2*np.pi * unknownfrequency22 * Y+unknownphase22)+\\\n",
    "unknownmagnitude23 * np.sin(2*np.pi * unknownfrequency23 * Y+unknownphase23)\n",
    "\n",
    "fig = plt.figure()\n",
    "ax = plt.axes(projection='3d')\n",
    "make_plot_3d(ax,X,Y,Z)"
   ]
  },
  {
   "cell_type": "code",
   "execution_count": null,
   "metadata": {},
   "outputs": [],
   "source": []
  }
 ],
 "metadata": {
  "kernelspec": {
   "display_name": "Python 3 (ipykernel)",
   "language": "python",
   "name": "python3"
  },
  "language_info": {
   "codemirror_mode": {
    "name": "ipython",
    "version": 3
   },
   "file_extension": ".py",
   "mimetype": "text/x-python",
   "name": "python",
   "nbconvert_exporter": "python",
   "pygments_lexer": "ipython3",
   "version": "3.11.4"
  }
 },
 "nbformat": 4,
 "nbformat_minor": 4
}
