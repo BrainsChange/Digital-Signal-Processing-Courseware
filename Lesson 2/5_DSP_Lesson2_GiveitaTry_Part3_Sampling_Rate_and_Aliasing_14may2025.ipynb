{
 "cells": [
  {
   "cell_type": "markdown",
   "metadata": {},
   "source": [
    "#### Digital Signal Processing Courseware: An Introduction (copyright © 2024)\n",
    "## Authors: J. Christopher Edgar and Gregory A. Miller\n",
    "\n",
    "Originally written in Mathematica by J. Christopher Edgar. Conversion to Jupyter Notebook by Song Liu.\n",
    "\n",
    "The authors of this courseware are indebted to Prof. Bruce Carpenter (University of Illinois Urbana-Champaign). Bruce inspired the creation of this courseware, he consulted with the authors as this courseware was being developed, and he provided the original version of the code and text for several sections of this courseware (e.g. the section on complex numbers and the section on normal distributions). "
   ]
  },
  {
   "cell_type": "markdown",
   "metadata": {},
   "source": [
    "# <font color=red>DSP.02) Sampling Rate and Aliasing</font>"
   ]
  },
  {
   "cell_type": "markdown",
   "metadata": {},
   "source": [
    "# <font color=red>Give it a Try!\n",
    "# <font color=red>Part 3"
   ]
  },
  {
   "cell_type": "markdown",
   "metadata": {},
   "source": [
    "### Setup"
   ]
  },
  {
   "cell_type": "code",
   "execution_count": 1,
   "metadata": {},
   "outputs": [],
   "source": [
    "# general imports\n",
    "import numpy as np\n",
    "import matplotlib.pyplot as plt\n",
    "from matplotlib import image as img\n",
    "from matplotlib import cm\n",
    "from mpl_toolkits import mplot3d\n",
    "from scipy.fft import fft, fftfreq\n",
    "import matplotlib.patches as patches\n",
    "import math\n",
    "import cmath\n",
    "import pandas as pd\n",
    "from sympy import Symbol, sin, series\n",
    "from sympy import roots, solve_poly_system\n",
    "import scipy.special\n",
    "\n",
    "import warnings\n",
    "warnings.filterwarnings('ignore')\n",
    "\n",
    "# Figure size \n",
    "plt.rc(\"figure\", figsize=(8, 6))\n",
    "\n",
    "#function to create time course figure\n",
    "#one waveform\n",
    "def make_plot_1(x1,y1,type=\"b\",linewidth = 1): \n",
    "    plt.plot(x1, y1,type)\n",
    "    plt.margins(x=0, y=0)\n",
    "    plt.axhline(y=0, color='k')\n",
    "    plt.tick_params(labelbottom = False, bottom = False)\n",
    "    \n",
    "#two overlaid waveforms with red and blue   \n",
    "def make_plot_2(x1,y1,type1,x2,y2,type2): \n",
    "    plt.plot(x1, y1, type1)\n",
    "    plt.plot(x2, y2, type2)\n",
    "    plt.margins(x=0, y=0)\n",
    "    plt.axhline(y=0, color='k')\n",
    "    plt.tick_params(labelbottom = False, bottom = False)\n",
    "    \n",
    "#three overlaid waveforms with red, blue and green   \n",
    "def make_plot_3(x1,y1,type1,x2,y2,type2,x3,y3,type3): \n",
    "    plt.plot(x1, y1, type1)\n",
    "    plt.plot(x2, y2, type2)\n",
    "    plt.plot(x3, y3, type3)\n",
    "    plt.margins(x=0, y=0)\n",
    "    plt.axhline(y=0, color='k')\n",
    "    plt.tick_params(labelbottom = False, bottom = False)\n",
    "    \n",
    "def make_plot_3d(ax,x,y,z):    \n",
    "    ax.contour3D(x, y, z, 50, cmap=cm.coolwarm)\n",
    "    ax.set_xlabel('x')\n",
    "    ax.set_ylabel('y')\n",
    "    ax.set_zlabel('z')\n",
    "    \n",
    "def make_plot_freq_1(x1,sample_rate, duration=1): \n",
    "    N = sample_rate * duration\n",
    "    Nhalf = math.ceil(N/2)\n",
    "    yf = fft(x1)\n",
    "    xf = fftfreq(N, 1 / sample_rate)\n",
    "    yf = yf[0:Nhalf]\n",
    "    xf = xf[0:Nhalf]\n",
    "    plt.plot(xf, np.abs(yf))\n",
    "    \n",
    "#two spectrums\n",
    "def make_plot_freq_2(x1,x2,sample_rate, duration=1): \n",
    "    N = sample_rate * duration\n",
    "    Nhalf = math.ceil(N/2)\n",
    "    yf1 = fft(x1)\n",
    "    yf2 = fft(x2)\n",
    "    xf = fftfreq(N, 1 / sample_rate)\n",
    "\n",
    "    yf1 = yf1[0:Nhalf]\n",
    "    yf2 = yf2[0:Nhalf]\n",
    "    xf = xf[0:Nhalf]\n",
    "\n",
    "    plt.plot(xf, np.abs(yf1))\n",
    "    plt.plot(xf, np.abs(yf2), color = 'r')\n",
    "    \n",
    "def make_imshow(x):\n",
    "    plt.imshow(x,cmap='Greys_r')\n",
    "    plt.tick_params(labelbottom = False, bottom = False)\n",
    "    plt.tick_params(labelleft = False, left = False)\n",
    "    \n",
    "def make_imshow_color(x):\n",
    "    plt.imshow(x)\n",
    "    plt.tick_params(labelbottom = False, bottom = False)\n",
    "    plt.tick_params(labelleft = False, left = False)\n",
    "    \n",
    "def round_complex(x):\n",
    "    return complex(np.round(x.real,4),np.round(x.imag,4))"
   ]
  },
  {
   "cell_type": "markdown",
   "metadata": {},
   "source": [
    "## <font color=red>DSP.02.G3) Spatial Sampling</font>"
   ]
  },
  {
   "cell_type": "markdown",
   "metadata": {},
   "source": [
    "### <font color=red>DSP.02.G3.a) Spatial Sampling</font>"
   ]
  },
  {
   "cell_type": "markdown",
   "metadata": {},
   "source": [
    "Run the code below."
   ]
  },
  {
   "cell_type": "code",
   "execution_count": 2,
   "metadata": {},
   "outputs": [
    {
     "data": {
      "image/png": "[encoded data removed]",
      "text/plain": [
       "<Figure size 800x600 with 1 Axes>"
      ]
     },
     "metadata": {},
     "output_type": "display_data"
    }
   ],
   "source": [
    "X = np.array([\n",
    "    [255,255,255,255,255,255,255,255,255,255,255,255],\n",
    "    [0,0,0,0,0,0,0,0,0,0,0,0],\n",
    "    [255,255,255,255,255,255,255,255,255,255,255,255],\n",
    "    [0,0,0,0,0,0,0,0,0,0,0,0],\n",
    "    [255,255,255,255,255,255,255,255,255,255,255,255],\n",
    "    [0,0,0,0,0,0,0,0,0,0,0,0],\n",
    "    [255,255,255,255,255,255,255,255,255,255,255,255],\n",
    "    [0,0,0,0,0,0,0,0,0,0,0,0],\n",
    "    [255,255,255,255,255,255,255,255,255,255,255,255],\n",
    "    [0,0,0,0,0,0,0,0,0,0,0,0],\n",
    "    [255,255,255,255,255,255,255,255,255,255,255,255],\n",
    "    [0,0,0,0,0,0,0,0,0,0,0,0]\n",
    "])\n",
    "\n",
    "make_imshow(X)\n",
    "plt.show() "
   ]
  },
  {
   "cell_type": "markdown",
   "metadata": {},
   "source": [
    "If the unit of distance is 1 meter in the x and y direction, what is the frequency of this spatial pattern?"
   ]
  },
  {
   "cell_type": "markdown",
   "metadata": {},
   "source": [
    "**Write answer here.**"
   ]
  },
  {
   "cell_type": "markdown",
   "metadata": {},
   "source": [
    "### <font color=red>DSP.02.G3.b) Spatial Data</font>"
   ]
  },
  {
   "cell_type": "markdown",
   "metadata": {},
   "source": [
    "If the unit of distance is 1 meter, what is the frequency of this next spatial pattern?"
   ]
  },
  {
   "cell_type": "code",
   "execution_count": 3,
   "metadata": {},
   "outputs": [
    {
     "data": {
      "image/png": "[encoded data removed]",
      "text/plain": [
       "<Figure size 800x600 with 1 Axes>"
      ]
     },
     "metadata": {},
     "output_type": "display_data"
    }
   ],
   "source": [
    "X = np.array([\n",
    "    [255,255,255,255,255,255,255,255,255,255,255,255,255,255,255,255,255,255],\n",
    "    [0,0,0,0,0,0,0,0,0,0,0,0,0,0,0,0,0,0],\n",
    "    [255,255,255,255,255,255,255,255,255,255,255,255,255,255,255,255,255,255],\n",
    "    [0,0,0,0,0,0,0,0,0,0,0,0,0,0,0,0,0,0],\n",
    "    [255,255,255,255,255,255,255,255,255,255,255,255,255,255,255,255,255,255],\n",
    "    [0,0,0,0,0,0,0,0,0,0,0,0,0,0,0,0,0,0],\n",
    "    [255,255,255,255,255,255,255,255,255,255,255,255,255,255,255,255,255,255],\n",
    "    [0,0,0,0,0,0,0,0,0,0,0,0,0,0,0,0,0,0],\n",
    "    [255,255,255,255,255,255,255,255,255,255,255,255,255,255,255,255,255,255],\n",
    "    [0,0,0,0,0,0,0,0,0,0,0,0,0,0,0,0,0,0],\n",
    "    [255,255,255,255,255,255,255,255,255,255,255,255,255,255,255,255,255,255],\n",
    "    [0,0,0,0,0,0,0,0,0,0,0,0,0,0,0,0,0,0],\n",
    "    [255,255,255,255,255,255,255,255,255,255,255,255,255,255,255,255,255,255],\n",
    "    [0,0,0,0,0,0,0,0,0,0,0,0,0,0,0,0,0,0],\n",
    "    [255,255,255,255,255,255,255,255,255,255,255,255,255,255,255,255,255,255],\n",
    "    [0,0,0,0,0,0,0,0,0,0,0,0,0,0,0,0,0,0],\n",
    "    [255,255,255,255,255,255,255,255,255,255,255,255,255,255,255,255,255,255],\n",
    "    [0,0,0,0,0,0,0,0,0,0,0,0,0,0,0,0,0,0]   \n",
    "])\n",
    "\n",
    "make_imshow(X)\n",
    "plt.show()  "
   ]
  },
  {
   "cell_type": "markdown",
   "metadata": {},
   "source": [
    "**Write answer here.***"
   ]
  },
  {
   "cell_type": "markdown",
   "metadata": {},
   "source": [
    "### <font color=red>DSP.02.G3.c) Spatial Data</font>"
   ]
  },
  {
   "cell_type": "markdown",
   "metadata": {},
   "source": [
    "If the unit of distance is 1 meter in each direction, what is the frequency of this next spatial pattern?"
   ]
  },
  {
   "cell_type": "code",
   "execution_count": 4,
   "metadata": {},
   "outputs": [
    {
     "data": {
      "image/png": "[encoded data removed]",
      "text/plain": [
       "<Figure size 800x600 with 1 Axes>"
      ]
     },
     "metadata": {},
     "output_type": "display_data"
    }
   ],
   "source": [
    "X = np.array([\n",
    "    [0,255,0,255,0,255,0,255,0,255,0,255,0,255,0,255],\n",
    "    [0,255,0,255,0,255,0,255,0,255,0,255,0,255,0,255],\n",
    "    [0,255,0,255,0,255,0,255,0,255,0,255,0,255,0,255],\n",
    "    [0,255,0,255,0,255,0,255,0,255,0,255,0,255,0,255],\n",
    "    [0,255,0,255,0,255,0,255,0,255,0,255,0,255,0,255],\n",
    "    [0,255,0,255,0,255,0,255,0,255,0,255,0,255,0,255],\n",
    "    [0,255,0,255,0,255,0,255,0,255,0,255,0,255,0,255],\n",
    "    [0,255,0,255,0,255,0,255,0,255,0,255,0,255,0,255],\n",
    "    [0,255,0,255,0,255,0,255,0,255,0,255,0,255,0,255],\n",
    "    [0,255,0,255,0,255,0,255,0,255,0,255,0,255,0,255],\n",
    "    [0,255,0,255,0,255,0,255,0,255,0,255,0,255,0,255],\n",
    "    [0,255,0,255,0,255,0,255,0,255,0,255,0,255,0,255],\n",
    "    [0,255,0,255,0,255,0,255,0,255,0,255,0,255,0,255],\n",
    "    [0,255,0,255,0,255,0,255,0,255,0,255,0,255,0,255],\n",
    "    [0,255,0,255,0,255,0,255,0,255,0,255,0,255,0,255],\n",
    "    [0,255,0,255,0,255,0,255,0,255,0,255,0,255,0,255]\n",
    "])\n",
    "\n",
    "make_imshow(X)\n",
    "plt.show() "
   ]
  },
  {
   "cell_type": "markdown",
   "metadata": {},
   "source": [
    "**Write answer here.**"
   ]
  },
  {
   "cell_type": "markdown",
   "metadata": {},
   "source": [
    "### <font color=red>DSP.02.G3.d) Spatial Data</font>"
   ]
  },
  {
   "cell_type": "markdown",
   "metadata": {},
   "source": [
    "The code below creates a spatial pattern with a frequency of 10 cycles per meter."
   ]
  },
  {
   "cell_type": "code",
   "execution_count": 5,
   "metadata": {},
   "outputs": [
    {
     "data": {
      "image/png": "[encoded data removed]",
      "text/plain": [
       "<Figure size 800x600 with 1 Axes>"
      ]
     },
     "metadata": {},
     "output_type": "display_data"
    }
   ],
   "source": [
    "X = 255 * np.ones((100,100))\n",
    "for r in range(10):\n",
    "    X[r*10:r*10+5,:] = 0\n",
    "    \n",
    "make_imshow(X)\n",
    "plt.show() "
   ]
  },
  {
   "cell_type": "markdown",
   "metadata": {},
   "source": [
    "This image is built from a 100 x 100 matrix, completing 10 cycles vertically.\n",
    "\n",
    "The Nyquist-Shannon sampling theorem states that, for a series (vector) of discrete sample points to represent a continuous pattern adequately, the sample rate (fs in samples per second) must be more than twice the fastest frequency present. This requirement follows from the fact that only if samples are obtained at least twice per cycle can a discrete series accurately represent the frequency of a sine wave. This axiom is referred to as Nyquist's Rule, and one-half the sampling frequency is referred to as the Nyquist frequency. (As we reviewed in Lesson 2 Give It a Try Part 2, a sample rate exactly twice the frequency of a signal doesn't produce aliasing but may produce an odd timeseries of samples, even all zero if we sample at each zero-crossing. Generally, it's better to sample at more than twice the frequency of the signal, but technically sampling at exactly twice the frequency of the signal doesn't distort it, because there's no aliasing.)\n",
    "\n",
    "Nyquist's Rule applies in distance or space as well as in time.\n",
    "\n",
    "The plot above has a spatial frequency of 10 cycles per meter. The horizontal lines alternate between black and white 10 times. That is a spatial frequency of 10 cycles per meter.\n",
    "\n",
    "If we wanted to sample this spatial plot (from top to bottom) without distortion, how often do we need to obtain a sample? \n",
    "**at least 20 samples per meter.**\n",
    "\n",
    "Write some code to sample the above image using a 25 samples per meter sampling rate."
   ]
  },
  {
   "cell_type": "markdown",
   "metadata": {},
   "source": [
    "### <font color=red>DSP.02.G3.e) Spatial Data</font>"
   ]
  },
  {
   "cell_type": "markdown",
   "metadata": {},
   "source": [
    "The code below creates a spatial pattern with a frequency of 20 cycles per meter."
   ]
  },
  {
   "cell_type": "code",
   "execution_count": 28,
   "metadata": {},
   "outputs": [
    {
     "data": {
      "image/png": "[encoded data removed]",
      "text/plain": [
       "<Figure size 800x600 with 1 Axes>"
      ]
     },
     "metadata": {},
     "output_type": "display_data"
    }
   ],
   "source": [
    "X = 255 * np.ones((200,200))\n",
    "for r in range(20):\n",
    "    X[r*10:r*10+5,:] = 0\n",
    "\n",
    "make_imshow(X)\n",
    "plt.show()"
   ]
  },
  {
   "cell_type": "markdown",
   "metadata": {},
   "source": [
    "This image is built from a 200 x 200 matrix. Take a look at the values in this matrix."
   ]
  },
  {
   "cell_type": "code",
   "execution_count": 29,
   "metadata": {},
   "outputs": [
    {
     "data": {
      "text/plain": [
       "array([[  0.,   0.,   0., ...,   0.,   0.,   0.],\n",
       "       [  0.,   0.,   0., ...,   0.,   0.,   0.],\n",
       "       [  0.,   0.,   0., ...,   0.,   0.,   0.],\n",
       "       ...,\n",
       "       [255., 255., 255., ..., 255., 255., 255.],\n",
       "       [255., 255., 255., ..., 255., 255., 255.],\n",
       "       [255., 255., 255., ..., 255., 255., 255.]])"
      ]
     },
     "execution_count": 29,
     "metadata": {},
     "output_type": "execute_result"
    }
   ],
   "source": [
    "X"
   ]
  },
  {
   "cell_type": "markdown",
   "metadata": {},
   "source": [
    "The Nyquist-Shannon sampling theorem states that, for a series to represent a continuous pattern adequately, the sample rate (fs in samples per second) must be more than twice the fastest frequency present. This requirement follows from the fact that only if samples are obtained at least twice per cycle can a discrete series accurately represent the frequency of a sine wave. This axiom is referred to as Nyquist's Rule, and one-half the sampling frequency is referred to as the Nyquist frequency - the fastest frequency that the samples can represent without aliasing.\n",
    "\n",
    "The plot above has a spatial frequency of 20 cycles per meter. The horizontal lines alternate between black and white 20 times across a 1 meter distance. That is a spatial frequency of 20 cycles per meter.\n",
    "\n",
    "If we wanted to sample this spatial plot (from top to bottom) without distortion, how often do we need\n",
    "to obtain a sample? **40 samples per meter.**\n",
    "\n",
    "Write some code to sample the above image at 50 samples per meter."
   ]
  },
  {
   "cell_type": "markdown",
   "metadata": {},
   "source": [
    "### <font color=red>DSP.02.G3.f) Spatial Data</font>"
   ]
  },
  {
   "cell_type": "markdown",
   "metadata": {},
   "source": [
    "The code below creates a spatial pattern with a frequency of 4 cycles per meter."
   ]
  },
  {
   "cell_type": "code",
   "execution_count": 32,
   "metadata": {},
   "outputs": [
    {
     "data": {
      "image/png": "[encoded data removed]",
      "text/plain": [
       "<Figure size 800x600 with 1 Axes>"
      ]
     },
     "metadata": {},
     "output_type": "display_data"
    }
   ],
   "source": [
    "X = 255 * np.ones((64,64))\n",
    "for r in range(8):\n",
    "    X[r*16:r*16+8,:] = 0\n",
    "    \n",
    "make_imshow(X)\n",
    "plt.show() "
   ]
  },
  {
   "cell_type": "markdown",
   "metadata": {},
   "source": [
    "This image is built from a 64 x 64 matrix. Take a look at the values in this matrix."
   ]
  },
  {
   "cell_type": "code",
   "execution_count": 33,
   "metadata": {},
   "outputs": [
    {
     "data": {
      "text/plain": [
       "array([[  0.,   0.,   0., ...,   0.,   0.,   0.],\n",
       "       [  0.,   0.,   0., ...,   0.,   0.,   0.],\n",
       "       [  0.,   0.,   0., ...,   0.,   0.,   0.],\n",
       "       ...,\n",
       "       [255., 255., 255., ..., 255., 255., 255.],\n",
       "       [255., 255., 255., ..., 255., 255., 255.],\n",
       "       [255., 255., 255., ..., 255., 255., 255.]])"
      ]
     },
     "execution_count": 33,
     "metadata": {},
     "output_type": "execute_result"
    }
   ],
   "source": [
    "X"
   ]
  },
  {
   "cell_type": "markdown",
   "metadata": {},
   "source": [
    "The Nyquist-Shannon sampling theorem states that for a series to represent a continuous pattern\n",
    "adequately, the sample rate (in samples per second) must be more than twice the fastest frequency\n",
    "present. This requirement follows from the fact that only if samples are obtained at least twice per\n",
    "cycle can a discrete series accurately represent the frequency of a sine wave. This axiom is referred to\n",
    "as Nyquist's Rule, and one-half the sampling frequency is referred to as the Nyquist frequency.\n",
    "\n",
    "The plot above has a spatial frequency of 4 cycles per meter. The horizontal lines alternate between\n",
    "black and white 4 times across 1 meter. That is a spatial frequency of 4 cycles per meter.\n",
    "\n",
    "If we wanted to sample this spatial plot (from top to bottom) without distortion, how often do we need\n",
    "to obtain a sample? **8 samples per meter.**\n",
    "\n",
    "Write some code to sample the above image using a 11 samples per meter sampling rate."
   ]
  }
 ],
 "metadata": {
  "kernelspec": {
   "display_name": "Python 3 (ipykernel)",
   "language": "python",
   "name": "python3"
  },
  "language_info": {
   "codemirror_mode": {
    "name": "ipython",
    "version": 3
   },
   "file_extension": ".py",
   "mimetype": "text/x-python",
   "name": "python",
   "nbconvert_exporter": "python",
   "pygments_lexer": "ipython3",
   "version": "3.11.5"
  }
 },
 "nbformat": 4,
 "nbformat_minor": 4
}
