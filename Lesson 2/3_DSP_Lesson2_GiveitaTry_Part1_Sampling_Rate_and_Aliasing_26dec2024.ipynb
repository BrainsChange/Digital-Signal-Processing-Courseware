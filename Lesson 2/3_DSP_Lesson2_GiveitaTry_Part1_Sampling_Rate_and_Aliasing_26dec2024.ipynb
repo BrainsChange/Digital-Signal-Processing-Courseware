{
 "cells": [
  {
   "cell_type": "markdown",
   "metadata": {},
   "source": [
    "#### Digital Signal Processing Courseware: An Introduction (copyright © 2024)\n",
    "## Authors: J. Christopher Edgar and Gregory A. Miller\n",
    "\n",
    "Originally written in Mathematica by J. Christopher Edgar. Conversion to Jupyter Notebook by Song Liu.\n",
    "\n",
    "The authors of this courseware are indebted to Prof. Bruce Carpenter (University of Illinois Urbana-Champaign). Bruce inspired the creation of this courseware, he consulted with the authors as this courseware was being developed, and he provided the original version of the code and text for several sections of this courseware (e.g. the section on complex numbers and the section on normal distributions). "
   ]
  },
  {
   "cell_type": "markdown",
   "metadata": {},
   "source": [
    "# <font color=red>DSP.02) Sampling Rate and Aliasing"
   ]
  },
  {
   "cell_type": "markdown",
   "metadata": {},
   "source": [
    "# <font color=red>Give it a Try!\n",
    "# <font color=red>Part 1"
   ]
  },
  {
   "cell_type": "markdown",
   "metadata": {},
   "source": [
    "### Setup"
   ]
  },
  {
   "cell_type": "code",
   "execution_count": null,
   "metadata": {},
   "outputs": [],
   "source": [
    "# general imports\n",
    "import numpy as np\n",
    "import matplotlib.pyplot as plt\n",
    "from matplotlib import image as img\n",
    "from matplotlib import cm\n",
    "from mpl_toolkits import mplot3d\n",
    "from scipy.fft import fft, fftfreq\n",
    "import matplotlib.patches as patches\n",
    "import math\n",
    "import cmath\n",
    "import pandas as pd\n",
    "from sympy import Symbol, sin, series\n",
    "from sympy import roots, solve_poly_system\n",
    "import scipy.special\n",
    "\n",
    "import warnings\n",
    "warnings.filterwarnings('ignore')\n",
    "\n",
    "# Figure size \n",
    "plt.rc(\"figure\", figsize=(8, 6))\n",
    "\n",
    "#function to create time course figure\n",
    "#one waveform\n",
    "def make_plot_1(x1,y1,type=\"b\",linewidth = 1): \n",
    "    plt.plot(x1, y1,type)\n",
    "    plt.margins(x=0, y=0)\n",
    "    plt.axhline(y=0, color='k')\n",
    "    plt.tick_params(labelbottom = False, bottom = False)\n",
    "    \n",
    "#two overlaid waveforms with red and blue   \n",
    "def make_plot_2(x1,y1,type1,x2,y2,type2): \n",
    "    plt.plot(x1, y1, type1)\n",
    "    plt.plot(x2, y2, type2)\n",
    "    plt.margins(x=0, y=0)\n",
    "    plt.axhline(y=0, color='k')\n",
    "    plt.tick_params(labelbottom = False, bottom = False)\n",
    "    \n",
    "#three overlaid waveforms with red, blue and green   \n",
    "def make_plot_3(x1,y1,type1,x2,y2,type2,x3,y3,type3): \n",
    "    plt.plot(x1, y1, type1)\n",
    "    plt.plot(x2, y2, type2)\n",
    "    plt.plot(x3, y3, type3)\n",
    "    plt.margins(x=0, y=0)\n",
    "    plt.axhline(y=0, color='k')\n",
    "    plt.tick_params(labelbottom = False, bottom = False)\n",
    "    \n",
    "def make_plot_3d(ax,x,y,z):    \n",
    "    ax.contour3D(x, y, z, 50, cmap=cm.coolwarm)\n",
    "    ax.set_xlabel('x')\n",
    "    ax.set_ylabel('y')\n",
    "    ax.set_zlabel('z')\n",
    "    \n",
    "def make_plot_freq_1(x1,sample_rate, duration=1): \n",
    "    N = sample_rate * duration\n",
    "    Nhalf = math.ceil(N/2)\n",
    "    yf = fft(x1)\n",
    "    xf = fftfreq(N, 1 / sample_rate)\n",
    "    yf = yf[0:Nhalf]\n",
    "    xf = xf[0:Nhalf]\n",
    "    plt.plot(xf, np.abs(yf))\n",
    "    \n",
    "#two spectrums\n",
    "def make_plot_freq_2(x1,x2,sample_rate, duration=1): \n",
    "    N = sample_rate * duration\n",
    "    Nhalf = math.ceil(N/2)\n",
    "    yf1 = fft(x1)\n",
    "    yf2 = fft(x2)\n",
    "    xf = fftfreq(N, 1 / sample_rate)\n",
    "\n",
    "    yf1 = yf1[0:Nhalf]\n",
    "    yf2 = yf2[0:Nhalf]\n",
    "    xf = xf[0:Nhalf]\n",
    "\n",
    "    plt.plot(xf, np.abs(yf1))\n",
    "    plt.plot(xf, np.abs(yf2), color = 'r')\n",
    "    \n",
    "def make_imshow(x):\n",
    "    plt.imshow(x,cmap='Greys_r')\n",
    "    plt.tick_params(labelbottom = False, bottom = False)\n",
    "    plt.tick_params(labelleft = False, left = False)\n",
    "    \n",
    "def make_imshow_color(x):\n",
    "    plt.imshow(x)\n",
    "    plt.tick_params(labelbottom = False, bottom = False)\n",
    "    plt.tick_params(labelleft = False, left = False)\n",
    "    \n",
    "def round_complex(x):\n",
    "    return complex(np.round(x.real,4),np.round(x.imag,4))"
   ]
  },
  {
   "cell_type": "markdown",
   "metadata": {},
   "source": [
    "## <font color=red>DSP.02.G1) Sampling Rate</font>"
   ]
  },
  {
   "cell_type": "markdown",
   "metadata": {},
   "source": [
    "### <font color=red>DSP.02.G1.a) Sampling Rate</font>"
   ]
  },
  {
   "cell_type": "markdown",
   "metadata": {},
   "source": [
    "Plot a 40 Hz sine wave digitized at 200 Hz, using just the sampled points (with a duration of 1 second). Then plot it again, connecting those points (i.e., interpolating pixels between those points to show a waveform) to make a nice-looking plot.\n",
    "\n",
    "Use the Python 'len' command to verify that the length of the digitized waveform is indeed 200\n",
    "points.\n",
    "\n",
    "Finally, calculate the sample period."
   ]
  },
  {
   "cell_type": "code",
   "execution_count": null,
   "metadata": {},
   "outputs": [],
   "source": [
    "time = np.arange(0,1,0.005)\n",
    "freq = 40\n",
    "timeseries = np.sin(2*np.pi * freq * time)\n",
    "\n",
    "make_plot_1(time,timeseries,'bo')\n",
    "plt.text(1,0,'1 sec',fontsize=15)\n",
    "plt.show()"
   ]
  },
  {
   "cell_type": "code",
   "execution_count": null,
   "metadata": {},
   "outputs": [],
   "source": [
    "make_plot_1(time,timeseries,'bo-')\n",
    "plt.text(1,0,'1 sec',fontsize=15)\n",
    "plt.show()"
   ]
  },
  {
   "cell_type": "code",
   "execution_count": null,
   "metadata": {},
   "outputs": [],
   "source": [
    "datalength = len(timeseries)\n",
    "datalength"
   ]
  },
  {
   "cell_type": "markdown",
   "metadata": {},
   "source": [
    "### <font color=red>DSP.02.G1.b) Sampling Rate</font>"
   ]
  },
  {
   "cell_type": "markdown",
   "metadata": {},
   "source": [
    "Plot a 100 Hz sine wave digitized at 400 Hz. Use the 'make_plot' command to make a nice-looking\n",
    "plot.\n",
    "\n",
    "Use the Python 'len' command to verify that the length of the digitized waveform is indeed 400\n",
    "points.\n",
    "\n",
    "Finally, calculate the sample period."
   ]
  },
  {
   "cell_type": "code",
   "execution_count": null,
   "metadata": {},
   "outputs": [],
   "source": [
    "time = np.arange(0,1,1/400)\n",
    "freq = 100\n",
    "timeseries = np.sin(2*np.pi * freq * time)\n",
    "\n",
    "make_plot_1(time,timeseries,'bo')\n",
    "plt.text(1,0,'1 sec',fontsize=15)\n",
    "plt.show()\n",
    "\n",
    "make_plot_1(time,timeseries,'bo-')\n",
    "plt.text(1,0,'1 sec',fontsize=15)\n",
    "plt.show()"
   ]
  },
  {
   "cell_type": "code",
   "execution_count": null,
   "metadata": {},
   "outputs": [],
   "source": [
    "datalength = len(timeseries)\n",
    "datalength"
   ]
  },
  {
   "cell_type": "markdown",
   "metadata": {},
   "source": [
    "### <font color=red>DSP.02.G1.c) Sampling Rate - The Nyquist-Shannon Theorem</font>"
   ]
  },
  {
   "cell_type": "markdown",
   "metadata": {},
   "source": [
    "Apply the Nyquist sampling theorem.\n",
    "\n",
    "-With a sampling frequency = 512 Hz, we can obtain reliable frequency information only for frequencies\n",
    "less than ...?... Hz. (type answer in the blank)\n",
    "\n",
    "-With a sampling frequency = 100,050 Hz, we can obtain reliable frequency information only for frequencies less than ...?... Hz. (type answer in the blank)\n",
    "\n",
    "-With a sampling frequency = 14 Hz, we can obtain reliable frequency information only for frequencies\n",
    "less than ...?... Hz. (type answer in the blank)"
   ]
  },
  {
   "cell_type": "markdown",
   "metadata": {},
   "source": [
    "### <font color=red>DSP.02.G1.d) Sampling Rate - The Nyquist-Shannon Theorem</font>"
   ]
  },
  {
   "cell_type": "markdown",
   "metadata": {},
   "source": [
    "Start with a 25 Hz wave digitized at 100 Hz."
   ]
  },
  {
   "cell_type": "code",
   "execution_count": null,
   "metadata": {},
   "outputs": [],
   "source": [
    "time = np.arange(0,1,1/100)\n",
    "freq = 25\n",
    "timeseries = np.sin(2*np.pi * freq * time)\n",
    "\n",
    "make_plot_1(time,timeseries)\n",
    "plt.text(1,0,'1 sec',fontsize=15)\n",
    "plt.show()"
   ]
  },
  {
   "cell_type": "markdown",
   "metadata": {},
   "source": [
    "We digitized at 100 Hz. Has the Nyquist Sampling Theorem been violated? If the Nyquist Sampling\n",
    "Theorem has been violated, what frequency has been aliased into the new time series?\n",
    "Ans: No, the Nyquist Theorem has not been violated. Frequencies above 50 Hz would be aliased, but we're at 25 Hz."
   ]
  },
  {
   "cell_type": "markdown",
   "metadata": {},
   "source": [
    "### <font color=red>DSP.02.G1.e) Sampling Rate - The Nyquist-Shannon Theorem</font>"
   ]
  },
  {
   "cell_type": "markdown",
   "metadata": {},
   "source": [
    "Here is the same 25 Hz wave digitized at 100 Hz, but now the amplitude is increased by a gain of 5."
   ]
  },
  {
   "cell_type": "code",
   "execution_count": null,
   "metadata": {},
   "outputs": [],
   "source": [
    "time = np.arange(0,1,1/400)\n",
    "freq = 25\n",
    "timeseries = 5 * np.sin(2*np.pi * freq * time)\n",
    "\n",
    "make_plot_1(time,timeseries)\n",
    "plt.text(1,0,'1 sec',fontsize=15)\n",
    "plt.show()"
   ]
  },
  {
   "cell_type": "markdown",
   "metadata": {},
   "source": [
    "We digitized at 100 Hz and increased the gain by 5. Has the Nyquist Sampling Theorem been violated? If\n",
    "the Nyquist Sampling Theorem has been violated, what frequency has been aliased into the new time\n",
    "series? ______ Hz. (type answer in the blank)"
   ]
  },
  {
   "cell_type": "markdown",
   "metadata": {},
   "source": [
    "### <font color=red>DSP.02.G1.f) Sampling Rate - The Nyquist-Shannon Theorem</font>"
   ]
  },
  {
   "cell_type": "markdown",
   "metadata": {},
   "source": [
    "Here is the same 25 Hz wave now digitized at 75 Hz."
   ]
  },
  {
   "cell_type": "code",
   "execution_count": null,
   "metadata": {},
   "outputs": [],
   "source": [
    "time = np.arange(0,1,1/75)\n",
    "freq = 25\n",
    "timeseries = np.sin(2*np.pi * freq * time)\n",
    "\n",
    "make_plot_1(time,timeseries)\n",
    "plt.text(1,0,'1 sec',fontsize=15)\n",
    "plt.show()"
   ]
  },
  {
   "cell_type": "markdown",
   "metadata": {},
   "source": [
    "We digitized at 75 Hz. Has the Nyquist Sampling Theorem been violated? If the Nyquist Sampling Theorem has been violated, what frequency has been aliased into the new time series? ______ Hz. (type answer in the blank)"
   ]
  },
  {
   "cell_type": "markdown",
   "metadata": {},
   "source": [
    "### <font color=red>DSP.02.G1.g) Sampling Rate - The Nyquist-Shannon Theorem</font>"
   ]
  },
  {
   "cell_type": "markdown",
   "metadata": {},
   "source": [
    "Here is the same 25 Hz wave digitized at 75 Hz and now with a 90 degree phase offset."
   ]
  },
  {
   "cell_type": "code",
   "execution_count": null,
   "metadata": {},
   "outputs": [],
   "source": [
    "time = np.arange(0,1,1/75)\n",
    "freq = 25\n",
    "timeseries = np.sin(2*np.pi * freq * time + np.pi/2)\n",
    "\n",
    "make_plot_1(time,timeseries)\n",
    "plt.text(1,0,'1 sec',fontsize=15)\n",
    "plt.show()"
   ]
  },
  {
   "cell_type": "markdown",
   "metadata": {},
   "source": [
    "We introduced a 90 degree phase offset and then digitized at 75 Hz. Can you see how the phase offset has changed the plot? Has the Nyquist Sampling Theorem\n",
    "been violated? If the Nyquist Sampling Theorem has been violated, what frequency has been aliased\n",
    "into the new time series? ______ Hz. (type answer in the blank)"
   ]
  },
  {
   "cell_type": "markdown",
   "metadata": {},
   "source": [
    "### <font color=red>DSP.02.G1.h) Sampling Rate - The Nyquist-Shannon Theorem</font>"
   ]
  },
  {
   "cell_type": "markdown",
   "metadata": {},
   "source": [
    "Here is the same 25 Hz wave digitized at 30 Hz and now with a 180 degree phase offset."
   ]
  },
  {
   "cell_type": "code",
   "execution_count": null,
   "metadata": {},
   "outputs": [],
   "source": [
    "time = np.arange(0,1,1/30)\n",
    "freq = 25\n",
    "timeseries = np.sin(2*np.pi * freq * time + np.pi)\n",
    "\n",
    "make_plot_1(time,timeseries)\n",
    "plt.text(1,0,'1 sec',fontsize=15)\n",
    "plt.show()"
   ]
  },
  {
   "cell_type": "markdown",
   "metadata": {},
   "source": [
    "We introduced a 180 degree phase offset and then digitized at 30 Hz. Has the Nyquist Sampling Theorem\n",
    "been violated? If the Nyquist Sampling Theorem has been violated, what frequency has been\n",
    "aliased into the new time series? ______ Hz. (type answer in the blank)"
   ]
  },
  {
   "cell_type": "markdown",
   "metadata": {},
   "source": [
    "### <font color=red>DSP.02.G1.i) Sampling Rate - The Nyquist-Shannon Theorem</font>"
   ]
  },
  {
   "cell_type": "markdown",
   "metadata": {},
   "source": [
    "Here is the same 25 Hz wave digitized at 20 Hz."
   ]
  },
  {
   "cell_type": "code",
   "execution_count": null,
   "metadata": {},
   "outputs": [],
   "source": [
    "time = np.arange(0,1,1/20)\n",
    "freq = 25\n",
    "timeseries = np.sin(2*np.pi * freq * time)\n",
    "\n",
    "make_plot_1(time,timeseries)\n",
    "plt.text(1,0,'1 sec',fontsize=15)\n",
    "plt.show()"
   ]
  },
  {
   "cell_type": "markdown",
   "metadata": {},
   "source": [
    "We digitized at 20 Hz. Has the Nyquist Sampling Theorem been violated? If the Nyquist Sampling\n",
    "Theorem has been violated, what frequency has been aliased into the new time series? ______ Hz. (type answer in the blank)"
   ]
  },
  {
   "cell_type": "markdown",
   "metadata": {},
   "source": [
    "### <font color=red>DSP.02.G1.j) Sampling Rate - The Nyquist-Shannon Theorem</font>"
   ]
  },
  {
   "cell_type": "markdown",
   "metadata": {},
   "source": [
    "Here is the sum of 25 Hz and 30 Hz sine waves digitized at 40 Hz."
   ]
  },
  {
   "cell_type": "code",
   "execution_count": null,
   "metadata": {},
   "outputs": [],
   "source": [
    "time = np.arange(0,1,1/40)\n",
    "freq1 = 25\n",
    "freq2 = 30\n",
    "timeseries = np.sin(2*np.pi * freq1 * time) + np.sin(2*np.pi * freq2 * time)\n",
    "\n",
    "make_plot_1(time,timeseries)\n",
    "plt.text(1,0,'1 sec',fontsize=15)\n",
    "plt.show()"
   ]
  },
  {
   "cell_type": "markdown",
   "metadata": {},
   "source": [
    "We added 25 Hz and 30 Hz sine waves and then digitized at 40 Hz. Has the Nyquist Sampling Theorem\n",
    "been violated? If the Nyquist Sampling Theorem has been violated, what frequency has been aliased\n",
    "into the new time series? ______ Hz. (type answer in the blank)\n",
    "\n",
    "Hint: You might want to calculate the power spectrum of your sample and then comment."
   ]
  },
  {
   "cell_type": "code",
   "execution_count": null,
   "metadata": {},
   "outputs": [],
   "source": [
    "make_plot_freq_1(timeseries,40)\n",
    "\n",
    "# Adding text to the figure\n",
    "plt.text(21,0,'Hz',fontsize=15)\n",
    "plt.show()"
   ]
  },
  {
   "cell_type": "markdown",
   "metadata": {},
   "source": [
    "### <font color=red>DSP.02.G1.k) Sampling Rate - The Nyquist-Shannon Theorem</font>"
   ]
  },
  {
   "cell_type": "markdown",
   "metadata": {},
   "source": [
    "Here is the sum of 100 Hz and 50 Hz sine waves digitized at 160 Hz."
   ]
  },
  {
   "cell_type": "code",
   "execution_count": null,
   "metadata": {},
   "outputs": [],
   "source": [
    "time = np.arange(0,1,1/160)\n",
    "freq1 = 100\n",
    "freq2 = 50\n",
    "timeseries = np.sin(2*np.pi * freq1 * time) + np.sin(2*np.pi * freq2 * time)\n",
    "\n",
    "make_plot_1(time,timeseries)\n",
    "plt.text(1,0,'1 sec',fontsize=15)\n",
    "plt.show()"
   ]
  },
  {
   "cell_type": "markdown",
   "metadata": {},
   "source": [
    "We added 100 Hz and 50 Hz sine waves and then digitized at 160 Hz. Has the Nyquist Sampling Theorem\n",
    "been violated? If the Nyquist Sampling Theorem has been violated, what frequency has been\n",
    "aliased into the new time series? ______ Hz. (type answer in the blank)\n",
    "\n",
    "Hint: You might want to calculate the power spectrum and then comment."
   ]
  },
  {
   "cell_type": "code",
   "execution_count": null,
   "metadata": {},
   "outputs": [],
   "source": [
    "make_plot_freq_1(timeseries,160)\n",
    "\n",
    "# Adding text to the figure\n",
    "plt.text(81,0,'Hz',fontsize=15)\n",
    "plt.show()"
   ]
  },
  {
   "cell_type": "markdown",
   "metadata": {},
   "source": [
    "### <font color=red>DSP.02.G1.l) Sampling Rate - The Nyquist-Shannon Theorem</font>"
   ]
  },
  {
   "cell_type": "markdown",
   "metadata": {},
   "source": [
    "Here is the sum of 25 Hz wave and 30 Hz sine waves, digitized at 54 Hz."
   ]
  },
  {
   "cell_type": "code",
   "execution_count": null,
   "metadata": {},
   "outputs": [],
   "source": [
    "time = np.arange(0,1,1/54)\n",
    "freq1 = 25\n",
    "freq2 = 30\n",
    "timeseries = np.sin(2*np.pi * freq1 * time) + np.sin(2*np.pi * freq2 * time)\n",
    "\n",
    "make_plot_1(time,timeseries)\n",
    "plt.text(1,0,'1 sec',fontsize=15)\n",
    "plt.show()"
   ]
  },
  {
   "cell_type": "markdown",
   "metadata": {},
   "source": [
    "We added 25 Hz and 30 Hz sine waves and then digitized at 54 Hz. Has the Nyquist Sampling Theorem\n",
    "been violated? If the Nyquist Sampling Theorem has been violated, what frequency has been aliased\n",
    "into the new time series? ______ Hz. (type answer in the blank)\n",
    "\n",
    "Hint: You might want to calculate the power spectrum and then comment."
   ]
  },
  {
   "cell_type": "code",
   "execution_count": null,
   "metadata": {},
   "outputs": [],
   "source": [
    "make_plot_freq_1(timeseries,54)\n",
    "\n",
    "# Adding text to the figure\n",
    "plt.text(28,0,'Hz',fontsize=15)\n",
    "plt.show()"
   ]
  },
  {
   "cell_type": "markdown",
   "metadata": {},
   "source": [
    "### <font color=red>DSP.02.G1.m) Sampling Rate - The Nyquist-Shannon Theorem</font>"
   ]
  },
  {
   "cell_type": "markdown",
   "metadata": {},
   "source": [
    "Here is the sum of 25 Hz wave and 29 Hz sine waves, digitized at 54 Hz."
   ]
  },
  {
   "cell_type": "code",
   "execution_count": null,
   "metadata": {},
   "outputs": [],
   "source": [
    "time = np.arange(0,1,1/54)\n",
    "freq1 = 25\n",
    "freq2 = 29\n",
    "timeseries = np.sin(2*np.pi * freq1 * time) + np.sin(2*np.pi * freq2 * time + np.pi/2)\n",
    "\n",
    "make_plot_1(time,timeseries)\n",
    "plt.text(1,0,'1 sec',fontsize=15)\n",
    "plt.show()"
   ]
  },
  {
   "cell_type": "markdown",
   "metadata": {},
   "source": [
    "Show the power spectrum."
   ]
  },
  {
   "cell_type": "code",
   "execution_count": null,
   "metadata": {},
   "outputs": [],
   "source": [
    "make_plot_freq_1(timeseries,54)\n",
    "\n",
    "# Adding text to the figure\n",
    "plt.text(28,0,'Hz',fontsize=15)\n",
    "plt.show()"
   ]
  },
  {
   "cell_type": "markdown",
   "metadata": {},
   "source": [
    "Comment on why the timeseries has two frequencies, but the power spectrum plot shows only one\n",
    "peak."
   ]
  },
  {
   "cell_type": "code",
   "execution_count": null,
   "metadata": {},
   "outputs": [],
   "source": []
  }
 ],
 "metadata": {
  "kernelspec": {
   "display_name": "Python 3 (ipykernel)",
   "language": "python",
   "name": "python3"
  },
  "language_info": {
   "codemirror_mode": {
    "name": "ipython",
    "version": 3
   },
   "file_extension": ".py",
   "mimetype": "text/x-python",
   "name": "python",
   "nbconvert_exporter": "python",
   "pygments_lexer": "ipython3",
   "version": "3.11.4"
  }
 },
 "nbformat": 4,
 "nbformat_minor": 4
}
