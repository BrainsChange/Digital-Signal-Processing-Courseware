{
 "cells": [
  {
   "cell_type": "markdown",
   "metadata": {},
   "source": [
    "#### Digital Signal Processing Courseware: An Introduction (copyright © 2024)\n",
    "## Authors: J. Christopher Edgar and Gregory A. Miller\n",
    "\n",
    "Conversion from Mathematica to Jupyter Notebook by Song Liu.\n",
    "\n",
    "The authors of this book are indebted to Prof. Bruce Carpenter (University of Illinois Urbana-Champaign). Bruce inspired the creation of this courseware, he consulted with the authors as this courseware was being developed, and he provided the original version of the code and text for several sections of this courseware (e.g. the section on complex numbers and the section on normal distributions). "
   ]
  },
  {
   "cell_type": "markdown",
   "metadata": {},
   "source": [
    "# <font color=red>DSP.04 Convolution and Filtering - Spatial Domain</font>"
   ]
  },
  {
   "cell_type": "markdown",
   "metadata": {},
   "source": [
    "# <font color=red>Give it a Try!</font>\n",
    "# <font color=red>Part 2</font>"
   ]
  },
  {
   "cell_type": "markdown",
   "metadata": {},
   "source": [
    "### Setup"
   ]
  },
  {
   "cell_type": "code",
   "execution_count": null,
   "metadata": {},
   "outputs": [],
   "source": [
    "# general imports\n",
    "import numpy as np\n",
    "import matplotlib.pyplot as plt\n",
    "from matplotlib import image as img\n",
    "from matplotlib import cm\n",
    "from mpl_toolkits import mplot3d\n",
    "from scipy.fft import fft, fftfreq\n",
    "import matplotlib.patches as patches\n",
    "import math\n",
    "import cmath\n",
    "import pandas as pd\n",
    "from sympy import Symbol, sin, series\n",
    "from sympy import roots, solve_poly_system\n",
    "import scipy.special\n",
    "\n",
    "import warnings\n",
    "warnings.filterwarnings('ignore')\n",
    "\n",
    "# Figure size \n",
    "plt.rc(\"figure\", figsize=(8, 6))\n",
    "\n",
    "#function to create time course figure\n",
    "#one waveform\n",
    "def make_plot_1(x1,y1,type=\"b\",linewidth = 1): \n",
    "    plt.plot(x1, y1,type)\n",
    "    plt.margins(x=0, y=0)\n",
    "    plt.axhline(y=0, color='k')\n",
    "    plt.tick_params(labelbottom = False, bottom = False)\n",
    "    \n",
    "#two overlaid waveforms with red and blue   \n",
    "def make_plot_2(x1,y1,type1,x2,y2,type2): \n",
    "    plt.plot(x1, y1, type1)\n",
    "    plt.plot(x2, y2, type2)\n",
    "    plt.margins(x=0, y=0)\n",
    "    plt.axhline(y=0, color='k')\n",
    "    plt.tick_params(labelbottom = False, bottom = False)\n",
    "    \n",
    "#three overlaid waveforms with red, blue and green   \n",
    "def make_plot_3(x1,y1,type1,x2,y2,type2,x3,y3,type3): \n",
    "    plt.plot(x1, y1, type1)\n",
    "    plt.plot(x2, y2, type2)\n",
    "    plt.plot(x3, y3, type3)\n",
    "    plt.margins(x=0, y=0)\n",
    "    plt.axhline(y=0, color='k')\n",
    "    plt.tick_params(labelbottom = False, bottom = False)\n",
    "    \n",
    "def make_plot_3d(ax,x,y,z):    \n",
    "    ax.contour3D(x, y, z, 50, cmap=cm.coolwarm)\n",
    "    ax.set_xlabel('x')\n",
    "    ax.set_ylabel('y')\n",
    "    ax.set_zlabel('z')\n",
    "    \n",
    "def make_plot_freq_1(x1,sample_rate, duration=1): \n",
    "    N = sample_rate * duration\n",
    "    Nhalf = math.ceil(N/2)\n",
    "    yf = fft(x1)\n",
    "    xf = fftfreq(N, 1 / sample_rate)\n",
    "    yf = yf[0:Nhalf]\n",
    "    xf = xf[0:Nhalf]\n",
    "    plt.plot(xf, np.abs(yf))\n",
    "    \n",
    "#two spectrums\n",
    "def make_plot_freq_2(x1,x2,sample_rate, duration=1): \n",
    "    N = sample_rate * duration\n",
    "    Nhalf = math.ceil(N/2)\n",
    "    yf1 = fft(x1)\n",
    "    yf2 = fft(x2)\n",
    "    xf = fftfreq(N, 1 / sample_rate)\n",
    "\n",
    "    yf1 = yf1[0:Nhalf]\n",
    "    yf2 = yf2[0:Nhalf]\n",
    "    xf = xf[0:Nhalf]\n",
    "\n",
    "    plt.plot(xf, np.abs(yf1))\n",
    "    plt.plot(xf, np.abs(yf2), color = 'r')\n",
    "    \n",
    "def make_imshow(x):\n",
    "    plt.imshow(x,cmap='Greys_r')\n",
    "    plt.tick_params(labelbottom = False, bottom = False)\n",
    "    plt.tick_params(labelleft = False, left = False)\n",
    "    \n",
    "def make_imshow_color(x):\n",
    "    plt.imshow(x)\n",
    "    plt.tick_params(labelbottom = False, bottom = False)\n",
    "    plt.tick_params(labelleft = False, left = False)\n",
    "    \n",
    "def round_complex(x):\n",
    "    return complex(np.round(x.real,4),np.round(x.imag,4))"
   ]
  },
  {
   "cell_type": "markdown",
   "metadata": {},
   "source": [
    "## <font color=red>DSP.04.G2) Characterizing Noise</font>"
   ]
  },
  {
   "cell_type": "markdown",
   "metadata": {},
   "source": [
    "### <font color=red>DSP.04.G2.a) Calculating percentages</font>"
   ]
  },
  {
   "cell_type": "markdown",
   "metadata": {},
   "source": [
    "In several previous sections, noise was added to timeseries and spatial patterns.\n",
    "\n",
    "Check out this timeseries of 30,000 random points (don't worry if it takes a few seconds to generate the\n",
    "plot - it is a lot of points)."
   ]
  },
  {
   "cell_type": "code",
   "execution_count": null,
   "metadata": {},
   "outputs": [],
   "source": [
    "x = np.arange(0, 30000, 1)\n",
    "noise = np.random.normal(0,1.5,30000)\n",
    "\n",
    "plt.scatter(x, noise, c =\"red\", s=1)\n",
    "plt.text(32000,0,'time',fontsize=15)\n",
    "plt.text(0,5,'amplitude',fontsize=15)\n",
    " \n",
    "# To show the plot\n",
    "plt.show()"
   ]
  },
  {
   "cell_type": "markdown",
   "metadata": {},
   "source": [
    "The distribution of the noise values above is obtained using the Python 'random.normal'\n",
    "command.\n",
    "\n",
    "The noise dataset above was created by setting the mean value to 0 and the standard deviation value\n",
    "to 1.5 (values highlighted in red).\n",
    "\n",
    "Here is the bell curve associated with those distribution values."
   ]
  },
  {
   "cell_type": "code",
   "execution_count": null,
   "metadata": {},
   "outputs": [],
   "source": [
    "# A custom function to calculate probability distribution function \n",
    "def pdf(x,m,std):      \n",
    "    y_out = 1/(std * np.sqrt(2 * np.pi)) * np.exp( - (x - m)**2 / (2 * std**2)) \n",
    "    return y_out \n",
    "\n",
    "# To generate an array of x-values \n",
    "x = np.arange(-5, 5, 0.1) \n",
    "\n",
    "# To generate an array of \n",
    "# y-values using corresponding x-values \n",
    "y = pdf(x,0,1.5) \n",
    "\n",
    "# Plotting the bell-shaped curve \n",
    "plt.plot(x, y) \n",
    "plt.show()"
   ]
  },
  {
   "cell_type": "markdown",
   "metadata": {},
   "source": [
    "Enter the correct values in the equation below to calculate the percentage of noise datapoints falling\n",
    "+/- 1 SDs from the mean. [#Miller The next 3 exercises already had the correct values entered. We could keep them and add some brief narration about why they're correct. For the first one: \"As we discussed earlier, the portion of the Gaussian (a.k.a. normal a.k.a. bell) curve between 1 standard deviation below the mean and 1 standard deviation above the mean is about 68%. Run the next code cell to verify that, with entries of 1.5 for the standard deviation.\" Or we could ask: \"Do you recall how much of the Gaussian (a.k.a. normal a.k.a. bell) curve is between 1 standard deviation below the mean and 1 standard deviation above the mean? Run the next code cell to confirm.\" **Or we could remove a couple of values, so the user does have to fill them in. Ditto the other two examples.]**"
   ]
  },
  {
   "cell_type": "code",
   "execution_count": null,
   "metadata": {},
   "outputs": [],
   "source": [
    "from scipy.stats import norm\n",
    "\n",
    "round(100 * (norm.cdf(1.5, loc=0, scale=1.5) - norm.cdf(-1.5, loc=0, scale=1.5)),2)"
   ]
  },
  {
   "cell_type": "markdown",
   "metadata": {},
   "source": [
    "Enter the correct values in the equation below to calculate the percentage of noise datapoints falling\n",
    "+/- 2 SDs from the mean."
   ]
  },
  {
   "cell_type": "code",
   "execution_count": null,
   "metadata": {},
   "outputs": [],
   "source": [
    "from scipy.stats import norm\n",
    "\n",
    "round(100 * (norm.cdf(1.5*2, loc=0, scale=1.5) - norm.cdf(-1.5*2, loc=0, scale=1.5)),2)"
   ]
  },
  {
   "cell_type": "markdown",
   "metadata": {},
   "source": [
    "Enter the correct values in the equation below to calculate the percentage of noise datapoints falling\n",
    "+/- 3 SDs from the mean."
   ]
  },
  {
   "cell_type": "code",
   "execution_count": null,
   "metadata": {},
   "outputs": [],
   "source": [
    "from scipy.stats import norm\n",
    "\n",
    "round(100 * (norm.cdf(1.5*3, loc=0, scale=1.5) - norm.cdf(-1.5*3, loc=0, scale=1.5)),2)"
   ]
  },
  {
   "cell_type": "markdown",
   "metadata": {},
   "source": [
    "### <font color=red>DSP.04.G2.b) Calculating percentages</font>"
   ]
  },
  {
   "cell_type": "markdown",
   "metadata": {},
   "source": [
    "In several examples, noise was added to timeseries and spatial patterns.\n",
    "\n",
    "Check out this timeseries of 30,000 random points (don't worry if it takes a few seconds to generate the\n",
    "plot - it is a lot of points)."
   ]
  },
  {
   "cell_type": "code",
   "execution_count": null,
   "metadata": {},
   "outputs": [],
   "source": [
    "x = np.arange(0, 30000, 1)\n",
    "noise = np.random.normal(4,3,30000)\n",
    "\n",
    "plt.scatter(x, noise, c =\"red\",s=1)\n",
    "plt.text(32000,4,'time',fontsize=15)\n",
    "plt.text(0,15,'amplitude',fontsize=15)\n",
    " \n",
    "# To show the plot\n",
    "plt.show()"
   ]
  },
  {
   "cell_type": "markdown",
   "metadata": {},
   "source": [
    "The distribution of the noise values above is obtained using the Python 'random.normal'\n",
    "command.\n",
    "\n",
    "The noise dataset above was created by setting the mean value to 4 and the standard deviation value\n",
    "to 3.\n",
    "\n",
    "Here is the bell curve associated with those distribution values."
   ]
  },
  {
   "cell_type": "code",
   "execution_count": null,
   "metadata": {},
   "outputs": [],
   "source": [
    "# A custom function to calculate probability distribution function \n",
    "def pdf(x,m,std):      \n",
    "    y_out = 1/(std * np.sqrt(2 * np.pi)) * np.exp( - (x - m)**2 / (2 * std**2)) \n",
    "    return y_out \n",
    "\n",
    "# To generate an array of x-values \n",
    "x = np.arange(-5, 12, 0.1) \n",
    "\n",
    "# To generate an array of \n",
    "# y-values using corresponding x-values \n",
    "y = pdf(x,4,3) \n",
    "\n",
    "# Plotting the bell-shaped curve \n",
    "plt.plot(x, y) \n",
    "plt.show()"
   ]
  },
  {
   "cell_type": "markdown",
   "metadata": {},
   "source": [
    "Enter the correct values in the equation below to calculate the percentage of noise datapoints falling\n",
    "+/- 1 SDs from the mean. **Remove answers**"
   ]
  },
  {
   "cell_type": "code",
   "execution_count": null,
   "metadata": {},
   "outputs": [],
   "source": [
    "from scipy.stats import norm\n",
    "\n",
    "round(100 * (norm.cdf(7, loc=4, scale=3) - norm.cdf(1, loc=4, scale=3)),2)"
   ]
  },
  {
   "cell_type": "markdown",
   "metadata": {},
   "source": [
    "Enter the correct values in the equation below to calculate the percentage of noise datapoints falling\n",
    "+/- 2 SDs from the mean."
   ]
  },
  {
   "cell_type": "code",
   "execution_count": null,
   "metadata": {},
   "outputs": [],
   "source": [
    "from scipy.stats import norm\n",
    "\n",
    "round(100 * (norm.cdf(10, loc=4, scale=3) - norm.cdf(-2, loc=4, scale=3)),2)"
   ]
  },
  {
   "cell_type": "markdown",
   "metadata": {},
   "source": [
    "Enter the correct values in the equation below to calculate the percentage of noise datapoints falling\n",
    "+/- 3 SDs from the mean."
   ]
  },
  {
   "cell_type": "code",
   "execution_count": null,
   "metadata": {},
   "outputs": [],
   "source": [
    "from scipy.stats import norm\n",
    "\n",
    "round(100 * (norm.cdf(13, loc=4, scale=3) - norm.cdf(-5, loc=4, scale=3)),2)"
   ]
  },
  {
   "cell_type": "markdown",
   "metadata": {},
   "source": [
    "### <font color=red>DSP.04.G2.c) Calculating percentages</font>"
   ]
  },
  {
   "cell_type": "markdown",
   "metadata": {},
   "source": [
    "In the two examples above, the mean and variance values differed, but the percentage of noise datapoints\n",
    "falling within the 1, 2, or 3 SD boundaries was identical. Write a sentence or two about why this\n",
    "will always be the case if the data are normally distributed."
   ]
  },
  {
   "cell_type": "code",
   "execution_count": null,
   "metadata": {},
   "outputs": [],
   "source": [
    "\n"
   ]
  },
  {
   "cell_type": "markdown",
   "metadata": {},
   "source": [
    "### <font color=red>DSP.04.G2.d) Calculating percentages</font>"
   ]
  },
  {
   "cell_type": "markdown",
   "metadata": {},
   "source": [
    "The values are already calculated above, but fill in the blanks below and spell it out.\n",
    "\n",
    "These are handy facts to have on hand. In a normal distribution...\n",
    "\n",
    "____ percentage of cases fall +/- 1 SD from the mean.\n",
    "\n",
    "____ percentage of cases fall +/- 2 SD from the mean.\n",
    "\n",
    "____ percentage of cases fall +/- 3 SD from the mean."
   ]
  }
 ],
 "metadata": {
  "kernelspec": {
   "display_name": "Python 3 (ipykernel)",
   "language": "python",
   "name": "python3"
  },
  "language_info": {
   "codemirror_mode": {
    "name": "ipython",
    "version": 3
   },
   "file_extension": ".py",
   "mimetype": "text/x-python",
   "name": "python",
   "nbconvert_exporter": "python",
   "pygments_lexer": "ipython3",
   "version": "3.11.5"
  }
 },
 "nbformat": 4,
 "nbformat_minor": 4
}
