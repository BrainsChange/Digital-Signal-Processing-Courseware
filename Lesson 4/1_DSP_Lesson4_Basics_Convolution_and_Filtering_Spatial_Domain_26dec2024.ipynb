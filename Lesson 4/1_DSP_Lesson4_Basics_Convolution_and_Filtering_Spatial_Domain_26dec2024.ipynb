{
 "cells": [
  {
   "cell_type": "markdown",
   "metadata": {},
   "source": [
    "#### Digital Signal Processing Courseware: An Introduction (copyright © 2024)\n",
    "## Authors: J. Christopher Edgar and Gregory A. Miller\n",
    "\n",
    "Originally written in Mathematica by J. Christopher Edgar. Conversion to Jupyter Notebook by Song Liu.\n",
    "\n",
    "The authors of this courseware are indebted to Prof. Bruce Carpenter (University of Illinois Urbana-Champaign). Bruce inspired the creation of this courseware, he consulted with the authors as this courseware was being developed, and he provided the original version of the code and text for several sections of this courseware (e.g. the section on complex numbers and the section on normal distributions). "
   ]
  },
  {
   "cell_type": "markdown",
   "metadata": {},
   "source": [
    "# <font color=red>DSP.04 Convolution and Filtering - Spatial Domain</font>"
   ]
  },
  {
   "cell_type": "markdown",
   "metadata": {},
   "source": [
    "# <font color=red>BASICS</font>"
   ]
  },
  {
   "cell_type": "markdown",
   "metadata": {},
   "source": [
    "In Lesson 3, we explored filtering via the application of convolution to timeseries\n",
    "data. In this lesson, we'll see how convolution can be used to filter spatial data. In addition, because\n",
    "in practice data often contain both real signal and noise, in this lesson we'll examine the properties of\n",
    "one type of noise - white noise."
   ]
  },
  {
   "cell_type": "markdown",
   "metadata": {},
   "source": [
    "### Setup"
   ]
  },
  {
   "cell_type": "code",
   "execution_count": null,
   "metadata": {},
   "outputs": [],
   "source": [
    "# general imports\n",
    "import numpy as np\n",
    "import matplotlib.pyplot as plt\n",
    "from matplotlib import image as img\n",
    "from matplotlib import cm\n",
    "from mpl_toolkits import mplot3d\n",
    "from scipy.fft import fft, fftfreq\n",
    "import matplotlib.patches as patches\n",
    "import math\n",
    "import cmath\n",
    "import pandas as pd\n",
    "from sympy import Symbol, sin, series\n",
    "from sympy import roots, solve_poly_system\n",
    "import scipy.special\n",
    "\n",
    "import warnings\n",
    "warnings.filterwarnings('ignore')\n",
    "\n",
    "# Figure size \n",
    "plt.rc(\"figure\", figsize=(8, 6))\n",
    "\n",
    "#function to create time course figure\n",
    "#one waveform\n",
    "def make_plot_1(x1,y1,type=\"b\",linewidth = 1): \n",
    "    plt.plot(x1, y1,type)\n",
    "    plt.margins(x=0, y=0)\n",
    "    plt.axhline(y=0, color='k')\n",
    "    plt.tick_params(labelbottom = False, bottom = False)\n",
    "    \n",
    "#two overlaid waveforms with red and blue   \n",
    "def make_plot_2(x1,y1,type1,x2,y2,type2): \n",
    "    plt.plot(x1, y1, type1)\n",
    "    plt.plot(x2, y2, type2)\n",
    "    plt.margins(x=0, y=0)\n",
    "    plt.axhline(y=0, color='k')\n",
    "    plt.tick_params(labelbottom = False, bottom = False)\n",
    "    \n",
    "#three overlaid waveforms with red, blue and green   \n",
    "def make_plot_3(x1,y1,type1,x2,y2,type2,x3,y3,type3): \n",
    "    plt.plot(x1, y1, type1)\n",
    "    plt.plot(x2, y2, type2)\n",
    "    plt.plot(x3, y3, type3)\n",
    "    plt.margins(x=0, y=0)\n",
    "    plt.axhline(y=0, color='k')\n",
    "    plt.tick_params(labelbottom = False, bottom = False)\n",
    "    \n",
    "def make_plot_3d(ax,x,y,z):    \n",
    "    ax.contour3D(x, y, z, 50, cmap=cm.coolwarm)\n",
    "    ax.set_xlabel('x')\n",
    "    ax.set_ylabel('y')\n",
    "    ax.set_zlabel('z')\n",
    "    \n",
    "def make_plot_freq_1(x1,sample_rate, duration=1): \n",
    "    N = sample_rate * duration\n",
    "    Nhalf = math.ceil(N/2)\n",
    "    yf = fft(x1)\n",
    "    xf = fftfreq(N, 1 / sample_rate)\n",
    "    yf = yf[0:Nhalf]\n",
    "    xf = xf[0:Nhalf]\n",
    "    plt.plot(xf, np.abs(yf))\n",
    "    \n",
    "#two spectrums\n",
    "def make_plot_freq_2(x1,x2,sample_rate, duration=1): \n",
    "    N = sample_rate * duration\n",
    "    Nhalf = math.ceil(N/2)\n",
    "    yf1 = fft(x1)\n",
    "    yf2 = fft(x2)\n",
    "    xf = fftfreq(N, 1 / sample_rate)\n",
    "\n",
    "    yf1 = yf1[0:Nhalf]\n",
    "    yf2 = yf2[0:Nhalf]\n",
    "    xf = xf[0:Nhalf]\n",
    "\n",
    "    plt.plot(xf, np.abs(yf1))\n",
    "    plt.plot(xf, np.abs(yf2), color = 'r')\n",
    "    \n",
    "def make_imshow(x):\n",
    "    plt.imshow(x,cmap='Greys_r')\n",
    "    plt.tick_params(labelbottom = False, bottom = False)\n",
    "    plt.tick_params(labelleft = False, left = False)\n",
    "    \n",
    "def make_imshow_color(x):\n",
    "    plt.imshow(x)\n",
    "    plt.tick_params(labelbottom = False, bottom = False)\n",
    "    plt.tick_params(labelleft = False, left = False)\n",
    "    \n",
    "def round_complex(x):\n",
    "    return complex(np.round(x.real,4),np.round(x.imag,4))"
   ]
  },
  {
   "cell_type": "markdown",
   "metadata": {},
   "source": [
    "## <font color=red>DSP.04.B1) Convolving a Spatial Pattern</font>"
   ]
  },
  {
   "cell_type": "markdown",
   "metadata": {},
   "source": [
    "### <font color=red>DSP.B1.a) The Steps</font>"
   ]
  },
  {
   "cell_type": "markdown",
   "metadata": {},
   "source": [
    "Create a spatial pattern with a spatial frequency of 25 cycles per meter."
   ]
  },
  {
   "cell_type": "code",
   "execution_count": null,
   "metadata": {},
   "outputs": [],
   "source": [
    "x = np.arange(0,1, 0.01)\n",
    "y = np.arange(1, 0, -0.01)\n",
    "\n",
    "X, Y = np.meshgrid(x, y)\n",
    "Z = np.sin(2*np.pi * 25 * X) \n",
    "\n",
    "plt.imshow(Z)\n",
    "plt.show()"
   ]
  },
  {
   "cell_type": "markdown",
   "metadata": {},
   "source": [
    "Don't count. Take our word for it - this is a 25 cycles per meter spatial pattern (along the x axis)."
   ]
  },
  {
   "cell_type": "markdown",
   "metadata": {},
   "source": [
    "Create a spatial pattern with a spatial frequency of 10 cycles per meter."
   ]
  },
  {
   "cell_type": "code",
   "execution_count": null,
   "metadata": {},
   "outputs": [],
   "source": [
    "Z = np.sin(2*np.pi * 10 * X) \n",
    "\n",
    "plt.imshow(Z)\n",
    "plt.show()"
   ]
  },
  {
   "cell_type": "markdown",
   "metadata": {},
   "source": [
    "Sum the 25 cycles per meter and 10 cycles per meter spatial patterns."
   ]
  },
  {
   "cell_type": "code",
   "execution_count": null,
   "metadata": {},
   "outputs": [],
   "source": [
    "Z = np.sin(2*np.pi * 25 * X) + np.sin(2*np.pi * 10 * X)\n",
    "\n",
    "plt.imshow(Z)\n",
    "plt.show()"
   ]
  },
  {
   "cell_type": "markdown",
   "metadata": {},
   "source": [
    "Suppose the 25 cycles per meter activity is 'noise'. Although you can see the original 10 cycles per meter\n",
    "spatial pattern, the 10 cycles per meter spatial pattern is obscured.\n",
    "\n",
    "Can convolution be used to remove the 25 cycles per meter activity from this spatial pattern?"
   ]
  },
  {
   "cell_type": "markdown",
   "metadata": {},
   "source": [
    "Answer: Give it a try. As with a timeseries, the moving-average convolution technique can be used to remove\n",
    "high-frequency noise from a spatial pattern.\n",
    "\n",
    "However, instead of a 1D kernel, for a 2D spatial series a 2D kernel is needed.\n",
    "Create a 3 X 3 kernel with constant values the reciprocal of the size of the matrix."
   ]
  },
  {
   "cell_type": "code",
   "execution_count": null,
   "metadata": {},
   "outputs": [],
   "source": [
    "from scipy import signal\n",
    "\n",
    "kernel = np.array([[1/9, 1/9, 1/9],\n",
    "                   [1/9, 1/9, 1/9],\n",
    "                   [1/9, 1/9, 1/9]])\n",
    "Zfiltered = signal.convolve2d(Z,kernel,boundary='symm', mode='same')\n",
    "plt.imshow(Zfiltered)\n",
    "plt.show()"
   ]
  },
  {
   "cell_type": "markdown",
   "metadata": {},
   "source": [
    "The filtered image more closely approximates the 10 cycle per meter image, although there is still distortion.\n",
    "\n",
    "Change the size of the kernel to see if a better image can be obtained. Try a smaller kernel."
   ]
  },
  {
   "cell_type": "code",
   "execution_count": null,
   "metadata": {},
   "outputs": [],
   "source": [
    "from scipy import signal\n",
    "\n",
    "kernel = np.array([[1/4, 1/4],\n",
    "                   [1/4, 1/4]])                   \n",
    "Zfiltered = signal.convolve2d(Z,kernel,boundary='symm', mode='same')\n",
    "plt.imshow(Zfiltered)\n",
    "plt.show()"
   ]
  },
  {
   "cell_type": "markdown",
   "metadata": {},
   "source": [
    "Looks Ok, but still not perfect."
   ]
  },
  {
   "cell_type": "markdown",
   "metadata": {},
   "source": [
    "Try a larger kernel."
   ]
  },
  {
   "cell_type": "code",
   "execution_count": null,
   "metadata": {},
   "outputs": [],
   "source": [
    "from scipy import signal\n",
    "\n",
    "kernel = np.array([[1/16, 1/16, 1/16, 1/16],\n",
    "                   [1/16, 1/16, 1/16, 1/16],\n",
    "                   [1/16, 1/16, 1/16, 1/16],\n",
    "                   [1/16, 1/16, 1/16, 1/16]])                  \n",
    "Zfiltered = signal.convolve2d(Z,kernel,boundary='symm', mode='same')\n",
    "plt.imshow(Zfiltered)\n",
    "plt.show()"
   ]
  },
  {
   "cell_type": "markdown",
   "metadata": {},
   "source": [
    "Looks good.\n",
    "\n",
    "Which kernel is preferred?"
   ]
  },
  {
   "cell_type": "markdown",
   "metadata": {},
   "source": [
    "Answer: The plots above have a sampling rate of 100 samples per meter. Thus, the 25 cycles per meter spatial\n",
    "pattern completes 25 full cycles over 100 points.\n",
    "\n",
    "As 100/25 = 4, a kernel of size 4 covers one complete cycle."
   ]
  },
  {
   "cell_type": "markdown",
   "metadata": {},
   "source": [
    "Take another look at the spatial pattern when a kernel of size four is applied."
   ]
  },
  {
   "cell_type": "code",
   "execution_count": null,
   "metadata": {},
   "outputs": [],
   "source": [
    "from scipy import signal\n",
    "\n",
    "kernel = np.array([[1/16, 1/16, 1/16, 1/16],\n",
    "                   [1/16, 1/16, 1/16, 1/16],\n",
    "                   [1/16, 1/16, 1/16, 1/16],\n",
    "                   [1/16, 1/16, 1/16, 1/16]])                  \n",
    "Zfiltered = signal.convolve2d(Z,kernel,boundary='symm', mode='same')\n",
    "plt.imshow(Zfiltered)\n",
    "plt.show()"
   ]
  },
  {
   "cell_type": "markdown",
   "metadata": {},
   "source": [
    "As expected, this kernel does a good job of removing the 25 cycles per meter activity."
   ]
  },
  {
   "cell_type": "markdown",
   "metadata": {},
   "source": [
    "## <font color=red>DSP.04.B2) Normal Distributions</font>"
   ]
  },
  {
   "cell_type": "markdown",
   "metadata": {},
   "source": [
    "In later sections we’ll want to take a look at noise. Before looking at noise, let's start with an examination\n",
    "of normal distributions."
   ]
  },
  {
   "cell_type": "markdown",
   "metadata": {},
   "source": [
    "### <font color=red>DSP.B2.a) Gauss's normal law</font>\n",
    "**This section first developed by Prof. Bruce Carpenter (Univeristy of Illinois Urbana-Champaign)**"
   ]
  },
  {
   "cell_type": "markdown",
   "metadata": {},
   "source": [
    "The\n",
    "\n",
    "normal\n",
    "\n",
    "law of error\n",
    "\n",
    "stands out in the\n",
    "\n",
    "experience of mankind\n",
    "\n",
    "as one of the broadest\n",
    "\n",
    "generalizations of natural\n",
    "\n",
    "philosophy ~ It serves as the\n",
    "\n",
    "guiding instrument in researches\n",
    "\n",
    "in the physical and social sciences and\n",
    "\n",
    "in medicine agriculture and engineering ~\n",
    "\n",
    "It is an indispensable tool for the analysis and the\n",
    "\n",
    "interpretation of the basic data obtained by observation and experiment."
   ]
  },
  {
   "cell_type": "markdown",
   "metadata": {},
   "source": [
    "This bell shaped design is by statistician W. J. Youden\n",
    "\n",
    "Paraphrasing Mark Kac:\n",
    "    \n",
    "All observations, constructions, and measurements are subject to error.\n",
    "\n",
    "You can classify errors or deviations as follows:\n",
    "    \n",
    "→ Gross errors or deviations,\n",
    "\n",
    "→ Systematic errors or deviations,\n",
    "\n",
    "→ Random errors or deviations.\n",
    "\n",
    "Sufficient care can eliminate gross errors, gross deviations, systematic errors, and systematic deviations.\n",
    "But random errors and random deviations are another story. The great German mathematician\n",
    "Karl Friedrich Gauss (1777-1855) developed a theory to deal with random errors or deviations."
   ]
  },
  {
   "cell_type": "markdown",
   "metadata": {},
   "source": [
    "The idea is (a) that observations vary somewhat - due to noise - around the true value that you’re trying\n",
    "to measure, and (b) that the distribution of that variability around the true value often has a particular\n",
    "form, called a Gaussian distribution or a “normal” distribution. (The meaning of “normal” here isn’t the\n",
    "normal meaning of “normal”...)"
   ]
  },
  {
   "cell_type": "markdown",
   "metadata": {},
   "source": [
    "Here is Gauss's theory in a nutshell:\n",
    "\n",
    "Start with a measurement, construction, or observation M. Call the true value of the measurement,\n",
    "construction, or observation by the name \"mean.\"\n",
    "\n",
    "Gauss's theory says that often you can find a value \"dev\" (technical name \"standard deviation\"), so that the proportion or fraction\n",
    "of the time that M is between a value \"a\" and a value \"b\" (a ≤ M ≤ b) is given by\n",
    "\n",
    "$\\int_a^b normal[x, mean, dev] dx$,\n",
    "where \"normal\" refers to the function commonly called the bell, normal, or Gaussian distribution.\n",
    "\n",
    "For instance, if\n",
    "mean = 70 and dev = 10,\n",
    "then the fraction of the time that \n",
    "65 ≤ M ≤ 75\n",
    "is given by\n",
    "$\\int_{65}^{75} normal[x, 70, 10] dx$:"
   ]
  },
  {
   "cell_type": "code",
   "execution_count": null,
   "metadata": {},
   "outputs": [],
   "source": [
    "from scipy.stats import norm\n",
    "\n",
    "norm.cdf(75, loc=70, scale=10) - norm.cdf(65, loc=70, scale=10)"
   ]
  },
  {
   "cell_type": "markdown",
   "metadata": {},
   "source": [
    "About 38 % of the time, M comes out between 65 and 75. To see what fraction of the time M comes out\n",
    "between 60 and 80, calculate $\\int_{60}^{80} normal[x, 70, 10] dx$:"
   ]
  },
  {
   "cell_type": "code",
   "execution_count": null,
   "metadata": {},
   "outputs": [],
   "source": [
    "from scipy.stats import norm\n",
    "\n",
    "norm.cdf(80, loc=70, scale=10) - norm.cdf(60, loc=70, scale=10)"
   ]
  },
  {
   "cell_type": "markdown",
   "metadata": {},
   "source": [
    "About 68 % of the time, M comes out between 60 and 80.\n",
    "\n",
    "If you have less random error, such that you can cut dev from 10 to 5, then the fraction of the time that\n",
    "M falls between 60 and 80 is given by $\\int_{60}^{80} normal[x, 70, 5] dx$ :"
   ]
  },
  {
   "cell_type": "code",
   "execution_count": null,
   "metadata": {},
   "outputs": [],
   "source": [
    "from scipy.stats import norm\n",
    "\n",
    "norm.cdf(80, loc=70, scale=5) - norm.cdf(60, loc=70, scale=5)"
   ]
  },
  {
   "cell_type": "markdown",
   "metadata": {},
   "source": [
    "Now with dev reduced to dev = 5, M comes out between 60 and 80 about 95% of the time.\n",
    "\n",
    "Use a plot to explain why it turns out that, with the lower value of dev, M came out between 60 and 80\n",
    "more of the time than it did with the higher value of dev."
   ]
  },
  {
   "cell_type": "markdown",
   "metadata": {},
   "source": [
    "Answer:\n",
    "    \n",
    "Here are plots of normal[x,mean,5] and normal[x,mean,10]\n",
    "with mean = 70 in both:"
   ]
  },
  {
   "cell_type": "code",
   "execution_count": null,
   "metadata": {},
   "outputs": [],
   "source": [
    "from scipy.stats import norm\n",
    "\n",
    "#x-axis ranges from 50 and 90 with .01 steps\n",
    "x = np.arange(50, 90, 0.01)\n",
    "y1 = norm.pdf(x, 70, 10);\n",
    "y2 = norm.pdf(x, 70, 5);\n",
    "\n",
    "x60_ind = round((60 - 50) / 0.01)\n",
    "x80_ind = round((80 - 50) / 0.01)\n",
    "\n",
    "plt.plot(x, y1, label='μ: 70, σ: 10')\n",
    "plt.plot(x, y2, label='μ:70, σ: 5')\n",
    "\n",
    "plt.plot([60,60], [0,y1[x60_ind]], color='k')\n",
    "plt.plot([80,80], [0,y1[x80_ind]], color='k')\n",
    "plt.axhline(y=0, color='k')\n",
    " \n",
    "\n",
    "#add legend to plot\n",
    "plt.legend()"
   ]
  },
  {
   "cell_type": "markdown",
   "metadata": {},
   "source": [
    "An important point is that, although the 2 curves are obviously different, they are the same TYPE of\n",
    "curve - a Gaussian or normal curve. That means that they’re symmetrical around the mean value and\n",
    "that they taper off in a specific way. Exactly how fast they taper can vary - hence the 2 curves. Here,\n",
    "they have the same mean but different standard deviations.\n",
    "\n",
    "As x goes from -∞ to ∞, the area between the x axis and each curve (in other words, the area under the curve) is 1, because\n",
    "$\\int_{-∞}^{∞} normal[x, mean, dev] dx$ = 1 no matter what mean and dev are, as long as dev > 0.\n",
    "\n",
    "The plot of normal[x,70,5] (more peaky plot) packs more of this area between x = 60 and x = 80 than does the\n",
    "plot of normal[x,70,10] (flatter plot).\n",
    "\n",
    "That is why $\\int_{60}^{80} normal[x, 70, 5] dx$ > $\\int_{60}^{80} normal[x, 70, 10] dx$."
   ]
  },
  {
   "cell_type": "markdown",
   "metadata": {},
   "source": [
    "Moral:\n",
    "    \n",
    "The lower the standard deviation (dev), the more likely M will come out near its mean."
   ]
  },
  {
   "cell_type": "markdown",
   "metadata": {},
   "source": [
    "### <font color=red>DSP.B2.b) Gauss's normal law in action: Weights of nine-year-old Canadian boys</font>"
   ]
  },
  {
   "cell_type": "markdown",
   "metadata": {},
   "source": [
    "Here are the results of a study of a sample of Canadian nine-year-old boys with\n",
    "x = weight within 2.5 pounds and y = number of boys with weight x. Using x and y together, we can create a histogram to describe the sample.\n",
    "\n",
    "All weights are given within an accuracy of 2.5 pounds.\n",
    "\n",
    "Source: Mark Kac, Enigmas of Chance,\n",
    "    \n",
    "University of California Press, Berkeley, 1985."
   ]
  },
  {
   "cell_type": "code",
   "execution_count": null,
   "metadata": {},
   "outputs": [],
   "source": [
    "x = np.array([42,47,52,57,62,67,72,77,82,87,92,97,102,107,112,117])\n",
    "y = np.array([20,146,553,979,1084,807,468,180,103,41,25,21,11,5,5,3])\n",
    "x"
   ]
  },
  {
   "cell_type": "code",
   "execution_count": null,
   "metadata": {},
   "outputs": [],
   "source": [
    "y"
   ]
  },
  {
   "cell_type": "markdown",
   "metadata": {},
   "source": [
    "Calculate the average weight:"
   ]
  },
  {
   "cell_type": "code",
   "execution_count": null,
   "metadata": {},
   "outputs": [],
   "source": [
    "n = np.sum(y)\n",
    "weight_avg = np.sum(np.multiply(x,y)) / n\n",
    "weight_avg"
   ]
  },
  {
   "cell_type": "markdown",
   "metadata": {},
   "source": [
    "Take a look at a plot of the data:"
   ]
  },
  {
   "cell_type": "code",
   "execution_count": null,
   "metadata": {},
   "outputs": [],
   "source": [
    "plt.scatter(x, y, c =\"red\", s=100)\n",
    "plt.text(122,0,'weight',fontsize=15)\n",
    "plt.text(40,1150,'number with this weight',fontsize=15)\n",
    " \n",
    "# To show the plot\n",
    "plt.show()"
   ]
  },
  {
   "cell_type": "markdown",
   "metadata": {},
   "source": [
    "Is that bell-shaped, or what? Well, it tapers on both sides, but it doesn’t look very symmetrical. So\n",
    "maybe it’s not a normal distribution. However, we can model it as if it were normal. We might be\n",
    "surprised how things look after we do that.\n",
    "\n",
    "Come up with a value of mean, a value of t (as an approximation of mean), and a value of dev so that t normal[x,mean,dev] gives a\n",
    "good fit of these data."
   ]
  },
  {
   "cell_type": "markdown",
   "metadata": {},
   "source": [
    "Answer: Remember, the average weight is 63 pounds.\n",
    "\n",
    "Start by finding t and dev so that the plot of t normal[x,63,dev] does a good job of modeling the data.\n",
    "Make refinements later. Look at the data:"
   ]
  },
  {
   "cell_type": "code",
   "execution_count": null,
   "metadata": {},
   "outputs": [],
   "source": [
    "x"
   ]
  },
  {
   "cell_type": "code",
   "execution_count": null,
   "metadata": {},
   "outputs": [],
   "source": [
    "y"
   ]
  },
  {
   "cell_type": "markdown",
   "metadata": {},
   "source": [
    "The biggest y-slot is 1084; that is where you want the top of the bell to be. Notice that this happens near\n",
    "x = 63, the average weight:"
   ]
  },
  {
   "cell_type": "code",
   "execution_count": null,
   "metadata": {},
   "outputs": [],
   "source": [
    "plt.scatter(x, y, c =\"red\", s=100)\n",
    "plt.text(122,0,'weight',fontsize=15)\n",
    "plt.text(40,1150,'number with this weight',fontsize=15)\n",
    " \n",
    "# To show the plot\n",
    "plt.show()"
   ]
  },
  {
   "cell_type": "markdown",
   "metadata": {},
   "source": [
    "This means that it's a good idea at first to go with t and dev so that 1084 = t normal[63,63,dev].\n",
    "\n",
    "1084 = $\\frac{t}{dev\\sqrt{2\\pi}}$\n",
    "\n",
    "Now try dev = 4. Note: we're going to widen the x-axis - instead of spanning 40 to 120, it'll span 0 to 120."
   ]
  },
  {
   "cell_type": "code",
   "execution_count": null,
   "metadata": {},
   "outputs": [],
   "source": [
    "from scipy.stats import norm\n",
    "\n",
    "#x-axis ranges from 0 and 120 with .01 steps\n",
    "x2 = np.arange(0, 120, 0.01)\n",
    "dev = 4\n",
    "t = 1084 * dev * np.sqrt(2*np.pi)\n",
    "\n",
    "#define multiple normal distributions\n",
    "plt.plot(x2, t * norm.pdf(x2, 63, dev))\n",
    "\n",
    "plt.scatter(x, y, c =\"red\", s=100)\n",
    "plt.text(130,0,'weight',fontsize=15)\n",
    "plt.text(0,1150,'number with this weight',fontsize=15)\n",
    " \n",
    "# To show the plot\n",
    "plt.show()"
   ]
  },
  {
   "cell_type": "markdown",
   "metadata": {},
   "source": [
    "Increase dev from 4 to 8 to make the bell wider:"
   ]
  },
  {
   "cell_type": "code",
   "execution_count": null,
   "metadata": {},
   "outputs": [],
   "source": [
    "from scipy.stats import norm\n",
    "\n",
    "#x-axis ranges from 0 and 120 with .01 steps\n",
    "x2 = np.arange(0, 120, 0.01)\n",
    "dev = 8\n",
    "t = 1084 * dev * np.sqrt(2*np.pi)\n",
    "\n",
    "#define multiple normal distributions\n",
    "plt.plot(x2, t * norm.pdf(x2, 63, dev))\n",
    "\n",
    "plt.scatter(x, y, c =\"red\", s=100)\n",
    "plt.text(130,0,'weight',fontsize=15)\n",
    "plt.text(0,1150,'number with this weight',fontsize=15)\n",
    " \n",
    "# To show the plot\n",
    "plt.show()"
   ]
  },
  {
   "cell_type": "markdown",
   "metadata": {},
   "source": [
    "Lookin' pretty good.\n",
    "\n",
    "Refine it by shifting the plot a wee bit to the left:"
   ]
  },
  {
   "cell_type": "code",
   "execution_count": null,
   "metadata": {},
   "outputs": [],
   "source": [
    "from scipy.stats import norm\n",
    "\n",
    "#x-axis ranges from 0 and 120 with .01 steps\n",
    "x2 = np.arange(0, 120, 0.01)\n",
    "dev = 8\n",
    "t = 1084 * dev * np.sqrt(2*np.pi)\n",
    "\n",
    "#define multiple normal distributions\n",
    "plt.plot(x2, t * norm.pdf(x2, 62, dev))\n",
    "\n",
    "plt.scatter(x, y, c =\"red\", s=100)\n",
    "plt.text(130,0,'weight',fontsize=15)\n",
    "plt.text(0,1150,'number with this weight',fontsize=15)\n",
    " \n",
    "# To show the plot\n",
    "plt.show()"
   ]
  },
  {
   "cell_type": "markdown",
   "metadata": {},
   "source": [
    "That is really a pretty good fit. You might try for a better fit, but the data are rough enough that a supergood\n",
    "fit isn't realistic."
   ]
  },
  {
   "cell_type": "markdown",
   "metadata": {},
   "source": [
    "### <font color=red>DSP.B2.c) Gauss’s normal law: fraction of boys with a given weight</font>"
   ]
  },
  {
   "cell_type": "markdown",
   "metadata": {},
   "source": [
    "Look again at the data:"
   ]
  },
  {
   "cell_type": "code",
   "execution_count": null,
   "metadata": {},
   "outputs": [],
   "source": [
    "x"
   ]
  },
  {
   "cell_type": "code",
   "execution_count": null,
   "metadata": {},
   "outputs": [],
   "source": [
    "y"
   ]
  },
  {
   "cell_type": "markdown",
   "metadata": {},
   "source": [
    "This is in the form with x = weight within 2.5 pounds and y = number of boys with weight x.\n",
    "\n",
    "Convert to a new form so that y = the fraction of the total sample with weight x:"
   ]
  },
  {
   "cell_type": "code",
   "execution_count": null,
   "metadata": {},
   "outputs": [],
   "source": [
    "n = np.sum(y)\n",
    "y2 = np.divide(y,n)\n",
    "y2"
   ]
  },
  {
   "cell_type": "markdown",
   "metadata": {},
   "source": [
    "Remember, the weights are given to the nearest 2.5 pounds.\n",
    "\n",
    "Here are the fractions for the boys with weights between 49.5 pounds and 79.5 pounds:"
   ]
  },
  {
   "cell_type": "code",
   "execution_count": null,
   "metadata": {},
   "outputs": [],
   "source": [
    "mask = (x < 79.5) & (x > 49.5)\n",
    "x_frac = x[mask]\n",
    "y_frac = y2[mask]\n",
    "x_frac"
   ]
  },
  {
   "cell_type": "code",
   "execution_count": null,
   "metadata": {},
   "outputs": [],
   "source": [
    "y_frac"
   ]
  },
  {
   "cell_type": "markdown",
   "metadata": {},
   "source": [
    "The fraction of the boys with weights between 49.5 pounds and 79.5 pounds is:"
   ]
  },
  {
   "cell_type": "code",
   "execution_count": null,
   "metadata": {},
   "outputs": [],
   "source": [
    "np.sum(y_frac)"
   ]
  },
  {
   "cell_type": "markdown",
   "metadata": {},
   "source": [
    "Now take the function you got from the fit in part i), normal[x,62,8], and look at $\\int_{49.5}^{79.5} normal[x, 62, 8] dx$:"
   ]
  },
  {
   "cell_type": "code",
   "execution_count": null,
   "metadata": {},
   "outputs": [],
   "source": [
    "from scipy.stats import norm\n",
    "\n",
    "norm.cdf(79.5, loc=62, scale=8) - norm.cdf(49.5, loc=62, scale=8)"
   ]
  },
  {
   "cell_type": "markdown",
   "metadata": {},
   "source": [
    "This is very close to the fraction of the boys with weights between 49.5 pounds and 79.5 pounds. So, the norm distribution does a pretty good job of modeling the true distribution of weights.\n",
    "\n",
    "Try it again, for a different weight range."
   ]
  },
  {
   "cell_type": "code",
   "execution_count": null,
   "metadata": {},
   "outputs": [],
   "source": [
    "x"
   ]
  },
  {
   "cell_type": "code",
   "execution_count": null,
   "metadata": {},
   "outputs": [],
   "source": [
    "y2"
   ]
  },
  {
   "cell_type": "markdown",
   "metadata": {},
   "source": [
    "Remember, the weights are given to the nearest 2.5 pounds.\n",
    "\n",
    "Here are the fractions for the boys with weights between 54.5 pounds and 69.5 pounds:"
   ]
  },
  {
   "cell_type": "code",
   "execution_count": null,
   "metadata": {},
   "outputs": [],
   "source": [
    "mask = (x < 69.5) & (x > 54.5)\n",
    "x_frac = x[mask]\n",
    "y_frac = y2[mask]\n",
    "x_frac"
   ]
  },
  {
   "cell_type": "code",
   "execution_count": null,
   "metadata": {},
   "outputs": [],
   "source": [
    "y_frac"
   ]
  },
  {
   "cell_type": "markdown",
   "metadata": {},
   "source": [
    "The fraction of the boys with weights between 54.5 pounds and 69.5 pounds is:"
   ]
  },
  {
   "cell_type": "code",
   "execution_count": null,
   "metadata": {},
   "outputs": [],
   "source": [
    "np.sum(y_frac)"
   ]
  },
  {
   "cell_type": "markdown",
   "metadata": {},
   "source": [
    "Now take the function you got from the fit in part i), normal[x,62,8], and look at\n",
    "$\\int_{54.5}^{69.5} normal[x, 62, 8] dx$ :"
   ]
  },
  {
   "cell_type": "code",
   "execution_count": null,
   "metadata": {},
   "outputs": [],
   "source": [
    "from scipy.stats import norm\n",
    "\n",
    "norm.cdf(69.5, loc=62, scale=8) - norm.cdf(54.5, loc=62, scale=8)"
   ]
  },
  {
   "cell_type": "markdown",
   "metadata": {},
   "source": [
    "This is very close to the fraction of the boys whose weights measure out between 54.5 pounds and 69.5\n",
    "pounds.\n",
    "\n",
    "What is going on here?"
   ]
  },
  {
   "cell_type": "markdown",
   "metadata": {},
   "source": [
    "Answer: You're seeing Gauss's normal law in action.\n",
    "\n",
    "Once you have a good fit of the data as done above, you can estimate the fraction of weights that came\n",
    "out between a and b by calculating $\\int_{a}^{b} normal[x, 62, 8] dx$ ."
   ]
  },
  {
   "cell_type": "markdown",
   "metadata": {},
   "source": [
    "To see why this works, look at the last plot:"
   ]
  },
  {
   "cell_type": "code",
   "execution_count": null,
   "metadata": {},
   "outputs": [],
   "source": [
    "from scipy.stats import norm\n",
    "\n",
    "#x-axis ranges from 0 and 120 with .01 steps\n",
    "x2 = np.arange(0, 120, 0.01)\n",
    "dev = 8\n",
    "t = 1084 * dev * np.sqrt(2*np.pi)\n",
    "\n",
    "#define multiple normal distributions\n",
    "plt.plot(x2, t * norm.pdf(x2, 62, dev))\n",
    "\n",
    "plt.scatter(x, y, c =\"red\", s=100)\n",
    "plt.text(130,0,'weight',fontsize=15)\n",
    "plt.text(0,1150,'number with this weight',fontsize=15)\n",
    " \n",
    "# To show the plot\n",
    "plt.show()"
   ]
  },
  {
   "cell_type": "markdown",
   "metadata": {},
   "source": [
    "The curve plotted here is a multiple of normal[x,62,8].\n",
    "\n",
    "Here is the mathematical beauty of it:\n",
    "    \n",
    "Because $\\int_{-∞}^{∞} normal[x, mean, dev] dx$ = 1 no matter what mean and dev are, you are guaranteed that\n",
    "$\\int_{-∞}^{∞} normal[x, 38, 8] dx$ = 1."
   ]
  },
  {
   "cell_type": "markdown",
   "metadata": {},
   "source": [
    "The upshot:\n",
    "    \n",
    "$\\int_{a}^{b} normal[x, mean, dev] dx$ measures the fraction of the area under the plotted curve over the interval [ a,b ] on the x axis. And\n",
    "because this plotted curve is a good approximation of the data,$\\int_{a}^{b} normal[x, mean, dev] dx$ also estimates the fraction of the weights that are between a and b.\n",
    "That is all there is to it.\n",
    "\n",
    "This is especially useful when you want to estimate fractions of weights that aren't specifically\n",
    "included in the original data."
   ]
  },
  {
   "cell_type": "markdown",
   "metadata": {},
   "source": [
    "For instance, you can estimate the fraction of the boys whose weights are between 50 and 80 pounds\n",
    "by calculating:$\\int_{50}^{80} normal[x, 63, 8] dx$ :"
   ]
  },
  {
   "cell_type": "code",
   "execution_count": null,
   "metadata": {},
   "outputs": [],
   "source": [
    "from scipy.stats import norm\n",
    "\n",
    "norm.cdf(80, loc=63, scale=8) - norm.cdf(50, loc=63, scale=8)"
   ]
  },
  {
   "cell_type": "markdown",
   "metadata": {},
   "source": [
    "About 93 % of the boys had weights between 50 and 80 pounds. In other words, if you select one of the\n",
    "kids at random, about 93 % of the time you will select a kid whose weight is between 50 and 80 pounds.\n",
    "The fancy folks say that a kid has weight between 50 and 80 pounds with probability 0.93.\n",
    "\n",
    "To see what fraction of the kids have weights over 80 pounds, calculate\n",
    "$\\int_{80}^{∞} normal[x, 63, 8] dx$ :"
   ]
  },
  {
   "cell_type": "code",
   "execution_count": null,
   "metadata": {},
   "outputs": [],
   "source": [
    "from scipy.stats import norm\n",
    "\n",
    "1 - norm.cdf(80, loc=63, scale=8)"
   ]
  },
  {
   "cell_type": "markdown",
   "metadata": {},
   "source": [
    "About 2% of the boys had weights over 80 pounds. In other words, if you select one of the kids at\n",
    "random, about 2% of the time you will select a kid whose weight is over 80 pounds."
   ]
  },
  {
   "cell_type": "markdown",
   "metadata": {},
   "source": [
    "### <font color=red>DSP.B2.d) Normal Distributions: mean and standard deviation</font>"
   ]
  },
  {
   "cell_type": "markdown",
   "metadata": {},
   "source": [
    "What do folks mean when they say that a measurement M is normally distributed with mean = m and\n",
    "standard deviation = s?"
   ]
  },
  {
   "cell_type": "markdown",
   "metadata": {},
   "source": [
    "Answer: They mean that the fraction of the time that the measurement is between a and b is given by\n",
    "$\\int_{a}^{b} normal[x, m, s] dx$ .\n",
    "\n",
    "The work above indicates that the weights of the Canadian boys are approximately normally distributed\n",
    "with mean = 62 and standard deviation = 8, because you can get a reasonable estimate of the\n",
    "fraction of the weights between a and b by calculating\n",
    "$\\int_{a}^{b} normal[x, 62, 8] dx$ ."
   ]
  },
  {
   "cell_type": "markdown",
   "metadata": {},
   "source": [
    "### <font color=red>DSP.B2.e) Normal Distributions: mean and standard deviation</font>"
   ]
  },
  {
   "cell_type": "markdown",
   "metadata": {},
   "source": [
    "When you suspect that a measurement M is normally distributed, how do you determine the specific\n",
    "values of\n",
    "mean = m\n",
    "and\n",
    "standard deviation = s?"
   ]
  },
  {
   "cell_type": "markdown",
   "metadata": {},
   "source": [
    "Answer:\n",
    "    \n",
    "You get good data and then try to fit the data as we did earlier. Once you have a reasonable fit, you can\n",
    "read off mean = m and standard dev = s as we did above."
   ]
  },
  {
   "cell_type": "markdown",
   "metadata": {},
   "source": [
    "### <font color=red>DSP.B2.f) Are all distributions normal?</font>"
   ]
  },
  {
   "cell_type": "markdown",
   "metadata": {},
   "source": [
    "Are all measurements M normally distributed?"
   ]
  },
  {
   "cell_type": "markdown",
   "metadata": {},
   "source": [
    "Answer: No way.\n",
    "Statistics courses look at other possibilities. You can get a good idea of whether a given measurement is normally distributed by collecting data and trying to fit it as we did above. If you are successful, then\n",
    "you know that the measurement M is normally distributed, and you can read off the mean and standard\n",
    "deviation. If you're not able to find a pretty good fit, you conclude that the measurement is not normally\n",
    "distributed."
   ]
  },
  {
   "cell_type": "markdown",
   "metadata": {},
   "source": [
    "## <font color=red>DSP.04.B3) Characterizing Noise</font>"
   ]
  },
  {
   "cell_type": "markdown",
   "metadata": {},
   "source": [
    "### <font color=red>DSP.B3.a) Timeseries data with noise</font>"
   ]
  },
  {
   "cell_type": "markdown",
   "metadata": {},
   "source": [
    "In several previous examples, noise was added to timeseries or spatial patterns. Check out this\n",
    "timeseries of 30,000 random points (don't worry if it takes a few seconds to generate the plot - that's a lot\n",
    "of points)."
   ]
  },
  {
   "cell_type": "code",
   "execution_count": null,
   "metadata": {},
   "outputs": [],
   "source": [
    "x = np.arange(0, 30000, 1)\n",
    "noise = np.random.normal(0,1.5,30000)\n",
    "\n",
    "plt.scatter(x, noise, c =\"red\", s=1)\n",
    "plt.text(32000,0,'time', fontsize=15)\n",
    "plt.text(0,5.5,'amplitude', fontsize=15)\n",
    " \n",
    "# To show the plot\n",
    "plt.show()"
   ]
  },
  {
   "cell_type": "markdown",
   "metadata": {},
   "source": [
    "In the above code, the Python function 'np.random.normal' was used to create random noise.\n",
    "The function accepts three values - the first is the mean, the second is the standard deviation, and the third is number of points.\n",
    "It then chooses the latter number of values, randomly, from a normal curve. Take the dot product of the noise timeseries with itself and then calculate the mean (we could also say: convolve the noise timeseries with itself and then divide by the number of noise samples)."
   ]
  },
  {
   "cell_type": "code",
   "execution_count": null,
   "metadata": {},
   "outputs": [],
   "source": [
    "np.dot(noise,noise) / 30000"
   ]
  },
  {
   "cell_type": "markdown",
   "metadata": {},
   "source": [
    "Just about 2.27. Rerun the two cells above - in each case this mean value should be close to 2.25. \n",
    "\n",
    "Multiplying the noise timeseries with itself and then calculating the average value computes the\n",
    "variance."
   ]
  },
  {
   "cell_type": "markdown",
   "metadata": {},
   "source": [
    "You might know that the variance is formally computed as variance(X) = Mean[ (x - μ)2 ].\n",
    "That is, variance is the expected value of the square of the deviation of X from its own mean (μ).\n",
    "In the example above, because the mean value of the timeseries is zero (as long as enough samples are collected), there is no need to subtract\n",
    "the mean.\n",
    "\n",
    "The variance quantifies the amount of dispersion around the mean. Variance is the average of the\n",
    "square of the distance of each data point from the mean. The variance of a random variable X is typically\n",
    "designated as var(X), or $σ^{2}$.\n",
    "\n",
    "You may have learned about standard deviation and variance in a statistics class already. Or you may have learned an essentially identical idea\n",
    "under a different name: root mean square. Take the square root of the mean of the squared values in a vector, and you have RMS or standard\n",
    "deviation.\n",
    "\n",
    "The unit of variance is the square of the unit of observation. For example, the variance of a set of\n",
    "weights measured in pounds is given in square pounds. (That may sound strange, but it's no stranger than square meters.) In some contexts the\n",
    "square root of the variance, known as the standard deviation, is more useful summary of dispersion.\n",
    "In the code above, if you take a look, you will see that the standard deviation was set to 1.5. The variance\n",
    "of the 1.5 standard deviation value calculated above is indeed 2.25 ($1.5^{2}$ = 2.25). "
   ]
  },
  {
   "cell_type": "markdown",
   "metadata": {},
   "source": [
    "### <font color=red>DSP.B3.b) Noise - normal distributions and standard deviations</font>"
   ]
  },
  {
   "cell_type": "markdown",
   "metadata": {},
   "source": [
    "Check out this timeseries of 30,000 random points (don't worry if it takes a few seconds to generate the\n",
    "plot - that's a lot of points)."
   ]
  },
  {
   "cell_type": "code",
   "execution_count": null,
   "metadata": {},
   "outputs": [],
   "source": [
    "x = np.arange(0, 30000, 1)\n",
    "noise = np.random.normal(0,1,30000)\n",
    "\n",
    "plt.scatter(x, noise, c =\"red\", s=1)\n",
    "plt.text(32000,0,'time', fontsize=15)\n",
    "plt.text(0,3.5,'amplitude', fontsize=15)\n",
    "\n",
    "plt.show()"
   ]
  },
  {
   "cell_type": "markdown",
   "metadata": {},
   "source": [
    "To compute the variance, take the dot product of the noise timeseries with itself and then calculate the\n",
    "mean (we could also say: convolve the noise timeseries with itself and then divide by the number of noise samples)."
   ]
  },
  {
   "cell_type": "code",
   "execution_count": null,
   "metadata": {},
   "outputs": [],
   "source": [
    "np.dot(noise,noise) / 30000"
   ]
  },
  {
   "cell_type": "markdown",
   "metadata": {},
   "source": [
    "The variance is approximately 1. Thus, the standard deviation is $\\sqrt{1}$ = 1 (as shown in the 'np.random.normal'\n",
    "settings). \n",
    "\n",
    "If the noise is normally distributed, a standard deviation value of 1 tells us that 68.27% of the noise\n",
    "datapoints fall between +1/-1 standard deviations.\n",
    "\n",
    "Here is a plot of the noise with a line drawn from the y axis showing the +1/-1 standard deviation boundary."
   ]
  },
  {
   "cell_type": "code",
   "execution_count": null,
   "metadata": {},
   "outputs": [],
   "source": [
    "x = np.arange(0, 30000, 1)\n",
    "noise = np.random.normal(0,1,30000)\n",
    "\n",
    "plt.scatter(x, noise, c =\"red\", s=1)\n",
    "plt.text(32000,0,'time', fontsize=15)\n",
    "plt.text(0,3.5,'amplitude', fontsize=15)\n",
    "\n",
    "plt.axhline(y=1, color='k')\n",
    "plt.axhline(y=-1, color='k')\n",
    " \n",
    "# To show the plot\n",
    "plt.show()"
   ]
  },
  {
   "cell_type": "markdown",
   "metadata": {},
   "source": [
    "68.27% of the datapoints are contained within this +/- 1 standard deviation boundary.\n",
    "\n",
    "Redo this, now going out twice this distance on either side of the zero line."
   ]
  },
  {
   "cell_type": "code",
   "execution_count": null,
   "metadata": {},
   "outputs": [],
   "source": [
    "x = np.arange(0, 30000, 1)\n",
    "noise = np.random.normal(0,1,30000)\n",
    "\n",
    "plt.scatter(x, noise, c =\"red\", s=1)\n",
    "plt.text(32000,0,'time', fontsize=15)\n",
    "plt.text(0,3.5,'amplitude', fontsize=15)\n",
    "\n",
    "plt.axhline(y=2, color='k')\n",
    "plt.axhline(y=-2, color='k')\n",
    " \n",
    "# To show the plot\n",
    "plt.show()"
   ]
  },
  {
   "cell_type": "markdown",
   "metadata": {},
   "source": [
    "Datapoints plotted within the grey lines fall inside the 2 standard deviation boundary. 95.45% of the\n",
    "datapoints fall within this 2 standard deviation boundary.\n",
    "\n",
    "Go out 3 times the original standard deviation measure."
   ]
  },
  {
   "cell_type": "code",
   "execution_count": null,
   "metadata": {},
   "outputs": [],
   "source": [
    "x = np.arange(0, 30000, 1)\n",
    "noise = np.random.normal(0,1,30000)\n",
    "\n",
    "plt.scatter(x, noise, c =\"red\", s=1)\n",
    "plt.text(32000,0,'time', fontsize=15)\n",
    "plt.text(0,3.5,'amplitude', fontsize=15)\n",
    "\n",
    "plt.axhline(y=3, color='k')\n",
    "plt.axhline(y=-3, color='k')\n",
    " \n",
    "# To show the plot\n",
    "plt.show()"
   ]
  },
  {
   "cell_type": "markdown",
   "metadata": {},
   "source": [
    "99.73% of the datapoints fall within this 3 standard deviation boundary.\n",
    "Only a few points (0.27 %) fall outside the 3 SD boundary."
   ]
  },
  {
   "cell_type": "markdown",
   "metadata": {},
   "source": [
    "### <font color=red>DSP.B3.c) Noise - standard deviations and bell curves</font>"
   ]
  },
  {
   "cell_type": "markdown",
   "metadata": {},
   "source": [
    "In the examples above, the Numpy 'np.random.normal' function was used to set the noise\n",
    "mean and standard deviation parameters.\n",
    "\n",
    "In this next example, in the 'np.random.normal' function call, the first argument value (the mean) is set to zero, and the\n",
    "argument value (the standard deviation) is set to 0.5. Via the third argument value, we again generate 30,000 random values from that normal distribution."
   ]
  },
  {
   "cell_type": "code",
   "execution_count": null,
   "metadata": {},
   "outputs": [],
   "source": [
    "x = np.arange(0, 30000, 1)\n",
    "noise = np.random.normal(0,0.5,30000)\n",
    "\n",
    "plt.scatter(x, noise, c =\"red\", s=1)\n",
    "plt.text(32000,0,'time', fontsize=15)\n",
    "plt.text(0,1.5,'amplitude', fontsize=15)\n",
    "\n",
    "plt.axhline(y=1, color='k')\n",
    "plt.axhline(y=-1.9, color='k')\n",
    " \n",
    "# To show the plot\n",
    "plt.show()"
   ]
  },
  {
   "cell_type": "markdown",
   "metadata": {},
   "source": [
    "Next, we'll set the standard deviation argument value to 2.0."
   ]
  },
  {
   "cell_type": "code",
   "execution_count": null,
   "metadata": {},
   "outputs": [],
   "source": [
    "x = np.arange(0, 30000, 1)\n",
    "noise = np.random.normal(0,2,30000)\n",
    "\n",
    "plt.scatter(x, noise, c =\"red\", s=1)\n",
    "plt.text(32000,0,'time', fontsize=15)\n",
    "plt.text(0,8,'amplitude', fontsize=15)\n",
    "\n",
    "plt.axhline(y=2, color='k')\n",
    "plt.axhline(y=-2, color='k')\n",
    " \n",
    "# To show the plot\n",
    "plt.show()"
   ]
  },
  {
   "cell_type": "markdown",
   "metadata": {},
   "source": [
    "Notice the change in the y axis. Relatively speaking, the smaller the variance value, the less noise there\n",
    "is. The larger the variance value, the more noise and thus the wider the spread of points along the y axis.\n",
    "\n",
    "We can show this normal distribution differently."
   ]
  },
  {
   "cell_type": "code",
   "execution_count": null,
   "metadata": {},
   "outputs": [],
   "source": [
    "from scipy.stats import norm\n",
    "\n",
    "x = np.arange(-5,5,0.01)\n",
    "plt.plot(x, norm.pdf(x, 0, 1))\n",
    "\n",
    " \n",
    "# To show the plot\n",
    "plt.show()"
   ]
  },
  {
   "cell_type": "code",
   "execution_count": null,
   "metadata": {},
   "outputs": [],
   "source": [
    "# A custom function to calculate probability distribution function \n",
    "def pdf(x,m,std):      \n",
    "    y_out = 1/(std * np.sqrt(2 * np.pi)) * np.exp( - (x - m)**2 / (2 * std**2)) \n",
    "    return y_out \n",
    "\n",
    "# To generate an array of x-values \n",
    "x = np.arange(-5, 5, 0.1) \n",
    "\n",
    "# To generate an array of \n",
    "# y-values using corresponding x-values \n",
    "y = pdf(x,0,1) \n",
    "\n",
    "# Plotting the bell-shaped curve \n",
    "plt.plot(x, y) \n",
    "plt.show()"
   ]
  },
  {
   "cell_type": "markdown",
   "metadata": {},
   "source": [
    "As discussed above in Section B.2, this distribution is called a normal distribution. Think of the noise values\n",
    "falling inside the bell-shaped curve, so that the shape of the distribution is essentialy the envelope of a histogram of the values.\n",
    "\n",
    "The peak shows where most of the noise datapoints fall (the mean). Very few noise datapoints fall at\n",
    "the tails.\n",
    "\n",
    "As shown in Section B.2, an interesting feature of the normal distribution is that the total area under\n",
    "the curve sums to 1, no matter what the standard deviation is."
   ]
  },
  {
   "cell_type": "code",
   "execution_count": null,
   "metadata": {},
   "outputs": [],
   "source": [
    "from sympy import *\n",
    "\n",
    "x = Symbol('x')\n",
    "bell = 1/(sqrt(2 * np.pi) * exp( x**2 / 2))\n",
    "\n",
    "area = round(integrate(bell,(x,-oo,oo) ))\n",
    "area"
   ]
  },
  {
   "cell_type": "markdown",
   "metadata": {},
   "source": [
    "We can change the mean and standard deviation parameters to see how this distribution behaves.\n",
    "\n",
    "Here the SD is set to 0.5."
   ]
  },
  {
   "cell_type": "code",
   "execution_count": null,
   "metadata": {},
   "outputs": [],
   "source": [
    "from scipy.stats import norm\n",
    "\n",
    "x = np.arange(-5,5,0.01)\n",
    "plt.plot(x, norm.pdf(x, 0, 0.5))\n",
    "\n",
    " \n",
    "# To show the plot\n",
    "plt.show()"
   ]
  },
  {
   "cell_type": "markdown",
   "metadata": {},
   "source": [
    "Here the SD is set to 2.0."
   ]
  },
  {
   "cell_type": "code",
   "execution_count": null,
   "metadata": {},
   "outputs": [],
   "source": [
    "from scipy.stats import norm\n",
    "\n",
    "x = np.arange(-10,10,0.01)\n",
    "plt.plot(x, norm.pdf(x, 0, 2))\n",
    "\n",
    " \n",
    "# To show the plot\n",
    "plt.show()"
   ]
  },
  {
   "cell_type": "markdown",
   "metadata": {},
   "source": [
    "Remember: the area under the idea curve is always 1.0."
   ]
  },
  {
   "cell_type": "markdown",
   "metadata": {},
   "source": [
    "Observations:\n",
    "    \n",
    "→ The plot of normal[x,mean,dev] crests when x = mean.\n",
    "\n",
    "→ Smaller values of dev force a thinner, higher bell than do larger values of dev.\n",
    "\n",
    "This is shown in the noise distribution plotted above. Plugging in a smaller standard deviation \"dev\" value compresses all\n",
    "the datapoints into a narrow range. "
   ]
  },
  {
   "cell_type": "code",
   "execution_count": null,
   "metadata": {},
   "outputs": [],
   "source": [
    "x = np.arange(0, 30000, 1)\n",
    "noise = np.random.normal(0,0.5,30000)\n",
    "\n",
    "plt.scatter(x, noise, c =\"red\", s=1)\n",
    "plt.text(32000,0,'time', fontsize=15)\n",
    "plt.text(0,1.9,'amplitude', fontsize=15)\n",
    "\n",
    "plt.axhline(y=0.5, color='k')\n",
    "plt.axhline(y=-0.5, color='k')\n",
    " \n",
    "# To show the plot\n",
    "plt.show()"
   ]
  },
  {
   "cell_type": "markdown",
   "metadata": {},
   "source": [
    "Most of the values fall between +/- 0.5. In fact, because the standard deviation is 0.5, we know that 68.27% of the\n",
    "values fall within the 1 standard deviation boundary (the distance from -0.5 to +0.5 is 1).\n",
    "\n",
    "Plugging in a larger standard deviation value spreads the datapoints out across a larger range on the y axis."
   ]
  },
  {
   "cell_type": "code",
   "execution_count": null,
   "metadata": {},
   "outputs": [],
   "source": [
    "x = np.arange(0, 30000, 1)\n",
    "noise = np.random.normal(0,2,30000)\n",
    "\n",
    "plt.scatter(x, noise, c =\"red\", s=1)\n",
    "plt.text(32000,0,'time', fontsize=15)\n",
    "plt.text(0,8,'amplitude', fontsize=15)\n",
    "\n",
    "plt.axhline(y=2, color='k')\n",
    "plt.axhline(y=-2, color='k')\n",
    " \n",
    "# To show the plot\n",
    "plt.show()"
   ]
  },
  {
   "cell_type": "markdown",
   "metadata": {},
   "source": [
    "Notice the change in the y axis.\n",
    "\n",
    "Compare normal distribution curves with the different standard deviation terms. "
   ]
  },
  {
   "cell_type": "code",
   "execution_count": null,
   "metadata": {},
   "outputs": [],
   "source": [
    "from scipy.stats import norm\n",
    "\n",
    "x = np.arange(-5,5,0.01)\n",
    "plt.plot(x, norm.pdf(x, 0, 0.5)) \n",
    "# To show the plot\n",
    "plt.show()\n",
    "\n",
    "x = np.arange(-10,10,0.01)\n",
    "plt.plot(x, norm.pdf(x, 0, 2)) \n",
    "# To show the plot\n",
    "plt.show()"
   ]
  },
  {
   "cell_type": "markdown",
   "metadata": {},
   "source": [
    "When the standard deviation term is small (0.5), most of the values fall between +1.5/-1.5 (boundaries at\n",
    "3 times the standard deviation).\n",
    "\n",
    "When the standard deviation term is larger (2.0), the values are spread out over a larger range +6/-6\n",
    "(boundaries at 3 times the standard deviation)."
   ]
  },
  {
   "cell_type": "markdown",
   "metadata": {},
   "source": [
    "## <font color=red>DSP.04.B4)Spatial Patterns with Noise</font>"
   ]
  },
  {
   "cell_type": "markdown",
   "metadata": {},
   "source": [
    "### <font color=red>DSP.04.B4.a) Spatial Patterns with Noise</font>"
   ]
  },
  {
   "cell_type": "markdown",
   "metadata": {},
   "source": [
    "Let's switch from time to space. Create a spatial pattern."
   ]
  },
  {
   "cell_type": "code",
   "execution_count": null,
   "metadata": {},
   "outputs": [],
   "source": [
    "x = np.arange(0,1, 0.01)\n",
    "y = np.arange(1, 0, -0.01)\n",
    "\n",
    "X, Y = np.meshgrid(x, y)\n",
    "Z = np.sin(2*np.pi * 10 * X) \n",
    "\n",
    "plt.imshow(Z)\n",
    "plt.show()"
   ]
  },
  {
   "cell_type": "markdown",
   "metadata": {},
   "source": [
    "Now let's work in 2D. Here is a matrix of random numbers. The matrix of random numbers is the same size as the spatial\n",
    "pattern above."
   ]
  },
  {
   "cell_type": "code",
   "execution_count": null,
   "metadata": {
    "scrolled": true
   },
   "outputs": [],
   "source": [
    "noise = np.random.random((len(x), len(x)))\n",
    "plt.imshow(noise)\n",
    "plt.show()"
   ]
  },
  {
   "cell_type": "markdown",
   "metadata": {},
   "source": [
    "Add the original 1D sinusoidal spatial pattern to the noise."
   ]
  },
  {
   "cell_type": "code",
   "execution_count": null,
   "metadata": {},
   "outputs": [],
   "source": [
    "Z2 = Z + noise\n",
    "plt.imshow(Z2)\n",
    "plt.show()"
   ]
  },
  {
   "cell_type": "markdown",
   "metadata": {},
   "source": [
    "Although you can see the sinusoidal original pattern, the image is distorted.\n",
    "Can convolution be used to remove the noise?"
   ]
  },
  {
   "cell_type": "markdown",
   "metadata": {},
   "source": [
    "Answer:\n",
    "    \n",
    "Kind of (how's that for an answer?)."
   ]
  },
  {
   "cell_type": "markdown",
   "metadata": {},
   "source": [
    "Because the noise is random, it's not possible to remove activity at any specific frequency. (As we\n",
    "learned in Lesson 2, random noise may contain equal activity at all frequencies. Random noise can also have an unequal distribution across frequencies - and still be random.)"
   ]
  },
  {
   "cell_type": "markdown",
   "metadata": {},
   "source": [
    "Check it out. The code below selects a single row of the above spatial pattern and computes a\n",
    "spectrum plot for activity in that column. (In these examples the frequency is the same across all\n",
    "rows, so we just need to compute the spectrum for a single row.)"
   ]
  },
  {
   "cell_type": "code",
   "execution_count": null,
   "metadata": {},
   "outputs": [],
   "source": [
    "row = Z2[0,:]\n",
    "make_plot_freq_1(row,100)\n",
    "\n",
    "# Adding text to the figure\n",
    "plt.text(51,0,'Hz',fontsize=15)\n",
    "plt.show()"
   ]
  },
  {
   "cell_type": "markdown",
   "metadata": {},
   "source": [
    "A clear peak at 10 Hz, from the signal, but smaller amounts of activity are observed at other frequencies,\n",
    "from the noise.\n",
    "\n",
    "We can convolve using the 'moving average' kernel to create a filtered spatial pattern.\n",
    "\n",
    "Create a 3 X 3 square matrix with constant values of the reciprocal of the size of the matrix."
   ]
  },
  {
   "cell_type": "code",
   "execution_count": null,
   "metadata": {},
   "outputs": [],
   "source": [
    "kernel = np.array([[1/9, 1/9, 1/9],\n",
    "                   [1/9, 1/9, 1/9],\n",
    "                   [1/9, 1/9, 1/9]]) "
   ]
  },
  {
   "cell_type": "markdown",
   "metadata": {},
   "source": [
    "What activity will a kernel of size three remove? 100 datapoints were collected in each direction and\n",
    "100/30 = 3.333 . Thus a kernel of size three should primarily remove 33 Hz activity and related frequencies.\n",
    "\n",
    "Take another look."
   ]
  },
  {
   "cell_type": "code",
   "execution_count": null,
   "metadata": {},
   "outputs": [],
   "source": [
    "from scipy import signal\n",
    "                  \n",
    "Zfiltered = signal.convolve2d(Z2,kernel,boundary='symm', mode='same')\n",
    "plt.imshow(Zfiltered)\n",
    "plt.show()"
   ]
  },
  {
   "cell_type": "markdown",
   "metadata": {},
   "source": [
    "The filtered image more closely approximates the original image, although significant distortion is still\n",
    "present.\n",
    "\n",
    "This is because the noise is not represented by a single frequency.\n",
    "\n",
    "Change the size of the filter kernel to see if a better image can be obtained.\n",
    "\n",
    "Try a smaller kernel. A kernel of size two will remove 50 Hz activity."
   ]
  },
  {
   "cell_type": "code",
   "execution_count": null,
   "metadata": {},
   "outputs": [],
   "source": [
    "from scipy import signal\n",
    "\n",
    "kernel = np.array([[1/4, 1/4],\n",
    "                   [1/4, 1/4]]) \n",
    "\n",
    "Zfiltered = signal.convolve2d(Z2,kernel,boundary='symm', mode='same')\n",
    "plt.imshow(Zfiltered)\n",
    "plt.show()"
   ]
  },
  {
   "cell_type": "markdown",
   "metadata": {},
   "source": [
    "Try a larger kernel. Beware, though: this larger kernel may start to introduce 'blurring'."
   ]
  },
  {
   "cell_type": "code",
   "execution_count": null,
   "metadata": {},
   "outputs": [],
   "source": [
    "from scipy import signal\n",
    "\n",
    "kernel = np.array([[1/16, 1/16, 1/16, 1/16],\n",
    "                   [1/16, 1/16, 1/16, 1/16],\n",
    "                   [1/16, 1/16, 1/16, 1/16],\n",
    "                   [1/16, 1/16, 1/16, 1/16]])  \n",
    "\n",
    "Zfiltered = signal.convolve2d(Z2,kernel,boundary='symm', mode='same')\n",
    "plt.imshow(Zfiltered)\n",
    "plt.show()"
   ]
  },
  {
   "cell_type": "markdown",
   "metadata": {},
   "source": [
    "Yup. As the kernel size increases the image starts to 'blur'.\n",
    "\n",
    "Because the spatial pattern contains activity at all frequencies (from the noise we included in it), the moving-average convolution technique\n",
    "doesn't optimally remove the noise."
   ]
  },
  {
   "cell_type": "markdown",
   "metadata": {},
   "source": [
    "### <font color=red>DSP.04.B4.b) Averaging spatial data</font>"
   ]
  },
  {
   "cell_type": "markdown",
   "metadata": {},
   "source": [
    "Create a spatial dataset with noise"
   ]
  },
  {
   "cell_type": "code",
   "execution_count": null,
   "metadata": {},
   "outputs": [],
   "source": [
    "x = np.arange(0,1, 0.01)\n",
    "y = np.arange(1, 0, -0.01)\n",
    "\n",
    "X, Y = np.meshgrid(x, y)\n",
    "Z = np.sin(2*np.pi * 10 * X)\n",
    "\n",
    "noise = np.random.random((len(x), len(x)))\n",
    "\n",
    "Z2 = Z + noise\n",
    "plt.imshow(Z2)\n",
    "plt.show()"
   ]
  },
  {
   "cell_type": "markdown",
   "metadata": {},
   "source": [
    "An averaging procedure can be used to remove random noise from a spatial dataset. In particular, as\n",
    "long as the noise is random and the signal stable across instances of the dataset: by collecting and averaging more instances, the signal\n",
    "will remain and noise will average out - because the noise is random.\n",
    "\n",
    "The code below creates multiple 10 Hz spatial patterns with noise. For each 10 Hz sample, the 10 Hz\n",
    "activity is constant, but the noise is random.\n",
    "\n",
    "Obtain 5 averages."
   ]
  },
  {
   "cell_type": "code",
   "execution_count": null,
   "metadata": {},
   "outputs": [],
   "source": [
    "x = np.arange(0,1, 0.01)\n",
    "y = np.arange(1,0,-0.01)\n",
    "\n",
    "X, Y = np.meshgrid(x, y)\n",
    "Z = np.sin(2*np.pi * 10 * X)\n",
    "\n",
    "noise_all = np.zeros((15, len(x), len(x))) #Set number of averages (5 or larger)\n",
    "for n in range(4):\n",
    "    noise_all[n,:] = np.random.random((len(x), len(x)))\n",
    "\n",
    "noise = noise_all.mean(axis=0)\n",
    "\n",
    "Z2 = Z + noise\n",
    "plt.imshow(Z2)\n",
    "plt.show()"
   ]
  },
  {
   "cell_type": "markdown",
   "metadata": {},
   "source": [
    "Increase the '5' value to see how many samples need to be collected to remove most of the\n",
    "noise.\n",
    "\n",
    "Can you remove all the noise?"
   ]
  },
  {
   "cell_type": "code",
   "execution_count": null,
   "metadata": {},
   "outputs": [],
   "source": []
  }
 ],
 "metadata": {
  "kernelspec": {
   "display_name": "Python 3 (ipykernel)",
   "language": "python",
   "name": "python3"
  },
  "language_info": {
   "codemirror_mode": {
    "name": "ipython",
    "version": 3
   },
   "file_extension": ".py",
   "mimetype": "text/x-python",
   "name": "python",
   "nbconvert_exporter": "python",
   "pygments_lexer": "ipython3",
   "version": "3.11.4"
  }
 },
 "nbformat": 4,
 "nbformat_minor": 4
}
